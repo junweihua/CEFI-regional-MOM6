{
 "cells": [
  {
   "cell_type": "code",
   "execution_count": 1,
   "id": "221eee83",
   "metadata": {},
   "outputs": [],
   "source": [
    "import copernicusmarine\n",
    "import pandas as pd\n",
    "import numpy as np\n",
    "import os"
   ]
  },
  {
   "cell_type": "code",
   "execution_count": null,
   "id": "1de13de5",
   "metadata": {},
   "outputs": [
    {
     "name": "stderr",
     "output_type": "stream",
     "text": [
      "INFO - 2025-10-17T03:17:04Z - Selected dataset version: \"202311\"\n",
      "INFO - 2025-10-17T03:17:04Z - Selected dataset part: \"default\"\n",
      "INFO - 2025-10-17T03:17:08Z - Starting download. Please wait...\n"
     ]
    },
    {
     "data": {
      "application/vnd.jupyter.widget-view+json": {
       "model_id": "dccd943e007242deb20a6e4ae3ae48b5",
       "version_major": 2,
       "version_minor": 0
      },
      "text/plain": [
       "  0%|          | 0/70 [00:00<?, ?it/s]"
      ]
     },
     "metadata": {},
     "output_type": "display_data"
    },
    {
     "name": "stderr",
     "output_type": "stream",
     "text": [
      "INFO - 2025-10-17T03:19:23Z - Successfully downloaded to glory_data_interim_daily/glory_2021-07-01.nc\n",
      "INFO - 2025-10-17T03:19:26Z - Selected dataset version: \"202311\"\n",
      "INFO - 2025-10-17T03:19:26Z - Selected dataset part: \"default\"\n",
      "INFO - 2025-10-17T03:19:29Z - Starting download. Please wait...\n"
     ]
    },
    {
     "data": {
      "application/vnd.jupyter.widget-view+json": {
       "model_id": "ff9eb2252cdf4e13b25c5d45fb2482d6",
       "version_major": 2,
       "version_minor": 0
      },
      "text/plain": [
       "  0%|          | 0/70 [00:00<?, ?it/s]"
      ]
     },
     "metadata": {},
     "output_type": "display_data"
    },
    {
     "name": "stderr",
     "output_type": "stream",
     "text": [
      "INFO - 2025-10-17T03:21:49Z - Successfully downloaded to glory_data_interim_daily/glory_2021-07-02.nc\n",
      "INFO - 2025-10-17T03:21:51Z - Selected dataset version: \"202311\"\n",
      "INFO - 2025-10-17T03:21:51Z - Selected dataset part: \"default\"\n",
      "INFO - 2025-10-17T03:21:54Z - Starting download. Please wait...\n"
     ]
    },
    {
     "data": {
      "application/vnd.jupyter.widget-view+json": {
       "model_id": "47978bf50b9143afbd9298f488143f30",
       "version_major": 2,
       "version_minor": 0
      },
      "text/plain": [
       "  0%|          | 0/70 [00:00<?, ?it/s]"
      ]
     },
     "metadata": {},
     "output_type": "display_data"
    },
    {
     "name": "stderr",
     "output_type": "stream",
     "text": [
      "INFO - 2025-10-17T03:24:16Z - Successfully downloaded to glory_data_interim_daily/glory_2021-07-03.nc\n",
      "INFO - 2025-10-17T03:24:18Z - Selected dataset version: \"202311\"\n",
      "INFO - 2025-10-17T03:24:18Z - Selected dataset part: \"default\"\n",
      "INFO - 2025-10-17T03:24:21Z - Starting download. Please wait...\n"
     ]
    },
    {
     "data": {
      "application/vnd.jupyter.widget-view+json": {
       "model_id": "a25db73e0b364fff824e6ad7ed47da81",
       "version_major": 2,
       "version_minor": 0
      },
      "text/plain": [
       "  0%|          | 0/70 [00:00<?, ?it/s]"
      ]
     },
     "metadata": {},
     "output_type": "display_data"
    },
    {
     "name": "stderr",
     "output_type": "stream",
     "text": [
      "INFO - 2025-10-17T03:26:37Z - Successfully downloaded to glory_data_interim_daily/glory_2021-07-04.nc\n",
      "INFO - 2025-10-17T03:26:40Z - Selected dataset version: \"202311\"\n",
      "INFO - 2025-10-17T03:26:40Z - Selected dataset part: \"default\"\n",
      "INFO - 2025-10-17T03:26:43Z - Starting download. Please wait...\n"
     ]
    },
    {
     "data": {
      "application/vnd.jupyter.widget-view+json": {
       "model_id": "3d63f05df22a41858e5c7328b025f4b0",
       "version_major": 2,
       "version_minor": 0
      },
      "text/plain": [
       "  0%|          | 0/70 [00:00<?, ?it/s]"
      ]
     },
     "metadata": {},
     "output_type": "display_data"
    },
    {
     "name": "stderr",
     "output_type": "stream",
     "text": [
      "INFO - 2025-10-17T03:29:07Z - Successfully downloaded to glory_data_interim_daily/glory_2021-07-05.nc\n",
      "INFO - 2025-10-17T03:29:10Z - Selected dataset version: \"202311\"\n",
      "INFO - 2025-10-17T03:29:10Z - Selected dataset part: \"default\"\n",
      "INFO - 2025-10-17T03:29:13Z - Starting download. Please wait...\n"
     ]
    },
    {
     "data": {
      "application/vnd.jupyter.widget-view+json": {
       "model_id": "8ba457351342419b8534f97e9229c5c0",
       "version_major": 2,
       "version_minor": 0
      },
      "text/plain": [
       "  0%|          | 0/70 [00:00<?, ?it/s]"
      ]
     },
     "metadata": {},
     "output_type": "display_data"
    },
    {
     "name": "stderr",
     "output_type": "stream",
     "text": [
      "INFO - 2025-10-17T03:31:32Z - Successfully downloaded to glory_data_interim_daily/glory_2021-07-06.nc\n",
      "INFO - 2025-10-17T03:31:35Z - Selected dataset version: \"202311\"\n",
      "INFO - 2025-10-17T03:31:35Z - Selected dataset part: \"default\"\n",
      "INFO - 2025-10-17T03:31:38Z - Starting download. Please wait...\n"
     ]
    },
    {
     "data": {
      "application/vnd.jupyter.widget-view+json": {
       "model_id": "f04d9d54ba7848ff805ff8f47edb529e",
       "version_major": 2,
       "version_minor": 0
      },
      "text/plain": [
       "  0%|          | 0/70 [00:00<?, ?it/s]"
      ]
     },
     "metadata": {},
     "output_type": "display_data"
    },
    {
     "name": "stderr",
     "output_type": "stream",
     "text": [
      "INFO - 2025-10-17T03:33:54Z - Successfully downloaded to glory_data_interim_daily/glory_2021-07-07.nc\n",
      "INFO - 2025-10-17T03:33:57Z - Selected dataset version: \"202311\"\n",
      "INFO - 2025-10-17T03:33:57Z - Selected dataset part: \"default\"\n",
      "INFO - 2025-10-17T03:33:59Z - Starting download. Please wait...\n"
     ]
    },
    {
     "data": {
      "application/vnd.jupyter.widget-view+json": {
       "model_id": "f9bab511116046bab494cc754afbaf34",
       "version_major": 2,
       "version_minor": 0
      },
      "text/plain": [
       "  0%|          | 0/70 [00:00<?, ?it/s]"
      ]
     },
     "metadata": {},
     "output_type": "display_data"
    },
    {
     "name": "stderr",
     "output_type": "stream",
     "text": [
      "INFO - 2025-10-17T03:36:10Z - Successfully downloaded to glory_data_interim_daily/glory_2021-07-08.nc\n",
      "INFO - 2025-10-17T03:36:13Z - Selected dataset version: \"202311\"\n",
      "INFO - 2025-10-17T03:36:13Z - Selected dataset part: \"default\"\n",
      "INFO - 2025-10-17T03:36:16Z - Starting download. Please wait...\n"
     ]
    },
    {
     "data": {
      "application/vnd.jupyter.widget-view+json": {
       "model_id": "38a3eb3fa81f49e59b21b17bd8aeccf6",
       "version_major": 2,
       "version_minor": 0
      },
      "text/plain": [
       "  0%|          | 0/70 [00:00<?, ?it/s]"
      ]
     },
     "metadata": {},
     "output_type": "display_data"
    },
    {
     "name": "stderr",
     "output_type": "stream",
     "text": [
      "INFO - 2025-10-17T03:38:33Z - Successfully downloaded to glory_data_interim_daily/glory_2021-07-09.nc\n",
      "INFO - 2025-10-17T03:38:35Z - Selected dataset version: \"202311\"\n",
      "INFO - 2025-10-17T03:38:35Z - Selected dataset part: \"default\"\n",
      "INFO - 2025-10-17T03:38:38Z - Starting download. Please wait...\n"
     ]
    },
    {
     "data": {
      "application/vnd.jupyter.widget-view+json": {
       "model_id": "bf80af523cc14a44b7e5adf44a1b1d2e",
       "version_major": 2,
       "version_minor": 0
      },
      "text/plain": [
       "  0%|          | 0/70 [00:00<?, ?it/s]"
      ]
     },
     "metadata": {},
     "output_type": "display_data"
    },
    {
     "name": "stderr",
     "output_type": "stream",
     "text": [
      "INFO - 2025-10-17T03:40:59Z - Successfully downloaded to glory_data_interim_daily/glory_2021-07-10.nc\n",
      "INFO - 2025-10-17T03:41:02Z - Selected dataset version: \"202311\"\n",
      "INFO - 2025-10-17T03:41:02Z - Selected dataset part: \"default\"\n",
      "INFO - 2025-10-17T03:41:05Z - Starting download. Please wait...\n"
     ]
    },
    {
     "data": {
      "application/vnd.jupyter.widget-view+json": {
       "model_id": "6fbad76b297b42fb98e7e0175e1e1b30",
       "version_major": 2,
       "version_minor": 0
      },
      "text/plain": [
       "  0%|          | 0/70 [00:00<?, ?it/s]"
      ]
     },
     "metadata": {},
     "output_type": "display_data"
    },
    {
     "name": "stderr",
     "output_type": "stream",
     "text": [
      "INFO - 2025-10-17T03:43:28Z - Successfully downloaded to glory_data_interim_daily/glory_2021-07-11.nc\n",
      "INFO - 2025-10-17T03:43:31Z - Selected dataset version: \"202311\"\n",
      "INFO - 2025-10-17T03:43:31Z - Selected dataset part: \"default\"\n",
      "INFO - 2025-10-17T03:43:33Z - Starting download. Please wait...\n"
     ]
    },
    {
     "data": {
      "application/vnd.jupyter.widget-view+json": {
       "model_id": "22efba5cf38f4fd2b5d61a6bf3569c9e",
       "version_major": 2,
       "version_minor": 0
      },
      "text/plain": [
       "  0%|          | 0/70 [00:00<?, ?it/s]"
      ]
     },
     "metadata": {},
     "output_type": "display_data"
    },
    {
     "name": "stderr",
     "output_type": "stream",
     "text": [
      "INFO - 2025-10-17T03:45:53Z - Successfully downloaded to glory_data_interim_daily/glory_2021-07-12.nc\n",
      "INFO - 2025-10-17T03:45:58Z - Selected dataset version: \"202311\"\n",
      "INFO - 2025-10-17T03:45:58Z - Selected dataset part: \"default\"\n",
      "INFO - 2025-10-17T03:46:01Z - Starting download. Please wait...\n"
     ]
    },
    {
     "data": {
      "application/vnd.jupyter.widget-view+json": {
       "model_id": "487206a0abb9482ca1ffed5324ef9424",
       "version_major": 2,
       "version_minor": 0
      },
      "text/plain": [
       "  0%|          | 0/70 [00:00<?, ?it/s]"
      ]
     },
     "metadata": {},
     "output_type": "display_data"
    },
    {
     "name": "stderr",
     "output_type": "stream",
     "text": [
      "INFO - 2025-10-17T03:48:25Z - Successfully downloaded to glory_data_interim_daily/glory_2021-07-13.nc\n",
      "INFO - 2025-10-17T03:48:27Z - Selected dataset version: \"202311\"\n",
      "INFO - 2025-10-17T03:48:27Z - Selected dataset part: \"default\"\n",
      "INFO - 2025-10-17T03:48:30Z - Starting download. Please wait...\n"
     ]
    },
    {
     "data": {
      "application/vnd.jupyter.widget-view+json": {
       "model_id": "00e7dce635e54a59aff46055609ca75a",
       "version_major": 2,
       "version_minor": 0
      },
      "text/plain": [
       "  0%|          | 0/70 [00:00<?, ?it/s]"
      ]
     },
     "metadata": {},
     "output_type": "display_data"
    },
    {
     "name": "stderr",
     "output_type": "stream",
     "text": [
      "INFO - 2025-10-17T03:50:43Z - Successfully downloaded to glory_data_interim_daily/glory_2021-07-14.nc\n",
      "INFO - 2025-10-17T03:50:46Z - Selected dataset version: \"202311\"\n",
      "INFO - 2025-10-17T03:50:46Z - Selected dataset part: \"default\"\n",
      "INFO - 2025-10-17T03:50:49Z - Starting download. Please wait...\n"
     ]
    },
    {
     "data": {
      "application/vnd.jupyter.widget-view+json": {
       "model_id": "a45808e52c1f4c5f9018967f51c23c5f",
       "version_major": 2,
       "version_minor": 0
      },
      "text/plain": [
       "  0%|          | 0/70 [00:00<?, ?it/s]"
      ]
     },
     "metadata": {},
     "output_type": "display_data"
    },
    {
     "name": "stderr",
     "output_type": "stream",
     "text": [
      "INFO - 2025-10-17T03:53:06Z - Successfully downloaded to glory_data_interim_daily/glory_2021-07-15.nc\n",
      "INFO - 2025-10-17T03:53:09Z - Selected dataset version: \"202311\"\n",
      "INFO - 2025-10-17T03:53:09Z - Selected dataset part: \"default\"\n",
      "INFO - 2025-10-17T03:53:12Z - Starting download. Please wait...\n"
     ]
    },
    {
     "data": {
      "application/vnd.jupyter.widget-view+json": {
       "model_id": "5c0653f3903947b28c312915c0b3e0ab",
       "version_major": 2,
       "version_minor": 0
      },
      "text/plain": [
       "  0%|          | 0/70 [00:00<?, ?it/s]"
      ]
     },
     "metadata": {},
     "output_type": "display_data"
    },
    {
     "name": "stderr",
     "output_type": "stream",
     "text": [
      "INFO - 2025-10-17T03:55:38Z - Successfully downloaded to glory_data_interim_daily/glory_2021-07-16.nc\n",
      "INFO - 2025-10-17T03:55:41Z - Selected dataset version: \"202311\"\n",
      "INFO - 2025-10-17T03:55:41Z - Selected dataset part: \"default\"\n",
      "INFO - 2025-10-17T03:55:44Z - Starting download. Please wait...\n"
     ]
    },
    {
     "data": {
      "application/vnd.jupyter.widget-view+json": {
       "model_id": "1c51aaad78ef48128986e6364e4db153",
       "version_major": 2,
       "version_minor": 0
      },
      "text/plain": [
       "  0%|          | 0/70 [00:00<?, ?it/s]"
      ]
     },
     "metadata": {},
     "output_type": "display_data"
    },
    {
     "name": "stderr",
     "output_type": "stream",
     "text": [
      "INFO - 2025-10-17T03:58:02Z - Successfully downloaded to glory_data_interim_daily/glory_2021-07-17.nc\n",
      "INFO - 2025-10-17T03:58:05Z - Selected dataset version: \"202311\"\n",
      "INFO - 2025-10-17T03:58:05Z - Selected dataset part: \"default\"\n",
      "INFO - 2025-10-17T03:58:07Z - Starting download. Please wait...\n"
     ]
    },
    {
     "data": {
      "application/vnd.jupyter.widget-view+json": {
       "model_id": "48f7dc2fbde34c4d967c4ef267e36d2a",
       "version_major": 2,
       "version_minor": 0
      },
      "text/plain": [
       "  0%|          | 0/70 [00:00<?, ?it/s]"
      ]
     },
     "metadata": {},
     "output_type": "display_data"
    },
    {
     "name": "stderr",
     "output_type": "stream",
     "text": [
      "INFO - 2025-10-17T04:00:31Z - Successfully downloaded to glory_data_interim_daily/glory_2021-07-18.nc\n",
      "INFO - 2025-10-17T04:00:34Z - Selected dataset version: \"202311\"\n",
      "INFO - 2025-10-17T04:00:34Z - Selected dataset part: \"default\"\n",
      "INFO - 2025-10-17T04:00:37Z - Starting download. Please wait...\n"
     ]
    },
    {
     "data": {
      "application/vnd.jupyter.widget-view+json": {
       "model_id": "cc1e2904cce147b19cb0e629ed989fad",
       "version_major": 2,
       "version_minor": 0
      },
      "text/plain": [
       "  0%|          | 0/70 [00:00<?, ?it/s]"
      ]
     },
     "metadata": {},
     "output_type": "display_data"
    },
    {
     "name": "stderr",
     "output_type": "stream",
     "text": [
      "INFO - 2025-10-17T04:03:06Z - Successfully downloaded to glory_data_interim_daily/glory_2021-07-19.nc\n",
      "INFO - 2025-10-17T04:03:09Z - Selected dataset version: \"202311\"\n",
      "INFO - 2025-10-17T04:03:09Z - Selected dataset part: \"default\"\n",
      "INFO - 2025-10-17T04:03:12Z - Starting download. Please wait...\n"
     ]
    },
    {
     "data": {
      "application/vnd.jupyter.widget-view+json": {
       "model_id": "7c866b95ba2f4086b1ea51e8b2a62cc8",
       "version_major": 2,
       "version_minor": 0
      },
      "text/plain": [
       "  0%|          | 0/70 [00:00<?, ?it/s]"
      ]
     },
     "metadata": {},
     "output_type": "display_data"
    },
    {
     "name": "stderr",
     "output_type": "stream",
     "text": [
      "INFO - 2025-10-17T04:05:29Z - Successfully downloaded to glory_data_interim_daily/glory_2021-07-20.nc\n",
      "INFO - 2025-10-17T04:05:32Z - Selected dataset version: \"202311\"\n",
      "INFO - 2025-10-17T04:05:32Z - Selected dataset part: \"default\"\n",
      "INFO - 2025-10-17T04:05:35Z - Starting download. Please wait...\n"
     ]
    },
    {
     "data": {
      "application/vnd.jupyter.widget-view+json": {
       "model_id": "bdf70e92c25245a3b02c56224bf1ecd2",
       "version_major": 2,
       "version_minor": 0
      },
      "text/plain": [
       "  0%|          | 0/70 [00:00<?, ?it/s]"
      ]
     },
     "metadata": {},
     "output_type": "display_data"
    },
    {
     "name": "stderr",
     "output_type": "stream",
     "text": [
      "INFO - 2025-10-17T04:07:54Z - Successfully downloaded to glory_data_interim_daily/glory_2021-07-21.nc\n",
      "INFO - 2025-10-17T04:07:57Z - Selected dataset version: \"202311\"\n",
      "INFO - 2025-10-17T04:07:57Z - Selected dataset part: \"default\"\n",
      "INFO - 2025-10-17T04:08:00Z - Starting download. Please wait...\n"
     ]
    },
    {
     "data": {
      "application/vnd.jupyter.widget-view+json": {
       "model_id": "62ed8ec91e414a329014af3ef6fd5218",
       "version_major": 2,
       "version_minor": 0
      },
      "text/plain": [
       "  0%|          | 0/70 [00:00<?, ?it/s]"
      ]
     },
     "metadata": {},
     "output_type": "display_data"
    },
    {
     "name": "stderr",
     "output_type": "stream",
     "text": [
      "INFO - 2025-10-17T04:10:26Z - Successfully downloaded to glory_data_interim_daily/glory_2021-07-22.nc\n",
      "INFO - 2025-10-17T04:10:28Z - Selected dataset version: \"202311\"\n",
      "INFO - 2025-10-17T04:10:28Z - Selected dataset part: \"default\"\n",
      "INFO - 2025-10-17T04:10:31Z - Starting download. Please wait...\n"
     ]
    },
    {
     "data": {
      "application/vnd.jupyter.widget-view+json": {
       "model_id": "72e015626c4f4d1b8db9fe4df51528e9",
       "version_major": 2,
       "version_minor": 0
      },
      "text/plain": [
       "  0%|          | 0/70 [00:00<?, ?it/s]"
      ]
     },
     "metadata": {},
     "output_type": "display_data"
    },
    {
     "name": "stderr",
     "output_type": "stream",
     "text": [
      "INFO - 2025-10-17T04:12:51Z - Successfully downloaded to glory_data_interim_daily/glory_2021-07-23.nc\n",
      "INFO - 2025-10-17T04:12:54Z - Selected dataset version: \"202311\"\n",
      "INFO - 2025-10-17T04:12:54Z - Selected dataset part: \"default\"\n",
      "INFO - 2025-10-17T04:12:57Z - Starting download. Please wait...\n"
     ]
    },
    {
     "data": {
      "application/vnd.jupyter.widget-view+json": {
       "model_id": "15bdac50e8794a7a8f226bfa2d71f159",
       "version_major": 2,
       "version_minor": 0
      },
      "text/plain": [
       "  0%|          | 0/70 [00:00<?, ?it/s]"
      ]
     },
     "metadata": {},
     "output_type": "display_data"
    },
    {
     "name": "stderr",
     "output_type": "stream",
     "text": [
      "INFO - 2025-10-17T04:15:18Z - Successfully downloaded to glory_data_interim_daily/glory_2021-07-24.nc\n",
      "INFO - 2025-10-17T04:15:20Z - Selected dataset version: \"202311\"\n",
      "INFO - 2025-10-17T04:15:20Z - Selected dataset part: \"default\"\n",
      "INFO - 2025-10-17T04:15:23Z - Starting download. Please wait...\n"
     ]
    },
    {
     "data": {
      "application/vnd.jupyter.widget-view+json": {
       "model_id": "e8ca71dae1524bb4b86883da21e900fa",
       "version_major": 2,
       "version_minor": 0
      },
      "text/plain": [
       "  0%|          | 0/70 [00:00<?, ?it/s]"
      ]
     },
     "metadata": {},
     "output_type": "display_data"
    },
    {
     "name": "stderr",
     "output_type": "stream",
     "text": [
      "INFO - 2025-10-17T04:17:44Z - Successfully downloaded to glory_data_interim_daily/glory_2021-07-25.nc\n",
      "INFO - 2025-10-17T04:17:48Z - Selected dataset version: \"202311\"\n",
      "INFO - 2025-10-17T04:17:48Z - Selected dataset part: \"default\"\n",
      "INFO - 2025-10-17T04:17:51Z - Starting download. Please wait...\n"
     ]
    },
    {
     "data": {
      "application/vnd.jupyter.widget-view+json": {
       "model_id": "4b5a11ee14824c219530f9cfd4a7b331",
       "version_major": 2,
       "version_minor": 0
      },
      "text/plain": [
       "  0%|          | 0/70 [00:00<?, ?it/s]"
      ]
     },
     "metadata": {},
     "output_type": "display_data"
    },
    {
     "name": "stderr",
     "output_type": "stream",
     "text": [
      "INFO - 2025-10-17T04:20:12Z - Successfully downloaded to glory_data_interim_daily/glory_2021-07-26.nc\n",
      "INFO - 2025-10-17T04:20:15Z - Selected dataset version: \"202311\"\n",
      "INFO - 2025-10-17T04:20:15Z - Selected dataset part: \"default\"\n",
      "INFO - 2025-10-17T04:20:17Z - Starting download. Please wait...\n"
     ]
    },
    {
     "data": {
      "application/vnd.jupyter.widget-view+json": {
       "model_id": "800c81e7ce1e4a3f900d71dde3c64cfa",
       "version_major": 2,
       "version_minor": 0
      },
      "text/plain": [
       "  0%|          | 0/70 [00:00<?, ?it/s]"
      ]
     },
     "metadata": {},
     "output_type": "display_data"
    },
    {
     "name": "stderr",
     "output_type": "stream",
     "text": [
      "INFO - 2025-10-17T04:22:38Z - Successfully downloaded to glory_data_interim_daily/glory_2021-07-27.nc\n",
      "INFO - 2025-10-17T04:22:40Z - Selected dataset version: \"202311\"\n",
      "INFO - 2025-10-17T04:22:40Z - Selected dataset part: \"default\"\n",
      "INFO - 2025-10-17T04:22:43Z - Starting download. Please wait...\n"
     ]
    },
    {
     "data": {
      "application/vnd.jupyter.widget-view+json": {
       "model_id": "672beb7966ab48769861b81d05c0e983",
       "version_major": 2,
       "version_minor": 0
      },
      "text/plain": [
       "  0%|          | 0/70 [00:00<?, ?it/s]"
      ]
     },
     "metadata": {},
     "output_type": "display_data"
    },
    {
     "name": "stderr",
     "output_type": "stream",
     "text": [
      "INFO - 2025-10-17T04:25:01Z - Successfully downloaded to glory_data_interim_daily/glory_2021-07-28.nc\n",
      "INFO - 2025-10-17T04:25:04Z - Selected dataset version: \"202311\"\n",
      "INFO - 2025-10-17T04:25:04Z - Selected dataset part: \"default\"\n",
      "INFO - 2025-10-17T04:25:06Z - Starting download. Please wait...\n"
     ]
    },
    {
     "data": {
      "application/vnd.jupyter.widget-view+json": {
       "model_id": "2906abafcc154b8585a2c06a526ac895",
       "version_major": 2,
       "version_minor": 0
      },
      "text/plain": [
       "  0%|          | 0/70 [00:00<?, ?it/s]"
      ]
     },
     "metadata": {},
     "output_type": "display_data"
    },
    {
     "name": "stderr",
     "output_type": "stream",
     "text": [
      "INFO - 2025-10-17T04:27:31Z - Successfully downloaded to glory_data_interim_daily/glory_2021-07-29.nc\n",
      "INFO - 2025-10-17T04:27:34Z - Selected dataset version: \"202311\"\n",
      "INFO - 2025-10-17T04:27:34Z - Selected dataset part: \"default\"\n",
      "INFO - 2025-10-17T04:27:37Z - Starting download. Please wait...\n"
     ]
    },
    {
     "data": {
      "application/vnd.jupyter.widget-view+json": {
       "model_id": "5b2a2b58635b4e009af19c229e63b6f6",
       "version_major": 2,
       "version_minor": 0
      },
      "text/plain": [
       "  0%|          | 0/70 [00:00<?, ?it/s]"
      ]
     },
     "metadata": {},
     "output_type": "display_data"
    },
    {
     "name": "stderr",
     "output_type": "stream",
     "text": [
      "INFO - 2025-10-17T04:29:54Z - Successfully downloaded to glory_data_interim_daily/glory_2021-07-30.nc\n",
      "INFO - 2025-10-17T04:29:57Z - Selected dataset version: \"202311\"\n",
      "INFO - 2025-10-17T04:29:57Z - Selected dataset part: \"default\"\n",
      "INFO - 2025-10-17T04:30:00Z - Starting download. Please wait...\n"
     ]
    },
    {
     "data": {
      "application/vnd.jupyter.widget-view+json": {
       "model_id": "e19a46c4767943969f0e8fcb549c2a7e",
       "version_major": 2,
       "version_minor": 0
      },
      "text/plain": [
       "  0%|          | 0/70 [00:00<?, ?it/s]"
      ]
     },
     "metadata": {},
     "output_type": "display_data"
    },
    {
     "name": "stderr",
     "output_type": "stream",
     "text": [
      "INFO - 2025-10-17T04:32:26Z - Successfully downloaded to glory_data_interim_daily/glory_2021-07-31.nc\n",
      "INFO - 2025-10-17T04:32:29Z - Selected dataset version: \"202311\"\n",
      "INFO - 2025-10-17T04:32:29Z - Selected dataset part: \"default\"\n",
      "INFO - 2025-10-17T04:32:32Z - Starting download. Please wait...\n"
     ]
    },
    {
     "data": {
      "application/vnd.jupyter.widget-view+json": {
       "model_id": "01c3085037914622b5ecaf91871cd87f",
       "version_major": 2,
       "version_minor": 0
      },
      "text/plain": [
       "  0%|          | 0/70 [00:00<?, ?it/s]"
      ]
     },
     "metadata": {},
     "output_type": "display_data"
    },
    {
     "name": "stderr",
     "output_type": "stream",
     "text": [
      "INFO - 2025-10-17T04:34:58Z - Successfully downloaded to glory_data_interim_daily/glory_2021-08-01.nc\n",
      "INFO - 2025-10-17T04:35:01Z - Selected dataset version: \"202311\"\n",
      "INFO - 2025-10-17T04:35:01Z - Selected dataset part: \"default\"\n",
      "INFO - 2025-10-17T04:35:03Z - Starting download. Please wait...\n"
     ]
    },
    {
     "data": {
      "application/vnd.jupyter.widget-view+json": {
       "model_id": "0190cf71a5d049baac3c5eb0fa525462",
       "version_major": 2,
       "version_minor": 0
      },
      "text/plain": [
       "  0%|          | 0/70 [00:00<?, ?it/s]"
      ]
     },
     "metadata": {},
     "output_type": "display_data"
    },
    {
     "name": "stderr",
     "output_type": "stream",
     "text": [
      "INFO - 2025-10-17T04:37:12Z - Successfully downloaded to glory_data_interim_daily/glory_2021-08-02.nc\n",
      "INFO - 2025-10-17T04:37:15Z - Selected dataset version: \"202311\"\n",
      "INFO - 2025-10-17T04:37:15Z - Selected dataset part: \"default\"\n",
      "INFO - 2025-10-17T04:37:17Z - Starting download. Please wait...\n"
     ]
    },
    {
     "data": {
      "application/vnd.jupyter.widget-view+json": {
       "model_id": "8c0d7c8e99d74d679b067a1b8dbfb8ce",
       "version_major": 2,
       "version_minor": 0
      },
      "text/plain": [
       "  0%|          | 0/70 [00:00<?, ?it/s]"
      ]
     },
     "metadata": {},
     "output_type": "display_data"
    },
    {
     "name": "stderr",
     "output_type": "stream",
     "text": [
      "INFO - 2025-10-17T04:39:36Z - Successfully downloaded to glory_data_interim_daily/glory_2021-08-03.nc\n",
      "INFO - 2025-10-17T04:39:39Z - Selected dataset version: \"202311\"\n",
      "INFO - 2025-10-17T04:39:39Z - Selected dataset part: \"default\"\n",
      "INFO - 2025-10-17T04:39:42Z - Starting download. Please wait...\n"
     ]
    },
    {
     "data": {
      "application/vnd.jupyter.widget-view+json": {
       "model_id": "ef415c24e2124087bbd3adf089732496",
       "version_major": 2,
       "version_minor": 0
      },
      "text/plain": [
       "  0%|          | 0/70 [00:00<?, ?it/s]"
      ]
     },
     "metadata": {},
     "output_type": "display_data"
    },
    {
     "name": "stderr",
     "output_type": "stream",
     "text": [
      "INFO - 2025-10-17T04:42:01Z - Successfully downloaded to glory_data_interim_daily/glory_2021-08-04.nc\n",
      "INFO - 2025-10-17T04:42:03Z - Selected dataset version: \"202311\"\n",
      "INFO - 2025-10-17T04:42:03Z - Selected dataset part: \"default\"\n",
      "INFO - 2025-10-17T04:42:06Z - Starting download. Please wait...\n"
     ]
    },
    {
     "data": {
      "application/vnd.jupyter.widget-view+json": {
       "model_id": "155a1b8150e846e591ae09f41f7c2005",
       "version_major": 2,
       "version_minor": 0
      },
      "text/plain": [
       "  0%|          | 0/70 [00:00<?, ?it/s]"
      ]
     },
     "metadata": {},
     "output_type": "display_data"
    },
    {
     "name": "stderr",
     "output_type": "stream",
     "text": [
      "INFO - 2025-10-17T04:44:23Z - Successfully downloaded to glory_data_interim_daily/glory_2021-08-05.nc\n",
      "INFO - 2025-10-17T04:44:25Z - Selected dataset version: \"202311\"\n",
      "INFO - 2025-10-17T04:44:25Z - Selected dataset part: \"default\"\n",
      "INFO - 2025-10-17T04:44:28Z - Starting download. Please wait...\n"
     ]
    },
    {
     "data": {
      "application/vnd.jupyter.widget-view+json": {
       "model_id": "ce31bf68bbe6497b91d43704ce7a1c25",
       "version_major": 2,
       "version_minor": 0
      },
      "text/plain": [
       "  0%|          | 0/70 [00:00<?, ?it/s]"
      ]
     },
     "metadata": {},
     "output_type": "display_data"
    },
    {
     "name": "stderr",
     "output_type": "stream",
     "text": [
      "INFO - 2025-10-17T04:46:49Z - Successfully downloaded to glory_data_interim_daily/glory_2021-08-06.nc\n",
      "INFO - 2025-10-17T04:46:52Z - Selected dataset version: \"202311\"\n",
      "INFO - 2025-10-17T04:46:52Z - Selected dataset part: \"default\"\n",
      "INFO - 2025-10-17T04:46:55Z - Starting download. Please wait...\n"
     ]
    },
    {
     "data": {
      "application/vnd.jupyter.widget-view+json": {
       "model_id": "34559acf4a6d4c338f332d54d41feb22",
       "version_major": 2,
       "version_minor": 0
      },
      "text/plain": [
       "  0%|          | 0/70 [00:00<?, ?it/s]"
      ]
     },
     "metadata": {},
     "output_type": "display_data"
    },
    {
     "name": "stderr",
     "output_type": "stream",
     "text": [
      "INFO - 2025-10-17T04:49:21Z - Successfully downloaded to glory_data_interim_daily/glory_2021-08-07.nc\n",
      "INFO - 2025-10-17T04:49:23Z - Selected dataset version: \"202311\"\n",
      "INFO - 2025-10-17T04:49:23Z - Selected dataset part: \"default\"\n",
      "INFO - 2025-10-17T04:49:26Z - Starting download. Please wait...\n"
     ]
    },
    {
     "data": {
      "application/vnd.jupyter.widget-view+json": {
       "model_id": "600f4049a5d64d2196e69750de2dff74",
       "version_major": 2,
       "version_minor": 0
      },
      "text/plain": [
       "  0%|          | 0/70 [00:00<?, ?it/s]"
      ]
     },
     "metadata": {},
     "output_type": "display_data"
    },
    {
     "name": "stderr",
     "output_type": "stream",
     "text": [
      "INFO - 2025-10-17T04:51:54Z - Successfully downloaded to glory_data_interim_daily/glory_2021-08-08.nc\n",
      "INFO - 2025-10-17T04:51:57Z - Selected dataset version: \"202311\"\n",
      "INFO - 2025-10-17T04:51:57Z - Selected dataset part: \"default\"\n",
      "INFO - 2025-10-17T04:52:00Z - Starting download. Please wait...\n"
     ]
    },
    {
     "data": {
      "application/vnd.jupyter.widget-view+json": {
       "model_id": "37d33986f19447068bfc43d867a3f6f1",
       "version_major": 2,
       "version_minor": 0
      },
      "text/plain": [
       "  0%|          | 0/70 [00:00<?, ?it/s]"
      ]
     },
     "metadata": {},
     "output_type": "display_data"
    },
    {
     "name": "stderr",
     "output_type": "stream",
     "text": [
      "INFO - 2025-10-17T04:54:14Z - Successfully downloaded to glory_data_interim_daily/glory_2021-08-09.nc\n",
      "INFO - 2025-10-17T04:54:17Z - Selected dataset version: \"202311\"\n",
      "INFO - 2025-10-17T04:54:17Z - Selected dataset part: \"default\"\n",
      "INFO - 2025-10-17T04:54:19Z - Starting download. Please wait...\n"
     ]
    },
    {
     "data": {
      "application/vnd.jupyter.widget-view+json": {
       "model_id": "d83d80b96ec2413f9eb0f1fc2823a309",
       "version_major": 2,
       "version_minor": 0
      },
      "text/plain": [
       "  0%|          | 0/70 [00:00<?, ?it/s]"
      ]
     },
     "metadata": {},
     "output_type": "display_data"
    },
    {
     "name": "stderr",
     "output_type": "stream",
     "text": [
      "INFO - 2025-10-17T04:56:29Z - Successfully downloaded to glory_data_interim_daily/glory_2021-08-10.nc\n",
      "INFO - 2025-10-17T04:56:32Z - Selected dataset version: \"202311\"\n",
      "INFO - 2025-10-17T04:56:32Z - Selected dataset part: \"default\"\n",
      "INFO - 2025-10-17T04:56:35Z - Starting download. Please wait...\n"
     ]
    },
    {
     "data": {
      "application/vnd.jupyter.widget-view+json": {
       "model_id": "c843f8bde87e49f39aefa56cc65e7763",
       "version_major": 2,
       "version_minor": 0
      },
      "text/plain": [
       "  0%|          | 0/70 [00:00<?, ?it/s]"
      ]
     },
     "metadata": {},
     "output_type": "display_data"
    },
    {
     "name": "stderr",
     "output_type": "stream",
     "text": [
      "INFO - 2025-10-17T04:58:54Z - Successfully downloaded to glory_data_interim_daily/glory_2021-08-11.nc\n",
      "INFO - 2025-10-17T04:58:56Z - Selected dataset version: \"202311\"\n",
      "INFO - 2025-10-17T04:58:56Z - Selected dataset part: \"default\"\n",
      "INFO - 2025-10-17T04:58:59Z - Starting download. Please wait...\n"
     ]
    },
    {
     "data": {
      "application/vnd.jupyter.widget-view+json": {
       "model_id": "5f38f3816cf946f9a020e46d71fa7235",
       "version_major": 2,
       "version_minor": 0
      },
      "text/plain": [
       "  0%|          | 0/70 [00:00<?, ?it/s]"
      ]
     },
     "metadata": {},
     "output_type": "display_data"
    },
    {
     "name": "stderr",
     "output_type": "stream",
     "text": [
      "INFO - 2025-10-17T05:01:22Z - Successfully downloaded to glory_data_interim_daily/glory_2021-08-12.nc\n",
      "INFO - 2025-10-17T05:01:26Z - Selected dataset version: \"202311\"\n",
      "INFO - 2025-10-17T05:01:26Z - Selected dataset part: \"default\"\n",
      "INFO - 2025-10-17T05:01:28Z - Starting download. Please wait...\n"
     ]
    },
    {
     "data": {
      "application/vnd.jupyter.widget-view+json": {
       "model_id": "56c6b920763b4923b8873824b78744b9",
       "version_major": 2,
       "version_minor": 0
      },
      "text/plain": [
       "  0%|          | 0/70 [00:00<?, ?it/s]"
      ]
     },
     "metadata": {},
     "output_type": "display_data"
    },
    {
     "name": "stderr",
     "output_type": "stream",
     "text": [
      "INFO - 2025-10-17T05:03:53Z - Successfully downloaded to glory_data_interim_daily/glory_2021-08-13.nc\n",
      "INFO - 2025-10-17T05:03:56Z - Selected dataset version: \"202311\"\n",
      "INFO - 2025-10-17T05:03:56Z - Selected dataset part: \"default\"\n",
      "INFO - 2025-10-17T05:03:59Z - Starting download. Please wait...\n"
     ]
    },
    {
     "data": {
      "application/vnd.jupyter.widget-view+json": {
       "model_id": "119a3cd0bf5b49458e9fded059906ba5",
       "version_major": 2,
       "version_minor": 0
      },
      "text/plain": [
       "  0%|          | 0/70 [00:00<?, ?it/s]"
      ]
     },
     "metadata": {},
     "output_type": "display_data"
    },
    {
     "name": "stderr",
     "output_type": "stream",
     "text": [
      "INFO - 2025-10-17T05:06:17Z - Successfully downloaded to glory_data_interim_daily/glory_2021-08-14.nc\n",
      "INFO - 2025-10-17T05:06:20Z - Selected dataset version: \"202311\"\n",
      "INFO - 2025-10-17T05:06:20Z - Selected dataset part: \"default\"\n",
      "INFO - 2025-10-17T05:06:23Z - Starting download. Please wait...\n"
     ]
    },
    {
     "data": {
      "application/vnd.jupyter.widget-view+json": {
       "model_id": "12a998c0d6624c4987e3926c0f448e8b",
       "version_major": 2,
       "version_minor": 0
      },
      "text/plain": [
       "  0%|          | 0/70 [00:00<?, ?it/s]"
      ]
     },
     "metadata": {},
     "output_type": "display_data"
    },
    {
     "name": "stderr",
     "output_type": "stream",
     "text": [
      "INFO - 2025-10-17T05:08:33Z - Successfully downloaded to glory_data_interim_daily/glory_2021-08-15.nc\n",
      "INFO - 2025-10-17T05:08:36Z - Selected dataset version: \"202311\"\n",
      "INFO - 2025-10-17T05:08:36Z - Selected dataset part: \"default\"\n",
      "INFO - 2025-10-17T05:08:38Z - Starting download. Please wait...\n"
     ]
    },
    {
     "data": {
      "application/vnd.jupyter.widget-view+json": {
       "model_id": "cfe75bb5b6b64e57bba83acda0ef73ef",
       "version_major": 2,
       "version_minor": 0
      },
      "text/plain": [
       "  0%|          | 0/70 [00:00<?, ?it/s]"
      ]
     },
     "metadata": {},
     "output_type": "display_data"
    },
    {
     "name": "stderr",
     "output_type": "stream",
     "text": [
      "INFO - 2025-10-17T05:10:54Z - Successfully downloaded to glory_data_interim_daily/glory_2021-08-16.nc\n",
      "INFO - 2025-10-17T05:10:57Z - Selected dataset version: \"202311\"\n",
      "INFO - 2025-10-17T05:10:57Z - Selected dataset part: \"default\"\n",
      "INFO - 2025-10-17T05:11:00Z - Starting download. Please wait...\n"
     ]
    },
    {
     "data": {
      "application/vnd.jupyter.widget-view+json": {
       "model_id": "728c77911d30456fb92b5e4222d6cf70",
       "version_major": 2,
       "version_minor": 0
      },
      "text/plain": [
       "  0%|          | 0/70 [00:00<?, ?it/s]"
      ]
     },
     "metadata": {},
     "output_type": "display_data"
    },
    {
     "name": "stderr",
     "output_type": "stream",
     "text": [
      "INFO - 2025-10-17T05:13:21Z - Successfully downloaded to glory_data_interim_daily/glory_2021-08-17.nc\n",
      "INFO - 2025-10-17T05:13:24Z - Selected dataset version: \"202311\"\n",
      "INFO - 2025-10-17T05:13:24Z - Selected dataset part: \"default\"\n",
      "INFO - 2025-10-17T05:13:27Z - Starting download. Please wait...\n"
     ]
    },
    {
     "data": {
      "application/vnd.jupyter.widget-view+json": {
       "model_id": "67154190363a46c3b3f3684c3978539d",
       "version_major": 2,
       "version_minor": 0
      },
      "text/plain": [
       "  0%|          | 0/70 [00:00<?, ?it/s]"
      ]
     },
     "metadata": {},
     "output_type": "display_data"
    },
    {
     "name": "stderr",
     "output_type": "stream",
     "text": [
      "INFO - 2025-10-17T05:16:10Z - Successfully downloaded to glory_data_interim_daily/glory_2021-08-18.nc\n",
      "INFO - 2025-10-17T05:16:13Z - Selected dataset version: \"202311\"\n",
      "INFO - 2025-10-17T05:16:13Z - Selected dataset part: \"default\"\n",
      "INFO - 2025-10-17T05:16:16Z - Starting download. Please wait...\n"
     ]
    },
    {
     "data": {
      "application/vnd.jupyter.widget-view+json": {
       "model_id": "79361842a5554bdd88b2d36561af4229",
       "version_major": 2,
       "version_minor": 0
      },
      "text/plain": [
       "  0%|          | 0/70 [00:00<?, ?it/s]"
      ]
     },
     "metadata": {},
     "output_type": "display_data"
    },
    {
     "name": "stderr",
     "output_type": "stream",
     "text": [
      "INFO - 2025-10-17T05:18:29Z - Successfully downloaded to glory_data_interim_daily/glory_2021-08-19.nc\n",
      "INFO - 2025-10-17T05:18:32Z - Selected dataset version: \"202311\"\n",
      "INFO - 2025-10-17T05:18:32Z - Selected dataset part: \"default\"\n",
      "INFO - 2025-10-17T05:18:35Z - Starting download. Please wait...\n"
     ]
    },
    {
     "data": {
      "application/vnd.jupyter.widget-view+json": {
       "model_id": "19ec136ec18240cf9b455a820f972169",
       "version_major": 2,
       "version_minor": 0
      },
      "text/plain": [
       "  0%|          | 0/70 [00:00<?, ?it/s]"
      ]
     },
     "metadata": {},
     "output_type": "display_data"
    },
    {
     "name": "stderr",
     "output_type": "stream",
     "text": [
      "INFO - 2025-10-17T05:20:53Z - Successfully downloaded to glory_data_interim_daily/glory_2021-08-20.nc\n",
      "INFO - 2025-10-17T05:20:55Z - Selected dataset version: \"202311\"\n",
      "INFO - 2025-10-17T05:20:55Z - Selected dataset part: \"default\"\n",
      "INFO - 2025-10-17T05:20:58Z - Starting download. Please wait...\n"
     ]
    },
    {
     "data": {
      "application/vnd.jupyter.widget-view+json": {
       "model_id": "3ffcd9f6c5ad4f0686e92915888132fe",
       "version_major": 2,
       "version_minor": 0
      },
      "text/plain": [
       "  0%|          | 0/70 [00:00<?, ?it/s]"
      ]
     },
     "metadata": {},
     "output_type": "display_data"
    },
    {
     "name": "stderr",
     "output_type": "stream",
     "text": [
      "INFO - 2025-10-17T05:23:17Z - Successfully downloaded to glory_data_interim_daily/glory_2021-08-21.nc\n",
      "INFO - 2025-10-17T05:23:20Z - Selected dataset version: \"202311\"\n",
      "INFO - 2025-10-17T05:23:20Z - Selected dataset part: \"default\"\n",
      "INFO - 2025-10-17T05:23:23Z - Starting download. Please wait...\n"
     ]
    },
    {
     "data": {
      "application/vnd.jupyter.widget-view+json": {
       "model_id": "48c7faa4251b4a7b823710bbef6e119d",
       "version_major": 2,
       "version_minor": 0
      },
      "text/plain": [
       "  0%|          | 0/70 [00:00<?, ?it/s]"
      ]
     },
     "metadata": {},
     "output_type": "display_data"
    },
    {
     "name": "stderr",
     "output_type": "stream",
     "text": [
      "INFO - 2025-10-17T05:25:46Z - Successfully downloaded to glory_data_interim_daily/glory_2021-08-22.nc\n",
      "INFO - 2025-10-17T05:25:48Z - Selected dataset version: \"202311\"\n",
      "INFO - 2025-10-17T05:25:48Z - Selected dataset part: \"default\"\n",
      "INFO - 2025-10-17T05:25:51Z - Starting download. Please wait...\n"
     ]
    },
    {
     "data": {
      "application/vnd.jupyter.widget-view+json": {
       "model_id": "8dbcd24f5a4944e5b6c087d271f03937",
       "version_major": 2,
       "version_minor": 0
      },
      "text/plain": [
       "  0%|          | 0/70 [00:00<?, ?it/s]"
      ]
     },
     "metadata": {},
     "output_type": "display_data"
    },
    {
     "name": "stderr",
     "output_type": "stream",
     "text": [
      "INFO - 2025-10-17T05:28:06Z - Successfully downloaded to glory_data_interim_daily/glory_2021-08-23.nc\n",
      "INFO - 2025-10-17T05:28:09Z - Selected dataset version: \"202311\"\n",
      "INFO - 2025-10-17T05:28:09Z - Selected dataset part: \"default\"\n",
      "INFO - 2025-10-17T05:28:11Z - Starting download. Please wait...\n"
     ]
    },
    {
     "data": {
      "application/vnd.jupyter.widget-view+json": {
       "model_id": "15f98bda114940a196b11c1165f54f7d",
       "version_major": 2,
       "version_minor": 0
      },
      "text/plain": [
       "  0%|          | 0/70 [00:00<?, ?it/s]"
      ]
     },
     "metadata": {},
     "output_type": "display_data"
    },
    {
     "name": "stderr",
     "output_type": "stream",
     "text": [
      "INFO - 2025-10-17T05:30:30Z - Successfully downloaded to glory_data_interim_daily/glory_2021-08-24.nc\n",
      "INFO - 2025-10-17T05:30:33Z - Selected dataset version: \"202311\"\n",
      "INFO - 2025-10-17T05:30:33Z - Selected dataset part: \"default\"\n",
      "INFO - 2025-10-17T05:30:35Z - Starting download. Please wait...\n"
     ]
    },
    {
     "data": {
      "application/vnd.jupyter.widget-view+json": {
       "model_id": "ad224809e89740d88cff315c9cc4c4f5",
       "version_major": 2,
       "version_minor": 0
      },
      "text/plain": [
       "  0%|          | 0/70 [00:00<?, ?it/s]"
      ]
     },
     "metadata": {},
     "output_type": "display_data"
    },
    {
     "name": "stderr",
     "output_type": "stream",
     "text": [
      "INFO - 2025-10-17T05:32:53Z - Successfully downloaded to glory_data_interim_daily/glory_2021-08-25.nc\n",
      "INFO - 2025-10-17T05:32:55Z - Selected dataset version: \"202311\"\n",
      "INFO - 2025-10-17T05:32:55Z - Selected dataset part: \"default\"\n",
      "INFO - 2025-10-17T05:32:58Z - Starting download. Please wait...\n"
     ]
    },
    {
     "data": {
      "application/vnd.jupyter.widget-view+json": {
       "model_id": "bf3a900e8435413ba21f019356a57cfb",
       "version_major": 2,
       "version_minor": 0
      },
      "text/plain": [
       "  0%|          | 0/70 [00:00<?, ?it/s]"
      ]
     },
     "metadata": {},
     "output_type": "display_data"
    },
    {
     "name": "stderr",
     "output_type": "stream",
     "text": [
      "INFO - 2025-10-17T05:35:12Z - Successfully downloaded to glory_data_interim_daily/glory_2021-08-26.nc\n",
      "INFO - 2025-10-17T05:35:15Z - Selected dataset version: \"202311\"\n",
      "INFO - 2025-10-17T05:35:15Z - Selected dataset part: \"default\"\n",
      "INFO - 2025-10-17T05:35:18Z - Starting download. Please wait...\n"
     ]
    },
    {
     "data": {
      "application/vnd.jupyter.widget-view+json": {
       "model_id": "8946caf41a954ae7a71cb8121635aeee",
       "version_major": 2,
       "version_minor": 0
      },
      "text/plain": [
       "  0%|          | 0/70 [00:00<?, ?it/s]"
      ]
     },
     "metadata": {},
     "output_type": "display_data"
    },
    {
     "name": "stderr",
     "output_type": "stream",
     "text": [
      "INFO - 2025-10-17T05:37:25Z - Successfully downloaded to glory_data_interim_daily/glory_2021-08-27.nc\n",
      "INFO - 2025-10-17T05:37:28Z - Selected dataset version: \"202311\"\n",
      "INFO - 2025-10-17T05:37:28Z - Selected dataset part: \"default\"\n",
      "INFO - 2025-10-17T05:37:31Z - Starting download. Please wait...\n"
     ]
    },
    {
     "data": {
      "application/vnd.jupyter.widget-view+json": {
       "model_id": "5f06980a45c74572a062928d7bea4d81",
       "version_major": 2,
       "version_minor": 0
      },
      "text/plain": [
       "  0%|          | 0/70 [00:00<?, ?it/s]"
      ]
     },
     "metadata": {},
     "output_type": "display_data"
    },
    {
     "name": "stderr",
     "output_type": "stream",
     "text": [
      "INFO - 2025-10-17T05:39:49Z - Successfully downloaded to glory_data_interim_daily/glory_2021-08-28.nc\n",
      "INFO - 2025-10-17T05:39:51Z - Selected dataset version: \"202311\"\n",
      "INFO - 2025-10-17T05:39:51Z - Selected dataset part: \"default\"\n",
      "INFO - 2025-10-17T05:39:54Z - Starting download. Please wait...\n"
     ]
    },
    {
     "data": {
      "application/vnd.jupyter.widget-view+json": {
       "model_id": "f3057f0f7a4f4c3f9eb5fc1937e529e5",
       "version_major": 2,
       "version_minor": 0
      },
      "text/plain": [
       "  0%|          | 0/70 [00:00<?, ?it/s]"
      ]
     },
     "metadata": {},
     "output_type": "display_data"
    },
    {
     "name": "stderr",
     "output_type": "stream",
     "text": [
      "INFO - 2025-10-17T05:42:03Z - Successfully downloaded to glory_data_interim_daily/glory_2021-08-29.nc\n",
      "INFO - 2025-10-17T05:42:06Z - Selected dataset version: \"202311\"\n",
      "INFO - 2025-10-17T05:42:06Z - Selected dataset part: \"default\"\n",
      "INFO - 2025-10-17T05:42:09Z - Starting download. Please wait...\n"
     ]
    },
    {
     "data": {
      "application/vnd.jupyter.widget-view+json": {
       "model_id": "cd8d83843de14fc8b95c1b2fc40d79b1",
       "version_major": 2,
       "version_minor": 0
      },
      "text/plain": [
       "  0%|          | 0/70 [00:00<?, ?it/s]"
      ]
     },
     "metadata": {},
     "output_type": "display_data"
    },
    {
     "name": "stderr",
     "output_type": "stream",
     "text": [
      "INFO - 2025-10-17T05:44:25Z - Successfully downloaded to glory_data_interim_daily/glory_2021-08-30.nc\n",
      "INFO - 2025-10-17T05:44:28Z - Selected dataset version: \"202311\"\n",
      "INFO - 2025-10-17T05:44:28Z - Selected dataset part: \"default\"\n",
      "INFO - 2025-10-17T05:44:31Z - Starting download. Please wait...\n"
     ]
    },
    {
     "data": {
      "application/vnd.jupyter.widget-view+json": {
       "model_id": "a39e395192b0427d937fbcbe67b3b03a",
       "version_major": 2,
       "version_minor": 0
      },
      "text/plain": [
       "  0%|          | 0/70 [00:00<?, ?it/s]"
      ]
     },
     "metadata": {},
     "output_type": "display_data"
    },
    {
     "name": "stderr",
     "output_type": "stream",
     "text": [
      "INFO - 2025-10-17T05:46:44Z - Successfully downloaded to glory_data_interim_daily/glory_2021-08-31.nc\n",
      "INFO - 2025-10-17T05:46:47Z - Selected dataset version: \"202311\"\n",
      "INFO - 2025-10-17T05:46:47Z - Selected dataset part: \"default\"\n",
      "INFO - 2025-10-17T05:46:50Z - Starting download. Please wait...\n"
     ]
    },
    {
     "data": {
      "application/vnd.jupyter.widget-view+json": {
       "model_id": "2975df327a4b4cfc82a7bc39da610763",
       "version_major": 2,
       "version_minor": 0
      },
      "text/plain": [
       "  0%|          | 0/70 [00:00<?, ?it/s]"
      ]
     },
     "metadata": {},
     "output_type": "display_data"
    },
    {
     "name": "stderr",
     "output_type": "stream",
     "text": [
      "INFO - 2025-10-17T05:49:12Z - Successfully downloaded to glory_data_interim_daily/glory_2021-09-01.nc\n",
      "INFO - 2025-10-17T05:49:15Z - Selected dataset version: \"202311\"\n",
      "INFO - 2025-10-17T05:49:15Z - Selected dataset part: \"default\"\n",
      "INFO - 2025-10-17T05:49:18Z - Starting download. Please wait...\n"
     ]
    },
    {
     "data": {
      "application/vnd.jupyter.widget-view+json": {
       "model_id": "d8a8f8c4dec64651bab1451c42b0366f",
       "version_major": 2,
       "version_minor": 0
      },
      "text/plain": [
       "  0%|          | 0/70 [00:00<?, ?it/s]"
      ]
     },
     "metadata": {},
     "output_type": "display_data"
    },
    {
     "name": "stderr",
     "output_type": "stream",
     "text": [
      "INFO - 2025-10-17T05:51:35Z - Successfully downloaded to glory_data_interim_daily/glory_2021-09-02.nc\n",
      "INFO - 2025-10-17T05:51:37Z - Selected dataset version: \"202311\"\n",
      "INFO - 2025-10-17T05:51:37Z - Selected dataset part: \"default\"\n",
      "INFO - 2025-10-17T05:51:40Z - Starting download. Please wait...\n"
     ]
    },
    {
     "data": {
      "application/vnd.jupyter.widget-view+json": {
       "model_id": "1a4f2afd3e8e49819bb3f7b9e3b410df",
       "version_major": 2,
       "version_minor": 0
      },
      "text/plain": [
       "  0%|          | 0/70 [00:00<?, ?it/s]"
      ]
     },
     "metadata": {},
     "output_type": "display_data"
    },
    {
     "name": "stderr",
     "output_type": "stream",
     "text": [
      "INFO - 2025-10-17T05:53:55Z - Successfully downloaded to glory_data_interim_daily/glory_2021-09-03.nc\n",
      "INFO - 2025-10-17T05:53:58Z - Selected dataset version: \"202311\"\n",
      "INFO - 2025-10-17T05:53:58Z - Selected dataset part: \"default\"\n",
      "INFO - 2025-10-17T05:54:00Z - Starting download. Please wait...\n"
     ]
    },
    {
     "data": {
      "application/vnd.jupyter.widget-view+json": {
       "model_id": "9da323116e8a4b3883bfabaa2748bd3f",
       "version_major": 2,
       "version_minor": 0
      },
      "text/plain": [
       "  0%|          | 0/70 [00:00<?, ?it/s]"
      ]
     },
     "metadata": {},
     "output_type": "display_data"
    },
    {
     "name": "stderr",
     "output_type": "stream",
     "text": [
      "INFO - 2025-10-17T05:56:17Z - Successfully downloaded to glory_data_interim_daily/glory_2021-09-04.nc\n",
      "INFO - 2025-10-17T05:56:20Z - Selected dataset version: \"202311\"\n",
      "INFO - 2025-10-17T05:56:20Z - Selected dataset part: \"default\"\n",
      "INFO - 2025-10-17T05:56:23Z - Starting download. Please wait...\n"
     ]
    },
    {
     "data": {
      "application/vnd.jupyter.widget-view+json": {
       "model_id": "81cb2cbc871d45039206b4d86a162433",
       "version_major": 2,
       "version_minor": 0
      },
      "text/plain": [
       "  0%|          | 0/70 [00:00<?, ?it/s]"
      ]
     },
     "metadata": {},
     "output_type": "display_data"
    },
    {
     "name": "stderr",
     "output_type": "stream",
     "text": [
      "INFO - 2025-10-17T05:58:38Z - Successfully downloaded to glory_data_interim_daily/glory_2021-09-05.nc\n",
      "INFO - 2025-10-17T05:58:40Z - Selected dataset version: \"202311\"\n",
      "INFO - 2025-10-17T05:58:40Z - Selected dataset part: \"default\"\n",
      "INFO - 2025-10-17T05:58:43Z - Starting download. Please wait...\n"
     ]
    },
    {
     "data": {
      "application/vnd.jupyter.widget-view+json": {
       "model_id": "df6f30c7e38c47aab0725c0e8e9d7088",
       "version_major": 2,
       "version_minor": 0
      },
      "text/plain": [
       "  0%|          | 0/70 [00:00<?, ?it/s]"
      ]
     },
     "metadata": {},
     "output_type": "display_data"
    },
    {
     "name": "stderr",
     "output_type": "stream",
     "text": [
      "INFO - 2025-10-17T06:00:46Z - Successfully downloaded to glory_data_interim_daily/glory_2021-09-06.nc\n",
      "INFO - 2025-10-17T06:00:49Z - Selected dataset version: \"202311\"\n",
      "INFO - 2025-10-17T06:00:49Z - Selected dataset part: \"default\"\n",
      "INFO - 2025-10-17T06:00:52Z - Starting download. Please wait...\n"
     ]
    },
    {
     "data": {
      "application/vnd.jupyter.widget-view+json": {
       "model_id": "5e291c149fd0496198438b9f83877191",
       "version_major": 2,
       "version_minor": 0
      },
      "text/plain": [
       "  0%|          | 0/70 [00:00<?, ?it/s]"
      ]
     },
     "metadata": {},
     "output_type": "display_data"
    },
    {
     "name": "stderr",
     "output_type": "stream",
     "text": [
      "INFO - 2025-10-17T06:03:15Z - Successfully downloaded to glory_data_interim_daily/glory_2021-09-07.nc\n",
      "INFO - 2025-10-17T06:03:18Z - Selected dataset version: \"202311\"\n",
      "INFO - 2025-10-17T06:03:18Z - Selected dataset part: \"default\"\n",
      "INFO - 2025-10-17T06:03:21Z - Starting download. Please wait...\n"
     ]
    },
    {
     "data": {
      "application/vnd.jupyter.widget-view+json": {
       "model_id": "7a7fa2894fed4586b04ddc7a77d9f44f",
       "version_major": 2,
       "version_minor": 0
      },
      "text/plain": [
       "  0%|          | 0/70 [00:00<?, ?it/s]"
      ]
     },
     "metadata": {},
     "output_type": "display_data"
    },
    {
     "name": "stderr",
     "output_type": "stream",
     "text": [
      "INFO - 2025-10-17T06:05:47Z - Successfully downloaded to glory_data_interim_daily/glory_2021-09-08.nc\n",
      "INFO - 2025-10-17T06:05:50Z - Selected dataset version: \"202311\"\n",
      "INFO - 2025-10-17T06:05:50Z - Selected dataset part: \"default\"\n",
      "INFO - 2025-10-17T06:05:53Z - Starting download. Please wait...\n"
     ]
    },
    {
     "data": {
      "application/vnd.jupyter.widget-view+json": {
       "model_id": "340d1f4b68514ed6bb8912e920369dcd",
       "version_major": 2,
       "version_minor": 0
      },
      "text/plain": [
       "  0%|          | 0/70 [00:00<?, ?it/s]"
      ]
     },
     "metadata": {},
     "output_type": "display_data"
    },
    {
     "name": "stderr",
     "output_type": "stream",
     "text": [
      "INFO - 2025-10-17T06:08:14Z - Successfully downloaded to glory_data_interim_daily/glory_2021-09-09.nc\n",
      "INFO - 2025-10-17T06:08:18Z - Selected dataset version: \"202311\"\n",
      "INFO - 2025-10-17T06:08:18Z - Selected dataset part: \"default\"\n",
      "INFO - 2025-10-17T06:08:20Z - Starting download. Please wait...\n"
     ]
    },
    {
     "data": {
      "application/vnd.jupyter.widget-view+json": {
       "model_id": "777f820e6271441f94ddeb01783e3759",
       "version_major": 2,
       "version_minor": 0
      },
      "text/plain": [
       "  0%|          | 0/70 [00:00<?, ?it/s]"
      ]
     },
     "metadata": {},
     "output_type": "display_data"
    },
    {
     "name": "stderr",
     "output_type": "stream",
     "text": [
      "INFO - 2025-10-17T06:10:35Z - Successfully downloaded to glory_data_interim_daily/glory_2021-09-10.nc\n",
      "INFO - 2025-10-17T06:10:37Z - Selected dataset version: \"202311\"\n",
      "INFO - 2025-10-17T06:10:37Z - Selected dataset part: \"default\"\n",
      "INFO - 2025-10-17T06:10:40Z - Starting download. Please wait...\n"
     ]
    },
    {
     "data": {
      "application/vnd.jupyter.widget-view+json": {
       "model_id": "133b7bc14b624451995e73eca908654b",
       "version_major": 2,
       "version_minor": 0
      },
      "text/plain": [
       "  0%|          | 0/70 [00:00<?, ?it/s]"
      ]
     },
     "metadata": {},
     "output_type": "display_data"
    },
    {
     "name": "stderr",
     "output_type": "stream",
     "text": [
      "INFO - 2025-10-17T06:12:59Z - Successfully downloaded to glory_data_interim_daily/glory_2021-09-11.nc\n",
      "INFO - 2025-10-17T06:13:02Z - Selected dataset version: \"202311\"\n",
      "INFO - 2025-10-17T06:13:02Z - Selected dataset part: \"default\"\n",
      "INFO - 2025-10-17T06:13:05Z - Starting download. Please wait...\n"
     ]
    },
    {
     "data": {
      "application/vnd.jupyter.widget-view+json": {
       "model_id": "5111e2b156f34da98dd7f5db10c88743",
       "version_major": 2,
       "version_minor": 0
      },
      "text/plain": [
       "  0%|          | 0/70 [00:00<?, ?it/s]"
      ]
     },
     "metadata": {},
     "output_type": "display_data"
    },
    {
     "name": "stderr",
     "output_type": "stream",
     "text": [
      "INFO - 2025-10-17T06:15:29Z - Successfully downloaded to glory_data_interim_daily/glory_2021-09-12.nc\n",
      "INFO - 2025-10-17T06:15:32Z - Selected dataset version: \"202311\"\n",
      "INFO - 2025-10-17T06:15:32Z - Selected dataset part: \"default\"\n",
      "INFO - 2025-10-17T06:15:35Z - Starting download. Please wait...\n"
     ]
    },
    {
     "data": {
      "application/vnd.jupyter.widget-view+json": {
       "model_id": "f71433a94d7346c88f573ac75e4d6f76",
       "version_major": 2,
       "version_minor": 0
      },
      "text/plain": [
       "  0%|          | 0/70 [00:00<?, ?it/s]"
      ]
     },
     "metadata": {},
     "output_type": "display_data"
    },
    {
     "name": "stderr",
     "output_type": "stream",
     "text": [
      "INFO - 2025-10-17T06:18:01Z - Successfully downloaded to glory_data_interim_daily/glory_2021-09-13.nc\n",
      "INFO - 2025-10-17T06:18:03Z - Selected dataset version: \"202311\"\n",
      "INFO - 2025-10-17T06:18:03Z - Selected dataset part: \"default\"\n",
      "INFO - 2025-10-17T06:18:07Z - Starting download. Please wait...\n"
     ]
    },
    {
     "data": {
      "application/vnd.jupyter.widget-view+json": {
       "model_id": "0cf18281b7a840ada6216a999a0babb9",
       "version_major": 2,
       "version_minor": 0
      },
      "text/plain": [
       "  0%|          | 0/70 [00:00<?, ?it/s]"
      ]
     },
     "metadata": {},
     "output_type": "display_data"
    },
    {
     "name": "stderr",
     "output_type": "stream",
     "text": [
      "INFO - 2025-10-17T06:20:21Z - Successfully downloaded to glory_data_interim_daily/glory_2021-09-14.nc\n",
      "INFO - 2025-10-17T06:20:23Z - Selected dataset version: \"202311\"\n",
      "INFO - 2025-10-17T06:20:23Z - Selected dataset part: \"default\"\n",
      "INFO - 2025-10-17T06:20:26Z - Starting download. Please wait...\n"
     ]
    },
    {
     "data": {
      "application/vnd.jupyter.widget-view+json": {
       "model_id": "7b7dd284a0db4559a0ef6e1da8304f88",
       "version_major": 2,
       "version_minor": 0
      },
      "text/plain": [
       "  0%|          | 0/70 [00:00<?, ?it/s]"
      ]
     },
     "metadata": {},
     "output_type": "display_data"
    },
    {
     "name": "stderr",
     "output_type": "stream",
     "text": [
      "INFO - 2025-10-17T06:22:52Z - Successfully downloaded to glory_data_interim_daily/glory_2021-09-15.nc\n",
      "INFO - 2025-10-17T06:22:54Z - Selected dataset version: \"202311\"\n",
      "INFO - 2025-10-17T06:22:54Z - Selected dataset part: \"default\"\n",
      "INFO - 2025-10-17T06:22:57Z - Starting download. Please wait...\n"
     ]
    },
    {
     "data": {
      "application/vnd.jupyter.widget-view+json": {
       "model_id": "05d0f96270c849f69d3f2c3e99808f9e",
       "version_major": 2,
       "version_minor": 0
      },
      "text/plain": [
       "  0%|          | 0/70 [00:00<?, ?it/s]"
      ]
     },
     "metadata": {},
     "output_type": "display_data"
    },
    {
     "name": "stderr",
     "output_type": "stream",
     "text": [
      "INFO - 2025-10-17T06:25:21Z - Successfully downloaded to glory_data_interim_daily/glory_2021-09-16.nc\n",
      "INFO - 2025-10-17T06:25:24Z - Selected dataset version: \"202311\"\n",
      "INFO - 2025-10-17T06:25:24Z - Selected dataset part: \"default\"\n",
      "INFO - 2025-10-17T06:25:27Z - Starting download. Please wait...\n"
     ]
    },
    {
     "data": {
      "application/vnd.jupyter.widget-view+json": {
       "model_id": "ca76e418c575423ab1f05d8f819fd3b6",
       "version_major": 2,
       "version_minor": 0
      },
      "text/plain": [
       "  0%|          | 0/70 [00:00<?, ?it/s]"
      ]
     },
     "metadata": {},
     "output_type": "display_data"
    },
    {
     "name": "stderr",
     "output_type": "stream",
     "text": [
      "INFO - 2025-10-17T06:27:45Z - Successfully downloaded to glory_data_interim_daily/glory_2021-09-17.nc\n",
      "INFO - 2025-10-17T06:27:48Z - Selected dataset version: \"202311\"\n",
      "INFO - 2025-10-17T06:27:48Z - Selected dataset part: \"default\"\n",
      "INFO - 2025-10-17T06:27:51Z - Starting download. Please wait...\n"
     ]
    },
    {
     "data": {
      "application/vnd.jupyter.widget-view+json": {
       "model_id": "893db37634e24aa3b0a73ad21903805a",
       "version_major": 2,
       "version_minor": 0
      },
      "text/plain": [
       "  0%|          | 0/70 [00:00<?, ?it/s]"
      ]
     },
     "metadata": {},
     "output_type": "display_data"
    },
    {
     "name": "stderr",
     "output_type": "stream",
     "text": [
      "INFO - 2025-10-17T06:30:08Z - Successfully downloaded to glory_data_interim_daily/glory_2021-09-18.nc\n",
      "INFO - 2025-10-17T06:30:13Z - Selected dataset version: \"202311\"\n",
      "INFO - 2025-10-17T06:30:13Z - Selected dataset part: \"default\"\n",
      "INFO - 2025-10-17T06:30:16Z - Starting download. Please wait...\n"
     ]
    },
    {
     "data": {
      "application/vnd.jupyter.widget-view+json": {
       "model_id": "a1f002da68424642bac48d6b4f0bb522",
       "version_major": 2,
       "version_minor": 0
      },
      "text/plain": [
       "  0%|          | 0/70 [00:00<?, ?it/s]"
      ]
     },
     "metadata": {},
     "output_type": "display_data"
    },
    {
     "name": "stderr",
     "output_type": "stream",
     "text": [
      "INFO - 2025-10-17T06:32:30Z - Successfully downloaded to glory_data_interim_daily/glory_2021-09-19.nc\n",
      "INFO - 2025-10-17T06:32:33Z - Selected dataset version: \"202311\"\n",
      "INFO - 2025-10-17T06:32:33Z - Selected dataset part: \"default\"\n",
      "INFO - 2025-10-17T06:32:36Z - Starting download. Please wait...\n"
     ]
    },
    {
     "data": {
      "application/vnd.jupyter.widget-view+json": {
       "model_id": "03da0d04b9db4fdf9178d896b4a8a5d5",
       "version_major": 2,
       "version_minor": 0
      },
      "text/plain": [
       "  0%|          | 0/70 [00:00<?, ?it/s]"
      ]
     },
     "metadata": {},
     "output_type": "display_data"
    },
    {
     "name": "stderr",
     "output_type": "stream",
     "text": [
      "INFO - 2025-10-17T06:34:54Z - Successfully downloaded to glory_data_interim_daily/glory_2021-09-20.nc\n",
      "INFO - 2025-10-17T06:34:57Z - Selected dataset version: \"202311\"\n",
      "INFO - 2025-10-17T06:34:57Z - Selected dataset part: \"default\"\n",
      "INFO - 2025-10-17T06:35:00Z - Starting download. Please wait...\n"
     ]
    },
    {
     "data": {
      "application/vnd.jupyter.widget-view+json": {
       "model_id": "59a5814b83c6464b962a39ec3730e123",
       "version_major": 2,
       "version_minor": 0
      },
      "text/plain": [
       "  0%|          | 0/70 [00:00<?, ?it/s]"
      ]
     },
     "metadata": {},
     "output_type": "display_data"
    },
    {
     "name": "stderr",
     "output_type": "stream",
     "text": [
      "INFO - 2025-10-17T06:37:13Z - Successfully downloaded to glory_data_interim_daily/glory_2021-09-21.nc\n",
      "INFO - 2025-10-17T06:37:16Z - Selected dataset version: \"202311\"\n",
      "INFO - 2025-10-17T06:37:16Z - Selected dataset part: \"default\"\n",
      "INFO - 2025-10-17T06:37:19Z - Starting download. Please wait...\n"
     ]
    },
    {
     "data": {
      "application/vnd.jupyter.widget-view+json": {
       "model_id": "43dafb64babf4d7ebceca40c8c937f31",
       "version_major": 2,
       "version_minor": 0
      },
      "text/plain": [
       "  0%|          | 0/70 [00:00<?, ?it/s]"
      ]
     },
     "metadata": {},
     "output_type": "display_data"
    },
    {
     "name": "stderr",
     "output_type": "stream",
     "text": [
      "INFO - 2025-10-17T06:39:26Z - Successfully downloaded to glory_data_interim_daily/glory_2021-09-22.nc\n",
      "INFO - 2025-10-17T06:39:28Z - Selected dataset version: \"202311\"\n",
      "INFO - 2025-10-17T06:39:28Z - Selected dataset part: \"default\"\n",
      "INFO - 2025-10-17T06:39:31Z - Starting download. Please wait...\n"
     ]
    },
    {
     "data": {
      "application/vnd.jupyter.widget-view+json": {
       "model_id": "851404db3c134bd8932334a438dadd5d",
       "version_major": 2,
       "version_minor": 0
      },
      "text/plain": [
       "  0%|          | 0/70 [00:00<?, ?it/s]"
      ]
     },
     "metadata": {},
     "output_type": "display_data"
    },
    {
     "name": "stderr",
     "output_type": "stream",
     "text": [
      "INFO - 2025-10-17T06:41:48Z - Successfully downloaded to glory_data_interim_daily/glory_2021-09-23.nc\n",
      "INFO - 2025-10-17T06:41:51Z - Selected dataset version: \"202311\"\n",
      "INFO - 2025-10-17T06:41:51Z - Selected dataset part: \"default\"\n",
      "INFO - 2025-10-17T06:41:54Z - Starting download. Please wait...\n"
     ]
    },
    {
     "data": {
      "application/vnd.jupyter.widget-view+json": {
       "model_id": "c0407953ffd24f6ea8264deacdd9bcfc",
       "version_major": 2,
       "version_minor": 0
      },
      "text/plain": [
       "  0%|          | 0/70 [00:00<?, ?it/s]"
      ]
     },
     "metadata": {},
     "output_type": "display_data"
    },
    {
     "name": "stderr",
     "output_type": "stream",
     "text": [
      "INFO - 2025-10-17T06:44:04Z - Successfully downloaded to glory_data_interim_daily/glory_2021-09-24.nc\n",
      "INFO - 2025-10-17T06:44:06Z - Selected dataset version: \"202311\"\n",
      "INFO - 2025-10-17T06:44:06Z - Selected dataset part: \"default\"\n",
      "INFO - 2025-10-17T06:44:09Z - Starting download. Please wait...\n"
     ]
    },
    {
     "data": {
      "application/vnd.jupyter.widget-view+json": {
       "model_id": "8ca26135e3264244affeeb1bd68ad207",
       "version_major": 2,
       "version_minor": 0
      },
      "text/plain": [
       "  0%|          | 0/70 [00:00<?, ?it/s]"
      ]
     },
     "metadata": {},
     "output_type": "display_data"
    },
    {
     "name": "stderr",
     "output_type": "stream",
     "text": [
      "INFO - 2025-10-17T06:46:16Z - Successfully downloaded to glory_data_interim_daily/glory_2021-09-25.nc\n",
      "INFO - 2025-10-17T06:46:19Z - Selected dataset version: \"202311\"\n",
      "INFO - 2025-10-17T06:46:19Z - Selected dataset part: \"default\"\n",
      "INFO - 2025-10-17T06:46:21Z - Starting download. Please wait...\n"
     ]
    },
    {
     "data": {
      "application/vnd.jupyter.widget-view+json": {
       "model_id": "7daf7fbc5e2548d3aed1144bc5b5dbf3",
       "version_major": 2,
       "version_minor": 0
      },
      "text/plain": [
       "  0%|          | 0/70 [00:00<?, ?it/s]"
      ]
     },
     "metadata": {},
     "output_type": "display_data"
    },
    {
     "name": "stderr",
     "output_type": "stream",
     "text": [
      "INFO - 2025-10-17T06:48:46Z - Successfully downloaded to glory_data_interim_daily/glory_2021-09-26.nc\n",
      "INFO - 2025-10-17T06:48:48Z - Selected dataset version: \"202311\"\n",
      "INFO - 2025-10-17T06:48:48Z - Selected dataset part: \"default\"\n",
      "INFO - 2025-10-17T06:48:51Z - Starting download. Please wait...\n"
     ]
    },
    {
     "data": {
      "application/vnd.jupyter.widget-view+json": {
       "model_id": "1fb5a7c3b0aa4036b845910ec4078c09",
       "version_major": 2,
       "version_minor": 0
      },
      "text/plain": [
       "  0%|          | 0/70 [00:00<?, ?it/s]"
      ]
     },
     "metadata": {},
     "output_type": "display_data"
    },
    {
     "name": "stderr",
     "output_type": "stream",
     "text": [
      "INFO - 2025-10-17T06:51:13Z - Successfully downloaded to glory_data_interim_daily/glory_2021-09-27.nc\n",
      "INFO - 2025-10-17T06:51:15Z - Selected dataset version: \"202311\"\n",
      "INFO - 2025-10-17T06:51:15Z - Selected dataset part: \"default\"\n",
      "INFO - 2025-10-17T06:51:18Z - Starting download. Please wait...\n"
     ]
    },
    {
     "data": {
      "application/vnd.jupyter.widget-view+json": {
       "model_id": "bd7baabb29a344ba8262ba780f785f95",
       "version_major": 2,
       "version_minor": 0
      },
      "text/plain": [
       "  0%|          | 0/70 [00:00<?, ?it/s]"
      ]
     },
     "metadata": {},
     "output_type": "display_data"
    },
    {
     "name": "stderr",
     "output_type": "stream",
     "text": [
      "INFO - 2025-10-17T06:53:39Z - Successfully downloaded to glory_data_interim_daily/glory_2021-09-28.nc\n",
      "INFO - 2025-10-17T06:53:41Z - Selected dataset version: \"202311\"\n",
      "INFO - 2025-10-17T06:53:41Z - Selected dataset part: \"default\"\n",
      "INFO - 2025-10-17T06:53:44Z - Starting download. Please wait...\n"
     ]
    },
    {
     "data": {
      "application/vnd.jupyter.widget-view+json": {
       "model_id": "0fa1ac92029840a4a1c0eb655a56491c",
       "version_major": 2,
       "version_minor": 0
      },
      "text/plain": [
       "  0%|          | 0/70 [00:00<?, ?it/s]"
      ]
     },
     "metadata": {},
     "output_type": "display_data"
    },
    {
     "name": "stderr",
     "output_type": "stream",
     "text": [
      "INFO - 2025-10-17T06:55:55Z - Successfully downloaded to glory_data_interim_daily/glory_2021-09-29.nc\n",
      "INFO - 2025-10-17T06:55:58Z - Selected dataset version: \"202311\"\n",
      "INFO - 2025-10-17T06:55:58Z - Selected dataset part: \"default\"\n",
      "INFO - 2025-10-17T06:56:01Z - Starting download. Please wait...\n"
     ]
    },
    {
     "data": {
      "application/vnd.jupyter.widget-view+json": {
       "model_id": "69830cc1e80543c8a38422526ae173c4",
       "version_major": 2,
       "version_minor": 0
      },
      "text/plain": [
       "  0%|          | 0/70 [00:00<?, ?it/s]"
      ]
     },
     "metadata": {},
     "output_type": "display_data"
    },
    {
     "name": "stderr",
     "output_type": "stream",
     "text": [
      "INFO - 2025-10-17T06:58:19Z - Successfully downloaded to glory_data_interim_daily/glory_2021-09-30.nc\n",
      "INFO - 2025-10-17T06:58:22Z - Selected dataset version: \"202311\"\n",
      "INFO - 2025-10-17T06:58:22Z - Selected dataset part: \"default\"\n",
      "INFO - 2025-10-17T06:58:25Z - Starting download. Please wait...\n"
     ]
    },
    {
     "data": {
      "application/vnd.jupyter.widget-view+json": {
       "model_id": "7054e6730101439981ef0b0098c54ede",
       "version_major": 2,
       "version_minor": 0
      },
      "text/plain": [
       "  0%|          | 0/70 [00:00<?, ?it/s]"
      ]
     },
     "metadata": {},
     "output_type": "display_data"
    },
    {
     "name": "stderr",
     "output_type": "stream",
     "text": [
      "INFO - 2025-10-17T07:00:40Z - Successfully downloaded to glory_data_interim_daily/glory_2021-10-01.nc\n",
      "INFO - 2025-10-17T07:00:43Z - Selected dataset version: \"202311\"\n",
      "INFO - 2025-10-17T07:00:43Z - Selected dataset part: \"default\"\n",
      "INFO - 2025-10-17T07:00:46Z - Starting download. Please wait...\n"
     ]
    },
    {
     "data": {
      "application/vnd.jupyter.widget-view+json": {
       "model_id": "baa69c4bd73a4b7d999a6326df83f9f0",
       "version_major": 2,
       "version_minor": 0
      },
      "text/plain": [
       "  0%|          | 0/70 [00:00<?, ?it/s]"
      ]
     },
     "metadata": {},
     "output_type": "display_data"
    },
    {
     "name": "stderr",
     "output_type": "stream",
     "text": [
      "INFO - 2025-10-17T07:03:13Z - Successfully downloaded to glory_data_interim_daily/glory_2021-10-02.nc\n",
      "INFO - 2025-10-17T07:03:16Z - Selected dataset version: \"202311\"\n",
      "INFO - 2025-10-17T07:03:16Z - Selected dataset part: \"default\"\n",
      "INFO - 2025-10-17T07:03:19Z - Starting download. Please wait...\n"
     ]
    },
    {
     "data": {
      "application/vnd.jupyter.widget-view+json": {
       "model_id": "d2f1fffd76a344c4a5de3f27f1f3c126",
       "version_major": 2,
       "version_minor": 0
      },
      "text/plain": [
       "  0%|          | 0/70 [00:00<?, ?it/s]"
      ]
     },
     "metadata": {},
     "output_type": "display_data"
    },
    {
     "name": "stderr",
     "output_type": "stream",
     "text": [
      "INFO - 2025-10-17T07:05:35Z - Successfully downloaded to glory_data_interim_daily/glory_2021-10-03.nc\n",
      "INFO - 2025-10-17T07:05:37Z - Selected dataset version: \"202311\"\n",
      "INFO - 2025-10-17T07:05:37Z - Selected dataset part: \"default\"\n",
      "INFO - 2025-10-17T07:05:40Z - Starting download. Please wait...\n"
     ]
    },
    {
     "data": {
      "application/vnd.jupyter.widget-view+json": {
       "model_id": "8aa614752a81401286cd319572c20cbb",
       "version_major": 2,
       "version_minor": 0
      },
      "text/plain": [
       "  0%|          | 0/70 [00:00<?, ?it/s]"
      ]
     },
     "metadata": {},
     "output_type": "display_data"
    },
    {
     "name": "stderr",
     "output_type": "stream",
     "text": [
      "INFO - 2025-10-17T07:08:03Z - Successfully downloaded to glory_data_interim_daily/glory_2021-10-04.nc\n",
      "INFO - 2025-10-17T07:08:05Z - Selected dataset version: \"202311\"\n",
      "INFO - 2025-10-17T07:08:05Z - Selected dataset part: \"default\"\n",
      "INFO - 2025-10-17T07:08:08Z - Starting download. Please wait...\n"
     ]
    },
    {
     "data": {
      "application/vnd.jupyter.widget-view+json": {
       "model_id": "37f119324cd14ab0b886d72bcfdc6f6f",
       "version_major": 2,
       "version_minor": 0
      },
      "text/plain": [
       "  0%|          | 0/70 [00:00<?, ?it/s]"
      ]
     },
     "metadata": {},
     "output_type": "display_data"
    },
    {
     "name": "stderr",
     "output_type": "stream",
     "text": [
      "INFO - 2025-10-17T07:10:30Z - Successfully downloaded to glory_data_interim_daily/glory_2021-10-05.nc\n",
      "INFO - 2025-10-17T07:10:33Z - Selected dataset version: \"202311\"\n",
      "INFO - 2025-10-17T07:10:33Z - Selected dataset part: \"default\"\n",
      "INFO - 2025-10-17T07:10:36Z - Starting download. Please wait...\n"
     ]
    },
    {
     "data": {
      "application/vnd.jupyter.widget-view+json": {
       "model_id": "5d12bd1389234b25a603ec75ec70d419",
       "version_major": 2,
       "version_minor": 0
      },
      "text/plain": [
       "  0%|          | 0/70 [00:00<?, ?it/s]"
      ]
     },
     "metadata": {},
     "output_type": "display_data"
    },
    {
     "name": "stderr",
     "output_type": "stream",
     "text": [
      "INFO - 2025-10-17T07:12:51Z - Successfully downloaded to glory_data_interim_daily/glory_2021-10-06.nc\n",
      "INFO - 2025-10-17T07:12:54Z - Selected dataset version: \"202311\"\n",
      "INFO - 2025-10-17T07:12:54Z - Selected dataset part: \"default\"\n",
      "INFO - 2025-10-17T07:12:57Z - Starting download. Please wait...\n"
     ]
    },
    {
     "data": {
      "application/vnd.jupyter.widget-view+json": {
       "model_id": "40e5982ec93e4e939cb8a56767715b99",
       "version_major": 2,
       "version_minor": 0
      },
      "text/plain": [
       "  0%|          | 0/70 [00:00<?, ?it/s]"
      ]
     },
     "metadata": {},
     "output_type": "display_data"
    },
    {
     "name": "stderr",
     "output_type": "stream",
     "text": [
      "INFO - 2025-10-17T07:15:14Z - Successfully downloaded to glory_data_interim_daily/glory_2021-10-07.nc\n",
      "INFO - 2025-10-17T07:15:16Z - Selected dataset version: \"202311\"\n",
      "INFO - 2025-10-17T07:15:16Z - Selected dataset part: \"default\"\n",
      "INFO - 2025-10-17T07:15:19Z - Starting download. Please wait...\n"
     ]
    },
    {
     "data": {
      "application/vnd.jupyter.widget-view+json": {
       "model_id": "385a9c4c55e642edae6e7cfcef601c37",
       "version_major": 2,
       "version_minor": 0
      },
      "text/plain": [
       "  0%|          | 0/70 [00:00<?, ?it/s]"
      ]
     },
     "metadata": {},
     "output_type": "display_data"
    },
    {
     "name": "stderr",
     "output_type": "stream",
     "text": [
      "INFO - 2025-10-17T07:17:33Z - Successfully downloaded to glory_data_interim_daily/glory_2021-10-08.nc\n",
      "INFO - 2025-10-17T07:17:35Z - Selected dataset version: \"202311\"\n",
      "INFO - 2025-10-17T07:17:35Z - Selected dataset part: \"default\"\n",
      "INFO - 2025-10-17T07:17:38Z - Starting download. Please wait...\n"
     ]
    },
    {
     "data": {
      "application/vnd.jupyter.widget-view+json": {
       "model_id": "590454acae1b418e9ee9abf399d7d513",
       "version_major": 2,
       "version_minor": 0
      },
      "text/plain": [
       "  0%|          | 0/70 [00:00<?, ?it/s]"
      ]
     },
     "metadata": {},
     "output_type": "display_data"
    },
    {
     "name": "stderr",
     "output_type": "stream",
     "text": [
      "INFO - 2025-10-17T07:19:52Z - Successfully downloaded to glory_data_interim_daily/glory_2021-10-09.nc\n",
      "INFO - 2025-10-17T07:19:55Z - Selected dataset version: \"202311\"\n",
      "INFO - 2025-10-17T07:19:55Z - Selected dataset part: \"default\"\n",
      "INFO - 2025-10-17T07:19:58Z - Starting download. Please wait...\n"
     ]
    },
    {
     "data": {
      "application/vnd.jupyter.widget-view+json": {
       "model_id": "b3f6ed44ce304ad787ded35a881c283b",
       "version_major": 2,
       "version_minor": 0
      },
      "text/plain": [
       "  0%|          | 0/70 [00:00<?, ?it/s]"
      ]
     },
     "metadata": {},
     "output_type": "display_data"
    },
    {
     "name": "stderr",
     "output_type": "stream",
     "text": [
      "INFO - 2025-10-17T07:22:23Z - Successfully downloaded to glory_data_interim_daily/glory_2021-10-10.nc\n",
      "INFO - 2025-10-17T07:22:25Z - Selected dataset version: \"202311\"\n",
      "INFO - 2025-10-17T07:22:25Z - Selected dataset part: \"default\"\n",
      "INFO - 2025-10-17T07:22:28Z - Starting download. Please wait...\n"
     ]
    },
    {
     "data": {
      "application/vnd.jupyter.widget-view+json": {
       "model_id": "12f6af1fd7a14dc8918989c2cae69fff",
       "version_major": 2,
       "version_minor": 0
      },
      "text/plain": [
       "  0%|          | 0/70 [00:00<?, ?it/s]"
      ]
     },
     "metadata": {},
     "output_type": "display_data"
    },
    {
     "name": "stderr",
     "output_type": "stream",
     "text": [
      "INFO - 2025-10-17T07:24:44Z - Successfully downloaded to glory_data_interim_daily/glory_2021-10-11.nc\n",
      "INFO - 2025-10-17T07:24:46Z - Selected dataset version: \"202311\"\n",
      "INFO - 2025-10-17T07:24:46Z - Selected dataset part: \"default\"\n",
      "INFO - 2025-10-17T07:24:49Z - Starting download. Please wait...\n"
     ]
    },
    {
     "data": {
      "application/vnd.jupyter.widget-view+json": {
       "model_id": "ec81b563742c4e2da8911136121edb92",
       "version_major": 2,
       "version_minor": 0
      },
      "text/plain": [
       "  0%|          | 0/70 [00:00<?, ?it/s]"
      ]
     },
     "metadata": {},
     "output_type": "display_data"
    },
    {
     "name": "stderr",
     "output_type": "stream",
     "text": [
      "INFO - 2025-10-17T07:27:13Z - Successfully downloaded to glory_data_interim_daily/glory_2021-10-12.nc\n",
      "INFO - 2025-10-17T07:27:15Z - Selected dataset version: \"202311\"\n",
      "INFO - 2025-10-17T07:27:15Z - Selected dataset part: \"default\"\n",
      "INFO - 2025-10-17T07:27:18Z - Starting download. Please wait...\n"
     ]
    },
    {
     "data": {
      "application/vnd.jupyter.widget-view+json": {
       "model_id": "02b1396690e04f669950b28202f5aeba",
       "version_major": 2,
       "version_minor": 0
      },
      "text/plain": [
       "  0%|          | 0/70 [00:00<?, ?it/s]"
      ]
     },
     "metadata": {},
     "output_type": "display_data"
    },
    {
     "name": "stderr",
     "output_type": "stream",
     "text": [
      "INFO - 2025-10-17T07:29:34Z - Successfully downloaded to glory_data_interim_daily/glory_2021-10-13.nc\n",
      "INFO - 2025-10-17T07:29:36Z - Selected dataset version: \"202311\"\n",
      "INFO - 2025-10-17T07:29:36Z - Selected dataset part: \"default\"\n",
      "INFO - 2025-10-17T07:29:39Z - Starting download. Please wait...\n"
     ]
    },
    {
     "data": {
      "application/vnd.jupyter.widget-view+json": {
       "model_id": "00179459d1ac448faca6487ee74f72b4",
       "version_major": 2,
       "version_minor": 0
      },
      "text/plain": [
       "  0%|          | 0/70 [00:00<?, ?it/s]"
      ]
     },
     "metadata": {},
     "output_type": "display_data"
    },
    {
     "name": "stderr",
     "output_type": "stream",
     "text": [
      "INFO - 2025-10-17T07:31:51Z - Successfully downloaded to glory_data_interim_daily/glory_2021-10-14.nc\n",
      "INFO - 2025-10-17T07:31:53Z - Selected dataset version: \"202311\"\n",
      "INFO - 2025-10-17T07:31:53Z - Selected dataset part: \"default\"\n",
      "INFO - 2025-10-17T07:31:56Z - Starting download. Please wait...\n"
     ]
    },
    {
     "data": {
      "application/vnd.jupyter.widget-view+json": {
       "model_id": "157290b1d77a451c970e4d444669f6b4",
       "version_major": 2,
       "version_minor": 0
      },
      "text/plain": [
       "  0%|          | 0/70 [00:00<?, ?it/s]"
      ]
     },
     "metadata": {},
     "output_type": "display_data"
    },
    {
     "name": "stderr",
     "output_type": "stream",
     "text": [
      "INFO - 2025-10-17T07:34:15Z - Successfully downloaded to glory_data_interim_daily/glory_2021-10-15.nc\n",
      "INFO - 2025-10-17T07:34:18Z - Selected dataset version: \"202311\"\n",
      "INFO - 2025-10-17T07:34:18Z - Selected dataset part: \"default\"\n",
      "INFO - 2025-10-17T07:34:21Z - Starting download. Please wait...\n"
     ]
    },
    {
     "data": {
      "application/vnd.jupyter.widget-view+json": {
       "model_id": "c97877374bbc4c2b9e7c2e25b742d937",
       "version_major": 2,
       "version_minor": 0
      },
      "text/plain": [
       "  0%|          | 0/70 [00:00<?, ?it/s]"
      ]
     },
     "metadata": {},
     "output_type": "display_data"
    },
    {
     "name": "stderr",
     "output_type": "stream",
     "text": [
      "INFO - 2025-10-17T07:36:43Z - Successfully downloaded to glory_data_interim_daily/glory_2021-10-16.nc\n",
      "INFO - 2025-10-17T07:36:46Z - Selected dataset version: \"202311\"\n",
      "INFO - 2025-10-17T07:36:46Z - Selected dataset part: \"default\"\n",
      "INFO - 2025-10-17T07:36:49Z - Starting download. Please wait...\n"
     ]
    },
    {
     "data": {
      "application/vnd.jupyter.widget-view+json": {
       "model_id": "3925a66d3d9d4997863d9baa965d16f3",
       "version_major": 2,
       "version_minor": 0
      },
      "text/plain": [
       "  0%|          | 0/70 [00:00<?, ?it/s]"
      ]
     },
     "metadata": {},
     "output_type": "display_data"
    },
    {
     "name": "stderr",
     "output_type": "stream",
     "text": [
      "INFO - 2025-10-17T07:39:01Z - Successfully downloaded to glory_data_interim_daily/glory_2021-10-17.nc\n",
      "INFO - 2025-10-17T07:39:03Z - Selected dataset version: \"202311\"\n",
      "INFO - 2025-10-17T07:39:03Z - Selected dataset part: \"default\"\n",
      "INFO - 2025-10-17T07:39:06Z - Starting download. Please wait...\n"
     ]
    },
    {
     "data": {
      "application/vnd.jupyter.widget-view+json": {
       "model_id": "764c12f8a1cb46239eb9ead629d6951a",
       "version_major": 2,
       "version_minor": 0
      },
      "text/plain": [
       "  0%|          | 0/70 [00:00<?, ?it/s]"
      ]
     },
     "metadata": {},
     "output_type": "display_data"
    },
    {
     "name": "stderr",
     "output_type": "stream",
     "text": [
      "INFO - 2025-10-17T07:41:15Z - Successfully downloaded to glory_data_interim_daily/glory_2021-10-18.nc\n",
      "INFO - 2025-10-17T07:41:17Z - Selected dataset version: \"202311\"\n",
      "INFO - 2025-10-17T07:41:17Z - Selected dataset part: \"default\"\n",
      "INFO - 2025-10-17T07:41:20Z - Starting download. Please wait...\n"
     ]
    },
    {
     "data": {
      "application/vnd.jupyter.widget-view+json": {
       "model_id": "7f0d28a1be8f437991e23abb1356d1fb",
       "version_major": 2,
       "version_minor": 0
      },
      "text/plain": [
       "  0%|          | 0/70 [00:00<?, ?it/s]"
      ]
     },
     "metadata": {},
     "output_type": "display_data"
    },
    {
     "name": "stderr",
     "output_type": "stream",
     "text": [
      "INFO - 2025-10-17T07:43:37Z - Successfully downloaded to glory_data_interim_daily/glory_2021-10-19.nc\n",
      "INFO - 2025-10-17T07:43:39Z - Selected dataset version: \"202311\"\n",
      "INFO - 2025-10-17T07:43:39Z - Selected dataset part: \"default\"\n",
      "INFO - 2025-10-17T07:43:42Z - Starting download. Please wait...\n"
     ]
    },
    {
     "data": {
      "application/vnd.jupyter.widget-view+json": {
       "model_id": "89d1f54f040b4cbc98aeca4b743397d7",
       "version_major": 2,
       "version_minor": 0
      },
      "text/plain": [
       "  0%|          | 0/70 [00:00<?, ?it/s]"
      ]
     },
     "metadata": {},
     "output_type": "display_data"
    },
    {
     "name": "stderr",
     "output_type": "stream",
     "text": [
      "INFO - 2025-10-17T07:45:58Z - Successfully downloaded to glory_data_interim_daily/glory_2021-10-20.nc\n",
      "INFO - 2025-10-17T07:46:01Z - Selected dataset version: \"202311\"\n",
      "INFO - 2025-10-17T07:46:01Z - Selected dataset part: \"default\"\n",
      "INFO - 2025-10-17T07:46:04Z - Starting download. Please wait...\n"
     ]
    },
    {
     "data": {
      "application/vnd.jupyter.widget-view+json": {
       "model_id": "4cfe4279c33741ffac60a77ec27fcaf8",
       "version_major": 2,
       "version_minor": 0
      },
      "text/plain": [
       "  0%|          | 0/70 [00:00<?, ?it/s]"
      ]
     },
     "metadata": {},
     "output_type": "display_data"
    },
    {
     "name": "stderr",
     "output_type": "stream",
     "text": [
      "INFO - 2025-10-17T07:48:23Z - Successfully downloaded to glory_data_interim_daily/glory_2021-10-21.nc\n",
      "INFO - 2025-10-17T07:48:26Z - Selected dataset version: \"202311\"\n",
      "INFO - 2025-10-17T07:48:26Z - Selected dataset part: \"default\"\n",
      "INFO - 2025-10-17T07:48:29Z - Starting download. Please wait...\n"
     ]
    },
    {
     "data": {
      "application/vnd.jupyter.widget-view+json": {
       "model_id": "2b74d7bdf8e64eed9b8a379af6b3fc8e",
       "version_major": 2,
       "version_minor": 0
      },
      "text/plain": [
       "  0%|          | 0/70 [00:00<?, ?it/s]"
      ]
     },
     "metadata": {},
     "output_type": "display_data"
    },
    {
     "name": "stderr",
     "output_type": "stream",
     "text": [
      "INFO - 2025-10-17T07:50:46Z - Successfully downloaded to glory_data_interim_daily/glory_2021-10-22.nc\n",
      "INFO - 2025-10-17T07:50:48Z - Selected dataset version: \"202311\"\n",
      "INFO - 2025-10-17T07:50:48Z - Selected dataset part: \"default\"\n",
      "INFO - 2025-10-17T07:50:51Z - Starting download. Please wait...\n"
     ]
    },
    {
     "data": {
      "application/vnd.jupyter.widget-view+json": {
       "model_id": "15952605708141e094ed15e2adf4ff5d",
       "version_major": 2,
       "version_minor": 0
      },
      "text/plain": [
       "  0%|          | 0/70 [00:00<?, ?it/s]"
      ]
     },
     "metadata": {},
     "output_type": "display_data"
    },
    {
     "name": "stderr",
     "output_type": "stream",
     "text": [
      "INFO - 2025-10-17T07:53:10Z - Successfully downloaded to glory_data_interim_daily/glory_2021-10-23.nc\n",
      "INFO - 2025-10-17T07:53:12Z - Selected dataset version: \"202311\"\n",
      "INFO - 2025-10-17T07:53:12Z - Selected dataset part: \"default\"\n",
      "INFO - 2025-10-17T07:53:15Z - Starting download. Please wait...\n"
     ]
    },
    {
     "data": {
      "application/vnd.jupyter.widget-view+json": {
       "model_id": "d8a3a58fa0754ed1b91cb27e13b1a1b9",
       "version_major": 2,
       "version_minor": 0
      },
      "text/plain": [
       "  0%|          | 0/70 [00:00<?, ?it/s]"
      ]
     },
     "metadata": {},
     "output_type": "display_data"
    },
    {
     "name": "stderr",
     "output_type": "stream",
     "text": [
      "INFO - 2025-10-17T07:55:38Z - Successfully downloaded to glory_data_interim_daily/glory_2021-10-24.nc\n",
      "INFO - 2025-10-17T07:55:41Z - Selected dataset version: \"202311\"\n",
      "INFO - 2025-10-17T07:55:41Z - Selected dataset part: \"default\"\n",
      "INFO - 2025-10-17T07:55:44Z - Starting download. Please wait...\n"
     ]
    },
    {
     "data": {
      "application/vnd.jupyter.widget-view+json": {
       "model_id": "8ec20e1380c94f7882e3470b09d8d3dd",
       "version_major": 2,
       "version_minor": 0
      },
      "text/plain": [
       "  0%|          | 0/70 [00:00<?, ?it/s]"
      ]
     },
     "metadata": {},
     "output_type": "display_data"
    },
    {
     "name": "stderr",
     "output_type": "stream",
     "text": [
      "INFO - 2025-10-17T07:57:56Z - Successfully downloaded to glory_data_interim_daily/glory_2021-10-25.nc\n",
      "INFO - 2025-10-17T07:57:58Z - Selected dataset version: \"202311\"\n",
      "INFO - 2025-10-17T07:57:58Z - Selected dataset part: \"default\"\n",
      "INFO - 2025-10-17T07:58:01Z - Starting download. Please wait...\n"
     ]
    },
    {
     "data": {
      "application/vnd.jupyter.widget-view+json": {
       "model_id": "330d274407074e45a14172ceaff74a47",
       "version_major": 2,
       "version_minor": 0
      },
      "text/plain": [
       "  0%|          | 0/70 [00:00<?, ?it/s]"
      ]
     },
     "metadata": {},
     "output_type": "display_data"
    },
    {
     "name": "stderr",
     "output_type": "stream",
     "text": [
      "INFO - 2025-10-17T08:00:16Z - Successfully downloaded to glory_data_interim_daily/glory_2021-10-26.nc\n",
      "INFO - 2025-10-17T08:00:19Z - Selected dataset version: \"202311\"\n",
      "INFO - 2025-10-17T08:00:19Z - Selected dataset part: \"default\"\n",
      "INFO - 2025-10-17T08:00:22Z - Starting download. Please wait...\n"
     ]
    },
    {
     "data": {
      "application/vnd.jupyter.widget-view+json": {
       "model_id": "7292f8b3bf554bb49f5f03e2d173ec26",
       "version_major": 2,
       "version_minor": 0
      },
      "text/plain": [
       "  0%|          | 0/70 [00:00<?, ?it/s]"
      ]
     },
     "metadata": {},
     "output_type": "display_data"
    },
    {
     "name": "stderr",
     "output_type": "stream",
     "text": [
      "INFO - 2025-10-17T08:02:34Z - Successfully downloaded to glory_data_interim_daily/glory_2021-10-27.nc\n",
      "INFO - 2025-10-17T08:02:36Z - Selected dataset version: \"202311\"\n",
      "INFO - 2025-10-17T08:02:36Z - Selected dataset part: \"default\"\n",
      "INFO - 2025-10-17T08:02:39Z - Starting download. Please wait...\n"
     ]
    },
    {
     "data": {
      "application/vnd.jupyter.widget-view+json": {
       "model_id": "569897127b1248cf817e55afe2188dc4",
       "version_major": 2,
       "version_minor": 0
      },
      "text/plain": [
       "  0%|          | 0/70 [00:00<?, ?it/s]"
      ]
     },
     "metadata": {},
     "output_type": "display_data"
    },
    {
     "name": "stderr",
     "output_type": "stream",
     "text": [
      "INFO - 2025-10-17T08:05:03Z - Successfully downloaded to glory_data_interim_daily/glory_2021-10-28.nc\n",
      "INFO - 2025-10-17T08:05:06Z - Selected dataset version: \"202311\"\n",
      "INFO - 2025-10-17T08:05:06Z - Selected dataset part: \"default\"\n",
      "INFO - 2025-10-17T08:05:09Z - Starting download. Please wait...\n"
     ]
    },
    {
     "data": {
      "application/vnd.jupyter.widget-view+json": {
       "model_id": "13da36f2f5c740e7b1d18779adeac3e5",
       "version_major": 2,
       "version_minor": 0
      },
      "text/plain": [
       "  0%|          | 0/70 [00:00<?, ?it/s]"
      ]
     },
     "metadata": {},
     "output_type": "display_data"
    },
    {
     "name": "stderr",
     "output_type": "stream",
     "text": [
      "INFO - 2025-10-17T08:07:23Z - Successfully downloaded to glory_data_interim_daily/glory_2021-10-29.nc\n",
      "INFO - 2025-10-17T08:07:26Z - Selected dataset version: \"202311\"\n",
      "INFO - 2025-10-17T08:07:26Z - Selected dataset part: \"default\"\n",
      "INFO - 2025-10-17T08:07:29Z - Starting download. Please wait...\n"
     ]
    },
    {
     "data": {
      "application/vnd.jupyter.widget-view+json": {
       "model_id": "6105577871b1423fadcae16e1d3a2177",
       "version_major": 2,
       "version_minor": 0
      },
      "text/plain": [
       "  0%|          | 0/70 [00:00<?, ?it/s]"
      ]
     },
     "metadata": {},
     "output_type": "display_data"
    },
    {
     "name": "stderr",
     "output_type": "stream",
     "text": [
      "INFO - 2025-10-17T08:09:48Z - Successfully downloaded to glory_data_interim_daily/glory_2021-10-30.nc\n",
      "INFO - 2025-10-17T08:09:51Z - Selected dataset version: \"202311\"\n",
      "INFO - 2025-10-17T08:09:51Z - Selected dataset part: \"default\"\n",
      "INFO - 2025-10-17T08:09:54Z - Starting download. Please wait...\n"
     ]
    },
    {
     "data": {
      "application/vnd.jupyter.widget-view+json": {
       "model_id": "57064a7f2a264a418f79efe834b892e0",
       "version_major": 2,
       "version_minor": 0
      },
      "text/plain": [
       "  0%|          | 0/70 [00:00<?, ?it/s]"
      ]
     },
     "metadata": {},
     "output_type": "display_data"
    },
    {
     "name": "stderr",
     "output_type": "stream",
     "text": [
      "INFO - 2025-10-17T08:12:16Z - Successfully downloaded to glory_data_interim_daily/glory_2021-10-31.nc\n",
      "INFO - 2025-10-17T08:12:19Z - Selected dataset version: \"202311\"\n",
      "INFO - 2025-10-17T08:12:19Z - Selected dataset part: \"default\"\n",
      "INFO - 2025-10-17T08:12:22Z - Starting download. Please wait...\n"
     ]
    },
    {
     "data": {
      "application/vnd.jupyter.widget-view+json": {
       "model_id": "78b27f6f064941f798a1844dd9d4a20a",
       "version_major": 2,
       "version_minor": 0
      },
      "text/plain": [
       "  0%|          | 0/70 [00:00<?, ?it/s]"
      ]
     },
     "metadata": {},
     "output_type": "display_data"
    },
    {
     "name": "stderr",
     "output_type": "stream",
     "text": [
      "INFO - 2025-10-17T08:14:39Z - Successfully downloaded to glory_data_interim_daily/glory_2021-11-01.nc\n",
      "INFO - 2025-10-17T08:14:41Z - Selected dataset version: \"202311\"\n",
      "INFO - 2025-10-17T08:14:41Z - Selected dataset part: \"default\"\n",
      "INFO - 2025-10-17T08:14:44Z - Starting download. Please wait...\n"
     ]
    },
    {
     "data": {
      "application/vnd.jupyter.widget-view+json": {
       "model_id": "79b386cfa09b427491f5e82883c78b38",
       "version_major": 2,
       "version_minor": 0
      },
      "text/plain": [
       "  0%|          | 0/70 [00:00<?, ?it/s]"
      ]
     },
     "metadata": {},
     "output_type": "display_data"
    },
    {
     "name": "stderr",
     "output_type": "stream",
     "text": [
      "INFO - 2025-10-17T08:16:58Z - Successfully downloaded to glory_data_interim_daily/glory_2021-11-02.nc\n",
      "INFO - 2025-10-17T08:17:01Z - Selected dataset version: \"202311\"\n",
      "INFO - 2025-10-17T08:17:01Z - Selected dataset part: \"default\"\n",
      "INFO - 2025-10-17T08:17:04Z - Starting download. Please wait...\n"
     ]
    },
    {
     "data": {
      "application/vnd.jupyter.widget-view+json": {
       "model_id": "d5907937de3a4de1860e7773d0f7100f",
       "version_major": 2,
       "version_minor": 0
      },
      "text/plain": [
       "  0%|          | 0/70 [00:00<?, ?it/s]"
      ]
     },
     "metadata": {},
     "output_type": "display_data"
    },
    {
     "name": "stderr",
     "output_type": "stream",
     "text": [
      "INFO - 2025-10-17T08:19:19Z - Successfully downloaded to glory_data_interim_daily/glory_2021-11-03.nc\n",
      "INFO - 2025-10-17T08:19:22Z - Selected dataset version: \"202311\"\n",
      "INFO - 2025-10-17T08:19:22Z - Selected dataset part: \"default\"\n",
      "INFO - 2025-10-17T08:19:25Z - Starting download. Please wait...\n"
     ]
    },
    {
     "data": {
      "application/vnd.jupyter.widget-view+json": {
       "model_id": "6116d306772b4873abafd9b5d45ef453",
       "version_major": 2,
       "version_minor": 0
      },
      "text/plain": [
       "  0%|          | 0/70 [00:00<?, ?it/s]"
      ]
     },
     "metadata": {},
     "output_type": "display_data"
    },
    {
     "name": "stderr",
     "output_type": "stream",
     "text": [
      "INFO - 2025-10-17T08:21:50Z - Successfully downloaded to glory_data_interim_daily/glory_2021-11-04.nc\n",
      "INFO - 2025-10-17T08:21:53Z - Selected dataset version: \"202311\"\n",
      "INFO - 2025-10-17T08:21:53Z - Selected dataset part: \"default\"\n",
      "INFO - 2025-10-17T08:21:56Z - Starting download. Please wait...\n"
     ]
    },
    {
     "data": {
      "application/vnd.jupyter.widget-view+json": {
       "model_id": "add1d6b850994692abe78d7093592404",
       "version_major": 2,
       "version_minor": 0
      },
      "text/plain": [
       "  0%|          | 0/70 [00:00<?, ?it/s]"
      ]
     },
     "metadata": {},
     "output_type": "display_data"
    },
    {
     "name": "stderr",
     "output_type": "stream",
     "text": [
      "INFO - 2025-10-17T08:24:14Z - Successfully downloaded to glory_data_interim_daily/glory_2021-11-05.nc\n",
      "INFO - 2025-10-17T08:24:17Z - Selected dataset version: \"202311\"\n",
      "INFO - 2025-10-17T08:24:17Z - Selected dataset part: \"default\"\n",
      "INFO - 2025-10-17T08:24:20Z - Starting download. Please wait...\n"
     ]
    },
    {
     "data": {
      "application/vnd.jupyter.widget-view+json": {
       "model_id": "e39c61dfd36c438f82badb5df3afbe85",
       "version_major": 2,
       "version_minor": 0
      },
      "text/plain": [
       "  0%|          | 0/70 [00:00<?, ?it/s]"
      ]
     },
     "metadata": {},
     "output_type": "display_data"
    },
    {
     "name": "stderr",
     "output_type": "stream",
     "text": [
      "INFO - 2025-10-17T08:26:24Z - Successfully downloaded to glory_data_interim_daily/glory_2021-11-06.nc\n",
      "INFO - 2025-10-17T08:26:27Z - Selected dataset version: \"202311\"\n",
      "INFO - 2025-10-17T08:26:27Z - Selected dataset part: \"default\"\n",
      "INFO - 2025-10-17T08:26:29Z - Starting download. Please wait...\n"
     ]
    },
    {
     "data": {
      "application/vnd.jupyter.widget-view+json": {
       "model_id": "2cd5c7ab5c4549c697a5d41dfd4aaa8f",
       "version_major": 2,
       "version_minor": 0
      },
      "text/plain": [
       "  0%|          | 0/70 [00:00<?, ?it/s]"
      ]
     },
     "metadata": {},
     "output_type": "display_data"
    },
    {
     "name": "stderr",
     "output_type": "stream",
     "text": [
      "INFO - 2025-10-17T08:28:45Z - Successfully downloaded to glory_data_interim_daily/glory_2021-11-07.nc\n",
      "INFO - 2025-10-17T08:28:47Z - Selected dataset version: \"202311\"\n",
      "INFO - 2025-10-17T08:28:47Z - Selected dataset part: \"default\"\n",
      "INFO - 2025-10-17T08:28:50Z - Starting download. Please wait...\n"
     ]
    },
    {
     "data": {
      "application/vnd.jupyter.widget-view+json": {
       "model_id": "574c270045cd45d7ac369b6f31f9cb7e",
       "version_major": 2,
       "version_minor": 0
      },
      "text/plain": [
       "  0%|          | 0/70 [00:00<?, ?it/s]"
      ]
     },
     "metadata": {},
     "output_type": "display_data"
    },
    {
     "name": "stderr",
     "output_type": "stream",
     "text": [
      "INFO - 2025-10-17T08:31:01Z - Successfully downloaded to glory_data_interim_daily/glory_2021-11-08.nc\n",
      "INFO - 2025-10-17T08:31:04Z - Selected dataset version: \"202311\"\n",
      "INFO - 2025-10-17T08:31:04Z - Selected dataset part: \"default\"\n",
      "INFO - 2025-10-17T08:31:06Z - Starting download. Please wait...\n"
     ]
    },
    {
     "data": {
      "application/vnd.jupyter.widget-view+json": {
       "model_id": "e0c3360010ba4cf1bb6b982aecef34e3",
       "version_major": 2,
       "version_minor": 0
      },
      "text/plain": [
       "  0%|          | 0/70 [00:00<?, ?it/s]"
      ]
     },
     "metadata": {},
     "output_type": "display_data"
    },
    {
     "name": "stderr",
     "output_type": "stream",
     "text": [
      "INFO - 2025-10-17T08:33:21Z - Successfully downloaded to glory_data_interim_daily/glory_2021-11-09.nc\n",
      "INFO - 2025-10-17T08:33:23Z - Selected dataset version: \"202311\"\n",
      "INFO - 2025-10-17T08:33:23Z - Selected dataset part: \"default\"\n",
      "INFO - 2025-10-17T08:33:26Z - Starting download. Please wait...\n"
     ]
    },
    {
     "data": {
      "application/vnd.jupyter.widget-view+json": {
       "model_id": "e921b33faee9438386095cb5cf0143a6",
       "version_major": 2,
       "version_minor": 0
      },
      "text/plain": [
       "  0%|          | 0/70 [00:00<?, ?it/s]"
      ]
     },
     "metadata": {},
     "output_type": "display_data"
    },
    {
     "name": "stderr",
     "output_type": "stream",
     "text": [
      "INFO - 2025-10-17T08:35:36Z - Successfully downloaded to glory_data_interim_daily/glory_2021-11-10.nc\n",
      "INFO - 2025-10-17T08:35:38Z - Selected dataset version: \"202311\"\n",
      "INFO - 2025-10-17T08:35:38Z - Selected dataset part: \"default\"\n",
      "INFO - 2025-10-17T08:35:41Z - Starting download. Please wait...\n"
     ]
    },
    {
     "data": {
      "application/vnd.jupyter.widget-view+json": {
       "model_id": "ecc2604dadcb448fb006af4974ed3ae0",
       "version_major": 2,
       "version_minor": 0
      },
      "text/plain": [
       "  0%|          | 0/70 [00:00<?, ?it/s]"
      ]
     },
     "metadata": {},
     "output_type": "display_data"
    },
    {
     "name": "stderr",
     "output_type": "stream",
     "text": [
      "INFO - 2025-10-17T08:38:04Z - Successfully downloaded to glory_data_interim_daily/glory_2021-11-11.nc\n",
      "INFO - 2025-10-17T08:38:07Z - Selected dataset version: \"202311\"\n",
      "INFO - 2025-10-17T08:38:07Z - Selected dataset part: \"default\"\n",
      "INFO - 2025-10-17T08:38:10Z - Starting download. Please wait...\n"
     ]
    },
    {
     "data": {
      "application/vnd.jupyter.widget-view+json": {
       "model_id": "40970e5876b9424d993874d50762a220",
       "version_major": 2,
       "version_minor": 0
      },
      "text/plain": [
       "  0%|          | 0/70 [00:00<?, ?it/s]"
      ]
     },
     "metadata": {},
     "output_type": "display_data"
    },
    {
     "name": "stderr",
     "output_type": "stream",
     "text": [
      "INFO - 2025-10-17T08:40:34Z - Successfully downloaded to glory_data_interim_daily/glory_2021-11-12.nc\n",
      "INFO - 2025-10-17T08:40:38Z - Selected dataset version: \"202311\"\n",
      "INFO - 2025-10-17T08:40:38Z - Selected dataset part: \"default\"\n",
      "INFO - 2025-10-17T08:40:41Z - Starting download. Please wait...\n"
     ]
    },
    {
     "data": {
      "application/vnd.jupyter.widget-view+json": {
       "model_id": "4c87fc168b3848e1968a3afaeebb78ba",
       "version_major": 2,
       "version_minor": 0
      },
      "text/plain": [
       "  0%|          | 0/70 [00:00<?, ?it/s]"
      ]
     },
     "metadata": {},
     "output_type": "display_data"
    },
    {
     "name": "stderr",
     "output_type": "stream",
     "text": [
      "INFO - 2025-10-17T08:43:00Z - Successfully downloaded to glory_data_interim_daily/glory_2021-11-13.nc\n",
      "INFO - 2025-10-17T08:43:04Z - Selected dataset version: \"202311\"\n",
      "INFO - 2025-10-17T08:43:04Z - Selected dataset part: \"default\"\n",
      "INFO - 2025-10-17T08:43:07Z - Starting download. Please wait...\n"
     ]
    },
    {
     "data": {
      "application/vnd.jupyter.widget-view+json": {
       "model_id": "2757fc19a7d24f0fb63643c77d9f2b4d",
       "version_major": 2,
       "version_minor": 0
      },
      "text/plain": [
       "  0%|          | 0/70 [00:00<?, ?it/s]"
      ]
     },
     "metadata": {},
     "output_type": "display_data"
    },
    {
     "name": "stderr",
     "output_type": "stream",
     "text": [
      "INFO - 2025-10-17T08:45:22Z - Successfully downloaded to glory_data_interim_daily/glory_2021-11-14.nc\n",
      "INFO - 2025-10-17T08:45:25Z - Selected dataset version: \"202311\"\n",
      "INFO - 2025-10-17T08:45:25Z - Selected dataset part: \"default\"\n",
      "INFO - 2025-10-17T08:45:28Z - Starting download. Please wait...\n"
     ]
    },
    {
     "data": {
      "application/vnd.jupyter.widget-view+json": {
       "model_id": "d10e6efbe602408ea5737bd1312b38f4",
       "version_major": 2,
       "version_minor": 0
      },
      "text/plain": [
       "  0%|          | 0/70 [00:00<?, ?it/s]"
      ]
     },
     "metadata": {},
     "output_type": "display_data"
    },
    {
     "name": "stderr",
     "output_type": "stream",
     "text": [
      "INFO - 2025-10-17T08:47:35Z - Successfully downloaded to glory_data_interim_daily/glory_2021-11-15.nc\n",
      "INFO - 2025-10-17T08:47:38Z - Selected dataset version: \"202311\"\n",
      "INFO - 2025-10-17T08:47:38Z - Selected dataset part: \"default\"\n",
      "INFO - 2025-10-17T08:47:41Z - Starting download. Please wait...\n"
     ]
    },
    {
     "data": {
      "application/vnd.jupyter.widget-view+json": {
       "model_id": "71383beda3d6495fa5b6447104b8c652",
       "version_major": 2,
       "version_minor": 0
      },
      "text/plain": [
       "  0%|          | 0/70 [00:00<?, ?it/s]"
      ]
     },
     "metadata": {},
     "output_type": "display_data"
    },
    {
     "name": "stderr",
     "output_type": "stream",
     "text": [
      "INFO - 2025-10-17T08:49:57Z - Successfully downloaded to glory_data_interim_daily/glory_2021-11-16.nc\n",
      "INFO - 2025-10-17T08:49:59Z - Selected dataset version: \"202311\"\n",
      "INFO - 2025-10-17T08:49:59Z - Selected dataset part: \"default\"\n",
      "INFO - 2025-10-17T08:50:02Z - Starting download. Please wait...\n"
     ]
    },
    {
     "data": {
      "application/vnd.jupyter.widget-view+json": {
       "model_id": "90e79ec9718844a8802b8de9e01d00ce",
       "version_major": 2,
       "version_minor": 0
      },
      "text/plain": [
       "  0%|          | 0/70 [00:00<?, ?it/s]"
      ]
     },
     "metadata": {},
     "output_type": "display_data"
    },
    {
     "name": "stderr",
     "output_type": "stream",
     "text": [
      "INFO - 2025-10-17T08:52:16Z - Successfully downloaded to glory_data_interim_daily/glory_2021-11-17.nc\n",
      "INFO - 2025-10-17T08:52:18Z - Selected dataset version: \"202311\"\n",
      "INFO - 2025-10-17T08:52:18Z - Selected dataset part: \"default\"\n",
      "INFO - 2025-10-17T08:52:21Z - Starting download. Please wait...\n"
     ]
    },
    {
     "data": {
      "application/vnd.jupyter.widget-view+json": {
       "model_id": "a315ec59ab8f49b49463ac65613d4f35",
       "version_major": 2,
       "version_minor": 0
      },
      "text/plain": [
       "  0%|          | 0/70 [00:00<?, ?it/s]"
      ]
     },
     "metadata": {},
     "output_type": "display_data"
    },
    {
     "name": "stderr",
     "output_type": "stream",
     "text": [
      "INFO - 2025-10-17T08:54:41Z - Successfully downloaded to glory_data_interim_daily/glory_2021-11-18.nc\n",
      "INFO - 2025-10-17T08:54:44Z - Selected dataset version: \"202311\"\n",
      "INFO - 2025-10-17T08:54:44Z - Selected dataset part: \"default\"\n",
      "INFO - 2025-10-17T08:54:47Z - Starting download. Please wait...\n"
     ]
    },
    {
     "data": {
      "application/vnd.jupyter.widget-view+json": {
       "model_id": "7913d4b0f75a4a3c81345a10c7af7960",
       "version_major": 2,
       "version_minor": 0
      },
      "text/plain": [
       "  0%|          | 0/70 [00:00<?, ?it/s]"
      ]
     },
     "metadata": {},
     "output_type": "display_data"
    },
    {
     "name": "stderr",
     "output_type": "stream",
     "text": [
      "INFO - 2025-10-17T08:57:03Z - Successfully downloaded to glory_data_interim_daily/glory_2021-11-19.nc\n",
      "INFO - 2025-10-17T08:57:06Z - Selected dataset version: \"202311\"\n",
      "INFO - 2025-10-17T08:57:06Z - Selected dataset part: \"default\"\n",
      "INFO - 2025-10-17T08:57:08Z - Starting download. Please wait...\n"
     ]
    },
    {
     "data": {
      "application/vnd.jupyter.widget-view+json": {
       "model_id": "01cb6059a7824d52be3313ae12ec6b02",
       "version_major": 2,
       "version_minor": 0
      },
      "text/plain": [
       "  0%|          | 0/70 [00:00<?, ?it/s]"
      ]
     },
     "metadata": {},
     "output_type": "display_data"
    },
    {
     "name": "stderr",
     "output_type": "stream",
     "text": [
      "INFO - 2025-10-17T08:59:24Z - Successfully downloaded to glory_data_interim_daily/glory_2021-11-20.nc\n",
      "INFO - 2025-10-17T08:59:26Z - Selected dataset version: \"202311\"\n",
      "INFO - 2025-10-17T08:59:26Z - Selected dataset part: \"default\"\n",
      "INFO - 2025-10-17T08:59:29Z - Starting download. Please wait...\n"
     ]
    },
    {
     "data": {
      "application/vnd.jupyter.widget-view+json": {
       "model_id": "a78c01695d3b4191943b0a0e3659f4fe",
       "version_major": 2,
       "version_minor": 0
      },
      "text/plain": [
       "  0%|          | 0/70 [00:00<?, ?it/s]"
      ]
     },
     "metadata": {},
     "output_type": "display_data"
    },
    {
     "name": "stderr",
     "output_type": "stream",
     "text": [
      "INFO - 2025-10-17T09:01:51Z - Successfully downloaded to glory_data_interim_daily/glory_2021-11-21.nc\n",
      "INFO - 2025-10-17T09:01:54Z - Selected dataset version: \"202311\"\n",
      "INFO - 2025-10-17T09:01:54Z - Selected dataset part: \"default\"\n",
      "INFO - 2025-10-17T09:01:57Z - Starting download. Please wait...\n"
     ]
    },
    {
     "data": {
      "application/vnd.jupyter.widget-view+json": {
       "model_id": "7f8cd77a610e460da9ddec77d93a5f26",
       "version_major": 2,
       "version_minor": 0
      },
      "text/plain": [
       "  0%|          | 0/70 [00:00<?, ?it/s]"
      ]
     },
     "metadata": {},
     "output_type": "display_data"
    },
    {
     "name": "stderr",
     "output_type": "stream",
     "text": [
      "INFO - 2025-10-17T09:04:22Z - Successfully downloaded to glory_data_interim_daily/glory_2021-11-22.nc\n",
      "INFO - 2025-10-17T09:04:24Z - Selected dataset version: \"202311\"\n",
      "INFO - 2025-10-17T09:04:24Z - Selected dataset part: \"default\"\n",
      "INFO - 2025-10-17T09:04:27Z - Starting download. Please wait...\n"
     ]
    },
    {
     "data": {
      "application/vnd.jupyter.widget-view+json": {
       "model_id": "221397f8be8d4009ac73c5437420aaa9",
       "version_major": 2,
       "version_minor": 0
      },
      "text/plain": [
       "  0%|          | 0/70 [00:00<?, ?it/s]"
      ]
     },
     "metadata": {},
     "output_type": "display_data"
    },
    {
     "name": "stderr",
     "output_type": "stream",
     "text": [
      "INFO - 2025-10-17T09:06:52Z - Successfully downloaded to glory_data_interim_daily/glory_2021-11-23.nc\n",
      "INFO - 2025-10-17T09:06:55Z - Selected dataset version: \"202311\"\n",
      "INFO - 2025-10-17T09:06:55Z - Selected dataset part: \"default\"\n",
      "INFO - 2025-10-17T09:06:58Z - Starting download. Please wait...\n"
     ]
    },
    {
     "data": {
      "application/vnd.jupyter.widget-view+json": {
       "model_id": "e015ab9bedaf4d3ebb337ec08d2a3534",
       "version_major": 2,
       "version_minor": 0
      },
      "text/plain": [
       "  0%|          | 0/70 [00:00<?, ?it/s]"
      ]
     },
     "metadata": {},
     "output_type": "display_data"
    },
    {
     "name": "stderr",
     "output_type": "stream",
     "text": [
      "INFO - 2025-10-17T09:09:21Z - Successfully downloaded to glory_data_interim_daily/glory_2021-11-24.nc\n",
      "INFO - 2025-10-17T09:09:24Z - Selected dataset version: \"202311\"\n",
      "INFO - 2025-10-17T09:09:24Z - Selected dataset part: \"default\"\n",
      "INFO - 2025-10-17T09:09:27Z - Starting download. Please wait...\n"
     ]
    },
    {
     "data": {
      "application/vnd.jupyter.widget-view+json": {
       "model_id": "432f0010a5c74ac2ba719466cb6f0d38",
       "version_major": 2,
       "version_minor": 0
      },
      "text/plain": [
       "  0%|          | 0/70 [00:00<?, ?it/s]"
      ]
     },
     "metadata": {},
     "output_type": "display_data"
    },
    {
     "name": "stderr",
     "output_type": "stream",
     "text": [
      "INFO - 2025-10-17T09:11:42Z - Successfully downloaded to glory_data_interim_daily/glory_2021-11-25.nc\n",
      "INFO - 2025-10-17T09:11:45Z - Selected dataset version: \"202311\"\n",
      "INFO - 2025-10-17T09:11:45Z - Selected dataset part: \"default\"\n",
      "INFO - 2025-10-17T09:11:48Z - Starting download. Please wait...\n"
     ]
    },
    {
     "data": {
      "application/vnd.jupyter.widget-view+json": {
       "model_id": "bfa500e18c9344fea45f38da08bbf1e6",
       "version_major": 2,
       "version_minor": 0
      },
      "text/plain": [
       "  0%|          | 0/70 [00:00<?, ?it/s]"
      ]
     },
     "metadata": {},
     "output_type": "display_data"
    },
    {
     "name": "stderr",
     "output_type": "stream",
     "text": [
      "INFO - 2025-10-17T09:14:06Z - Successfully downloaded to glory_data_interim_daily/glory_2021-11-26.nc\n",
      "INFO - 2025-10-17T09:14:08Z - Selected dataset version: \"202311\"\n",
      "INFO - 2025-10-17T09:14:08Z - Selected dataset part: \"default\"\n",
      "INFO - 2025-10-17T09:14:11Z - Starting download. Please wait...\n"
     ]
    },
    {
     "data": {
      "application/vnd.jupyter.widget-view+json": {
       "model_id": "b8214cb44c5148d988778e3bea6739c6",
       "version_major": 2,
       "version_minor": 0
      },
      "text/plain": [
       "  0%|          | 0/70 [00:00<?, ?it/s]"
      ]
     },
     "metadata": {},
     "output_type": "display_data"
    },
    {
     "name": "stderr",
     "output_type": "stream",
     "text": [
      "INFO - 2025-10-17T09:16:28Z - Successfully downloaded to glory_data_interim_daily/glory_2021-11-27.nc\n",
      "INFO - 2025-10-17T09:16:30Z - Selected dataset version: \"202311\"\n",
      "INFO - 2025-10-17T09:16:30Z - Selected dataset part: \"default\"\n",
      "INFO - 2025-10-17T09:16:33Z - Starting download. Please wait...\n"
     ]
    },
    {
     "data": {
      "application/vnd.jupyter.widget-view+json": {
       "model_id": "7a08a13dcb964d4e9f647d0b54ca9459",
       "version_major": 2,
       "version_minor": 0
      },
      "text/plain": [
       "  0%|          | 0/70 [00:00<?, ?it/s]"
      ]
     },
     "metadata": {},
     "output_type": "display_data"
    },
    {
     "name": "stderr",
     "output_type": "stream",
     "text": [
      "INFO - 2025-10-17T09:18:54Z - Successfully downloaded to glory_data_interim_daily/glory_2021-11-28.nc\n",
      "INFO - 2025-10-17T09:18:56Z - Selected dataset version: \"202311\"\n",
      "INFO - 2025-10-17T09:18:56Z - Selected dataset part: \"default\"\n",
      "INFO - 2025-10-17T09:18:59Z - Starting download. Please wait...\n"
     ]
    },
    {
     "data": {
      "application/vnd.jupyter.widget-view+json": {
       "model_id": "9cc013c36d694b57980803d6c008d11d",
       "version_major": 2,
       "version_minor": 0
      },
      "text/plain": [
       "  0%|          | 0/70 [00:00<?, ?it/s]"
      ]
     },
     "metadata": {},
     "output_type": "display_data"
    },
    {
     "name": "stderr",
     "output_type": "stream",
     "text": [
      "INFO - 2025-10-17T09:21:12Z - Successfully downloaded to glory_data_interim_daily/glory_2021-11-29.nc\n",
      "INFO - 2025-10-17T09:21:15Z - Selected dataset version: \"202311\"\n",
      "INFO - 2025-10-17T09:21:15Z - Selected dataset part: \"default\"\n",
      "INFO - 2025-10-17T09:21:18Z - Starting download. Please wait...\n"
     ]
    },
    {
     "data": {
      "application/vnd.jupyter.widget-view+json": {
       "model_id": "853a0e7f477749d18bcd8d47dc6eff98",
       "version_major": 2,
       "version_minor": 0
      },
      "text/plain": [
       "  0%|          | 0/70 [00:00<?, ?it/s]"
      ]
     },
     "metadata": {},
     "output_type": "display_data"
    },
    {
     "name": "stderr",
     "output_type": "stream",
     "text": [
      "INFO - 2025-10-17T09:23:38Z - Successfully downloaded to glory_data_interim_daily/glory_2021-11-30.nc\n",
      "INFO - 2025-10-17T09:23:41Z - Selected dataset version: \"202311\"\n",
      "INFO - 2025-10-17T09:23:41Z - Selected dataset part: \"default\"\n",
      "INFO - 2025-10-17T09:23:44Z - Starting download. Please wait...\n"
     ]
    },
    {
     "data": {
      "application/vnd.jupyter.widget-view+json": {
       "model_id": "6ea8a13d147c4ad983db8eff486737cb",
       "version_major": 2,
       "version_minor": 0
      },
      "text/plain": [
       "  0%|          | 0/70 [00:00<?, ?it/s]"
      ]
     },
     "metadata": {},
     "output_type": "display_data"
    },
    {
     "name": "stderr",
     "output_type": "stream",
     "text": [
      "INFO - 2025-10-17T09:26:03Z - Successfully downloaded to glory_data_interim_daily/glory_2021-12-01.nc\n",
      "INFO - 2025-10-17T09:26:05Z - Selected dataset version: \"202311\"\n",
      "INFO - 2025-10-17T09:26:05Z - Selected dataset part: \"default\"\n",
      "INFO - 2025-10-17T09:26:08Z - Starting download. Please wait...\n"
     ]
    },
    {
     "data": {
      "application/vnd.jupyter.widget-view+json": {
       "model_id": "9510703bc0654702b7604446ad6aa52f",
       "version_major": 2,
       "version_minor": 0
      },
      "text/plain": [
       "  0%|          | 0/70 [00:00<?, ?it/s]"
      ]
     },
     "metadata": {},
     "output_type": "display_data"
    },
    {
     "name": "stderr",
     "output_type": "stream",
     "text": [
      "INFO - 2025-10-17T09:28:22Z - Successfully downloaded to glory_data_interim_daily/glory_2021-12-02.nc\n",
      "INFO - 2025-10-17T09:28:25Z - Selected dataset version: \"202311\"\n",
      "INFO - 2025-10-17T09:28:25Z - Selected dataset part: \"default\"\n",
      "INFO - 2025-10-17T09:28:28Z - Starting download. Please wait...\n"
     ]
    },
    {
     "data": {
      "application/vnd.jupyter.widget-view+json": {
       "model_id": "012981779cc742718474fa09ea730088",
       "version_major": 2,
       "version_minor": 0
      },
      "text/plain": [
       "  0%|          | 0/70 [00:00<?, ?it/s]"
      ]
     },
     "metadata": {},
     "output_type": "display_data"
    },
    {
     "name": "stderr",
     "output_type": "stream",
     "text": [
      "INFO - 2025-10-17T09:30:58Z - Successfully downloaded to glory_data_interim_daily/glory_2021-12-03.nc\n",
      "INFO - 2025-10-17T09:31:00Z - Selected dataset version: \"202311\"\n",
      "INFO - 2025-10-17T09:31:00Z - Selected dataset part: \"default\"\n",
      "INFO - 2025-10-17T09:31:03Z - Starting download. Please wait...\n"
     ]
    },
    {
     "data": {
      "application/vnd.jupyter.widget-view+json": {
       "model_id": "a7f898c5ac7f4aa880ea26d2e8ffc688",
       "version_major": 2,
       "version_minor": 0
      },
      "text/plain": [
       "  0%|          | 0/70 [00:00<?, ?it/s]"
      ]
     },
     "metadata": {},
     "output_type": "display_data"
    },
    {
     "name": "stderr",
     "output_type": "stream",
     "text": [
      "INFO - 2025-10-17T09:33:14Z - Successfully downloaded to glory_data_interim_daily/glory_2021-12-04.nc\n",
      "INFO - 2025-10-17T09:33:17Z - Selected dataset version: \"202311\"\n",
      "INFO - 2025-10-17T09:33:17Z - Selected dataset part: \"default\"\n",
      "INFO - 2025-10-17T09:33:20Z - Starting download. Please wait...\n"
     ]
    },
    {
     "data": {
      "application/vnd.jupyter.widget-view+json": {
       "model_id": "ec728184587b40c99310e5f65195288a",
       "version_major": 2,
       "version_minor": 0
      },
      "text/plain": [
       "  0%|          | 0/70 [00:00<?, ?it/s]"
      ]
     },
     "metadata": {},
     "output_type": "display_data"
    },
    {
     "name": "stderr",
     "output_type": "stream",
     "text": [
      "INFO - 2025-10-17T09:35:43Z - Successfully downloaded to glory_data_interim_daily/glory_2021-12-05.nc\n",
      "INFO - 2025-10-17T09:35:45Z - Selected dataset version: \"202311\"\n",
      "INFO - 2025-10-17T09:35:45Z - Selected dataset part: \"default\"\n",
      "INFO - 2025-10-17T09:35:48Z - Starting download. Please wait...\n"
     ]
    },
    {
     "data": {
      "application/vnd.jupyter.widget-view+json": {
       "model_id": "f455adb624c94b94b255d682947ee235",
       "version_major": 2,
       "version_minor": 0
      },
      "text/plain": [
       "  0%|          | 0/70 [00:00<?, ?it/s]"
      ]
     },
     "metadata": {},
     "output_type": "display_data"
    },
    {
     "name": "stderr",
     "output_type": "stream",
     "text": [
      "INFO - 2025-10-17T09:38:13Z - Successfully downloaded to glory_data_interim_daily/glory_2021-12-06.nc\n",
      "INFO - 2025-10-17T09:38:16Z - Selected dataset version: \"202311\"\n",
      "INFO - 2025-10-17T09:38:16Z - Selected dataset part: \"default\"\n",
      "INFO - 2025-10-17T09:38:18Z - Starting download. Please wait...\n"
     ]
    },
    {
     "data": {
      "application/vnd.jupyter.widget-view+json": {
       "model_id": "3cb3c66a289a459aac68ada8446c60d4",
       "version_major": 2,
       "version_minor": 0
      },
      "text/plain": [
       "  0%|          | 0/70 [00:00<?, ?it/s]"
      ]
     },
     "metadata": {},
     "output_type": "display_data"
    },
    {
     "name": "stderr",
     "output_type": "stream",
     "text": [
      "INFO - 2025-10-17T09:40:28Z - Successfully downloaded to glory_data_interim_daily/glory_2021-12-07.nc\n",
      "INFO - 2025-10-17T09:40:30Z - Selected dataset version: \"202311\"\n",
      "INFO - 2025-10-17T09:40:30Z - Selected dataset part: \"default\"\n",
      "INFO - 2025-10-17T09:40:33Z - Starting download. Please wait...\n"
     ]
    },
    {
     "data": {
      "application/vnd.jupyter.widget-view+json": {
       "model_id": "500a77df5bd6421daeade30d16805c37",
       "version_major": 2,
       "version_minor": 0
      },
      "text/plain": [
       "  0%|          | 0/70 [00:00<?, ?it/s]"
      ]
     },
     "metadata": {},
     "output_type": "display_data"
    },
    {
     "name": "stderr",
     "output_type": "stream",
     "text": [
      "INFO - 2025-10-17T09:42:53Z - Successfully downloaded to glory_data_interim_daily/glory_2021-12-08.nc\n",
      "INFO - 2025-10-17T09:42:55Z - Selected dataset version: \"202311\"\n",
      "INFO - 2025-10-17T09:42:55Z - Selected dataset part: \"default\"\n",
      "INFO - 2025-10-17T09:42:58Z - Starting download. Please wait...\n"
     ]
    },
    {
     "data": {
      "application/vnd.jupyter.widget-view+json": {
       "model_id": "8bce0862f9584b198086422f2c2b7615",
       "version_major": 2,
       "version_minor": 0
      },
      "text/plain": [
       "  0%|          | 0/70 [00:00<?, ?it/s]"
      ]
     },
     "metadata": {},
     "output_type": "display_data"
    },
    {
     "name": "stderr",
     "output_type": "stream",
     "text": [
      "INFO - 2025-10-17T09:45:16Z - Successfully downloaded to glory_data_interim_daily/glory_2021-12-09.nc\n",
      "INFO - 2025-10-17T09:45:19Z - Selected dataset version: \"202311\"\n",
      "INFO - 2025-10-17T09:45:19Z - Selected dataset part: \"default\"\n",
      "INFO - 2025-10-17T09:45:21Z - Starting download. Please wait...\n"
     ]
    },
    {
     "data": {
      "application/vnd.jupyter.widget-view+json": {
       "model_id": "d704d2a714a444149ab591da6433dd06",
       "version_major": 2,
       "version_minor": 0
      },
      "text/plain": [
       "  0%|          | 0/70 [00:00<?, ?it/s]"
      ]
     },
     "metadata": {},
     "output_type": "display_data"
    },
    {
     "name": "stderr",
     "output_type": "stream",
     "text": [
      "INFO - 2025-10-17T09:47:40Z - Successfully downloaded to glory_data_interim_daily/glory_2021-12-10.nc\n",
      "INFO - 2025-10-17T09:47:43Z - Selected dataset version: \"202311\"\n",
      "INFO - 2025-10-17T09:47:43Z - Selected dataset part: \"default\"\n",
      "INFO - 2025-10-17T09:47:45Z - Starting download. Please wait...\n"
     ]
    },
    {
     "data": {
      "application/vnd.jupyter.widget-view+json": {
       "model_id": "9524315e1cef48d6afc040dcc5f181c9",
       "version_major": 2,
       "version_minor": 0
      },
      "text/plain": [
       "  0%|          | 0/70 [00:00<?, ?it/s]"
      ]
     },
     "metadata": {},
     "output_type": "display_data"
    },
    {
     "name": "stderr",
     "output_type": "stream",
     "text": [
      "INFO - 2025-10-17T09:50:06Z - Successfully downloaded to glory_data_interim_daily/glory_2021-12-11.nc\n",
      "INFO - 2025-10-17T09:50:09Z - Selected dataset version: \"202311\"\n",
      "INFO - 2025-10-17T09:50:09Z - Selected dataset part: \"default\"\n",
      "INFO - 2025-10-17T09:50:12Z - Starting download. Please wait...\n"
     ]
    },
    {
     "data": {
      "application/vnd.jupyter.widget-view+json": {
       "model_id": "7a6d2b79e8524f77b3b8ee7b00e9ed7d",
       "version_major": 2,
       "version_minor": 0
      },
      "text/plain": [
       "  0%|          | 0/70 [00:00<?, ?it/s]"
      ]
     },
     "metadata": {},
     "output_type": "display_data"
    },
    {
     "name": "stderr",
     "output_type": "stream",
     "text": [
      "INFO - 2025-10-17T09:52:29Z - Successfully downloaded to glory_data_interim_daily/glory_2021-12-12.nc\n",
      "INFO - 2025-10-17T09:52:32Z - Selected dataset version: \"202311\"\n",
      "INFO - 2025-10-17T09:52:32Z - Selected dataset part: \"default\"\n",
      "INFO - 2025-10-17T09:52:35Z - Starting download. Please wait...\n"
     ]
    },
    {
     "data": {
      "application/vnd.jupyter.widget-view+json": {
       "model_id": "63036bef15934812866db45b5f586ea9",
       "version_major": 2,
       "version_minor": 0
      },
      "text/plain": [
       "  0%|          | 0/70 [00:00<?, ?it/s]"
      ]
     },
     "metadata": {},
     "output_type": "display_data"
    },
    {
     "name": "stderr",
     "output_type": "stream",
     "text": [
      "INFO - 2025-10-17T09:54:52Z - Successfully downloaded to glory_data_interim_daily/glory_2021-12-13.nc\n",
      "INFO - 2025-10-17T09:54:54Z - Selected dataset version: \"202311\"\n",
      "INFO - 2025-10-17T09:54:54Z - Selected dataset part: \"default\"\n",
      "INFO - 2025-10-17T09:54:57Z - Starting download. Please wait...\n"
     ]
    },
    {
     "data": {
      "application/vnd.jupyter.widget-view+json": {
       "model_id": "4121697889f14cb0ae121e0f536eaf59",
       "version_major": 2,
       "version_minor": 0
      },
      "text/plain": [
       "  0%|          | 0/70 [00:00<?, ?it/s]"
      ]
     },
     "metadata": {},
     "output_type": "display_data"
    },
    {
     "name": "stderr",
     "output_type": "stream",
     "text": [
      "INFO - 2025-10-17T09:57:07Z - Successfully downloaded to glory_data_interim_daily/glory_2021-12-14.nc\n",
      "INFO - 2025-10-17T09:57:10Z - Selected dataset version: \"202311\"\n",
      "INFO - 2025-10-17T09:57:10Z - Selected dataset part: \"default\"\n",
      "INFO - 2025-10-17T09:57:13Z - Starting download. Please wait...\n"
     ]
    },
    {
     "data": {
      "application/vnd.jupyter.widget-view+json": {
       "model_id": "94822ded28e5498ea25e19ea3faeba9d",
       "version_major": 2,
       "version_minor": 0
      },
      "text/plain": [
       "  0%|          | 0/70 [00:00<?, ?it/s]"
      ]
     },
     "metadata": {},
     "output_type": "display_data"
    },
    {
     "name": "stderr",
     "output_type": "stream",
     "text": [
      "INFO - 2025-10-17T09:59:38Z - Successfully downloaded to glory_data_interim_daily/glory_2021-12-15.nc\n",
      "INFO - 2025-10-17T09:59:41Z - Selected dataset version: \"202311\"\n",
      "INFO - 2025-10-17T09:59:41Z - Selected dataset part: \"default\"\n",
      "INFO - 2025-10-17T09:59:44Z - Starting download. Please wait...\n"
     ]
    },
    {
     "data": {
      "application/vnd.jupyter.widget-view+json": {
       "model_id": "286be073fe764d3eb4e5d3cf5a618663",
       "version_major": 2,
       "version_minor": 0
      },
      "text/plain": [
       "  0%|          | 0/70 [00:00<?, ?it/s]"
      ]
     },
     "metadata": {},
     "output_type": "display_data"
    },
    {
     "name": "stderr",
     "output_type": "stream",
     "text": [
      "INFO - 2025-10-17T10:02:09Z - Successfully downloaded to glory_data_interim_daily/glory_2021-12-16.nc\n",
      "INFO - 2025-10-17T10:02:12Z - Selected dataset version: \"202311\"\n",
      "INFO - 2025-10-17T10:02:12Z - Selected dataset part: \"default\"\n",
      "INFO - 2025-10-17T10:02:15Z - Starting download. Please wait...\n"
     ]
    },
    {
     "data": {
      "application/vnd.jupyter.widget-view+json": {
       "model_id": "36aa8f1cd774428884a2000c8752d161",
       "version_major": 2,
       "version_minor": 0
      },
      "text/plain": [
       "  0%|          | 0/70 [00:00<?, ?it/s]"
      ]
     },
     "metadata": {},
     "output_type": "display_data"
    },
    {
     "name": "stderr",
     "output_type": "stream",
     "text": [
      "INFO - 2025-10-17T10:04:38Z - Successfully downloaded to glory_data_interim_daily/glory_2021-12-17.nc\n",
      "INFO - 2025-10-17T10:04:40Z - Selected dataset version: \"202311\"\n",
      "INFO - 2025-10-17T10:04:40Z - Selected dataset part: \"default\"\n",
      "INFO - 2025-10-17T10:04:44Z - Starting download. Please wait...\n"
     ]
    },
    {
     "data": {
      "application/vnd.jupyter.widget-view+json": {
       "model_id": "3f37199d0010493d94be33af99a7b947",
       "version_major": 2,
       "version_minor": 0
      },
      "text/plain": [
       "  0%|          | 0/70 [00:00<?, ?it/s]"
      ]
     },
     "metadata": {},
     "output_type": "display_data"
    },
    {
     "name": "stderr",
     "output_type": "stream",
     "text": [
      "INFO - 2025-10-17T10:07:01Z - Successfully downloaded to glory_data_interim_daily/glory_2021-12-18.nc\n",
      "INFO - 2025-10-17T10:07:04Z - Selected dataset version: \"202311\"\n",
      "INFO - 2025-10-17T10:07:04Z - Selected dataset part: \"default\"\n",
      "INFO - 2025-10-17T10:07:06Z - Starting download. Please wait...\n"
     ]
    },
    {
     "data": {
      "application/vnd.jupyter.widget-view+json": {
       "model_id": "7481a1116a4f44b580e4b10ec7658432",
       "version_major": 2,
       "version_minor": 0
      },
      "text/plain": [
       "  0%|          | 0/70 [00:00<?, ?it/s]"
      ]
     },
     "metadata": {},
     "output_type": "display_data"
    },
    {
     "name": "stderr",
     "output_type": "stream",
     "text": [
      "INFO - 2025-10-17T10:09:21Z - Successfully downloaded to glory_data_interim_daily/glory_2021-12-19.nc\n",
      "INFO - 2025-10-17T10:09:24Z - Selected dataset version: \"202311\"\n",
      "INFO - 2025-10-17T10:09:24Z - Selected dataset part: \"default\"\n",
      "INFO - 2025-10-17T10:09:27Z - Starting download. Please wait...\n"
     ]
    },
    {
     "data": {
      "application/vnd.jupyter.widget-view+json": {
       "model_id": "a465ea7e2bf64351b193d13e9802cfd9",
       "version_major": 2,
       "version_minor": 0
      },
      "text/plain": [
       "  0%|          | 0/70 [00:00<?, ?it/s]"
      ]
     },
     "metadata": {},
     "output_type": "display_data"
    },
    {
     "name": "stderr",
     "output_type": "stream",
     "text": [
      "INFO - 2025-10-17T10:11:48Z - Successfully downloaded to glory_data_interim_daily/glory_2021-12-20.nc\n",
      "INFO - 2025-10-17T10:11:50Z - Selected dataset version: \"202311\"\n",
      "INFO - 2025-10-17T10:11:50Z - Selected dataset part: \"default\"\n",
      "INFO - 2025-10-17T10:11:53Z - Starting download. Please wait...\n"
     ]
    },
    {
     "data": {
      "application/vnd.jupyter.widget-view+json": {
       "model_id": "e3613b0c268e484b8b24564e13a8bd50",
       "version_major": 2,
       "version_minor": 0
      },
      "text/plain": [
       "  0%|          | 0/70 [00:00<?, ?it/s]"
      ]
     },
     "metadata": {},
     "output_type": "display_data"
    },
    {
     "name": "stderr",
     "output_type": "stream",
     "text": [
      "INFO - 2025-10-17T10:14:08Z - Successfully downloaded to glory_data_interim_daily/glory_2021-12-21.nc\n",
      "INFO - 2025-10-17T10:14:10Z - Selected dataset version: \"202311\"\n",
      "INFO - 2025-10-17T10:14:10Z - Selected dataset part: \"default\"\n",
      "INFO - 2025-10-17T10:14:13Z - Starting download. Please wait...\n"
     ]
    },
    {
     "data": {
      "application/vnd.jupyter.widget-view+json": {
       "model_id": "7af407f7fb0a4512bbc771ef8ced5e46",
       "version_major": 2,
       "version_minor": 0
      },
      "text/plain": [
       "  0%|          | 0/70 [00:00<?, ?it/s]"
      ]
     },
     "metadata": {},
     "output_type": "display_data"
    },
    {
     "name": "stderr",
     "output_type": "stream",
     "text": [
      "INFO - 2025-10-17T10:16:37Z - Successfully downloaded to glory_data_interim_daily/glory_2021-12-22.nc\n",
      "INFO - 2025-10-17T10:16:39Z - Selected dataset version: \"202311\"\n",
      "INFO - 2025-10-17T10:16:39Z - Selected dataset part: \"default\"\n",
      "INFO - 2025-10-17T10:16:42Z - Starting download. Please wait...\n"
     ]
    },
    {
     "data": {
      "application/vnd.jupyter.widget-view+json": {
       "model_id": "6128ae7df7774e14bdd656f3b08a71c6",
       "version_major": 2,
       "version_minor": 0
      },
      "text/plain": [
       "  0%|          | 0/70 [00:00<?, ?it/s]"
      ]
     },
     "metadata": {},
     "output_type": "display_data"
    },
    {
     "name": "stderr",
     "output_type": "stream",
     "text": [
      "INFO - 2025-10-17T10:19:00Z - Successfully downloaded to glory_data_interim_daily/glory_2021-12-23.nc\n",
      "INFO - 2025-10-17T10:19:03Z - Selected dataset version: \"202311\"\n",
      "INFO - 2025-10-17T10:19:03Z - Selected dataset part: \"default\"\n",
      "INFO - 2025-10-17T10:19:05Z - Starting download. Please wait...\n"
     ]
    },
    {
     "data": {
      "application/vnd.jupyter.widget-view+json": {
       "model_id": "3e8beedd73ae47a7984487f498a7bc23",
       "version_major": 2,
       "version_minor": 0
      },
      "text/plain": [
       "  0%|          | 0/70 [00:00<?, ?it/s]"
      ]
     },
     "metadata": {},
     "output_type": "display_data"
    },
    {
     "name": "stderr",
     "output_type": "stream",
     "text": [
      "INFO - 2025-10-17T10:21:24Z - Successfully downloaded to glory_data_interim_daily/glory_2021-12-24.nc\n",
      "INFO - 2025-10-17T10:21:27Z - Selected dataset version: \"202311\"\n",
      "INFO - 2025-10-17T10:21:27Z - Selected dataset part: \"default\"\n",
      "INFO - 2025-10-17T10:21:29Z - Starting download. Please wait...\n"
     ]
    },
    {
     "data": {
      "application/vnd.jupyter.widget-view+json": {
       "model_id": "614b4508f691499a8d7a2177e7777456",
       "version_major": 2,
       "version_minor": 0
      },
      "text/plain": [
       "  0%|          | 0/70 [00:00<?, ?it/s]"
      ]
     },
     "metadata": {},
     "output_type": "display_data"
    },
    {
     "name": "stderr",
     "output_type": "stream",
     "text": [
      "INFO - 2025-10-17T10:23:51Z - Successfully downloaded to glory_data_interim_daily/glory_2021-12-25.nc\n",
      "INFO - 2025-10-17T10:23:53Z - Selected dataset version: \"202311\"\n",
      "INFO - 2025-10-17T10:23:53Z - Selected dataset part: \"default\"\n",
      "INFO - 2025-10-17T10:23:56Z - Starting download. Please wait...\n"
     ]
    },
    {
     "data": {
      "application/vnd.jupyter.widget-view+json": {
       "model_id": "17f285d650964eb49a8040d5b863a584",
       "version_major": 2,
       "version_minor": 0
      },
      "text/plain": [
       "  0%|          | 0/70 [00:00<?, ?it/s]"
      ]
     },
     "metadata": {},
     "output_type": "display_data"
    },
    {
     "name": "stderr",
     "output_type": "stream",
     "text": [
      "INFO - 2025-10-17T10:26:20Z - Successfully downloaded to glory_data_interim_daily/glory_2021-12-26.nc\n",
      "INFO - 2025-10-17T10:26:23Z - Selected dataset version: \"202311\"\n",
      "INFO - 2025-10-17T10:26:23Z - Selected dataset part: \"default\"\n",
      "INFO - 2025-10-17T10:26:26Z - Starting download. Please wait...\n"
     ]
    },
    {
     "data": {
      "application/vnd.jupyter.widget-view+json": {
       "model_id": "c569e947c63040a9bbd815eadef4f49c",
       "version_major": 2,
       "version_minor": 0
      },
      "text/plain": [
       "  0%|          | 0/70 [00:00<?, ?it/s]"
      ]
     },
     "metadata": {},
     "output_type": "display_data"
    },
    {
     "name": "stderr",
     "output_type": "stream",
     "text": [
      "INFO - 2025-10-17T10:28:43Z - Successfully downloaded to glory_data_interim_daily/glory_2021-12-27.nc\n",
      "INFO - 2025-10-17T10:28:45Z - Selected dataset version: \"202311\"\n",
      "INFO - 2025-10-17T10:28:45Z - Selected dataset part: \"default\"\n",
      "INFO - 2025-10-17T10:28:48Z - Starting download. Please wait...\n"
     ]
    },
    {
     "data": {
      "application/vnd.jupyter.widget-view+json": {
       "model_id": "fb8c9a7e5d354fe692e1fecd5bcbd2ae",
       "version_major": 2,
       "version_minor": 0
      },
      "text/plain": [
       "  0%|          | 0/70 [00:00<?, ?it/s]"
      ]
     },
     "metadata": {},
     "output_type": "display_data"
    },
    {
     "name": "stderr",
     "output_type": "stream",
     "text": [
      "INFO - 2025-10-17T10:31:02Z - Successfully downloaded to glory_data_interim_daily/glory_2021-12-28.nc\n",
      "INFO - 2025-10-17T10:31:04Z - Selected dataset version: \"202311\"\n",
      "INFO - 2025-10-17T10:31:04Z - Selected dataset part: \"default\"\n",
      "INFO - 2025-10-17T10:31:07Z - Starting download. Please wait...\n"
     ]
    },
    {
     "data": {
      "application/vnd.jupyter.widget-view+json": {
       "model_id": "f95cdbef7c1a48488c1168f92886f7c4",
       "version_major": 2,
       "version_minor": 0
      },
      "text/plain": [
       "  0%|          | 0/70 [00:00<?, ?it/s]"
      ]
     },
     "metadata": {},
     "output_type": "display_data"
    },
    {
     "name": "stderr",
     "output_type": "stream",
     "text": [
      "INFO - 2025-10-17T10:33:33Z - Successfully downloaded to glory_data_interim_daily/glory_2021-12-29.nc\n",
      "INFO - 2025-10-17T10:33:36Z - Selected dataset version: \"202311\"\n",
      "INFO - 2025-10-17T10:33:36Z - Selected dataset part: \"default\"\n",
      "INFO - 2025-10-17T10:33:39Z - Starting download. Please wait...\n"
     ]
    },
    {
     "data": {
      "application/vnd.jupyter.widget-view+json": {
       "model_id": "18a4dc66f82a42b79edb3ed125c4e40f",
       "version_major": 2,
       "version_minor": 0
      },
      "text/plain": [
       "  0%|          | 0/70 [00:00<?, ?it/s]"
      ]
     },
     "metadata": {},
     "output_type": "display_data"
    },
    {
     "name": "stderr",
     "output_type": "stream",
     "text": [
      "INFO - 2025-10-17T10:36:04Z - Successfully downloaded to glory_data_interim_daily/glory_2021-12-30.nc\n",
      "INFO - 2025-10-17T10:36:07Z - Selected dataset version: \"202311\"\n",
      "INFO - 2025-10-17T10:36:07Z - Selected dataset part: \"default\"\n",
      "INFO - 2025-10-17T10:36:10Z - Starting download. Please wait...\n"
     ]
    },
    {
     "data": {
      "application/vnd.jupyter.widget-view+json": {
       "model_id": "9f751a6bba534ee386aa2710fb9d42fe",
       "version_major": 2,
       "version_minor": 0
      },
      "text/plain": [
       "  0%|          | 0/70 [00:00<?, ?it/s]"
      ]
     },
     "metadata": {},
     "output_type": "display_data"
    },
    {
     "name": "stderr",
     "output_type": "stream",
     "text": [
      "INFO - 2025-10-17T10:38:26Z - Successfully downloaded to glory_data_interim_daily/glory_2021-12-31.nc\n",
      "INFO - 2025-10-17T10:38:29Z - Selected dataset version: \"202311\"\n",
      "INFO - 2025-10-17T10:38:29Z - Selected dataset part: \"default\"\n",
      "INFO - 2025-10-17T10:38:32Z - Starting download. Please wait...\n"
     ]
    },
    {
     "data": {
      "application/vnd.jupyter.widget-view+json": {
       "model_id": "4d66fa27d499429eb97cceef36de3357",
       "version_major": 2,
       "version_minor": 0
      },
      "text/plain": [
       "  0%|          | 0/70 [00:00<?, ?it/s]"
      ]
     },
     "metadata": {},
     "output_type": "display_data"
    },
    {
     "name": "stderr",
     "output_type": "stream",
     "text": [
      "INFO - 2025-10-17T10:40:44Z - Successfully downloaded to glory_data_interim_daily/glory_2022-01-01.nc\n",
      "INFO - 2025-10-17T10:40:46Z - Selected dataset version: \"202311\"\n",
      "INFO - 2025-10-17T10:40:46Z - Selected dataset part: \"default\"\n",
      "INFO - 2025-10-17T10:40:49Z - Starting download. Please wait...\n"
     ]
    },
    {
     "data": {
      "application/vnd.jupyter.widget-view+json": {
       "model_id": "a4d3f43617cc467e87d33a2a2b564c0e",
       "version_major": 2,
       "version_minor": 0
      },
      "text/plain": [
       "  0%|          | 0/70 [00:00<?, ?it/s]"
      ]
     },
     "metadata": {},
     "output_type": "display_data"
    },
    {
     "name": "stderr",
     "output_type": "stream",
     "text": [
      "INFO - 2025-10-17T10:43:07Z - Successfully downloaded to glory_data_interim_daily/glory_2022-01-02.nc\n",
      "INFO - 2025-10-17T10:43:10Z - Selected dataset version: \"202311\"\n",
      "INFO - 2025-10-17T10:43:10Z - Selected dataset part: \"default\"\n",
      "INFO - 2025-10-17T10:43:13Z - Starting download. Please wait...\n"
     ]
    },
    {
     "data": {
      "application/vnd.jupyter.widget-view+json": {
       "model_id": "ab8e679e4668431f84a48718671a6b88",
       "version_major": 2,
       "version_minor": 0
      },
      "text/plain": [
       "  0%|          | 0/70 [00:00<?, ?it/s]"
      ]
     },
     "metadata": {},
     "output_type": "display_data"
    },
    {
     "name": "stderr",
     "output_type": "stream",
     "text": [
      "INFO - 2025-10-17T10:45:43Z - Successfully downloaded to glory_data_interim_daily/glory_2022-01-03.nc\n",
      "INFO - 2025-10-17T10:45:45Z - Selected dataset version: \"202311\"\n",
      "INFO - 2025-10-17T10:45:45Z - Selected dataset part: \"default\"\n",
      "INFO - 2025-10-17T10:45:48Z - Starting download. Please wait...\n"
     ]
    },
    {
     "data": {
      "application/vnd.jupyter.widget-view+json": {
       "model_id": "5b3e18b87d7a44a9b0bfe6060a49c419",
       "version_major": 2,
       "version_minor": 0
      },
      "text/plain": [
       "  0%|          | 0/70 [00:00<?, ?it/s]"
      ]
     },
     "metadata": {},
     "output_type": "display_data"
    },
    {
     "name": "stderr",
     "output_type": "stream",
     "text": [
      "INFO - 2025-10-17T10:48:15Z - Successfully downloaded to glory_data_interim_daily/glory_2022-01-04.nc\n",
      "INFO - 2025-10-17T10:48:17Z - Selected dataset version: \"202311\"\n",
      "INFO - 2025-10-17T10:48:17Z - Selected dataset part: \"default\"\n",
      "INFO - 2025-10-17T10:48:20Z - Starting download. Please wait...\n"
     ]
    },
    {
     "data": {
      "application/vnd.jupyter.widget-view+json": {
       "model_id": "a1cb7a865c544ae28a413269154ef569",
       "version_major": 2,
       "version_minor": 0
      },
      "text/plain": [
       "  0%|          | 0/70 [00:00<?, ?it/s]"
      ]
     },
     "metadata": {},
     "output_type": "display_data"
    },
    {
     "name": "stderr",
     "output_type": "stream",
     "text": [
      "INFO - 2025-10-17T10:50:42Z - Successfully downloaded to glory_data_interim_daily/glory_2022-01-05.nc\n",
      "INFO - 2025-10-17T10:50:45Z - Selected dataset version: \"202311\"\n",
      "INFO - 2025-10-17T10:50:45Z - Selected dataset part: \"default\"\n",
      "INFO - 2025-10-17T10:50:48Z - Starting download. Please wait...\n"
     ]
    },
    {
     "data": {
      "application/vnd.jupyter.widget-view+json": {
       "model_id": "864caaad64024a2fbdeb0135633ce300",
       "version_major": 2,
       "version_minor": 0
      },
      "text/plain": [
       "  0%|          | 0/70 [00:00<?, ?it/s]"
      ]
     },
     "metadata": {},
     "output_type": "display_data"
    },
    {
     "name": "stderr",
     "output_type": "stream",
     "text": [
      "INFO - 2025-10-17T10:53:12Z - Successfully downloaded to glory_data_interim_daily/glory_2022-01-06.nc\n",
      "INFO - 2025-10-17T10:53:15Z - Selected dataset version: \"202311\"\n",
      "INFO - 2025-10-17T10:53:15Z - Selected dataset part: \"default\"\n",
      "INFO - 2025-10-17T10:53:18Z - Starting download. Please wait...\n"
     ]
    },
    {
     "data": {
      "application/vnd.jupyter.widget-view+json": {
       "model_id": "9c97da16dce9405dbdbae9a013bc9efc",
       "version_major": 2,
       "version_minor": 0
      },
      "text/plain": [
       "  0%|          | 0/70 [00:00<?, ?it/s]"
      ]
     },
     "metadata": {},
     "output_type": "display_data"
    },
    {
     "name": "stderr",
     "output_type": "stream",
     "text": [
      "INFO - 2025-10-17T10:55:37Z - Successfully downloaded to glory_data_interim_daily/glory_2022-01-07.nc\n",
      "INFO - 2025-10-17T10:55:39Z - Selected dataset version: \"202311\"\n",
      "INFO - 2025-10-17T10:55:39Z - Selected dataset part: \"default\"\n",
      "INFO - 2025-10-17T10:55:42Z - Starting download. Please wait...\n"
     ]
    },
    {
     "data": {
      "application/vnd.jupyter.widget-view+json": {
       "model_id": "319083c0915842699040e78f0207a09e",
       "version_major": 2,
       "version_minor": 0
      },
      "text/plain": [
       "  0%|          | 0/70 [00:00<?, ?it/s]"
      ]
     },
     "metadata": {},
     "output_type": "display_data"
    },
    {
     "name": "stderr",
     "output_type": "stream",
     "text": [
      "INFO - 2025-10-17T10:58:07Z - Successfully downloaded to glory_data_interim_daily/glory_2022-01-08.nc\n",
      "INFO - 2025-10-17T10:58:10Z - Selected dataset version: \"202311\"\n",
      "INFO - 2025-10-17T10:58:10Z - Selected dataset part: \"default\"\n",
      "INFO - 2025-10-17T10:58:13Z - Starting download. Please wait...\n"
     ]
    },
    {
     "data": {
      "application/vnd.jupyter.widget-view+json": {
       "model_id": "debd49bf6cdb44f699e17773793711aa",
       "version_major": 2,
       "version_minor": 0
      },
      "text/plain": [
       "  0%|          | 0/70 [00:00<?, ?it/s]"
      ]
     },
     "metadata": {},
     "output_type": "display_data"
    },
    {
     "name": "stderr",
     "output_type": "stream",
     "text": [
      "INFO - 2025-10-17T11:00:31Z - Successfully downloaded to glory_data_interim_daily/glory_2022-01-09.nc\n",
      "INFO - 2025-10-17T11:00:35Z - Selected dataset version: \"202311\"\n",
      "INFO - 2025-10-17T11:00:35Z - Selected dataset part: \"default\"\n",
      "INFO - 2025-10-17T11:00:38Z - Starting download. Please wait...\n"
     ]
    },
    {
     "data": {
      "application/vnd.jupyter.widget-view+json": {
       "model_id": "9454c7080aa34e7791dee94a887fd210",
       "version_major": 2,
       "version_minor": 0
      },
      "text/plain": [
       "  0%|          | 0/70 [00:00<?, ?it/s]"
      ]
     },
     "metadata": {},
     "output_type": "display_data"
    },
    {
     "name": "stderr",
     "output_type": "stream",
     "text": [
      "INFO - 2025-10-17T11:03:03Z - Successfully downloaded to glory_data_interim_daily/glory_2022-01-10.nc\n",
      "INFO - 2025-10-17T11:03:06Z - Selected dataset version: \"202311\"\n",
      "INFO - 2025-10-17T11:03:06Z - Selected dataset part: \"default\"\n",
      "INFO - 2025-10-17T11:03:09Z - Starting download. Please wait...\n"
     ]
    },
    {
     "data": {
      "application/vnd.jupyter.widget-view+json": {
       "model_id": "d60b13f98b9d4ab487b23ccae29b533e",
       "version_major": 2,
       "version_minor": 0
      },
      "text/plain": [
       "  0%|          | 0/70 [00:00<?, ?it/s]"
      ]
     },
     "metadata": {},
     "output_type": "display_data"
    },
    {
     "name": "stderr",
     "output_type": "stream",
     "text": [
      "INFO - 2025-10-17T11:05:20Z - Successfully downloaded to glory_data_interim_daily/glory_2022-01-11.nc\n",
      "INFO - 2025-10-17T11:05:23Z - Selected dataset version: \"202311\"\n",
      "INFO - 2025-10-17T11:05:23Z - Selected dataset part: \"default\"\n",
      "INFO - 2025-10-17T11:05:26Z - Starting download. Please wait...\n"
     ]
    },
    {
     "data": {
      "application/vnd.jupyter.widget-view+json": {
       "model_id": "ee19e13d069e44bfae68c85f2b6f4350",
       "version_major": 2,
       "version_minor": 0
      },
      "text/plain": [
       "  0%|          | 0/70 [00:00<?, ?it/s]"
      ]
     },
     "metadata": {},
     "output_type": "display_data"
    },
    {
     "name": "stderr",
     "output_type": "stream",
     "text": [
      "INFO - 2025-10-17T11:07:50Z - Successfully downloaded to glory_data_interim_daily/glory_2022-01-12.nc\n",
      "INFO - 2025-10-17T11:07:53Z - Selected dataset version: \"202311\"\n",
      "INFO - 2025-10-17T11:07:53Z - Selected dataset part: \"default\"\n",
      "INFO - 2025-10-17T11:07:56Z - Starting download. Please wait...\n"
     ]
    },
    {
     "data": {
      "application/vnd.jupyter.widget-view+json": {
       "model_id": "1f1ce8ae69354e90a1381ff2dabe0739",
       "version_major": 2,
       "version_minor": 0
      },
      "text/plain": [
       "  0%|          | 0/70 [00:00<?, ?it/s]"
      ]
     },
     "metadata": {},
     "output_type": "display_data"
    },
    {
     "name": "stderr",
     "output_type": "stream",
     "text": [
      "INFO - 2025-10-17T11:10:08Z - Successfully downloaded to glory_data_interim_daily/glory_2022-01-13.nc\n",
      "INFO - 2025-10-17T11:10:11Z - Selected dataset version: \"202311\"\n",
      "INFO - 2025-10-17T11:10:11Z - Selected dataset part: \"default\"\n",
      "INFO - 2025-10-17T11:10:14Z - Starting download. Please wait...\n"
     ]
    },
    {
     "data": {
      "application/vnd.jupyter.widget-view+json": {
       "model_id": "765272c2bad64e5582dab44f3856c81d",
       "version_major": 2,
       "version_minor": 0
      },
      "text/plain": [
       "  0%|          | 0/70 [00:00<?, ?it/s]"
      ]
     },
     "metadata": {},
     "output_type": "display_data"
    },
    {
     "name": "stderr",
     "output_type": "stream",
     "text": [
      "INFO - 2025-10-17T11:12:32Z - Successfully downloaded to glory_data_interim_daily/glory_2022-01-14.nc\n",
      "INFO - 2025-10-17T11:12:35Z - Selected dataset version: \"202311\"\n",
      "INFO - 2025-10-17T11:12:35Z - Selected dataset part: \"default\"\n",
      "INFO - 2025-10-17T11:12:38Z - Starting download. Please wait...\n"
     ]
    },
    {
     "data": {
      "application/vnd.jupyter.widget-view+json": {
       "model_id": "86321f4821704798b7b8cb51aeb6adb6",
       "version_major": 2,
       "version_minor": 0
      },
      "text/plain": [
       "  0%|          | 0/70 [00:00<?, ?it/s]"
      ]
     },
     "metadata": {},
     "output_type": "display_data"
    },
    {
     "name": "stderr",
     "output_type": "stream",
     "text": [
      "INFO - 2025-10-17T11:15:02Z - Successfully downloaded to glory_data_interim_daily/glory_2022-01-15.nc\n",
      "INFO - 2025-10-17T11:15:04Z - Selected dataset version: \"202311\"\n",
      "INFO - 2025-10-17T11:15:04Z - Selected dataset part: \"default\"\n",
      "INFO - 2025-10-17T11:15:07Z - Starting download. Please wait...\n"
     ]
    },
    {
     "data": {
      "application/vnd.jupyter.widget-view+json": {
       "model_id": "67e295ea188d491e8c415e955eea7101",
       "version_major": 2,
       "version_minor": 0
      },
      "text/plain": [
       "  0%|          | 0/70 [00:00<?, ?it/s]"
      ]
     },
     "metadata": {},
     "output_type": "display_data"
    },
    {
     "name": "stderr",
     "output_type": "stream",
     "text": [
      "INFO - 2025-10-17T11:17:24Z - Successfully downloaded to glory_data_interim_daily/glory_2022-01-16.nc\n",
      "INFO - 2025-10-17T11:17:26Z - Selected dataset version: \"202311\"\n",
      "INFO - 2025-10-17T11:17:26Z - Selected dataset part: \"default\"\n",
      "INFO - 2025-10-17T11:17:29Z - Starting download. Please wait...\n"
     ]
    },
    {
     "data": {
      "application/vnd.jupyter.widget-view+json": {
       "model_id": "04dbf1f5c2ac4239847d6bae08f3e0cd",
       "version_major": 2,
       "version_minor": 0
      },
      "text/plain": [
       "  0%|          | 0/70 [00:00<?, ?it/s]"
      ]
     },
     "metadata": {},
     "output_type": "display_data"
    },
    {
     "name": "stderr",
     "output_type": "stream",
     "text": [
      "INFO - 2025-10-17T11:19:46Z - Successfully downloaded to glory_data_interim_daily/glory_2022-01-17.nc\n",
      "INFO - 2025-10-17T11:19:49Z - Selected dataset version: \"202311\"\n",
      "INFO - 2025-10-17T11:19:49Z - Selected dataset part: \"default\"\n",
      "INFO - 2025-10-17T11:19:51Z - Starting download. Please wait...\n"
     ]
    },
    {
     "data": {
      "application/vnd.jupyter.widget-view+json": {
       "model_id": "ce8f63357a9d4606a16ee3d2b7340bb6",
       "version_major": 2,
       "version_minor": 0
      },
      "text/plain": [
       "  0%|          | 0/70 [00:00<?, ?it/s]"
      ]
     },
     "metadata": {},
     "output_type": "display_data"
    },
    {
     "name": "stderr",
     "output_type": "stream",
     "text": [
      "INFO - 2025-10-17T11:22:16Z - Successfully downloaded to glory_data_interim_daily/glory_2022-01-18.nc\n",
      "INFO - 2025-10-17T11:22:19Z - Selected dataset version: \"202311\"\n",
      "INFO - 2025-10-17T11:22:19Z - Selected dataset part: \"default\"\n",
      "INFO - 2025-10-17T11:22:22Z - Starting download. Please wait...\n"
     ]
    },
    {
     "data": {
      "application/vnd.jupyter.widget-view+json": {
       "model_id": "75a3b31364454034afbe184670071046",
       "version_major": 2,
       "version_minor": 0
      },
      "text/plain": [
       "  0%|          | 0/70 [00:00<?, ?it/s]"
      ]
     },
     "metadata": {},
     "output_type": "display_data"
    },
    {
     "name": "stderr",
     "output_type": "stream",
     "text": [
      "INFO - 2025-10-17T11:24:40Z - Successfully downloaded to glory_data_interim_daily/glory_2022-01-19.nc\n",
      "INFO - 2025-10-17T11:24:42Z - Selected dataset version: \"202311\"\n",
      "INFO - 2025-10-17T11:24:42Z - Selected dataset part: \"default\"\n",
      "INFO - 2025-10-17T11:24:45Z - Starting download. Please wait...\n"
     ]
    },
    {
     "data": {
      "application/vnd.jupyter.widget-view+json": {
       "model_id": "4c8afe12f159474086fde6fedf230bf8",
       "version_major": 2,
       "version_minor": 0
      },
      "text/plain": [
       "  0%|          | 0/70 [00:00<?, ?it/s]"
      ]
     },
     "metadata": {},
     "output_type": "display_data"
    },
    {
     "name": "stderr",
     "output_type": "stream",
     "text": [
      "INFO - 2025-10-17T11:27:00Z - Successfully downloaded to glory_data_interim_daily/glory_2022-01-20.nc\n",
      "INFO - 2025-10-17T11:27:03Z - Selected dataset version: \"202311\"\n",
      "INFO - 2025-10-17T11:27:03Z - Selected dataset part: \"default\"\n",
      "INFO - 2025-10-17T11:27:06Z - Starting download. Please wait...\n"
     ]
    },
    {
     "data": {
      "application/vnd.jupyter.widget-view+json": {
       "model_id": "25811a5aa8bd4b56959ea08572b3afbb",
       "version_major": 2,
       "version_minor": 0
      },
      "text/plain": [
       "  0%|          | 0/70 [00:00<?, ?it/s]"
      ]
     },
     "metadata": {},
     "output_type": "display_data"
    },
    {
     "name": "stderr",
     "output_type": "stream",
     "text": [
      "INFO - 2025-10-17T11:29:23Z - Successfully downloaded to glory_data_interim_daily/glory_2022-01-21.nc\n",
      "INFO - 2025-10-17T11:29:25Z - Selected dataset version: \"202311\"\n",
      "INFO - 2025-10-17T11:29:25Z - Selected dataset part: \"default\"\n",
      "INFO - 2025-10-17T11:29:28Z - Starting download. Please wait...\n"
     ]
    },
    {
     "data": {
      "application/vnd.jupyter.widget-view+json": {
       "model_id": "4dc00d766e1d48948d97124dc4c69bd5",
       "version_major": 2,
       "version_minor": 0
      },
      "text/plain": [
       "  0%|          | 0/70 [00:00<?, ?it/s]"
      ]
     },
     "metadata": {},
     "output_type": "display_data"
    },
    {
     "name": "stderr",
     "output_type": "stream",
     "text": [
      "INFO - 2025-10-17T11:31:51Z - Successfully downloaded to glory_data_interim_daily/glory_2022-01-22.nc\n",
      "INFO - 2025-10-17T11:31:54Z - Selected dataset version: \"202311\"\n",
      "INFO - 2025-10-17T11:31:54Z - Selected dataset part: \"default\"\n",
      "INFO - 2025-10-17T11:31:57Z - Starting download. Please wait...\n"
     ]
    },
    {
     "data": {
      "application/vnd.jupyter.widget-view+json": {
       "model_id": "ba872fadfd2549869dd5169d9311b558",
       "version_major": 2,
       "version_minor": 0
      },
      "text/plain": [
       "  0%|          | 0/70 [00:00<?, ?it/s]"
      ]
     },
     "metadata": {},
     "output_type": "display_data"
    },
    {
     "name": "stderr",
     "output_type": "stream",
     "text": [
      "INFO - 2025-10-17T11:34:19Z - Successfully downloaded to glory_data_interim_daily/glory_2022-01-23.nc\n",
      "INFO - 2025-10-17T11:34:22Z - Selected dataset version: \"202311\"\n",
      "INFO - 2025-10-17T11:34:22Z - Selected dataset part: \"default\"\n",
      "INFO - 2025-10-17T11:34:25Z - Starting download. Please wait...\n"
     ]
    },
    {
     "data": {
      "application/vnd.jupyter.widget-view+json": {
       "model_id": "c2bc1ebb669b4ffca7c902e8a24f5916",
       "version_major": 2,
       "version_minor": 0
      },
      "text/plain": [
       "  0%|          | 0/70 [00:00<?, ?it/s]"
      ]
     },
     "metadata": {},
     "output_type": "display_data"
    },
    {
     "name": "stderr",
     "output_type": "stream",
     "text": [
      "INFO - 2025-10-17T11:36:48Z - Successfully downloaded to glory_data_interim_daily/glory_2022-01-24.nc\n",
      "INFO - 2025-10-17T11:36:50Z - Selected dataset version: \"202311\"\n",
      "INFO - 2025-10-17T11:36:50Z - Selected dataset part: \"default\"\n",
      "INFO - 2025-10-17T11:36:53Z - Starting download. Please wait...\n"
     ]
    },
    {
     "data": {
      "application/vnd.jupyter.widget-view+json": {
       "model_id": "f221f5b4c18f409b94cd9c3cca9fb171",
       "version_major": 2,
       "version_minor": 0
      },
      "text/plain": [
       "  0%|          | 0/70 [00:00<?, ?it/s]"
      ]
     },
     "metadata": {},
     "output_type": "display_data"
    },
    {
     "name": "stderr",
     "output_type": "stream",
     "text": [
      "INFO - 2025-10-17T11:39:10Z - Successfully downloaded to glory_data_interim_daily/glory_2022-01-25.nc\n",
      "INFO - 2025-10-17T11:39:12Z - Selected dataset version: \"202311\"\n",
      "INFO - 2025-10-17T11:39:12Z - Selected dataset part: \"default\"\n",
      "INFO - 2025-10-17T11:39:15Z - Starting download. Please wait...\n"
     ]
    },
    {
     "data": {
      "application/vnd.jupyter.widget-view+json": {
       "model_id": "106cfd26eaec4deda75c9cee17e723a0",
       "version_major": 2,
       "version_minor": 0
      },
      "text/plain": [
       "  0%|          | 0/70 [00:00<?, ?it/s]"
      ]
     },
     "metadata": {},
     "output_type": "display_data"
    },
    {
     "name": "stderr",
     "output_type": "stream",
     "text": [
      "INFO - 2025-10-17T11:41:41Z - Successfully downloaded to glory_data_interim_daily/glory_2022-01-26.nc\n",
      "INFO - 2025-10-17T11:41:44Z - Selected dataset version: \"202311\"\n",
      "INFO - 2025-10-17T11:41:44Z - Selected dataset part: \"default\"\n",
      "INFO - 2025-10-17T11:41:47Z - Starting download. Please wait...\n"
     ]
    },
    {
     "data": {
      "application/vnd.jupyter.widget-view+json": {
       "model_id": "798e82d306e84564a40e5847a1b31753",
       "version_major": 2,
       "version_minor": 0
      },
      "text/plain": [
       "  0%|          | 0/70 [00:00<?, ?it/s]"
      ]
     },
     "metadata": {},
     "output_type": "display_data"
    },
    {
     "name": "stderr",
     "output_type": "stream",
     "text": [
      "INFO - 2025-10-17T11:44:04Z - Successfully downloaded to glory_data_interim_daily/glory_2022-01-27.nc\n",
      "INFO - 2025-10-17T11:44:06Z - Selected dataset version: \"202311\"\n",
      "INFO - 2025-10-17T11:44:06Z - Selected dataset part: \"default\"\n",
      "INFO - 2025-10-17T11:44:09Z - Starting download. Please wait...\n"
     ]
    },
    {
     "data": {
      "application/vnd.jupyter.widget-view+json": {
       "model_id": "f295abde60d74ce09821cfd35ed328fe",
       "version_major": 2,
       "version_minor": 0
      },
      "text/plain": [
       "  0%|          | 0/70 [00:00<?, ?it/s]"
      ]
     },
     "metadata": {},
     "output_type": "display_data"
    },
    {
     "name": "stderr",
     "output_type": "stream",
     "text": [
      "INFO - 2025-10-17T11:46:27Z - Successfully downloaded to glory_data_interim_daily/glory_2022-01-28.nc\n",
      "INFO - 2025-10-17T11:46:30Z - Selected dataset version: \"202311\"\n",
      "INFO - 2025-10-17T11:46:30Z - Selected dataset part: \"default\"\n",
      "INFO - 2025-10-17T11:46:33Z - Starting download. Please wait...\n"
     ]
    },
    {
     "data": {
      "application/vnd.jupyter.widget-view+json": {
       "model_id": "c3afcee7aaee45cb84f11dc0cfbd4e06",
       "version_major": 2,
       "version_minor": 0
      },
      "text/plain": [
       "  0%|          | 0/70 [00:00<?, ?it/s]"
      ]
     },
     "metadata": {},
     "output_type": "display_data"
    },
    {
     "name": "stderr",
     "output_type": "stream",
     "text": [
      "INFO - 2025-10-17T11:48:49Z - Successfully downloaded to glory_data_interim_daily/glory_2022-01-29.nc\n",
      "INFO - 2025-10-17T11:48:52Z - Selected dataset version: \"202311\"\n",
      "INFO - 2025-10-17T11:48:52Z - Selected dataset part: \"default\"\n",
      "INFO - 2025-10-17T11:48:55Z - Starting download. Please wait...\n"
     ]
    },
    {
     "data": {
      "application/vnd.jupyter.widget-view+json": {
       "model_id": "4b1add3efe7148a6bc6961bec7f53dc6",
       "version_major": 2,
       "version_minor": 0
      },
      "text/plain": [
       "  0%|          | 0/70 [00:00<?, ?it/s]"
      ]
     },
     "metadata": {},
     "output_type": "display_data"
    },
    {
     "name": "stderr",
     "output_type": "stream",
     "text": [
      "INFO - 2025-10-17T11:51:13Z - Successfully downloaded to glory_data_interim_daily/glory_2022-01-30.nc\n",
      "INFO - 2025-10-17T11:51:15Z - Selected dataset version: \"202311\"\n",
      "INFO - 2025-10-17T11:51:15Z - Selected dataset part: \"default\"\n",
      "INFO - 2025-10-17T11:51:18Z - Starting download. Please wait...\n"
     ]
    },
    {
     "data": {
      "application/vnd.jupyter.widget-view+json": {
       "model_id": "4aba9bb4bc964e41a5b9afb637111152",
       "version_major": 2,
       "version_minor": 0
      },
      "text/plain": [
       "  0%|          | 0/70 [00:00<?, ?it/s]"
      ]
     },
     "metadata": {},
     "output_type": "display_data"
    },
    {
     "name": "stderr",
     "output_type": "stream",
     "text": [
      "INFO - 2025-10-17T11:53:42Z - Successfully downloaded to glory_data_interim_daily/glory_2022-01-31.nc\n",
      "INFO - 2025-10-17T11:53:45Z - Selected dataset version: \"202311\"\n",
      "INFO - 2025-10-17T11:53:45Z - Selected dataset part: \"default\"\n",
      "INFO - 2025-10-17T11:53:48Z - Starting download. Please wait...\n"
     ]
    },
    {
     "data": {
      "application/vnd.jupyter.widget-view+json": {
       "model_id": "2df9edc8a1734cc18fde883dea874ff2",
       "version_major": 2,
       "version_minor": 0
      },
      "text/plain": [
       "  0%|          | 0/70 [00:00<?, ?it/s]"
      ]
     },
     "metadata": {},
     "output_type": "display_data"
    },
    {
     "name": "stderr",
     "output_type": "stream",
     "text": [
      "INFO - 2025-10-17T11:56:04Z - Successfully downloaded to glory_data_interim_daily/glory_2022-02-01.nc\n",
      "INFO - 2025-10-17T11:56:07Z - Selected dataset version: \"202311\"\n",
      "INFO - 2025-10-17T11:56:07Z - Selected dataset part: \"default\"\n",
      "INFO - 2025-10-17T11:56:10Z - Starting download. Please wait...\n"
     ]
    },
    {
     "data": {
      "application/vnd.jupyter.widget-view+json": {
       "model_id": "41808b263bf44aaf8300ccfae4194b18",
       "version_major": 2,
       "version_minor": 0
      },
      "text/plain": [
       "  0%|          | 0/70 [00:00<?, ?it/s]"
      ]
     },
     "metadata": {},
     "output_type": "display_data"
    },
    {
     "name": "stderr",
     "output_type": "stream",
     "text": [
      "INFO - 2025-10-17T11:58:25Z - Successfully downloaded to glory_data_interim_daily/glory_2022-02-02.nc\n",
      "INFO - 2025-10-17T11:58:28Z - Selected dataset version: \"202311\"\n",
      "INFO - 2025-10-17T11:58:28Z - Selected dataset part: \"default\"\n",
      "INFO - 2025-10-17T11:58:31Z - Starting download. Please wait...\n"
     ]
    },
    {
     "data": {
      "application/vnd.jupyter.widget-view+json": {
       "model_id": "8ffdd894623942b194ed27235fc8cf77",
       "version_major": 2,
       "version_minor": 0
      },
      "text/plain": [
       "  0%|          | 0/70 [00:00<?, ?it/s]"
      ]
     },
     "metadata": {},
     "output_type": "display_data"
    },
    {
     "name": "stderr",
     "output_type": "stream",
     "text": [
      "INFO - 2025-10-17T12:00:50Z - Successfully downloaded to glory_data_interim_daily/glory_2022-02-03.nc\n",
      "INFO - 2025-10-17T12:00:52Z - Selected dataset version: \"202311\"\n",
      "INFO - 2025-10-17T12:00:52Z - Selected dataset part: \"default\"\n",
      "INFO - 2025-10-17T12:00:55Z - Starting download. Please wait...\n"
     ]
    },
    {
     "data": {
      "application/vnd.jupyter.widget-view+json": {
       "model_id": "f4f5c688384c4dc18041f7052cedafdc",
       "version_major": 2,
       "version_minor": 0
      },
      "text/plain": [
       "  0%|          | 0/70 [00:00<?, ?it/s]"
      ]
     },
     "metadata": {},
     "output_type": "display_data"
    },
    {
     "name": "stderr",
     "output_type": "stream",
     "text": [
      "INFO - 2025-10-17T12:03:13Z - Successfully downloaded to glory_data_interim_daily/glory_2022-02-04.nc\n",
      "INFO - 2025-10-17T12:03:16Z - Selected dataset version: \"202311\"\n",
      "INFO - 2025-10-17T12:03:16Z - Selected dataset part: \"default\"\n",
      "INFO - 2025-10-17T12:03:19Z - Starting download. Please wait...\n"
     ]
    },
    {
     "data": {
      "application/vnd.jupyter.widget-view+json": {
       "model_id": "5d29a4770b8046d3a60a2169a45ab778",
       "version_major": 2,
       "version_minor": 0
      },
      "text/plain": [
       "  0%|          | 0/70 [00:00<?, ?it/s]"
      ]
     },
     "metadata": {},
     "output_type": "display_data"
    },
    {
     "name": "stderr",
     "output_type": "stream",
     "text": [
      "INFO - 2025-10-17T12:05:33Z - Successfully downloaded to glory_data_interim_daily/glory_2022-02-05.nc\n",
      "INFO - 2025-10-17T12:05:36Z - Selected dataset version: \"202311\"\n",
      "INFO - 2025-10-17T12:05:36Z - Selected dataset part: \"default\"\n",
      "INFO - 2025-10-17T12:05:39Z - Starting download. Please wait...\n"
     ]
    },
    {
     "data": {
      "application/vnd.jupyter.widget-view+json": {
       "model_id": "30a549f4a83c4fd69665b9edf3750de7",
       "version_major": 2,
       "version_minor": 0
      },
      "text/plain": [
       "  0%|          | 0/70 [00:00<?, ?it/s]"
      ]
     },
     "metadata": {},
     "output_type": "display_data"
    },
    {
     "name": "stderr",
     "output_type": "stream",
     "text": [
      "INFO - 2025-10-17T12:07:54Z - Successfully downloaded to glory_data_interim_daily/glory_2022-02-06.nc\n",
      "INFO - 2025-10-17T12:07:57Z - Selected dataset version: \"202311\"\n",
      "INFO - 2025-10-17T12:07:57Z - Selected dataset part: \"default\"\n",
      "INFO - 2025-10-17T12:08:00Z - Starting download. Please wait...\n"
     ]
    },
    {
     "data": {
      "application/vnd.jupyter.widget-view+json": {
       "model_id": "171ba2b700344026b44fa6173154ffb6",
       "version_major": 2,
       "version_minor": 0
      },
      "text/plain": [
       "  0%|          | 0/70 [00:00<?, ?it/s]"
      ]
     },
     "metadata": {},
     "output_type": "display_data"
    },
    {
     "name": "stderr",
     "output_type": "stream",
     "text": [
      "INFO - 2025-10-17T12:10:24Z - Successfully downloaded to glory_data_interim_daily/glory_2022-02-07.nc\n",
      "INFO - 2025-10-17T12:10:27Z - Selected dataset version: \"202311\"\n",
      "INFO - 2025-10-17T12:10:27Z - Selected dataset part: \"default\"\n",
      "INFO - 2025-10-17T12:10:30Z - Starting download. Please wait...\n"
     ]
    },
    {
     "data": {
      "application/vnd.jupyter.widget-view+json": {
       "model_id": "4cfddefdd39e4923ba18d0da80f64003",
       "version_major": 2,
       "version_minor": 0
      },
      "text/plain": [
       "  0%|          | 0/70 [00:00<?, ?it/s]"
      ]
     },
     "metadata": {},
     "output_type": "display_data"
    },
    {
     "name": "stderr",
     "output_type": "stream",
     "text": [
      "INFO - 2025-10-17T12:13:23Z - Successfully downloaded to glory_data_interim_daily/glory_2022-02-08.nc\n",
      "INFO - 2025-10-17T12:13:28Z - Selected dataset version: \"202311\"\n",
      "INFO - 2025-10-17T12:13:28Z - Selected dataset part: \"default\"\n",
      "INFO - 2025-10-17T12:13:32Z - Starting download. Please wait...\n"
     ]
    },
    {
     "data": {
      "application/vnd.jupyter.widget-view+json": {
       "model_id": "a987f8d838ea4d2eb26601b6a1f6cb52",
       "version_major": 2,
       "version_minor": 0
      },
      "text/plain": [
       "  0%|          | 0/70 [00:00<?, ?it/s]"
      ]
     },
     "metadata": {},
     "output_type": "display_data"
    },
    {
     "name": "stderr",
     "output_type": "stream",
     "text": [
      "INFO - 2025-10-17T12:15:54Z - Successfully downloaded to glory_data_interim_daily/glory_2022-02-09.nc\n",
      "INFO - 2025-10-17T12:15:56Z - Selected dataset version: \"202311\"\n",
      "INFO - 2025-10-17T12:15:56Z - Selected dataset part: \"default\"\n",
      "INFO - 2025-10-17T12:15:59Z - Starting download. Please wait...\n"
     ]
    },
    {
     "data": {
      "application/vnd.jupyter.widget-view+json": {
       "model_id": "76499b503a7346acafa735831b3a8a5f",
       "version_major": 2,
       "version_minor": 0
      },
      "text/plain": [
       "  0%|          | 0/70 [00:00<?, ?it/s]"
      ]
     },
     "metadata": {},
     "output_type": "display_data"
    },
    {
     "name": "stderr",
     "output_type": "stream",
     "text": [
      "INFO - 2025-10-17T12:18:24Z - Successfully downloaded to glory_data_interim_daily/glory_2022-02-10.nc\n",
      "INFO - 2025-10-17T12:18:27Z - Selected dataset version: \"202311\"\n",
      "INFO - 2025-10-17T12:18:27Z - Selected dataset part: \"default\"\n",
      "INFO - 2025-10-17T12:18:30Z - Starting download. Please wait...\n"
     ]
    },
    {
     "data": {
      "application/vnd.jupyter.widget-view+json": {
       "model_id": "8707828ec46b47b7b6661ba25164546e",
       "version_major": 2,
       "version_minor": 0
      },
      "text/plain": [
       "  0%|          | 0/70 [00:00<?, ?it/s]"
      ]
     },
     "metadata": {},
     "output_type": "display_data"
    },
    {
     "name": "stderr",
     "output_type": "stream",
     "text": [
      "INFO - 2025-10-17T12:20:52Z - Successfully downloaded to glory_data_interim_daily/glory_2022-02-11.nc\n",
      "INFO - 2025-10-17T12:20:55Z - Selected dataset version: \"202311\"\n",
      "INFO - 2025-10-17T12:20:55Z - Selected dataset part: \"default\"\n",
      "INFO - 2025-10-17T12:20:57Z - Starting download. Please wait...\n"
     ]
    },
    {
     "data": {
      "application/vnd.jupyter.widget-view+json": {
       "model_id": "6a42b5d838c24b50af268204612fa6e1",
       "version_major": 2,
       "version_minor": 0
      },
      "text/plain": [
       "  0%|          | 0/70 [00:00<?, ?it/s]"
      ]
     },
     "metadata": {},
     "output_type": "display_data"
    },
    {
     "name": "stderr",
     "output_type": "stream",
     "text": [
      "INFO - 2025-10-17T12:23:16Z - Successfully downloaded to glory_data_interim_daily/glory_2022-02-12.nc\n",
      "INFO - 2025-10-17T12:23:19Z - Selected dataset version: \"202311\"\n",
      "INFO - 2025-10-17T12:23:19Z - Selected dataset part: \"default\"\n",
      "INFO - 2025-10-17T12:23:22Z - Starting download. Please wait...\n"
     ]
    },
    {
     "data": {
      "application/vnd.jupyter.widget-view+json": {
       "model_id": "c875584a6ef24ef68e631a9957ac5d3c",
       "version_major": 2,
       "version_minor": 0
      },
      "text/plain": [
       "  0%|          | 0/70 [00:00<?, ?it/s]"
      ]
     },
     "metadata": {},
     "output_type": "display_data"
    },
    {
     "name": "stderr",
     "output_type": "stream",
     "text": [
      "INFO - 2025-10-17T12:25:44Z - Successfully downloaded to glory_data_interim_daily/glory_2022-02-13.nc\n",
      "INFO - 2025-10-17T12:25:48Z - Selected dataset version: \"202311\"\n",
      "INFO - 2025-10-17T12:25:48Z - Selected dataset part: \"default\"\n",
      "INFO - 2025-10-17T12:25:50Z - Starting download. Please wait...\n"
     ]
    },
    {
     "data": {
      "application/vnd.jupyter.widget-view+json": {
       "model_id": "d972cd86e64e4958b9a3f86c78cb682e",
       "version_major": 2,
       "version_minor": 0
      },
      "text/plain": [
       "  0%|          | 0/70 [00:00<?, ?it/s]"
      ]
     },
     "metadata": {},
     "output_type": "display_data"
    },
    {
     "name": "stderr",
     "output_type": "stream",
     "text": [
      "INFO - 2025-10-17T12:28:05Z - Successfully downloaded to glory_data_interim_daily/glory_2022-02-14.nc\n",
      "INFO - 2025-10-17T12:28:08Z - Selected dataset version: \"202311\"\n",
      "INFO - 2025-10-17T12:28:08Z - Selected dataset part: \"default\"\n",
      "INFO - 2025-10-17T12:28:11Z - Starting download. Please wait...\n"
     ]
    },
    {
     "data": {
      "application/vnd.jupyter.widget-view+json": {
       "model_id": "6919b11c49264c6d9121fdec57b7c8e4",
       "version_major": 2,
       "version_minor": 0
      },
      "text/plain": [
       "  0%|          | 0/70 [00:00<?, ?it/s]"
      ]
     },
     "metadata": {},
     "output_type": "display_data"
    },
    {
     "name": "stderr",
     "output_type": "stream",
     "text": [
      "INFO - 2025-10-17T12:30:32Z - Successfully downloaded to glory_data_interim_daily/glory_2022-02-15.nc\n",
      "INFO - 2025-10-17T12:30:35Z - Selected dataset version: \"202311\"\n",
      "INFO - 2025-10-17T12:30:35Z - Selected dataset part: \"default\"\n",
      "INFO - 2025-10-17T12:30:38Z - Starting download. Please wait...\n"
     ]
    },
    {
     "data": {
      "application/vnd.jupyter.widget-view+json": {
       "model_id": "7e667ea52c1f461e9693fb4d570eb626",
       "version_major": 2,
       "version_minor": 0
      },
      "text/plain": [
       "  0%|          | 0/70 [00:00<?, ?it/s]"
      ]
     },
     "metadata": {},
     "output_type": "display_data"
    },
    {
     "name": "stderr",
     "output_type": "stream",
     "text": [
      "INFO - 2025-10-17T12:32:57Z - Successfully downloaded to glory_data_interim_daily/glory_2022-02-16.nc\n",
      "INFO - 2025-10-17T12:33:00Z - Selected dataset version: \"202311\"\n",
      "INFO - 2025-10-17T12:33:00Z - Selected dataset part: \"default\"\n",
      "INFO - 2025-10-17T12:33:02Z - Starting download. Please wait...\n"
     ]
    },
    {
     "data": {
      "application/vnd.jupyter.widget-view+json": {
       "model_id": "2e6d58a0e8be476ab3616bb6122dd9a5",
       "version_major": 2,
       "version_minor": 0
      },
      "text/plain": [
       "  0%|          | 0/70 [00:00<?, ?it/s]"
      ]
     },
     "metadata": {},
     "output_type": "display_data"
    },
    {
     "name": "stderr",
     "output_type": "stream",
     "text": [
      "INFO - 2025-10-17T12:35:14Z - Successfully downloaded to glory_data_interim_daily/glory_2022-02-17.nc\n",
      "INFO - 2025-10-17T12:35:17Z - Selected dataset version: \"202311\"\n",
      "INFO - 2025-10-17T12:35:17Z - Selected dataset part: \"default\"\n",
      "INFO - 2025-10-17T12:35:19Z - Starting download. Please wait...\n"
     ]
    },
    {
     "data": {
      "application/vnd.jupyter.widget-view+json": {
       "model_id": "e0d658d5734747f5a7c35835ccfc1427",
       "version_major": 2,
       "version_minor": 0
      },
      "text/plain": [
       "  0%|          | 0/70 [00:00<?, ?it/s]"
      ]
     },
     "metadata": {},
     "output_type": "display_data"
    },
    {
     "name": "stderr",
     "output_type": "stream",
     "text": [
      "INFO - 2025-10-17T12:37:37Z - Successfully downloaded to glory_data_interim_daily/glory_2022-02-18.nc\n",
      "INFO - 2025-10-17T12:37:40Z - Selected dataset version: \"202311\"\n",
      "INFO - 2025-10-17T12:37:40Z - Selected dataset part: \"default\"\n",
      "INFO - 2025-10-17T12:37:43Z - Starting download. Please wait...\n"
     ]
    },
    {
     "data": {
      "application/vnd.jupyter.widget-view+json": {
       "model_id": "81f1dcba63c04306b0971af38d134c28",
       "version_major": 2,
       "version_minor": 0
      },
      "text/plain": [
       "  0%|          | 0/70 [00:00<?, ?it/s]"
      ]
     },
     "metadata": {},
     "output_type": "display_data"
    },
    {
     "name": "stderr",
     "output_type": "stream",
     "text": [
      "INFO - 2025-10-17T12:40:02Z - Successfully downloaded to glory_data_interim_daily/glory_2022-02-19.nc\n",
      "INFO - 2025-10-17T12:40:05Z - Selected dataset version: \"202311\"\n",
      "INFO - 2025-10-17T12:40:05Z - Selected dataset part: \"default\"\n",
      "INFO - 2025-10-17T12:40:08Z - Starting download. Please wait...\n"
     ]
    },
    {
     "data": {
      "application/vnd.jupyter.widget-view+json": {
       "model_id": "09892cfc6cb74ccaba9fd5d3e6184a02",
       "version_major": 2,
       "version_minor": 0
      },
      "text/plain": [
       "  0%|          | 0/70 [00:00<?, ?it/s]"
      ]
     },
     "metadata": {},
     "output_type": "display_data"
    },
    {
     "name": "stderr",
     "output_type": "stream",
     "text": [
      "INFO - 2025-10-17T12:42:18Z - Successfully downloaded to glory_data_interim_daily/glory_2022-02-20.nc\n",
      "INFO - 2025-10-17T12:42:21Z - Selected dataset version: \"202311\"\n",
      "INFO - 2025-10-17T12:42:21Z - Selected dataset part: \"default\"\n",
      "INFO - 2025-10-17T12:42:24Z - Starting download. Please wait...\n"
     ]
    },
    {
     "data": {
      "application/vnd.jupyter.widget-view+json": {
       "model_id": "65d8b07028884ff88c28926463325bf8",
       "version_major": 2,
       "version_minor": 0
      },
      "text/plain": [
       "  0%|          | 0/70 [00:00<?, ?it/s]"
      ]
     },
     "metadata": {},
     "output_type": "display_data"
    },
    {
     "name": "stderr",
     "output_type": "stream",
     "text": [
      "INFO - 2025-10-17T12:44:42Z - Successfully downloaded to glory_data_interim_daily/glory_2022-02-21.nc\n",
      "INFO - 2025-10-17T12:44:44Z - Selected dataset version: \"202311\"\n",
      "INFO - 2025-10-17T12:44:44Z - Selected dataset part: \"default\"\n",
      "INFO - 2025-10-17T12:44:47Z - Starting download. Please wait...\n"
     ]
    },
    {
     "data": {
      "application/vnd.jupyter.widget-view+json": {
       "model_id": "8714d22cbf2a43ee946f0cf332d4f1a8",
       "version_major": 2,
       "version_minor": 0
      },
      "text/plain": [
       "  0%|          | 0/70 [00:00<?, ?it/s]"
      ]
     },
     "metadata": {},
     "output_type": "display_data"
    },
    {
     "name": "stderr",
     "output_type": "stream",
     "text": [
      "INFO - 2025-10-17T12:47:02Z - Successfully downloaded to glory_data_interim_daily/glory_2022-02-22.nc\n",
      "INFO - 2025-10-17T12:47:05Z - Selected dataset version: \"202311\"\n",
      "INFO - 2025-10-17T12:47:05Z - Selected dataset part: \"default\"\n",
      "INFO - 2025-10-17T12:47:08Z - Starting download. Please wait...\n"
     ]
    },
    {
     "data": {
      "application/vnd.jupyter.widget-view+json": {
       "model_id": "876eabcd5f6e403e8e43ce55fd991578",
       "version_major": 2,
       "version_minor": 0
      },
      "text/plain": [
       "  0%|          | 0/70 [00:00<?, ?it/s]"
      ]
     },
     "metadata": {},
     "output_type": "display_data"
    },
    {
     "name": "stderr",
     "output_type": "stream",
     "text": [
      "INFO - 2025-10-17T12:49:34Z - Successfully downloaded to glory_data_interim_daily/glory_2022-02-23.nc\n",
      "INFO - 2025-10-17T12:49:37Z - Selected dataset version: \"202311\"\n",
      "INFO - 2025-10-17T12:49:37Z - Selected dataset part: \"default\"\n",
      "INFO - 2025-10-17T12:49:40Z - Starting download. Please wait...\n"
     ]
    },
    {
     "data": {
      "application/vnd.jupyter.widget-view+json": {
       "model_id": "7374d1cbf4154b468d73deb69d115e3d",
       "version_major": 2,
       "version_minor": 0
      },
      "text/plain": [
       "  0%|          | 0/70 [00:00<?, ?it/s]"
      ]
     },
     "metadata": {},
     "output_type": "display_data"
    },
    {
     "name": "stderr",
     "output_type": "stream",
     "text": [
      "INFO - 2025-10-17T12:51:56Z - Successfully downloaded to glory_data_interim_daily/glory_2022-02-24.nc\n",
      "INFO - 2025-10-17T12:51:58Z - Selected dataset version: \"202311\"\n",
      "INFO - 2025-10-17T12:51:58Z - Selected dataset part: \"default\"\n",
      "INFO - 2025-10-17T12:52:01Z - Starting download. Please wait...\n"
     ]
    },
    {
     "data": {
      "application/vnd.jupyter.widget-view+json": {
       "model_id": "f3aaeaaff7b94736a3a47a19cc769044",
       "version_major": 2,
       "version_minor": 0
      },
      "text/plain": [
       "  0%|          | 0/70 [00:00<?, ?it/s]"
      ]
     },
     "metadata": {},
     "output_type": "display_data"
    },
    {
     "name": "stderr",
     "output_type": "stream",
     "text": [
      "INFO - 2025-10-17T12:54:28Z - Successfully downloaded to glory_data_interim_daily/glory_2022-02-25.nc\n",
      "INFO - 2025-10-17T12:54:31Z - Selected dataset version: \"202311\"\n",
      "INFO - 2025-10-17T12:54:31Z - Selected dataset part: \"default\"\n",
      "INFO - 2025-10-17T12:54:34Z - Starting download. Please wait...\n"
     ]
    },
    {
     "data": {
      "application/vnd.jupyter.widget-view+json": {
       "model_id": "8bde7b3d6f6e4957a6a926846943ec83",
       "version_major": 2,
       "version_minor": 0
      },
      "text/plain": [
       "  0%|          | 0/70 [00:00<?, ?it/s]"
      ]
     },
     "metadata": {},
     "output_type": "display_data"
    },
    {
     "name": "stderr",
     "output_type": "stream",
     "text": [
      "INFO - 2025-10-17T12:56:56Z - Successfully downloaded to glory_data_interim_daily/glory_2022-02-26.nc\n",
      "INFO - 2025-10-17T12:56:58Z - Selected dataset version: \"202311\"\n",
      "INFO - 2025-10-17T12:56:58Z - Selected dataset part: \"default\"\n",
      "INFO - 2025-10-17T12:57:01Z - Starting download. Please wait...\n"
     ]
    },
    {
     "data": {
      "application/vnd.jupyter.widget-view+json": {
       "model_id": "7ab9bce4593e43b58b4d8fd325031b46",
       "version_major": 2,
       "version_minor": 0
      },
      "text/plain": [
       "  0%|          | 0/70 [00:00<?, ?it/s]"
      ]
     },
     "metadata": {},
     "output_type": "display_data"
    },
    {
     "name": "stderr",
     "output_type": "stream",
     "text": [
      "INFO - 2025-10-17T12:59:20Z - Successfully downloaded to glory_data_interim_daily/glory_2022-02-27.nc\n",
      "INFO - 2025-10-17T12:59:23Z - Selected dataset version: \"202311\"\n",
      "INFO - 2025-10-17T12:59:23Z - Selected dataset part: \"default\"\n",
      "INFO - 2025-10-17T12:59:25Z - Starting download. Please wait...\n"
     ]
    },
    {
     "data": {
      "application/vnd.jupyter.widget-view+json": {
       "model_id": "54b5e04ae5ab43b1bfd8d7cad4e9a2fc",
       "version_major": 2,
       "version_minor": 0
      },
      "text/plain": [
       "  0%|          | 0/70 [00:00<?, ?it/s]"
      ]
     },
     "metadata": {},
     "output_type": "display_data"
    },
    {
     "name": "stderr",
     "output_type": "stream",
     "text": [
      "INFO - 2025-10-17T13:01:47Z - Successfully downloaded to glory_data_interim_daily/glory_2022-02-28.nc\n",
      "INFO - 2025-10-17T13:01:50Z - Selected dataset version: \"202311\"\n",
      "INFO - 2025-10-17T13:01:50Z - Selected dataset part: \"default\"\n",
      "INFO - 2025-10-17T13:01:52Z - Starting download. Please wait...\n"
     ]
    },
    {
     "data": {
      "application/vnd.jupyter.widget-view+json": {
       "model_id": "e7f23d8aba224d668266e93f84bd46ab",
       "version_major": 2,
       "version_minor": 0
      },
      "text/plain": [
       "  0%|          | 0/70 [00:00<?, ?it/s]"
      ]
     },
     "metadata": {},
     "output_type": "display_data"
    },
    {
     "name": "stderr",
     "output_type": "stream",
     "text": [
      "INFO - 2025-10-17T13:04:11Z - Successfully downloaded to glory_data_interim_daily/glory_2022-03-01.nc\n",
      "INFO - 2025-10-17T13:04:15Z - Selected dataset version: \"202311\"\n",
      "INFO - 2025-10-17T13:04:15Z - Selected dataset part: \"default\"\n",
      "INFO - 2025-10-17T13:04:17Z - Starting download. Please wait...\n"
     ]
    },
    {
     "data": {
      "application/vnd.jupyter.widget-view+json": {
       "model_id": "a0aff885210e4562927e39fe057a4630",
       "version_major": 2,
       "version_minor": 0
      },
      "text/plain": [
       "  0%|          | 0/70 [00:00<?, ?it/s]"
      ]
     },
     "metadata": {},
     "output_type": "display_data"
    },
    {
     "name": "stderr",
     "output_type": "stream",
     "text": [
      "INFO - 2025-10-17T13:06:31Z - Successfully downloaded to glory_data_interim_daily/glory_2022-03-02.nc\n",
      "INFO - 2025-10-17T13:06:33Z - Selected dataset version: \"202311\"\n",
      "INFO - 2025-10-17T13:06:33Z - Selected dataset part: \"default\"\n",
      "INFO - 2025-10-17T13:06:36Z - Starting download. Please wait...\n"
     ]
    },
    {
     "data": {
      "application/vnd.jupyter.widget-view+json": {
       "model_id": "2d12ae8f4c084dcdac1e70e92598f657",
       "version_major": 2,
       "version_minor": 0
      },
      "text/plain": [
       "  0%|          | 0/70 [00:00<?, ?it/s]"
      ]
     },
     "metadata": {},
     "output_type": "display_data"
    },
    {
     "name": "stderr",
     "output_type": "stream",
     "text": [
      "INFO - 2025-10-17T13:09:02Z - Successfully downloaded to glory_data_interim_daily/glory_2022-03-03.nc\n",
      "INFO - 2025-10-17T13:09:05Z - Selected dataset version: \"202311\"\n",
      "INFO - 2025-10-17T13:09:05Z - Selected dataset part: \"default\"\n",
      "INFO - 2025-10-17T13:09:07Z - Starting download. Please wait...\n"
     ]
    },
    {
     "data": {
      "application/vnd.jupyter.widget-view+json": {
       "model_id": "2be2fb98c51749fe8a9576bc69552e4f",
       "version_major": 2,
       "version_minor": 0
      },
      "text/plain": [
       "  0%|          | 0/70 [00:00<?, ?it/s]"
      ]
     },
     "metadata": {},
     "output_type": "display_data"
    },
    {
     "name": "stderr",
     "output_type": "stream",
     "text": [
      "INFO - 2025-10-17T13:11:21Z - Successfully downloaded to glory_data_interim_daily/glory_2022-03-04.nc\n",
      "INFO - 2025-10-17T13:11:23Z - Selected dataset version: \"202311\"\n",
      "INFO - 2025-10-17T13:11:23Z - Selected dataset part: \"default\"\n",
      "INFO - 2025-10-17T13:11:26Z - Starting download. Please wait...\n"
     ]
    },
    {
     "data": {
      "application/vnd.jupyter.widget-view+json": {
       "model_id": "29ed86c4333d4d429debd7352a1f614f",
       "version_major": 2,
       "version_minor": 0
      },
      "text/plain": [
       "  0%|          | 0/70 [00:00<?, ?it/s]"
      ]
     },
     "metadata": {},
     "output_type": "display_data"
    },
    {
     "name": "stderr",
     "output_type": "stream",
     "text": [
      "INFO - 2025-10-17T13:13:38Z - Successfully downloaded to glory_data_interim_daily/glory_2022-03-05.nc\n",
      "INFO - 2025-10-17T13:13:41Z - Selected dataset version: \"202311\"\n",
      "INFO - 2025-10-17T13:13:41Z - Selected dataset part: \"default\"\n",
      "INFO - 2025-10-17T13:13:43Z - Starting download. Please wait...\n"
     ]
    },
    {
     "data": {
      "application/vnd.jupyter.widget-view+json": {
       "model_id": "f1045ef039cc401486d9c34176acfe29",
       "version_major": 2,
       "version_minor": 0
      },
      "text/plain": [
       "  0%|          | 0/70 [00:00<?, ?it/s]"
      ]
     },
     "metadata": {},
     "output_type": "display_data"
    },
    {
     "name": "stderr",
     "output_type": "stream",
     "text": [
      "INFO - 2025-10-17T13:15:59Z - Successfully downloaded to glory_data_interim_daily/glory_2022-03-06.nc\n",
      "INFO - 2025-10-17T13:16:02Z - Selected dataset version: \"202311\"\n",
      "INFO - 2025-10-17T13:16:02Z - Selected dataset part: \"default\"\n",
      "INFO - 2025-10-17T13:16:05Z - Starting download. Please wait...\n"
     ]
    },
    {
     "data": {
      "application/vnd.jupyter.widget-view+json": {
       "model_id": "7e6f4c3cba174556b838036577b3e284",
       "version_major": 2,
       "version_minor": 0
      },
      "text/plain": [
       "  0%|          | 0/70 [00:00<?, ?it/s]"
      ]
     },
     "metadata": {},
     "output_type": "display_data"
    },
    {
     "name": "stderr",
     "output_type": "stream",
     "text": [
      "INFO - 2025-10-17T13:18:21Z - Successfully downloaded to glory_data_interim_daily/glory_2022-03-07.nc\n",
      "INFO - 2025-10-17T13:18:24Z - Selected dataset version: \"202311\"\n",
      "INFO - 2025-10-17T13:18:24Z - Selected dataset part: \"default\"\n",
      "INFO - 2025-10-17T13:18:27Z - Starting download. Please wait...\n"
     ]
    },
    {
     "data": {
      "application/vnd.jupyter.widget-view+json": {
       "model_id": "85d49031705d49e28dfcc54ba8ba20cd",
       "version_major": 2,
       "version_minor": 0
      },
      "text/plain": [
       "  0%|          | 0/70 [00:00<?, ?it/s]"
      ]
     },
     "metadata": {},
     "output_type": "display_data"
    },
    {
     "name": "stderr",
     "output_type": "stream",
     "text": [
      "INFO - 2025-10-17T13:20:47Z - Successfully downloaded to glory_data_interim_daily/glory_2022-03-08.nc\n",
      "INFO - 2025-10-17T13:20:50Z - Selected dataset version: \"202311\"\n",
      "INFO - 2025-10-17T13:20:50Z - Selected dataset part: \"default\"\n",
      "INFO - 2025-10-17T13:20:53Z - Starting download. Please wait...\n"
     ]
    },
    {
     "data": {
      "application/vnd.jupyter.widget-view+json": {
       "model_id": "64b396aa808c4252adbb37f3445321d3",
       "version_major": 2,
       "version_minor": 0
      },
      "text/plain": [
       "  0%|          | 0/70 [00:00<?, ?it/s]"
      ]
     },
     "metadata": {},
     "output_type": "display_data"
    },
    {
     "name": "stderr",
     "output_type": "stream",
     "text": [
      "INFO - 2025-10-17T13:23:09Z - Successfully downloaded to glory_data_interim_daily/glory_2022-03-09.nc\n",
      "INFO - 2025-10-17T13:23:11Z - Selected dataset version: \"202311\"\n",
      "INFO - 2025-10-17T13:23:11Z - Selected dataset part: \"default\"\n",
      "INFO - 2025-10-17T13:23:14Z - Starting download. Please wait...\n"
     ]
    },
    {
     "data": {
      "application/vnd.jupyter.widget-view+json": {
       "model_id": "b439b9848b4d47a3bef5f68d7e87ae66",
       "version_major": 2,
       "version_minor": 0
      },
      "text/plain": [
       "  0%|          | 0/70 [00:00<?, ?it/s]"
      ]
     },
     "metadata": {},
     "output_type": "display_data"
    },
    {
     "name": "stderr",
     "output_type": "stream",
     "text": [
      "INFO - 2025-10-17T13:25:37Z - Successfully downloaded to glory_data_interim_daily/glory_2022-03-10.nc\n",
      "INFO - 2025-10-17T13:25:40Z - Selected dataset version: \"202311\"\n",
      "INFO - 2025-10-17T13:25:40Z - Selected dataset part: \"default\"\n",
      "INFO - 2025-10-17T13:25:43Z - Starting download. Please wait...\n"
     ]
    },
    {
     "data": {
      "application/vnd.jupyter.widget-view+json": {
       "model_id": "e78860a3def44373970f4d0539fd8a98",
       "version_major": 2,
       "version_minor": 0
      },
      "text/plain": [
       "  0%|          | 0/70 [00:00<?, ?it/s]"
      ]
     },
     "metadata": {},
     "output_type": "display_data"
    },
    {
     "name": "stderr",
     "output_type": "stream",
     "text": [
      "INFO - 2025-10-17T13:28:01Z - Successfully downloaded to glory_data_interim_daily/glory_2022-03-11.nc\n",
      "INFO - 2025-10-17T13:28:03Z - Selected dataset version: \"202311\"\n",
      "INFO - 2025-10-17T13:28:03Z - Selected dataset part: \"default\"\n",
      "INFO - 2025-10-17T13:28:06Z - Starting download. Please wait...\n"
     ]
    },
    {
     "data": {
      "application/vnd.jupyter.widget-view+json": {
       "model_id": "0070e8d32e6448b3af01b3cd89e09741",
       "version_major": 2,
       "version_minor": 0
      },
      "text/plain": [
       "  0%|          | 0/70 [00:00<?, ?it/s]"
      ]
     },
     "metadata": {},
     "output_type": "display_data"
    },
    {
     "name": "stderr",
     "output_type": "stream",
     "text": [
      "INFO - 2025-10-17T13:30:27Z - Successfully downloaded to glory_data_interim_daily/glory_2022-03-12.nc\n",
      "INFO - 2025-10-17T13:30:30Z - Selected dataset version: \"202311\"\n",
      "INFO - 2025-10-17T13:30:30Z - Selected dataset part: \"default\"\n",
      "INFO - 2025-10-17T13:30:33Z - Starting download. Please wait...\n"
     ]
    },
    {
     "data": {
      "application/vnd.jupyter.widget-view+json": {
       "model_id": "c53452fe4df941a9aeb86604874b431b",
       "version_major": 2,
       "version_minor": 0
      },
      "text/plain": [
       "  0%|          | 0/70 [00:00<?, ?it/s]"
      ]
     },
     "metadata": {},
     "output_type": "display_data"
    },
    {
     "name": "stderr",
     "output_type": "stream",
     "text": [
      "INFO - 2025-10-17T13:32:55Z - Successfully downloaded to glory_data_interim_daily/glory_2022-03-13.nc\n",
      "INFO - 2025-10-17T13:32:57Z - Selected dataset version: \"202311\"\n",
      "INFO - 2025-10-17T13:32:57Z - Selected dataset part: \"default\"\n",
      "INFO - 2025-10-17T13:33:00Z - Starting download. Please wait...\n"
     ]
    },
    {
     "data": {
      "application/vnd.jupyter.widget-view+json": {
       "model_id": "1c1b2812bf234e7ca2336becad49c5a0",
       "version_major": 2,
       "version_minor": 0
      },
      "text/plain": [
       "  0%|          | 0/70 [00:00<?, ?it/s]"
      ]
     },
     "metadata": {},
     "output_type": "display_data"
    },
    {
     "name": "stderr",
     "output_type": "stream",
     "text": [
      "INFO - 2025-10-17T13:35:25Z - Successfully downloaded to glory_data_interim_daily/glory_2022-03-14.nc\n",
      "INFO - 2025-10-17T13:35:27Z - Selected dataset version: \"202311\"\n",
      "INFO - 2025-10-17T13:35:27Z - Selected dataset part: \"default\"\n",
      "INFO - 2025-10-17T13:35:30Z - Starting download. Please wait...\n"
     ]
    },
    {
     "data": {
      "application/vnd.jupyter.widget-view+json": {
       "model_id": "c10ec064a1ee4c20bfd826bf75c8330d",
       "version_major": 2,
       "version_minor": 0
      },
      "text/plain": [
       "  0%|          | 0/70 [00:00<?, ?it/s]"
      ]
     },
     "metadata": {},
     "output_type": "display_data"
    },
    {
     "name": "stderr",
     "output_type": "stream",
     "text": [
      "INFO - 2025-10-17T13:37:48Z - Successfully downloaded to glory_data_interim_daily/glory_2022-03-15.nc\n",
      "INFO - 2025-10-17T13:37:50Z - Selected dataset version: \"202311\"\n",
      "INFO - 2025-10-17T13:37:50Z - Selected dataset part: \"default\"\n",
      "INFO - 2025-10-17T13:37:53Z - Starting download. Please wait...\n"
     ]
    },
    {
     "data": {
      "application/vnd.jupyter.widget-view+json": {
       "model_id": "32201ac4cebf4fff892b5e4d24d83301",
       "version_major": 2,
       "version_minor": 0
      },
      "text/plain": [
       "  0%|          | 0/70 [00:00<?, ?it/s]"
      ]
     },
     "metadata": {},
     "output_type": "display_data"
    },
    {
     "name": "stderr",
     "output_type": "stream",
     "text": [
      "INFO - 2025-10-17T13:40:12Z - Successfully downloaded to glory_data_interim_daily/glory_2022-03-16.nc\n",
      "INFO - 2025-10-17T13:40:15Z - Selected dataset version: \"202311\"\n",
      "INFO - 2025-10-17T13:40:15Z - Selected dataset part: \"default\"\n",
      "INFO - 2025-10-17T13:40:18Z - Starting download. Please wait...\n"
     ]
    },
    {
     "data": {
      "application/vnd.jupyter.widget-view+json": {
       "model_id": "0cc86da9b06340e3b4295a00bdad3f0a",
       "version_major": 2,
       "version_minor": 0
      },
      "text/plain": [
       "  0%|          | 0/70 [00:00<?, ?it/s]"
      ]
     },
     "metadata": {},
     "output_type": "display_data"
    },
    {
     "name": "stderr",
     "output_type": "stream",
     "text": [
      "INFO - 2025-10-17T13:42:41Z - Successfully downloaded to glory_data_interim_daily/glory_2022-03-17.nc\n",
      "INFO - 2025-10-17T13:42:44Z - Selected dataset version: \"202311\"\n",
      "INFO - 2025-10-17T13:42:44Z - Selected dataset part: \"default\"\n",
      "INFO - 2025-10-17T13:42:47Z - Starting download. Please wait...\n"
     ]
    },
    {
     "data": {
      "application/vnd.jupyter.widget-view+json": {
       "model_id": "6d3867f1e02d4f32afcaa44beba10ff5",
       "version_major": 2,
       "version_minor": 0
      },
      "text/plain": [
       "  0%|          | 0/70 [00:00<?, ?it/s]"
      ]
     },
     "metadata": {},
     "output_type": "display_data"
    },
    {
     "name": "stderr",
     "output_type": "stream",
     "text": [
      "INFO - 2025-10-17T13:45:04Z - Successfully downloaded to glory_data_interim_daily/glory_2022-03-18.nc\n",
      "INFO - 2025-10-17T13:45:07Z - Selected dataset version: \"202311\"\n",
      "INFO - 2025-10-17T13:45:07Z - Selected dataset part: \"default\"\n",
      "INFO - 2025-10-17T13:45:10Z - Starting download. Please wait...\n"
     ]
    },
    {
     "data": {
      "application/vnd.jupyter.widget-view+json": {
       "model_id": "2c121a1a87b748a98e6d881284f21065",
       "version_major": 2,
       "version_minor": 0
      },
      "text/plain": [
       "  0%|          | 0/70 [00:00<?, ?it/s]"
      ]
     },
     "metadata": {},
     "output_type": "display_data"
    },
    {
     "name": "stderr",
     "output_type": "stream",
     "text": [
      "INFO - 2025-10-17T13:47:34Z - Successfully downloaded to glory_data_interim_daily/glory_2022-03-19.nc\n",
      "INFO - 2025-10-17T13:47:36Z - Selected dataset version: \"202311\"\n",
      "INFO - 2025-10-17T13:47:36Z - Selected dataset part: \"default\"\n",
      "INFO - 2025-10-17T13:47:39Z - Starting download. Please wait...\n"
     ]
    },
    {
     "data": {
      "application/vnd.jupyter.widget-view+json": {
       "model_id": "fb8012d302a041f0b560b3649ef538b7",
       "version_major": 2,
       "version_minor": 0
      },
      "text/plain": [
       "  0%|          | 0/70 [00:00<?, ?it/s]"
      ]
     },
     "metadata": {},
     "output_type": "display_data"
    },
    {
     "name": "stderr",
     "output_type": "stream",
     "text": [
      "INFO - 2025-10-17T13:50:03Z - Successfully downloaded to glory_data_interim_daily/glory_2022-03-20.nc\n",
      "INFO - 2025-10-17T13:50:05Z - Selected dataset version: \"202311\"\n",
      "INFO - 2025-10-17T13:50:05Z - Selected dataset part: \"default\"\n",
      "INFO - 2025-10-17T13:50:08Z - Starting download. Please wait...\n"
     ]
    },
    {
     "data": {
      "application/vnd.jupyter.widget-view+json": {
       "model_id": "a4218dacc75b45ac98831eda40c0f707",
       "version_major": 2,
       "version_minor": 0
      },
      "text/plain": [
       "  0%|          | 0/70 [00:00<?, ?it/s]"
      ]
     },
     "metadata": {},
     "output_type": "display_data"
    },
    {
     "name": "stderr",
     "output_type": "stream",
     "text": [
      "INFO - 2025-10-17T13:52:26Z - Successfully downloaded to glory_data_interim_daily/glory_2022-03-21.nc\n",
      "INFO - 2025-10-17T13:52:30Z - Selected dataset version: \"202311\"\n",
      "INFO - 2025-10-17T13:52:30Z - Selected dataset part: \"default\"\n",
      "INFO - 2025-10-17T13:52:33Z - Starting download. Please wait...\n"
     ]
    },
    {
     "data": {
      "application/vnd.jupyter.widget-view+json": {
       "model_id": "682c89f442454ec0935b75ca55202188",
       "version_major": 2,
       "version_minor": 0
      },
      "text/plain": [
       "  0%|          | 0/70 [00:00<?, ?it/s]"
      ]
     },
     "metadata": {},
     "output_type": "display_data"
    },
    {
     "name": "stderr",
     "output_type": "stream",
     "text": [
      "INFO - 2025-10-17T13:54:56Z - Successfully downloaded to glory_data_interim_daily/glory_2022-03-22.nc\n",
      "INFO - 2025-10-17T13:55:00Z - Selected dataset version: \"202311\"\n",
      "INFO - 2025-10-17T13:55:00Z - Selected dataset part: \"default\"\n",
      "INFO - 2025-10-17T13:55:03Z - Starting download. Please wait...\n"
     ]
    },
    {
     "data": {
      "application/vnd.jupyter.widget-view+json": {
       "model_id": "4057cfda929646639e41fdb6293b7636",
       "version_major": 2,
       "version_minor": 0
      },
      "text/plain": [
       "  0%|          | 0/70 [00:00<?, ?it/s]"
      ]
     },
     "metadata": {},
     "output_type": "display_data"
    },
    {
     "name": "stderr",
     "output_type": "stream",
     "text": [
      "INFO - 2025-10-17T13:57:28Z - Successfully downloaded to glory_data_interim_daily/glory_2022-03-23.nc\n",
      "INFO - 2025-10-17T13:57:31Z - Selected dataset version: \"202311\"\n",
      "INFO - 2025-10-17T13:57:31Z - Selected dataset part: \"default\"\n",
      "INFO - 2025-10-17T13:57:34Z - Starting download. Please wait...\n"
     ]
    },
    {
     "data": {
      "application/vnd.jupyter.widget-view+json": {
       "model_id": "4a288bf7affd41528c0d51c0774346fd",
       "version_major": 2,
       "version_minor": 0
      },
      "text/plain": [
       "  0%|          | 0/70 [00:00<?, ?it/s]"
      ]
     },
     "metadata": {},
     "output_type": "display_data"
    },
    {
     "name": "stderr",
     "output_type": "stream",
     "text": [
      "INFO - 2025-10-17T13:59:56Z - Successfully downloaded to glory_data_interim_daily/glory_2022-03-24.nc\n",
      "INFO - 2025-10-17T13:59:59Z - Selected dataset version: \"202311\"\n",
      "INFO - 2025-10-17T13:59:59Z - Selected dataset part: \"default\"\n",
      "INFO - 2025-10-17T14:00:02Z - Starting download. Please wait...\n"
     ]
    },
    {
     "data": {
      "application/vnd.jupyter.widget-view+json": {
       "model_id": "fc4c03ff2fa44a5fa709171404f1811b",
       "version_major": 2,
       "version_minor": 0
      },
      "text/plain": [
       "  0%|          | 0/70 [00:00<?, ?it/s]"
      ]
     },
     "metadata": {},
     "output_type": "display_data"
    },
    {
     "name": "stderr",
     "output_type": "stream",
     "text": [
      "INFO - 2025-10-17T14:02:17Z - Successfully downloaded to glory_data_interim_daily/glory_2022-03-25.nc\n",
      "INFO - 2025-10-17T14:02:20Z - Selected dataset version: \"202311\"\n",
      "INFO - 2025-10-17T14:02:20Z - Selected dataset part: \"default\"\n",
      "INFO - 2025-10-17T14:02:22Z - Starting download. Please wait...\n"
     ]
    },
    {
     "data": {
      "application/vnd.jupyter.widget-view+json": {
       "model_id": "dc2dd71918cb43ed99dce2082b6ca281",
       "version_major": 2,
       "version_minor": 0
      },
      "text/plain": [
       "  0%|          | 0/70 [00:00<?, ?it/s]"
      ]
     },
     "metadata": {},
     "output_type": "display_data"
    },
    {
     "name": "stderr",
     "output_type": "stream",
     "text": [
      "INFO - 2025-10-17T14:04:43Z - Successfully downloaded to glory_data_interim_daily/glory_2022-03-26.nc\n",
      "INFO - 2025-10-17T14:04:48Z - Selected dataset version: \"202311\"\n",
      "INFO - 2025-10-17T14:04:48Z - Selected dataset part: \"default\"\n",
      "INFO - 2025-10-17T14:04:51Z - Starting download. Please wait...\n"
     ]
    },
    {
     "data": {
      "application/vnd.jupyter.widget-view+json": {
       "model_id": "3ba61eb9ce494731b9b0c58fc3a58f84",
       "version_major": 2,
       "version_minor": 0
      },
      "text/plain": [
       "  0%|          | 0/70 [00:00<?, ?it/s]"
      ]
     },
     "metadata": {},
     "output_type": "display_data"
    },
    {
     "name": "stderr",
     "output_type": "stream",
     "text": [
      "INFO - 2025-10-17T14:07:08Z - Successfully downloaded to glory_data_interim_daily/glory_2022-03-27.nc\n",
      "INFO - 2025-10-17T14:07:11Z - Selected dataset version: \"202311\"\n",
      "INFO - 2025-10-17T14:07:11Z - Selected dataset part: \"default\"\n",
      "INFO - 2025-10-17T14:07:13Z - Starting download. Please wait...\n"
     ]
    },
    {
     "data": {
      "application/vnd.jupyter.widget-view+json": {
       "model_id": "5067c90c07534996b5ac800661e547ec",
       "version_major": 2,
       "version_minor": 0
      },
      "text/plain": [
       "  0%|          | 0/70 [00:00<?, ?it/s]"
      ]
     },
     "metadata": {},
     "output_type": "display_data"
    },
    {
     "name": "stderr",
     "output_type": "stream",
     "text": [
      "INFO - 2025-10-17T14:09:29Z - Successfully downloaded to glory_data_interim_daily/glory_2022-03-28.nc\n",
      "INFO - 2025-10-17T14:09:31Z - Selected dataset version: \"202311\"\n",
      "INFO - 2025-10-17T14:09:31Z - Selected dataset part: \"default\"\n",
      "INFO - 2025-10-17T14:09:34Z - Starting download. Please wait...\n"
     ]
    },
    {
     "data": {
      "application/vnd.jupyter.widget-view+json": {
       "model_id": "bd9c5800fb804d078116a27ae11aeff2",
       "version_major": 2,
       "version_minor": 0
      },
      "text/plain": [
       "  0%|          | 0/70 [00:00<?, ?it/s]"
      ]
     },
     "metadata": {},
     "output_type": "display_data"
    },
    {
     "name": "stderr",
     "output_type": "stream",
     "text": [
      "INFO - 2025-10-17T14:11:56Z - Successfully downloaded to glory_data_interim_daily/glory_2022-03-29.nc\n",
      "INFO - 2025-10-17T14:11:59Z - Selected dataset version: \"202311\"\n",
      "INFO - 2025-10-17T14:11:59Z - Selected dataset part: \"default\"\n",
      "INFO - 2025-10-17T14:12:02Z - Starting download. Please wait...\n"
     ]
    },
    {
     "data": {
      "application/vnd.jupyter.widget-view+json": {
       "model_id": "1b710e33b17a4479a897db1b466ec482",
       "version_major": 2,
       "version_minor": 0
      },
      "text/plain": [
       "  0%|          | 0/70 [00:00<?, ?it/s]"
      ]
     },
     "metadata": {},
     "output_type": "display_data"
    },
    {
     "name": "stderr",
     "output_type": "stream",
     "text": [
      "INFO - 2025-10-17T14:14:21Z - Successfully downloaded to glory_data_interim_daily/glory_2022-03-30.nc\n",
      "INFO - 2025-10-17T14:14:24Z - Selected dataset version: \"202311\"\n",
      "INFO - 2025-10-17T14:14:24Z - Selected dataset part: \"default\"\n",
      "INFO - 2025-10-17T14:14:26Z - Starting download. Please wait...\n"
     ]
    },
    {
     "data": {
      "application/vnd.jupyter.widget-view+json": {
       "model_id": "af72732b3e5943d09c9306a0e4f204a1",
       "version_major": 2,
       "version_minor": 0
      },
      "text/plain": [
       "  0%|          | 0/70 [00:00<?, ?it/s]"
      ]
     },
     "metadata": {},
     "output_type": "display_data"
    },
    {
     "name": "stderr",
     "output_type": "stream",
     "text": [
      "INFO - 2025-10-17T14:16:41Z - Successfully downloaded to glory_data_interim_daily/glory_2022-03-31.nc\n",
      "INFO - 2025-10-17T14:16:44Z - Selected dataset version: \"202311\"\n",
      "INFO - 2025-10-17T14:16:44Z - Selected dataset part: \"default\"\n",
      "INFO - 2025-10-17T14:16:47Z - Starting download. Please wait...\n"
     ]
    },
    {
     "data": {
      "application/vnd.jupyter.widget-view+json": {
       "model_id": "510ef4d94b7b4c9eb6073bfedfa39aa2",
       "version_major": 2,
       "version_minor": 0
      },
      "text/plain": [
       "  0%|          | 0/70 [00:00<?, ?it/s]"
      ]
     },
     "metadata": {},
     "output_type": "display_data"
    },
    {
     "name": "stderr",
     "output_type": "stream",
     "text": [
      "INFO - 2025-10-17T14:19:03Z - Successfully downloaded to glory_data_interim_daily/glory_2022-04-01.nc\n",
      "INFO - 2025-10-17T14:19:06Z - Selected dataset version: \"202311\"\n",
      "INFO - 2025-10-17T14:19:06Z - Selected dataset part: \"default\"\n",
      "INFO - 2025-10-17T14:19:09Z - Starting download. Please wait...\n"
     ]
    },
    {
     "data": {
      "application/vnd.jupyter.widget-view+json": {
       "model_id": "9b7e72a220d2459caa1062371fe5a140",
       "version_major": 2,
       "version_minor": 0
      },
      "text/plain": [
       "  0%|          | 0/70 [00:00<?, ?it/s]"
      ]
     },
     "metadata": {},
     "output_type": "display_data"
    },
    {
     "name": "stderr",
     "output_type": "stream",
     "text": [
      "INFO - 2025-10-17T14:21:34Z - Successfully downloaded to glory_data_interim_daily/glory_2022-04-02.nc\n",
      "INFO - 2025-10-17T14:21:36Z - Selected dataset version: \"202311\"\n",
      "INFO - 2025-10-17T14:21:36Z - Selected dataset part: \"default\"\n",
      "INFO - 2025-10-17T14:21:39Z - Starting download. Please wait...\n"
     ]
    },
    {
     "data": {
      "application/vnd.jupyter.widget-view+json": {
       "model_id": "24c74ac6a0ad4007ae64456e8ca07743",
       "version_major": 2,
       "version_minor": 0
      },
      "text/plain": [
       "  0%|          | 0/70 [00:00<?, ?it/s]"
      ]
     },
     "metadata": {},
     "output_type": "display_data"
    },
    {
     "name": "stderr",
     "output_type": "stream",
     "text": [
      "INFO - 2025-10-17T14:24:04Z - Successfully downloaded to glory_data_interim_daily/glory_2022-04-03.nc\n",
      "INFO - 2025-10-17T14:24:06Z - Selected dataset version: \"202311\"\n",
      "INFO - 2025-10-17T14:24:06Z - Selected dataset part: \"default\"\n",
      "INFO - 2025-10-17T14:24:09Z - Starting download. Please wait...\n"
     ]
    },
    {
     "data": {
      "application/vnd.jupyter.widget-view+json": {
       "model_id": "2e117dc239a74801b392ccd76f2cbdbd",
       "version_major": 2,
       "version_minor": 0
      },
      "text/plain": [
       "  0%|          | 0/70 [00:00<?, ?it/s]"
      ]
     },
     "metadata": {},
     "output_type": "display_data"
    },
    {
     "name": "stderr",
     "output_type": "stream",
     "text": [
      "INFO - 2025-10-17T14:26:25Z - Successfully downloaded to glory_data_interim_daily/glory_2022-04-04.nc\n",
      "INFO - 2025-10-17T14:26:27Z - Selected dataset version: \"202311\"\n",
      "INFO - 2025-10-17T14:26:27Z - Selected dataset part: \"default\"\n",
      "INFO - 2025-10-17T14:26:30Z - Starting download. Please wait...\n"
     ]
    },
    {
     "data": {
      "application/vnd.jupyter.widget-view+json": {
       "model_id": "1e399fbc4738479a80b0c0d45f1fd38f",
       "version_major": 2,
       "version_minor": 0
      },
      "text/plain": [
       "  0%|          | 0/70 [00:00<?, ?it/s]"
      ]
     },
     "metadata": {},
     "output_type": "display_data"
    },
    {
     "name": "stderr",
     "output_type": "stream",
     "text": [
      "INFO - 2025-10-17T14:28:51Z - Successfully downloaded to glory_data_interim_daily/glory_2022-04-05.nc\n",
      "INFO - 2025-10-17T14:28:53Z - Selected dataset version: \"202311\"\n",
      "INFO - 2025-10-17T14:28:53Z - Selected dataset part: \"default\"\n",
      "INFO - 2025-10-17T14:28:56Z - Starting download. Please wait...\n"
     ]
    },
    {
     "data": {
      "application/vnd.jupyter.widget-view+json": {
       "model_id": "b8ad8fd618b1472e8699b0a5703084fa",
       "version_major": 2,
       "version_minor": 0
      },
      "text/plain": [
       "  0%|          | 0/70 [00:00<?, ?it/s]"
      ]
     },
     "metadata": {},
     "output_type": "display_data"
    },
    {
     "name": "stderr",
     "output_type": "stream",
     "text": [
      "INFO - 2025-10-17T14:31:14Z - Successfully downloaded to glory_data_interim_daily/glory_2022-04-06.nc\n",
      "INFO - 2025-10-17T14:31:16Z - Selected dataset version: \"202311\"\n",
      "INFO - 2025-10-17T14:31:16Z - Selected dataset part: \"default\"\n",
      "INFO - 2025-10-17T14:31:19Z - Starting download. Please wait...\n"
     ]
    },
    {
     "data": {
      "application/vnd.jupyter.widget-view+json": {
       "model_id": "dc8b28893cdc4d35b7c1faeaca462868",
       "version_major": 2,
       "version_minor": 0
      },
      "text/plain": [
       "  0%|          | 0/70 [00:00<?, ?it/s]"
      ]
     },
     "metadata": {},
     "output_type": "display_data"
    },
    {
     "name": "stderr",
     "output_type": "stream",
     "text": [
      "INFO - 2025-10-17T14:33:42Z - Successfully downloaded to glory_data_interim_daily/glory_2022-04-07.nc\n",
      "INFO - 2025-10-17T14:33:44Z - Selected dataset version: \"202311\"\n",
      "INFO - 2025-10-17T14:33:44Z - Selected dataset part: \"default\"\n",
      "INFO - 2025-10-17T14:33:47Z - Starting download. Please wait...\n"
     ]
    },
    {
     "data": {
      "application/vnd.jupyter.widget-view+json": {
       "model_id": "9089dc42d9d8439b9ce03145b763acaf",
       "version_major": 2,
       "version_minor": 0
      },
      "text/plain": [
       "  0%|          | 0/70 [00:00<?, ?it/s]"
      ]
     },
     "metadata": {},
     "output_type": "display_data"
    },
    {
     "name": "stderr",
     "output_type": "stream",
     "text": [
      "INFO - 2025-10-17T14:36:00Z - Successfully downloaded to glory_data_interim_daily/glory_2022-04-08.nc\n",
      "INFO - 2025-10-17T14:36:03Z - Selected dataset version: \"202311\"\n",
      "INFO - 2025-10-17T14:36:03Z - Selected dataset part: \"default\"\n",
      "INFO - 2025-10-17T14:36:06Z - Starting download. Please wait...\n"
     ]
    },
    {
     "data": {
      "application/vnd.jupyter.widget-view+json": {
       "model_id": "c0035fbf261f4374b5915ab98497c7a2",
       "version_major": 2,
       "version_minor": 0
      },
      "text/plain": [
       "  0%|          | 0/70 [00:00<?, ?it/s]"
      ]
     },
     "metadata": {},
     "output_type": "display_data"
    },
    {
     "name": "stderr",
     "output_type": "stream",
     "text": [
      "INFO - 2025-10-17T14:38:30Z - Successfully downloaded to glory_data_interim_daily/glory_2022-04-09.nc\n",
      "INFO - 2025-10-17T14:38:34Z - Selected dataset version: \"202311\"\n",
      "INFO - 2025-10-17T14:38:34Z - Selected dataset part: \"default\"\n",
      "INFO - 2025-10-17T14:38:37Z - Starting download. Please wait...\n"
     ]
    },
    {
     "data": {
      "application/vnd.jupyter.widget-view+json": {
       "model_id": "5f6f0fee6b59427893fa496ea694fc5d",
       "version_major": 2,
       "version_minor": 0
      },
      "text/plain": [
       "  0%|          | 0/70 [00:00<?, ?it/s]"
      ]
     },
     "metadata": {},
     "output_type": "display_data"
    },
    {
     "name": "stderr",
     "output_type": "stream",
     "text": [
      "INFO - 2025-10-17T14:41:05Z - Successfully downloaded to glory_data_interim_daily/glory_2022-04-10.nc\n",
      "INFO - 2025-10-17T14:41:08Z - Selected dataset version: \"202311\"\n",
      "INFO - 2025-10-17T14:41:08Z - Selected dataset part: \"default\"\n",
      "INFO - 2025-10-17T14:41:11Z - Starting download. Please wait...\n"
     ]
    },
    {
     "data": {
      "application/vnd.jupyter.widget-view+json": {
       "model_id": "b67ecfad62064b63854d5de2f186e209",
       "version_major": 2,
       "version_minor": 0
      },
      "text/plain": [
       "  0%|          | 0/70 [00:00<?, ?it/s]"
      ]
     },
     "metadata": {},
     "output_type": "display_data"
    },
    {
     "name": "stderr",
     "output_type": "stream",
     "text": [
      "INFO - 2025-10-17T14:43:40Z - Successfully downloaded to glory_data_interim_daily/glory_2022-04-11.nc\n",
      "INFO - 2025-10-17T14:43:43Z - Selected dataset version: \"202311\"\n",
      "INFO - 2025-10-17T14:43:43Z - Selected dataset part: \"default\"\n",
      "INFO - 2025-10-17T14:43:46Z - Starting download. Please wait...\n"
     ]
    },
    {
     "data": {
      "application/vnd.jupyter.widget-view+json": {
       "model_id": "4b55a3858877400eb2396f2365313e7c",
       "version_major": 2,
       "version_minor": 0
      },
      "text/plain": [
       "  0%|          | 0/70 [00:00<?, ?it/s]"
      ]
     },
     "metadata": {},
     "output_type": "display_data"
    },
    {
     "name": "stderr",
     "output_type": "stream",
     "text": [
      "INFO - 2025-10-17T14:46:02Z - Successfully downloaded to glory_data_interim_daily/glory_2022-04-12.nc\n",
      "INFO - 2025-10-17T14:46:05Z - Selected dataset version: \"202311\"\n",
      "INFO - 2025-10-17T14:46:05Z - Selected dataset part: \"default\"\n",
      "INFO - 2025-10-17T14:46:07Z - Starting download. Please wait...\n"
     ]
    },
    {
     "data": {
      "application/vnd.jupyter.widget-view+json": {
       "model_id": "96eb536ce91845499e7f822a92d59644",
       "version_major": 2,
       "version_minor": 0
      },
      "text/plain": [
       "  0%|          | 0/70 [00:00<?, ?it/s]"
      ]
     },
     "metadata": {},
     "output_type": "display_data"
    },
    {
     "name": "stderr",
     "output_type": "stream",
     "text": [
      "INFO - 2025-10-17T14:48:23Z - Successfully downloaded to glory_data_interim_daily/glory_2022-04-13.nc\n",
      "INFO - 2025-10-17T14:48:26Z - Selected dataset version: \"202311\"\n",
      "INFO - 2025-10-17T14:48:26Z - Selected dataset part: \"default\"\n",
      "INFO - 2025-10-17T14:48:28Z - Starting download. Please wait...\n"
     ]
    },
    {
     "data": {
      "application/vnd.jupyter.widget-view+json": {
       "model_id": "bb461c1538344debacf13a29783d2a7d",
       "version_major": 2,
       "version_minor": 0
      },
      "text/plain": [
       "  0%|          | 0/70 [00:00<?, ?it/s]"
      ]
     },
     "metadata": {},
     "output_type": "display_data"
    },
    {
     "name": "stderr",
     "output_type": "stream",
     "text": [
      "INFO - 2025-10-17T14:50:40Z - Successfully downloaded to glory_data_interim_daily/glory_2022-04-14.nc\n",
      "INFO - 2025-10-17T14:50:43Z - Selected dataset version: \"202311\"\n",
      "INFO - 2025-10-17T14:50:43Z - Selected dataset part: \"default\"\n",
      "INFO - 2025-10-17T14:50:46Z - Starting download. Please wait...\n"
     ]
    },
    {
     "data": {
      "application/vnd.jupyter.widget-view+json": {
       "model_id": "c7cbe8f570d9448f90803f4222dcbf84",
       "version_major": 2,
       "version_minor": 0
      },
      "text/plain": [
       "  0%|          | 0/70 [00:00<?, ?it/s]"
      ]
     },
     "metadata": {},
     "output_type": "display_data"
    },
    {
     "name": "stderr",
     "output_type": "stream",
     "text": [
      "INFO - 2025-10-17T14:53:04Z - Successfully downloaded to glory_data_interim_daily/glory_2022-04-15.nc\n",
      "INFO - 2025-10-17T14:53:06Z - Selected dataset version: \"202311\"\n",
      "INFO - 2025-10-17T14:53:06Z - Selected dataset part: \"default\"\n",
      "INFO - 2025-10-17T14:53:09Z - Starting download. Please wait...\n"
     ]
    },
    {
     "data": {
      "application/vnd.jupyter.widget-view+json": {
       "model_id": "c6f1e3e758f94c7ba4c62cf44b1fe226",
       "version_major": 2,
       "version_minor": 0
      },
      "text/plain": [
       "  0%|          | 0/70 [00:00<?, ?it/s]"
      ]
     },
     "metadata": {},
     "output_type": "display_data"
    },
    {
     "name": "stderr",
     "output_type": "stream",
     "text": [
      "INFO - 2025-10-17T14:55:23Z - Successfully downloaded to glory_data_interim_daily/glory_2022-04-16.nc\n",
      "INFO - 2025-10-17T14:55:26Z - Selected dataset version: \"202311\"\n",
      "INFO - 2025-10-17T14:55:26Z - Selected dataset part: \"default\"\n",
      "INFO - 2025-10-17T14:55:29Z - Starting download. Please wait...\n"
     ]
    },
    {
     "data": {
      "application/vnd.jupyter.widget-view+json": {
       "model_id": "62f355ee110540bebc3261cdabb41229",
       "version_major": 2,
       "version_minor": 0
      },
      "text/plain": [
       "  0%|          | 0/70 [00:00<?, ?it/s]"
      ]
     },
     "metadata": {},
     "output_type": "display_data"
    },
    {
     "name": "stderr",
     "output_type": "stream",
     "text": [
      "INFO - 2025-10-17T14:57:42Z - Successfully downloaded to glory_data_interim_daily/glory_2022-04-17.nc\n",
      "INFO - 2025-10-17T14:57:44Z - Selected dataset version: \"202311\"\n",
      "INFO - 2025-10-17T14:57:44Z - Selected dataset part: \"default\"\n",
      "INFO - 2025-10-17T14:57:47Z - Starting download. Please wait...\n"
     ]
    },
    {
     "data": {
      "application/vnd.jupyter.widget-view+json": {
       "model_id": "b79931ca363345df9a9efcb926d40f5f",
       "version_major": 2,
       "version_minor": 0
      },
      "text/plain": [
       "  0%|          | 0/70 [00:00<?, ?it/s]"
      ]
     },
     "metadata": {},
     "output_type": "display_data"
    },
    {
     "name": "stderr",
     "output_type": "stream",
     "text": [
      "INFO - 2025-10-17T15:00:03Z - Successfully downloaded to glory_data_interim_daily/glory_2022-04-18.nc\n",
      "INFO - 2025-10-17T15:00:09Z - Selected dataset version: \"202311\"\n",
      "INFO - 2025-10-17T15:00:09Z - Selected dataset part: \"default\"\n",
      "INFO - 2025-10-17T15:00:12Z - Starting download. Please wait...\n"
     ]
    },
    {
     "data": {
      "application/vnd.jupyter.widget-view+json": {
       "model_id": "84b5908376cb4e2fa4904349ed991143",
       "version_major": 2,
       "version_minor": 0
      },
      "text/plain": [
       "  0%|          | 0/70 [00:00<?, ?it/s]"
      ]
     },
     "metadata": {},
     "output_type": "display_data"
    },
    {
     "name": "stderr",
     "output_type": "stream",
     "text": [
      "INFO - 2025-10-17T15:02:32Z - Successfully downloaded to glory_data_interim_daily/glory_2022-04-19.nc\n",
      "INFO - 2025-10-17T15:02:34Z - Selected dataset version: \"202311\"\n",
      "INFO - 2025-10-17T15:02:34Z - Selected dataset part: \"default\"\n",
      "INFO - 2025-10-17T15:02:37Z - Starting download. Please wait...\n"
     ]
    },
    {
     "data": {
      "application/vnd.jupyter.widget-view+json": {
       "model_id": "d9fa72a7daad479cbe8c7e43318cb8bc",
       "version_major": 2,
       "version_minor": 0
      },
      "text/plain": [
       "  0%|          | 0/70 [00:00<?, ?it/s]"
      ]
     },
     "metadata": {},
     "output_type": "display_data"
    },
    {
     "name": "stderr",
     "output_type": "stream",
     "text": [
      "INFO - 2025-10-17T15:04:46Z - Successfully downloaded to glory_data_interim_daily/glory_2022-04-20.nc\n",
      "INFO - 2025-10-17T15:04:48Z - Selected dataset version: \"202311\"\n",
      "INFO - 2025-10-17T15:04:48Z - Selected dataset part: \"default\"\n",
      "INFO - 2025-10-17T15:04:51Z - Starting download. Please wait...\n"
     ]
    },
    {
     "data": {
      "application/vnd.jupyter.widget-view+json": {
       "model_id": "149872e8b51249798d7fa7cb8e54a778",
       "version_major": 2,
       "version_minor": 0
      },
      "text/plain": [
       "  0%|          | 0/70 [00:00<?, ?it/s]"
      ]
     },
     "metadata": {},
     "output_type": "display_data"
    },
    {
     "name": "stderr",
     "output_type": "stream",
     "text": [
      "INFO - 2025-10-17T15:07:11Z - Successfully downloaded to glory_data_interim_daily/glory_2022-04-21.nc\n",
      "INFO - 2025-10-17T15:07:14Z - Selected dataset version: \"202311\"\n",
      "INFO - 2025-10-17T15:07:14Z - Selected dataset part: \"default\"\n",
      "INFO - 2025-10-17T15:07:17Z - Starting download. Please wait...\n"
     ]
    },
    {
     "data": {
      "application/vnd.jupyter.widget-view+json": {
       "model_id": "7d943c418b754bfcb60288b4803b41cd",
       "version_major": 2,
       "version_minor": 0
      },
      "text/plain": [
       "  0%|          | 0/70 [00:00<?, ?it/s]"
      ]
     },
     "metadata": {},
     "output_type": "display_data"
    },
    {
     "name": "stderr",
     "output_type": "stream",
     "text": [
      "INFO - 2025-10-17T15:10:12Z - Successfully downloaded to glory_data_interim_daily/glory_2022-04-22.nc\n",
      "INFO - 2025-10-17T15:10:14Z - Selected dataset version: \"202311\"\n",
      "INFO - 2025-10-17T15:10:14Z - Selected dataset part: \"default\"\n",
      "INFO - 2025-10-17T15:10:17Z - Starting download. Please wait...\n"
     ]
    },
    {
     "data": {
      "application/vnd.jupyter.widget-view+json": {
       "model_id": "49807dde648f4ac6b8cf19102686f73d",
       "version_major": 2,
       "version_minor": 0
      },
      "text/plain": [
       "  0%|          | 0/70 [00:00<?, ?it/s]"
      ]
     },
     "metadata": {},
     "output_type": "display_data"
    },
    {
     "name": "stderr",
     "output_type": "stream",
     "text": [
      "INFO - 2025-10-17T15:12:41Z - Successfully downloaded to glory_data_interim_daily/glory_2022-04-23.nc\n",
      "INFO - 2025-10-17T15:12:44Z - Selected dataset version: \"202311\"\n",
      "INFO - 2025-10-17T15:12:44Z - Selected dataset part: \"default\"\n",
      "INFO - 2025-10-17T15:12:47Z - Starting download. Please wait...\n"
     ]
    },
    {
     "data": {
      "application/vnd.jupyter.widget-view+json": {
       "model_id": "884fabc9b88b46859e6ff2db87ac1fa5",
       "version_major": 2,
       "version_minor": 0
      },
      "text/plain": [
       "  0%|          | 0/70 [00:00<?, ?it/s]"
      ]
     },
     "metadata": {},
     "output_type": "display_data"
    },
    {
     "name": "stderr",
     "output_type": "stream",
     "text": [
      "INFO - 2025-10-17T15:15:06Z - Successfully downloaded to glory_data_interim_daily/glory_2022-04-24.nc\n",
      "INFO - 2025-10-17T15:15:08Z - Selected dataset version: \"202311\"\n",
      "INFO - 2025-10-17T15:15:08Z - Selected dataset part: \"default\"\n",
      "INFO - 2025-10-17T15:15:11Z - Starting download. Please wait...\n"
     ]
    },
    {
     "data": {
      "application/vnd.jupyter.widget-view+json": {
       "model_id": "ba0c8327031a4917a5e6e93f51f757fa",
       "version_major": 2,
       "version_minor": 0
      },
      "text/plain": [
       "  0%|          | 0/70 [00:00<?, ?it/s]"
      ]
     },
     "metadata": {},
     "output_type": "display_data"
    },
    {
     "name": "stderr",
     "output_type": "stream",
     "text": [
      "INFO - 2025-10-17T15:17:28Z - Successfully downloaded to glory_data_interim_daily/glory_2022-04-25.nc\n",
      "INFO - 2025-10-17T15:17:31Z - Selected dataset version: \"202311\"\n",
      "INFO - 2025-10-17T15:17:31Z - Selected dataset part: \"default\"\n",
      "INFO - 2025-10-17T15:17:34Z - Starting download. Please wait...\n"
     ]
    },
    {
     "data": {
      "application/vnd.jupyter.widget-view+json": {
       "model_id": "cfdaa4e34ab4446e98568284a479f66b",
       "version_major": 2,
       "version_minor": 0
      },
      "text/plain": [
       "  0%|          | 0/70 [00:00<?, ?it/s]"
      ]
     },
     "metadata": {},
     "output_type": "display_data"
    },
    {
     "name": "stderr",
     "output_type": "stream",
     "text": [
      "INFO - 2025-10-17T15:19:51Z - Successfully downloaded to glory_data_interim_daily/glory_2022-04-26.nc\n",
      "INFO - 2025-10-17T15:19:54Z - Selected dataset version: \"202311\"\n",
      "INFO - 2025-10-17T15:19:54Z - Selected dataset part: \"default\"\n",
      "INFO - 2025-10-17T15:19:57Z - Starting download. Please wait...\n"
     ]
    },
    {
     "data": {
      "application/vnd.jupyter.widget-view+json": {
       "model_id": "72bb442cd19f4ed4b12e50d5662d00a7",
       "version_major": 2,
       "version_minor": 0
      },
      "text/plain": [
       "  0%|          | 0/70 [00:00<?, ?it/s]"
      ]
     },
     "metadata": {},
     "output_type": "display_data"
    },
    {
     "name": "stderr",
     "output_type": "stream",
     "text": [
      "INFO - 2025-10-17T15:22:10Z - Successfully downloaded to glory_data_interim_daily/glory_2022-04-27.nc\n",
      "INFO - 2025-10-17T15:22:12Z - Selected dataset version: \"202311\"\n",
      "INFO - 2025-10-17T15:22:12Z - Selected dataset part: \"default\"\n",
      "INFO - 2025-10-17T15:22:15Z - Starting download. Please wait...\n"
     ]
    },
    {
     "data": {
      "application/vnd.jupyter.widget-view+json": {
       "model_id": "2eee600144ab485daf2c3753cbfaf4b7",
       "version_major": 2,
       "version_minor": 0
      },
      "text/plain": [
       "  0%|          | 0/70 [00:00<?, ?it/s]"
      ]
     },
     "metadata": {},
     "output_type": "display_data"
    },
    {
     "name": "stderr",
     "output_type": "stream",
     "text": [
      "INFO - 2025-10-17T15:24:32Z - Successfully downloaded to glory_data_interim_daily/glory_2022-04-28.nc\n",
      "INFO - 2025-10-17T15:24:34Z - Selected dataset version: \"202311\"\n",
      "INFO - 2025-10-17T15:24:34Z - Selected dataset part: \"default\"\n",
      "INFO - 2025-10-17T15:24:37Z - Starting download. Please wait...\n"
     ]
    },
    {
     "data": {
      "application/vnd.jupyter.widget-view+json": {
       "model_id": "0588cd65e79e41fea317f04c611919d1",
       "version_major": 2,
       "version_minor": 0
      },
      "text/plain": [
       "  0%|          | 0/70 [00:00<?, ?it/s]"
      ]
     },
     "metadata": {},
     "output_type": "display_data"
    },
    {
     "name": "stderr",
     "output_type": "stream",
     "text": [
      "INFO - 2025-10-17T15:26:52Z - Successfully downloaded to glory_data_interim_daily/glory_2022-04-29.nc\n",
      "INFO - 2025-10-17T15:26:54Z - Selected dataset version: \"202311\"\n",
      "INFO - 2025-10-17T15:26:54Z - Selected dataset part: \"default\"\n",
      "INFO - 2025-10-17T15:26:57Z - Starting download. Please wait...\n"
     ]
    },
    {
     "data": {
      "application/vnd.jupyter.widget-view+json": {
       "model_id": "dc70adcbf4ea4236b9422e39ba090445",
       "version_major": 2,
       "version_minor": 0
      },
      "text/plain": [
       "  0%|          | 0/70 [00:00<?, ?it/s]"
      ]
     },
     "metadata": {},
     "output_type": "display_data"
    },
    {
     "name": "stderr",
     "output_type": "stream",
     "text": [
      "INFO - 2025-10-17T15:29:21Z - Successfully downloaded to glory_data_interim_daily/glory_2022-04-30.nc\n",
      "INFO - 2025-10-17T15:29:23Z - Selected dataset version: \"202311\"\n",
      "INFO - 2025-10-17T15:29:23Z - Selected dataset part: \"default\"\n",
      "INFO - 2025-10-17T15:29:26Z - Starting download. Please wait...\n"
     ]
    },
    {
     "data": {
      "application/vnd.jupyter.widget-view+json": {
       "model_id": "e38b6cc6a90b44b6a41a1d35f15fcd25",
       "version_major": 2,
       "version_minor": 0
      },
      "text/plain": [
       "  0%|          | 0/70 [00:00<?, ?it/s]"
      ]
     },
     "metadata": {},
     "output_type": "display_data"
    },
    {
     "name": "stderr",
     "output_type": "stream",
     "text": [
      "INFO - 2025-10-17T15:31:39Z - Successfully downloaded to glory_data_interim_daily/glory_2022-05-01.nc\n",
      "INFO - 2025-10-17T15:31:41Z - Selected dataset version: \"202311\"\n",
      "INFO - 2025-10-17T15:31:41Z - Selected dataset part: \"default\"\n",
      "INFO - 2025-10-17T15:31:44Z - Starting download. Please wait...\n"
     ]
    },
    {
     "data": {
      "application/vnd.jupyter.widget-view+json": {
       "model_id": "1c85809e268547bb8c1feac31a019bc4",
       "version_major": 2,
       "version_minor": 0
      },
      "text/plain": [
       "  0%|          | 0/70 [00:00<?, ?it/s]"
      ]
     },
     "metadata": {},
     "output_type": "display_data"
    },
    {
     "name": "stderr",
     "output_type": "stream",
     "text": [
      "INFO - 2025-10-17T15:34:10Z - Successfully downloaded to glory_data_interim_daily/glory_2022-05-02.nc\n",
      "INFO - 2025-10-17T15:34:13Z - Selected dataset version: \"202311\"\n",
      "INFO - 2025-10-17T15:34:13Z - Selected dataset part: \"default\"\n",
      "INFO - 2025-10-17T15:34:15Z - Starting download. Please wait...\n"
     ]
    },
    {
     "data": {
      "application/vnd.jupyter.widget-view+json": {
       "model_id": "407194de982146a48df6bf4016a1e9b4",
       "version_major": 2,
       "version_minor": 0
      },
      "text/plain": [
       "  0%|          | 0/70 [00:00<?, ?it/s]"
      ]
     },
     "metadata": {},
     "output_type": "display_data"
    },
    {
     "name": "stderr",
     "output_type": "stream",
     "text": [
      "INFO - 2025-10-17T15:36:30Z - Successfully downloaded to glory_data_interim_daily/glory_2022-05-03.nc\n",
      "INFO - 2025-10-17T15:36:33Z - Selected dataset version: \"202311\"\n",
      "INFO - 2025-10-17T15:36:33Z - Selected dataset part: \"default\"\n",
      "INFO - 2025-10-17T15:36:36Z - Starting download. Please wait...\n"
     ]
    },
    {
     "data": {
      "application/vnd.jupyter.widget-view+json": {
       "model_id": "a61898394ea04411a5ab72e1bef4ab2f",
       "version_major": 2,
       "version_minor": 0
      },
      "text/plain": [
       "  0%|          | 0/70 [00:00<?, ?it/s]"
      ]
     },
     "metadata": {},
     "output_type": "display_data"
    },
    {
     "name": "stderr",
     "output_type": "stream",
     "text": [
      "INFO - 2025-10-17T15:38:47Z - Successfully downloaded to glory_data_interim_daily/glory_2022-05-04.nc\n",
      "INFO - 2025-10-17T15:38:50Z - Selected dataset version: \"202311\"\n",
      "INFO - 2025-10-17T15:38:50Z - Selected dataset part: \"default\"\n",
      "INFO - 2025-10-17T15:38:52Z - Starting download. Please wait...\n"
     ]
    },
    {
     "data": {
      "application/vnd.jupyter.widget-view+json": {
       "model_id": "39490d4aeb1340f88e850da08b64c7f4",
       "version_major": 2,
       "version_minor": 0
      },
      "text/plain": [
       "  0%|          | 0/70 [00:00<?, ?it/s]"
      ]
     },
     "metadata": {},
     "output_type": "display_data"
    },
    {
     "name": "stderr",
     "output_type": "stream",
     "text": [
      "INFO - 2025-10-17T15:41:03Z - Successfully downloaded to glory_data_interim_daily/glory_2022-05-05.nc\n",
      "INFO - 2025-10-17T15:41:06Z - Selected dataset version: \"202311\"\n",
      "INFO - 2025-10-17T15:41:06Z - Selected dataset part: \"default\"\n",
      "INFO - 2025-10-17T15:41:09Z - Starting download. Please wait...\n"
     ]
    },
    {
     "data": {
      "application/vnd.jupyter.widget-view+json": {
       "model_id": "304f4b77723b40db97dcae958bc39f7a",
       "version_major": 2,
       "version_minor": 0
      },
      "text/plain": [
       "  0%|          | 0/70 [00:00<?, ?it/s]"
      ]
     },
     "metadata": {},
     "output_type": "display_data"
    },
    {
     "name": "stderr",
     "output_type": "stream",
     "text": [
      "INFO - 2025-10-17T15:43:33Z - Successfully downloaded to glory_data_interim_daily/glory_2022-05-06.nc\n",
      "INFO - 2025-10-17T15:43:36Z - Selected dataset version: \"202311\"\n",
      "INFO - 2025-10-17T15:43:36Z - Selected dataset part: \"default\"\n",
      "INFO - 2025-10-17T15:43:38Z - Starting download. Please wait...\n"
     ]
    },
    {
     "data": {
      "application/vnd.jupyter.widget-view+json": {
       "model_id": "6c075b42306b497090e7400c39bca97d",
       "version_major": 2,
       "version_minor": 0
      },
      "text/plain": [
       "  0%|          | 0/70 [00:00<?, ?it/s]"
      ]
     },
     "metadata": {},
     "output_type": "display_data"
    },
    {
     "name": "stderr",
     "output_type": "stream",
     "text": [
      "INFO - 2025-10-17T15:45:53Z - Successfully downloaded to glory_data_interim_daily/glory_2022-05-07.nc\n",
      "INFO - 2025-10-17T15:45:55Z - Selected dataset version: \"202311\"\n",
      "INFO - 2025-10-17T15:45:55Z - Selected dataset part: \"default\"\n",
      "INFO - 2025-10-17T15:45:58Z - Starting download. Please wait...\n"
     ]
    },
    {
     "data": {
      "application/vnd.jupyter.widget-view+json": {
       "model_id": "9e7dc367a0634a9995f975312f5eabfa",
       "version_major": 2,
       "version_minor": 0
      },
      "text/plain": [
       "  0%|          | 0/70 [00:00<?, ?it/s]"
      ]
     },
     "metadata": {},
     "output_type": "display_data"
    },
    {
     "name": "stderr",
     "output_type": "stream",
     "text": [
      "INFO - 2025-10-17T15:48:30Z - Successfully downloaded to glory_data_interim_daily/glory_2022-05-08.nc\n",
      "INFO - 2025-10-17T15:48:32Z - Selected dataset version: \"202311\"\n",
      "INFO - 2025-10-17T15:48:32Z - Selected dataset part: \"default\"\n",
      "INFO - 2025-10-17T15:48:35Z - Starting download. Please wait...\n"
     ]
    },
    {
     "data": {
      "application/vnd.jupyter.widget-view+json": {
       "model_id": "d5b0eecbb2a34ba4ad2a11f6c8fd3d33",
       "version_major": 2,
       "version_minor": 0
      },
      "text/plain": [
       "  0%|          | 0/70 [00:00<?, ?it/s]"
      ]
     },
     "metadata": {},
     "output_type": "display_data"
    },
    {
     "name": "stderr",
     "output_type": "stream",
     "text": [
      "INFO - 2025-10-17T15:50:57Z - Successfully downloaded to glory_data_interim_daily/glory_2022-05-09.nc\n",
      "INFO - 2025-10-17T15:51:00Z - Selected dataset version: \"202311\"\n",
      "INFO - 2025-10-17T15:51:00Z - Selected dataset part: \"default\"\n",
      "INFO - 2025-10-17T15:51:03Z - Starting download. Please wait...\n"
     ]
    },
    {
     "data": {
      "application/vnd.jupyter.widget-view+json": {
       "model_id": "5e665f734df74c35a196a41fb9b8d62b",
       "version_major": 2,
       "version_minor": 0
      },
      "text/plain": [
       "  0%|          | 0/70 [00:00<?, ?it/s]"
      ]
     },
     "metadata": {},
     "output_type": "display_data"
    },
    {
     "name": "stderr",
     "output_type": "stream",
     "text": [
      "INFO - 2025-10-17T15:53:09Z - Successfully downloaded to glory_data_interim_daily/glory_2022-05-10.nc\n",
      "INFO - 2025-10-17T15:53:11Z - Selected dataset version: \"202311\"\n",
      "INFO - 2025-10-17T15:53:11Z - Selected dataset part: \"default\"\n",
      "INFO - 2025-10-17T15:53:14Z - Starting download. Please wait...\n"
     ]
    },
    {
     "data": {
      "application/vnd.jupyter.widget-view+json": {
       "model_id": "a561bb3ca6294151b2187150a8c4dccb",
       "version_major": 2,
       "version_minor": 0
      },
      "text/plain": [
       "  0%|          | 0/70 [00:00<?, ?it/s]"
      ]
     },
     "metadata": {},
     "output_type": "display_data"
    },
    {
     "name": "stderr",
     "output_type": "stream",
     "text": [
      "INFO - 2025-10-17T15:55:38Z - Successfully downloaded to glory_data_interim_daily/glory_2022-05-11.nc\n",
      "INFO - 2025-10-17T15:55:40Z - Selected dataset version: \"202311\"\n",
      "INFO - 2025-10-17T15:55:40Z - Selected dataset part: \"default\"\n",
      "INFO - 2025-10-17T15:55:43Z - Starting download. Please wait...\n"
     ]
    },
    {
     "data": {
      "application/vnd.jupyter.widget-view+json": {
       "model_id": "cd9219f1484a448ebeffe2b4453b7455",
       "version_major": 2,
       "version_minor": 0
      },
      "text/plain": [
       "  0%|          | 0/70 [00:00<?, ?it/s]"
      ]
     },
     "metadata": {},
     "output_type": "display_data"
    },
    {
     "name": "stderr",
     "output_type": "stream",
     "text": [
      "INFO - 2025-10-17T15:58:07Z - Successfully downloaded to glory_data_interim_daily/glory_2022-05-12.nc\n",
      "INFO - 2025-10-17T15:58:10Z - Selected dataset version: \"202311\"\n",
      "INFO - 2025-10-17T15:58:10Z - Selected dataset part: \"default\"\n",
      "INFO - 2025-10-17T15:58:13Z - Starting download. Please wait...\n"
     ]
    },
    {
     "data": {
      "application/vnd.jupyter.widget-view+json": {
       "model_id": "c271f0b979f5450986086eb5f8b2379d",
       "version_major": 2,
       "version_minor": 0
      },
      "text/plain": [
       "  0%|          | 0/70 [00:00<?, ?it/s]"
      ]
     },
     "metadata": {},
     "output_type": "display_data"
    },
    {
     "name": "stderr",
     "output_type": "stream",
     "text": [
      "INFO - 2025-10-17T16:00:37Z - Successfully downloaded to glory_data_interim_daily/glory_2022-05-13.nc\n",
      "INFO - 2025-10-17T16:00:40Z - Selected dataset version: \"202311\"\n",
      "INFO - 2025-10-17T16:00:40Z - Selected dataset part: \"default\"\n",
      "INFO - 2025-10-17T16:00:42Z - Starting download. Please wait...\n"
     ]
    },
    {
     "data": {
      "application/vnd.jupyter.widget-view+json": {
       "model_id": "6d6e9c1b46294696ac73c02c7f2c7423",
       "version_major": 2,
       "version_minor": 0
      },
      "text/plain": [
       "  0%|          | 0/70 [00:00<?, ?it/s]"
      ]
     },
     "metadata": {},
     "output_type": "display_data"
    },
    {
     "name": "stderr",
     "output_type": "stream",
     "text": [
      "INFO - 2025-10-17T16:02:57Z - Successfully downloaded to glory_data_interim_daily/glory_2022-05-14.nc\n",
      "INFO - 2025-10-17T16:03:00Z - Selected dataset version: \"202311\"\n",
      "INFO - 2025-10-17T16:03:00Z - Selected dataset part: \"default\"\n",
      "INFO - 2025-10-17T16:03:03Z - Starting download. Please wait...\n"
     ]
    },
    {
     "data": {
      "application/vnd.jupyter.widget-view+json": {
       "model_id": "a942ba20165045b0afd08103aaf72652",
       "version_major": 2,
       "version_minor": 0
      },
      "text/plain": [
       "  0%|          | 0/70 [00:00<?, ?it/s]"
      ]
     },
     "metadata": {},
     "output_type": "display_data"
    },
    {
     "name": "stderr",
     "output_type": "stream",
     "text": [
      "INFO - 2025-10-17T16:05:29Z - Successfully downloaded to glory_data_interim_daily/glory_2022-05-15.nc\n",
      "INFO - 2025-10-17T16:05:31Z - Selected dataset version: \"202311\"\n",
      "INFO - 2025-10-17T16:05:31Z - Selected dataset part: \"default\"\n",
      "INFO - 2025-10-17T16:05:34Z - Starting download. Please wait...\n"
     ]
    },
    {
     "data": {
      "application/vnd.jupyter.widget-view+json": {
       "model_id": "bb2fffd9529d4ee08d06d6bce19d1b0b",
       "version_major": 2,
       "version_minor": 0
      },
      "text/plain": [
       "  0%|          | 0/70 [00:00<?, ?it/s]"
      ]
     },
     "metadata": {},
     "output_type": "display_data"
    },
    {
     "name": "stderr",
     "output_type": "stream",
     "text": [
      "INFO - 2025-10-17T16:07:50Z - Successfully downloaded to glory_data_interim_daily/glory_2022-05-16.nc\n",
      "INFO - 2025-10-17T16:07:52Z - Selected dataset version: \"202311\"\n",
      "INFO - 2025-10-17T16:07:52Z - Selected dataset part: \"default\"\n",
      "INFO - 2025-10-17T16:07:55Z - Starting download. Please wait...\n"
     ]
    },
    {
     "data": {
      "application/vnd.jupyter.widget-view+json": {
       "model_id": "3ff8cfe650714c8ea5ff8956b4581490",
       "version_major": 2,
       "version_minor": 0
      },
      "text/plain": [
       "  0%|          | 0/70 [00:00<?, ?it/s]"
      ]
     },
     "metadata": {},
     "output_type": "display_data"
    },
    {
     "name": "stderr",
     "output_type": "stream",
     "text": [
      "INFO - 2025-10-17T16:10:13Z - Successfully downloaded to glory_data_interim_daily/glory_2022-05-17.nc\n",
      "INFO - 2025-10-17T16:10:16Z - Selected dataset version: \"202311\"\n",
      "INFO - 2025-10-17T16:10:16Z - Selected dataset part: \"default\"\n",
      "INFO - 2025-10-17T16:10:19Z - Starting download. Please wait...\n"
     ]
    },
    {
     "data": {
      "application/vnd.jupyter.widget-view+json": {
       "model_id": "a2fb7afeadfe4a5a8c9c77b295051434",
       "version_major": 2,
       "version_minor": 0
      },
      "text/plain": [
       "  0%|          | 0/70 [00:00<?, ?it/s]"
      ]
     },
     "metadata": {},
     "output_type": "display_data"
    },
    {
     "name": "stderr",
     "output_type": "stream",
     "text": [
      "INFO - 2025-10-17T16:12:37Z - Successfully downloaded to glory_data_interim_daily/glory_2022-05-18.nc\n",
      "INFO - 2025-10-17T16:12:39Z - Selected dataset version: \"202311\"\n",
      "INFO - 2025-10-17T16:12:39Z - Selected dataset part: \"default\"\n",
      "INFO - 2025-10-17T16:12:42Z - Starting download. Please wait...\n"
     ]
    },
    {
     "data": {
      "application/vnd.jupyter.widget-view+json": {
       "model_id": "d86bb121057748e990d4d77fe26fc5e0",
       "version_major": 2,
       "version_minor": 0
      },
      "text/plain": [
       "  0%|          | 0/70 [00:00<?, ?it/s]"
      ]
     },
     "metadata": {},
     "output_type": "display_data"
    },
    {
     "name": "stderr",
     "output_type": "stream",
     "text": [
      "INFO - 2025-10-17T16:15:07Z - Successfully downloaded to glory_data_interim_daily/glory_2022-05-19.nc\n",
      "INFO - 2025-10-17T16:15:10Z - Selected dataset version: \"202311\"\n",
      "INFO - 2025-10-17T16:15:10Z - Selected dataset part: \"default\"\n",
      "INFO - 2025-10-17T16:15:12Z - Starting download. Please wait...\n"
     ]
    },
    {
     "data": {
      "application/vnd.jupyter.widget-view+json": {
       "model_id": "663db81bd6024727bd1438ad69571595",
       "version_major": 2,
       "version_minor": 0
      },
      "text/plain": [
       "  0%|          | 0/70 [00:00<?, ?it/s]"
      ]
     },
     "metadata": {},
     "output_type": "display_data"
    },
    {
     "name": "stderr",
     "output_type": "stream",
     "text": [
      "INFO - 2025-10-17T16:17:30Z - Successfully downloaded to glory_data_interim_daily/glory_2022-05-20.nc\n",
      "INFO - 2025-10-17T16:17:32Z - Selected dataset version: \"202311\"\n",
      "INFO - 2025-10-17T16:17:32Z - Selected dataset part: \"default\"\n",
      "INFO - 2025-10-17T16:17:35Z - Starting download. Please wait...\n"
     ]
    },
    {
     "data": {
      "application/vnd.jupyter.widget-view+json": {
       "model_id": "a8f5ac40e50b46888975650d741b58eb",
       "version_major": 2,
       "version_minor": 0
      },
      "text/plain": [
       "  0%|          | 0/70 [00:00<?, ?it/s]"
      ]
     },
     "metadata": {},
     "output_type": "display_data"
    },
    {
     "name": "stderr",
     "output_type": "stream",
     "text": [
      "INFO - 2025-10-17T16:21:14Z - Successfully downloaded to glory_data_interim_daily/glory_2022-05-21.nc\n",
      "INFO - 2025-10-17T16:21:16Z - Selected dataset version: \"202311\"\n",
      "INFO - 2025-10-17T16:21:16Z - Selected dataset part: \"default\"\n",
      "INFO - 2025-10-17T16:21:19Z - Starting download. Please wait...\n"
     ]
    },
    {
     "data": {
      "application/vnd.jupyter.widget-view+json": {
       "model_id": "c766276e586a428582bc0cb4f4863c26",
       "version_major": 2,
       "version_minor": 0
      },
      "text/plain": [
       "  0%|          | 0/70 [00:00<?, ?it/s]"
      ]
     },
     "metadata": {},
     "output_type": "display_data"
    },
    {
     "name": "stderr",
     "output_type": "stream",
     "text": [
      "INFO - 2025-10-17T16:24:21Z - Successfully downloaded to glory_data_interim_daily/glory_2022-05-22.nc\n",
      "INFO - 2025-10-17T16:24:23Z - Selected dataset version: \"202311\"\n",
      "INFO - 2025-10-17T16:24:23Z - Selected dataset part: \"default\"\n",
      "INFO - 2025-10-17T16:24:26Z - Starting download. Please wait...\n"
     ]
    },
    {
     "data": {
      "application/vnd.jupyter.widget-view+json": {
       "model_id": "69ef816f0021453191bdb9987b4c974a",
       "version_major": 2,
       "version_minor": 0
      },
      "text/plain": [
       "  0%|          | 0/70 [00:00<?, ?it/s]"
      ]
     },
     "metadata": {},
     "output_type": "display_data"
    },
    {
     "name": "stderr",
     "output_type": "stream",
     "text": [
      "INFO - 2025-10-17T16:27:18Z - Successfully downloaded to glory_data_interim_daily/glory_2022-05-23.nc\n",
      "INFO - 2025-10-17T16:27:20Z - Selected dataset version: \"202311\"\n",
      "INFO - 2025-10-17T16:27:20Z - Selected dataset part: \"default\"\n",
      "INFO - 2025-10-17T16:27:23Z - Starting download. Please wait...\n"
     ]
    },
    {
     "data": {
      "application/vnd.jupyter.widget-view+json": {
       "model_id": "e6c92f3f06bb40eabff9fc2f5d57346b",
       "version_major": 2,
       "version_minor": 0
      },
      "text/plain": [
       "  0%|          | 0/70 [00:00<?, ?it/s]"
      ]
     },
     "metadata": {},
     "output_type": "display_data"
    },
    {
     "name": "stderr",
     "output_type": "stream",
     "text": [
      "INFO - 2025-10-17T16:30:14Z - Successfully downloaded to glory_data_interim_daily/glory_2022-05-24.nc\n",
      "INFO - 2025-10-17T16:30:17Z - Selected dataset version: \"202311\"\n",
      "INFO - 2025-10-17T16:30:17Z - Selected dataset part: \"default\"\n",
      "INFO - 2025-10-17T16:30:20Z - Starting download. Please wait...\n"
     ]
    },
    {
     "data": {
      "application/vnd.jupyter.widget-view+json": {
       "model_id": "a4beb899164f46af9f4b68973b99bb7a",
       "version_major": 2,
       "version_minor": 0
      },
      "text/plain": [
       "  0%|          | 0/70 [00:00<?, ?it/s]"
      ]
     },
     "metadata": {},
     "output_type": "display_data"
    },
    {
     "name": "stderr",
     "output_type": "stream",
     "text": [
      "INFO - 2025-10-17T16:33:41Z - Successfully downloaded to glory_data_interim_daily/glory_2022-05-25.nc\n",
      "INFO - 2025-10-17T16:33:44Z - Selected dataset version: \"202311\"\n",
      "INFO - 2025-10-17T16:33:44Z - Selected dataset part: \"default\"\n",
      "INFO - 2025-10-17T16:33:47Z - Starting download. Please wait...\n"
     ]
    },
    {
     "data": {
      "application/vnd.jupyter.widget-view+json": {
       "model_id": "dbb6183717c54c5db83bef0199d6712c",
       "version_major": 2,
       "version_minor": 0
      },
      "text/plain": [
       "  0%|          | 0/70 [00:00<?, ?it/s]"
      ]
     },
     "metadata": {},
     "output_type": "display_data"
    },
    {
     "name": "stderr",
     "output_type": "stream",
     "text": [
      "INFO - 2025-10-17T16:36:47Z - Successfully downloaded to glory_data_interim_daily/glory_2022-05-26.nc\n",
      "INFO - 2025-10-17T16:36:50Z - Selected dataset version: \"202311\"\n",
      "INFO - 2025-10-17T16:36:50Z - Selected dataset part: \"default\"\n",
      "INFO - 2025-10-17T16:36:53Z - Starting download. Please wait...\n"
     ]
    },
    {
     "data": {
      "application/vnd.jupyter.widget-view+json": {
       "model_id": "d8fd736b361446c482cb935173eb380e",
       "version_major": 2,
       "version_minor": 0
      },
      "text/plain": [
       "  0%|          | 0/70 [00:00<?, ?it/s]"
      ]
     },
     "metadata": {},
     "output_type": "display_data"
    },
    {
     "name": "stderr",
     "output_type": "stream",
     "text": [
      "INFO - 2025-10-17T16:39:44Z - Successfully downloaded to glory_data_interim_daily/glory_2022-05-27.nc\n",
      "INFO - 2025-10-17T16:39:48Z - Selected dataset version: \"202311\"\n",
      "INFO - 2025-10-17T16:39:48Z - Selected dataset part: \"default\"\n",
      "INFO - 2025-10-17T16:39:50Z - Starting download. Please wait...\n"
     ]
    },
    {
     "data": {
      "application/vnd.jupyter.widget-view+json": {
       "model_id": "04acb536615f436aaac8a545b0f39d0d",
       "version_major": 2,
       "version_minor": 0
      },
      "text/plain": [
       "  0%|          | 0/70 [00:00<?, ?it/s]"
      ]
     },
     "metadata": {},
     "output_type": "display_data"
    },
    {
     "name": "stderr",
     "output_type": "stream",
     "text": [
      "INFO - 2025-10-17T16:42:28Z - Successfully downloaded to glory_data_interim_daily/glory_2022-05-28.nc\n",
      "INFO - 2025-10-17T16:42:31Z - Selected dataset version: \"202311\"\n",
      "INFO - 2025-10-17T16:42:31Z - Selected dataset part: \"default\"\n",
      "INFO - 2025-10-17T16:42:34Z - Starting download. Please wait...\n"
     ]
    },
    {
     "data": {
      "application/vnd.jupyter.widget-view+json": {
       "model_id": "3d74e5709ad548e1a2e6e45eec2a2fad",
       "version_major": 2,
       "version_minor": 0
      },
      "text/plain": [
       "  0%|          | 0/70 [00:00<?, ?it/s]"
      ]
     },
     "metadata": {},
     "output_type": "display_data"
    },
    {
     "name": "stderr",
     "output_type": "stream",
     "text": [
      "INFO - 2025-10-17T16:44:56Z - Successfully downloaded to glory_data_interim_daily/glory_2022-05-29.nc\n",
      "INFO - 2025-10-17T16:45:00Z - Selected dataset version: \"202311\"\n",
      "INFO - 2025-10-17T16:45:00Z - Selected dataset part: \"default\"\n",
      "INFO - 2025-10-17T16:45:03Z - Starting download. Please wait...\n"
     ]
    },
    {
     "data": {
      "application/vnd.jupyter.widget-view+json": {
       "model_id": "77c783c1711f4901adf653623c321bd2",
       "version_major": 2,
       "version_minor": 0
      },
      "text/plain": [
       "  0%|          | 0/70 [00:00<?, ?it/s]"
      ]
     },
     "metadata": {},
     "output_type": "display_data"
    },
    {
     "name": "stderr",
     "output_type": "stream",
     "text": [
      "INFO - 2025-10-17T16:47:32Z - Successfully downloaded to glory_data_interim_daily/glory_2022-05-30.nc\n",
      "INFO - 2025-10-17T16:47:35Z - Selected dataset version: \"202311\"\n",
      "INFO - 2025-10-17T16:47:35Z - Selected dataset part: \"default\"\n",
      "INFO - 2025-10-17T16:47:38Z - Starting download. Please wait...\n"
     ]
    },
    {
     "data": {
      "application/vnd.jupyter.widget-view+json": {
       "model_id": "b1a28670a8b0474bbf163befcaba87c4",
       "version_major": 2,
       "version_minor": 0
      },
      "text/plain": [
       "  0%|          | 0/70 [00:00<?, ?it/s]"
      ]
     },
     "metadata": {},
     "output_type": "display_data"
    },
    {
     "name": "stderr",
     "output_type": "stream",
     "text": [
      "INFO - 2025-10-17T16:50:31Z - Successfully downloaded to glory_data_interim_daily/glory_2022-05-31.nc\n",
      "INFO - 2025-10-17T16:50:33Z - Selected dataset version: \"202311\"\n",
      "INFO - 2025-10-17T16:50:33Z - Selected dataset part: \"default\"\n",
      "INFO - 2025-10-17T16:50:36Z - Starting download. Please wait...\n"
     ]
    },
    {
     "data": {
      "application/vnd.jupyter.widget-view+json": {
       "model_id": "496cff97ae8746dc8eacf73926a12e35",
       "version_major": 2,
       "version_minor": 0
      },
      "text/plain": [
       "  0%|          | 0/70 [00:00<?, ?it/s]"
      ]
     },
     "metadata": {},
     "output_type": "display_data"
    },
    {
     "name": "stderr",
     "output_type": "stream",
     "text": [
      "INFO - 2025-10-17T16:53:24Z - Successfully downloaded to glory_data_interim_daily/glory_2022-06-01.nc\n",
      "INFO - 2025-10-17T16:53:27Z - Selected dataset version: \"202311\"\n",
      "INFO - 2025-10-17T16:53:27Z - Selected dataset part: \"default\"\n",
      "INFO - 2025-10-17T16:53:30Z - Starting download. Please wait...\n"
     ]
    },
    {
     "data": {
      "application/vnd.jupyter.widget-view+json": {
       "model_id": "2078e2ba753549a2831e0b9cfaa259c9",
       "version_major": 2,
       "version_minor": 0
      },
      "text/plain": [
       "  0%|          | 0/70 [00:00<?, ?it/s]"
      ]
     },
     "metadata": {},
     "output_type": "display_data"
    },
    {
     "name": "stderr",
     "output_type": "stream",
     "text": [
      "INFO - 2025-10-17T16:56:00Z - Successfully downloaded to glory_data_interim_daily/glory_2022-06-02.nc\n",
      "INFO - 2025-10-17T16:56:02Z - Selected dataset version: \"202311\"\n",
      "INFO - 2025-10-17T16:56:02Z - Selected dataset part: \"default\"\n",
      "INFO - 2025-10-17T16:56:05Z - Starting download. Please wait...\n"
     ]
    },
    {
     "data": {
      "application/vnd.jupyter.widget-view+json": {
       "model_id": "89fffbf09220494e8128af777dc669de",
       "version_major": 2,
       "version_minor": 0
      },
      "text/plain": [
       "  0%|          | 0/70 [00:00<?, ?it/s]"
      ]
     },
     "metadata": {},
     "output_type": "display_data"
    },
    {
     "name": "stderr",
     "output_type": "stream",
     "text": [
      "INFO - 2025-10-17T16:58:56Z - Successfully downloaded to glory_data_interim_daily/glory_2022-06-03.nc\n",
      "INFO - 2025-10-17T16:58:59Z - Selected dataset version: \"202311\"\n",
      "INFO - 2025-10-17T16:58:59Z - Selected dataset part: \"default\"\n",
      "INFO - 2025-10-17T16:59:01Z - Starting download. Please wait...\n"
     ]
    },
    {
     "data": {
      "application/vnd.jupyter.widget-view+json": {
       "model_id": "e8e8d1a66f30493c8dd3e57687c8f6ec",
       "version_major": 2,
       "version_minor": 0
      },
      "text/plain": [
       "  0%|          | 0/70 [00:00<?, ?it/s]"
      ]
     },
     "metadata": {},
     "output_type": "display_data"
    },
    {
     "name": "stderr",
     "output_type": "stream",
     "text": [
      "INFO - 2025-10-17T17:01:21Z - Successfully downloaded to glory_data_interim_daily/glory_2022-06-04.nc\n",
      "INFO - 2025-10-17T17:01:24Z - Selected dataset version: \"202311\"\n",
      "INFO - 2025-10-17T17:01:24Z - Selected dataset part: \"default\"\n",
      "INFO - 2025-10-17T17:01:27Z - Starting download. Please wait...\n"
     ]
    },
    {
     "data": {
      "application/vnd.jupyter.widget-view+json": {
       "model_id": "437f0384f67843388dc366764cd19552",
       "version_major": 2,
       "version_minor": 0
      },
      "text/plain": [
       "  0%|          | 0/70 [00:00<?, ?it/s]"
      ]
     },
     "metadata": {},
     "output_type": "display_data"
    },
    {
     "name": "stderr",
     "output_type": "stream",
     "text": [
      "INFO - 2025-10-17T17:03:42Z - Successfully downloaded to glory_data_interim_daily/glory_2022-06-05.nc\n",
      "INFO - 2025-10-17T17:03:45Z - Selected dataset version: \"202311\"\n",
      "INFO - 2025-10-17T17:03:45Z - Selected dataset part: \"default\"\n",
      "INFO - 2025-10-17T17:03:48Z - Starting download. Please wait...\n"
     ]
    },
    {
     "data": {
      "application/vnd.jupyter.widget-view+json": {
       "model_id": "28368ff340564153a399b0ac56fc6bf6",
       "version_major": 2,
       "version_minor": 0
      },
      "text/plain": [
       "  0%|          | 0/70 [00:00<?, ?it/s]"
      ]
     },
     "metadata": {},
     "output_type": "display_data"
    },
    {
     "name": "stderr",
     "output_type": "stream",
     "text": [
      "INFO - 2025-10-17T17:06:15Z - Successfully downloaded to glory_data_interim_daily/glory_2022-06-06.nc\n",
      "INFO - 2025-10-17T17:06:18Z - Selected dataset version: \"202311\"\n",
      "INFO - 2025-10-17T17:06:18Z - Selected dataset part: \"default\"\n",
      "INFO - 2025-10-17T17:06:21Z - Starting download. Please wait...\n"
     ]
    },
    {
     "data": {
      "application/vnd.jupyter.widget-view+json": {
       "model_id": "66b88c7e461c4ae997d46ac1069755c7",
       "version_major": 2,
       "version_minor": 0
      },
      "text/plain": [
       "  0%|          | 0/70 [00:00<?, ?it/s]"
      ]
     },
     "metadata": {},
     "output_type": "display_data"
    },
    {
     "name": "stderr",
     "output_type": "stream",
     "text": [
      "INFO - 2025-10-17T17:08:50Z - Successfully downloaded to glory_data_interim_daily/glory_2022-06-07.nc\n",
      "INFO - 2025-10-17T17:08:53Z - Selected dataset version: \"202311\"\n",
      "INFO - 2025-10-17T17:08:53Z - Selected dataset part: \"default\"\n",
      "INFO - 2025-10-17T17:08:56Z - Starting download. Please wait...\n"
     ]
    },
    {
     "data": {
      "application/vnd.jupyter.widget-view+json": {
       "model_id": "f904ef1d5bf046afb0d7ef7253e79183",
       "version_major": 2,
       "version_minor": 0
      },
      "text/plain": [
       "  0%|          | 0/70 [00:00<?, ?it/s]"
      ]
     },
     "metadata": {},
     "output_type": "display_data"
    },
    {
     "name": "stderr",
     "output_type": "stream",
     "text": [
      "INFO - 2025-10-17T17:11:16Z - Successfully downloaded to glory_data_interim_daily/glory_2022-06-08.nc\n",
      "INFO - 2025-10-17T17:11:19Z - Selected dataset version: \"202311\"\n",
      "INFO - 2025-10-17T17:11:19Z - Selected dataset part: \"default\"\n",
      "INFO - 2025-10-17T17:11:22Z - Starting download. Please wait...\n"
     ]
    },
    {
     "data": {
      "application/vnd.jupyter.widget-view+json": {
       "model_id": "7eb8a3cbd35d4f04996dbd53b6757905",
       "version_major": 2,
       "version_minor": 0
      },
      "text/plain": [
       "  0%|          | 0/70 [00:00<?, ?it/s]"
      ]
     },
     "metadata": {},
     "output_type": "display_data"
    },
    {
     "name": "stderr",
     "output_type": "stream",
     "text": [
      "INFO - 2025-10-17T17:13:52Z - Successfully downloaded to glory_data_interim_daily/glory_2022-06-09.nc\n",
      "INFO - 2025-10-17T17:13:54Z - Selected dataset version: \"202311\"\n",
      "INFO - 2025-10-17T17:13:54Z - Selected dataset part: \"default\"\n",
      "INFO - 2025-10-17T17:13:57Z - Starting download. Please wait...\n"
     ]
    },
    {
     "data": {
      "application/vnd.jupyter.widget-view+json": {
       "model_id": "14815e38272442ed97f6ba5d1347bd74",
       "version_major": 2,
       "version_minor": 0
      },
      "text/plain": [
       "  0%|          | 0/70 [00:00<?, ?it/s]"
      ]
     },
     "metadata": {},
     "output_type": "display_data"
    },
    {
     "name": "stderr",
     "output_type": "stream",
     "text": [
      "INFO - 2025-10-17T17:16:56Z - Successfully downloaded to glory_data_interim_daily/glory_2022-06-10.nc\n",
      "INFO - 2025-10-17T17:16:59Z - Selected dataset version: \"202311\"\n",
      "INFO - 2025-10-17T17:16:59Z - Selected dataset part: \"default\"\n",
      "INFO - 2025-10-17T17:17:02Z - Starting download. Please wait...\n"
     ]
    },
    {
     "data": {
      "application/vnd.jupyter.widget-view+json": {
       "model_id": "d2f896e3a4b14610b05563f1e7dd13d0",
       "version_major": 2,
       "version_minor": 0
      },
      "text/plain": [
       "  0%|          | 0/70 [00:00<?, ?it/s]"
      ]
     },
     "metadata": {},
     "output_type": "display_data"
    },
    {
     "name": "stderr",
     "output_type": "stream",
     "text": [
      "INFO - 2025-10-17T17:20:12Z - Successfully downloaded to glory_data_interim_daily/glory_2022-06-11.nc\n",
      "INFO - 2025-10-17T17:20:15Z - Selected dataset version: \"202311\"\n",
      "INFO - 2025-10-17T17:20:15Z - Selected dataset part: \"default\"\n",
      "INFO - 2025-10-17T17:20:18Z - Starting download. Please wait...\n"
     ]
    },
    {
     "data": {
      "application/vnd.jupyter.widget-view+json": {
       "model_id": "0baf6fa577c44c3b903fe6ab1f8dbda2",
       "version_major": 2,
       "version_minor": 0
      },
      "text/plain": [
       "  0%|          | 0/70 [00:00<?, ?it/s]"
      ]
     },
     "metadata": {},
     "output_type": "display_data"
    },
    {
     "name": "stderr",
     "output_type": "stream",
     "text": [
      "INFO - 2025-10-17T17:22:45Z - Successfully downloaded to glory_data_interim_daily/glory_2022-06-12.nc\n",
      "INFO - 2025-10-17T17:22:48Z - Selected dataset version: \"202311\"\n",
      "INFO - 2025-10-17T17:22:48Z - Selected dataset part: \"default\"\n",
      "INFO - 2025-10-17T17:22:51Z - Starting download. Please wait...\n"
     ]
    },
    {
     "data": {
      "application/vnd.jupyter.widget-view+json": {
       "model_id": "002e8717eb87417ea4039c2259610997",
       "version_major": 2,
       "version_minor": 0
      },
      "text/plain": [
       "  0%|          | 0/70 [00:00<?, ?it/s]"
      ]
     },
     "metadata": {},
     "output_type": "display_data"
    },
    {
     "name": "stderr",
     "output_type": "stream",
     "text": [
      "INFO - 2025-10-17T17:25:13Z - Successfully downloaded to glory_data_interim_daily/glory_2022-06-13.nc\n",
      "INFO - 2025-10-17T17:25:16Z - Selected dataset version: \"202311\"\n",
      "INFO - 2025-10-17T17:25:16Z - Selected dataset part: \"default\"\n",
      "INFO - 2025-10-17T17:25:19Z - Starting download. Please wait...\n"
     ]
    },
    {
     "data": {
      "application/vnd.jupyter.widget-view+json": {
       "model_id": "9066dd78d29845e49b0e4ce39b15b9d5",
       "version_major": 2,
       "version_minor": 0
      },
      "text/plain": [
       "  0%|          | 0/70 [00:00<?, ?it/s]"
      ]
     },
     "metadata": {},
     "output_type": "display_data"
    },
    {
     "name": "stderr",
     "output_type": "stream",
     "text": [
      "INFO - 2025-10-17T17:28:00Z - Successfully downloaded to glory_data_interim_daily/glory_2022-06-14.nc\n",
      "INFO - 2025-10-17T17:28:03Z - Selected dataset version: \"202311\"\n",
      "INFO - 2025-10-17T17:28:03Z - Selected dataset part: \"default\"\n",
      "INFO - 2025-10-17T17:28:06Z - Starting download. Please wait...\n"
     ]
    },
    {
     "data": {
      "application/vnd.jupyter.widget-view+json": {
       "model_id": "4370a67a7f46460999c98d18c3408f15",
       "version_major": 2,
       "version_minor": 0
      },
      "text/plain": [
       "  0%|          | 0/70 [00:00<?, ?it/s]"
      ]
     },
     "metadata": {},
     "output_type": "display_data"
    },
    {
     "name": "stderr",
     "output_type": "stream",
     "text": [
      "INFO - 2025-10-17T17:30:39Z - Successfully downloaded to glory_data_interim_daily/glory_2022-06-15.nc\n",
      "INFO - 2025-10-17T17:30:42Z - Selected dataset version: \"202311\"\n",
      "INFO - 2025-10-17T17:30:42Z - Selected dataset part: \"default\"\n",
      "INFO - 2025-10-17T17:30:45Z - Starting download. Please wait...\n"
     ]
    },
    {
     "data": {
      "application/vnd.jupyter.widget-view+json": {
       "model_id": "a04e5de9498e425998dd5bf0fa8b8cf8",
       "version_major": 2,
       "version_minor": 0
      },
      "text/plain": [
       "  0%|          | 0/70 [00:00<?, ?it/s]"
      ]
     },
     "metadata": {},
     "output_type": "display_data"
    },
    {
     "name": "stderr",
     "output_type": "stream",
     "text": [
      "INFO - 2025-10-17T17:33:31Z - Successfully downloaded to glory_data_interim_daily/glory_2022-06-16.nc\n",
      "INFO - 2025-10-17T17:33:34Z - Selected dataset version: \"202311\"\n",
      "INFO - 2025-10-17T17:33:34Z - Selected dataset part: \"default\"\n",
      "INFO - 2025-10-17T17:33:37Z - Starting download. Please wait...\n"
     ]
    },
    {
     "data": {
      "application/vnd.jupyter.widget-view+json": {
       "model_id": "3385a14b3b69493391464c099e0d4b06",
       "version_major": 2,
       "version_minor": 0
      },
      "text/plain": [
       "  0%|          | 0/70 [00:00<?, ?it/s]"
      ]
     },
     "metadata": {},
     "output_type": "display_data"
    },
    {
     "name": "stderr",
     "output_type": "stream",
     "text": [
      "INFO - 2025-10-17T17:36:31Z - Successfully downloaded to glory_data_interim_daily/glory_2022-06-17.nc\n",
      "INFO - 2025-10-17T17:36:33Z - Selected dataset version: \"202311\"\n",
      "INFO - 2025-10-17T17:36:33Z - Selected dataset part: \"default\"\n",
      "INFO - 2025-10-17T17:36:36Z - Starting download. Please wait...\n"
     ]
    },
    {
     "data": {
      "application/vnd.jupyter.widget-view+json": {
       "model_id": "433e44712db74f44992d1e461f07ea0f",
       "version_major": 2,
       "version_minor": 0
      },
      "text/plain": [
       "  0%|          | 0/70 [00:00<?, ?it/s]"
      ]
     },
     "metadata": {},
     "output_type": "display_data"
    },
    {
     "name": "stderr",
     "output_type": "stream",
     "text": [
      "INFO - 2025-10-17T17:39:31Z - Successfully downloaded to glory_data_interim_daily/glory_2022-06-18.nc\n",
      "INFO - 2025-10-17T17:39:34Z - Selected dataset version: \"202311\"\n",
      "INFO - 2025-10-17T17:39:34Z - Selected dataset part: \"default\"\n",
      "INFO - 2025-10-17T17:39:37Z - Starting download. Please wait...\n"
     ]
    },
    {
     "data": {
      "application/vnd.jupyter.widget-view+json": {
       "model_id": "3e358b66726d428d9a36ef38ab6bbffe",
       "version_major": 2,
       "version_minor": 0
      },
      "text/plain": [
       "  0%|          | 0/70 [00:00<?, ?it/s]"
      ]
     },
     "metadata": {},
     "output_type": "display_data"
    },
    {
     "name": "stderr",
     "output_type": "stream",
     "text": [
      "INFO - 2025-10-17T17:42:51Z - Successfully downloaded to glory_data_interim_daily/glory_2022-06-19.nc\n",
      "INFO - 2025-10-17T17:42:54Z - Selected dataset version: \"202311\"\n",
      "INFO - 2025-10-17T17:42:54Z - Selected dataset part: \"default\"\n",
      "INFO - 2025-10-17T17:42:57Z - Starting download. Please wait...\n"
     ]
    },
    {
     "data": {
      "application/vnd.jupyter.widget-view+json": {
       "model_id": "f4fb9078d39541e38c3d2a662a889724",
       "version_major": 2,
       "version_minor": 0
      },
      "text/plain": [
       "  0%|          | 0/70 [00:00<?, ?it/s]"
      ]
     },
     "metadata": {},
     "output_type": "display_data"
    },
    {
     "name": "stderr",
     "output_type": "stream",
     "text": [
      "INFO - 2025-10-17T17:45:31Z - Successfully downloaded to glory_data_interim_daily/glory_2022-06-20.nc\n",
      "INFO - 2025-10-17T17:45:34Z - Selected dataset version: \"202311\"\n",
      "INFO - 2025-10-17T17:45:34Z - Selected dataset part: \"default\"\n",
      "INFO - 2025-10-17T17:45:37Z - Starting download. Please wait...\n"
     ]
    },
    {
     "data": {
      "application/vnd.jupyter.widget-view+json": {
       "model_id": "2ea703be6a6142d1be5e0c3e8ca5b6d8",
       "version_major": 2,
       "version_minor": 0
      },
      "text/plain": [
       "  0%|          | 0/70 [00:00<?, ?it/s]"
      ]
     },
     "metadata": {},
     "output_type": "display_data"
    },
    {
     "name": "stderr",
     "output_type": "stream",
     "text": [
      "INFO - 2025-10-17T17:48:24Z - Successfully downloaded to glory_data_interim_daily/glory_2022-06-21.nc\n",
      "INFO - 2025-10-17T17:48:27Z - Selected dataset version: \"202311\"\n",
      "INFO - 2025-10-17T17:48:27Z - Selected dataset part: \"default\"\n",
      "INFO - 2025-10-17T17:48:30Z - Starting download. Please wait...\n"
     ]
    },
    {
     "data": {
      "application/vnd.jupyter.widget-view+json": {
       "model_id": "e9bacdfd8e02458dac75676ece57f5b1",
       "version_major": 2,
       "version_minor": 0
      },
      "text/plain": [
       "  0%|          | 0/70 [00:00<?, ?it/s]"
      ]
     },
     "metadata": {},
     "output_type": "display_data"
    },
    {
     "name": "stderr",
     "output_type": "stream",
     "text": [
      "INFO - 2025-10-17T17:51:32Z - Successfully downloaded to glory_data_interim_daily/glory_2022-06-22.nc\n",
      "INFO - 2025-10-17T17:51:35Z - Selected dataset version: \"202311\"\n",
      "INFO - 2025-10-17T17:51:35Z - Selected dataset part: \"default\"\n",
      "INFO - 2025-10-17T17:51:38Z - Starting download. Please wait...\n"
     ]
    },
    {
     "data": {
      "application/vnd.jupyter.widget-view+json": {
       "model_id": "2b891527076f420a9f9c7db332433146",
       "version_major": 2,
       "version_minor": 0
      },
      "text/plain": [
       "  0%|          | 0/70 [00:00<?, ?it/s]"
      ]
     },
     "metadata": {},
     "output_type": "display_data"
    },
    {
     "name": "stderr",
     "output_type": "stream",
     "text": [
      "INFO - 2025-10-17T17:53:56Z - Successfully downloaded to glory_data_interim_daily/glory_2022-06-23.nc\n",
      "INFO - 2025-10-17T17:53:59Z - Selected dataset version: \"202311\"\n",
      "INFO - 2025-10-17T17:53:59Z - Selected dataset part: \"default\"\n",
      "INFO - 2025-10-17T17:54:02Z - Starting download. Please wait...\n"
     ]
    },
    {
     "data": {
      "application/vnd.jupyter.widget-view+json": {
       "model_id": "730f2d3ea76c44fe85e99e307d84b5dd",
       "version_major": 2,
       "version_minor": 0
      },
      "text/plain": [
       "  0%|          | 0/70 [00:00<?, ?it/s]"
      ]
     },
     "metadata": {},
     "output_type": "display_data"
    },
    {
     "name": "stderr",
     "output_type": "stream",
     "text": [
      "INFO - 2025-10-17T17:56:38Z - Successfully downloaded to glory_data_interim_daily/glory_2022-06-24.nc\n",
      "INFO - 2025-10-17T17:56:41Z - Selected dataset version: \"202311\"\n",
      "INFO - 2025-10-17T17:56:41Z - Selected dataset part: \"default\"\n",
      "INFO - 2025-10-17T17:56:44Z - Starting download. Please wait...\n"
     ]
    },
    {
     "data": {
      "application/vnd.jupyter.widget-view+json": {
       "model_id": "a280c3ef5181437987a50b59927827a8",
       "version_major": 2,
       "version_minor": 0
      },
      "text/plain": [
       "  0%|          | 0/70 [00:00<?, ?it/s]"
      ]
     },
     "metadata": {},
     "output_type": "display_data"
    },
    {
     "name": "stderr",
     "output_type": "stream",
     "text": [
      "INFO - 2025-10-17T17:59:00Z - Successfully downloaded to glory_data_interim_daily/glory_2022-06-25.nc\n",
      "INFO - 2025-10-17T17:59:02Z - Selected dataset version: \"202311\"\n",
      "INFO - 2025-10-17T17:59:02Z - Selected dataset part: \"default\"\n",
      "INFO - 2025-10-17T17:59:05Z - Starting download. Please wait...\n"
     ]
    },
    {
     "data": {
      "application/vnd.jupyter.widget-view+json": {
       "model_id": "28090c3c8b604449ae1751a04e884a66",
       "version_major": 2,
       "version_minor": 0
      },
      "text/plain": [
       "  0%|          | 0/70 [00:00<?, ?it/s]"
      ]
     },
     "metadata": {},
     "output_type": "display_data"
    },
    {
     "name": "stderr",
     "output_type": "stream",
     "text": [
      "INFO - 2025-10-17T18:01:57Z - Successfully downloaded to glory_data_interim_daily/glory_2022-06-26.nc\n",
      "INFO - 2025-10-17T18:02:00Z - Selected dataset version: \"202311\"\n",
      "INFO - 2025-10-17T18:02:00Z - Selected dataset part: \"default\"\n",
      "INFO - 2025-10-17T18:02:03Z - Starting download. Please wait...\n"
     ]
    },
    {
     "data": {
      "application/vnd.jupyter.widget-view+json": {
       "model_id": "f438ac8eb6f04157b2f43c27b047d483",
       "version_major": 2,
       "version_minor": 0
      },
      "text/plain": [
       "  0%|          | 0/70 [00:00<?, ?it/s]"
      ]
     },
     "metadata": {},
     "output_type": "display_data"
    },
    {
     "name": "stderr",
     "output_type": "stream",
     "text": [
      "INFO - 2025-10-17T18:04:33Z - Successfully downloaded to glory_data_interim_daily/glory_2022-06-27.nc\n",
      "INFO - 2025-10-17T18:04:36Z - Selected dataset version: \"202311\"\n",
      "INFO - 2025-10-17T18:04:36Z - Selected dataset part: \"default\"\n",
      "INFO - 2025-10-17T18:04:39Z - Starting download. Please wait...\n"
     ]
    },
    {
     "data": {
      "application/vnd.jupyter.widget-view+json": {
       "model_id": "1b6ac24207f9496d997f031b49a681b9",
       "version_major": 2,
       "version_minor": 0
      },
      "text/plain": [
       "  0%|          | 0/70 [00:00<?, ?it/s]"
      ]
     },
     "metadata": {},
     "output_type": "display_data"
    },
    {
     "name": "stderr",
     "output_type": "stream",
     "text": [
      "INFO - 2025-10-17T18:07:14Z - Successfully downloaded to glory_data_interim_daily/glory_2022-06-28.nc\n",
      "INFO - 2025-10-17T18:07:17Z - Selected dataset version: \"202311\"\n",
      "INFO - 2025-10-17T18:07:17Z - Selected dataset part: \"default\"\n",
      "INFO - 2025-10-17T18:07:20Z - Starting download. Please wait...\n"
     ]
    },
    {
     "data": {
      "application/vnd.jupyter.widget-view+json": {
       "model_id": "ad2ffb98bf7845ff88ae7681f0b15f8c",
       "version_major": 2,
       "version_minor": 0
      },
      "text/plain": [
       "  0%|          | 0/70 [00:00<?, ?it/s]"
      ]
     },
     "metadata": {},
     "output_type": "display_data"
    },
    {
     "name": "stderr",
     "output_type": "stream",
     "text": [
      "INFO - 2025-10-17T18:10:14Z - Successfully downloaded to glory_data_interim_daily/glory_2022-06-29.nc\n",
      "INFO - 2025-10-17T18:10:17Z - Selected dataset version: \"202311\"\n",
      "INFO - 2025-10-17T18:10:17Z - Selected dataset part: \"default\"\n",
      "INFO - 2025-10-17T18:10:20Z - Starting download. Please wait...\n"
     ]
    },
    {
     "data": {
      "application/vnd.jupyter.widget-view+json": {
       "model_id": "6f708f6b5396424baece59db5c21eb2d",
       "version_major": 2,
       "version_minor": 0
      },
      "text/plain": [
       "  0%|          | 0/70 [00:00<?, ?it/s]"
      ]
     },
     "metadata": {},
     "output_type": "display_data"
    },
    {
     "name": "stderr",
     "output_type": "stream",
     "text": [
      "INFO - 2025-10-17T18:12:48Z - Successfully downloaded to glory_data_interim_daily/glory_2022-06-30.nc\n",
      "INFO - 2025-10-17T18:12:51Z - Selected dataset version: \"202311\"\n",
      "INFO - 2025-10-17T18:12:51Z - Selected dataset part: \"default\"\n",
      "INFO - 2025-10-17T18:12:54Z - Starting download. Please wait...\n"
     ]
    },
    {
     "data": {
      "application/vnd.jupyter.widget-view+json": {
       "model_id": "99043496d7c64686aa018471a1dbacf5",
       "version_major": 2,
       "version_minor": 0
      },
      "text/plain": [
       "  0%|          | 0/70 [00:00<?, ?it/s]"
      ]
     },
     "metadata": {},
     "output_type": "display_data"
    },
    {
     "name": "stderr",
     "output_type": "stream",
     "text": [
      "INFO - 2025-10-17T18:15:49Z - Successfully downloaded to glory_data_interim_daily/glory_2022-07-01.nc\n",
      "INFO - 2025-10-17T18:15:52Z - Selected dataset version: \"202311\"\n",
      "INFO - 2025-10-17T18:15:52Z - Selected dataset part: \"default\"\n",
      "INFO - 2025-10-17T18:15:55Z - Starting download. Please wait...\n"
     ]
    },
    {
     "data": {
      "application/vnd.jupyter.widget-view+json": {
       "model_id": "d921d52684c44ee4a1f5d2f6ef60d2ca",
       "version_major": 2,
       "version_minor": 0
      },
      "text/plain": [
       "  0%|          | 0/70 [00:00<?, ?it/s]"
      ]
     },
     "metadata": {},
     "output_type": "display_data"
    },
    {
     "name": "stderr",
     "output_type": "stream",
     "text": [
      "INFO - 2025-10-17T18:18:21Z - Successfully downloaded to glory_data_interim_daily/glory_2022-07-02.nc\n",
      "INFO - 2025-10-17T18:18:23Z - Selected dataset version: \"202311\"\n",
      "INFO - 2025-10-17T18:18:23Z - Selected dataset part: \"default\"\n",
      "INFO - 2025-10-17T18:18:27Z - Starting download. Please wait...\n"
     ]
    },
    {
     "data": {
      "application/vnd.jupyter.widget-view+json": {
       "model_id": "6de9b3e25c3145f394e9f7760f850c21",
       "version_major": 2,
       "version_minor": 0
      },
      "text/plain": [
       "  0%|          | 0/70 [00:00<?, ?it/s]"
      ]
     },
     "metadata": {},
     "output_type": "display_data"
    },
    {
     "name": "stderr",
     "output_type": "stream",
     "text": [
      "INFO - 2025-10-17T18:21:14Z - Successfully downloaded to glory_data_interim_daily/glory_2022-07-03.nc\n",
      "INFO - 2025-10-17T18:21:17Z - Selected dataset version: \"202311\"\n",
      "INFO - 2025-10-17T18:21:17Z - Selected dataset part: \"default\"\n",
      "INFO - 2025-10-17T18:21:20Z - Starting download. Please wait...\n"
     ]
    },
    {
     "data": {
      "application/vnd.jupyter.widget-view+json": {
       "model_id": "d3c885d3a0764887b5f8c2c7f2a1132b",
       "version_major": 2,
       "version_minor": 0
      },
      "text/plain": [
       "  0%|          | 0/70 [00:00<?, ?it/s]"
      ]
     },
     "metadata": {},
     "output_type": "display_data"
    },
    {
     "name": "stderr",
     "output_type": "stream",
     "text": [
      "INFO - 2025-10-17T18:24:34Z - Successfully downloaded to glory_data_interim_daily/glory_2022-07-04.nc\n",
      "INFO - 2025-10-17T18:24:37Z - Selected dataset version: \"202311\"\n",
      "INFO - 2025-10-17T18:24:37Z - Selected dataset part: \"default\"\n",
      "INFO - 2025-10-17T18:24:40Z - Starting download. Please wait...\n"
     ]
    },
    {
     "data": {
      "application/vnd.jupyter.widget-view+json": {
       "model_id": "796ed89d81784371b1bc186e71ffde60",
       "version_major": 2,
       "version_minor": 0
      },
      "text/plain": [
       "  0%|          | 0/70 [00:00<?, ?it/s]"
      ]
     },
     "metadata": {},
     "output_type": "display_data"
    },
    {
     "name": "stderr",
     "output_type": "stream",
     "text": [
      "INFO - 2025-10-17T18:27:36Z - Successfully downloaded to glory_data_interim_daily/glory_2022-07-05.nc\n",
      "INFO - 2025-10-17T18:27:39Z - Selected dataset version: \"202311\"\n",
      "INFO - 2025-10-17T18:27:39Z - Selected dataset part: \"default\"\n",
      "INFO - 2025-10-17T18:27:42Z - Starting download. Please wait...\n"
     ]
    },
    {
     "data": {
      "application/vnd.jupyter.widget-view+json": {
       "model_id": "9604fc0ffdec4d1094b5f4650763ef1d",
       "version_major": 2,
       "version_minor": 0
      },
      "text/plain": [
       "  0%|          | 0/70 [00:00<?, ?it/s]"
      ]
     },
     "metadata": {},
     "output_type": "display_data"
    },
    {
     "name": "stderr",
     "output_type": "stream",
     "text": [
      "INFO - 2025-10-17T18:30:09Z - Successfully downloaded to glory_data_interim_daily/glory_2022-07-06.nc\n",
      "INFO - 2025-10-17T18:30:12Z - Selected dataset version: \"202311\"\n",
      "INFO - 2025-10-17T18:30:12Z - Selected dataset part: \"default\"\n",
      "INFO - 2025-10-17T18:30:15Z - Starting download. Please wait...\n"
     ]
    },
    {
     "data": {
      "application/vnd.jupyter.widget-view+json": {
       "model_id": "04c617b16595437f9f2d004702a749dd",
       "version_major": 2,
       "version_minor": 0
      },
      "text/plain": [
       "  0%|          | 0/70 [00:00<?, ?it/s]"
      ]
     },
     "metadata": {},
     "output_type": "display_data"
    },
    {
     "name": "stderr",
     "output_type": "stream",
     "text": [
      "INFO - 2025-10-17T18:32:58Z - Successfully downloaded to glory_data_interim_daily/glory_2022-07-07.nc\n",
      "INFO - 2025-10-17T18:33:01Z - Selected dataset version: \"202311\"\n",
      "INFO - 2025-10-17T18:33:01Z - Selected dataset part: \"default\"\n",
      "INFO - 2025-10-17T18:33:04Z - Starting download. Please wait...\n"
     ]
    },
    {
     "data": {
      "application/vnd.jupyter.widget-view+json": {
       "model_id": "d00c7dfebe8b48ada7e329d2996cd4e0",
       "version_major": 2,
       "version_minor": 0
      },
      "text/plain": [
       "  0%|          | 0/70 [00:00<?, ?it/s]"
      ]
     },
     "metadata": {},
     "output_type": "display_data"
    },
    {
     "name": "stderr",
     "output_type": "stream",
     "text": [
      "INFO - 2025-10-17T18:36:04Z - Successfully downloaded to glory_data_interim_daily/glory_2022-07-08.nc\n",
      "INFO - 2025-10-17T18:36:07Z - Selected dataset version: \"202311\"\n",
      "INFO - 2025-10-17T18:36:07Z - Selected dataset part: \"default\"\n",
      "INFO - 2025-10-17T18:36:10Z - Starting download. Please wait...\n"
     ]
    },
    {
     "data": {
      "application/vnd.jupyter.widget-view+json": {
       "model_id": "6bccf600941346a89104fefd582d0469",
       "version_major": 2,
       "version_minor": 0
      },
      "text/plain": [
       "  0%|          | 0/70 [00:00<?, ?it/s]"
      ]
     },
     "metadata": {},
     "output_type": "display_data"
    },
    {
     "name": "stderr",
     "output_type": "stream",
     "text": [
      "INFO - 2025-10-17T18:39:03Z - Successfully downloaded to glory_data_interim_daily/glory_2022-07-09.nc\n",
      "INFO - 2025-10-17T18:39:06Z - Selected dataset version: \"202311\"\n",
      "INFO - 2025-10-17T18:39:06Z - Selected dataset part: \"default\"\n",
      "INFO - 2025-10-17T18:39:09Z - Starting download. Please wait...\n"
     ]
    },
    {
     "data": {
      "application/vnd.jupyter.widget-view+json": {
       "model_id": "137f0ae285c946acb72da51d18209fb7",
       "version_major": 2,
       "version_minor": 0
      },
      "text/plain": [
       "  0%|          | 0/70 [00:00<?, ?it/s]"
      ]
     },
     "metadata": {},
     "output_type": "display_data"
    },
    {
     "name": "stderr",
     "output_type": "stream",
     "text": [
      "INFO - 2025-10-17T18:42:14Z - Successfully downloaded to glory_data_interim_daily/glory_2022-07-10.nc\n",
      "INFO - 2025-10-17T18:42:17Z - Selected dataset version: \"202311\"\n",
      "INFO - 2025-10-17T18:42:17Z - Selected dataset part: \"default\"\n",
      "INFO - 2025-10-17T18:42:20Z - Starting download. Please wait...\n"
     ]
    },
    {
     "data": {
      "application/vnd.jupyter.widget-view+json": {
       "model_id": "c22fe30d8a7a43888d3c0fe5e0318bad",
       "version_major": 2,
       "version_minor": 0
      },
      "text/plain": [
       "  0%|          | 0/70 [00:00<?, ?it/s]"
      ]
     },
     "metadata": {},
     "output_type": "display_data"
    },
    {
     "name": "stderr",
     "output_type": "stream",
     "text": [
      "INFO - 2025-10-17T18:45:24Z - Successfully downloaded to glory_data_interim_daily/glory_2022-07-11.nc\n",
      "INFO - 2025-10-17T18:45:27Z - Selected dataset version: \"202311\"\n",
      "INFO - 2025-10-17T18:45:27Z - Selected dataset part: \"default\"\n",
      "INFO - 2025-10-17T18:45:30Z - Starting download. Please wait...\n"
     ]
    },
    {
     "data": {
      "application/vnd.jupyter.widget-view+json": {
       "model_id": "df5c52e0f9e04d0a8b301615e33c79d2",
       "version_major": 2,
       "version_minor": 0
      },
      "text/plain": [
       "  0%|          | 0/70 [00:00<?, ?it/s]"
      ]
     },
     "metadata": {},
     "output_type": "display_data"
    },
    {
     "name": "stderr",
     "output_type": "stream",
     "text": [
      "INFO - 2025-10-17T18:48:29Z - Successfully downloaded to glory_data_interim_daily/glory_2022-07-12.nc\n",
      "INFO - 2025-10-17T18:48:32Z - Selected dataset version: \"202311\"\n",
      "INFO - 2025-10-17T18:48:32Z - Selected dataset part: \"default\"\n",
      "INFO - 2025-10-17T18:48:35Z - Starting download. Please wait...\n"
     ]
    },
    {
     "data": {
      "application/vnd.jupyter.widget-view+json": {
       "model_id": "0a208ed8cd4c49e893cbbbefa868740a",
       "version_major": 2,
       "version_minor": 0
      },
      "text/plain": [
       "  0%|          | 0/70 [00:00<?, ?it/s]"
      ]
     },
     "metadata": {},
     "output_type": "display_data"
    },
    {
     "name": "stderr",
     "output_type": "stream",
     "text": [
      "INFO - 2025-10-17T18:51:35Z - Successfully downloaded to glory_data_interim_daily/glory_2022-07-13.nc\n",
      "INFO - 2025-10-17T18:51:37Z - Selected dataset version: \"202311\"\n",
      "INFO - 2025-10-17T18:51:37Z - Selected dataset part: \"default\"\n",
      "INFO - 2025-10-17T18:51:40Z - Starting download. Please wait...\n"
     ]
    },
    {
     "data": {
      "application/vnd.jupyter.widget-view+json": {
       "model_id": "e0a27994aa4a4e59a68036c4176e7080",
       "version_major": 2,
       "version_minor": 0
      },
      "text/plain": [
       "  0%|          | 0/70 [00:00<?, ?it/s]"
      ]
     },
     "metadata": {},
     "output_type": "display_data"
    },
    {
     "name": "stderr",
     "output_type": "stream",
     "text": [
      "INFO - 2025-10-17T18:54:24Z - Successfully downloaded to glory_data_interim_daily/glory_2022-07-14.nc\n",
      "INFO - 2025-10-17T18:54:27Z - Selected dataset version: \"202311\"\n",
      "INFO - 2025-10-17T18:54:27Z - Selected dataset part: \"default\"\n",
      "INFO - 2025-10-17T18:54:30Z - Starting download. Please wait...\n"
     ]
    },
    {
     "data": {
      "application/vnd.jupyter.widget-view+json": {
       "model_id": "65f0ff46c5e84baeabdd9fa4df99fe08",
       "version_major": 2,
       "version_minor": 0
      },
      "text/plain": [
       "  0%|          | 0/70 [00:00<?, ?it/s]"
      ]
     },
     "metadata": {},
     "output_type": "display_data"
    },
    {
     "name": "stderr",
     "output_type": "stream",
     "text": [
      "INFO - 2025-10-17T18:57:34Z - Successfully downloaded to glory_data_interim_daily/glory_2022-07-15.nc\n",
      "INFO - 2025-10-17T18:57:36Z - Selected dataset version: \"202311\"\n",
      "INFO - 2025-10-17T18:57:36Z - Selected dataset part: \"default\"\n",
      "INFO - 2025-10-17T18:57:40Z - Starting download. Please wait...\n"
     ]
    },
    {
     "data": {
      "application/vnd.jupyter.widget-view+json": {
       "model_id": "7e0cf14278a545acbcc814a65fdebd1e",
       "version_major": 2,
       "version_minor": 0
      },
      "text/plain": [
       "  0%|          | 0/70 [00:00<?, ?it/s]"
      ]
     },
     "metadata": {},
     "output_type": "display_data"
    },
    {
     "name": "stderr",
     "output_type": "stream",
     "text": [
      "INFO - 2025-10-17T19:00:19Z - Successfully downloaded to glory_data_interim_daily/glory_2022-07-16.nc\n",
      "INFO - 2025-10-17T19:00:22Z - Selected dataset version: \"202311\"\n",
      "INFO - 2025-10-17T19:00:22Z - Selected dataset part: \"default\"\n",
      "INFO - 2025-10-17T19:00:25Z - Starting download. Please wait...\n"
     ]
    },
    {
     "data": {
      "application/vnd.jupyter.widget-view+json": {
       "model_id": "25c7e61ffca24a86b06f6c6226ce2b4a",
       "version_major": 2,
       "version_minor": 0
      },
      "text/plain": [
       "  0%|          | 0/70 [00:00<?, ?it/s]"
      ]
     },
     "metadata": {},
     "output_type": "display_data"
    },
    {
     "name": "stderr",
     "output_type": "stream",
     "text": [
      "INFO - 2025-10-17T19:03:00Z - Successfully downloaded to glory_data_interim_daily/glory_2022-07-17.nc\n",
      "INFO - 2025-10-17T19:03:03Z - Selected dataset version: \"202311\"\n",
      "INFO - 2025-10-17T19:03:03Z - Selected dataset part: \"default\"\n",
      "INFO - 2025-10-17T19:03:06Z - Starting download. Please wait...\n"
     ]
    },
    {
     "data": {
      "application/vnd.jupyter.widget-view+json": {
       "model_id": "ab7aa4961faf4a99b6fbdd2ab5382677",
       "version_major": 2,
       "version_minor": 0
      },
      "text/plain": [
       "  0%|          | 0/70 [00:00<?, ?it/s]"
      ]
     },
     "metadata": {},
     "output_type": "display_data"
    },
    {
     "name": "stderr",
     "output_type": "stream",
     "text": [
      "INFO - 2025-10-17T19:06:03Z - Successfully downloaded to glory_data_interim_daily/glory_2022-07-18.nc\n",
      "INFO - 2025-10-17T19:06:06Z - Selected dataset version: \"202311\"\n",
      "INFO - 2025-10-17T19:06:06Z - Selected dataset part: \"default\"\n",
      "INFO - 2025-10-17T19:06:09Z - Starting download. Please wait...\n"
     ]
    },
    {
     "data": {
      "application/vnd.jupyter.widget-view+json": {
       "model_id": "7e2b1a4df7064a76ad70dafb942d9f31",
       "version_major": 2,
       "version_minor": 0
      },
      "text/plain": [
       "  0%|          | 0/70 [00:00<?, ?it/s]"
      ]
     },
     "metadata": {},
     "output_type": "display_data"
    },
    {
     "name": "stderr",
     "output_type": "stream",
     "text": [
      "INFO - 2025-10-17T19:08:45Z - Successfully downloaded to glory_data_interim_daily/glory_2022-07-19.nc\n",
      "INFO - 2025-10-17T19:08:47Z - Selected dataset version: \"202311\"\n",
      "INFO - 2025-10-17T19:08:47Z - Selected dataset part: \"default\"\n",
      "INFO - 2025-10-17T19:08:51Z - Starting download. Please wait...\n"
     ]
    },
    {
     "data": {
      "application/vnd.jupyter.widget-view+json": {
       "model_id": "c830ced862f44c38824093b483371479",
       "version_major": 2,
       "version_minor": 0
      },
      "text/plain": [
       "  0%|          | 0/70 [00:00<?, ?it/s]"
      ]
     },
     "metadata": {},
     "output_type": "display_data"
    },
    {
     "name": "stderr",
     "output_type": "stream",
     "text": [
      "INFO - 2025-10-17T19:11:21Z - Successfully downloaded to glory_data_interim_daily/glory_2022-07-20.nc\n",
      "INFO - 2025-10-17T19:11:24Z - Selected dataset version: \"202311\"\n",
      "INFO - 2025-10-17T19:11:24Z - Selected dataset part: \"default\"\n",
      "INFO - 2025-10-17T19:11:27Z - Starting download. Please wait...\n"
     ]
    },
    {
     "data": {
      "application/vnd.jupyter.widget-view+json": {
       "model_id": "a9a8fbdddf9d47f086748c26b4a598cb",
       "version_major": 2,
       "version_minor": 0
      },
      "text/plain": [
       "  0%|          | 0/70 [00:00<?, ?it/s]"
      ]
     },
     "metadata": {},
     "output_type": "display_data"
    },
    {
     "name": "stderr",
     "output_type": "stream",
     "text": [
      "INFO - 2025-10-17T19:14:20Z - Successfully downloaded to glory_data_interim_daily/glory_2022-07-21.nc\n",
      "INFO - 2025-10-17T19:14:23Z - Selected dataset version: \"202311\"\n",
      "INFO - 2025-10-17T19:14:23Z - Selected dataset part: \"default\"\n",
      "INFO - 2025-10-17T19:14:26Z - Starting download. Please wait...\n"
     ]
    },
    {
     "data": {
      "application/vnd.jupyter.widget-view+json": {
       "model_id": "59b97be242f74091b0add5c995867d71",
       "version_major": 2,
       "version_minor": 0
      },
      "text/plain": [
       "  0%|          | 0/70 [00:00<?, ?it/s]"
      ]
     },
     "metadata": {},
     "output_type": "display_data"
    },
    {
     "name": "stderr",
     "output_type": "stream",
     "text": [
      "INFO - 2025-10-17T19:17:08Z - Successfully downloaded to glory_data_interim_daily/glory_2022-07-22.nc\n",
      "INFO - 2025-10-17T19:17:11Z - Selected dataset version: \"202311\"\n",
      "INFO - 2025-10-17T19:17:11Z - Selected dataset part: \"default\"\n",
      "INFO - 2025-10-17T19:17:13Z - Starting download. Please wait...\n"
     ]
    },
    {
     "data": {
      "application/vnd.jupyter.widget-view+json": {
       "model_id": "a69a64fe23454999a789b295d9ae3501",
       "version_major": 2,
       "version_minor": 0
      },
      "text/plain": [
       "  0%|          | 0/70 [00:00<?, ?it/s]"
      ]
     },
     "metadata": {},
     "output_type": "display_data"
    },
    {
     "name": "stderr",
     "output_type": "stream",
     "text": [
      "INFO - 2025-10-17T19:19:56Z - Successfully downloaded to glory_data_interim_daily/glory_2022-07-23.nc\n",
      "INFO - 2025-10-17T19:19:58Z - Selected dataset version: \"202311\"\n",
      "INFO - 2025-10-17T19:19:58Z - Selected dataset part: \"default\"\n",
      "INFO - 2025-10-17T19:20:01Z - Starting download. Please wait...\n"
     ]
    },
    {
     "data": {
      "application/vnd.jupyter.widget-view+json": {
       "model_id": "063bc8ece6d34a9d83d8ab443c8d87c9",
       "version_major": 2,
       "version_minor": 0
      },
      "text/plain": [
       "  0%|          | 0/70 [00:00<?, ?it/s]"
      ]
     },
     "metadata": {},
     "output_type": "display_data"
    },
    {
     "name": "stderr",
     "output_type": "stream",
     "text": [
      "INFO - 2025-10-17T19:23:08Z - Successfully downloaded to glory_data_interim_daily/glory_2022-07-24.nc\n",
      "INFO - 2025-10-17T19:23:10Z - Selected dataset version: \"202311\"\n",
      "INFO - 2025-10-17T19:23:10Z - Selected dataset part: \"default\"\n",
      "INFO - 2025-10-17T19:23:13Z - Starting download. Please wait...\n"
     ]
    },
    {
     "data": {
      "application/vnd.jupyter.widget-view+json": {
       "model_id": "482d425683d64b8cad94f2b39879db01",
       "version_major": 2,
       "version_minor": 0
      },
      "text/plain": [
       "  0%|          | 0/70 [00:00<?, ?it/s]"
      ]
     },
     "metadata": {},
     "output_type": "display_data"
    },
    {
     "name": "stderr",
     "output_type": "stream",
     "text": [
      "INFO - 2025-10-17T19:25:32Z - Successfully downloaded to glory_data_interim_daily/glory_2022-07-25.nc\n",
      "INFO - 2025-10-17T19:25:35Z - Selected dataset version: \"202311\"\n",
      "INFO - 2025-10-17T19:25:35Z - Selected dataset part: \"default\"\n",
      "INFO - 2025-10-17T19:25:38Z - Starting download. Please wait...\n"
     ]
    },
    {
     "data": {
      "application/vnd.jupyter.widget-view+json": {
       "model_id": "beeba54bf4d94634b659b0112805f750",
       "version_major": 2,
       "version_minor": 0
      },
      "text/plain": [
       "  0%|          | 0/70 [00:00<?, ?it/s]"
      ]
     },
     "metadata": {},
     "output_type": "display_data"
    },
    {
     "name": "stderr",
     "output_type": "stream",
     "text": [
      "INFO - 2025-10-17T19:28:04Z - Successfully downloaded to glory_data_interim_daily/glory_2022-07-26.nc\n",
      "INFO - 2025-10-17T19:28:07Z - Selected dataset version: \"202311\"\n",
      "INFO - 2025-10-17T19:28:07Z - Selected dataset part: \"default\"\n",
      "INFO - 2025-10-17T19:28:10Z - Starting download. Please wait...\n"
     ]
    },
    {
     "data": {
      "application/vnd.jupyter.widget-view+json": {
       "model_id": "9fc06fd73f5d4cb2812827dccfd97bfd",
       "version_major": 2,
       "version_minor": 0
      },
      "text/plain": [
       "  0%|          | 0/70 [00:00<?, ?it/s]"
      ]
     },
     "metadata": {},
     "output_type": "display_data"
    },
    {
     "name": "stderr",
     "output_type": "stream",
     "text": [
      "INFO - 2025-10-17T19:30:29Z - Successfully downloaded to glory_data_interim_daily/glory_2022-07-27.nc\n",
      "INFO - 2025-10-17T19:30:32Z - Selected dataset version: \"202311\"\n",
      "INFO - 2025-10-17T19:30:32Z - Selected dataset part: \"default\"\n",
      "INFO - 2025-10-17T19:30:35Z - Starting download. Please wait...\n"
     ]
    },
    {
     "data": {
      "application/vnd.jupyter.widget-view+json": {
       "model_id": "df544cefcc944ada95916b806a4d87e2",
       "version_major": 2,
       "version_minor": 0
      },
      "text/plain": [
       "  0%|          | 0/70 [00:00<?, ?it/s]"
      ]
     },
     "metadata": {},
     "output_type": "display_data"
    },
    {
     "name": "stderr",
     "output_type": "stream",
     "text": [
      "INFO - 2025-10-17T19:32:59Z - Successfully downloaded to glory_data_interim_daily/glory_2022-07-28.nc\n",
      "INFO - 2025-10-17T19:33:01Z - Selected dataset version: \"202311\"\n",
      "INFO - 2025-10-17T19:33:01Z - Selected dataset part: \"default\"\n",
      "INFO - 2025-10-17T19:33:05Z - Starting download. Please wait...\n"
     ]
    },
    {
     "data": {
      "application/vnd.jupyter.widget-view+json": {
       "model_id": "364016065b9f4fa78fed2ba5f4f250c5",
       "version_major": 2,
       "version_minor": 0
      },
      "text/plain": [
       "  0%|          | 0/70 [00:00<?, ?it/s]"
      ]
     },
     "metadata": {},
     "output_type": "display_data"
    },
    {
     "name": "stderr",
     "output_type": "stream",
     "text": [
      "INFO - 2025-10-17T19:36:08Z - Successfully downloaded to glory_data_interim_daily/glory_2022-07-29.nc\n",
      "INFO - 2025-10-17T19:36:10Z - Selected dataset version: \"202311\"\n",
      "INFO - 2025-10-17T19:36:10Z - Selected dataset part: \"default\"\n",
      "INFO - 2025-10-17T19:36:13Z - Starting download. Please wait...\n"
     ]
    },
    {
     "data": {
      "application/vnd.jupyter.widget-view+json": {
       "model_id": "dc55e922cfd9401abd8bd91d4e3a6073",
       "version_major": 2,
       "version_minor": 0
      },
      "text/plain": [
       "  0%|          | 0/70 [00:00<?, ?it/s]"
      ]
     },
     "metadata": {},
     "output_type": "display_data"
    },
    {
     "name": "stderr",
     "output_type": "stream",
     "text": [
      "INFO - 2025-10-17T19:39:09Z - Successfully downloaded to glory_data_interim_daily/glory_2022-07-30.nc\n",
      "INFO - 2025-10-17T19:39:12Z - Selected dataset version: \"202311\"\n",
      "INFO - 2025-10-17T19:39:12Z - Selected dataset part: \"default\"\n",
      "INFO - 2025-10-17T19:39:15Z - Starting download. Please wait...\n"
     ]
    },
    {
     "data": {
      "application/vnd.jupyter.widget-view+json": {
       "model_id": "3619811609094e198ce8a4f8309b4435",
       "version_major": 2,
       "version_minor": 0
      },
      "text/plain": [
       "  0%|          | 0/70 [00:00<?, ?it/s]"
      ]
     },
     "metadata": {},
     "output_type": "display_data"
    },
    {
     "name": "stderr",
     "output_type": "stream",
     "text": [
      "INFO - 2025-10-17T19:42:14Z - Successfully downloaded to glory_data_interim_daily/glory_2022-07-31.nc\n",
      "INFO - 2025-10-17T19:42:17Z - Selected dataset version: \"202311\"\n",
      "INFO - 2025-10-17T19:42:17Z - Selected dataset part: \"default\"\n",
      "INFO - 2025-10-17T19:42:20Z - Starting download. Please wait...\n"
     ]
    },
    {
     "data": {
      "application/vnd.jupyter.widget-view+json": {
       "model_id": "3382641ca01d4b569def165f664e8ac3",
       "version_major": 2,
       "version_minor": 0
      },
      "text/plain": [
       "  0%|          | 0/70 [00:00<?, ?it/s]"
      ]
     },
     "metadata": {},
     "output_type": "display_data"
    },
    {
     "name": "stderr",
     "output_type": "stream",
     "text": [
      "INFO - 2025-10-17T19:44:50Z - Successfully downloaded to glory_data_interim_daily/glory_2022-08-01.nc\n",
      "INFO - 2025-10-17T19:44:53Z - Selected dataset version: \"202311\"\n",
      "INFO - 2025-10-17T19:44:53Z - Selected dataset part: \"default\"\n",
      "INFO - 2025-10-17T19:44:56Z - Starting download. Please wait...\n"
     ]
    },
    {
     "data": {
      "application/vnd.jupyter.widget-view+json": {
       "model_id": "74e13c6a732c47d48837f1d3c91aff00",
       "version_major": 2,
       "version_minor": 0
      },
      "text/plain": [
       "  0%|          | 0/70 [00:00<?, ?it/s]"
      ]
     },
     "metadata": {},
     "output_type": "display_data"
    },
    {
     "name": "stderr",
     "output_type": "stream",
     "text": [
      "INFO - 2025-10-17T19:47:33Z - Successfully downloaded to glory_data_interim_daily/glory_2022-08-02.nc\n",
      "INFO - 2025-10-17T19:47:36Z - Selected dataset version: \"202311\"\n",
      "INFO - 2025-10-17T19:47:36Z - Selected dataset part: \"default\"\n",
      "INFO - 2025-10-17T19:47:39Z - Starting download. Please wait...\n"
     ]
    },
    {
     "data": {
      "application/vnd.jupyter.widget-view+json": {
       "model_id": "2ec8c0cdfa774c749ca42f0b8091558c",
       "version_major": 2,
       "version_minor": 0
      },
      "text/plain": [
       "  0%|          | 0/70 [00:00<?, ?it/s]"
      ]
     },
     "metadata": {},
     "output_type": "display_data"
    },
    {
     "name": "stderr",
     "output_type": "stream",
     "text": [
      "INFO - 2025-10-17T19:50:26Z - Successfully downloaded to glory_data_interim_daily/glory_2022-08-03.nc\n",
      "INFO - 2025-10-17T19:50:28Z - Selected dataset version: \"202311\"\n",
      "INFO - 2025-10-17T19:50:28Z - Selected dataset part: \"default\"\n",
      "INFO - 2025-10-17T19:50:31Z - Starting download. Please wait...\n"
     ]
    },
    {
     "data": {
      "application/vnd.jupyter.widget-view+json": {
       "model_id": "eafb93f151b1461ba317de2483ae4c64",
       "version_major": 2,
       "version_minor": 0
      },
      "text/plain": [
       "  0%|          | 0/70 [00:00<?, ?it/s]"
      ]
     },
     "metadata": {},
     "output_type": "display_data"
    },
    {
     "name": "stderr",
     "output_type": "stream",
     "text": [
      "INFO - 2025-10-17T19:53:23Z - Successfully downloaded to glory_data_interim_daily/glory_2022-08-04.nc\n",
      "INFO - 2025-10-17T19:53:26Z - Selected dataset version: \"202311\"\n",
      "INFO - 2025-10-17T19:53:26Z - Selected dataset part: \"default\"\n",
      "INFO - 2025-10-17T19:53:29Z - Starting download. Please wait...\n"
     ]
    },
    {
     "data": {
      "application/vnd.jupyter.widget-view+json": {
       "model_id": "d84decfc52b641ab9373356826e15bb3",
       "version_major": 2,
       "version_minor": 0
      },
      "text/plain": [
       "  0%|          | 0/70 [00:00<?, ?it/s]"
      ]
     },
     "metadata": {},
     "output_type": "display_data"
    },
    {
     "name": "stderr",
     "output_type": "stream",
     "text": [
      "INFO - 2025-10-17T19:55:54Z - Successfully downloaded to glory_data_interim_daily/glory_2022-08-05.nc\n",
      "INFO - 2025-10-17T19:55:57Z - Selected dataset version: \"202311\"\n",
      "INFO - 2025-10-17T19:55:57Z - Selected dataset part: \"default\"\n",
      "INFO - 2025-10-17T19:56:00Z - Starting download. Please wait...\n"
     ]
    },
    {
     "data": {
      "application/vnd.jupyter.widget-view+json": {
       "model_id": "4095d42950154be9a5fa29b4df00ddaa",
       "version_major": 2,
       "version_minor": 0
      },
      "text/plain": [
       "  0%|          | 0/70 [00:00<?, ?it/s]"
      ]
     },
     "metadata": {},
     "output_type": "display_data"
    },
    {
     "name": "stderr",
     "output_type": "stream",
     "text": [
      "INFO - 2025-10-17T19:58:26Z - Successfully downloaded to glory_data_interim_daily/glory_2022-08-06.nc\n",
      "INFO - 2025-10-17T19:58:29Z - Selected dataset version: \"202311\"\n",
      "INFO - 2025-10-17T19:58:29Z - Selected dataset part: \"default\"\n",
      "INFO - 2025-10-17T19:58:32Z - Starting download. Please wait...\n"
     ]
    },
    {
     "data": {
      "application/vnd.jupyter.widget-view+json": {
       "model_id": "e8836a0575d54d60b788423ffd7527b0",
       "version_major": 2,
       "version_minor": 0
      },
      "text/plain": [
       "  0%|          | 0/70 [00:00<?, ?it/s]"
      ]
     },
     "metadata": {},
     "output_type": "display_data"
    },
    {
     "name": "stderr",
     "output_type": "stream",
     "text": [
      "INFO - 2025-10-17T20:01:27Z - Successfully downloaded to glory_data_interim_daily/glory_2022-08-07.nc\n",
      "INFO - 2025-10-17T20:01:30Z - Selected dataset version: \"202311\"\n",
      "INFO - 2025-10-17T20:01:30Z - Selected dataset part: \"default\"\n",
      "INFO - 2025-10-17T20:01:33Z - Starting download. Please wait...\n"
     ]
    },
    {
     "data": {
      "application/vnd.jupyter.widget-view+json": {
       "model_id": "afd8888ee0064f73ad0ac046c612ede4",
       "version_major": 2,
       "version_minor": 0
      },
      "text/plain": [
       "  0%|          | 0/70 [00:00<?, ?it/s]"
      ]
     },
     "metadata": {},
     "output_type": "display_data"
    },
    {
     "name": "stderr",
     "output_type": "stream",
     "text": [
      "INFO - 2025-10-17T20:03:53Z - Successfully downloaded to glory_data_interim_daily/glory_2022-08-08.nc\n",
      "INFO - 2025-10-17T20:03:56Z - Selected dataset version: \"202311\"\n",
      "INFO - 2025-10-17T20:03:56Z - Selected dataset part: \"default\"\n",
      "INFO - 2025-10-17T20:03:59Z - Starting download. Please wait...\n"
     ]
    },
    {
     "data": {
      "application/vnd.jupyter.widget-view+json": {
       "model_id": "e58a93bcf4b64057934033f7b0788b85",
       "version_major": 2,
       "version_minor": 0
      },
      "text/plain": [
       "  0%|          | 0/70 [00:00<?, ?it/s]"
      ]
     },
     "metadata": {},
     "output_type": "display_data"
    },
    {
     "name": "stderr",
     "output_type": "stream",
     "text": [
      "INFO - 2025-10-17T20:06:51Z - Successfully downloaded to glory_data_interim_daily/glory_2022-08-09.nc\n",
      "INFO - 2025-10-17T20:06:54Z - Selected dataset version: \"202311\"\n",
      "INFO - 2025-10-17T20:06:54Z - Selected dataset part: \"default\"\n",
      "INFO - 2025-10-17T20:06:57Z - Starting download. Please wait...\n"
     ]
    },
    {
     "data": {
      "application/vnd.jupyter.widget-view+json": {
       "model_id": "b42f436e380f4b84bb90127e1a443bea",
       "version_major": 2,
       "version_minor": 0
      },
      "text/plain": [
       "  0%|          | 0/70 [00:00<?, ?it/s]"
      ]
     },
     "metadata": {},
     "output_type": "display_data"
    },
    {
     "name": "stderr",
     "output_type": "stream",
     "text": [
      "INFO - 2025-10-17T20:09:46Z - Successfully downloaded to glory_data_interim_daily/glory_2022-08-10.nc\n",
      "INFO - 2025-10-17T20:09:49Z - Selected dataset version: \"202311\"\n",
      "INFO - 2025-10-17T20:09:49Z - Selected dataset part: \"default\"\n",
      "INFO - 2025-10-17T20:09:52Z - Starting download. Please wait...\n"
     ]
    },
    {
     "data": {
      "application/vnd.jupyter.widget-view+json": {
       "model_id": "b22e9536cfb844e0afe0e5d2ec044754",
       "version_major": 2,
       "version_minor": 0
      },
      "text/plain": [
       "  0%|          | 0/70 [00:00<?, ?it/s]"
      ]
     },
     "metadata": {},
     "output_type": "display_data"
    },
    {
     "name": "stderr",
     "output_type": "stream",
     "text": [
      "INFO - 2025-10-17T20:12:51Z - Successfully downloaded to glory_data_interim_daily/glory_2022-08-11.nc\n",
      "INFO - 2025-10-17T20:12:53Z - Selected dataset version: \"202311\"\n",
      "INFO - 2025-10-17T20:12:53Z - Selected dataset part: \"default\"\n",
      "INFO - 2025-10-17T20:12:56Z - Starting download. Please wait...\n"
     ]
    },
    {
     "data": {
      "application/vnd.jupyter.widget-view+json": {
       "model_id": "2fe289c4e7b84d4580a2ed4022208b3f",
       "version_major": 2,
       "version_minor": 0
      },
      "text/plain": [
       "  0%|          | 0/70 [00:00<?, ?it/s]"
      ]
     },
     "metadata": {},
     "output_type": "display_data"
    },
    {
     "name": "stderr",
     "output_type": "stream",
     "text": [
      "INFO - 2025-10-17T20:15:43Z - Successfully downloaded to glory_data_interim_daily/glory_2022-08-12.nc\n",
      "INFO - 2025-10-17T20:15:46Z - Selected dataset version: \"202311\"\n",
      "INFO - 2025-10-17T20:15:46Z - Selected dataset part: \"default\"\n",
      "INFO - 2025-10-17T20:15:49Z - Starting download. Please wait...\n"
     ]
    },
    {
     "data": {
      "application/vnd.jupyter.widget-view+json": {
       "model_id": "3919d2496bb8473495b16af32eed9ce2",
       "version_major": 2,
       "version_minor": 0
      },
      "text/plain": [
       "  0%|          | 0/70 [00:00<?, ?it/s]"
      ]
     },
     "metadata": {},
     "output_type": "display_data"
    },
    {
     "name": "stderr",
     "output_type": "stream",
     "text": [
      "INFO - 2025-10-17T20:19:19Z - Successfully downloaded to glory_data_interim_daily/glory_2022-08-13.nc\n",
      "INFO - 2025-10-17T20:19:22Z - Selected dataset version: \"202311\"\n",
      "INFO - 2025-10-17T20:19:22Z - Selected dataset part: \"default\"\n",
      "INFO - 2025-10-17T20:19:25Z - Starting download. Please wait...\n"
     ]
    },
    {
     "data": {
      "application/vnd.jupyter.widget-view+json": {
       "model_id": "2f8d0199f22c46a4a18ed08d8f2e62c7",
       "version_major": 2,
       "version_minor": 0
      },
      "text/plain": [
       "  0%|          | 0/70 [00:00<?, ?it/s]"
      ]
     },
     "metadata": {},
     "output_type": "display_data"
    },
    {
     "name": "stderr",
     "output_type": "stream",
     "text": [
      "INFO - 2025-10-17T20:22:24Z - Successfully downloaded to glory_data_interim_daily/glory_2022-08-14.nc\n",
      "INFO - 2025-10-17T20:22:27Z - Selected dataset version: \"202311\"\n",
      "INFO - 2025-10-17T20:22:27Z - Selected dataset part: \"default\"\n",
      "INFO - 2025-10-17T20:22:30Z - Starting download. Please wait...\n"
     ]
    },
    {
     "data": {
      "application/vnd.jupyter.widget-view+json": {
       "model_id": "867ab2c6979749c082388966587c6f1b",
       "version_major": 2,
       "version_minor": 0
      },
      "text/plain": [
       "  0%|          | 0/70 [00:00<?, ?it/s]"
      ]
     },
     "metadata": {},
     "output_type": "display_data"
    },
    {
     "name": "stderr",
     "output_type": "stream",
     "text": [
      "INFO - 2025-10-17T20:25:42Z - Successfully downloaded to glory_data_interim_daily/glory_2022-08-15.nc\n",
      "INFO - 2025-10-17T20:25:44Z - Selected dataset version: \"202311\"\n",
      "INFO - 2025-10-17T20:25:44Z - Selected dataset part: \"default\"\n",
      "INFO - 2025-10-17T20:25:47Z - Starting download. Please wait...\n"
     ]
    },
    {
     "data": {
      "application/vnd.jupyter.widget-view+json": {
       "model_id": "c2ea3e36459b44b3be36f7d2e264b11a",
       "version_major": 2,
       "version_minor": 0
      },
      "text/plain": [
       "  0%|          | 0/70 [00:00<?, ?it/s]"
      ]
     },
     "metadata": {},
     "output_type": "display_data"
    },
    {
     "name": "stderr",
     "output_type": "stream",
     "text": [
      "INFO - 2025-10-17T20:28:35Z - Successfully downloaded to glory_data_interim_daily/glory_2022-08-16.nc\n",
      "INFO - 2025-10-17T20:28:38Z - Selected dataset version: \"202311\"\n",
      "INFO - 2025-10-17T20:28:38Z - Selected dataset part: \"default\"\n",
      "INFO - 2025-10-17T20:28:41Z - Starting download. Please wait...\n"
     ]
    },
    {
     "data": {
      "application/vnd.jupyter.widget-view+json": {
       "model_id": "f8838da925a2468abe7959288619860c",
       "version_major": 2,
       "version_minor": 0
      },
      "text/plain": [
       "  0%|          | 0/70 [00:00<?, ?it/s]"
      ]
     },
     "metadata": {},
     "output_type": "display_data"
    },
    {
     "name": "stderr",
     "output_type": "stream",
     "text": [
      "INFO - 2025-10-17T20:31:23Z - Successfully downloaded to glory_data_interim_daily/glory_2022-08-17.nc\n",
      "INFO - 2025-10-17T20:31:26Z - Selected dataset version: \"202311\"\n",
      "INFO - 2025-10-17T20:31:26Z - Selected dataset part: \"default\"\n",
      "INFO - 2025-10-17T20:31:29Z - Starting download. Please wait...\n"
     ]
    },
    {
     "data": {
      "application/vnd.jupyter.widget-view+json": {
       "model_id": "b59e2eb77c2c4eb788d481a3186eb247",
       "version_major": 2,
       "version_minor": 0
      },
      "text/plain": [
       "  0%|          | 0/70 [00:00<?, ?it/s]"
      ]
     },
     "metadata": {},
     "output_type": "display_data"
    },
    {
     "name": "stderr",
     "output_type": "stream",
     "text": [
      "INFO - 2025-10-17T20:34:28Z - Successfully downloaded to glory_data_interim_daily/glory_2022-08-18.nc\n",
      "INFO - 2025-10-17T20:34:31Z - Selected dataset version: \"202311\"\n",
      "INFO - 2025-10-17T20:34:31Z - Selected dataset part: \"default\"\n",
      "INFO - 2025-10-17T20:34:34Z - Starting download. Please wait...\n"
     ]
    },
    {
     "data": {
      "application/vnd.jupyter.widget-view+json": {
       "model_id": "62aba1b662d542c69ba44107796782af",
       "version_major": 2,
       "version_minor": 0
      },
      "text/plain": [
       "  0%|          | 0/70 [00:00<?, ?it/s]"
      ]
     },
     "metadata": {},
     "output_type": "display_data"
    },
    {
     "name": "stderr",
     "output_type": "stream",
     "text": [
      "INFO - 2025-10-17T20:37:18Z - Successfully downloaded to glory_data_interim_daily/glory_2022-08-19.nc\n",
      "INFO - 2025-10-17T20:37:21Z - Selected dataset version: \"202311\"\n",
      "INFO - 2025-10-17T20:37:21Z - Selected dataset part: \"default\"\n",
      "INFO - 2025-10-17T20:37:24Z - Starting download. Please wait...\n"
     ]
    },
    {
     "data": {
      "application/vnd.jupyter.widget-view+json": {
       "model_id": "5bad216bbd234ff082eaffbb25aaf016",
       "version_major": 2,
       "version_minor": 0
      },
      "text/plain": [
       "  0%|          | 0/70 [00:00<?, ?it/s]"
      ]
     },
     "metadata": {},
     "output_type": "display_data"
    },
    {
     "name": "stderr",
     "output_type": "stream",
     "text": [
      "INFO - 2025-10-17T20:39:43Z - Successfully downloaded to glory_data_interim_daily/glory_2022-08-20.nc\n",
      "INFO - 2025-10-17T20:39:46Z - Selected dataset version: \"202311\"\n",
      "INFO - 2025-10-17T20:39:46Z - Selected dataset part: \"default\"\n",
      "INFO - 2025-10-17T20:39:48Z - Starting download. Please wait...\n"
     ]
    },
    {
     "data": {
      "application/vnd.jupyter.widget-view+json": {
       "model_id": "6ec3d50bb2b642c4bafe23229bd24c65",
       "version_major": 2,
       "version_minor": 0
      },
      "text/plain": [
       "  0%|          | 0/70 [00:00<?, ?it/s]"
      ]
     },
     "metadata": {},
     "output_type": "display_data"
    },
    {
     "name": "stderr",
     "output_type": "stream",
     "text": [
      "INFO - 2025-10-17T20:42:43Z - Successfully downloaded to glory_data_interim_daily/glory_2022-08-21.nc\n",
      "INFO - 2025-10-17T20:42:45Z - Selected dataset version: \"202311\"\n",
      "INFO - 2025-10-17T20:42:45Z - Selected dataset part: \"default\"\n",
      "INFO - 2025-10-17T20:42:48Z - Starting download. Please wait...\n"
     ]
    },
    {
     "data": {
      "application/vnd.jupyter.widget-view+json": {
       "model_id": "10334b871a2c4e02913c875ad87bd471",
       "version_major": 2,
       "version_minor": 0
      },
      "text/plain": [
       "  0%|          | 0/70 [00:00<?, ?it/s]"
      ]
     },
     "metadata": {},
     "output_type": "display_data"
    },
    {
     "name": "stderr",
     "output_type": "stream",
     "text": [
      "INFO - 2025-10-17T20:45:41Z - Successfully downloaded to glory_data_interim_daily/glory_2022-08-22.nc\n",
      "INFO - 2025-10-17T20:45:44Z - Selected dataset version: \"202311\"\n",
      "INFO - 2025-10-17T20:45:44Z - Selected dataset part: \"default\"\n",
      "INFO - 2025-10-17T20:45:47Z - Starting download. Please wait...\n"
     ]
    },
    {
     "data": {
      "application/vnd.jupyter.widget-view+json": {
       "model_id": "6790ac82332d461db87ff5f2387ff9b5",
       "version_major": 2,
       "version_minor": 0
      },
      "text/plain": [
       "  0%|          | 0/70 [00:00<?, ?it/s]"
      ]
     },
     "metadata": {},
     "output_type": "display_data"
    },
    {
     "name": "stderr",
     "output_type": "stream",
     "text": [
      "INFO - 2025-10-17T20:48:28Z - Successfully downloaded to glory_data_interim_daily/glory_2022-08-23.nc\n",
      "INFO - 2025-10-17T20:48:31Z - Selected dataset version: \"202311\"\n",
      "INFO - 2025-10-17T20:48:31Z - Selected dataset part: \"default\"\n",
      "INFO - 2025-10-17T20:48:34Z - Starting download. Please wait...\n"
     ]
    },
    {
     "data": {
      "application/vnd.jupyter.widget-view+json": {
       "model_id": "e3d1bbb08c9a49c98f6957479168cbaa",
       "version_major": 2,
       "version_minor": 0
      },
      "text/plain": [
       "  0%|          | 0/70 [00:00<?, ?it/s]"
      ]
     },
     "metadata": {},
     "output_type": "display_data"
    },
    {
     "name": "stderr",
     "output_type": "stream",
     "text": [
      "INFO - 2025-10-17T20:51:16Z - Successfully downloaded to glory_data_interim_daily/glory_2022-08-24.nc\n",
      "INFO - 2025-10-17T20:51:19Z - Selected dataset version: \"202311\"\n",
      "INFO - 2025-10-17T20:51:19Z - Selected dataset part: \"default\"\n",
      "INFO - 2025-10-17T20:51:22Z - Starting download. Please wait...\n"
     ]
    },
    {
     "data": {
      "application/vnd.jupyter.widget-view+json": {
       "model_id": "fe2e6826f7e3426bb1b9674232fe3735",
       "version_major": 2,
       "version_minor": 0
      },
      "text/plain": [
       "  0%|          | 0/70 [00:00<?, ?it/s]"
      ]
     },
     "metadata": {},
     "output_type": "display_data"
    },
    {
     "name": "stderr",
     "output_type": "stream",
     "text": [
      "INFO - 2025-10-17T20:54:04Z - Successfully downloaded to glory_data_interim_daily/glory_2022-08-25.nc\n",
      "INFO - 2025-10-17T20:54:06Z - Selected dataset version: \"202311\"\n",
      "INFO - 2025-10-17T20:54:06Z - Selected dataset part: \"default\"\n",
      "INFO - 2025-10-17T20:54:09Z - Starting download. Please wait...\n"
     ]
    },
    {
     "data": {
      "application/vnd.jupyter.widget-view+json": {
       "model_id": "7ca72e6a4b2a4c5494a754a768932f99",
       "version_major": 2,
       "version_minor": 0
      },
      "text/plain": [
       "  0%|          | 0/70 [00:00<?, ?it/s]"
      ]
     },
     "metadata": {},
     "output_type": "display_data"
    },
    {
     "name": "stderr",
     "output_type": "stream",
     "text": [
      "INFO - 2025-10-17T20:56:49Z - Successfully downloaded to glory_data_interim_daily/glory_2022-08-26.nc\n",
      "INFO - 2025-10-17T20:56:51Z - Selected dataset version: \"202311\"\n",
      "INFO - 2025-10-17T20:56:51Z - Selected dataset part: \"default\"\n",
      "INFO - 2025-10-17T20:56:54Z - Starting download. Please wait...\n"
     ]
    },
    {
     "data": {
      "application/vnd.jupyter.widget-view+json": {
       "model_id": "d10b9878270b4ea4aea5db91506096a0",
       "version_major": 2,
       "version_minor": 0
      },
      "text/plain": [
       "  0%|          | 0/70 [00:00<?, ?it/s]"
      ]
     },
     "metadata": {},
     "output_type": "display_data"
    },
    {
     "name": "stderr",
     "output_type": "stream",
     "text": [
      "INFO - 2025-10-17T20:59:26Z - Successfully downloaded to glory_data_interim_daily/glory_2022-08-27.nc\n",
      "INFO - 2025-10-17T20:59:29Z - Selected dataset version: \"202311\"\n",
      "INFO - 2025-10-17T20:59:29Z - Selected dataset part: \"default\"\n",
      "INFO - 2025-10-17T20:59:32Z - Starting download. Please wait...\n"
     ]
    },
    {
     "data": {
      "application/vnd.jupyter.widget-view+json": {
       "model_id": "110b093456b746d7b4aaae6adf5f31ca",
       "version_major": 2,
       "version_minor": 0
      },
      "text/plain": [
       "  0%|          | 0/70 [00:00<?, ?it/s]"
      ]
     },
     "metadata": {},
     "output_type": "display_data"
    },
    {
     "name": "stderr",
     "output_type": "stream",
     "text": [
      "INFO - 2025-10-17T21:02:14Z - Successfully downloaded to glory_data_interim_daily/glory_2022-08-28.nc\n",
      "INFO - 2025-10-17T21:02:17Z - Selected dataset version: \"202311\"\n",
      "INFO - 2025-10-17T21:02:17Z - Selected dataset part: \"default\"\n",
      "INFO - 2025-10-17T21:02:20Z - Starting download. Please wait...\n"
     ]
    },
    {
     "data": {
      "application/vnd.jupyter.widget-view+json": {
       "model_id": "f35079566ea54933b4ea1749c562b1de",
       "version_major": 2,
       "version_minor": 0
      },
      "text/plain": [
       "  0%|          | 0/70 [00:00<?, ?it/s]"
      ]
     },
     "metadata": {},
     "output_type": "display_data"
    },
    {
     "name": "stderr",
     "output_type": "stream",
     "text": [
      "INFO - 2025-10-17T21:04:49Z - Successfully downloaded to glory_data_interim_daily/glory_2022-08-29.nc\n",
      "INFO - 2025-10-17T21:04:52Z - Selected dataset version: \"202311\"\n",
      "INFO - 2025-10-17T21:04:52Z - Selected dataset part: \"default\"\n",
      "INFO - 2025-10-17T21:04:55Z - Starting download. Please wait...\n"
     ]
    },
    {
     "data": {
      "application/vnd.jupyter.widget-view+json": {
       "model_id": "e3b37fd8b895417197c684e4deedaaef",
       "version_major": 2,
       "version_minor": 0
      },
      "text/plain": [
       "  0%|          | 0/70 [00:00<?, ?it/s]"
      ]
     },
     "metadata": {},
     "output_type": "display_data"
    },
    {
     "name": "stderr",
     "output_type": "stream",
     "text": [
      "INFO - 2025-10-17T21:07:43Z - Successfully downloaded to glory_data_interim_daily/glory_2022-08-30.nc\n",
      "INFO - 2025-10-17T21:07:46Z - Selected dataset version: \"202311\"\n",
      "INFO - 2025-10-17T21:07:46Z - Selected dataset part: \"default\"\n",
      "INFO - 2025-10-17T21:07:49Z - Starting download. Please wait...\n"
     ]
    },
    {
     "data": {
      "application/vnd.jupyter.widget-view+json": {
       "model_id": "0b5e0fc496a04250b2c3719cf0acd55b",
       "version_major": 2,
       "version_minor": 0
      },
      "text/plain": [
       "  0%|          | 0/70 [00:00<?, ?it/s]"
      ]
     },
     "metadata": {},
     "output_type": "display_data"
    },
    {
     "name": "stderr",
     "output_type": "stream",
     "text": [
      "INFO - 2025-10-17T21:10:26Z - Successfully downloaded to glory_data_interim_daily/glory_2022-08-31.nc\n",
      "INFO - 2025-10-17T21:10:29Z - Selected dataset version: \"202311\"\n",
      "INFO - 2025-10-17T21:10:29Z - Selected dataset part: \"default\"\n",
      "INFO - 2025-10-17T21:10:32Z - Starting download. Please wait...\n"
     ]
    },
    {
     "data": {
      "application/vnd.jupyter.widget-view+json": {
       "model_id": "aafd948f398a4de590ebee873a1ed60a",
       "version_major": 2,
       "version_minor": 0
      },
      "text/plain": [
       "  0%|          | 0/70 [00:00<?, ?it/s]"
      ]
     },
     "metadata": {},
     "output_type": "display_data"
    },
    {
     "name": "stderr",
     "output_type": "stream",
     "text": [
      "INFO - 2025-10-17T21:13:15Z - Successfully downloaded to glory_data_interim_daily/glory_2022-09-01.nc\n",
      "INFO - 2025-10-17T21:13:17Z - Selected dataset version: \"202311\"\n",
      "INFO - 2025-10-17T21:13:17Z - Selected dataset part: \"default\"\n",
      "INFO - 2025-10-17T21:13:20Z - Starting download. Please wait...\n"
     ]
    },
    {
     "data": {
      "application/vnd.jupyter.widget-view+json": {
       "model_id": "5490d83a831d499493366daacda61b9d",
       "version_major": 2,
       "version_minor": 0
      },
      "text/plain": [
       "  0%|          | 0/70 [00:00<?, ?it/s]"
      ]
     },
     "metadata": {},
     "output_type": "display_data"
    },
    {
     "name": "stderr",
     "output_type": "stream",
     "text": [
      "INFO - 2025-10-17T21:16:01Z - Successfully downloaded to glory_data_interim_daily/glory_2022-09-02.nc\n",
      "INFO - 2025-10-17T21:16:04Z - Selected dataset version: \"202311\"\n",
      "INFO - 2025-10-17T21:16:04Z - Selected dataset part: \"default\"\n",
      "INFO - 2025-10-17T21:16:07Z - Starting download. Please wait...\n"
     ]
    },
    {
     "data": {
      "application/vnd.jupyter.widget-view+json": {
       "model_id": "a3377105424a4d13830315ef28c221db",
       "version_major": 2,
       "version_minor": 0
      },
      "text/plain": [
       "  0%|          | 0/70 [00:00<?, ?it/s]"
      ]
     },
     "metadata": {},
     "output_type": "display_data"
    },
    {
     "name": "stderr",
     "output_type": "stream",
     "text": [
      "INFO - 2025-10-17T21:18:44Z - Successfully downloaded to glory_data_interim_daily/glory_2022-09-03.nc\n",
      "INFO - 2025-10-17T21:18:47Z - Selected dataset version: \"202311\"\n",
      "INFO - 2025-10-17T21:18:47Z - Selected dataset part: \"default\"\n",
      "INFO - 2025-10-17T21:18:50Z - Starting download. Please wait...\n"
     ]
    },
    {
     "data": {
      "application/vnd.jupyter.widget-view+json": {
       "model_id": "e8b054f3625b4afbbaf602448ec354d9",
       "version_major": 2,
       "version_minor": 0
      },
      "text/plain": [
       "  0%|          | 0/70 [00:00<?, ?it/s]"
      ]
     },
     "metadata": {},
     "output_type": "display_data"
    },
    {
     "name": "stderr",
     "output_type": "stream",
     "text": [
      "INFO - 2025-10-17T21:21:57Z - Successfully downloaded to glory_data_interim_daily/glory_2022-09-04.nc\n",
      "INFO - 2025-10-17T21:22:00Z - Selected dataset version: \"202311\"\n",
      "INFO - 2025-10-17T21:22:00Z - Selected dataset part: \"default\"\n",
      "INFO - 2025-10-17T21:22:03Z - Starting download. Please wait...\n"
     ]
    },
    {
     "data": {
      "application/vnd.jupyter.widget-view+json": {
       "model_id": "067c99c6f182499db6a2df3c8bc01fbf",
       "version_major": 2,
       "version_minor": 0
      },
      "text/plain": [
       "  0%|          | 0/70 [00:00<?, ?it/s]"
      ]
     },
     "metadata": {},
     "output_type": "display_data"
    },
    {
     "name": "stderr",
     "output_type": "stream",
     "text": [
      "INFO - 2025-10-17T21:24:27Z - Successfully downloaded to glory_data_interim_daily/glory_2022-09-05.nc\n",
      "INFO - 2025-10-17T21:24:30Z - Selected dataset version: \"202311\"\n",
      "INFO - 2025-10-17T21:24:30Z - Selected dataset part: \"default\"\n",
      "INFO - 2025-10-17T21:24:33Z - Starting download. Please wait...\n"
     ]
    },
    {
     "data": {
      "application/vnd.jupyter.widget-view+json": {
       "model_id": "faf2c563d3244268b619b1fa04078dbc",
       "version_major": 2,
       "version_minor": 0
      },
      "text/plain": [
       "  0%|          | 0/70 [00:00<?, ?it/s]"
      ]
     },
     "metadata": {},
     "output_type": "display_data"
    },
    {
     "name": "stderr",
     "output_type": "stream",
     "text": [
      "INFO - 2025-10-17T21:26:51Z - Successfully downloaded to glory_data_interim_daily/glory_2022-09-06.nc\n",
      "INFO - 2025-10-17T21:26:54Z - Selected dataset version: \"202311\"\n",
      "INFO - 2025-10-17T21:26:54Z - Selected dataset part: \"default\"\n",
      "INFO - 2025-10-17T21:26:57Z - Starting download. Please wait...\n"
     ]
    },
    {
     "data": {
      "application/vnd.jupyter.widget-view+json": {
       "model_id": "db8122b2145d4e2e9074af7ec1b031d0",
       "version_major": 2,
       "version_minor": 0
      },
      "text/plain": [
       "  0%|          | 0/70 [00:00<?, ?it/s]"
      ]
     },
     "metadata": {},
     "output_type": "display_data"
    },
    {
     "name": "stderr",
     "output_type": "stream",
     "text": [
      "INFO - 2025-10-17T21:29:31Z - Successfully downloaded to glory_data_interim_daily/glory_2022-09-07.nc\n",
      "INFO - 2025-10-17T21:29:34Z - Selected dataset version: \"202311\"\n",
      "INFO - 2025-10-17T21:29:34Z - Selected dataset part: \"default\"\n",
      "INFO - 2025-10-17T21:29:37Z - Starting download. Please wait...\n"
     ]
    },
    {
     "data": {
      "application/vnd.jupyter.widget-view+json": {
       "model_id": "f095a63d77254915b109724322f866ef",
       "version_major": 2,
       "version_minor": 0
      },
      "text/plain": [
       "  0%|          | 0/70 [00:00<?, ?it/s]"
      ]
     },
     "metadata": {},
     "output_type": "display_data"
    },
    {
     "name": "stderr",
     "output_type": "stream",
     "text": [
      "INFO - 2025-10-17T21:32:23Z - Successfully downloaded to glory_data_interim_daily/glory_2022-09-08.nc\n",
      "INFO - 2025-10-17T21:32:26Z - Selected dataset version: \"202311\"\n",
      "INFO - 2025-10-17T21:32:26Z - Selected dataset part: \"default\"\n",
      "INFO - 2025-10-17T21:32:29Z - Starting download. Please wait...\n"
     ]
    },
    {
     "data": {
      "application/vnd.jupyter.widget-view+json": {
       "model_id": "7265c5386c1942dd86bdb00f46fbcbe4",
       "version_major": 2,
       "version_minor": 0
      },
      "text/plain": [
       "  0%|          | 0/70 [00:00<?, ?it/s]"
      ]
     },
     "metadata": {},
     "output_type": "display_data"
    },
    {
     "name": "stderr",
     "output_type": "stream",
     "text": [
      "INFO - 2025-10-17T21:35:05Z - Successfully downloaded to glory_data_interim_daily/glory_2022-09-09.nc\n",
      "INFO - 2025-10-17T21:35:08Z - Selected dataset version: \"202311\"\n",
      "INFO - 2025-10-17T21:35:08Z - Selected dataset part: \"default\"\n",
      "INFO - 2025-10-17T21:35:11Z - Starting download. Please wait...\n"
     ]
    },
    {
     "data": {
      "application/vnd.jupyter.widget-view+json": {
       "model_id": "57bfd57bea524914bbb55e25d015cffe",
       "version_major": 2,
       "version_minor": 0
      },
      "text/plain": [
       "  0%|          | 0/70 [00:00<?, ?it/s]"
      ]
     },
     "metadata": {},
     "output_type": "display_data"
    },
    {
     "name": "stderr",
     "output_type": "stream",
     "text": [
      "INFO - 2025-10-17T21:37:53Z - Successfully downloaded to glory_data_interim_daily/glory_2022-09-10.nc\n",
      "INFO - 2025-10-17T21:37:55Z - Selected dataset version: \"202311\"\n",
      "INFO - 2025-10-17T21:37:55Z - Selected dataset part: \"default\"\n",
      "INFO - 2025-10-17T21:37:58Z - Starting download. Please wait...\n"
     ]
    },
    {
     "data": {
      "application/vnd.jupyter.widget-view+json": {
       "model_id": "edd065d412434dd5bfcdd226ad92079e",
       "version_major": 2,
       "version_minor": 0
      },
      "text/plain": [
       "  0%|          | 0/70 [00:00<?, ?it/s]"
      ]
     },
     "metadata": {},
     "output_type": "display_data"
    },
    {
     "name": "stderr",
     "output_type": "stream",
     "text": [
      "INFO - 2025-10-17T21:40:47Z - Successfully downloaded to glory_data_interim_daily/glory_2022-09-11.nc\n",
      "INFO - 2025-10-17T21:40:50Z - Selected dataset version: \"202311\"\n",
      "INFO - 2025-10-17T21:40:50Z - Selected dataset part: \"default\"\n",
      "INFO - 2025-10-17T21:40:52Z - Starting download. Please wait...\n"
     ]
    },
    {
     "data": {
      "application/vnd.jupyter.widget-view+json": {
       "model_id": "46993eeb7f244688bf6c08c0531054a2",
       "version_major": 2,
       "version_minor": 0
      },
      "text/plain": [
       "  0%|          | 0/70 [00:00<?, ?it/s]"
      ]
     },
     "metadata": {},
     "output_type": "display_data"
    }
   ],
   "source": [
    "#Glory daily\n",
    "#dataset_id=\"cmems_mod_glo_phy_my_0.083deg_P1D-m\"\n",
    "#Glory 2021-6-30 to present\n",
    "dataset_id='cmems_mod_glo_phy_myint_0.083deg_P1D-m'\n",
    "dt_list=[]\n",
    "for year in np.arange(2021,2025):\n",
    "    for month in np.arange(1,13):\n",
    "        for day in np.arange(1,32):\n",
    "\n",
    "            try:\n",
    "                dt = pd.Timestamp(f'{year}-{month}-{day}')\n",
    "            except:\n",
    "                continue\n",
    "            #print(dt,dt.year,dt.month,dt.day)\n",
    "            dt_list.append(dt)\n",
    "\n",
    "cutoff_date = pd.Timestamp('2021-06-30')\n",
    "dt_list_cutoff = [dt for dt in dt_list if dt > cutoff_date]\n",
    "\n",
    "#output_directory = \"glory_data\"\n",
    "output_directory = \"glory_data_interim_daily\"\n",
    "os.makedirs(output_directory,exist_ok=True)\n",
    "for idt,dt in enumerate(dt_list_cutoff):\n",
    "    year=dt.year\n",
    "    month=dt.month\n",
    "    day=dt.day\n",
    "    output_file_name = f\"glory_{year:04}-{month:02}-{day:02}.nc\"\n",
    "    if os.path.exists(f'{output_directory}/{output_file_name}'):\n",
    "        print(f' {output_file_name} exist!')\n",
    "        continue\n",
    "    try:\n",
    "        copernicusmarine.subset(\n",
    "        dataset_id=dataset_id,\n",
    "        variables=[\"so\", \"thetao\", \"uo\", \"vo\", \"zos\"],\n",
    "        output_directory=output_directory,\n",
    "        output_filename=output_file_name,\n",
    "        minimum_longitude=-100-1,\n",
    "        maximum_longitude=-35+1,\n",
    "        minimum_latitude=0-1,\n",
    "        maximum_latitude=60+1,\n",
    "        start_datetime=f\"{year:04}-{month:02}-{day:02}T00:00:00\",\n",
    "        end_datetime=f\"{year:04}-{month:02}-{day:02}T00:00:00\",\n",
    "        minimum_depth=0.49402499198913574,\n",
    "        maximum_depth=5727.9169921875,\n",
    "        )\n",
    "    except:\n",
    "        print(f'glory has no data on {year}-{month}-{day}')"
   ]
  },
  {
   "cell_type": "code",
   "execution_count": null,
   "id": "230d2c6c",
   "metadata": {},
   "outputs": [],
   "source": []
  }
 ],
 "metadata": {
  "kernelspec": {
   "display_name": "mommy",
   "language": "python",
   "name": "python3"
  },
  "language_info": {
   "codemirror_mode": {
    "name": "ipython",
    "version": 3
   },
   "file_extension": ".py",
   "mimetype": "text/x-python",
   "name": "python",
   "nbconvert_exporter": "python",
   "pygments_lexer": "ipython3",
   "version": "3.13.2"
  }
 },
 "nbformat": 4,
 "nbformat_minor": 5
}
