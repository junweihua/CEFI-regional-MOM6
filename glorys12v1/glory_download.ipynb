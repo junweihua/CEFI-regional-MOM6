{
 "cells": [
  {
   "cell_type": "code",
   "execution_count": 1,
   "id": "36686144",
   "metadata": {},
   "outputs": [],
   "source": [
    "import copernicusmarine\n",
    "import pandas as pd\n",
    "import numpy as np\n",
    "import os"
   ]
  },
  {
   "cell_type": "code",
   "execution_count": 2,
   "id": "1ad0db16",
   "metadata": {},
   "outputs": [],
   "source": [
    "#Glory daily\n",
    "dataset_id=\"cmems_mod_glo_phy_my_0.083deg_P1D-m\"\n",
    "#dataset_id='cmems_mod_glo_phy_myint_0.083deg_P1D-m'\n",
    "dt_list=[]\n",
    "for year in np.arange(1992,1994+1):\n",
    "    for month in np.arange(1,13):\n",
    "        for day in np.arange(1,32):\n",
    "\n",
    "            try:\n",
    "                dt = pd.Timestamp(f'{year}-{month}-{day}')\n",
    "            except:\n",
    "                continue\n",
    "            #print(dt,dt.year,dt.month,dt.day)\n",
    "            dt_list.append(dt)\n",
    "#dt_list\n",
    "\n",
    "cutoff_date1 = pd.Timestamp('1992-12-31')\n",
    "cutoff_date2 = pd.Timestamp('2021-06-30')\n",
    "dt_list_cutoff = [dt for dt in dt_list if dt > cutoff_date1 and dt <= cutoff_date2]\n",
    "\n"
   ]
  },
  {
   "cell_type": "code",
   "execution_count": null,
   "id": "54369906",
   "metadata": {},
   "outputs": [
    {
     "name": "stdout",
     "output_type": "stream",
     "text": [
      " glory_1993-01-01.nc exist!\n",
      " glory_1993-01-02.nc exist!\n",
      " glory_1993-01-03.nc exist!\n",
      " glory_1993-01-04.nc exist!\n",
      " glory_1993-01-05.nc exist!\n",
      " glory_1993-01-06.nc exist!\n",
      " glory_1993-01-07.nc exist!\n",
      " glory_1993-01-08.nc exist!\n",
      " glory_1993-01-09.nc exist!\n",
      " glory_1993-01-10.nc exist!\n",
      " glory_1993-01-11.nc exist!\n",
      " glory_1993-01-12.nc exist!\n",
      " glory_1993-01-13.nc exist!\n",
      " glory_1993-01-14.nc exist!\n",
      " glory_1993-01-15.nc exist!\n",
      " glory_1993-01-16.nc exist!\n",
      " glory_1993-01-17.nc exist!\n",
      " glory_1993-01-18.nc exist!\n",
      " glory_1993-01-19.nc exist!\n",
      " glory_1993-01-20.nc exist!\n",
      " glory_1993-01-21.nc exist!\n",
      " glory_1993-01-22.nc exist!\n",
      " glory_1993-01-23.nc exist!\n",
      " glory_1993-01-24.nc exist!\n",
      " glory_1993-01-25.nc exist!\n",
      " glory_1993-01-26.nc exist!\n",
      " glory_1993-01-27.nc exist!\n"
     ]
    },
    {
     "name": "stderr",
     "output_type": "stream",
     "text": [
      "INFO - 2025-10-17T03:24:01Z - Selected dataset version: \"202311\"\n",
      "INFO - 2025-10-17T03:24:01Z - Selected dataset part: \"default\"\n",
      "INFO - 2025-10-17T03:24:07Z - Starting download. Please wait...\n"
     ]
    },
    {
     "data": {
      "application/vnd.jupyter.widget-view+json": {
       "model_id": "7d8ce8d185614aba889326252f3569d5",
       "version_major": 2,
       "version_minor": 0
      },
      "text/plain": [
       "  0%|          | 0/70 [00:00<?, ?it/s]"
      ]
     },
     "metadata": {},
     "output_type": "display_data"
    },
    {
     "name": "stderr",
     "output_type": "stream",
     "text": [
      "INFO - 2025-10-17T03:26:33Z - Successfully downloaded to glory_data/glory_1993-01-28.nc\n",
      "INFO - 2025-10-17T03:26:36Z - Selected dataset version: \"202311\"\n",
      "INFO - 2025-10-17T03:26:36Z - Selected dataset part: \"default\"\n",
      "INFO - 2025-10-17T03:26:41Z - Starting download. Please wait...\n"
     ]
    },
    {
     "data": {
      "application/vnd.jupyter.widget-view+json": {
       "model_id": "64c51f65d035496c9735bd47f9f2e6c0",
       "version_major": 2,
       "version_minor": 0
      },
      "text/plain": [
       "  0%|          | 0/70 [00:00<?, ?it/s]"
      ]
     },
     "metadata": {},
     "output_type": "display_data"
    },
    {
     "name": "stderr",
     "output_type": "stream",
     "text": [
      "INFO - 2025-10-17T03:29:07Z - Successfully downloaded to glory_data/glory_1993-01-29.nc\n",
      "INFO - 2025-10-17T03:29:10Z - Selected dataset version: \"202311\"\n",
      "INFO - 2025-10-17T03:29:10Z - Selected dataset part: \"default\"\n",
      "INFO - 2025-10-17T03:29:16Z - Starting download. Please wait...\n"
     ]
    },
    {
     "data": {
      "application/vnd.jupyter.widget-view+json": {
       "model_id": "3b51b219ae2941479fa29a1950ac9dd1",
       "version_major": 2,
       "version_minor": 0
      },
      "text/plain": [
       "  0%|          | 0/70 [00:00<?, ?it/s]"
      ]
     },
     "metadata": {},
     "output_type": "display_data"
    },
    {
     "name": "stderr",
     "output_type": "stream",
     "text": [
      "INFO - 2025-10-17T03:31:45Z - Successfully downloaded to glory_data/glory_1993-01-30.nc\n",
      "INFO - 2025-10-17T03:31:47Z - Selected dataset version: \"202311\"\n",
      "INFO - 2025-10-17T03:31:47Z - Selected dataset part: \"default\"\n",
      "INFO - 2025-10-17T03:31:53Z - Starting download. Please wait...\n"
     ]
    },
    {
     "data": {
      "application/vnd.jupyter.widget-view+json": {
       "model_id": "8904dbd410ec44c4b1ee570436f4223d",
       "version_major": 2,
       "version_minor": 0
      },
      "text/plain": [
       "  0%|          | 0/70 [00:00<?, ?it/s]"
      ]
     },
     "metadata": {},
     "output_type": "display_data"
    },
    {
     "name": "stderr",
     "output_type": "stream",
     "text": [
      "INFO - 2025-10-17T03:34:18Z - Successfully downloaded to glory_data/glory_1993-01-31.nc\n",
      "INFO - 2025-10-17T03:34:21Z - Selected dataset version: \"202311\"\n",
      "INFO - 2025-10-17T03:34:21Z - Selected dataset part: \"default\"\n",
      "INFO - 2025-10-17T03:34:26Z - Starting download. Please wait...\n"
     ]
    },
    {
     "data": {
      "application/vnd.jupyter.widget-view+json": {
       "model_id": "61111f09000445c98bfd2e0633edb925",
       "version_major": 2,
       "version_minor": 0
      },
      "text/plain": [
       "  0%|          | 0/70 [00:00<?, ?it/s]"
      ]
     },
     "metadata": {},
     "output_type": "display_data"
    },
    {
     "name": "stderr",
     "output_type": "stream",
     "text": [
      "INFO - 2025-10-17T03:36:45Z - Successfully downloaded to glory_data/glory_1993-02-01.nc\n",
      "INFO - 2025-10-17T03:36:48Z - Selected dataset version: \"202311\"\n",
      "INFO - 2025-10-17T03:36:48Z - Selected dataset part: \"default\"\n",
      "INFO - 2025-10-17T03:36:54Z - Starting download. Please wait...\n"
     ]
    },
    {
     "data": {
      "application/vnd.jupyter.widget-view+json": {
       "model_id": "ae8ca6f7cc394244a8f94725ac197d07",
       "version_major": 2,
       "version_minor": 0
      },
      "text/plain": [
       "  0%|          | 0/70 [00:00<?, ?it/s]"
      ]
     },
     "metadata": {},
     "output_type": "display_data"
    },
    {
     "name": "stderr",
     "output_type": "stream",
     "text": [
      "INFO - 2025-10-17T03:39:21Z - Successfully downloaded to glory_data/glory_1993-02-02.nc\n",
      "INFO - 2025-10-17T03:39:24Z - Selected dataset version: \"202311\"\n",
      "INFO - 2025-10-17T03:39:24Z - Selected dataset part: \"default\"\n",
      "INFO - 2025-10-17T03:39:30Z - Starting download. Please wait...\n"
     ]
    },
    {
     "data": {
      "application/vnd.jupyter.widget-view+json": {
       "model_id": "0029dfcb4600414985851f40c166291f",
       "version_major": 2,
       "version_minor": 0
      },
      "text/plain": [
       "  0%|          | 0/70 [00:00<?, ?it/s]"
      ]
     },
     "metadata": {},
     "output_type": "display_data"
    },
    {
     "name": "stderr",
     "output_type": "stream",
     "text": [
      "INFO - 2025-10-17T03:41:56Z - Successfully downloaded to glory_data/glory_1993-02-03.nc\n",
      "INFO - 2025-10-17T03:41:59Z - Selected dataset version: \"202311\"\n",
      "INFO - 2025-10-17T03:41:59Z - Selected dataset part: \"default\"\n",
      "INFO - 2025-10-17T03:42:05Z - Starting download. Please wait...\n"
     ]
    },
    {
     "data": {
      "application/vnd.jupyter.widget-view+json": {
       "model_id": "e90ad951acbc4d3bb5641cea9489991c",
       "version_major": 2,
       "version_minor": 0
      },
      "text/plain": [
       "  0%|          | 0/70 [00:00<?, ?it/s]"
      ]
     },
     "metadata": {},
     "output_type": "display_data"
    },
    {
     "name": "stderr",
     "output_type": "stream",
     "text": [
      "INFO - 2025-10-17T03:44:34Z - Successfully downloaded to glory_data/glory_1993-02-04.nc\n",
      "INFO - 2025-10-17T03:44:39Z - Selected dataset version: \"202311\"\n",
      "INFO - 2025-10-17T03:44:39Z - Selected dataset part: \"default\"\n",
      "INFO - 2025-10-17T03:44:45Z - Starting download. Please wait...\n"
     ]
    },
    {
     "data": {
      "application/vnd.jupyter.widget-view+json": {
       "model_id": "ec96c590be70472fa545f4a8d990876e",
       "version_major": 2,
       "version_minor": 0
      },
      "text/plain": [
       "  0%|          | 0/70 [00:00<?, ?it/s]"
      ]
     },
     "metadata": {},
     "output_type": "display_data"
    },
    {
     "name": "stderr",
     "output_type": "stream",
     "text": [
      "INFO - 2025-10-17T03:47:07Z - Successfully downloaded to glory_data/glory_1993-02-05.nc\n",
      "INFO - 2025-10-17T03:47:10Z - Selected dataset version: \"202311\"\n",
      "INFO - 2025-10-17T03:47:10Z - Selected dataset part: \"default\"\n",
      "INFO - 2025-10-17T03:47:16Z - Starting download. Please wait...\n"
     ]
    },
    {
     "data": {
      "application/vnd.jupyter.widget-view+json": {
       "model_id": "e2ec7c34b6ca4cf39721d212eef16e09",
       "version_major": 2,
       "version_minor": 0
      },
      "text/plain": [
       "  0%|          | 0/70 [00:00<?, ?it/s]"
      ]
     },
     "metadata": {},
     "output_type": "display_data"
    },
    {
     "name": "stderr",
     "output_type": "stream",
     "text": [
      "INFO - 2025-10-17T03:49:36Z - Successfully downloaded to glory_data/glory_1993-02-06.nc\n",
      "INFO - 2025-10-17T03:49:39Z - Selected dataset version: \"202311\"\n",
      "INFO - 2025-10-17T03:49:39Z - Selected dataset part: \"default\"\n",
      "INFO - 2025-10-17T03:49:45Z - Starting download. Please wait...\n"
     ]
    },
    {
     "data": {
      "application/vnd.jupyter.widget-view+json": {
       "model_id": "26056b4888a1438fbc6f259caaf9de67",
       "version_major": 2,
       "version_minor": 0
      },
      "text/plain": [
       "  0%|          | 0/70 [00:00<?, ?it/s]"
      ]
     },
     "metadata": {},
     "output_type": "display_data"
    },
    {
     "name": "stderr",
     "output_type": "stream",
     "text": [
      "INFO - 2025-10-17T03:52:12Z - Successfully downloaded to glory_data/glory_1993-02-07.nc\n",
      "INFO - 2025-10-17T03:52:15Z - Selected dataset version: \"202311\"\n",
      "INFO - 2025-10-17T03:52:15Z - Selected dataset part: \"default\"\n",
      "INFO - 2025-10-17T03:52:21Z - Starting download. Please wait...\n"
     ]
    },
    {
     "data": {
      "application/vnd.jupyter.widget-view+json": {
       "model_id": "0636232569b14181a8ca60d282254aa3",
       "version_major": 2,
       "version_minor": 0
      },
      "text/plain": [
       "  0%|          | 0/70 [00:00<?, ?it/s]"
      ]
     },
     "metadata": {},
     "output_type": "display_data"
    },
    {
     "name": "stderr",
     "output_type": "stream",
     "text": [
      "INFO - 2025-10-17T03:54:41Z - Successfully downloaded to glory_data/glory_1993-02-08.nc\n",
      "INFO - 2025-10-17T03:54:44Z - Selected dataset version: \"202311\"\n",
      "INFO - 2025-10-17T03:54:44Z - Selected dataset part: \"default\"\n",
      "INFO - 2025-10-17T03:54:50Z - Starting download. Please wait...\n"
     ]
    },
    {
     "data": {
      "application/vnd.jupyter.widget-view+json": {
       "model_id": "5e5295ae69bb4e3995e33b6d6cfc6d3a",
       "version_major": 2,
       "version_minor": 0
      },
      "text/plain": [
       "  0%|          | 0/70 [00:00<?, ?it/s]"
      ]
     },
     "metadata": {},
     "output_type": "display_data"
    },
    {
     "name": "stderr",
     "output_type": "stream",
     "text": [
      "INFO - 2025-10-17T03:57:15Z - Successfully downloaded to glory_data/glory_1993-02-09.nc\n",
      "INFO - 2025-10-17T03:57:17Z - Selected dataset version: \"202311\"\n",
      "INFO - 2025-10-17T03:57:17Z - Selected dataset part: \"default\"\n",
      "INFO - 2025-10-17T03:57:23Z - Starting download. Please wait...\n"
     ]
    },
    {
     "data": {
      "application/vnd.jupyter.widget-view+json": {
       "model_id": "c68c822b398c48f0b44387068a80a06f",
       "version_major": 2,
       "version_minor": 0
      },
      "text/plain": [
       "  0%|          | 0/70 [00:00<?, ?it/s]"
      ]
     },
     "metadata": {},
     "output_type": "display_data"
    },
    {
     "name": "stderr",
     "output_type": "stream",
     "text": [
      "INFO - 2025-10-17T03:59:36Z - Successfully downloaded to glory_data/glory_1993-02-10.nc\n",
      "INFO - 2025-10-17T03:59:38Z - Selected dataset version: \"202311\"\n",
      "INFO - 2025-10-17T03:59:38Z - Selected dataset part: \"default\"\n",
      "INFO - 2025-10-17T03:59:45Z - Starting download. Please wait...\n"
     ]
    },
    {
     "data": {
      "application/vnd.jupyter.widget-view+json": {
       "model_id": "ae300478badb41ad8821c883bcf425e0",
       "version_major": 2,
       "version_minor": 0
      },
      "text/plain": [
       "  0%|          | 0/70 [00:00<?, ?it/s]"
      ]
     },
     "metadata": {},
     "output_type": "display_data"
    },
    {
     "name": "stderr",
     "output_type": "stream",
     "text": [
      "INFO - 2025-10-17T04:02:09Z - Successfully downloaded to glory_data/glory_1993-02-11.nc\n",
      "INFO - 2025-10-17T04:02:12Z - Selected dataset version: \"202311\"\n",
      "INFO - 2025-10-17T04:02:12Z - Selected dataset part: \"default\"\n",
      "INFO - 2025-10-17T04:02:18Z - Starting download. Please wait...\n"
     ]
    },
    {
     "data": {
      "application/vnd.jupyter.widget-view+json": {
       "model_id": "fa6009bee77f464d889518ece48f6f7e",
       "version_major": 2,
       "version_minor": 0
      },
      "text/plain": [
       "  0%|          | 0/70 [00:00<?, ?it/s]"
      ]
     },
     "metadata": {},
     "output_type": "display_data"
    },
    {
     "name": "stderr",
     "output_type": "stream",
     "text": [
      "INFO - 2025-10-17T04:04:47Z - Successfully downloaded to glory_data/glory_1993-02-12.nc\n",
      "INFO - 2025-10-17T04:04:50Z - Selected dataset version: \"202311\"\n",
      "INFO - 2025-10-17T04:04:50Z - Selected dataset part: \"default\"\n",
      "INFO - 2025-10-17T04:04:56Z - Starting download. Please wait...\n"
     ]
    },
    {
     "data": {
      "application/vnd.jupyter.widget-view+json": {
       "model_id": "10ea594a4437482fbdcc99c79e7a3ff6",
       "version_major": 2,
       "version_minor": 0
      },
      "text/plain": [
       "  0%|          | 0/70 [00:00<?, ?it/s]"
      ]
     },
     "metadata": {},
     "output_type": "display_data"
    },
    {
     "name": "stderr",
     "output_type": "stream",
     "text": [
      "INFO - 2025-10-17T04:07:26Z - Successfully downloaded to glory_data/glory_1993-02-13.nc\n",
      "INFO - 2025-10-17T04:07:29Z - Selected dataset version: \"202311\"\n",
      "INFO - 2025-10-17T04:07:29Z - Selected dataset part: \"default\"\n",
      "INFO - 2025-10-17T04:07:36Z - Starting download. Please wait...\n"
     ]
    },
    {
     "data": {
      "application/vnd.jupyter.widget-view+json": {
       "model_id": "8ef583f9429f4a66af6c6fc9beafd875",
       "version_major": 2,
       "version_minor": 0
      },
      "text/plain": [
       "  0%|          | 0/70 [00:00<?, ?it/s]"
      ]
     },
     "metadata": {},
     "output_type": "display_data"
    },
    {
     "name": "stderr",
     "output_type": "stream",
     "text": [
      "INFO - 2025-10-17T04:09:57Z - Successfully downloaded to glory_data/glory_1993-02-14.nc\n",
      "INFO - 2025-10-17T04:10:00Z - Selected dataset version: \"202311\"\n",
      "INFO - 2025-10-17T04:10:00Z - Selected dataset part: \"default\"\n",
      "INFO - 2025-10-17T04:10:06Z - Starting download. Please wait...\n"
     ]
    },
    {
     "data": {
      "application/vnd.jupyter.widget-view+json": {
       "model_id": "6eea658df95a4972880e2e598b4133ff",
       "version_major": 2,
       "version_minor": 0
      },
      "text/plain": [
       "  0%|          | 0/70 [00:00<?, ?it/s]"
      ]
     },
     "metadata": {},
     "output_type": "display_data"
    },
    {
     "name": "stderr",
     "output_type": "stream",
     "text": [
      "INFO - 2025-10-17T04:12:34Z - Successfully downloaded to glory_data/glory_1993-02-15.nc\n",
      "INFO - 2025-10-17T04:12:36Z - Selected dataset version: \"202311\"\n",
      "INFO - 2025-10-17T04:12:36Z - Selected dataset part: \"default\"\n",
      "INFO - 2025-10-17T04:12:43Z - Starting download. Please wait...\n"
     ]
    },
    {
     "data": {
      "application/vnd.jupyter.widget-view+json": {
       "model_id": "2996376e1ef04b86b129c6aaf5b91283",
       "version_major": 2,
       "version_minor": 0
      },
      "text/plain": [
       "  0%|          | 0/70 [00:00<?, ?it/s]"
      ]
     },
     "metadata": {},
     "output_type": "display_data"
    },
    {
     "name": "stderr",
     "output_type": "stream",
     "text": [
      "INFO - 2025-10-17T04:15:00Z - Successfully downloaded to glory_data/glory_1993-02-16.nc\n",
      "INFO - 2025-10-17T04:15:03Z - Selected dataset version: \"202311\"\n",
      "INFO - 2025-10-17T04:15:03Z - Selected dataset part: \"default\"\n",
      "INFO - 2025-10-17T04:15:10Z - Starting download. Please wait...\n"
     ]
    },
    {
     "data": {
      "application/vnd.jupyter.widget-view+json": {
       "model_id": "1dc568354378493c8679010e3f4e3421",
       "version_major": 2,
       "version_minor": 0
      },
      "text/plain": [
       "  0%|          | 0/70 [00:00<?, ?it/s]"
      ]
     },
     "metadata": {},
     "output_type": "display_data"
    },
    {
     "name": "stderr",
     "output_type": "stream",
     "text": [
      "INFO - 2025-10-17T04:17:29Z - Successfully downloaded to glory_data/glory_1993-02-17.nc\n",
      "INFO - 2025-10-17T04:17:32Z - Selected dataset version: \"202311\"\n",
      "INFO - 2025-10-17T04:17:32Z - Selected dataset part: \"default\"\n",
      "INFO - 2025-10-17T04:17:38Z - Starting download. Please wait...\n"
     ]
    },
    {
     "data": {
      "application/vnd.jupyter.widget-view+json": {
       "model_id": "dd39c48751024a28916ad92fa15c3ab8",
       "version_major": 2,
       "version_minor": 0
      },
      "text/plain": [
       "  0%|          | 0/70 [00:00<?, ?it/s]"
      ]
     },
     "metadata": {},
     "output_type": "display_data"
    },
    {
     "name": "stderr",
     "output_type": "stream",
     "text": [
      "INFO - 2025-10-17T04:19:55Z - Successfully downloaded to glory_data/glory_1993-02-18.nc\n",
      "INFO - 2025-10-17T04:19:58Z - Selected dataset version: \"202311\"\n",
      "INFO - 2025-10-17T04:19:58Z - Selected dataset part: \"default\"\n",
      "INFO - 2025-10-17T04:20:05Z - Starting download. Please wait...\n"
     ]
    },
    {
     "data": {
      "application/vnd.jupyter.widget-view+json": {
       "model_id": "fb0aeb84a0484b2a8074552905b8b6f5",
       "version_major": 2,
       "version_minor": 0
      },
      "text/plain": [
       "  0%|          | 0/70 [00:00<?, ?it/s]"
      ]
     },
     "metadata": {},
     "output_type": "display_data"
    },
    {
     "name": "stderr",
     "output_type": "stream",
     "text": [
      "INFO - 2025-10-17T04:22:26Z - Successfully downloaded to glory_data/glory_1993-02-19.nc\n",
      "INFO - 2025-10-17T04:22:29Z - Selected dataset version: \"202311\"\n",
      "INFO - 2025-10-17T04:22:29Z - Selected dataset part: \"default\"\n",
      "INFO - 2025-10-17T04:22:36Z - Starting download. Please wait...\n"
     ]
    },
    {
     "data": {
      "application/vnd.jupyter.widget-view+json": {
       "model_id": "61692e0860af440fa77dc37fe6fcc009",
       "version_major": 2,
       "version_minor": 0
      },
      "text/plain": [
       "  0%|          | 0/70 [00:00<?, ?it/s]"
      ]
     },
     "metadata": {},
     "output_type": "display_data"
    },
    {
     "name": "stderr",
     "output_type": "stream",
     "text": [
      "INFO - 2025-10-17T04:24:52Z - Successfully downloaded to glory_data/glory_1993-02-20.nc\n",
      "INFO - 2025-10-17T04:24:54Z - Selected dataset version: \"202311\"\n",
      "INFO - 2025-10-17T04:24:54Z - Selected dataset part: \"default\"\n",
      "INFO - 2025-10-17T04:25:01Z - Starting download. Please wait...\n"
     ]
    },
    {
     "data": {
      "application/vnd.jupyter.widget-view+json": {
       "model_id": "cd6490f5b3fc4fdab6121d72039bb7ae",
       "version_major": 2,
       "version_minor": 0
      },
      "text/plain": [
       "  0%|          | 0/70 [00:00<?, ?it/s]"
      ]
     },
     "metadata": {},
     "output_type": "display_data"
    },
    {
     "name": "stderr",
     "output_type": "stream",
     "text": [
      "INFO - 2025-10-17T04:27:21Z - Successfully downloaded to glory_data/glory_1993-02-21.nc\n",
      "INFO - 2025-10-17T04:27:24Z - Selected dataset version: \"202311\"\n",
      "INFO - 2025-10-17T04:27:24Z - Selected dataset part: \"default\"\n",
      "INFO - 2025-10-17T04:27:30Z - Starting download. Please wait...\n"
     ]
    },
    {
     "data": {
      "application/vnd.jupyter.widget-view+json": {
       "model_id": "a39f8babd6144661960beab837294f8c",
       "version_major": 2,
       "version_minor": 0
      },
      "text/plain": [
       "  0%|          | 0/70 [00:00<?, ?it/s]"
      ]
     },
     "metadata": {},
     "output_type": "display_data"
    },
    {
     "name": "stderr",
     "output_type": "stream",
     "text": [
      "INFO - 2025-10-17T04:29:58Z - Successfully downloaded to glory_data/glory_1993-02-22.nc\n",
      "INFO - 2025-10-17T04:30:00Z - Selected dataset version: \"202311\"\n",
      "INFO - 2025-10-17T04:30:00Z - Selected dataset part: \"default\"\n",
      "INFO - 2025-10-17T04:30:07Z - Starting download. Please wait...\n"
     ]
    },
    {
     "data": {
      "application/vnd.jupyter.widget-view+json": {
       "model_id": "424a45261309440593cc7dee7d808766",
       "version_major": 2,
       "version_minor": 0
      },
      "text/plain": [
       "  0%|          | 0/70 [00:00<?, ?it/s]"
      ]
     },
     "metadata": {},
     "output_type": "display_data"
    },
    {
     "name": "stderr",
     "output_type": "stream",
     "text": [
      "INFO - 2025-10-17T04:32:33Z - Successfully downloaded to glory_data/glory_1993-02-23.nc\n",
      "INFO - 2025-10-17T04:32:36Z - Selected dataset version: \"202311\"\n",
      "INFO - 2025-10-17T04:32:36Z - Selected dataset part: \"default\"\n",
      "INFO - 2025-10-17T04:32:42Z - Starting download. Please wait...\n"
     ]
    },
    {
     "data": {
      "application/vnd.jupyter.widget-view+json": {
       "model_id": "e537da5d5c8548f78e706820e067565f",
       "version_major": 2,
       "version_minor": 0
      },
      "text/plain": [
       "  0%|          | 0/70 [00:00<?, ?it/s]"
      ]
     },
     "metadata": {},
     "output_type": "display_data"
    },
    {
     "name": "stderr",
     "output_type": "stream",
     "text": [
      "INFO - 2025-10-17T04:35:08Z - Successfully downloaded to glory_data/glory_1993-02-24.nc\n",
      "INFO - 2025-10-17T04:35:10Z - Selected dataset version: \"202311\"\n",
      "INFO - 2025-10-17T04:35:10Z - Selected dataset part: \"default\"\n",
      "INFO - 2025-10-17T04:35:17Z - Starting download. Please wait...\n"
     ]
    },
    {
     "data": {
      "application/vnd.jupyter.widget-view+json": {
       "model_id": "1efc7bf3bea8431c8b2765cd727057e5",
       "version_major": 2,
       "version_minor": 0
      },
      "text/plain": [
       "  0%|          | 0/70 [00:00<?, ?it/s]"
      ]
     },
     "metadata": {},
     "output_type": "display_data"
    },
    {
     "name": "stderr",
     "output_type": "stream",
     "text": [
      "INFO - 2025-10-17T04:37:44Z - Successfully downloaded to glory_data/glory_1993-02-25.nc\n",
      "INFO - 2025-10-17T04:37:47Z - Selected dataset version: \"202311\"\n",
      "INFO - 2025-10-17T04:37:47Z - Selected dataset part: \"default\"\n",
      "INFO - 2025-10-17T04:37:54Z - Starting download. Please wait...\n"
     ]
    },
    {
     "data": {
      "application/vnd.jupyter.widget-view+json": {
       "model_id": "1788bc4588fd4238addbf6e3b4f5e561",
       "version_major": 2,
       "version_minor": 0
      },
      "text/plain": [
       "  0%|          | 0/70 [00:00<?, ?it/s]"
      ]
     },
     "metadata": {},
     "output_type": "display_data"
    },
    {
     "name": "stderr",
     "output_type": "stream",
     "text": [
      "INFO - 2025-10-17T04:40:12Z - Successfully downloaded to glory_data/glory_1993-02-26.nc\n",
      "INFO - 2025-10-17T04:40:14Z - Selected dataset version: \"202311\"\n",
      "INFO - 2025-10-17T04:40:14Z - Selected dataset part: \"default\"\n",
      "INFO - 2025-10-17T04:40:20Z - Starting download. Please wait...\n"
     ]
    },
    {
     "data": {
      "application/vnd.jupyter.widget-view+json": {
       "model_id": "ccaa55d8126d4cf89d25af87b0155b79",
       "version_major": 2,
       "version_minor": 0
      },
      "text/plain": [
       "  0%|          | 0/70 [00:00<?, ?it/s]"
      ]
     },
     "metadata": {},
     "output_type": "display_data"
    },
    {
     "name": "stderr",
     "output_type": "stream",
     "text": [
      "INFO - 2025-10-17T04:42:43Z - Successfully downloaded to glory_data/glory_1993-02-27.nc\n",
      "INFO - 2025-10-17T04:42:45Z - Selected dataset version: \"202311\"\n",
      "INFO - 2025-10-17T04:42:45Z - Selected dataset part: \"default\"\n",
      "INFO - 2025-10-17T04:42:51Z - Starting download. Please wait...\n"
     ]
    },
    {
     "data": {
      "application/vnd.jupyter.widget-view+json": {
       "model_id": "b24058f64aba4afeb946bd921617fe88",
       "version_major": 2,
       "version_minor": 0
      },
      "text/plain": [
       "  0%|          | 0/70 [00:00<?, ?it/s]"
      ]
     },
     "metadata": {},
     "output_type": "display_data"
    },
    {
     "name": "stderr",
     "output_type": "stream",
     "text": [
      "INFO - 2025-10-17T04:45:11Z - Successfully downloaded to glory_data/glory_1993-02-28.nc\n",
      "INFO - 2025-10-17T04:45:14Z - Selected dataset version: \"202311\"\n",
      "INFO - 2025-10-17T04:45:14Z - Selected dataset part: \"default\"\n",
      "INFO - 2025-10-17T04:45:20Z - Starting download. Please wait...\n"
     ]
    },
    {
     "data": {
      "application/vnd.jupyter.widget-view+json": {
       "model_id": "227806e71e6e464ba7c846146146e5bc",
       "version_major": 2,
       "version_minor": 0
      },
      "text/plain": [
       "  0%|          | 0/70 [00:00<?, ?it/s]"
      ]
     },
     "metadata": {},
     "output_type": "display_data"
    },
    {
     "name": "stderr",
     "output_type": "stream",
     "text": [
      "INFO - 2025-10-17T04:47:45Z - Successfully downloaded to glory_data/glory_1993-03-01.nc\n",
      "INFO - 2025-10-17T04:47:47Z - Selected dataset version: \"202311\"\n",
      "INFO - 2025-10-17T04:47:47Z - Selected dataset part: \"default\"\n",
      "INFO - 2025-10-17T04:47:53Z - Starting download. Please wait...\n"
     ]
    },
    {
     "data": {
      "application/vnd.jupyter.widget-view+json": {
       "model_id": "f02186010b654c21a2de495c5ed8a96a",
       "version_major": 2,
       "version_minor": 0
      },
      "text/plain": [
       "  0%|          | 0/70 [00:00<?, ?it/s]"
      ]
     },
     "metadata": {},
     "output_type": "display_data"
    },
    {
     "name": "stderr",
     "output_type": "stream",
     "text": [
      "INFO - 2025-10-17T04:50:14Z - Successfully downloaded to glory_data/glory_1993-03-02.nc\n",
      "INFO - 2025-10-17T04:50:17Z - Selected dataset version: \"202311\"\n",
      "INFO - 2025-10-17T04:50:17Z - Selected dataset part: \"default\"\n",
      "INFO - 2025-10-17T04:50:23Z - Starting download. Please wait...\n"
     ]
    },
    {
     "data": {
      "application/vnd.jupyter.widget-view+json": {
       "model_id": "b4b35057e31d468ba093eb0c930a82e0",
       "version_major": 2,
       "version_minor": 0
      },
      "text/plain": [
       "  0%|          | 0/70 [00:00<?, ?it/s]"
      ]
     },
     "metadata": {},
     "output_type": "display_data"
    },
    {
     "name": "stderr",
     "output_type": "stream",
     "text": [
      "INFO - 2025-10-17T04:52:51Z - Successfully downloaded to glory_data/glory_1993-03-03.nc\n",
      "INFO - 2025-10-17T04:52:54Z - Selected dataset version: \"202311\"\n",
      "INFO - 2025-10-17T04:52:54Z - Selected dataset part: \"default\"\n",
      "INFO - 2025-10-17T04:53:00Z - Starting download. Please wait...\n"
     ]
    },
    {
     "data": {
      "application/vnd.jupyter.widget-view+json": {
       "model_id": "08c2837871094d178c895569fbf90da8",
       "version_major": 2,
       "version_minor": 0
      },
      "text/plain": [
       "  0%|          | 0/70 [00:00<?, ?it/s]"
      ]
     },
     "metadata": {},
     "output_type": "display_data"
    },
    {
     "name": "stderr",
     "output_type": "stream",
     "text": [
      "INFO - 2025-10-17T04:55:10Z - Successfully downloaded to glory_data/glory_1993-03-04.nc\n",
      "INFO - 2025-10-17T04:55:13Z - Selected dataset version: \"202311\"\n",
      "INFO - 2025-10-17T04:55:13Z - Selected dataset part: \"default\"\n",
      "INFO - 2025-10-17T04:55:19Z - Starting download. Please wait...\n"
     ]
    },
    {
     "data": {
      "application/vnd.jupyter.widget-view+json": {
       "model_id": "08dab06f6bcf468da47486f0ff584b6c",
       "version_major": 2,
       "version_minor": 0
      },
      "text/plain": [
       "  0%|          | 0/70 [00:00<?, ?it/s]"
      ]
     },
     "metadata": {},
     "output_type": "display_data"
    },
    {
     "name": "stderr",
     "output_type": "stream",
     "text": [
      "INFO - 2025-10-17T04:57:36Z - Successfully downloaded to glory_data/glory_1993-03-05.nc\n",
      "INFO - 2025-10-17T04:57:38Z - Selected dataset version: \"202311\"\n",
      "INFO - 2025-10-17T04:57:38Z - Selected dataset part: \"default\"\n",
      "INFO - 2025-10-17T04:57:44Z - Starting download. Please wait...\n"
     ]
    },
    {
     "data": {
      "application/vnd.jupyter.widget-view+json": {
       "model_id": "7afecb6a48e84adfa8eaa62e5fa95718",
       "version_major": 2,
       "version_minor": 0
      },
      "text/plain": [
       "  0%|          | 0/70 [00:00<?, ?it/s]"
      ]
     },
     "metadata": {},
     "output_type": "display_data"
    },
    {
     "name": "stderr",
     "output_type": "stream",
     "text": [
      "INFO - 2025-10-17T05:00:09Z - Successfully downloaded to glory_data/glory_1993-03-06.nc\n",
      "INFO - 2025-10-17T05:00:13Z - Selected dataset version: \"202311\"\n",
      "INFO - 2025-10-17T05:00:13Z - Selected dataset part: \"default\"\n",
      "INFO - 2025-10-17T05:00:19Z - Starting download. Please wait...\n"
     ]
    },
    {
     "data": {
      "application/vnd.jupyter.widget-view+json": {
       "model_id": "f0c386fe9243434493bd954f53cc35d2",
       "version_major": 2,
       "version_minor": 0
      },
      "text/plain": [
       "  0%|          | 0/70 [00:00<?, ?it/s]"
      ]
     },
     "metadata": {},
     "output_type": "display_data"
    },
    {
     "name": "stderr",
     "output_type": "stream",
     "text": [
      "INFO - 2025-10-17T05:02:50Z - Successfully downloaded to glory_data/glory_1993-03-07.nc\n",
      "INFO - 2025-10-17T05:02:53Z - Selected dataset version: \"202311\"\n",
      "INFO - 2025-10-17T05:02:53Z - Selected dataset part: \"default\"\n",
      "INFO - 2025-10-17T05:02:59Z - Starting download. Please wait...\n"
     ]
    },
    {
     "data": {
      "application/vnd.jupyter.widget-view+json": {
       "model_id": "4642985146f441dfbd790b84b63a3414",
       "version_major": 2,
       "version_minor": 0
      },
      "text/plain": [
       "  0%|          | 0/70 [00:00<?, ?it/s]"
      ]
     },
     "metadata": {},
     "output_type": "display_data"
    },
    {
     "name": "stderr",
     "output_type": "stream",
     "text": [
      "INFO - 2025-10-17T05:05:37Z - Successfully downloaded to glory_data/glory_1993-03-08.nc\n",
      "INFO - 2025-10-17T05:05:40Z - Selected dataset version: \"202311\"\n",
      "INFO - 2025-10-17T05:05:40Z - Selected dataset part: \"default\"\n",
      "INFO - 2025-10-17T05:05:47Z - Starting download. Please wait...\n"
     ]
    },
    {
     "data": {
      "application/vnd.jupyter.widget-view+json": {
       "model_id": "130da8f1b0514b6d808447a8c7be3d83",
       "version_major": 2,
       "version_minor": 0
      },
      "text/plain": [
       "  0%|          | 0/70 [00:00<?, ?it/s]"
      ]
     },
     "metadata": {},
     "output_type": "display_data"
    },
    {
     "name": "stderr",
     "output_type": "stream",
     "text": [
      "INFO - 2025-10-17T05:08:33Z - Successfully downloaded to glory_data/glory_1993-03-09.nc\n",
      "INFO - 2025-10-17T05:08:35Z - Selected dataset version: \"202311\"\n",
      "INFO - 2025-10-17T05:08:35Z - Selected dataset part: \"default\"\n",
      "INFO - 2025-10-17T05:08:42Z - Starting download. Please wait...\n"
     ]
    },
    {
     "data": {
      "application/vnd.jupyter.widget-view+json": {
       "model_id": "50879382088a46c1a643ab884b620845",
       "version_major": 2,
       "version_minor": 0
      },
      "text/plain": [
       "  0%|          | 0/70 [00:00<?, ?it/s]"
      ]
     },
     "metadata": {},
     "output_type": "display_data"
    },
    {
     "name": "stderr",
     "output_type": "stream",
     "text": [
      "INFO - 2025-10-17T05:11:06Z - Successfully downloaded to glory_data/glory_1993-03-10.nc\n",
      "INFO - 2025-10-17T05:11:09Z - Selected dataset version: \"202311\"\n",
      "INFO - 2025-10-17T05:11:09Z - Selected dataset part: \"default\"\n",
      "INFO - 2025-10-17T05:11:15Z - Starting download. Please wait...\n"
     ]
    },
    {
     "data": {
      "application/vnd.jupyter.widget-view+json": {
       "model_id": "9e6fb2e03006406794526f85ffc0843a",
       "version_major": 2,
       "version_minor": 0
      },
      "text/plain": [
       "  0%|          | 0/70 [00:00<?, ?it/s]"
      ]
     },
     "metadata": {},
     "output_type": "display_data"
    },
    {
     "name": "stderr",
     "output_type": "stream",
     "text": [
      "INFO - 2025-10-17T05:13:34Z - Successfully downloaded to glory_data/glory_1993-03-11.nc\n",
      "INFO - 2025-10-17T05:13:37Z - Selected dataset version: \"202311\"\n",
      "INFO - 2025-10-17T05:13:37Z - Selected dataset part: \"default\"\n",
      "INFO - 2025-10-17T05:13:43Z - Starting download. Please wait...\n"
     ]
    },
    {
     "data": {
      "application/vnd.jupyter.widget-view+json": {
       "model_id": "54a9b1ce6aeb4a259b3c61005879daa9",
       "version_major": 2,
       "version_minor": 0
      },
      "text/plain": [
       "  0%|          | 0/70 [00:00<?, ?it/s]"
      ]
     },
     "metadata": {},
     "output_type": "display_data"
    },
    {
     "name": "stderr",
     "output_type": "stream",
     "text": [
      "INFO - 2025-10-17T05:16:07Z - Successfully downloaded to glory_data/glory_1993-03-12.nc\n",
      "INFO - 2025-10-17T05:16:09Z - Selected dataset version: \"202311\"\n",
      "INFO - 2025-10-17T05:16:09Z - Selected dataset part: \"default\"\n",
      "INFO - 2025-10-17T05:16:17Z - Starting download. Please wait...\n"
     ]
    },
    {
     "data": {
      "application/vnd.jupyter.widget-view+json": {
       "model_id": "d97b486a4bc04a5995f540c2571dd156",
       "version_major": 2,
       "version_minor": 0
      },
      "text/plain": [
       "  0%|          | 0/70 [00:00<?, ?it/s]"
      ]
     },
     "metadata": {},
     "output_type": "display_data"
    },
    {
     "name": "stderr",
     "output_type": "stream",
     "text": [
      "INFO - 2025-10-17T05:18:38Z - Successfully downloaded to glory_data/glory_1993-03-13.nc\n",
      "INFO - 2025-10-17T05:18:41Z - Selected dataset version: \"202311\"\n",
      "INFO - 2025-10-17T05:18:41Z - Selected dataset part: \"default\"\n",
      "INFO - 2025-10-17T05:18:47Z - Starting download. Please wait...\n"
     ]
    },
    {
     "data": {
      "application/vnd.jupyter.widget-view+json": {
       "model_id": "4e637e9622124ba1be921379ae4f6774",
       "version_major": 2,
       "version_minor": 0
      },
      "text/plain": [
       "  0%|          | 0/70 [00:00<?, ?it/s]"
      ]
     },
     "metadata": {},
     "output_type": "display_data"
    },
    {
     "name": "stderr",
     "output_type": "stream",
     "text": [
      "INFO - 2025-10-17T05:21:05Z - Successfully downloaded to glory_data/glory_1993-03-14.nc\n",
      "INFO - 2025-10-17T05:21:07Z - Selected dataset version: \"202311\"\n",
      "INFO - 2025-10-17T05:21:07Z - Selected dataset part: \"default\"\n",
      "INFO - 2025-10-17T05:21:14Z - Starting download. Please wait...\n"
     ]
    },
    {
     "data": {
      "application/vnd.jupyter.widget-view+json": {
       "model_id": "9255298ca83e4c70a0e283f5ccefc8a8",
       "version_major": 2,
       "version_minor": 0
      },
      "text/plain": [
       "  0%|          | 0/70 [00:00<?, ?it/s]"
      ]
     },
     "metadata": {},
     "output_type": "display_data"
    },
    {
     "name": "stderr",
     "output_type": "stream",
     "text": [
      "INFO - 2025-10-17T05:23:32Z - Successfully downloaded to glory_data/glory_1993-03-15.nc\n",
      "INFO - 2025-10-17T05:23:34Z - Selected dataset version: \"202311\"\n",
      "INFO - 2025-10-17T05:23:34Z - Selected dataset part: \"default\"\n",
      "INFO - 2025-10-17T05:23:42Z - Starting download. Please wait...\n"
     ]
    },
    {
     "data": {
      "application/vnd.jupyter.widget-view+json": {
       "model_id": "f3ebe9fecbd94320b5a76b580befcc6d",
       "version_major": 2,
       "version_minor": 0
      },
      "text/plain": [
       "  0%|          | 0/70 [00:00<?, ?it/s]"
      ]
     },
     "metadata": {},
     "output_type": "display_data"
    },
    {
     "name": "stderr",
     "output_type": "stream",
     "text": [
      "INFO - 2025-10-17T05:26:08Z - Successfully downloaded to glory_data/glory_1993-03-16.nc\n",
      "INFO - 2025-10-17T05:26:11Z - Selected dataset version: \"202311\"\n",
      "INFO - 2025-10-17T05:26:11Z - Selected dataset part: \"default\"\n",
      "INFO - 2025-10-17T05:26:17Z - Starting download. Please wait...\n"
     ]
    },
    {
     "data": {
      "application/vnd.jupyter.widget-view+json": {
       "model_id": "7ca837fb747b4223b72e1ed28ed9c5b4",
       "version_major": 2,
       "version_minor": 0
      },
      "text/plain": [
       "  0%|          | 0/70 [00:00<?, ?it/s]"
      ]
     },
     "metadata": {},
     "output_type": "display_data"
    },
    {
     "name": "stderr",
     "output_type": "stream",
     "text": [
      "INFO - 2025-10-17T05:28:36Z - Successfully downloaded to glory_data/glory_1993-03-17.nc\n",
      "INFO - 2025-10-17T05:28:38Z - Selected dataset version: \"202311\"\n",
      "INFO - 2025-10-17T05:28:38Z - Selected dataset part: \"default\"\n",
      "INFO - 2025-10-17T05:28:45Z - Starting download. Please wait...\n"
     ]
    },
    {
     "data": {
      "application/vnd.jupyter.widget-view+json": {
       "model_id": "3546fc4f0c91420583d891068c3054b4",
       "version_major": 2,
       "version_minor": 0
      },
      "text/plain": [
       "  0%|          | 0/70 [00:00<?, ?it/s]"
      ]
     },
     "metadata": {},
     "output_type": "display_data"
    },
    {
     "name": "stderr",
     "output_type": "stream",
     "text": [
      "INFO - 2025-10-17T05:31:02Z - Successfully downloaded to glory_data/glory_1993-03-18.nc\n",
      "INFO - 2025-10-17T05:31:05Z - Selected dataset version: \"202311\"\n",
      "INFO - 2025-10-17T05:31:05Z - Selected dataset part: \"default\"\n",
      "INFO - 2025-10-17T05:31:11Z - Starting download. Please wait...\n"
     ]
    },
    {
     "data": {
      "application/vnd.jupyter.widget-view+json": {
       "model_id": "b0f06c89ceed4b109a90dec6b3171254",
       "version_major": 2,
       "version_minor": 0
      },
      "text/plain": [
       "  0%|          | 0/70 [00:00<?, ?it/s]"
      ]
     },
     "metadata": {},
     "output_type": "display_data"
    },
    {
     "name": "stderr",
     "output_type": "stream",
     "text": [
      "INFO - 2025-10-17T05:33:30Z - Successfully downloaded to glory_data/glory_1993-03-19.nc\n",
      "INFO - 2025-10-17T05:33:33Z - Selected dataset version: \"202311\"\n",
      "INFO - 2025-10-17T05:33:33Z - Selected dataset part: \"default\"\n",
      "INFO - 2025-10-17T05:33:40Z - Starting download. Please wait...\n"
     ]
    },
    {
     "data": {
      "application/vnd.jupyter.widget-view+json": {
       "model_id": "7d0c0a34b446491f965d60494a204c94",
       "version_major": 2,
       "version_minor": 0
      },
      "text/plain": [
       "  0%|          | 0/70 [00:00<?, ?it/s]"
      ]
     },
     "metadata": {},
     "output_type": "display_data"
    },
    {
     "name": "stderr",
     "output_type": "stream",
     "text": [
      "INFO - 2025-10-17T05:35:57Z - Successfully downloaded to glory_data/glory_1993-03-20.nc\n",
      "INFO - 2025-10-17T05:36:00Z - Selected dataset version: \"202311\"\n",
      "INFO - 2025-10-17T05:36:00Z - Selected dataset part: \"default\"\n",
      "INFO - 2025-10-17T05:36:06Z - Starting download. Please wait...\n"
     ]
    },
    {
     "data": {
      "application/vnd.jupyter.widget-view+json": {
       "model_id": "5333ef7600724c2b8ac5030e179d8607",
       "version_major": 2,
       "version_minor": 0
      },
      "text/plain": [
       "  0%|          | 0/70 [00:00<?, ?it/s]"
      ]
     },
     "metadata": {},
     "output_type": "display_data"
    },
    {
     "name": "stderr",
     "output_type": "stream",
     "text": [
      "INFO - 2025-10-17T05:38:20Z - Successfully downloaded to glory_data/glory_1993-03-21.nc\n",
      "INFO - 2025-10-17T05:38:22Z - Selected dataset version: \"202311\"\n",
      "INFO - 2025-10-17T05:38:22Z - Selected dataset part: \"default\"\n",
      "INFO - 2025-10-17T05:38:29Z - Starting download. Please wait...\n"
     ]
    },
    {
     "data": {
      "application/vnd.jupyter.widget-view+json": {
       "model_id": "63c39fa4dc9f497983da6737a2e547d7",
       "version_major": 2,
       "version_minor": 0
      },
      "text/plain": [
       "  0%|          | 0/70 [00:00<?, ?it/s]"
      ]
     },
     "metadata": {},
     "output_type": "display_data"
    },
    {
     "name": "stderr",
     "output_type": "stream",
     "text": [
      "INFO - 2025-10-17T05:40:53Z - Successfully downloaded to glory_data/glory_1993-03-22.nc\n",
      "INFO - 2025-10-17T05:40:56Z - Selected dataset version: \"202311\"\n",
      "INFO - 2025-10-17T05:40:56Z - Selected dataset part: \"default\"\n",
      "INFO - 2025-10-17T05:41:03Z - Starting download. Please wait...\n"
     ]
    },
    {
     "data": {
      "application/vnd.jupyter.widget-view+json": {
       "model_id": "58e00c7c9f334aa385b08e4038c6a95b",
       "version_major": 2,
       "version_minor": 0
      },
      "text/plain": [
       "  0%|          | 0/70 [00:00<?, ?it/s]"
      ]
     },
     "metadata": {},
     "output_type": "display_data"
    },
    {
     "name": "stderr",
     "output_type": "stream",
     "text": [
      "INFO - 2025-10-17T05:43:21Z - Successfully downloaded to glory_data/glory_1993-03-23.nc\n",
      "INFO - 2025-10-17T05:43:24Z - Selected dataset version: \"202311\"\n",
      "INFO - 2025-10-17T05:43:24Z - Selected dataset part: \"default\"\n",
      "INFO - 2025-10-17T05:43:30Z - Starting download. Please wait...\n"
     ]
    },
    {
     "data": {
      "application/vnd.jupyter.widget-view+json": {
       "model_id": "85677aa85bf248db8082be8cd82ca3bb",
       "version_major": 2,
       "version_minor": 0
      },
      "text/plain": [
       "  0%|          | 0/70 [00:00<?, ?it/s]"
      ]
     },
     "metadata": {},
     "output_type": "display_data"
    },
    {
     "name": "stderr",
     "output_type": "stream",
     "text": [
      "INFO - 2025-10-17T05:45:53Z - Successfully downloaded to glory_data/glory_1993-03-24.nc\n",
      "INFO - 2025-10-17T05:45:56Z - Selected dataset version: \"202311\"\n",
      "INFO - 2025-10-17T05:45:56Z - Selected dataset part: \"default\"\n",
      "INFO - 2025-10-17T05:46:03Z - Starting download. Please wait...\n"
     ]
    },
    {
     "data": {
      "application/vnd.jupyter.widget-view+json": {
       "model_id": "e262f59b808647dea35b4e0e0fecfe1c",
       "version_major": 2,
       "version_minor": 0
      },
      "text/plain": [
       "  0%|          | 0/70 [00:00<?, ?it/s]"
      ]
     },
     "metadata": {},
     "output_type": "display_data"
    },
    {
     "name": "stderr",
     "output_type": "stream",
     "text": [
      "INFO - 2025-10-17T05:48:21Z - Successfully downloaded to glory_data/glory_1993-03-25.nc\n",
      "INFO - 2025-10-17T05:48:24Z - Selected dataset version: \"202311\"\n",
      "INFO - 2025-10-17T05:48:24Z - Selected dataset part: \"default\"\n",
      "INFO - 2025-10-17T05:48:30Z - Starting download. Please wait...\n"
     ]
    },
    {
     "data": {
      "application/vnd.jupyter.widget-view+json": {
       "model_id": "defe1f4c3ea241b1bb908267566c9588",
       "version_major": 2,
       "version_minor": 0
      },
      "text/plain": [
       "  0%|          | 0/70 [00:00<?, ?it/s]"
      ]
     },
     "metadata": {},
     "output_type": "display_data"
    },
    {
     "name": "stderr",
     "output_type": "stream",
     "text": [
      "INFO - 2025-10-17T05:50:54Z - Successfully downloaded to glory_data/glory_1993-03-26.nc\n",
      "INFO - 2025-10-17T05:50:56Z - Selected dataset version: \"202311\"\n",
      "INFO - 2025-10-17T05:50:56Z - Selected dataset part: \"default\"\n",
      "INFO - 2025-10-17T05:51:03Z - Starting download. Please wait...\n"
     ]
    },
    {
     "data": {
      "application/vnd.jupyter.widget-view+json": {
       "model_id": "77f8e3314a4d46eab2d8fb8829f1d0a0",
       "version_major": 2,
       "version_minor": 0
      },
      "text/plain": [
       "  0%|          | 0/70 [00:00<?, ?it/s]"
      ]
     },
     "metadata": {},
     "output_type": "display_data"
    },
    {
     "name": "stderr",
     "output_type": "stream",
     "text": [
      "INFO - 2025-10-17T05:53:26Z - Successfully downloaded to glory_data/glory_1993-03-27.nc\n",
      "INFO - 2025-10-17T05:53:28Z - Selected dataset version: \"202311\"\n",
      "INFO - 2025-10-17T05:53:28Z - Selected dataset part: \"default\"\n",
      "INFO - 2025-10-17T05:53:35Z - Starting download. Please wait...\n"
     ]
    },
    {
     "data": {
      "application/vnd.jupyter.widget-view+json": {
       "model_id": "6f56aa71f42146fdb7dac2d6ff668f28",
       "version_major": 2,
       "version_minor": 0
      },
      "text/plain": [
       "  0%|          | 0/70 [00:00<?, ?it/s]"
      ]
     },
     "metadata": {},
     "output_type": "display_data"
    },
    {
     "name": "stderr",
     "output_type": "stream",
     "text": [
      "INFO - 2025-10-17T05:56:02Z - Successfully downloaded to glory_data/glory_1993-03-28.nc\n",
      "INFO - 2025-10-17T05:56:05Z - Selected dataset version: \"202311\"\n",
      "INFO - 2025-10-17T05:56:05Z - Selected dataset part: \"default\"\n",
      "INFO - 2025-10-17T05:56:11Z - Starting download. Please wait...\n"
     ]
    },
    {
     "data": {
      "application/vnd.jupyter.widget-view+json": {
       "model_id": "b2fe1682f4404b32bd3143fcd3e364ce",
       "version_major": 2,
       "version_minor": 0
      },
      "text/plain": [
       "  0%|          | 0/70 [00:00<?, ?it/s]"
      ]
     },
     "metadata": {},
     "output_type": "display_data"
    },
    {
     "name": "stderr",
     "output_type": "stream",
     "text": [
      "INFO - 2025-10-17T05:58:29Z - Successfully downloaded to glory_data/glory_1993-03-29.nc\n",
      "INFO - 2025-10-17T05:58:32Z - Selected dataset version: \"202311\"\n",
      "INFO - 2025-10-17T05:58:32Z - Selected dataset part: \"default\"\n",
      "INFO - 2025-10-17T05:58:38Z - Starting download. Please wait...\n"
     ]
    },
    {
     "data": {
      "application/vnd.jupyter.widget-view+json": {
       "model_id": "f1dcabe0ecf54f9b877db44a0bae3384",
       "version_major": 2,
       "version_minor": 0
      },
      "text/plain": [
       "  0%|          | 0/70 [00:00<?, ?it/s]"
      ]
     },
     "metadata": {},
     "output_type": "display_data"
    },
    {
     "name": "stderr",
     "output_type": "stream",
     "text": [
      "INFO - 2025-10-17T06:01:04Z - Successfully downloaded to glory_data/glory_1993-03-30.nc\n",
      "INFO - 2025-10-17T06:01:07Z - Selected dataset version: \"202311\"\n",
      "INFO - 2025-10-17T06:01:07Z - Selected dataset part: \"default\"\n",
      "INFO - 2025-10-17T06:01:15Z - Starting download. Please wait...\n"
     ]
    },
    {
     "data": {
      "application/vnd.jupyter.widget-view+json": {
       "model_id": "467a21c73a5d40a495dc2a5425cf4302",
       "version_major": 2,
       "version_minor": 0
      },
      "text/plain": [
       "  0%|          | 0/70 [00:00<?, ?it/s]"
      ]
     },
     "metadata": {},
     "output_type": "display_data"
    },
    {
     "name": "stderr",
     "output_type": "stream",
     "text": [
      "INFO - 2025-10-17T06:03:38Z - Successfully downloaded to glory_data/glory_1993-03-31.nc\n",
      "INFO - 2025-10-17T06:03:41Z - Selected dataset version: \"202311\"\n",
      "INFO - 2025-10-17T06:03:41Z - Selected dataset part: \"default\"\n",
      "INFO - 2025-10-17T06:03:47Z - Starting download. Please wait...\n"
     ]
    },
    {
     "data": {
      "application/vnd.jupyter.widget-view+json": {
       "model_id": "6a2aa68111e04a57a76c9b42ee574526",
       "version_major": 2,
       "version_minor": 0
      },
      "text/plain": [
       "  0%|          | 0/70 [00:00<?, ?it/s]"
      ]
     },
     "metadata": {},
     "output_type": "display_data"
    },
    {
     "name": "stderr",
     "output_type": "stream",
     "text": [
      "INFO - 2025-10-17T06:06:11Z - Successfully downloaded to glory_data/glory_1993-04-01.nc\n",
      "INFO - 2025-10-17T06:06:15Z - Selected dataset version: \"202311\"\n",
      "INFO - 2025-10-17T06:06:15Z - Selected dataset part: \"default\"\n",
      "INFO - 2025-10-17T06:06:21Z - Starting download. Please wait...\n"
     ]
    },
    {
     "data": {
      "application/vnd.jupyter.widget-view+json": {
       "model_id": "fdededd5515a4d418b5b2b912f0f4bae",
       "version_major": 2,
       "version_minor": 0
      },
      "text/plain": [
       "  0%|          | 0/70 [00:00<?, ?it/s]"
      ]
     },
     "metadata": {},
     "output_type": "display_data"
    },
    {
     "name": "stderr",
     "output_type": "stream",
     "text": [
      "INFO - 2025-10-17T06:08:35Z - Successfully downloaded to glory_data/glory_1993-04-02.nc\n",
      "INFO - 2025-10-17T06:08:38Z - Selected dataset version: \"202311\"\n",
      "INFO - 2025-10-17T06:08:38Z - Selected dataset part: \"default\"\n",
      "INFO - 2025-10-17T06:08:45Z - Starting download. Please wait...\n"
     ]
    },
    {
     "data": {
      "application/vnd.jupyter.widget-view+json": {
       "model_id": "6341a58065cc48129e37d1100fbe4d48",
       "version_major": 2,
       "version_minor": 0
      },
      "text/plain": [
       "  0%|          | 0/70 [00:00<?, ?it/s]"
      ]
     },
     "metadata": {},
     "output_type": "display_data"
    },
    {
     "name": "stderr",
     "output_type": "stream",
     "text": [
      "INFO - 2025-10-17T06:11:08Z - Successfully downloaded to glory_data/glory_1993-04-03.nc\n",
      "INFO - 2025-10-17T06:11:11Z - Selected dataset version: \"202311\"\n",
      "INFO - 2025-10-17T06:11:11Z - Selected dataset part: \"default\"\n",
      "INFO - 2025-10-17T06:11:17Z - Starting download. Please wait...\n"
     ]
    },
    {
     "data": {
      "application/vnd.jupyter.widget-view+json": {
       "model_id": "cf8602c950844f629828ed4a8f557e76",
       "version_major": 2,
       "version_minor": 0
      },
      "text/plain": [
       "  0%|          | 0/70 [00:00<?, ?it/s]"
      ]
     },
     "metadata": {},
     "output_type": "display_data"
    },
    {
     "name": "stderr",
     "output_type": "stream",
     "text": [
      "INFO - 2025-10-17T06:13:41Z - Successfully downloaded to glory_data/glory_1993-04-04.nc\n",
      "INFO - 2025-10-17T06:13:44Z - Selected dataset version: \"202311\"\n",
      "INFO - 2025-10-17T06:13:44Z - Selected dataset part: \"default\"\n",
      "INFO - 2025-10-17T06:13:50Z - Starting download. Please wait...\n"
     ]
    },
    {
     "data": {
      "application/vnd.jupyter.widget-view+json": {
       "model_id": "2526d1d6c6d941bbb3c495ec8a63d899",
       "version_major": 2,
       "version_minor": 0
      },
      "text/plain": [
       "  0%|          | 0/70 [00:00<?, ?it/s]"
      ]
     },
     "metadata": {},
     "output_type": "display_data"
    },
    {
     "name": "stderr",
     "output_type": "stream",
     "text": [
      "INFO - 2025-10-17T06:16:17Z - Successfully downloaded to glory_data/glory_1993-04-05.nc\n",
      "INFO - 2025-10-17T06:16:19Z - Selected dataset version: \"202311\"\n",
      "INFO - 2025-10-17T06:16:19Z - Selected dataset part: \"default\"\n",
      "INFO - 2025-10-17T06:16:27Z - Starting download. Please wait...\n"
     ]
    },
    {
     "data": {
      "application/vnd.jupyter.widget-view+json": {
       "model_id": "767c791fcbe14c64abb77c2b481075f1",
       "version_major": 2,
       "version_minor": 0
      },
      "text/plain": [
       "  0%|          | 0/70 [00:00<?, ?it/s]"
      ]
     },
     "metadata": {},
     "output_type": "display_data"
    },
    {
     "name": "stderr",
     "output_type": "stream",
     "text": [
      "INFO - 2025-10-17T06:18:53Z - Successfully downloaded to glory_data/glory_1993-04-06.nc\n",
      "INFO - 2025-10-17T06:18:55Z - Selected dataset version: \"202311\"\n",
      "INFO - 2025-10-17T06:18:55Z - Selected dataset part: \"default\"\n",
      "INFO - 2025-10-17T06:19:02Z - Starting download. Please wait...\n"
     ]
    },
    {
     "data": {
      "application/vnd.jupyter.widget-view+json": {
       "model_id": "c3ee966fcfef41e6993e407239ae6eed",
       "version_major": 2,
       "version_minor": 0
      },
      "text/plain": [
       "  0%|          | 0/70 [00:00<?, ?it/s]"
      ]
     },
     "metadata": {},
     "output_type": "display_data"
    },
    {
     "name": "stderr",
     "output_type": "stream",
     "text": [
      "INFO - 2025-10-17T06:21:14Z - Successfully downloaded to glory_data/glory_1993-04-07.nc\n",
      "INFO - 2025-10-17T06:21:17Z - Selected dataset version: \"202311\"\n",
      "INFO - 2025-10-17T06:21:17Z - Selected dataset part: \"default\"\n",
      "INFO - 2025-10-17T06:21:24Z - Starting download. Please wait...\n"
     ]
    },
    {
     "data": {
      "application/vnd.jupyter.widget-view+json": {
       "model_id": "52ff0734fced447e9df85fed032f43d2",
       "version_major": 2,
       "version_minor": 0
      },
      "text/plain": [
       "  0%|          | 0/70 [00:00<?, ?it/s]"
      ]
     },
     "metadata": {},
     "output_type": "display_data"
    },
    {
     "name": "stderr",
     "output_type": "stream",
     "text": [
      "INFO - 2025-10-17T06:23:44Z - Successfully downloaded to glory_data/glory_1993-04-08.nc\n",
      "INFO - 2025-10-17T06:23:47Z - Selected dataset version: \"202311\"\n",
      "INFO - 2025-10-17T06:23:47Z - Selected dataset part: \"default\"\n",
      "INFO - 2025-10-17T06:23:54Z - Starting download. Please wait...\n"
     ]
    },
    {
     "data": {
      "application/vnd.jupyter.widget-view+json": {
       "model_id": "b84af427c66540069d8f42ca8dfbe15b",
       "version_major": 2,
       "version_minor": 0
      },
      "text/plain": [
       "  0%|          | 0/70 [00:00<?, ?it/s]"
      ]
     },
     "metadata": {},
     "output_type": "display_data"
    },
    {
     "name": "stderr",
     "output_type": "stream",
     "text": [
      "INFO - 2025-10-17T06:26:18Z - Successfully downloaded to glory_data/glory_1993-04-09.nc\n",
      "INFO - 2025-10-17T06:26:21Z - Selected dataset version: \"202311\"\n",
      "INFO - 2025-10-17T06:26:21Z - Selected dataset part: \"default\"\n",
      "INFO - 2025-10-17T06:26:27Z - Starting download. Please wait...\n"
     ]
    },
    {
     "data": {
      "application/vnd.jupyter.widget-view+json": {
       "model_id": "3ade61e45f5840649f997ab105dd296f",
       "version_major": 2,
       "version_minor": 0
      },
      "text/plain": [
       "  0%|          | 0/70 [00:00<?, ?it/s]"
      ]
     },
     "metadata": {},
     "output_type": "display_data"
    },
    {
     "name": "stderr",
     "output_type": "stream",
     "text": [
      "INFO - 2025-10-17T06:28:45Z - Successfully downloaded to glory_data/glory_1993-04-10.nc\n",
      "INFO - 2025-10-17T06:28:47Z - Selected dataset version: \"202311\"\n",
      "INFO - 2025-10-17T06:28:47Z - Selected dataset part: \"default\"\n",
      "INFO - 2025-10-17T06:28:53Z - Starting download. Please wait...\n"
     ]
    },
    {
     "data": {
      "application/vnd.jupyter.widget-view+json": {
       "model_id": "6440019f001c4b29ba927adede2e3cfb",
       "version_major": 2,
       "version_minor": 0
      },
      "text/plain": [
       "  0%|          | 0/70 [00:00<?, ?it/s]"
      ]
     },
     "metadata": {},
     "output_type": "display_data"
    },
    {
     "name": "stderr",
     "output_type": "stream",
     "text": [
      "INFO - 2025-10-17T06:31:08Z - Successfully downloaded to glory_data/glory_1993-04-11.nc\n",
      "INFO - 2025-10-17T06:31:11Z - Selected dataset version: \"202311\"\n",
      "INFO - 2025-10-17T06:31:11Z - Selected dataset part: \"default\"\n",
      "INFO - 2025-10-17T06:31:17Z - Starting download. Please wait...\n"
     ]
    },
    {
     "data": {
      "application/vnd.jupyter.widget-view+json": {
       "model_id": "e64c9f46d1dd432f9a814176cb99d144",
       "version_major": 2,
       "version_minor": 0
      },
      "text/plain": [
       "  0%|          | 0/70 [00:00<?, ?it/s]"
      ]
     },
     "metadata": {},
     "output_type": "display_data"
    },
    {
     "name": "stderr",
     "output_type": "stream",
     "text": [
      "INFO - 2025-10-17T06:33:37Z - Successfully downloaded to glory_data/glory_1993-04-12.nc\n",
      "INFO - 2025-10-17T06:33:39Z - Selected dataset version: \"202311\"\n",
      "INFO - 2025-10-17T06:33:39Z - Selected dataset part: \"default\"\n",
      "INFO - 2025-10-17T06:33:46Z - Starting download. Please wait...\n"
     ]
    },
    {
     "data": {
      "application/vnd.jupyter.widget-view+json": {
       "model_id": "42c011b08d3b43c5a04a8f0bfbe5c868",
       "version_major": 2,
       "version_minor": 0
      },
      "text/plain": [
       "  0%|          | 0/70 [00:00<?, ?it/s]"
      ]
     },
     "metadata": {},
     "output_type": "display_data"
    },
    {
     "name": "stderr",
     "output_type": "stream",
     "text": [
      "INFO - 2025-10-17T06:36:11Z - Successfully downloaded to glory_data/glory_1993-04-13.nc\n",
      "INFO - 2025-10-17T06:36:14Z - Selected dataset version: \"202311\"\n",
      "INFO - 2025-10-17T06:36:14Z - Selected dataset part: \"default\"\n",
      "INFO - 2025-10-17T06:36:20Z - Starting download. Please wait...\n"
     ]
    },
    {
     "data": {
      "application/vnd.jupyter.widget-view+json": {
       "model_id": "e1961205c3da46a9825edf7a4281ff94",
       "version_major": 2,
       "version_minor": 0
      },
      "text/plain": [
       "  0%|          | 0/70 [00:00<?, ?it/s]"
      ]
     },
     "metadata": {},
     "output_type": "display_data"
    },
    {
     "name": "stderr",
     "output_type": "stream",
     "text": [
      "INFO - 2025-10-17T06:38:40Z - Successfully downloaded to glory_data/glory_1993-04-14.nc\n",
      "INFO - 2025-10-17T06:38:42Z - Selected dataset version: \"202311\"\n",
      "INFO - 2025-10-17T06:38:42Z - Selected dataset part: \"default\"\n",
      "INFO - 2025-10-17T06:38:49Z - Starting download. Please wait...\n"
     ]
    },
    {
     "data": {
      "application/vnd.jupyter.widget-view+json": {
       "model_id": "1a3521205f9d4aa096390225a9e710d6",
       "version_major": 2,
       "version_minor": 0
      },
      "text/plain": [
       "  0%|          | 0/70 [00:00<?, ?it/s]"
      ]
     },
     "metadata": {},
     "output_type": "display_data"
    },
    {
     "name": "stderr",
     "output_type": "stream",
     "text": [
      "INFO - 2025-10-17T06:41:08Z - Successfully downloaded to glory_data/glory_1993-04-15.nc\n",
      "INFO - 2025-10-17T06:41:12Z - Selected dataset version: \"202311\"\n",
      "INFO - 2025-10-17T06:41:12Z - Selected dataset part: \"default\"\n",
      "INFO - 2025-10-17T06:41:18Z - Starting download. Please wait...\n"
     ]
    },
    {
     "data": {
      "application/vnd.jupyter.widget-view+json": {
       "model_id": "f12dafb7196a44d39100e8c75371f55a",
       "version_major": 2,
       "version_minor": 0
      },
      "text/plain": [
       "  0%|          | 0/70 [00:00<?, ?it/s]"
      ]
     },
     "metadata": {},
     "output_type": "display_data"
    },
    {
     "name": "stderr",
     "output_type": "stream",
     "text": [
      "INFO - 2025-10-17T06:43:39Z - Successfully downloaded to glory_data/glory_1993-04-16.nc\n",
      "INFO - 2025-10-17T06:43:42Z - Selected dataset version: \"202311\"\n",
      "INFO - 2025-10-17T06:43:42Z - Selected dataset part: \"default\"\n",
      "INFO - 2025-10-17T06:43:48Z - Starting download. Please wait...\n"
     ]
    },
    {
     "data": {
      "application/vnd.jupyter.widget-view+json": {
       "model_id": "30b35c10cbc54e8bb68f462343d7a184",
       "version_major": 2,
       "version_minor": 0
      },
      "text/plain": [
       "  0%|          | 0/70 [00:00<?, ?it/s]"
      ]
     },
     "metadata": {},
     "output_type": "display_data"
    },
    {
     "name": "stderr",
     "output_type": "stream",
     "text": [
      "INFO - 2025-10-17T06:46:04Z - Successfully downloaded to glory_data/glory_1993-04-17.nc\n",
      "INFO - 2025-10-17T06:46:07Z - Selected dataset version: \"202311\"\n",
      "INFO - 2025-10-17T06:46:07Z - Selected dataset part: \"default\"\n",
      "INFO - 2025-10-17T06:46:14Z - Starting download. Please wait...\n"
     ]
    },
    {
     "data": {
      "application/vnd.jupyter.widget-view+json": {
       "model_id": "50ace640388f4080a564939b1f0117ba",
       "version_major": 2,
       "version_minor": 0
      },
      "text/plain": [
       "  0%|          | 0/70 [00:00<?, ?it/s]"
      ]
     },
     "metadata": {},
     "output_type": "display_data"
    },
    {
     "name": "stderr",
     "output_type": "stream",
     "text": [
      "INFO - 2025-10-17T06:48:38Z - Successfully downloaded to glory_data/glory_1993-04-18.nc\n",
      "INFO - 2025-10-17T06:48:43Z - Selected dataset version: \"202311\"\n",
      "INFO - 2025-10-17T06:48:43Z - Selected dataset part: \"default\"\n",
      "INFO - 2025-10-17T06:48:49Z - Starting download. Please wait...\n"
     ]
    },
    {
     "data": {
      "application/vnd.jupyter.widget-view+json": {
       "model_id": "5b75c33619d24381a5876a11aa4a6e3b",
       "version_major": 2,
       "version_minor": 0
      },
      "text/plain": [
       "  0%|          | 0/70 [00:00<?, ?it/s]"
      ]
     },
     "metadata": {},
     "output_type": "display_data"
    },
    {
     "name": "stderr",
     "output_type": "stream",
     "text": [
      "INFO - 2025-10-17T06:51:03Z - Successfully downloaded to glory_data/glory_1993-04-19.nc\n",
      "INFO - 2025-10-17T06:51:06Z - Selected dataset version: \"202311\"\n",
      "INFO - 2025-10-17T06:51:06Z - Selected dataset part: \"default\"\n",
      "INFO - 2025-10-17T06:51:12Z - Starting download. Please wait...\n"
     ]
    },
    {
     "data": {
      "application/vnd.jupyter.widget-view+json": {
       "model_id": "6af02c9148674389af794f1d76d92158",
       "version_major": 2,
       "version_minor": 0
      },
      "text/plain": [
       "  0%|          | 0/70 [00:00<?, ?it/s]"
      ]
     },
     "metadata": {},
     "output_type": "display_data"
    },
    {
     "name": "stderr",
     "output_type": "stream",
     "text": [
      "INFO - 2025-10-17T06:53:40Z - Successfully downloaded to glory_data/glory_1993-04-20.nc\n",
      "INFO - 2025-10-17T06:53:43Z - Selected dataset version: \"202311\"\n",
      "INFO - 2025-10-17T06:53:43Z - Selected dataset part: \"default\"\n",
      "INFO - 2025-10-17T06:53:49Z - Starting download. Please wait...\n"
     ]
    },
    {
     "data": {
      "application/vnd.jupyter.widget-view+json": {
       "model_id": "83f73f26560243f0b2f47906e7f1d5d5",
       "version_major": 2,
       "version_minor": 0
      },
      "text/plain": [
       "  0%|          | 0/70 [00:00<?, ?it/s]"
      ]
     },
     "metadata": {},
     "output_type": "display_data"
    },
    {
     "name": "stderr",
     "output_type": "stream",
     "text": [
      "INFO - 2025-10-17T06:56:10Z - Successfully downloaded to glory_data/glory_1993-04-21.nc\n",
      "INFO - 2025-10-17T06:56:13Z - Selected dataset version: \"202311\"\n",
      "INFO - 2025-10-17T06:56:13Z - Selected dataset part: \"default\"\n",
      "INFO - 2025-10-17T06:56:19Z - Starting download. Please wait...\n"
     ]
    },
    {
     "data": {
      "application/vnd.jupyter.widget-view+json": {
       "model_id": "61c6b560888f4e7db90c1b3bc031a85f",
       "version_major": 2,
       "version_minor": 0
      },
      "text/plain": [
       "  0%|          | 0/70 [00:00<?, ?it/s]"
      ]
     },
     "metadata": {},
     "output_type": "display_data"
    },
    {
     "name": "stderr",
     "output_type": "stream",
     "text": [
      "INFO - 2025-10-17T06:58:36Z - Successfully downloaded to glory_data/glory_1993-04-22.nc\n",
      "INFO - 2025-10-17T06:58:38Z - Selected dataset version: \"202311\"\n",
      "INFO - 2025-10-17T06:58:38Z - Selected dataset part: \"default\"\n",
      "INFO - 2025-10-17T06:58:45Z - Starting download. Please wait...\n"
     ]
    },
    {
     "data": {
      "application/vnd.jupyter.widget-view+json": {
       "model_id": "0617a1c48e2b4b2597b745996415f8d7",
       "version_major": 2,
       "version_minor": 0
      },
      "text/plain": [
       "  0%|          | 0/70 [00:00<?, ?it/s]"
      ]
     },
     "metadata": {},
     "output_type": "display_data"
    },
    {
     "name": "stderr",
     "output_type": "stream",
     "text": [
      "INFO - 2025-10-17T07:00:58Z - Successfully downloaded to glory_data/glory_1993-04-23.nc\n",
      "INFO - 2025-10-17T07:01:03Z - Selected dataset version: \"202311\"\n",
      "INFO - 2025-10-17T07:01:03Z - Selected dataset part: \"default\"\n",
      "INFO - 2025-10-17T07:01:09Z - Starting download. Please wait...\n"
     ]
    },
    {
     "data": {
      "application/vnd.jupyter.widget-view+json": {
       "model_id": "f705bcdefcb94af88c144527ecc87316",
       "version_major": 2,
       "version_minor": 0
      },
      "text/plain": [
       "  0%|          | 0/70 [00:00<?, ?it/s]"
      ]
     },
     "metadata": {},
     "output_type": "display_data"
    },
    {
     "name": "stderr",
     "output_type": "stream",
     "text": [
      "INFO - 2025-10-17T07:03:42Z - Successfully downloaded to glory_data/glory_1993-04-24.nc\n",
      "INFO - 2025-10-17T07:03:45Z - Selected dataset version: \"202311\"\n",
      "INFO - 2025-10-17T07:03:45Z - Selected dataset part: \"default\"\n",
      "INFO - 2025-10-17T07:03:51Z - Starting download. Please wait...\n"
     ]
    },
    {
     "data": {
      "application/vnd.jupyter.widget-view+json": {
       "model_id": "9a119cf6d658442bb5914a378f6123d3",
       "version_major": 2,
       "version_minor": 0
      },
      "text/plain": [
       "  0%|          | 0/70 [00:00<?, ?it/s]"
      ]
     },
     "metadata": {},
     "output_type": "display_data"
    },
    {
     "name": "stderr",
     "output_type": "stream",
     "text": [
      "INFO - 2025-10-17T07:06:03Z - Successfully downloaded to glory_data/glory_1993-04-25.nc\n",
      "INFO - 2025-10-17T07:06:06Z - Selected dataset version: \"202311\"\n",
      "INFO - 2025-10-17T07:06:06Z - Selected dataset part: \"default\"\n",
      "INFO - 2025-10-17T07:06:14Z - Starting download. Please wait...\n"
     ]
    },
    {
     "data": {
      "application/vnd.jupyter.widget-view+json": {
       "model_id": "241b08ca36604b5a8cfa56612c064329",
       "version_major": 2,
       "version_minor": 0
      },
      "text/plain": [
       "  0%|          | 0/70 [00:00<?, ?it/s]"
      ]
     },
     "metadata": {},
     "output_type": "display_data"
    },
    {
     "name": "stderr",
     "output_type": "stream",
     "text": [
      "INFO - 2025-10-17T07:08:23Z - Successfully downloaded to glory_data/glory_1993-04-26.nc\n",
      "INFO - 2025-10-17T07:08:26Z - Selected dataset version: \"202311\"\n",
      "INFO - 2025-10-17T07:08:26Z - Selected dataset part: \"default\"\n",
      "INFO - 2025-10-17T07:08:32Z - Starting download. Please wait...\n"
     ]
    },
    {
     "data": {
      "application/vnd.jupyter.widget-view+json": {
       "model_id": "0d494cbdee66446fb43a02f620d71137",
       "version_major": 2,
       "version_minor": 0
      },
      "text/plain": [
       "  0%|          | 0/70 [00:00<?, ?it/s]"
      ]
     },
     "metadata": {},
     "output_type": "display_data"
    },
    {
     "name": "stderr",
     "output_type": "stream",
     "text": [
      "INFO - 2025-10-17T07:10:51Z - Successfully downloaded to glory_data/glory_1993-04-27.nc\n",
      "INFO - 2025-10-17T07:10:54Z - Selected dataset version: \"202311\"\n",
      "INFO - 2025-10-17T07:10:54Z - Selected dataset part: \"default\"\n",
      "INFO - 2025-10-17T07:11:00Z - Starting download. Please wait...\n"
     ]
    },
    {
     "data": {
      "application/vnd.jupyter.widget-view+json": {
       "model_id": "f33fe6c091ec4825ad0599bf0b68bb95",
       "version_major": 2,
       "version_minor": 0
      },
      "text/plain": [
       "  0%|          | 0/70 [00:00<?, ?it/s]"
      ]
     },
     "metadata": {},
     "output_type": "display_data"
    },
    {
     "name": "stderr",
     "output_type": "stream",
     "text": [
      "INFO - 2025-10-17T07:13:24Z - Successfully downloaded to glory_data/glory_1993-04-28.nc\n",
      "INFO - 2025-10-17T07:13:28Z - Selected dataset version: \"202311\"\n",
      "INFO - 2025-10-17T07:13:28Z - Selected dataset part: \"default\"\n",
      "INFO - 2025-10-17T07:13:34Z - Starting download. Please wait...\n"
     ]
    },
    {
     "data": {
      "application/vnd.jupyter.widget-view+json": {
       "model_id": "0fff709fa6fe4dee830a0501e7221c19",
       "version_major": 2,
       "version_minor": 0
      },
      "text/plain": [
       "  0%|          | 0/70 [00:00<?, ?it/s]"
      ]
     },
     "metadata": {},
     "output_type": "display_data"
    },
    {
     "name": "stderr",
     "output_type": "stream",
     "text": [
      "INFO - 2025-10-17T07:15:51Z - Successfully downloaded to glory_data/glory_1993-04-29.nc\n",
      "INFO - 2025-10-17T07:15:55Z - Selected dataset version: \"202311\"\n",
      "INFO - 2025-10-17T07:15:55Z - Selected dataset part: \"default\"\n",
      "INFO - 2025-10-17T07:16:01Z - Starting download. Please wait...\n"
     ]
    },
    {
     "data": {
      "application/vnd.jupyter.widget-view+json": {
       "model_id": "2dcbf90f94814e7a984a0172484d24e9",
       "version_major": 2,
       "version_minor": 0
      },
      "text/plain": [
       "  0%|          | 0/70 [00:00<?, ?it/s]"
      ]
     },
     "metadata": {},
     "output_type": "display_data"
    },
    {
     "name": "stderr",
     "output_type": "stream",
     "text": [
      "INFO - 2025-10-17T07:18:20Z - Successfully downloaded to glory_data/glory_1993-04-30.nc\n",
      "INFO - 2025-10-17T07:18:24Z - Selected dataset version: \"202311\"\n",
      "INFO - 2025-10-17T07:18:24Z - Selected dataset part: \"default\"\n",
      "INFO - 2025-10-17T07:18:31Z - Starting download. Please wait...\n"
     ]
    },
    {
     "data": {
      "application/vnd.jupyter.widget-view+json": {
       "model_id": "5a3101fd854a448a9490d687970ed841",
       "version_major": 2,
       "version_minor": 0
      },
      "text/plain": [
       "  0%|          | 0/70 [00:00<?, ?it/s]"
      ]
     },
     "metadata": {},
     "output_type": "display_data"
    },
    {
     "name": "stderr",
     "output_type": "stream",
     "text": [
      "INFO - 2025-10-17T07:20:59Z - Successfully downloaded to glory_data/glory_1993-05-01.nc\n",
      "INFO - 2025-10-17T07:21:02Z - Selected dataset version: \"202311\"\n",
      "INFO - 2025-10-17T07:21:02Z - Selected dataset part: \"default\"\n",
      "INFO - 2025-10-17T07:21:09Z - Starting download. Please wait...\n"
     ]
    },
    {
     "data": {
      "application/vnd.jupyter.widget-view+json": {
       "model_id": "601bfbc6f762413b9fc24c0abb8d5e01",
       "version_major": 2,
       "version_minor": 0
      },
      "text/plain": [
       "  0%|          | 0/70 [00:00<?, ?it/s]"
      ]
     },
     "metadata": {},
     "output_type": "display_data"
    },
    {
     "name": "stderr",
     "output_type": "stream",
     "text": [
      "INFO - 2025-10-17T07:23:27Z - Successfully downloaded to glory_data/glory_1993-05-02.nc\n",
      "INFO - 2025-10-17T07:23:29Z - Selected dataset version: \"202311\"\n",
      "INFO - 2025-10-17T07:23:29Z - Selected dataset part: \"default\"\n",
      "INFO - 2025-10-17T07:23:36Z - Starting download. Please wait...\n"
     ]
    },
    {
     "data": {
      "application/vnd.jupyter.widget-view+json": {
       "model_id": "0b2e56ea31e64c6c9a415c544f19afe5",
       "version_major": 2,
       "version_minor": 0
      },
      "text/plain": [
       "  0%|          | 0/70 [00:00<?, ?it/s]"
      ]
     },
     "metadata": {},
     "output_type": "display_data"
    },
    {
     "name": "stderr",
     "output_type": "stream",
     "text": [
      "INFO - 2025-10-17T07:25:53Z - Successfully downloaded to glory_data/glory_1993-05-03.nc\n",
      "INFO - 2025-10-17T07:25:56Z - Selected dataset version: \"202311\"\n",
      "INFO - 2025-10-17T07:25:56Z - Selected dataset part: \"default\"\n",
      "INFO - 2025-10-17T07:26:03Z - Starting download. Please wait...\n"
     ]
    },
    {
     "data": {
      "application/vnd.jupyter.widget-view+json": {
       "model_id": "636121f5aa4e4b6d918bcec984547687",
       "version_major": 2,
       "version_minor": 0
      },
      "text/plain": [
       "  0%|          | 0/70 [00:00<?, ?it/s]"
      ]
     },
     "metadata": {},
     "output_type": "display_data"
    },
    {
     "name": "stderr",
     "output_type": "stream",
     "text": [
      "INFO - 2025-10-17T07:28:21Z - Successfully downloaded to glory_data/glory_1993-05-04.nc\n",
      "INFO - 2025-10-17T07:28:24Z - Selected dataset version: \"202311\"\n",
      "INFO - 2025-10-17T07:28:24Z - Selected dataset part: \"default\"\n",
      "INFO - 2025-10-17T07:28:31Z - Starting download. Please wait...\n"
     ]
    },
    {
     "data": {
      "application/vnd.jupyter.widget-view+json": {
       "model_id": "473b0358102849c0a217c753eceea12e",
       "version_major": 2,
       "version_minor": 0
      },
      "text/plain": [
       "  0%|          | 0/70 [00:00<?, ?it/s]"
      ]
     },
     "metadata": {},
     "output_type": "display_data"
    },
    {
     "name": "stderr",
     "output_type": "stream",
     "text": [
      "INFO - 2025-10-17T07:30:51Z - Successfully downloaded to glory_data/glory_1993-05-05.nc\n",
      "INFO - 2025-10-17T07:30:53Z - Selected dataset version: \"202311\"\n",
      "INFO - 2025-10-17T07:30:53Z - Selected dataset part: \"default\"\n",
      "INFO - 2025-10-17T07:31:00Z - Starting download. Please wait...\n"
     ]
    },
    {
     "data": {
      "application/vnd.jupyter.widget-view+json": {
       "model_id": "0be77945210e429691a3f33d68c66574",
       "version_major": 2,
       "version_minor": 0
      },
      "text/plain": [
       "  0%|          | 0/70 [00:00<?, ?it/s]"
      ]
     },
     "metadata": {},
     "output_type": "display_data"
    },
    {
     "name": "stderr",
     "output_type": "stream",
     "text": [
      "INFO - 2025-10-17T07:33:19Z - Successfully downloaded to glory_data/glory_1993-05-06.nc\n",
      "INFO - 2025-10-17T07:33:22Z - Selected dataset version: \"202311\"\n",
      "INFO - 2025-10-17T07:33:22Z - Selected dataset part: \"default\"\n",
      "INFO - 2025-10-17T07:33:28Z - Starting download. Please wait...\n"
     ]
    },
    {
     "data": {
      "application/vnd.jupyter.widget-view+json": {
       "model_id": "16d8b348da4f4f00979c663a125b644b",
       "version_major": 2,
       "version_minor": 0
      },
      "text/plain": [
       "  0%|          | 0/70 [00:00<?, ?it/s]"
      ]
     },
     "metadata": {},
     "output_type": "display_data"
    },
    {
     "name": "stderr",
     "output_type": "stream",
     "text": [
      "INFO - 2025-10-17T07:35:47Z - Successfully downloaded to glory_data/glory_1993-05-07.nc\n",
      "INFO - 2025-10-17T07:35:50Z - Selected dataset version: \"202311\"\n",
      "INFO - 2025-10-17T07:35:50Z - Selected dataset part: \"default\"\n",
      "INFO - 2025-10-17T07:35:57Z - Starting download. Please wait...\n"
     ]
    },
    {
     "data": {
      "application/vnd.jupyter.widget-view+json": {
       "model_id": "e26a580cdc6f4283adce44b3a690daa2",
       "version_major": 2,
       "version_minor": 0
      },
      "text/plain": [
       "  0%|          | 0/70 [00:00<?, ?it/s]"
      ]
     },
     "metadata": {},
     "output_type": "display_data"
    },
    {
     "name": "stderr",
     "output_type": "stream",
     "text": [
      "INFO - 2025-10-17T07:38:14Z - Successfully downloaded to glory_data/glory_1993-05-08.nc\n",
      "INFO - 2025-10-17T07:38:17Z - Selected dataset version: \"202311\"\n",
      "INFO - 2025-10-17T07:38:17Z - Selected dataset part: \"default\"\n",
      "INFO - 2025-10-17T07:38:23Z - Starting download. Please wait...\n"
     ]
    },
    {
     "data": {
      "application/vnd.jupyter.widget-view+json": {
       "model_id": "64185a67b94249fc9dc86c806712f05c",
       "version_major": 2,
       "version_minor": 0
      },
      "text/plain": [
       "  0%|          | 0/70 [00:00<?, ?it/s]"
      ]
     },
     "metadata": {},
     "output_type": "display_data"
    },
    {
     "name": "stderr",
     "output_type": "stream",
     "text": [
      "INFO - 2025-10-17T07:40:42Z - Successfully downloaded to glory_data/glory_1993-05-09.nc\n",
      "INFO - 2025-10-17T07:40:45Z - Selected dataset version: \"202311\"\n",
      "INFO - 2025-10-17T07:40:45Z - Selected dataset part: \"default\"\n",
      "INFO - 2025-10-17T07:40:51Z - Starting download. Please wait...\n"
     ]
    },
    {
     "data": {
      "application/vnd.jupyter.widget-view+json": {
       "model_id": "c462f3e495f641b49da0edbe21510da0",
       "version_major": 2,
       "version_minor": 0
      },
      "text/plain": [
       "  0%|          | 0/70 [00:00<?, ?it/s]"
      ]
     },
     "metadata": {},
     "output_type": "display_data"
    },
    {
     "name": "stderr",
     "output_type": "stream",
     "text": [
      "INFO - 2025-10-17T07:43:19Z - Successfully downloaded to glory_data/glory_1993-05-10.nc\n",
      "INFO - 2025-10-17T07:43:21Z - Selected dataset version: \"202311\"\n",
      "INFO - 2025-10-17T07:43:21Z - Selected dataset part: \"default\"\n",
      "INFO - 2025-10-17T07:43:29Z - Starting download. Please wait...\n"
     ]
    },
    {
     "data": {
      "application/vnd.jupyter.widget-view+json": {
       "model_id": "d4988a209fa346bdb9972be775782881",
       "version_major": 2,
       "version_minor": 0
      },
      "text/plain": [
       "  0%|          | 0/70 [00:00<?, ?it/s]"
      ]
     },
     "metadata": {},
     "output_type": "display_data"
    },
    {
     "name": "stderr",
     "output_type": "stream",
     "text": [
      "INFO - 2025-10-17T07:45:38Z - Successfully downloaded to glory_data/glory_1993-05-11.nc\n",
      "INFO - 2025-10-17T07:45:41Z - Selected dataset version: \"202311\"\n",
      "INFO - 2025-10-17T07:45:41Z - Selected dataset part: \"default\"\n",
      "INFO - 2025-10-17T07:45:47Z - Starting download. Please wait...\n"
     ]
    },
    {
     "data": {
      "application/vnd.jupyter.widget-view+json": {
       "model_id": "887eaaaf49564345a21dd6f56d234ea1",
       "version_major": 2,
       "version_minor": 0
      },
      "text/plain": [
       "  0%|          | 0/70 [00:00<?, ?it/s]"
      ]
     },
     "metadata": {},
     "output_type": "display_data"
    },
    {
     "name": "stderr",
     "output_type": "stream",
     "text": [
      "INFO - 2025-10-17T07:48:07Z - Successfully downloaded to glory_data/glory_1993-05-12.nc\n",
      "INFO - 2025-10-17T07:48:09Z - Selected dataset version: \"202311\"\n",
      "INFO - 2025-10-17T07:48:09Z - Selected dataset part: \"default\"\n",
      "INFO - 2025-10-17T07:48:16Z - Starting download. Please wait...\n"
     ]
    },
    {
     "data": {
      "application/vnd.jupyter.widget-view+json": {
       "model_id": "532bdb4546094d5a8b96ec47846507db",
       "version_major": 2,
       "version_minor": 0
      },
      "text/plain": [
       "  0%|          | 0/70 [00:00<?, ?it/s]"
      ]
     },
     "metadata": {},
     "output_type": "display_data"
    },
    {
     "name": "stderr",
     "output_type": "stream",
     "text": [
      "INFO - 2025-10-17T07:50:35Z - Successfully downloaded to glory_data/glory_1993-05-13.nc\n",
      "INFO - 2025-10-17T07:50:38Z - Selected dataset version: \"202311\"\n",
      "INFO - 2025-10-17T07:50:38Z - Selected dataset part: \"default\"\n",
      "INFO - 2025-10-17T07:50:45Z - Starting download. Please wait...\n"
     ]
    },
    {
     "data": {
      "application/vnd.jupyter.widget-view+json": {
       "model_id": "3038cdff4efb417d878693a123823eeb",
       "version_major": 2,
       "version_minor": 0
      },
      "text/plain": [
       "  0%|          | 0/70 [00:00<?, ?it/s]"
      ]
     },
     "metadata": {},
     "output_type": "display_data"
    },
    {
     "name": "stderr",
     "output_type": "stream",
     "text": [
      "INFO - 2025-10-17T07:52:59Z - Successfully downloaded to glory_data/glory_1993-05-14.nc\n",
      "INFO - 2025-10-17T07:53:01Z - Selected dataset version: \"202311\"\n",
      "INFO - 2025-10-17T07:53:01Z - Selected dataset part: \"default\"\n",
      "INFO - 2025-10-17T07:53:08Z - Starting download. Please wait...\n"
     ]
    },
    {
     "data": {
      "application/vnd.jupyter.widget-view+json": {
       "model_id": "2446e41e3a7f4804aa77bbf0a59f667e",
       "version_major": 2,
       "version_minor": 0
      },
      "text/plain": [
       "  0%|          | 0/70 [00:00<?, ?it/s]"
      ]
     },
     "metadata": {},
     "output_type": "display_data"
    },
    {
     "name": "stderr",
     "output_type": "stream",
     "text": [
      "INFO - 2025-10-17T07:55:26Z - Successfully downloaded to glory_data/glory_1993-05-15.nc\n",
      "INFO - 2025-10-17T07:55:29Z - Selected dataset version: \"202311\"\n",
      "INFO - 2025-10-17T07:55:29Z - Selected dataset part: \"default\"\n",
      "INFO - 2025-10-17T07:55:35Z - Starting download. Please wait...\n"
     ]
    },
    {
     "data": {
      "application/vnd.jupyter.widget-view+json": {
       "model_id": "ffa5805acee143deade10d4af1d3bc20",
       "version_major": 2,
       "version_minor": 0
      },
      "text/plain": [
       "  0%|          | 0/70 [00:00<?, ?it/s]"
      ]
     },
     "metadata": {},
     "output_type": "display_data"
    },
    {
     "name": "stderr",
     "output_type": "stream",
     "text": [
      "INFO - 2025-10-17T07:57:56Z - Successfully downloaded to glory_data/glory_1993-05-16.nc\n",
      "INFO - 2025-10-17T07:57:59Z - Selected dataset version: \"202311\"\n",
      "INFO - 2025-10-17T07:57:59Z - Selected dataset part: \"default\"\n",
      "INFO - 2025-10-17T07:58:05Z - Starting download. Please wait...\n"
     ]
    },
    {
     "data": {
      "application/vnd.jupyter.widget-view+json": {
       "model_id": "b5e10b431182404e9583ebed280a1dd7",
       "version_major": 2,
       "version_minor": 0
      },
      "text/plain": [
       "  0%|          | 0/70 [00:00<?, ?it/s]"
      ]
     },
     "metadata": {},
     "output_type": "display_data"
    },
    {
     "name": "stderr",
     "output_type": "stream",
     "text": [
      "INFO - 2025-10-17T08:00:19Z - Successfully downloaded to glory_data/glory_1993-05-17.nc\n",
      "INFO - 2025-10-17T08:00:22Z - Selected dataset version: \"202311\"\n",
      "INFO - 2025-10-17T08:00:22Z - Selected dataset part: \"default\"\n",
      "INFO - 2025-10-17T08:00:28Z - Starting download. Please wait...\n"
     ]
    },
    {
     "data": {
      "application/vnd.jupyter.widget-view+json": {
       "model_id": "267bffe6c2144e2288f646def8162383",
       "version_major": 2,
       "version_minor": 0
      },
      "text/plain": [
       "  0%|          | 0/70 [00:00<?, ?it/s]"
      ]
     },
     "metadata": {},
     "output_type": "display_data"
    },
    {
     "name": "stderr",
     "output_type": "stream",
     "text": [
      "INFO - 2025-10-17T08:02:44Z - Successfully downloaded to glory_data/glory_1993-05-18.nc\n",
      "INFO - 2025-10-17T08:02:47Z - Selected dataset version: \"202311\"\n",
      "INFO - 2025-10-17T08:02:47Z - Selected dataset part: \"default\"\n",
      "INFO - 2025-10-17T08:02:53Z - Starting download. Please wait...\n"
     ]
    },
    {
     "data": {
      "application/vnd.jupyter.widget-view+json": {
       "model_id": "c574ee635b7545aa90cf6a415f7fcbae",
       "version_major": 2,
       "version_minor": 0
      },
      "text/plain": [
       "  0%|          | 0/70 [00:00<?, ?it/s]"
      ]
     },
     "metadata": {},
     "output_type": "display_data"
    },
    {
     "name": "stderr",
     "output_type": "stream",
     "text": [
      "INFO - 2025-10-17T08:05:12Z - Successfully downloaded to glory_data/glory_1993-05-19.nc\n",
      "INFO - 2025-10-17T08:05:15Z - Selected dataset version: \"202311\"\n",
      "INFO - 2025-10-17T08:05:15Z - Selected dataset part: \"default\"\n",
      "INFO - 2025-10-17T08:05:22Z - Starting download. Please wait...\n"
     ]
    },
    {
     "data": {
      "application/vnd.jupyter.widget-view+json": {
       "model_id": "b890b2fd1ecd402b99ba5870e3aa6609",
       "version_major": 2,
       "version_minor": 0
      },
      "text/plain": [
       "  0%|          | 0/70 [00:00<?, ?it/s]"
      ]
     },
     "metadata": {},
     "output_type": "display_data"
    },
    {
     "name": "stderr",
     "output_type": "stream",
     "text": [
      "INFO - 2025-10-17T08:07:38Z - Successfully downloaded to glory_data/glory_1993-05-20.nc\n",
      "INFO - 2025-10-17T08:07:40Z - Selected dataset version: \"202311\"\n",
      "INFO - 2025-10-17T08:07:40Z - Selected dataset part: \"default\"\n",
      "INFO - 2025-10-17T08:07:46Z - Starting download. Please wait...\n"
     ]
    },
    {
     "data": {
      "application/vnd.jupyter.widget-view+json": {
       "model_id": "0e599a50fbcf439abcb1dfd96d321d6b",
       "version_major": 2,
       "version_minor": 0
      },
      "text/plain": [
       "  0%|          | 0/70 [00:00<?, ?it/s]"
      ]
     },
     "metadata": {},
     "output_type": "display_data"
    },
    {
     "name": "stderr",
     "output_type": "stream",
     "text": [
      "INFO - 2025-10-17T08:10:09Z - Successfully downloaded to glory_data/glory_1993-05-21.nc\n",
      "INFO - 2025-10-17T08:10:11Z - Selected dataset version: \"202311\"\n",
      "INFO - 2025-10-17T08:10:11Z - Selected dataset part: \"default\"\n",
      "INFO - 2025-10-17T08:10:18Z - Starting download. Please wait...\n"
     ]
    },
    {
     "data": {
      "application/vnd.jupyter.widget-view+json": {
       "model_id": "d7d427de56b54c119292f1f8ae3997d7",
       "version_major": 2,
       "version_minor": 0
      },
      "text/plain": [
       "  0%|          | 0/70 [00:00<?, ?it/s]"
      ]
     },
     "metadata": {},
     "output_type": "display_data"
    },
    {
     "name": "stderr",
     "output_type": "stream",
     "text": [
      "INFO - 2025-10-17T08:12:35Z - Successfully downloaded to glory_data/glory_1993-05-22.nc\n",
      "INFO - 2025-10-17T08:12:38Z - Selected dataset version: \"202311\"\n",
      "INFO - 2025-10-17T08:12:38Z - Selected dataset part: \"default\"\n",
      "INFO - 2025-10-17T08:12:44Z - Starting download. Please wait...\n"
     ]
    },
    {
     "data": {
      "application/vnd.jupyter.widget-view+json": {
       "model_id": "4d218871cf754c3587395a7f2203b711",
       "version_major": 2,
       "version_minor": 0
      },
      "text/plain": [
       "  0%|          | 0/70 [00:00<?, ?it/s]"
      ]
     },
     "metadata": {},
     "output_type": "display_data"
    },
    {
     "name": "stderr",
     "output_type": "stream",
     "text": [
      "INFO - 2025-10-17T08:15:10Z - Successfully downloaded to glory_data/glory_1993-05-23.nc\n",
      "INFO - 2025-10-17T08:15:13Z - Selected dataset version: \"202311\"\n",
      "INFO - 2025-10-17T08:15:13Z - Selected dataset part: \"default\"\n",
      "INFO - 2025-10-17T08:15:19Z - Starting download. Please wait...\n"
     ]
    },
    {
     "data": {
      "application/vnd.jupyter.widget-view+json": {
       "model_id": "de77bc3e49d7471697347c50c7434b14",
       "version_major": 2,
       "version_minor": 0
      },
      "text/plain": [
       "  0%|          | 0/70 [00:00<?, ?it/s]"
      ]
     },
     "metadata": {},
     "output_type": "display_data"
    },
    {
     "name": "stderr",
     "output_type": "stream",
     "text": [
      "INFO - 2025-10-17T08:17:48Z - Successfully downloaded to glory_data/glory_1993-05-24.nc\n",
      "INFO - 2025-10-17T08:17:51Z - Selected dataset version: \"202311\"\n",
      "INFO - 2025-10-17T08:17:51Z - Selected dataset part: \"default\"\n",
      "INFO - 2025-10-17T08:17:58Z - Starting download. Please wait...\n"
     ]
    },
    {
     "data": {
      "application/vnd.jupyter.widget-view+json": {
       "model_id": "301b08a567424a4c838499d20c8288ae",
       "version_major": 2,
       "version_minor": 0
      },
      "text/plain": [
       "  0%|          | 0/70 [00:00<?, ?it/s]"
      ]
     },
     "metadata": {},
     "output_type": "display_data"
    },
    {
     "name": "stderr",
     "output_type": "stream",
     "text": [
      "INFO - 2025-10-17T08:20:22Z - Successfully downloaded to glory_data/glory_1993-05-25.nc\n",
      "INFO - 2025-10-17T08:20:25Z - Selected dataset version: \"202311\"\n",
      "INFO - 2025-10-17T08:20:25Z - Selected dataset part: \"default\"\n",
      "INFO - 2025-10-17T08:20:32Z - Starting download. Please wait...\n"
     ]
    },
    {
     "data": {
      "application/vnd.jupyter.widget-view+json": {
       "model_id": "3189b2737da647f3ba7cf9cc6a8a405d",
       "version_major": 2,
       "version_minor": 0
      },
      "text/plain": [
       "  0%|          | 0/70 [00:00<?, ?it/s]"
      ]
     },
     "metadata": {},
     "output_type": "display_data"
    },
    {
     "name": "stderr",
     "output_type": "stream",
     "text": [
      "INFO - 2025-10-17T08:22:59Z - Successfully downloaded to glory_data/glory_1993-05-26.nc\n",
      "INFO - 2025-10-17T08:23:01Z - Selected dataset version: \"202311\"\n",
      "INFO - 2025-10-17T08:23:01Z - Selected dataset part: \"default\"\n",
      "INFO - 2025-10-17T08:23:08Z - Starting download. Please wait...\n"
     ]
    },
    {
     "data": {
      "application/vnd.jupyter.widget-view+json": {
       "model_id": "e6ccb1cc988a4f64b05f8c845bfa26fa",
       "version_major": 2,
       "version_minor": 0
      },
      "text/plain": [
       "  0%|          | 0/70 [00:00<?, ?it/s]"
      ]
     },
     "metadata": {},
     "output_type": "display_data"
    },
    {
     "name": "stderr",
     "output_type": "stream",
     "text": [
      "INFO - 2025-10-17T08:25:24Z - Successfully downloaded to glory_data/glory_1993-05-27.nc\n",
      "INFO - 2025-10-17T08:25:27Z - Selected dataset version: \"202311\"\n",
      "INFO - 2025-10-17T08:25:27Z - Selected dataset part: \"default\"\n",
      "INFO - 2025-10-17T08:25:34Z - Starting download. Please wait...\n"
     ]
    },
    {
     "data": {
      "application/vnd.jupyter.widget-view+json": {
       "model_id": "13236cc44bfd4eacb41a03cac849476b",
       "version_major": 2,
       "version_minor": 0
      },
      "text/plain": [
       "  0%|          | 0/70 [00:00<?, ?it/s]"
      ]
     },
     "metadata": {},
     "output_type": "display_data"
    },
    {
     "name": "stderr",
     "output_type": "stream",
     "text": [
      "INFO - 2025-10-17T08:27:48Z - Successfully downloaded to glory_data/glory_1993-05-28.nc\n",
      "INFO - 2025-10-17T08:27:51Z - Selected dataset version: \"202311\"\n",
      "INFO - 2025-10-17T08:27:51Z - Selected dataset part: \"default\"\n",
      "INFO - 2025-10-17T08:27:57Z - Starting download. Please wait...\n"
     ]
    },
    {
     "data": {
      "application/vnd.jupyter.widget-view+json": {
       "model_id": "a1c3622a530f4e91b790e8840c25f2fa",
       "version_major": 2,
       "version_minor": 0
      },
      "text/plain": [
       "  0%|          | 0/70 [00:00<?, ?it/s]"
      ]
     },
     "metadata": {},
     "output_type": "display_data"
    },
    {
     "name": "stderr",
     "output_type": "stream",
     "text": [
      "INFO - 2025-10-17T08:30:17Z - Successfully downloaded to glory_data/glory_1993-05-29.nc\n",
      "INFO - 2025-10-17T08:30:20Z - Selected dataset version: \"202311\"\n",
      "INFO - 2025-10-17T08:30:20Z - Selected dataset part: \"default\"\n",
      "INFO - 2025-10-17T08:30:26Z - Starting download. Please wait...\n"
     ]
    },
    {
     "data": {
      "application/vnd.jupyter.widget-view+json": {
       "model_id": "bd10ed4ec5e54935bbb9c33615bdcd09",
       "version_major": 2,
       "version_minor": 0
      },
      "text/plain": [
       "  0%|          | 0/70 [00:00<?, ?it/s]"
      ]
     },
     "metadata": {},
     "output_type": "display_data"
    },
    {
     "name": "stderr",
     "output_type": "stream",
     "text": [
      "INFO - 2025-10-17T08:32:50Z - Successfully downloaded to glory_data/glory_1993-05-30.nc\n",
      "INFO - 2025-10-17T08:32:53Z - Selected dataset version: \"202311\"\n",
      "INFO - 2025-10-17T08:32:53Z - Selected dataset part: \"default\"\n",
      "INFO - 2025-10-17T08:33:00Z - Starting download. Please wait...\n"
     ]
    },
    {
     "data": {
      "application/vnd.jupyter.widget-view+json": {
       "model_id": "efdb2467ce6f4153bbe7fbaff90f8482",
       "version_major": 2,
       "version_minor": 0
      },
      "text/plain": [
       "  0%|          | 0/70 [00:00<?, ?it/s]"
      ]
     },
     "metadata": {},
     "output_type": "display_data"
    },
    {
     "name": "stderr",
     "output_type": "stream",
     "text": [
      "INFO - 2025-10-17T08:35:28Z - Successfully downloaded to glory_data/glory_1993-05-31.nc\n",
      "INFO - 2025-10-17T08:35:31Z - Selected dataset version: \"202311\"\n",
      "INFO - 2025-10-17T08:35:31Z - Selected dataset part: \"default\"\n",
      "INFO - 2025-10-17T08:35:37Z - Starting download. Please wait...\n"
     ]
    },
    {
     "data": {
      "application/vnd.jupyter.widget-view+json": {
       "model_id": "94289a05a0da4655a03df2aeba6cae9c",
       "version_major": 2,
       "version_minor": 0
      },
      "text/plain": [
       "  0%|          | 0/70 [00:00<?, ?it/s]"
      ]
     },
     "metadata": {},
     "output_type": "display_data"
    },
    {
     "name": "stderr",
     "output_type": "stream",
     "text": [
      "INFO - 2025-10-17T08:37:54Z - Successfully downloaded to glory_data/glory_1993-06-01.nc\n",
      "INFO - 2025-10-17T08:37:57Z - Selected dataset version: \"202311\"\n",
      "INFO - 2025-10-17T08:37:57Z - Selected dataset part: \"default\"\n",
      "INFO - 2025-10-17T08:38:03Z - Starting download. Please wait...\n"
     ]
    },
    {
     "data": {
      "application/vnd.jupyter.widget-view+json": {
       "model_id": "c6e345f05e4a4ea1a884df5b79853dcf",
       "version_major": 2,
       "version_minor": 0
      },
      "text/plain": [
       "  0%|          | 0/70 [00:00<?, ?it/s]"
      ]
     },
     "metadata": {},
     "output_type": "display_data"
    },
    {
     "name": "stderr",
     "output_type": "stream",
     "text": [
      "INFO - 2025-10-17T08:40:23Z - Successfully downloaded to glory_data/glory_1993-06-02.nc\n",
      "INFO - 2025-10-17T08:40:26Z - Selected dataset version: \"202311\"\n",
      "INFO - 2025-10-17T08:40:26Z - Selected dataset part: \"default\"\n",
      "INFO - 2025-10-17T08:40:34Z - Starting download. Please wait...\n"
     ]
    },
    {
     "data": {
      "application/vnd.jupyter.widget-view+json": {
       "model_id": "557a68f9cd3140cbacf3871ee8a8cf17",
       "version_major": 2,
       "version_minor": 0
      },
      "text/plain": [
       "  0%|          | 0/70 [00:00<?, ?it/s]"
      ]
     },
     "metadata": {},
     "output_type": "display_data"
    },
    {
     "name": "stderr",
     "output_type": "stream",
     "text": [
      "INFO - 2025-10-17T08:42:58Z - Successfully downloaded to glory_data/glory_1993-06-03.nc\n",
      "INFO - 2025-10-17T08:43:03Z - Selected dataset version: \"202311\"\n",
      "INFO - 2025-10-17T08:43:03Z - Selected dataset part: \"default\"\n",
      "INFO - 2025-10-17T08:43:09Z - Starting download. Please wait...\n"
     ]
    },
    {
     "data": {
      "application/vnd.jupyter.widget-view+json": {
       "model_id": "24234147c1e640bb88a28b21dad0cc2c",
       "version_major": 2,
       "version_minor": 0
      },
      "text/plain": [
       "  0%|          | 0/70 [00:00<?, ?it/s]"
      ]
     },
     "metadata": {},
     "output_type": "display_data"
    },
    {
     "name": "stderr",
     "output_type": "stream",
     "text": [
      "INFO - 2025-10-17T08:45:27Z - Successfully downloaded to glory_data/glory_1993-06-04.nc\n",
      "INFO - 2025-10-17T08:45:30Z - Selected dataset version: \"202311\"\n",
      "INFO - 2025-10-17T08:45:30Z - Selected dataset part: \"default\"\n",
      "INFO - 2025-10-17T08:45:37Z - Starting download. Please wait...\n"
     ]
    },
    {
     "data": {
      "application/vnd.jupyter.widget-view+json": {
       "model_id": "2ba564a317404738af1bc606192e30ec",
       "version_major": 2,
       "version_minor": 0
      },
      "text/plain": [
       "  0%|          | 0/70 [00:00<?, ?it/s]"
      ]
     },
     "metadata": {},
     "output_type": "display_data"
    },
    {
     "name": "stderr",
     "output_type": "stream",
     "text": [
      "INFO - 2025-10-17T08:47:56Z - Successfully downloaded to glory_data/glory_1993-06-05.nc\n",
      "INFO - 2025-10-17T08:47:58Z - Selected dataset version: \"202311\"\n",
      "INFO - 2025-10-17T08:47:58Z - Selected dataset part: \"default\"\n",
      "INFO - 2025-10-17T08:48:05Z - Starting download. Please wait...\n"
     ]
    },
    {
     "data": {
      "application/vnd.jupyter.widget-view+json": {
       "model_id": "ed0fd7c590bf40a18dcdbe1eb23fbda0",
       "version_major": 2,
       "version_minor": 0
      },
      "text/plain": [
       "  0%|          | 0/70 [00:00<?, ?it/s]"
      ]
     },
     "metadata": {},
     "output_type": "display_data"
    },
    {
     "name": "stderr",
     "output_type": "stream",
     "text": [
      "INFO - 2025-10-17T08:50:31Z - Successfully downloaded to glory_data/glory_1993-06-06.nc\n",
      "INFO - 2025-10-17T08:50:34Z - Selected dataset version: \"202311\"\n",
      "INFO - 2025-10-17T08:50:34Z - Selected dataset part: \"default\"\n",
      "INFO - 2025-10-17T08:50:41Z - Starting download. Please wait...\n"
     ]
    },
    {
     "data": {
      "application/vnd.jupyter.widget-view+json": {
       "model_id": "8016018658ed4538a9e13a88f92aa034",
       "version_major": 2,
       "version_minor": 0
      },
      "text/plain": [
       "  0%|          | 0/70 [00:00<?, ?it/s]"
      ]
     },
     "metadata": {},
     "output_type": "display_data"
    },
    {
     "name": "stderr",
     "output_type": "stream",
     "text": [
      "INFO - 2025-10-17T08:52:58Z - Successfully downloaded to glory_data/glory_1993-06-07.nc\n",
      "INFO - 2025-10-17T08:53:01Z - Selected dataset version: \"202311\"\n",
      "INFO - 2025-10-17T08:53:01Z - Selected dataset part: \"default\"\n",
      "INFO - 2025-10-17T08:53:07Z - Starting download. Please wait...\n"
     ]
    },
    {
     "data": {
      "application/vnd.jupyter.widget-view+json": {
       "model_id": "bb8bee04607d49869c956a02fad46502",
       "version_major": 2,
       "version_minor": 0
      },
      "text/plain": [
       "  0%|          | 0/70 [00:00<?, ?it/s]"
      ]
     },
     "metadata": {},
     "output_type": "display_data"
    },
    {
     "name": "stderr",
     "output_type": "stream",
     "text": [
      "INFO - 2025-10-17T08:55:21Z - Successfully downloaded to glory_data/glory_1993-06-08.nc\n",
      "INFO - 2025-10-17T08:55:24Z - Selected dataset version: \"202311\"\n",
      "INFO - 2025-10-17T08:55:24Z - Selected dataset part: \"default\"\n",
      "INFO - 2025-10-17T08:55:31Z - Starting download. Please wait...\n"
     ]
    },
    {
     "data": {
      "application/vnd.jupyter.widget-view+json": {
       "model_id": "d0f50c3455284c7189af75d715e2abaa",
       "version_major": 2,
       "version_minor": 0
      },
      "text/plain": [
       "  0%|          | 0/70 [00:00<?, ?it/s]"
      ]
     },
     "metadata": {},
     "output_type": "display_data"
    },
    {
     "name": "stderr",
     "output_type": "stream",
     "text": [
      "INFO - 2025-10-17T08:57:50Z - Successfully downloaded to glory_data/glory_1993-06-09.nc\n",
      "INFO - 2025-10-17T08:57:53Z - Selected dataset version: \"202311\"\n",
      "INFO - 2025-10-17T08:57:53Z - Selected dataset part: \"default\"\n",
      "INFO - 2025-10-17T08:57:59Z - Starting download. Please wait...\n"
     ]
    },
    {
     "data": {
      "application/vnd.jupyter.widget-view+json": {
       "model_id": "237ceab0af4d4bd78dc0b9c0b7c84282",
       "version_major": 2,
       "version_minor": 0
      },
      "text/plain": [
       "  0%|          | 0/70 [00:00<?, ?it/s]"
      ]
     },
     "metadata": {},
     "output_type": "display_data"
    },
    {
     "name": "stderr",
     "output_type": "stream",
     "text": [
      "INFO - 2025-10-17T09:00:26Z - Successfully downloaded to glory_data/glory_1993-06-10.nc\n",
      "INFO - 2025-10-17T09:00:29Z - Selected dataset version: \"202311\"\n",
      "INFO - 2025-10-17T09:00:29Z - Selected dataset part: \"default\"\n",
      "INFO - 2025-10-17T09:00:35Z - Starting download. Please wait...\n"
     ]
    },
    {
     "data": {
      "application/vnd.jupyter.widget-view+json": {
       "model_id": "f4c43146e9c34b23946fc2c8df0c2deb",
       "version_major": 2,
       "version_minor": 0
      },
      "text/plain": [
       "  0%|          | 0/70 [00:00<?, ?it/s]"
      ]
     },
     "metadata": {},
     "output_type": "display_data"
    },
    {
     "name": "stderr",
     "output_type": "stream",
     "text": [
      "INFO - 2025-10-17T09:03:02Z - Successfully downloaded to glory_data/glory_1993-06-11.nc\n",
      "INFO - 2025-10-17T09:03:05Z - Selected dataset version: \"202311\"\n",
      "INFO - 2025-10-17T09:03:05Z - Selected dataset part: \"default\"\n",
      "INFO - 2025-10-17T09:03:12Z - Starting download. Please wait...\n"
     ]
    },
    {
     "data": {
      "application/vnd.jupyter.widget-view+json": {
       "model_id": "bd8856691f73450e88f29f48ed7c3851",
       "version_major": 2,
       "version_minor": 0
      },
      "text/plain": [
       "  0%|          | 0/70 [00:00<?, ?it/s]"
      ]
     },
     "metadata": {},
     "output_type": "display_data"
    },
    {
     "name": "stderr",
     "output_type": "stream",
     "text": [
      "INFO - 2025-10-17T09:05:44Z - Successfully downloaded to glory_data/glory_1993-06-12.nc\n",
      "INFO - 2025-10-17T09:05:47Z - Selected dataset version: \"202311\"\n",
      "INFO - 2025-10-17T09:05:47Z - Selected dataset part: \"default\"\n",
      "INFO - 2025-10-17T09:05:54Z - Starting download. Please wait...\n"
     ]
    },
    {
     "data": {
      "application/vnd.jupyter.widget-view+json": {
       "model_id": "8dc912ab3b444961a75746bb6f1b64f5",
       "version_major": 2,
       "version_minor": 0
      },
      "text/plain": [
       "  0%|          | 0/70 [00:00<?, ?it/s]"
      ]
     },
     "metadata": {},
     "output_type": "display_data"
    },
    {
     "name": "stderr",
     "output_type": "stream",
     "text": [
      "INFO - 2025-10-17T09:08:16Z - Successfully downloaded to glory_data/glory_1993-06-13.nc\n",
      "INFO - 2025-10-17T09:08:19Z - Selected dataset version: \"202311\"\n",
      "INFO - 2025-10-17T09:08:19Z - Selected dataset part: \"default\"\n",
      "INFO - 2025-10-17T09:08:25Z - Starting download. Please wait...\n"
     ]
    },
    {
     "data": {
      "application/vnd.jupyter.widget-view+json": {
       "model_id": "9d4679120ce54e58ba2d53d6e8e21ce3",
       "version_major": 2,
       "version_minor": 0
      },
      "text/plain": [
       "  0%|          | 0/70 [00:00<?, ?it/s]"
      ]
     },
     "metadata": {},
     "output_type": "display_data"
    },
    {
     "name": "stderr",
     "output_type": "stream",
     "text": [
      "INFO - 2025-10-17T09:10:52Z - Successfully downloaded to glory_data/glory_1993-06-14.nc\n",
      "INFO - 2025-10-17T09:10:55Z - Selected dataset version: \"202311\"\n",
      "INFO - 2025-10-17T09:10:55Z - Selected dataset part: \"default\"\n",
      "INFO - 2025-10-17T09:11:01Z - Starting download. Please wait...\n"
     ]
    },
    {
     "data": {
      "application/vnd.jupyter.widget-view+json": {
       "model_id": "55e22e3d4c0a448cbdc34e2f6cbe83a3",
       "version_major": 2,
       "version_minor": 0
      },
      "text/plain": [
       "  0%|          | 0/70 [00:00<?, ?it/s]"
      ]
     },
     "metadata": {},
     "output_type": "display_data"
    },
    {
     "name": "stderr",
     "output_type": "stream",
     "text": [
      "INFO - 2025-10-17T09:13:23Z - Successfully downloaded to glory_data/glory_1993-06-15.nc\n",
      "INFO - 2025-10-17T09:13:26Z - Selected dataset version: \"202311\"\n",
      "INFO - 2025-10-17T09:13:26Z - Selected dataset part: \"default\"\n",
      "INFO - 2025-10-17T09:13:33Z - Starting download. Please wait...\n"
     ]
    },
    {
     "data": {
      "application/vnd.jupyter.widget-view+json": {
       "model_id": "d5163e6462da4328917d8713f00d0e78",
       "version_major": 2,
       "version_minor": 0
      },
      "text/plain": [
       "  0%|          | 0/70 [00:00<?, ?it/s]"
      ]
     },
     "metadata": {},
     "output_type": "display_data"
    },
    {
     "name": "stderr",
     "output_type": "stream",
     "text": [
      "INFO - 2025-10-17T09:15:58Z - Successfully downloaded to glory_data/glory_1993-06-16.nc\n",
      "INFO - 2025-10-17T09:16:01Z - Selected dataset version: \"202311\"\n",
      "INFO - 2025-10-17T09:16:01Z - Selected dataset part: \"default\"\n",
      "INFO - 2025-10-17T09:16:07Z - Starting download. Please wait...\n"
     ]
    },
    {
     "data": {
      "application/vnd.jupyter.widget-view+json": {
       "model_id": "7ae9b261de9b49079e758a41a07b80bf",
       "version_major": 2,
       "version_minor": 0
      },
      "text/plain": [
       "  0%|          | 0/70 [00:00<?, ?it/s]"
      ]
     },
     "metadata": {},
     "output_type": "display_data"
    },
    {
     "name": "stderr",
     "output_type": "stream",
     "text": [
      "INFO - 2025-10-17T09:18:34Z - Successfully downloaded to glory_data/glory_1993-06-17.nc\n",
      "INFO - 2025-10-17T09:18:36Z - Selected dataset version: \"202311\"\n",
      "INFO - 2025-10-17T09:18:36Z - Selected dataset part: \"default\"\n",
      "INFO - 2025-10-17T09:18:43Z - Starting download. Please wait...\n"
     ]
    },
    {
     "data": {
      "application/vnd.jupyter.widget-view+json": {
       "model_id": "8278a65d20464aef8cc879563522fd2f",
       "version_major": 2,
       "version_minor": 0
      },
      "text/plain": [
       "  0%|          | 0/70 [00:00<?, ?it/s]"
      ]
     },
     "metadata": {},
     "output_type": "display_data"
    },
    {
     "name": "stderr",
     "output_type": "stream",
     "text": [
      "INFO - 2025-10-17T09:21:04Z - Successfully downloaded to glory_data/glory_1993-06-18.nc\n",
      "INFO - 2025-10-17T09:21:06Z - Selected dataset version: \"202311\"\n",
      "INFO - 2025-10-17T09:21:06Z - Selected dataset part: \"default\"\n",
      "INFO - 2025-10-17T09:21:13Z - Starting download. Please wait...\n"
     ]
    },
    {
     "data": {
      "application/vnd.jupyter.widget-view+json": {
       "model_id": "52475b9e66f44d7ca00b76821b5e510e",
       "version_major": 2,
       "version_minor": 0
      },
      "text/plain": [
       "  0%|          | 0/70 [00:00<?, ?it/s]"
      ]
     },
     "metadata": {},
     "output_type": "display_data"
    },
    {
     "name": "stderr",
     "output_type": "stream",
     "text": [
      "INFO - 2025-10-17T09:23:28Z - Successfully downloaded to glory_data/glory_1993-06-19.nc\n",
      "INFO - 2025-10-17T09:23:30Z - Selected dataset version: \"202311\"\n",
      "INFO - 2025-10-17T09:23:30Z - Selected dataset part: \"default\"\n",
      "INFO - 2025-10-17T09:23:37Z - Starting download. Please wait...\n"
     ]
    },
    {
     "data": {
      "application/vnd.jupyter.widget-view+json": {
       "model_id": "9520ff314dc543ec81f116230ee18cc5",
       "version_major": 2,
       "version_minor": 0
      },
      "text/plain": [
       "  0%|          | 0/70 [00:00<?, ?it/s]"
      ]
     },
     "metadata": {},
     "output_type": "display_data"
    },
    {
     "name": "stderr",
     "output_type": "stream",
     "text": [
      "INFO - 2025-10-17T09:25:57Z - Successfully downloaded to glory_data/glory_1993-06-20.nc\n",
      "INFO - 2025-10-17T09:26:00Z - Selected dataset version: \"202311\"\n",
      "INFO - 2025-10-17T09:26:00Z - Selected dataset part: \"default\"\n",
      "INFO - 2025-10-17T09:26:07Z - Starting download. Please wait...\n"
     ]
    },
    {
     "data": {
      "application/vnd.jupyter.widget-view+json": {
       "model_id": "c449c5ce5857429b934791087d553339",
       "version_major": 2,
       "version_minor": 0
      },
      "text/plain": [
       "  0%|          | 0/70 [00:00<?, ?it/s]"
      ]
     },
     "metadata": {},
     "output_type": "display_data"
    },
    {
     "name": "stderr",
     "output_type": "stream",
     "text": [
      "INFO - 2025-10-17T09:28:32Z - Successfully downloaded to glory_data/glory_1993-06-21.nc\n",
      "INFO - 2025-10-17T09:28:34Z - Selected dataset version: \"202311\"\n",
      "INFO - 2025-10-17T09:28:34Z - Selected dataset part: \"default\"\n",
      "INFO - 2025-10-17T09:28:41Z - Starting download. Please wait...\n"
     ]
    },
    {
     "data": {
      "application/vnd.jupyter.widget-view+json": {
       "model_id": "a4f0e4fc1745430f91c1460c30b3d95d",
       "version_major": 2,
       "version_minor": 0
      },
      "text/plain": [
       "  0%|          | 0/70 [00:00<?, ?it/s]"
      ]
     },
     "metadata": {},
     "output_type": "display_data"
    },
    {
     "name": "stderr",
     "output_type": "stream",
     "text": [
      "INFO - 2025-10-17T09:31:11Z - Successfully downloaded to glory_data/glory_1993-06-22.nc\n",
      "INFO - 2025-10-17T09:31:13Z - Selected dataset version: \"202311\"\n",
      "INFO - 2025-10-17T09:31:13Z - Selected dataset part: \"default\"\n",
      "INFO - 2025-10-17T09:31:20Z - Starting download. Please wait...\n"
     ]
    },
    {
     "data": {
      "application/vnd.jupyter.widget-view+json": {
       "model_id": "89c2c9647323406bba91871ed5dcf278",
       "version_major": 2,
       "version_minor": 0
      },
      "text/plain": [
       "  0%|          | 0/70 [00:00<?, ?it/s]"
      ]
     },
     "metadata": {},
     "output_type": "display_data"
    },
    {
     "name": "stderr",
     "output_type": "stream",
     "text": [
      "INFO - 2025-10-17T09:33:37Z - Successfully downloaded to glory_data/glory_1993-06-23.nc\n",
      "INFO - 2025-10-17T09:33:39Z - Selected dataset version: \"202311\"\n",
      "INFO - 2025-10-17T09:33:39Z - Selected dataset part: \"default\"\n",
      "INFO - 2025-10-17T09:33:47Z - Starting download. Please wait...\n"
     ]
    },
    {
     "data": {
      "application/vnd.jupyter.widget-view+json": {
       "model_id": "731040a622214c1db44554b4c2f53168",
       "version_major": 2,
       "version_minor": 0
      },
      "text/plain": [
       "  0%|          | 0/70 [00:00<?, ?it/s]"
      ]
     },
     "metadata": {},
     "output_type": "display_data"
    },
    {
     "name": "stderr",
     "output_type": "stream",
     "text": [
      "INFO - 2025-10-17T09:36:13Z - Successfully downloaded to glory_data/glory_1993-06-24.nc\n",
      "INFO - 2025-10-17T09:36:16Z - Selected dataset version: \"202311\"\n",
      "INFO - 2025-10-17T09:36:16Z - Selected dataset part: \"default\"\n",
      "INFO - 2025-10-17T09:36:23Z - Starting download. Please wait...\n"
     ]
    },
    {
     "data": {
      "application/vnd.jupyter.widget-view+json": {
       "model_id": "6bded55a80894768a4c17aea7687a1b2",
       "version_major": 2,
       "version_minor": 0
      },
      "text/plain": [
       "  0%|          | 0/70 [00:00<?, ?it/s]"
      ]
     },
     "metadata": {},
     "output_type": "display_data"
    },
    {
     "name": "stderr",
     "output_type": "stream",
     "text": [
      "INFO - 2025-10-17T09:38:49Z - Successfully downloaded to glory_data/glory_1993-06-25.nc\n",
      "INFO - 2025-10-17T09:38:51Z - Selected dataset version: \"202311\"\n",
      "INFO - 2025-10-17T09:38:51Z - Selected dataset part: \"default\"\n",
      "INFO - 2025-10-17T09:38:58Z - Starting download. Please wait...\n"
     ]
    },
    {
     "data": {
      "application/vnd.jupyter.widget-view+json": {
       "model_id": "b3f72cb19ef4459cb412d8eb9e7893ed",
       "version_major": 2,
       "version_minor": 0
      },
      "text/plain": [
       "  0%|          | 0/70 [00:00<?, ?it/s]"
      ]
     },
     "metadata": {},
     "output_type": "display_data"
    },
    {
     "name": "stderr",
     "output_type": "stream",
     "text": [
      "INFO - 2025-10-17T09:41:14Z - Successfully downloaded to glory_data/glory_1993-06-26.nc\n",
      "INFO - 2025-10-17T09:41:17Z - Selected dataset version: \"202311\"\n",
      "INFO - 2025-10-17T09:41:17Z - Selected dataset part: \"default\"\n",
      "INFO - 2025-10-17T09:41:25Z - Starting download. Please wait...\n"
     ]
    },
    {
     "data": {
      "application/vnd.jupyter.widget-view+json": {
       "model_id": "7dcbc9b1a840446dbe8475e232fcfd69",
       "version_major": 2,
       "version_minor": 0
      },
      "text/plain": [
       "  0%|          | 0/70 [00:00<?, ?it/s]"
      ]
     },
     "metadata": {},
     "output_type": "display_data"
    },
    {
     "name": "stderr",
     "output_type": "stream",
     "text": [
      "INFO - 2025-10-17T09:43:35Z - Successfully downloaded to glory_data/glory_1993-06-27.nc\n",
      "INFO - 2025-10-17T09:43:38Z - Selected dataset version: \"202311\"\n",
      "INFO - 2025-10-17T09:43:38Z - Selected dataset part: \"default\"\n",
      "INFO - 2025-10-17T09:43:44Z - Starting download. Please wait...\n"
     ]
    },
    {
     "data": {
      "application/vnd.jupyter.widget-view+json": {
       "model_id": "0d67db78e68241bca6d7b1553b8ecc3b",
       "version_major": 2,
       "version_minor": 0
      },
      "text/plain": [
       "  0%|          | 0/70 [00:00<?, ?it/s]"
      ]
     },
     "metadata": {},
     "output_type": "display_data"
    },
    {
     "name": "stderr",
     "output_type": "stream",
     "text": [
      "INFO - 2025-10-17T09:46:06Z - Successfully downloaded to glory_data/glory_1993-06-28.nc\n",
      "INFO - 2025-10-17T09:46:09Z - Selected dataset version: \"202311\"\n",
      "INFO - 2025-10-17T09:46:09Z - Selected dataset part: \"default\"\n",
      "INFO - 2025-10-17T09:46:15Z - Starting download. Please wait...\n"
     ]
    },
    {
     "data": {
      "application/vnd.jupyter.widget-view+json": {
       "model_id": "f4365a65873c437c879d432b054d9eb9",
       "version_major": 2,
       "version_minor": 0
      },
      "text/plain": [
       "  0%|          | 0/70 [00:00<?, ?it/s]"
      ]
     },
     "metadata": {},
     "output_type": "display_data"
    },
    {
     "name": "stderr",
     "output_type": "stream",
     "text": [
      "INFO - 2025-10-17T09:48:31Z - Successfully downloaded to glory_data/glory_1993-06-29.nc\n",
      "INFO - 2025-10-17T09:48:34Z - Selected dataset version: \"202311\"\n",
      "INFO - 2025-10-17T09:48:34Z - Selected dataset part: \"default\"\n",
      "INFO - 2025-10-17T09:48:41Z - Starting download. Please wait...\n"
     ]
    },
    {
     "data": {
      "application/vnd.jupyter.widget-view+json": {
       "model_id": "c37e8e459c384214baa3e1674eb8dcd5",
       "version_major": 2,
       "version_minor": 0
      },
      "text/plain": [
       "  0%|          | 0/70 [00:00<?, ?it/s]"
      ]
     },
     "metadata": {},
     "output_type": "display_data"
    },
    {
     "name": "stderr",
     "output_type": "stream",
     "text": [
      "INFO - 2025-10-17T09:51:01Z - Successfully downloaded to glory_data/glory_1993-06-30.nc\n",
      "INFO - 2025-10-17T09:51:04Z - Selected dataset version: \"202311\"\n",
      "INFO - 2025-10-17T09:51:04Z - Selected dataset part: \"default\"\n",
      "INFO - 2025-10-17T09:51:11Z - Starting download. Please wait...\n"
     ]
    },
    {
     "data": {
      "application/vnd.jupyter.widget-view+json": {
       "model_id": "8b57f15971ec44d5b29d34d09eae4d56",
       "version_major": 2,
       "version_minor": 0
      },
      "text/plain": [
       "  0%|          | 0/70 [00:00<?, ?it/s]"
      ]
     },
     "metadata": {},
     "output_type": "display_data"
    },
    {
     "name": "stderr",
     "output_type": "stream",
     "text": [
      "INFO - 2025-10-17T09:53:28Z - Successfully downloaded to glory_data/glory_1993-07-01.nc\n",
      "INFO - 2025-10-17T09:53:31Z - Selected dataset version: \"202311\"\n",
      "INFO - 2025-10-17T09:53:31Z - Selected dataset part: \"default\"\n",
      "INFO - 2025-10-17T09:53:37Z - Starting download. Please wait...\n"
     ]
    },
    {
     "data": {
      "application/vnd.jupyter.widget-view+json": {
       "model_id": "4fb38291a6764d0e874e89ceff93f189",
       "version_major": 2,
       "version_minor": 0
      },
      "text/plain": [
       "  0%|          | 0/70 [00:00<?, ?it/s]"
      ]
     },
     "metadata": {},
     "output_type": "display_data"
    },
    {
     "name": "stderr",
     "output_type": "stream",
     "text": [
      "INFO - 2025-10-17T09:55:59Z - Successfully downloaded to glory_data/glory_1993-07-02.nc\n",
      "INFO - 2025-10-17T09:56:02Z - Selected dataset version: \"202311\"\n",
      "INFO - 2025-10-17T09:56:02Z - Selected dataset part: \"default\"\n",
      "INFO - 2025-10-17T09:56:09Z - Starting download. Please wait...\n"
     ]
    },
    {
     "data": {
      "application/vnd.jupyter.widget-view+json": {
       "model_id": "0f143eddbd4d452ba00590e53c1dd762",
       "version_major": 2,
       "version_minor": 0
      },
      "text/plain": [
       "  0%|          | 0/70 [00:00<?, ?it/s]"
      ]
     },
     "metadata": {},
     "output_type": "display_data"
    },
    {
     "name": "stderr",
     "output_type": "stream",
     "text": [
      "INFO - 2025-10-17T09:58:30Z - Successfully downloaded to glory_data/glory_1993-07-03.nc\n",
      "INFO - 2025-10-17T09:58:32Z - Selected dataset version: \"202311\"\n",
      "INFO - 2025-10-17T09:58:32Z - Selected dataset part: \"default\"\n",
      "INFO - 2025-10-17T09:58:39Z - Starting download. Please wait...\n"
     ]
    },
    {
     "data": {
      "application/vnd.jupyter.widget-view+json": {
       "model_id": "a1606c1a0b634c828eed60560413e4cb",
       "version_major": 2,
       "version_minor": 0
      },
      "text/plain": [
       "  0%|          | 0/70 [00:00<?, ?it/s]"
      ]
     },
     "metadata": {},
     "output_type": "display_data"
    },
    {
     "name": "stderr",
     "output_type": "stream",
     "text": [
      "INFO - 2025-10-17T10:01:01Z - Successfully downloaded to glory_data/glory_1993-07-04.nc\n",
      "INFO - 2025-10-17T10:01:04Z - Selected dataset version: \"202311\"\n",
      "INFO - 2025-10-17T10:01:04Z - Selected dataset part: \"default\"\n",
      "INFO - 2025-10-17T10:01:10Z - Starting download. Please wait...\n"
     ]
    },
    {
     "data": {
      "application/vnd.jupyter.widget-view+json": {
       "model_id": "68b25236974f4a16a1b6cb27f1b6e6db",
       "version_major": 2,
       "version_minor": 0
      },
      "text/plain": [
       "  0%|          | 0/70 [00:00<?, ?it/s]"
      ]
     },
     "metadata": {},
     "output_type": "display_data"
    },
    {
     "name": "stderr",
     "output_type": "stream",
     "text": [
      "INFO - 2025-10-17T10:03:29Z - Successfully downloaded to glory_data/glory_1993-07-05.nc\n",
      "INFO - 2025-10-17T10:03:32Z - Selected dataset version: \"202311\"\n",
      "INFO - 2025-10-17T10:03:32Z - Selected dataset part: \"default\"\n",
      "INFO - 2025-10-17T10:03:40Z - Starting download. Please wait...\n"
     ]
    },
    {
     "data": {
      "application/vnd.jupyter.widget-view+json": {
       "model_id": "a954c469bc864aa5ab7201817a87cf03",
       "version_major": 2,
       "version_minor": 0
      },
      "text/plain": [
       "  0%|          | 0/70 [00:00<?, ?it/s]"
      ]
     },
     "metadata": {},
     "output_type": "display_data"
    },
    {
     "name": "stderr",
     "output_type": "stream",
     "text": [
      "INFO - 2025-10-17T10:06:08Z - Successfully downloaded to glory_data/glory_1993-07-06.nc\n",
      "INFO - 2025-10-17T10:06:11Z - Selected dataset version: \"202311\"\n",
      "INFO - 2025-10-17T10:06:11Z - Selected dataset part: \"default\"\n",
      "INFO - 2025-10-17T10:06:18Z - Starting download. Please wait...\n"
     ]
    },
    {
     "data": {
      "application/vnd.jupyter.widget-view+json": {
       "model_id": "cea10e3635c7449a819f7ffda8a888a4",
       "version_major": 2,
       "version_minor": 0
      },
      "text/plain": [
       "  0%|          | 0/70 [00:00<?, ?it/s]"
      ]
     },
     "metadata": {},
     "output_type": "display_data"
    },
    {
     "name": "stderr",
     "output_type": "stream",
     "text": [
      "INFO - 2025-10-17T10:08:35Z - Successfully downloaded to glory_data/glory_1993-07-07.nc\n",
      "INFO - 2025-10-17T10:08:38Z - Selected dataset version: \"202311\"\n",
      "INFO - 2025-10-17T10:08:38Z - Selected dataset part: \"default\"\n",
      "INFO - 2025-10-17T10:08:45Z - Starting download. Please wait...\n"
     ]
    },
    {
     "data": {
      "application/vnd.jupyter.widget-view+json": {
       "model_id": "167bf58700b748b38752dbab8039e2ac",
       "version_major": 2,
       "version_minor": 0
      },
      "text/plain": [
       "  0%|          | 0/70 [00:00<?, ?it/s]"
      ]
     },
     "metadata": {},
     "output_type": "display_data"
    },
    {
     "name": "stderr",
     "output_type": "stream",
     "text": [
      "INFO - 2025-10-17T10:11:11Z - Successfully downloaded to glory_data/glory_1993-07-08.nc\n",
      "INFO - 2025-10-17T10:11:14Z - Selected dataset version: \"202311\"\n",
      "INFO - 2025-10-17T10:11:14Z - Selected dataset part: \"default\"\n",
      "INFO - 2025-10-17T10:11:22Z - Starting download. Please wait...\n"
     ]
    },
    {
     "data": {
      "application/vnd.jupyter.widget-view+json": {
       "model_id": "f3ec67dc27814d2f88896d6a4f6930b9",
       "version_major": 2,
       "version_minor": 0
      },
      "text/plain": [
       "  0%|          | 0/70 [00:00<?, ?it/s]"
      ]
     },
     "metadata": {},
     "output_type": "display_data"
    },
    {
     "name": "stderr",
     "output_type": "stream",
     "text": [
      "INFO - 2025-10-17T10:13:40Z - Successfully downloaded to glory_data/glory_1993-07-09.nc\n",
      "INFO - 2025-10-17T10:13:42Z - Selected dataset version: \"202311\"\n",
      "INFO - 2025-10-17T10:13:42Z - Selected dataset part: \"default\"\n",
      "INFO - 2025-10-17T10:13:49Z - Starting download. Please wait...\n"
     ]
    },
    {
     "data": {
      "application/vnd.jupyter.widget-view+json": {
       "model_id": "290a66188a264258be6e8c6ecd329fdd",
       "version_major": 2,
       "version_minor": 0
      },
      "text/plain": [
       "  0%|          | 0/70 [00:00<?, ?it/s]"
      ]
     },
     "metadata": {},
     "output_type": "display_data"
    },
    {
     "name": "stderr",
     "output_type": "stream",
     "text": [
      "INFO - 2025-10-17T10:16:17Z - Successfully downloaded to glory_data/glory_1993-07-10.nc\n",
      "INFO - 2025-10-17T10:16:19Z - Selected dataset version: \"202311\"\n",
      "INFO - 2025-10-17T10:16:19Z - Selected dataset part: \"default\"\n",
      "INFO - 2025-10-17T10:16:26Z - Starting download. Please wait...\n"
     ]
    },
    {
     "data": {
      "application/vnd.jupyter.widget-view+json": {
       "model_id": "32ec5b5ee9074b1694607f663cb155a5",
       "version_major": 2,
       "version_minor": 0
      },
      "text/plain": [
       "  0%|          | 0/70 [00:00<?, ?it/s]"
      ]
     },
     "metadata": {},
     "output_type": "display_data"
    },
    {
     "name": "stderr",
     "output_type": "stream",
     "text": [
      "INFO - 2025-10-17T10:18:45Z - Successfully downloaded to glory_data/glory_1993-07-11.nc\n",
      "INFO - 2025-10-17T10:18:47Z - Selected dataset version: \"202311\"\n",
      "INFO - 2025-10-17T10:18:47Z - Selected dataset part: \"default\"\n",
      "INFO - 2025-10-17T10:18:55Z - Starting download. Please wait...\n"
     ]
    },
    {
     "data": {
      "application/vnd.jupyter.widget-view+json": {
       "model_id": "83ea247132fe411c92044c9a7649a405",
       "version_major": 2,
       "version_minor": 0
      },
      "text/plain": [
       "  0%|          | 0/70 [00:00<?, ?it/s]"
      ]
     },
     "metadata": {},
     "output_type": "display_data"
    },
    {
     "name": "stderr",
     "output_type": "stream",
     "text": [
      "INFO - 2025-10-17T10:21:17Z - Successfully downloaded to glory_data/glory_1993-07-12.nc\n",
      "INFO - 2025-10-17T10:21:20Z - Selected dataset version: \"202311\"\n",
      "INFO - 2025-10-17T10:21:20Z - Selected dataset part: \"default\"\n",
      "INFO - 2025-10-17T10:21:27Z - Starting download. Please wait...\n"
     ]
    },
    {
     "data": {
      "application/vnd.jupyter.widget-view+json": {
       "model_id": "ee8123c2b88c4610ac0523119cb9a8c8",
       "version_major": 2,
       "version_minor": 0
      },
      "text/plain": [
       "  0%|          | 0/70 [00:00<?, ?it/s]"
      ]
     },
     "metadata": {},
     "output_type": "display_data"
    },
    {
     "name": "stderr",
     "output_type": "stream",
     "text": [
      "INFO - 2025-10-17T10:23:50Z - Successfully downloaded to glory_data/glory_1993-07-13.nc\n",
      "INFO - 2025-10-17T10:23:53Z - Selected dataset version: \"202311\"\n",
      "INFO - 2025-10-17T10:23:53Z - Selected dataset part: \"default\"\n",
      "INFO - 2025-10-17T10:23:59Z - Starting download. Please wait...\n"
     ]
    },
    {
     "data": {
      "application/vnd.jupyter.widget-view+json": {
       "model_id": "3716f8ed3dd64b7ea56ea959f8dd89f9",
       "version_major": 2,
       "version_minor": 0
      },
      "text/plain": [
       "  0%|          | 0/70 [00:00<?, ?it/s]"
      ]
     },
     "metadata": {},
     "output_type": "display_data"
    },
    {
     "name": "stderr",
     "output_type": "stream",
     "text": [
      "INFO - 2025-10-17T10:26:26Z - Successfully downloaded to glory_data/glory_1993-07-14.nc\n",
      "INFO - 2025-10-17T10:26:29Z - Selected dataset version: \"202311\"\n",
      "INFO - 2025-10-17T10:26:29Z - Selected dataset part: \"default\"\n",
      "INFO - 2025-10-17T10:26:36Z - Starting download. Please wait...\n"
     ]
    },
    {
     "data": {
      "application/vnd.jupyter.widget-view+json": {
       "model_id": "cf513276a73a449b8fe12120567d7f3b",
       "version_major": 2,
       "version_minor": 0
      },
      "text/plain": [
       "  0%|          | 0/70 [00:00<?, ?it/s]"
      ]
     },
     "metadata": {},
     "output_type": "display_data"
    },
    {
     "name": "stderr",
     "output_type": "stream",
     "text": [
      "INFO - 2025-10-17T10:28:57Z - Successfully downloaded to glory_data/glory_1993-07-15.nc\n",
      "INFO - 2025-10-17T10:28:59Z - Selected dataset version: \"202311\"\n",
      "INFO - 2025-10-17T10:28:59Z - Selected dataset part: \"default\"\n",
      "INFO - 2025-10-17T10:29:06Z - Starting download. Please wait...\n"
     ]
    },
    {
     "data": {
      "application/vnd.jupyter.widget-view+json": {
       "model_id": "bfb4af03666a4112bb76ceee582e0a2a",
       "version_major": 2,
       "version_minor": 0
      },
      "text/plain": [
       "  0%|          | 0/70 [00:00<?, ?it/s]"
      ]
     },
     "metadata": {},
     "output_type": "display_data"
    },
    {
     "name": "stderr",
     "output_type": "stream",
     "text": [
      "INFO - 2025-10-17T10:31:25Z - Successfully downloaded to glory_data/glory_1993-07-16.nc\n",
      "INFO - 2025-10-17T10:31:28Z - Selected dataset version: \"202311\"\n",
      "INFO - 2025-10-17T10:31:28Z - Selected dataset part: \"default\"\n",
      "INFO - 2025-10-17T10:31:34Z - Starting download. Please wait...\n"
     ]
    },
    {
     "data": {
      "application/vnd.jupyter.widget-view+json": {
       "model_id": "f0880ebb2d0f49e1a4d0a51bd20d01ff",
       "version_major": 2,
       "version_minor": 0
      },
      "text/plain": [
       "  0%|          | 0/70 [00:00<?, ?it/s]"
      ]
     },
     "metadata": {},
     "output_type": "display_data"
    },
    {
     "name": "stderr",
     "output_type": "stream",
     "text": [
      "INFO - 2025-10-17T10:33:49Z - Successfully downloaded to glory_data/glory_1993-07-17.nc\n",
      "INFO - 2025-10-17T10:33:52Z - Selected dataset version: \"202311\"\n",
      "INFO - 2025-10-17T10:33:52Z - Selected dataset part: \"default\"\n",
      "INFO - 2025-10-17T10:33:59Z - Starting download. Please wait...\n"
     ]
    },
    {
     "data": {
      "application/vnd.jupyter.widget-view+json": {
       "model_id": "53cb94cf6bb046e88ab179860073dd86",
       "version_major": 2,
       "version_minor": 0
      },
      "text/plain": [
       "  0%|          | 0/70 [00:00<?, ?it/s]"
      ]
     },
     "metadata": {},
     "output_type": "display_data"
    },
    {
     "name": "stderr",
     "output_type": "stream",
     "text": [
      "INFO - 2025-10-17T10:36:25Z - Successfully downloaded to glory_data/glory_1993-07-18.nc\n",
      "INFO - 2025-10-17T10:36:28Z - Selected dataset version: \"202311\"\n",
      "INFO - 2025-10-17T10:36:28Z - Selected dataset part: \"default\"\n",
      "INFO - 2025-10-17T10:36:34Z - Starting download. Please wait...\n"
     ]
    },
    {
     "data": {
      "application/vnd.jupyter.widget-view+json": {
       "model_id": "fa067465804c42d9aaa641fa17073944",
       "version_major": 2,
       "version_minor": 0
      },
      "text/plain": [
       "  0%|          | 0/70 [00:00<?, ?it/s]"
      ]
     },
     "metadata": {},
     "output_type": "display_data"
    },
    {
     "name": "stderr",
     "output_type": "stream",
     "text": [
      "INFO - 2025-10-17T10:38:48Z - Successfully downloaded to glory_data/glory_1993-07-19.nc\n",
      "INFO - 2025-10-17T10:38:51Z - Selected dataset version: \"202311\"\n",
      "INFO - 2025-10-17T10:38:51Z - Selected dataset part: \"default\"\n",
      "INFO - 2025-10-17T10:38:58Z - Starting download. Please wait...\n"
     ]
    },
    {
     "data": {
      "application/vnd.jupyter.widget-view+json": {
       "model_id": "e6a1fed7a0eb42358a35c85cbe326b9e",
       "version_major": 2,
       "version_minor": 0
      },
      "text/plain": [
       "  0%|          | 0/70 [00:00<?, ?it/s]"
      ]
     },
     "metadata": {},
     "output_type": "display_data"
    },
    {
     "name": "stderr",
     "output_type": "stream",
     "text": [
      "INFO - 2025-10-17T10:41:25Z - Successfully downloaded to glory_data/glory_1993-07-20.nc\n",
      "INFO - 2025-10-17T10:41:28Z - Selected dataset version: \"202311\"\n",
      "INFO - 2025-10-17T10:41:28Z - Selected dataset part: \"default\"\n",
      "INFO - 2025-10-17T10:41:35Z - Starting download. Please wait...\n"
     ]
    },
    {
     "data": {
      "application/vnd.jupyter.widget-view+json": {
       "model_id": "16dc017990004d3eac1b5084de3c48a4",
       "version_major": 2,
       "version_minor": 0
      },
      "text/plain": [
       "  0%|          | 0/70 [00:00<?, ?it/s]"
      ]
     },
     "metadata": {},
     "output_type": "display_data"
    },
    {
     "name": "stderr",
     "output_type": "stream",
     "text": [
      "INFO - 2025-10-17T10:44:02Z - Successfully downloaded to glory_data/glory_1993-07-21.nc\n",
      "INFO - 2025-10-17T10:44:05Z - Selected dataset version: \"202311\"\n",
      "INFO - 2025-10-17T10:44:05Z - Selected dataset part: \"default\"\n",
      "INFO - 2025-10-17T10:44:11Z - Starting download. Please wait...\n"
     ]
    },
    {
     "data": {
      "application/vnd.jupyter.widget-view+json": {
       "model_id": "c4b92d01eed54f85a8433f64aaf15cea",
       "version_major": 2,
       "version_minor": 0
      },
      "text/plain": [
       "  0%|          | 0/70 [00:00<?, ?it/s]"
      ]
     },
     "metadata": {},
     "output_type": "display_data"
    },
    {
     "name": "stderr",
     "output_type": "stream",
     "text": [
      "INFO - 2025-10-17T10:46:41Z - Successfully downloaded to glory_data/glory_1993-07-22.nc\n",
      "INFO - 2025-10-17T10:46:44Z - Selected dataset version: \"202311\"\n",
      "INFO - 2025-10-17T10:46:44Z - Selected dataset part: \"default\"\n",
      "INFO - 2025-10-17T10:46:51Z - Starting download. Please wait...\n"
     ]
    },
    {
     "data": {
      "application/vnd.jupyter.widget-view+json": {
       "model_id": "2513f02c707544b2b16455a0ac609b1e",
       "version_major": 2,
       "version_minor": 0
      },
      "text/plain": [
       "  0%|          | 0/70 [00:00<?, ?it/s]"
      ]
     },
     "metadata": {},
     "output_type": "display_data"
    },
    {
     "name": "stderr",
     "output_type": "stream",
     "text": [
      "INFO - 2025-10-17T10:49:20Z - Successfully downloaded to glory_data/glory_1993-07-23.nc\n",
      "INFO - 2025-10-17T10:49:23Z - Selected dataset version: \"202311\"\n",
      "INFO - 2025-10-17T10:49:23Z - Selected dataset part: \"default\"\n",
      "INFO - 2025-10-17T10:49:31Z - Starting download. Please wait...\n"
     ]
    },
    {
     "data": {
      "application/vnd.jupyter.widget-view+json": {
       "model_id": "f29bf8d94091496b9e1f3db1458dcce0",
       "version_major": 2,
       "version_minor": 0
      },
      "text/plain": [
       "  0%|          | 0/70 [00:00<?, ?it/s]"
      ]
     },
     "metadata": {},
     "output_type": "display_data"
    },
    {
     "name": "stderr",
     "output_type": "stream",
     "text": [
      "INFO - 2025-10-17T10:51:51Z - Successfully downloaded to glory_data/glory_1993-07-24.nc\n",
      "INFO - 2025-10-17T10:51:53Z - Selected dataset version: \"202311\"\n",
      "INFO - 2025-10-17T10:51:53Z - Selected dataset part: \"default\"\n",
      "INFO - 2025-10-17T10:52:00Z - Starting download. Please wait...\n"
     ]
    },
    {
     "data": {
      "application/vnd.jupyter.widget-view+json": {
       "model_id": "2cb94210fbe3482cbdfbef502a1f5355",
       "version_major": 2,
       "version_minor": 0
      },
      "text/plain": [
       "  0%|          | 0/70 [00:00<?, ?it/s]"
      ]
     },
     "metadata": {},
     "output_type": "display_data"
    },
    {
     "name": "stderr",
     "output_type": "stream",
     "text": [
      "INFO - 2025-10-17T10:54:22Z - Successfully downloaded to glory_data/glory_1993-07-25.nc\n",
      "INFO - 2025-10-17T10:54:25Z - Selected dataset version: \"202311\"\n",
      "INFO - 2025-10-17T10:54:25Z - Selected dataset part: \"default\"\n",
      "INFO - 2025-10-17T10:54:31Z - Starting download. Please wait...\n"
     ]
    },
    {
     "data": {
      "application/vnd.jupyter.widget-view+json": {
       "model_id": "015bc4e08608474ba0b0685de77648ae",
       "version_major": 2,
       "version_minor": 0
      },
      "text/plain": [
       "  0%|          | 0/70 [00:00<?, ?it/s]"
      ]
     },
     "metadata": {},
     "output_type": "display_data"
    },
    {
     "name": "stderr",
     "output_type": "stream",
     "text": [
      "INFO - 2025-10-17T10:56:49Z - Successfully downloaded to glory_data/glory_1993-07-26.nc\n",
      "INFO - 2025-10-17T10:56:51Z - Selected dataset version: \"202311\"\n",
      "INFO - 2025-10-17T10:56:51Z - Selected dataset part: \"default\"\n",
      "INFO - 2025-10-17T10:56:58Z - Starting download. Please wait...\n"
     ]
    },
    {
     "data": {
      "application/vnd.jupyter.widget-view+json": {
       "model_id": "e9dd0277375047f2baf66240dad74947",
       "version_major": 2,
       "version_minor": 0
      },
      "text/plain": [
       "  0%|          | 0/70 [00:00<?, ?it/s]"
      ]
     },
     "metadata": {},
     "output_type": "display_data"
    },
    {
     "name": "stderr",
     "output_type": "stream",
     "text": [
      "INFO - 2025-10-17T10:59:20Z - Successfully downloaded to glory_data/glory_1993-07-27.nc\n",
      "INFO - 2025-10-17T10:59:22Z - Selected dataset version: \"202311\"\n",
      "INFO - 2025-10-17T10:59:22Z - Selected dataset part: \"default\"\n",
      "INFO - 2025-10-17T10:59:29Z - Starting download. Please wait...\n"
     ]
    },
    {
     "data": {
      "application/vnd.jupyter.widget-view+json": {
       "model_id": "9e797449e95c493d9ea7b8280555ea4a",
       "version_major": 2,
       "version_minor": 0
      },
      "text/plain": [
       "  0%|          | 0/70 [00:00<?, ?it/s]"
      ]
     },
     "metadata": {},
     "output_type": "display_data"
    },
    {
     "name": "stderr",
     "output_type": "stream",
     "text": [
      "INFO - 2025-10-17T11:01:54Z - Successfully downloaded to glory_data/glory_1993-07-28.nc\n",
      "INFO - 2025-10-17T11:01:57Z - Selected dataset version: \"202311\"\n",
      "INFO - 2025-10-17T11:01:57Z - Selected dataset part: \"default\"\n",
      "INFO - 2025-10-17T11:02:04Z - Starting download. Please wait...\n"
     ]
    },
    {
     "data": {
      "application/vnd.jupyter.widget-view+json": {
       "model_id": "c7a29ad1c0e84b858cde87017c69e6fe",
       "version_major": 2,
       "version_minor": 0
      },
      "text/plain": [
       "  0%|          | 0/70 [00:00<?, ?it/s]"
      ]
     },
     "metadata": {},
     "output_type": "display_data"
    },
    {
     "name": "stderr",
     "output_type": "stream",
     "text": [
      "INFO - 2025-10-17T11:04:30Z - Successfully downloaded to glory_data/glory_1993-07-29.nc\n",
      "INFO - 2025-10-17T11:04:33Z - Selected dataset version: \"202311\"\n",
      "INFO - 2025-10-17T11:04:33Z - Selected dataset part: \"default\"\n",
      "INFO - 2025-10-17T11:04:41Z - Starting download. Please wait...\n"
     ]
    },
    {
     "data": {
      "application/vnd.jupyter.widget-view+json": {
       "model_id": "df77e7192f0d4a9296f35ac1a8dc0f55",
       "version_major": 2,
       "version_minor": 0
      },
      "text/plain": [
       "  0%|          | 0/70 [00:00<?, ?it/s]"
      ]
     },
     "metadata": {},
     "output_type": "display_data"
    },
    {
     "name": "stderr",
     "output_type": "stream",
     "text": [
      "INFO - 2025-10-17T11:07:07Z - Successfully downloaded to glory_data/glory_1993-07-30.nc\n",
      "INFO - 2025-10-17T11:07:09Z - Selected dataset version: \"202311\"\n",
      "INFO - 2025-10-17T11:07:09Z - Selected dataset part: \"default\"\n",
      "INFO - 2025-10-17T11:07:16Z - Starting download. Please wait...\n"
     ]
    },
    {
     "data": {
      "application/vnd.jupyter.widget-view+json": {
       "model_id": "e97b78cf8b934cc28369fbc519dd4528",
       "version_major": 2,
       "version_minor": 0
      },
      "text/plain": [
       "  0%|          | 0/70 [00:00<?, ?it/s]"
      ]
     },
     "metadata": {},
     "output_type": "display_data"
    },
    {
     "name": "stderr",
     "output_type": "stream",
     "text": [
      "INFO - 2025-10-17T11:09:44Z - Successfully downloaded to glory_data/glory_1993-07-31.nc\n",
      "INFO - 2025-10-17T11:09:47Z - Selected dataset version: \"202311\"\n",
      "INFO - 2025-10-17T11:09:47Z - Selected dataset part: \"default\"\n",
      "INFO - 2025-10-17T11:09:53Z - Starting download. Please wait...\n"
     ]
    },
    {
     "data": {
      "application/vnd.jupyter.widget-view+json": {
       "model_id": "30d04dbae3b3446b9cc855acd8cbfbea",
       "version_major": 2,
       "version_minor": 0
      },
      "text/plain": [
       "  0%|          | 0/70 [00:00<?, ?it/s]"
      ]
     },
     "metadata": {},
     "output_type": "display_data"
    },
    {
     "name": "stderr",
     "output_type": "stream",
     "text": [
      "INFO - 2025-10-17T11:12:14Z - Successfully downloaded to glory_data/glory_1993-08-01.nc\n",
      "INFO - 2025-10-17T11:12:16Z - Selected dataset version: \"202311\"\n",
      "INFO - 2025-10-17T11:12:16Z - Selected dataset part: \"default\"\n",
      "INFO - 2025-10-17T11:12:23Z - Starting download. Please wait...\n"
     ]
    },
    {
     "data": {
      "application/vnd.jupyter.widget-view+json": {
       "model_id": "577a81f0a9574f9fafcd6b26ec7c5869",
       "version_major": 2,
       "version_minor": 0
      },
      "text/plain": [
       "  0%|          | 0/70 [00:00<?, ?it/s]"
      ]
     },
     "metadata": {},
     "output_type": "display_data"
    },
    {
     "name": "stderr",
     "output_type": "stream",
     "text": [
      "INFO - 2025-10-17T11:14:37Z - Successfully downloaded to glory_data/glory_1993-08-02.nc\n",
      "INFO - 2025-10-17T11:14:40Z - Selected dataset version: \"202311\"\n",
      "INFO - 2025-10-17T11:14:40Z - Selected dataset part: \"default\"\n",
      "INFO - 2025-10-17T11:14:47Z - Starting download. Please wait...\n"
     ]
    },
    {
     "data": {
      "application/vnd.jupyter.widget-view+json": {
       "model_id": "a04aa0c8074f4dedb88441d05e8a2ef0",
       "version_major": 2,
       "version_minor": 0
      },
      "text/plain": [
       "  0%|          | 0/70 [00:00<?, ?it/s]"
      ]
     },
     "metadata": {},
     "output_type": "display_data"
    },
    {
     "name": "stderr",
     "output_type": "stream",
     "text": [
      "INFO - 2025-10-17T11:16:57Z - Successfully downloaded to glory_data/glory_1993-08-03.nc\n",
      "INFO - 2025-10-17T11:16:59Z - Selected dataset version: \"202311\"\n",
      "INFO - 2025-10-17T11:16:59Z - Selected dataset part: \"default\"\n",
      "INFO - 2025-10-17T11:17:06Z - Starting download. Please wait...\n"
     ]
    },
    {
     "data": {
      "application/vnd.jupyter.widget-view+json": {
       "model_id": "d1394e9e618c488a8c8b671f57a3d951",
       "version_major": 2,
       "version_minor": 0
      },
      "text/plain": [
       "  0%|          | 0/70 [00:00<?, ?it/s]"
      ]
     },
     "metadata": {},
     "output_type": "display_data"
    },
    {
     "name": "stderr",
     "output_type": "stream",
     "text": [
      "INFO - 2025-10-17T11:19:31Z - Successfully downloaded to glory_data/glory_1993-08-04.nc\n",
      "INFO - 2025-10-17T11:19:33Z - Selected dataset version: \"202311\"\n",
      "INFO - 2025-10-17T11:19:33Z - Selected dataset part: \"default\"\n",
      "INFO - 2025-10-17T11:19:41Z - Starting download. Please wait...\n"
     ]
    },
    {
     "data": {
      "application/vnd.jupyter.widget-view+json": {
       "model_id": "278d5de0b44d4db7a24da4f71cd4cbaa",
       "version_major": 2,
       "version_minor": 0
      },
      "text/plain": [
       "  0%|          | 0/70 [00:00<?, ?it/s]"
      ]
     },
     "metadata": {},
     "output_type": "display_data"
    },
    {
     "name": "stderr",
     "output_type": "stream",
     "text": [
      "INFO - 2025-10-17T11:22:06Z - Successfully downloaded to glory_data/glory_1993-08-05.nc\n",
      "INFO - 2025-10-17T11:22:09Z - Selected dataset version: \"202311\"\n",
      "INFO - 2025-10-17T11:22:09Z - Selected dataset part: \"default\"\n",
      "INFO - 2025-10-17T11:22:16Z - Starting download. Please wait...\n"
     ]
    },
    {
     "data": {
      "application/vnd.jupyter.widget-view+json": {
       "model_id": "1647974a44a14794a070cbd720f3fb36",
       "version_major": 2,
       "version_minor": 0
      },
      "text/plain": [
       "  0%|          | 0/70 [00:00<?, ?it/s]"
      ]
     },
     "metadata": {},
     "output_type": "display_data"
    },
    {
     "name": "stderr",
     "output_type": "stream",
     "text": [
      "INFO - 2025-10-17T11:24:35Z - Successfully downloaded to glory_data/glory_1993-08-06.nc\n",
      "INFO - 2025-10-17T11:24:38Z - Selected dataset version: \"202311\"\n",
      "INFO - 2025-10-17T11:24:38Z - Selected dataset part: \"default\"\n",
      "INFO - 2025-10-17T11:24:44Z - Starting download. Please wait...\n"
     ]
    },
    {
     "data": {
      "application/vnd.jupyter.widget-view+json": {
       "model_id": "f6ce381952c745fba06d101814536198",
       "version_major": 2,
       "version_minor": 0
      },
      "text/plain": [
       "  0%|          | 0/70 [00:00<?, ?it/s]"
      ]
     },
     "metadata": {},
     "output_type": "display_data"
    },
    {
     "name": "stderr",
     "output_type": "stream",
     "text": [
      "INFO - 2025-10-17T11:27:08Z - Successfully downloaded to glory_data/glory_1993-08-07.nc\n",
      "INFO - 2025-10-17T11:27:10Z - Selected dataset version: \"202311\"\n",
      "INFO - 2025-10-17T11:27:10Z - Selected dataset part: \"default\"\n",
      "INFO - 2025-10-17T11:27:18Z - Starting download. Please wait...\n"
     ]
    },
    {
     "data": {
      "application/vnd.jupyter.widget-view+json": {
       "model_id": "76f159c8e8e84bd7b229a6b69c3afe08",
       "version_major": 2,
       "version_minor": 0
      },
      "text/plain": [
       "  0%|          | 0/70 [00:00<?, ?it/s]"
      ]
     },
     "metadata": {},
     "output_type": "display_data"
    },
    {
     "name": "stderr",
     "output_type": "stream",
     "text": [
      "INFO - 2025-10-17T11:29:39Z - Successfully downloaded to glory_data/glory_1993-08-08.nc\n",
      "INFO - 2025-10-17T11:29:42Z - Selected dataset version: \"202311\"\n",
      "INFO - 2025-10-17T11:29:42Z - Selected dataset part: \"default\"\n",
      "INFO - 2025-10-17T11:29:49Z - Starting download. Please wait...\n"
     ]
    },
    {
     "data": {
      "application/vnd.jupyter.widget-view+json": {
       "model_id": "43bdc30d23f1437199e99def88ce818f",
       "version_major": 2,
       "version_minor": 0
      },
      "text/plain": [
       "  0%|          | 0/70 [00:00<?, ?it/s]"
      ]
     },
     "metadata": {},
     "output_type": "display_data"
    },
    {
     "name": "stderr",
     "output_type": "stream",
     "text": [
      "INFO - 2025-10-17T11:32:08Z - Successfully downloaded to glory_data/glory_1993-08-09.nc\n",
      "INFO - 2025-10-17T11:32:10Z - Selected dataset version: \"202311\"\n",
      "INFO - 2025-10-17T11:32:10Z - Selected dataset part: \"default\"\n",
      "INFO - 2025-10-17T11:32:17Z - Starting download. Please wait...\n"
     ]
    },
    {
     "data": {
      "application/vnd.jupyter.widget-view+json": {
       "model_id": "c750dabb290a4fb99737c03384d446b3",
       "version_major": 2,
       "version_minor": 0
      },
      "text/plain": [
       "  0%|          | 0/70 [00:00<?, ?it/s]"
      ]
     },
     "metadata": {},
     "output_type": "display_data"
    },
    {
     "name": "stderr",
     "output_type": "stream",
     "text": [
      "INFO - 2025-10-17T11:34:35Z - Successfully downloaded to glory_data/glory_1993-08-10.nc\n",
      "INFO - 2025-10-17T11:34:38Z - Selected dataset version: \"202311\"\n",
      "INFO - 2025-10-17T11:34:38Z - Selected dataset part: \"default\"\n",
      "INFO - 2025-10-17T11:34:46Z - Starting download. Please wait...\n"
     ]
    },
    {
     "data": {
      "application/vnd.jupyter.widget-view+json": {
       "model_id": "21d7e0cb468d4f87b4142e7c2225595b",
       "version_major": 2,
       "version_minor": 0
      },
      "text/plain": [
       "  0%|          | 0/70 [00:00<?, ?it/s]"
      ]
     },
     "metadata": {},
     "output_type": "display_data"
    },
    {
     "name": "stderr",
     "output_type": "stream",
     "text": [
      "INFO - 2025-10-17T11:37:09Z - Successfully downloaded to glory_data/glory_1993-08-11.nc\n",
      "INFO - 2025-10-17T11:37:12Z - Selected dataset version: \"202311\"\n",
      "INFO - 2025-10-17T11:37:12Z - Selected dataset part: \"default\"\n",
      "INFO - 2025-10-17T11:37:19Z - Starting download. Please wait...\n"
     ]
    },
    {
     "data": {
      "application/vnd.jupyter.widget-view+json": {
       "model_id": "52a7841224754da4b3f1d3e458de98ab",
       "version_major": 2,
       "version_minor": 0
      },
      "text/plain": [
       "  0%|          | 0/70 [00:00<?, ?it/s]"
      ]
     },
     "metadata": {},
     "output_type": "display_data"
    },
    {
     "name": "stderr",
     "output_type": "stream",
     "text": [
      "INFO - 2025-10-17T11:39:37Z - Successfully downloaded to glory_data/glory_1993-08-12.nc\n",
      "INFO - 2025-10-17T11:39:39Z - Selected dataset version: \"202311\"\n",
      "INFO - 2025-10-17T11:39:39Z - Selected dataset part: \"default\"\n",
      "INFO - 2025-10-17T11:39:46Z - Starting download. Please wait...\n"
     ]
    },
    {
     "data": {
      "application/vnd.jupyter.widget-view+json": {
       "model_id": "e9c4c13e6d654a74bfb3b50de3f13019",
       "version_major": 2,
       "version_minor": 0
      },
      "text/plain": [
       "  0%|          | 0/70 [00:00<?, ?it/s]"
      ]
     },
     "metadata": {},
     "output_type": "display_data"
    },
    {
     "name": "stderr",
     "output_type": "stream",
     "text": [
      "INFO - 2025-10-17T11:42:13Z - Successfully downloaded to glory_data/glory_1993-08-13.nc\n",
      "INFO - 2025-10-17T11:42:15Z - Selected dataset version: \"202311\"\n",
      "INFO - 2025-10-17T11:42:15Z - Selected dataset part: \"default\"\n",
      "INFO - 2025-10-17T11:42:22Z - Starting download. Please wait...\n"
     ]
    },
    {
     "data": {
      "application/vnd.jupyter.widget-view+json": {
       "model_id": "a4056f084d724626aaec2ce57695d721",
       "version_major": 2,
       "version_minor": 0
      },
      "text/plain": [
       "  0%|          | 0/70 [00:00<?, ?it/s]"
      ]
     },
     "metadata": {},
     "output_type": "display_data"
    },
    {
     "name": "stderr",
     "output_type": "stream",
     "text": [
      "INFO - 2025-10-17T11:44:40Z - Successfully downloaded to glory_data/glory_1993-08-14.nc\n",
      "INFO - 2025-10-17T11:44:43Z - Selected dataset version: \"202311\"\n",
      "INFO - 2025-10-17T11:44:43Z - Selected dataset part: \"default\"\n",
      "INFO - 2025-10-17T11:44:50Z - Starting download. Please wait...\n"
     ]
    },
    {
     "data": {
      "application/vnd.jupyter.widget-view+json": {
       "model_id": "598989240075463fb928fc15b1717425",
       "version_major": 2,
       "version_minor": 0
      },
      "text/plain": [
       "  0%|          | 0/70 [00:00<?, ?it/s]"
      ]
     },
     "metadata": {},
     "output_type": "display_data"
    },
    {
     "name": "stderr",
     "output_type": "stream",
     "text": [
      "INFO - 2025-10-17T11:47:18Z - Successfully downloaded to glory_data/glory_1993-08-15.nc\n",
      "INFO - 2025-10-17T11:47:20Z - Selected dataset version: \"202311\"\n",
      "INFO - 2025-10-17T11:47:20Z - Selected dataset part: \"default\"\n",
      "INFO - 2025-10-17T11:47:27Z - Starting download. Please wait...\n"
     ]
    },
    {
     "data": {
      "application/vnd.jupyter.widget-view+json": {
       "model_id": "03f60a82725148209999fbf77a6eb59e",
       "version_major": 2,
       "version_minor": 0
      },
      "text/plain": [
       "  0%|          | 0/70 [00:00<?, ?it/s]"
      ]
     },
     "metadata": {},
     "output_type": "display_data"
    },
    {
     "name": "stderr",
     "output_type": "stream",
     "text": [
      "INFO - 2025-10-17T11:49:42Z - Successfully downloaded to glory_data/glory_1993-08-16.nc\n",
      "INFO - 2025-10-17T11:49:44Z - Selected dataset version: \"202311\"\n",
      "INFO - 2025-10-17T11:49:44Z - Selected dataset part: \"default\"\n",
      "INFO - 2025-10-17T11:49:51Z - Starting download. Please wait...\n"
     ]
    },
    {
     "data": {
      "application/vnd.jupyter.widget-view+json": {
       "model_id": "959f1d49d3df45a3b72c937c4d9a2dcd",
       "version_major": 2,
       "version_minor": 0
      },
      "text/plain": [
       "  0%|          | 0/70 [00:00<?, ?it/s]"
      ]
     },
     "metadata": {},
     "output_type": "display_data"
    },
    {
     "name": "stderr",
     "output_type": "stream",
     "text": [
      "INFO - 2025-10-17T11:52:10Z - Successfully downloaded to glory_data/glory_1993-08-17.nc\n",
      "INFO - 2025-10-17T11:52:13Z - Selected dataset version: \"202311\"\n",
      "INFO - 2025-10-17T11:52:13Z - Selected dataset part: \"default\"\n",
      "INFO - 2025-10-17T11:52:20Z - Starting download. Please wait...\n"
     ]
    },
    {
     "data": {
      "application/vnd.jupyter.widget-view+json": {
       "model_id": "a7f1ed6120fd40a9b8935ea017e1e847",
       "version_major": 2,
       "version_minor": 0
      },
      "text/plain": [
       "  0%|          | 0/70 [00:00<?, ?it/s]"
      ]
     },
     "metadata": {},
     "output_type": "display_data"
    },
    {
     "name": "stderr",
     "output_type": "stream",
     "text": [
      "INFO - 2025-10-17T11:54:45Z - Successfully downloaded to glory_data/glory_1993-08-18.nc\n",
      "INFO - 2025-10-17T11:54:48Z - Selected dataset version: \"202311\"\n",
      "INFO - 2025-10-17T11:54:48Z - Selected dataset part: \"default\"\n",
      "INFO - 2025-10-17T11:54:55Z - Starting download. Please wait...\n"
     ]
    },
    {
     "data": {
      "application/vnd.jupyter.widget-view+json": {
       "model_id": "cc88b82229e44b2f9b3c9312eef8a86d",
       "version_major": 2,
       "version_minor": 0
      },
      "text/plain": [
       "  0%|          | 0/70 [00:00<?, ?it/s]"
      ]
     },
     "metadata": {},
     "output_type": "display_data"
    },
    {
     "name": "stderr",
     "output_type": "stream",
     "text": [
      "INFO - 2025-10-17T11:57:06Z - Successfully downloaded to glory_data/glory_1993-08-19.nc\n",
      "INFO - 2025-10-17T11:57:09Z - Selected dataset version: \"202311\"\n",
      "INFO - 2025-10-17T11:57:09Z - Selected dataset part: \"default\"\n",
      "INFO - 2025-10-17T11:57:16Z - Starting download. Please wait...\n"
     ]
    },
    {
     "data": {
      "application/vnd.jupyter.widget-view+json": {
       "model_id": "a911e3ee01d5496a884937f45bb31a47",
       "version_major": 2,
       "version_minor": 0
      },
      "text/plain": [
       "  0%|          | 0/70 [00:00<?, ?it/s]"
      ]
     },
     "metadata": {},
     "output_type": "display_data"
    },
    {
     "name": "stderr",
     "output_type": "stream",
     "text": [
      "INFO - 2025-10-17T11:59:35Z - Successfully downloaded to glory_data/glory_1993-08-20.nc\n",
      "INFO - 2025-10-17T11:59:37Z - Selected dataset version: \"202311\"\n",
      "INFO - 2025-10-17T11:59:37Z - Selected dataset part: \"default\"\n",
      "INFO - 2025-10-17T11:59:45Z - Starting download. Please wait...\n"
     ]
    },
    {
     "data": {
      "application/vnd.jupyter.widget-view+json": {
       "model_id": "d9b78cc62e48473ebbed69eb7d235408",
       "version_major": 2,
       "version_minor": 0
      },
      "text/plain": [
       "  0%|          | 0/70 [00:00<?, ?it/s]"
      ]
     },
     "metadata": {},
     "output_type": "display_data"
    },
    {
     "name": "stderr",
     "output_type": "stream",
     "text": [
      "INFO - 2025-10-17T12:02:16Z - Successfully downloaded to glory_data/glory_1993-08-21.nc\n",
      "INFO - 2025-10-17T12:02:19Z - Selected dataset version: \"202311\"\n",
      "INFO - 2025-10-17T12:02:19Z - Selected dataset part: \"default\"\n",
      "INFO - 2025-10-17T12:02:25Z - Starting download. Please wait...\n"
     ]
    },
    {
     "data": {
      "application/vnd.jupyter.widget-view+json": {
       "model_id": "4e649b6a1e09459d94971e586df3d7e9",
       "version_major": 2,
       "version_minor": 0
      },
      "text/plain": [
       "  0%|          | 0/70 [00:00<?, ?it/s]"
      ]
     },
     "metadata": {},
     "output_type": "display_data"
    },
    {
     "name": "stderr",
     "output_type": "stream",
     "text": [
      "INFO - 2025-10-17T12:04:55Z - Successfully downloaded to glory_data/glory_1993-08-22.nc\n",
      "INFO - 2025-10-17T12:04:58Z - Selected dataset version: \"202311\"\n",
      "INFO - 2025-10-17T12:04:58Z - Selected dataset part: \"default\"\n",
      "INFO - 2025-10-17T12:05:05Z - Starting download. Please wait...\n"
     ]
    },
    {
     "data": {
      "application/vnd.jupyter.widget-view+json": {
       "model_id": "ff170e141fbc47fc8d8ad9bbfc65d7c7",
       "version_major": 2,
       "version_minor": 0
      },
      "text/plain": [
       "  0%|          | 0/70 [00:00<?, ?it/s]"
      ]
     },
     "metadata": {},
     "output_type": "display_data"
    },
    {
     "name": "stderr",
     "output_type": "stream",
     "text": [
      "INFO - 2025-10-17T12:07:28Z - Successfully downloaded to glory_data/glory_1993-08-23.nc\n",
      "INFO - 2025-10-17T12:07:32Z - Selected dataset version: \"202311\"\n",
      "INFO - 2025-10-17T12:07:32Z - Selected dataset part: \"default\"\n",
      "INFO - 2025-10-17T12:07:40Z - Starting download. Please wait...\n"
     ]
    },
    {
     "data": {
      "application/vnd.jupyter.widget-view+json": {
       "model_id": "f3abcaf346b044f2aded59fa991989a0",
       "version_major": 2,
       "version_minor": 0
      },
      "text/plain": [
       "  0%|          | 0/70 [00:00<?, ?it/s]"
      ]
     },
     "metadata": {},
     "output_type": "display_data"
    },
    {
     "name": "stderr",
     "output_type": "stream",
     "text": [
      "INFO - 2025-10-17T12:10:00Z - Successfully downloaded to glory_data/glory_1993-08-24.nc\n",
      "INFO - 2025-10-17T12:10:03Z - Selected dataset version: \"202311\"\n",
      "INFO - 2025-10-17T12:10:03Z - Selected dataset part: \"default\"\n",
      "INFO - 2025-10-17T12:10:10Z - Starting download. Please wait...\n"
     ]
    },
    {
     "data": {
      "application/vnd.jupyter.widget-view+json": {
       "model_id": "bfe8d990211a4e7bbb16b488bd0e5c0c",
       "version_major": 2,
       "version_minor": 0
      },
      "text/plain": [
       "  0%|          | 0/70 [00:00<?, ?it/s]"
      ]
     },
     "metadata": {},
     "output_type": "display_data"
    },
    {
     "name": "stderr",
     "output_type": "stream",
     "text": [
      "INFO - 2025-10-17T12:13:30Z - Successfully downloaded to glory_data/glory_1993-08-25.nc\n",
      "INFO - 2025-10-17T12:13:36Z - Selected dataset version: \"202311\"\n",
      "INFO - 2025-10-17T12:13:36Z - Selected dataset part: \"default\"\n",
      "INFO - 2025-10-17T12:13:43Z - Starting download. Please wait...\n"
     ]
    },
    {
     "data": {
      "application/vnd.jupyter.widget-view+json": {
       "model_id": "8d54176b03344b75ab6e45c4b9c8848d",
       "version_major": 2,
       "version_minor": 0
      },
      "text/plain": [
       "  0%|          | 0/70 [00:00<?, ?it/s]"
      ]
     },
     "metadata": {},
     "output_type": "display_data"
    },
    {
     "name": "stderr",
     "output_type": "stream",
     "text": [
      "INFO - 2025-10-17T12:16:10Z - Successfully downloaded to glory_data/glory_1993-08-26.nc\n",
      "INFO - 2025-10-17T12:16:15Z - Selected dataset version: \"202311\"\n",
      "INFO - 2025-10-17T12:16:15Z - Selected dataset part: \"default\"\n",
      "INFO - 2025-10-17T12:16:23Z - Starting download. Please wait...\n"
     ]
    },
    {
     "data": {
      "application/vnd.jupyter.widget-view+json": {
       "model_id": "3f317b65a39a43a49ade13be16ae7f85",
       "version_major": 2,
       "version_minor": 0
      },
      "text/plain": [
       "  0%|          | 0/70 [00:00<?, ?it/s]"
      ]
     },
     "metadata": {},
     "output_type": "display_data"
    },
    {
     "name": "stderr",
     "output_type": "stream",
     "text": [
      "INFO - 2025-10-17T12:18:37Z - Successfully downloaded to glory_data/glory_1993-08-27.nc\n",
      "INFO - 2025-10-17T12:18:40Z - Selected dataset version: \"202311\"\n",
      "INFO - 2025-10-17T12:18:40Z - Selected dataset part: \"default\"\n",
      "INFO - 2025-10-17T12:18:46Z - Starting download. Please wait...\n"
     ]
    },
    {
     "data": {
      "application/vnd.jupyter.widget-view+json": {
       "model_id": "5d6d3342411648b4858a5417b9fb1bcf",
       "version_major": 2,
       "version_minor": 0
      },
      "text/plain": [
       "  0%|          | 0/70 [00:00<?, ?it/s]"
      ]
     },
     "metadata": {},
     "output_type": "display_data"
    },
    {
     "name": "stderr",
     "output_type": "stream",
     "text": [
      "INFO - 2025-10-17T12:21:09Z - Successfully downloaded to glory_data/glory_1993-08-28.nc\n",
      "INFO - 2025-10-17T12:21:11Z - Selected dataset version: \"202311\"\n",
      "INFO - 2025-10-17T12:21:11Z - Selected dataset part: \"default\"\n",
      "INFO - 2025-10-17T12:21:18Z - Starting download. Please wait...\n"
     ]
    },
    {
     "data": {
      "application/vnd.jupyter.widget-view+json": {
       "model_id": "09844e9b41ec40198abf2a85d6af761f",
       "version_major": 2,
       "version_minor": 0
      },
      "text/plain": [
       "  0%|          | 0/70 [00:00<?, ?it/s]"
      ]
     },
     "metadata": {},
     "output_type": "display_data"
    },
    {
     "name": "stderr",
     "output_type": "stream",
     "text": [
      "INFO - 2025-10-17T12:23:44Z - Successfully downloaded to glory_data/glory_1993-08-29.nc\n",
      "INFO - 2025-10-17T12:23:47Z - Selected dataset version: \"202311\"\n",
      "INFO - 2025-10-17T12:23:47Z - Selected dataset part: \"default\"\n",
      "INFO - 2025-10-17T12:23:54Z - Starting download. Please wait...\n"
     ]
    },
    {
     "data": {
      "application/vnd.jupyter.widget-view+json": {
       "model_id": "e8e1dae49af549f4a08c8bda51066640",
       "version_major": 2,
       "version_minor": 0
      },
      "text/plain": [
       "  0%|          | 0/70 [00:00<?, ?it/s]"
      ]
     },
     "metadata": {},
     "output_type": "display_data"
    },
    {
     "name": "stderr",
     "output_type": "stream",
     "text": [
      "INFO - 2025-10-17T12:26:21Z - Successfully downloaded to glory_data/glory_1993-08-30.nc\n",
      "INFO - 2025-10-17T12:26:23Z - Selected dataset version: \"202311\"\n",
      "INFO - 2025-10-17T12:26:23Z - Selected dataset part: \"default\"\n",
      "INFO - 2025-10-17T12:26:30Z - Starting download. Please wait...\n"
     ]
    },
    {
     "data": {
      "application/vnd.jupyter.widget-view+json": {
       "model_id": "14fec2c83c0549f9b2117d389368d9d0",
       "version_major": 2,
       "version_minor": 0
      },
      "text/plain": [
       "  0%|          | 0/70 [00:00<?, ?it/s]"
      ]
     },
     "metadata": {},
     "output_type": "display_data"
    },
    {
     "name": "stderr",
     "output_type": "stream",
     "text": [
      "INFO - 2025-10-17T12:28:49Z - Successfully downloaded to glory_data/glory_1993-08-31.nc\n",
      "INFO - 2025-10-17T12:28:51Z - Selected dataset version: \"202311\"\n",
      "INFO - 2025-10-17T12:28:51Z - Selected dataset part: \"default\"\n",
      "INFO - 2025-10-17T12:28:58Z - Starting download. Please wait...\n"
     ]
    },
    {
     "data": {
      "application/vnd.jupyter.widget-view+json": {
       "model_id": "8759a82343cb4e9e92ae6d1059785cc7",
       "version_major": 2,
       "version_minor": 0
      },
      "text/plain": [
       "  0%|          | 0/70 [00:00<?, ?it/s]"
      ]
     },
     "metadata": {},
     "output_type": "display_data"
    },
    {
     "name": "stderr",
     "output_type": "stream",
     "text": [
      "INFO - 2025-10-17T12:31:12Z - Successfully downloaded to glory_data/glory_1993-09-01.nc\n",
      "INFO - 2025-10-17T12:31:15Z - Selected dataset version: \"202311\"\n",
      "INFO - 2025-10-17T12:31:15Z - Selected dataset part: \"default\"\n",
      "INFO - 2025-10-17T12:31:22Z - Starting download. Please wait...\n"
     ]
    },
    {
     "data": {
      "application/vnd.jupyter.widget-view+json": {
       "model_id": "ce546aa7e0324c198e73ca9f6f6fdbdc",
       "version_major": 2,
       "version_minor": 0
      },
      "text/plain": [
       "  0%|          | 0/70 [00:00<?, ?it/s]"
      ]
     },
     "metadata": {},
     "output_type": "display_data"
    },
    {
     "name": "stderr",
     "output_type": "stream",
     "text": [
      "INFO - 2025-10-17T12:33:39Z - Successfully downloaded to glory_data/glory_1993-09-02.nc\n",
      "INFO - 2025-10-17T12:33:43Z - Selected dataset version: \"202311\"\n",
      "INFO - 2025-10-17T12:33:43Z - Selected dataset part: \"default\"\n",
      "INFO - 2025-10-17T12:33:49Z - Starting download. Please wait...\n"
     ]
    },
    {
     "data": {
      "application/vnd.jupyter.widget-view+json": {
       "model_id": "3df2e36cf6d54740a92faa2e283d20b2",
       "version_major": 2,
       "version_minor": 0
      },
      "text/plain": [
       "  0%|          | 0/70 [00:00<?, ?it/s]"
      ]
     },
     "metadata": {},
     "output_type": "display_data"
    },
    {
     "name": "stderr",
     "output_type": "stream",
     "text": [
      "INFO - 2025-10-17T12:36:13Z - Successfully downloaded to glory_data/glory_1993-09-03.nc\n",
      "INFO - 2025-10-17T12:36:16Z - Selected dataset version: \"202311\"\n",
      "INFO - 2025-10-17T12:36:16Z - Selected dataset part: \"default\"\n",
      "INFO - 2025-10-17T12:36:22Z - Starting download. Please wait...\n"
     ]
    },
    {
     "data": {
      "application/vnd.jupyter.widget-view+json": {
       "model_id": "fe9f9f83be584545a3ed559f8ddc6362",
       "version_major": 2,
       "version_minor": 0
      },
      "text/plain": [
       "  0%|          | 0/70 [00:00<?, ?it/s]"
      ]
     },
     "metadata": {},
     "output_type": "display_data"
    },
    {
     "name": "stderr",
     "output_type": "stream",
     "text": [
      "INFO - 2025-10-17T12:38:42Z - Successfully downloaded to glory_data/glory_1993-09-04.nc\n",
      "INFO - 2025-10-17T12:38:45Z - Selected dataset version: \"202311\"\n",
      "INFO - 2025-10-17T12:38:45Z - Selected dataset part: \"default\"\n",
      "INFO - 2025-10-17T12:38:52Z - Starting download. Please wait...\n"
     ]
    },
    {
     "data": {
      "application/vnd.jupyter.widget-view+json": {
       "model_id": "333770ae9c6542a38b6291be226f9701",
       "version_major": 2,
       "version_minor": 0
      },
      "text/plain": [
       "  0%|          | 0/70 [00:00<?, ?it/s]"
      ]
     },
     "metadata": {},
     "output_type": "display_data"
    },
    {
     "name": "stderr",
     "output_type": "stream",
     "text": [
      "INFO - 2025-10-17T12:41:08Z - Successfully downloaded to glory_data/glory_1993-09-05.nc\n",
      "INFO - 2025-10-17T12:41:11Z - Selected dataset version: \"202311\"\n",
      "INFO - 2025-10-17T12:41:11Z - Selected dataset part: \"default\"\n",
      "INFO - 2025-10-17T12:41:18Z - Starting download. Please wait...\n"
     ]
    },
    {
     "data": {
      "application/vnd.jupyter.widget-view+json": {
       "model_id": "7bdc972ad0a64709988a4a1662099b49",
       "version_major": 2,
       "version_minor": 0
      },
      "text/plain": [
       "  0%|          | 0/70 [00:00<?, ?it/s]"
      ]
     },
     "metadata": {},
     "output_type": "display_data"
    },
    {
     "name": "stderr",
     "output_type": "stream",
     "text": [
      "INFO - 2025-10-17T12:43:34Z - Successfully downloaded to glory_data/glory_1993-09-06.nc\n",
      "INFO - 2025-10-17T12:43:36Z - Selected dataset version: \"202311\"\n",
      "INFO - 2025-10-17T12:43:36Z - Selected dataset part: \"default\"\n",
      "INFO - 2025-10-17T12:43:43Z - Starting download. Please wait...\n"
     ]
    },
    {
     "data": {
      "application/vnd.jupyter.widget-view+json": {
       "model_id": "5f34e56f9fc7415796cd135cc34edfb6",
       "version_major": 2,
       "version_minor": 0
      },
      "text/plain": [
       "  0%|          | 0/70 [00:00<?, ?it/s]"
      ]
     },
     "metadata": {},
     "output_type": "display_data"
    },
    {
     "name": "stderr",
     "output_type": "stream",
     "text": [
      "INFO - 2025-10-17T12:46:00Z - Successfully downloaded to glory_data/glory_1993-09-07.nc\n",
      "INFO - 2025-10-17T12:46:03Z - Selected dataset version: \"202311\"\n",
      "INFO - 2025-10-17T12:46:03Z - Selected dataset part: \"default\"\n",
      "INFO - 2025-10-17T12:46:11Z - Starting download. Please wait...\n"
     ]
    },
    {
     "data": {
      "application/vnd.jupyter.widget-view+json": {
       "model_id": "d9ef59ad28354196ba2d1dc9126ab213",
       "version_major": 2,
       "version_minor": 0
      },
      "text/plain": [
       "  0%|          | 0/70 [00:00<?, ?it/s]"
      ]
     },
     "metadata": {},
     "output_type": "display_data"
    },
    {
     "name": "stderr",
     "output_type": "stream",
     "text": [
      "INFO - 2025-10-17T12:48:37Z - Successfully downloaded to glory_data/glory_1993-09-08.nc\n",
      "INFO - 2025-10-17T12:48:41Z - Selected dataset version: \"202311\"\n",
      "INFO - 2025-10-17T12:48:41Z - Selected dataset part: \"default\"\n",
      "INFO - 2025-10-17T12:48:48Z - Starting download. Please wait...\n"
     ]
    },
    {
     "data": {
      "application/vnd.jupyter.widget-view+json": {
       "model_id": "9a04e953af624133aa5548d372614ce4",
       "version_major": 2,
       "version_minor": 0
      },
      "text/plain": [
       "  0%|          | 0/70 [00:00<?, ?it/s]"
      ]
     },
     "metadata": {},
     "output_type": "display_data"
    },
    {
     "name": "stderr",
     "output_type": "stream",
     "text": [
      "INFO - 2025-10-17T12:51:16Z - Successfully downloaded to glory_data/glory_1993-09-09.nc\n",
      "INFO - 2025-10-17T12:51:18Z - Selected dataset version: \"202311\"\n",
      "INFO - 2025-10-17T12:51:18Z - Selected dataset part: \"default\"\n",
      "INFO - 2025-10-17T12:51:25Z - Starting download. Please wait...\n"
     ]
    },
    {
     "data": {
      "application/vnd.jupyter.widget-view+json": {
       "model_id": "e6baeb96eb5d40aab4d544808385005f",
       "version_major": 2,
       "version_minor": 0
      },
      "text/plain": [
       "  0%|          | 0/70 [00:00<?, ?it/s]"
      ]
     },
     "metadata": {},
     "output_type": "display_data"
    },
    {
     "name": "stderr",
     "output_type": "stream",
     "text": [
      "INFO - 2025-10-17T12:53:45Z - Successfully downloaded to glory_data/glory_1993-09-10.nc\n",
      "INFO - 2025-10-17T12:53:47Z - Selected dataset version: \"202311\"\n",
      "INFO - 2025-10-17T12:53:47Z - Selected dataset part: \"default\"\n",
      "INFO - 2025-10-17T12:53:55Z - Starting download. Please wait...\n"
     ]
    },
    {
     "data": {
      "application/vnd.jupyter.widget-view+json": {
       "model_id": "02458be9d16a4fd0bd7c71f38e7de483",
       "version_major": 2,
       "version_minor": 0
      },
      "text/plain": [
       "  0%|          | 0/70 [00:00<?, ?it/s]"
      ]
     },
     "metadata": {},
     "output_type": "display_data"
    },
    {
     "name": "stderr",
     "output_type": "stream",
     "text": [
      "INFO - 2025-10-17T12:56:15Z - Successfully downloaded to glory_data/glory_1993-09-11.nc\n",
      "INFO - 2025-10-17T12:56:18Z - Selected dataset version: \"202311\"\n",
      "INFO - 2025-10-17T12:56:18Z - Selected dataset part: \"default\"\n",
      "INFO - 2025-10-17T12:56:24Z - Starting download. Please wait...\n"
     ]
    },
    {
     "data": {
      "application/vnd.jupyter.widget-view+json": {
       "model_id": "5c5e9439250847379d46c806c47e1e00",
       "version_major": 2,
       "version_minor": 0
      },
      "text/plain": [
       "  0%|          | 0/70 [00:00<?, ?it/s]"
      ]
     },
     "metadata": {},
     "output_type": "display_data"
    },
    {
     "name": "stderr",
     "output_type": "stream",
     "text": [
      "INFO - 2025-10-17T12:58:46Z - Successfully downloaded to glory_data/glory_1993-09-12.nc\n",
      "INFO - 2025-10-17T12:58:48Z - Selected dataset version: \"202311\"\n",
      "INFO - 2025-10-17T12:58:48Z - Selected dataset part: \"default\"\n",
      "INFO - 2025-10-17T12:58:55Z - Starting download. Please wait...\n"
     ]
    },
    {
     "data": {
      "application/vnd.jupyter.widget-view+json": {
       "model_id": "08b4ca01ec5a4ecc955fe2e6c2b3a3b0",
       "version_major": 2,
       "version_minor": 0
      },
      "text/plain": [
       "  0%|          | 0/70 [00:00<?, ?it/s]"
      ]
     },
     "metadata": {},
     "output_type": "display_data"
    },
    {
     "name": "stderr",
     "output_type": "stream",
     "text": [
      "INFO - 2025-10-17T13:01:24Z - Successfully downloaded to glory_data/glory_1993-09-13.nc\n",
      "INFO - 2025-10-17T13:01:27Z - Selected dataset version: \"202311\"\n",
      "INFO - 2025-10-17T13:01:27Z - Selected dataset part: \"default\"\n",
      "INFO - 2025-10-17T13:01:35Z - Starting download. Please wait...\n"
     ]
    },
    {
     "data": {
      "application/vnd.jupyter.widget-view+json": {
       "model_id": "80f453d39238418d9f7c1d36f66574d4",
       "version_major": 2,
       "version_minor": 0
      },
      "text/plain": [
       "  0%|          | 0/70 [00:00<?, ?it/s]"
      ]
     },
     "metadata": {},
     "output_type": "display_data"
    },
    {
     "name": "stderr",
     "output_type": "stream",
     "text": [
      "INFO - 2025-10-17T13:03:56Z - Successfully downloaded to glory_data/glory_1993-09-14.nc\n",
      "INFO - 2025-10-17T13:03:59Z - Selected dataset version: \"202311\"\n",
      "INFO - 2025-10-17T13:03:59Z - Selected dataset part: \"default\"\n",
      "INFO - 2025-10-17T13:04:06Z - Starting download. Please wait...\n"
     ]
    },
    {
     "data": {
      "application/vnd.jupyter.widget-view+json": {
       "model_id": "7f19c7e5438f4c40ae5078d7d5e822f7",
       "version_major": 2,
       "version_minor": 0
      },
      "text/plain": [
       "  0%|          | 0/70 [00:00<?, ?it/s]"
      ]
     },
     "metadata": {},
     "output_type": "display_data"
    },
    {
     "name": "stderr",
     "output_type": "stream",
     "text": [
      "INFO - 2025-10-17T13:06:18Z - Successfully downloaded to glory_data/glory_1993-09-15.nc\n",
      "INFO - 2025-10-17T13:06:21Z - Selected dataset version: \"202311\"\n",
      "INFO - 2025-10-17T13:06:21Z - Selected dataset part: \"default\"\n",
      "INFO - 2025-10-17T13:06:27Z - Starting download. Please wait...\n"
     ]
    },
    {
     "data": {
      "application/vnd.jupyter.widget-view+json": {
       "model_id": "e2ed4e884a604540b250abb228538ea7",
       "version_major": 2,
       "version_minor": 0
      },
      "text/plain": [
       "  0%|          | 0/70 [00:00<?, ?it/s]"
      ]
     },
     "metadata": {},
     "output_type": "display_data"
    },
    {
     "name": "stderr",
     "output_type": "stream",
     "text": [
      "INFO - 2025-10-17T13:08:46Z - Successfully downloaded to glory_data/glory_1993-09-16.nc\n",
      "INFO - 2025-10-17T13:08:48Z - Selected dataset version: \"202311\"\n",
      "INFO - 2025-10-17T13:08:48Z - Selected dataset part: \"default\"\n",
      "INFO - 2025-10-17T13:08:56Z - Starting download. Please wait...\n"
     ]
    },
    {
     "data": {
      "application/vnd.jupyter.widget-view+json": {
       "model_id": "62b4fe1c8cc54f58864a2391133904f6",
       "version_major": 2,
       "version_minor": 0
      },
      "text/plain": [
       "  0%|          | 0/70 [00:00<?, ?it/s]"
      ]
     },
     "metadata": {},
     "output_type": "display_data"
    },
    {
     "name": "stderr",
     "output_type": "stream",
     "text": [
      "INFO - 2025-10-17T13:11:22Z - Successfully downloaded to glory_data/glory_1993-09-17.nc\n",
      "INFO - 2025-10-17T13:11:25Z - Selected dataset version: \"202311\"\n",
      "INFO - 2025-10-17T13:11:25Z - Selected dataset part: \"default\"\n",
      "INFO - 2025-10-17T13:11:31Z - Starting download. Please wait...\n"
     ]
    },
    {
     "data": {
      "application/vnd.jupyter.widget-view+json": {
       "model_id": "9e6d9b73ce314a7bae326e6f83f39a25",
       "version_major": 2,
       "version_minor": 0
      },
      "text/plain": [
       "  0%|          | 0/70 [00:00<?, ?it/s]"
      ]
     },
     "metadata": {},
     "output_type": "display_data"
    },
    {
     "name": "stderr",
     "output_type": "stream",
     "text": [
      "INFO - 2025-10-17T13:13:55Z - Successfully downloaded to glory_data/glory_1993-09-18.nc\n",
      "INFO - 2025-10-17T13:13:57Z - Selected dataset version: \"202311\"\n",
      "INFO - 2025-10-17T13:13:57Z - Selected dataset part: \"default\"\n",
      "INFO - 2025-10-17T13:14:04Z - Starting download. Please wait...\n"
     ]
    },
    {
     "data": {
      "application/vnd.jupyter.widget-view+json": {
       "model_id": "cd343814fc8f4d9784e8ab03d8b9e2d0",
       "version_major": 2,
       "version_minor": 0
      },
      "text/plain": [
       "  0%|          | 0/70 [00:00<?, ?it/s]"
      ]
     },
     "metadata": {},
     "output_type": "display_data"
    },
    {
     "name": "stderr",
     "output_type": "stream",
     "text": [
      "INFO - 2025-10-17T13:16:29Z - Successfully downloaded to glory_data/glory_1993-09-19.nc\n",
      "INFO - 2025-10-17T13:16:32Z - Selected dataset version: \"202311\"\n",
      "INFO - 2025-10-17T13:16:32Z - Selected dataset part: \"default\"\n",
      "INFO - 2025-10-17T13:16:40Z - Starting download. Please wait...\n"
     ]
    },
    {
     "data": {
      "application/vnd.jupyter.widget-view+json": {
       "model_id": "d4a54321a29d4e31bf8a2b32c3a66d9d",
       "version_major": 2,
       "version_minor": 0
      },
      "text/plain": [
       "  0%|          | 0/70 [00:00<?, ?it/s]"
      ]
     },
     "metadata": {},
     "output_type": "display_data"
    },
    {
     "name": "stderr",
     "output_type": "stream",
     "text": [
      "INFO - 2025-10-17T13:18:59Z - Successfully downloaded to glory_data/glory_1993-09-20.nc\n",
      "INFO - 2025-10-17T13:19:02Z - Selected dataset version: \"202311\"\n",
      "INFO - 2025-10-17T13:19:02Z - Selected dataset part: \"default\"\n",
      "INFO - 2025-10-17T13:19:09Z - Starting download. Please wait...\n"
     ]
    },
    {
     "data": {
      "application/vnd.jupyter.widget-view+json": {
       "model_id": "9cd31844a9994b6680a2509301a38156",
       "version_major": 2,
       "version_minor": 0
      },
      "text/plain": [
       "  0%|          | 0/70 [00:00<?, ?it/s]"
      ]
     },
     "metadata": {},
     "output_type": "display_data"
    },
    {
     "name": "stderr",
     "output_type": "stream",
     "text": [
      "INFO - 2025-10-17T13:21:21Z - Successfully downloaded to glory_data/glory_1993-09-21.nc\n",
      "INFO - 2025-10-17T13:21:24Z - Selected dataset version: \"202311\"\n",
      "INFO - 2025-10-17T13:21:24Z - Selected dataset part: \"default\"\n",
      "INFO - 2025-10-17T13:21:30Z - Starting download. Please wait...\n"
     ]
    },
    {
     "data": {
      "application/vnd.jupyter.widget-view+json": {
       "model_id": "a850e8a514114b7c9fc2064acb9bece9",
       "version_major": 2,
       "version_minor": 0
      },
      "text/plain": [
       "  0%|          | 0/70 [00:00<?, ?it/s]"
      ]
     },
     "metadata": {},
     "output_type": "display_data"
    },
    {
     "name": "stderr",
     "output_type": "stream",
     "text": [
      "INFO - 2025-10-17T13:23:51Z - Successfully downloaded to glory_data/glory_1993-09-22.nc\n",
      "INFO - 2025-10-17T13:23:53Z - Selected dataset version: \"202311\"\n",
      "INFO - 2025-10-17T13:23:53Z - Selected dataset part: \"default\"\n",
      "INFO - 2025-10-17T13:24:01Z - Starting download. Please wait...\n"
     ]
    },
    {
     "data": {
      "application/vnd.jupyter.widget-view+json": {
       "model_id": "30f2998b763443469cde645260dfb6e8",
       "version_major": 2,
       "version_minor": 0
      },
      "text/plain": [
       "  0%|          | 0/70 [00:00<?, ?it/s]"
      ]
     },
     "metadata": {},
     "output_type": "display_data"
    },
    {
     "name": "stderr",
     "output_type": "stream",
     "text": [
      "INFO - 2025-10-17T13:26:18Z - Successfully downloaded to glory_data/glory_1993-09-23.nc\n",
      "INFO - 2025-10-17T13:26:21Z - Selected dataset version: \"202311\"\n",
      "INFO - 2025-10-17T13:26:21Z - Selected dataset part: \"default\"\n",
      "INFO - 2025-10-17T13:26:27Z - Starting download. Please wait...\n"
     ]
    },
    {
     "data": {
      "application/vnd.jupyter.widget-view+json": {
       "model_id": "324acd4399cf4ff3a8313a95910922f1",
       "version_major": 2,
       "version_minor": 0
      },
      "text/plain": [
       "  0%|          | 0/70 [00:00<?, ?it/s]"
      ]
     },
     "metadata": {},
     "output_type": "display_data"
    },
    {
     "name": "stderr",
     "output_type": "stream",
     "text": [
      "INFO - 2025-10-17T13:28:42Z - Successfully downloaded to glory_data/glory_1993-09-24.nc\n",
      "INFO - 2025-10-17T13:28:45Z - Selected dataset version: \"202311\"\n",
      "INFO - 2025-10-17T13:28:45Z - Selected dataset part: \"default\"\n",
      "INFO - 2025-10-17T13:28:52Z - Starting download. Please wait...\n"
     ]
    },
    {
     "data": {
      "application/vnd.jupyter.widget-view+json": {
       "model_id": "8e3fedb9ea3746a181ddca5950ed17ce",
       "version_major": 2,
       "version_minor": 0
      },
      "text/plain": [
       "  0%|          | 0/70 [00:00<?, ?it/s]"
      ]
     },
     "metadata": {},
     "output_type": "display_data"
    },
    {
     "name": "stderr",
     "output_type": "stream",
     "text": [
      "INFO - 2025-10-17T13:31:09Z - Successfully downloaded to glory_data/glory_1993-09-25.nc\n",
      "INFO - 2025-10-17T13:31:12Z - Selected dataset version: \"202311\"\n",
      "INFO - 2025-10-17T13:31:12Z - Selected dataset part: \"default\"\n",
      "INFO - 2025-10-17T13:31:20Z - Starting download. Please wait...\n"
     ]
    },
    {
     "data": {
      "application/vnd.jupyter.widget-view+json": {
       "model_id": "80271d6f0ebb424fa39c8117f886cd57",
       "version_major": 2,
       "version_minor": 0
      },
      "text/plain": [
       "  0%|          | 0/70 [00:00<?, ?it/s]"
      ]
     },
     "metadata": {},
     "output_type": "display_data"
    },
    {
     "name": "stderr",
     "output_type": "stream",
     "text": [
      "INFO - 2025-10-17T13:33:33Z - Successfully downloaded to glory_data/glory_1993-09-26.nc\n",
      "INFO - 2025-10-17T13:33:36Z - Selected dataset version: \"202311\"\n",
      "INFO - 2025-10-17T13:33:36Z - Selected dataset part: \"default\"\n",
      "INFO - 2025-10-17T13:33:43Z - Starting download. Please wait...\n"
     ]
    },
    {
     "data": {
      "application/vnd.jupyter.widget-view+json": {
       "model_id": "6f89413123ed49729a038bf7378c771b",
       "version_major": 2,
       "version_minor": 0
      },
      "text/plain": [
       "  0%|          | 0/70 [00:00<?, ?it/s]"
      ]
     },
     "metadata": {},
     "output_type": "display_data"
    },
    {
     "name": "stderr",
     "output_type": "stream",
     "text": [
      "INFO - 2025-10-17T13:36:09Z - Successfully downloaded to glory_data/glory_1993-09-27.nc\n",
      "INFO - 2025-10-17T13:36:12Z - Selected dataset version: \"202311\"\n",
      "INFO - 2025-10-17T13:36:12Z - Selected dataset part: \"default\"\n",
      "INFO - 2025-10-17T13:36:19Z - Starting download. Please wait...\n"
     ]
    },
    {
     "data": {
      "application/vnd.jupyter.widget-view+json": {
       "model_id": "ae3a086296b04161900d685372bbae60",
       "version_major": 2,
       "version_minor": 0
      },
      "text/plain": [
       "  0%|          | 0/70 [00:00<?, ?it/s]"
      ]
     },
     "metadata": {},
     "output_type": "display_data"
    },
    {
     "name": "stderr",
     "output_type": "stream",
     "text": [
      "INFO - 2025-10-17T13:38:44Z - Successfully downloaded to glory_data/glory_1993-09-28.nc\n",
      "INFO - 2025-10-17T13:38:47Z - Selected dataset version: \"202311\"\n",
      "INFO - 2025-10-17T13:38:47Z - Selected dataset part: \"default\"\n",
      "INFO - 2025-10-17T13:38:54Z - Starting download. Please wait...\n"
     ]
    },
    {
     "data": {
      "application/vnd.jupyter.widget-view+json": {
       "model_id": "edb94fca72fb491091c2af41aa29c8a7",
       "version_major": 2,
       "version_minor": 0
      },
      "text/plain": [
       "  0%|          | 0/70 [00:00<?, ?it/s]"
      ]
     },
     "metadata": {},
     "output_type": "display_data"
    },
    {
     "name": "stderr",
     "output_type": "stream",
     "text": [
      "INFO - 2025-10-17T13:41:13Z - Successfully downloaded to glory_data/glory_1993-09-29.nc\n",
      "INFO - 2025-10-17T13:41:16Z - Selected dataset version: \"202311\"\n",
      "INFO - 2025-10-17T13:41:16Z - Selected dataset part: \"default\"\n",
      "INFO - 2025-10-17T13:41:23Z - Starting download. Please wait...\n"
     ]
    },
    {
     "data": {
      "application/vnd.jupyter.widget-view+json": {
       "model_id": "9dd87b58e56b443488986325352b2f37",
       "version_major": 2,
       "version_minor": 0
      },
      "text/plain": [
       "  0%|          | 0/70 [00:00<?, ?it/s]"
      ]
     },
     "metadata": {},
     "output_type": "display_data"
    },
    {
     "name": "stderr",
     "output_type": "stream",
     "text": [
      "INFO - 2025-10-17T13:43:43Z - Successfully downloaded to glory_data/glory_1993-09-30.nc\n",
      "INFO - 2025-10-17T13:43:46Z - Selected dataset version: \"202311\"\n",
      "INFO - 2025-10-17T13:43:46Z - Selected dataset part: \"default\"\n",
      "INFO - 2025-10-17T13:43:53Z - Starting download. Please wait...\n"
     ]
    },
    {
     "data": {
      "application/vnd.jupyter.widget-view+json": {
       "model_id": "a4c86ffd66bd43c5ab3d56913d7df548",
       "version_major": 2,
       "version_minor": 0
      },
      "text/plain": [
       "  0%|          | 0/70 [00:00<?, ?it/s]"
      ]
     },
     "metadata": {},
     "output_type": "display_data"
    },
    {
     "name": "stderr",
     "output_type": "stream",
     "text": [
      "INFO - 2025-10-17T13:46:15Z - Successfully downloaded to glory_data/glory_1993-10-01.nc\n",
      "INFO - 2025-10-17T13:46:17Z - Selected dataset version: \"202311\"\n",
      "INFO - 2025-10-17T13:46:17Z - Selected dataset part: \"default\"\n",
      "INFO - 2025-10-17T13:46:24Z - Starting download. Please wait...\n"
     ]
    },
    {
     "data": {
      "application/vnd.jupyter.widget-view+json": {
       "model_id": "776b162fc7044ac3a0a63ce91997411b",
       "version_major": 2,
       "version_minor": 0
      },
      "text/plain": [
       "  0%|          | 0/70 [00:00<?, ?it/s]"
      ]
     },
     "metadata": {},
     "output_type": "display_data"
    },
    {
     "name": "stderr",
     "output_type": "stream",
     "text": [
      "INFO - 2025-10-17T13:48:47Z - Successfully downloaded to glory_data/glory_1993-10-02.nc\n",
      "INFO - 2025-10-17T13:48:50Z - Selected dataset version: \"202311\"\n",
      "INFO - 2025-10-17T13:48:50Z - Selected dataset part: \"default\"\n",
      "INFO - 2025-10-17T13:48:56Z - Starting download. Please wait...\n"
     ]
    },
    {
     "data": {
      "application/vnd.jupyter.widget-view+json": {
       "model_id": "277d10b633c748739f7596ce9a5f1c33",
       "version_major": 2,
       "version_minor": 0
      },
      "text/plain": [
       "  0%|          | 0/70 [00:00<?, ?it/s]"
      ]
     },
     "metadata": {},
     "output_type": "display_data"
    },
    {
     "name": "stderr",
     "output_type": "stream",
     "text": [
      "INFO - 2025-10-17T13:51:21Z - Successfully downloaded to glory_data/glory_1993-10-03.nc\n",
      "INFO - 2025-10-17T13:51:23Z - Selected dataset version: \"202311\"\n",
      "INFO - 2025-10-17T13:51:23Z - Selected dataset part: \"default\"\n",
      "INFO - 2025-10-17T13:51:31Z - Starting download. Please wait...\n"
     ]
    },
    {
     "data": {
      "application/vnd.jupyter.widget-view+json": {
       "model_id": "475cfd7a172b4d11952935c8b5b6c241",
       "version_major": 2,
       "version_minor": 0
      },
      "text/plain": [
       "  0%|          | 0/70 [00:00<?, ?it/s]"
      ]
     },
     "metadata": {},
     "output_type": "display_data"
    },
    {
     "name": "stderr",
     "output_type": "stream",
     "text": [
      "INFO - 2025-10-17T13:53:56Z - Successfully downloaded to glory_data/glory_1993-10-04.nc\n",
      "INFO - 2025-10-17T13:53:58Z - Selected dataset version: \"202311\"\n",
      "INFO - 2025-10-17T13:53:58Z - Selected dataset part: \"default\"\n",
      "INFO - 2025-10-17T13:54:05Z - Starting download. Please wait...\n"
     ]
    },
    {
     "data": {
      "application/vnd.jupyter.widget-view+json": {
       "model_id": "96affad9bcdb4d5baf0aeb3426dbbaf9",
       "version_major": 2,
       "version_minor": 0
      },
      "text/plain": [
       "  0%|          | 0/70 [00:00<?, ?it/s]"
      ]
     },
     "metadata": {},
     "output_type": "display_data"
    },
    {
     "name": "stderr",
     "output_type": "stream",
     "text": [
      "INFO - 2025-10-17T13:56:31Z - Successfully downloaded to glory_data/glory_1993-10-05.nc\n",
      "INFO - 2025-10-17T13:56:34Z - Selected dataset version: \"202311\"\n",
      "INFO - 2025-10-17T13:56:34Z - Selected dataset part: \"default\"\n",
      "INFO - 2025-10-17T13:56:40Z - Starting download. Please wait...\n"
     ]
    },
    {
     "data": {
      "application/vnd.jupyter.widget-view+json": {
       "model_id": "688059ae340f4fcdbf394a2eda31af2d",
       "version_major": 2,
       "version_minor": 0
      },
      "text/plain": [
       "  0%|          | 0/70 [00:00<?, ?it/s]"
      ]
     },
     "metadata": {},
     "output_type": "display_data"
    },
    {
     "name": "stderr",
     "output_type": "stream",
     "text": [
      "INFO - 2025-10-17T13:59:03Z - Successfully downloaded to glory_data/glory_1993-10-06.nc\n",
      "INFO - 2025-10-17T13:59:06Z - Selected dataset version: \"202311\"\n",
      "INFO - 2025-10-17T13:59:06Z - Selected dataset part: \"default\"\n",
      "INFO - 2025-10-17T13:59:13Z - Starting download. Please wait...\n"
     ]
    },
    {
     "data": {
      "application/vnd.jupyter.widget-view+json": {
       "model_id": "e65dedb97007402bbdbfd2ef4d98bedd",
       "version_major": 2,
       "version_minor": 0
      },
      "text/plain": [
       "  0%|          | 0/70 [00:00<?, ?it/s]"
      ]
     },
     "metadata": {},
     "output_type": "display_data"
    },
    {
     "name": "stderr",
     "output_type": "stream",
     "text": [
      "INFO - 2025-10-17T14:02:16Z - Successfully downloaded to glory_data/glory_1993-10-07.nc\n",
      "INFO - 2025-10-17T14:02:19Z - Selected dataset version: \"202311\"\n",
      "INFO - 2025-10-17T14:02:19Z - Selected dataset part: \"default\"\n",
      "INFO - 2025-10-17T14:02:25Z - Starting download. Please wait...\n"
     ]
    },
    {
     "data": {
      "application/vnd.jupyter.widget-view+json": {
       "model_id": "1fcb37202f744f9ca20d2f2a2b4ab645",
       "version_major": 2,
       "version_minor": 0
      },
      "text/plain": [
       "  0%|          | 0/70 [00:00<?, ?it/s]"
      ]
     },
     "metadata": {},
     "output_type": "display_data"
    },
    {
     "name": "stderr",
     "output_type": "stream",
     "text": [
      "INFO - 2025-10-17T14:04:39Z - Successfully downloaded to glory_data/glory_1993-10-08.nc\n",
      "INFO - 2025-10-17T14:04:42Z - Selected dataset version: \"202311\"\n",
      "INFO - 2025-10-17T14:04:42Z - Selected dataset part: \"default\"\n",
      "INFO - 2025-10-17T14:04:49Z - Starting download. Please wait...\n"
     ]
    },
    {
     "data": {
      "application/vnd.jupyter.widget-view+json": {
       "model_id": "9a7d9f35009744ea90d29a278db6cf5e",
       "version_major": 2,
       "version_minor": 0
      },
      "text/plain": [
       "  0%|          | 0/70 [00:00<?, ?it/s]"
      ]
     },
     "metadata": {},
     "output_type": "display_data"
    },
    {
     "name": "stderr",
     "output_type": "stream",
     "text": [
      "INFO - 2025-10-17T14:07:15Z - Successfully downloaded to glory_data/glory_1993-10-09.nc\n",
      "INFO - 2025-10-17T14:07:18Z - Selected dataset version: \"202311\"\n",
      "INFO - 2025-10-17T14:07:18Z - Selected dataset part: \"default\"\n",
      "INFO - 2025-10-17T14:07:25Z - Starting download. Please wait...\n"
     ]
    },
    {
     "data": {
      "application/vnd.jupyter.widget-view+json": {
       "model_id": "6697fc67f1754e19bda390aabca8c8f7",
       "version_major": 2,
       "version_minor": 0
      },
      "text/plain": [
       "  0%|          | 0/70 [00:00<?, ?it/s]"
      ]
     },
     "metadata": {},
     "output_type": "display_data"
    },
    {
     "name": "stderr",
     "output_type": "stream",
     "text": [
      "INFO - 2025-10-17T14:09:50Z - Successfully downloaded to glory_data/glory_1993-10-10.nc\n",
      "INFO - 2025-10-17T14:09:53Z - Selected dataset version: \"202311\"\n",
      "INFO - 2025-10-17T14:09:53Z - Selected dataset part: \"default\"\n",
      "INFO - 2025-10-17T14:10:00Z - Starting download. Please wait...\n"
     ]
    },
    {
     "data": {
      "application/vnd.jupyter.widget-view+json": {
       "model_id": "7757ea8ebd40472db660ce3eeee8e813",
       "version_major": 2,
       "version_minor": 0
      },
      "text/plain": [
       "  0%|          | 0/70 [00:00<?, ?it/s]"
      ]
     },
     "metadata": {},
     "output_type": "display_data"
    },
    {
     "name": "stderr",
     "output_type": "stream",
     "text": [
      "INFO - 2025-10-17T14:12:20Z - Successfully downloaded to glory_data/glory_1993-10-11.nc\n",
      "INFO - 2025-10-17T14:12:25Z - Selected dataset version: \"202311\"\n",
      "INFO - 2025-10-17T14:12:25Z - Selected dataset part: \"default\"\n",
      "INFO - 2025-10-17T14:12:31Z - Starting download. Please wait...\n"
     ]
    },
    {
     "data": {
      "application/vnd.jupyter.widget-view+json": {
       "model_id": "cc33b1a578414729be76610568899d08",
       "version_major": 2,
       "version_minor": 0
      },
      "text/plain": [
       "  0%|          | 0/70 [00:00<?, ?it/s]"
      ]
     },
     "metadata": {},
     "output_type": "display_data"
    },
    {
     "name": "stderr",
     "output_type": "stream",
     "text": [
      "INFO - 2025-10-17T14:14:49Z - Successfully downloaded to glory_data/glory_1993-10-12.nc\n",
      "INFO - 2025-10-17T14:14:52Z - Selected dataset version: \"202311\"\n",
      "INFO - 2025-10-17T14:14:52Z - Selected dataset part: \"default\"\n",
      "INFO - 2025-10-17T14:14:59Z - Starting download. Please wait...\n"
     ]
    },
    {
     "data": {
      "application/vnd.jupyter.widget-view+json": {
       "model_id": "692c12f61200490fa753d35df5ba873d",
       "version_major": 2,
       "version_minor": 0
      },
      "text/plain": [
       "  0%|          | 0/70 [00:00<?, ?it/s]"
      ]
     },
     "metadata": {},
     "output_type": "display_data"
    },
    {
     "name": "stderr",
     "output_type": "stream",
     "text": [
      "INFO - 2025-10-17T14:17:17Z - Successfully downloaded to glory_data/glory_1993-10-13.nc\n",
      "INFO - 2025-10-17T14:17:20Z - Selected dataset version: \"202311\"\n",
      "INFO - 2025-10-17T14:17:20Z - Selected dataset part: \"default\"\n",
      "INFO - 2025-10-17T14:17:27Z - Starting download. Please wait...\n"
     ]
    },
    {
     "data": {
      "application/vnd.jupyter.widget-view+json": {
       "model_id": "bf30e09dae6445fb9abc7abdd937b13e",
       "version_major": 2,
       "version_minor": 0
      },
      "text/plain": [
       "  0%|          | 0/70 [00:00<?, ?it/s]"
      ]
     },
     "metadata": {},
     "output_type": "display_data"
    },
    {
     "name": "stderr",
     "output_type": "stream",
     "text": [
      "INFO - 2025-10-17T14:19:47Z - Successfully downloaded to glory_data/glory_1993-10-14.nc\n",
      "INFO - 2025-10-17T14:19:50Z - Selected dataset version: \"202311\"\n",
      "INFO - 2025-10-17T14:19:50Z - Selected dataset part: \"default\"\n",
      "INFO - 2025-10-17T14:19:58Z - Starting download. Please wait...\n"
     ]
    },
    {
     "data": {
      "application/vnd.jupyter.widget-view+json": {
       "model_id": "c5a080ac1eb641f6938de45dcb342591",
       "version_major": 2,
       "version_minor": 0
      },
      "text/plain": [
       "  0%|          | 0/70 [00:00<?, ?it/s]"
      ]
     },
     "metadata": {},
     "output_type": "display_data"
    },
    {
     "name": "stderr",
     "output_type": "stream",
     "text": [
      "INFO - 2025-10-17T14:22:10Z - Successfully downloaded to glory_data/glory_1993-10-15.nc\n",
      "INFO - 2025-10-17T14:22:13Z - Selected dataset version: \"202311\"\n",
      "INFO - 2025-10-17T14:22:13Z - Selected dataset part: \"default\"\n",
      "INFO - 2025-10-17T14:22:19Z - Starting download. Please wait...\n"
     ]
    },
    {
     "data": {
      "application/vnd.jupyter.widget-view+json": {
       "model_id": "095c14bd138e4c18ab764fd08770baba",
       "version_major": 2,
       "version_minor": 0
      },
      "text/plain": [
       "  0%|          | 0/70 [00:00<?, ?it/s]"
      ]
     },
     "metadata": {},
     "output_type": "display_data"
    },
    {
     "name": "stderr",
     "output_type": "stream",
     "text": [
      "INFO - 2025-10-17T14:24:50Z - Successfully downloaded to glory_data/glory_1993-10-16.nc\n",
      "INFO - 2025-10-17T14:24:53Z - Selected dataset version: \"202311\"\n",
      "INFO - 2025-10-17T14:24:53Z - Selected dataset part: \"default\"\n",
      "INFO - 2025-10-17T14:25:00Z - Starting download. Please wait...\n"
     ]
    },
    {
     "data": {
      "application/vnd.jupyter.widget-view+json": {
       "model_id": "84061e1166d3416b903e65d26962c6e8",
       "version_major": 2,
       "version_minor": 0
      },
      "text/plain": [
       "  0%|          | 0/70 [00:00<?, ?it/s]"
      ]
     },
     "metadata": {},
     "output_type": "display_data"
    },
    {
     "name": "stderr",
     "output_type": "stream",
     "text": [
      "INFO - 2025-10-17T14:27:22Z - Successfully downloaded to glory_data/glory_1993-10-17.nc\n",
      "INFO - 2025-10-17T14:27:25Z - Selected dataset version: \"202311\"\n",
      "INFO - 2025-10-17T14:27:25Z - Selected dataset part: \"default\"\n",
      "INFO - 2025-10-17T14:27:32Z - Starting download. Please wait...\n"
     ]
    },
    {
     "data": {
      "application/vnd.jupyter.widget-view+json": {
       "model_id": "f9414b41bbfc404ea2a963267a65dd16",
       "version_major": 2,
       "version_minor": 0
      },
      "text/plain": [
       "  0%|          | 0/70 [00:00<?, ?it/s]"
      ]
     },
     "metadata": {},
     "output_type": "display_data"
    },
    {
     "name": "stderr",
     "output_type": "stream",
     "text": [
      "INFO - 2025-10-17T14:30:01Z - Successfully downloaded to glory_data/glory_1993-10-18.nc\n",
      "INFO - 2025-10-17T14:30:03Z - Selected dataset version: \"202311\"\n",
      "INFO - 2025-10-17T14:30:03Z - Selected dataset part: \"default\"\n",
      "INFO - 2025-10-17T14:30:10Z - Starting download. Please wait...\n"
     ]
    },
    {
     "data": {
      "application/vnd.jupyter.widget-view+json": {
       "model_id": "5d7a36c731b14a94b504b53ae5d2ad18",
       "version_major": 2,
       "version_minor": 0
      },
      "text/plain": [
       "  0%|          | 0/70 [00:00<?, ?it/s]"
      ]
     },
     "metadata": {},
     "output_type": "display_data"
    },
    {
     "name": "stderr",
     "output_type": "stream",
     "text": [
      "INFO - 2025-10-17T14:32:29Z - Successfully downloaded to glory_data/glory_1993-10-19.nc\n",
      "INFO - 2025-10-17T14:32:32Z - Selected dataset version: \"202311\"\n",
      "INFO - 2025-10-17T14:32:32Z - Selected dataset part: \"default\"\n",
      "INFO - 2025-10-17T14:32:39Z - Starting download. Please wait...\n"
     ]
    },
    {
     "data": {
      "application/vnd.jupyter.widget-view+json": {
       "model_id": "fc6f882b9a114aeea1269de80ff936db",
       "version_major": 2,
       "version_minor": 0
      },
      "text/plain": [
       "  0%|          | 0/70 [00:00<?, ?it/s]"
      ]
     },
     "metadata": {},
     "output_type": "display_data"
    },
    {
     "name": "stderr",
     "output_type": "stream",
     "text": [
      "INFO - 2025-10-17T14:34:56Z - Successfully downloaded to glory_data/glory_1993-10-20.nc\n",
      "INFO - 2025-10-17T14:34:59Z - Selected dataset version: \"202311\"\n",
      "INFO - 2025-10-17T14:34:59Z - Selected dataset part: \"default\"\n",
      "INFO - 2025-10-17T14:35:05Z - Starting download. Please wait...\n"
     ]
    },
    {
     "data": {
      "application/vnd.jupyter.widget-view+json": {
       "model_id": "c0d672c05e174fcdb6bf336e94de06d2",
       "version_major": 2,
       "version_minor": 0
      },
      "text/plain": [
       "  0%|          | 0/70 [00:00<?, ?it/s]"
      ]
     },
     "metadata": {},
     "output_type": "display_data"
    },
    {
     "name": "stderr",
     "output_type": "stream",
     "text": [
      "INFO - 2025-10-17T14:37:17Z - Successfully downloaded to glory_data/glory_1993-10-21.nc\n",
      "INFO - 2025-10-17T14:37:20Z - Selected dataset version: \"202311\"\n",
      "INFO - 2025-10-17T14:37:20Z - Selected dataset part: \"default\"\n",
      "INFO - 2025-10-17T14:37:27Z - Starting download. Please wait...\n"
     ]
    },
    {
     "data": {
      "application/vnd.jupyter.widget-view+json": {
       "model_id": "d2a52f98a3834d8291f87d4c72f23234",
       "version_major": 2,
       "version_minor": 0
      },
      "text/plain": [
       "  0%|          | 0/70 [00:00<?, ?it/s]"
      ]
     },
     "metadata": {},
     "output_type": "display_data"
    },
    {
     "name": "stderr",
     "output_type": "stream",
     "text": [
      "INFO - 2025-10-17T14:39:48Z - Successfully downloaded to glory_data/glory_1993-10-22.nc\n",
      "INFO - 2025-10-17T14:39:51Z - Selected dataset version: \"202311\"\n",
      "INFO - 2025-10-17T14:39:51Z - Selected dataset part: \"default\"\n",
      "INFO - 2025-10-17T14:39:58Z - Starting download. Please wait...\n"
     ]
    },
    {
     "data": {
      "application/vnd.jupyter.widget-view+json": {
       "model_id": "f5a04ae72863409f8e09b34d1b892932",
       "version_major": 2,
       "version_minor": 0
      },
      "text/plain": [
       "  0%|          | 0/70 [00:00<?, ?it/s]"
      ]
     },
     "metadata": {},
     "output_type": "display_data"
    },
    {
     "name": "stderr",
     "output_type": "stream",
     "text": [
      "INFO - 2025-10-17T14:42:17Z - Successfully downloaded to glory_data/glory_1993-10-23.nc\n",
      "INFO - 2025-10-17T14:42:21Z - Selected dataset version: \"202311\"\n",
      "INFO - 2025-10-17T14:42:21Z - Selected dataset part: \"default\"\n",
      "INFO - 2025-10-17T14:42:29Z - Starting download. Please wait...\n"
     ]
    },
    {
     "data": {
      "application/vnd.jupyter.widget-view+json": {
       "model_id": "defa3b3d73b0412f9bf7fb48ee76f13f",
       "version_major": 2,
       "version_minor": 0
      },
      "text/plain": [
       "  0%|          | 0/70 [00:00<?, ?it/s]"
      ]
     },
     "metadata": {},
     "output_type": "display_data"
    },
    {
     "name": "stderr",
     "output_type": "stream",
     "text": [
      "INFO - 2025-10-17T14:45:02Z - Successfully downloaded to glory_data/glory_1993-10-24.nc\n",
      "INFO - 2025-10-17T14:45:04Z - Selected dataset version: \"202311\"\n",
      "INFO - 2025-10-17T14:45:04Z - Selected dataset part: \"default\"\n",
      "INFO - 2025-10-17T14:45:12Z - Starting download. Please wait...\n"
     ]
    },
    {
     "data": {
      "application/vnd.jupyter.widget-view+json": {
       "model_id": "46d33686ebc046748210bf9101852b2c",
       "version_major": 2,
       "version_minor": 0
      },
      "text/plain": [
       "  0%|          | 0/70 [00:00<?, ?it/s]"
      ]
     },
     "metadata": {},
     "output_type": "display_data"
    },
    {
     "name": "stderr",
     "output_type": "stream",
     "text": [
      "INFO - 2025-10-17T14:47:35Z - Successfully downloaded to glory_data/glory_1993-10-25.nc\n",
      "INFO - 2025-10-17T14:47:37Z - Selected dataset version: \"202311\"\n",
      "INFO - 2025-10-17T14:47:37Z - Selected dataset part: \"default\"\n",
      "INFO - 2025-10-17T14:47:44Z - Starting download. Please wait...\n"
     ]
    },
    {
     "data": {
      "application/vnd.jupyter.widget-view+json": {
       "model_id": "caa91162f37f4414a945260717a8eeaa",
       "version_major": 2,
       "version_minor": 0
      },
      "text/plain": [
       "  0%|          | 0/70 [00:00<?, ?it/s]"
      ]
     },
     "metadata": {},
     "output_type": "display_data"
    },
    {
     "name": "stderr",
     "output_type": "stream",
     "text": [
      "INFO - 2025-10-17T14:50:00Z - Successfully downloaded to glory_data/glory_1993-10-26.nc\n",
      "INFO - 2025-10-17T14:50:03Z - Selected dataset version: \"202311\"\n",
      "INFO - 2025-10-17T14:50:03Z - Selected dataset part: \"default\"\n",
      "INFO - 2025-10-17T14:50:09Z - Starting download. Please wait...\n"
     ]
    },
    {
     "data": {
      "application/vnd.jupyter.widget-view+json": {
       "model_id": "33616cf8d019451ab0f4db46398f35e5",
       "version_major": 2,
       "version_minor": 0
      },
      "text/plain": [
       "  0%|          | 0/70 [00:00<?, ?it/s]"
      ]
     },
     "metadata": {},
     "output_type": "display_data"
    },
    {
     "name": "stderr",
     "output_type": "stream",
     "text": [
      "INFO - 2025-10-17T14:52:21Z - Successfully downloaded to glory_data/glory_1993-10-27.nc\n",
      "INFO - 2025-10-17T14:52:24Z - Selected dataset version: \"202311\"\n",
      "INFO - 2025-10-17T14:52:24Z - Selected dataset part: \"default\"\n",
      "INFO - 2025-10-17T14:52:31Z - Starting download. Please wait...\n"
     ]
    },
    {
     "data": {
      "application/vnd.jupyter.widget-view+json": {
       "model_id": "0cd5fadce907424b96ca63f8b9580532",
       "version_major": 2,
       "version_minor": 0
      },
      "text/plain": [
       "  0%|          | 0/70 [00:00<?, ?it/s]"
      ]
     },
     "metadata": {},
     "output_type": "display_data"
    },
    {
     "name": "stderr",
     "output_type": "stream",
     "text": [
      "INFO - 2025-10-17T14:54:55Z - Successfully downloaded to glory_data/glory_1993-10-28.nc\n",
      "INFO - 2025-10-17T14:54:57Z - Selected dataset version: \"202311\"\n",
      "INFO - 2025-10-17T14:54:57Z - Selected dataset part: \"default\"\n",
      "INFO - 2025-10-17T14:55:04Z - Starting download. Please wait...\n"
     ]
    },
    {
     "data": {
      "application/vnd.jupyter.widget-view+json": {
       "model_id": "c1b243f3efef4db7a30ae5ba1e3771d8",
       "version_major": 2,
       "version_minor": 0
      },
      "text/plain": [
       "  0%|          | 0/70 [00:00<?, ?it/s]"
      ]
     },
     "metadata": {},
     "output_type": "display_data"
    },
    {
     "name": "stderr",
     "output_type": "stream",
     "text": [
      "INFO - 2025-10-17T14:57:21Z - Successfully downloaded to glory_data/glory_1993-10-29.nc\n",
      "INFO - 2025-10-17T14:57:27Z - Selected dataset version: \"202311\"\n",
      "INFO - 2025-10-17T14:57:27Z - Selected dataset part: \"default\"\n",
      "INFO - 2025-10-17T14:57:34Z - Starting download. Please wait...\n"
     ]
    },
    {
     "data": {
      "application/vnd.jupyter.widget-view+json": {
       "model_id": "d9e398dcbdbd4fa097fb933b969c6ccf",
       "version_major": 2,
       "version_minor": 0
      },
      "text/plain": [
       "  0%|          | 0/70 [00:00<?, ?it/s]"
      ]
     },
     "metadata": {},
     "output_type": "display_data"
    },
    {
     "name": "stderr",
     "output_type": "stream",
     "text": [
      "INFO - 2025-10-17T14:59:57Z - Successfully downloaded to glory_data/glory_1993-10-30.nc\n",
      "INFO - 2025-10-17T14:59:59Z - Selected dataset version: \"202311\"\n",
      "INFO - 2025-10-17T14:59:59Z - Selected dataset part: \"default\"\n",
      "INFO - 2025-10-17T15:00:06Z - Starting download. Please wait...\n"
     ]
    },
    {
     "data": {
      "application/vnd.jupyter.widget-view+json": {
       "model_id": "67e6fa290abc4f2e907afe2124868a40",
       "version_major": 2,
       "version_minor": 0
      },
      "text/plain": [
       "  0%|          | 0/70 [00:00<?, ?it/s]"
      ]
     },
     "metadata": {},
     "output_type": "display_data"
    },
    {
     "name": "stderr",
     "output_type": "stream",
     "text": [
      "INFO - 2025-10-17T15:02:25Z - Successfully downloaded to glory_data/glory_1993-10-31.nc\n",
      "INFO - 2025-10-17T15:02:28Z - Selected dataset version: \"202311\"\n",
      "INFO - 2025-10-17T15:02:28Z - Selected dataset part: \"default\"\n",
      "INFO - 2025-10-17T15:02:36Z - Starting download. Please wait...\n"
     ]
    },
    {
     "data": {
      "application/vnd.jupyter.widget-view+json": {
       "model_id": "3c670d0dd9aa484581fe0f607b8a563d",
       "version_major": 2,
       "version_minor": 0
      },
      "text/plain": [
       "  0%|          | 0/70 [00:00<?, ?it/s]"
      ]
     },
     "metadata": {},
     "output_type": "display_data"
    },
    {
     "name": "stderr",
     "output_type": "stream",
     "text": [
      "INFO - 2025-10-17T15:04:54Z - Successfully downloaded to glory_data/glory_1993-11-01.nc\n",
      "INFO - 2025-10-17T15:04:57Z - Selected dataset version: \"202311\"\n",
      "INFO - 2025-10-17T15:04:57Z - Selected dataset part: \"default\"\n",
      "INFO - 2025-10-17T15:05:03Z - Starting download. Please wait...\n"
     ]
    },
    {
     "data": {
      "application/vnd.jupyter.widget-view+json": {
       "model_id": "3e6c63758b874e4d8a778f027dea7be1",
       "version_major": 2,
       "version_minor": 0
      },
      "text/plain": [
       "  0%|          | 0/70 [00:00<?, ?it/s]"
      ]
     },
     "metadata": {},
     "output_type": "display_data"
    },
    {
     "name": "stderr",
     "output_type": "stream",
     "text": [
      "INFO - 2025-10-17T15:07:20Z - Successfully downloaded to glory_data/glory_1993-11-02.nc\n",
      "INFO - 2025-10-17T15:07:24Z - Selected dataset version: \"202311\"\n",
      "INFO - 2025-10-17T15:07:24Z - Selected dataset part: \"default\"\n",
      "INFO - 2025-10-17T15:07:31Z - Starting download. Please wait...\n"
     ]
    },
    {
     "data": {
      "application/vnd.jupyter.widget-view+json": {
       "model_id": "64a3a90a9cef44c49e910b486d9f0caf",
       "version_major": 2,
       "version_minor": 0
      },
      "text/plain": [
       "  0%|          | 0/70 [00:00<?, ?it/s]"
      ]
     },
     "metadata": {},
     "output_type": "display_data"
    },
    {
     "name": "stderr",
     "output_type": "stream",
     "text": [
      "INFO - 2025-10-17T15:09:49Z - Successfully downloaded to glory_data/glory_1993-11-03.nc\n",
      "INFO - 2025-10-17T15:09:51Z - Selected dataset version: \"202311\"\n",
      "INFO - 2025-10-17T15:09:51Z - Selected dataset part: \"default\"\n",
      "INFO - 2025-10-17T15:09:59Z - Starting download. Please wait...\n"
     ]
    },
    {
     "data": {
      "application/vnd.jupyter.widget-view+json": {
       "model_id": "99f83edc32124e4db395812383f9a4b9",
       "version_major": 2,
       "version_minor": 0
      },
      "text/plain": [
       "  0%|          | 0/70 [00:00<?, ?it/s]"
      ]
     },
     "metadata": {},
     "output_type": "display_data"
    },
    {
     "name": "stderr",
     "output_type": "stream",
     "text": [
      "INFO - 2025-10-17T15:12:24Z - Successfully downloaded to glory_data/glory_1993-11-04.nc\n",
      "INFO - 2025-10-17T15:12:27Z - Selected dataset version: \"202311\"\n",
      "INFO - 2025-10-17T15:12:27Z - Selected dataset part: \"default\"\n",
      "INFO - 2025-10-17T15:12:33Z - Starting download. Please wait...\n"
     ]
    },
    {
     "data": {
      "application/vnd.jupyter.widget-view+json": {
       "model_id": "31f949c6a81e4de8a4b6f7578422558a",
       "version_major": 2,
       "version_minor": 0
      },
      "text/plain": [
       "  0%|          | 0/70 [00:00<?, ?it/s]"
      ]
     },
     "metadata": {},
     "output_type": "display_data"
    },
    {
     "name": "stderr",
     "output_type": "stream",
     "text": [
      "INFO - 2025-10-17T15:15:00Z - Successfully downloaded to glory_data/glory_1993-11-05.nc\n",
      "INFO - 2025-10-17T15:15:02Z - Selected dataset version: \"202311\"\n",
      "INFO - 2025-10-17T15:15:02Z - Selected dataset part: \"default\"\n",
      "INFO - 2025-10-17T15:15:09Z - Starting download. Please wait...\n"
     ]
    },
    {
     "data": {
      "application/vnd.jupyter.widget-view+json": {
       "model_id": "eee641490a7b4c0ca68e3ede538a2086",
       "version_major": 2,
       "version_minor": 0
      },
      "text/plain": [
       "  0%|          | 0/70 [00:00<?, ?it/s]"
      ]
     },
     "metadata": {},
     "output_type": "display_data"
    },
    {
     "name": "stderr",
     "output_type": "stream",
     "text": [
      "INFO - 2025-10-17T15:17:32Z - Successfully downloaded to glory_data/glory_1993-11-06.nc\n",
      "INFO - 2025-10-17T15:17:34Z - Selected dataset version: \"202311\"\n",
      "INFO - 2025-10-17T15:17:34Z - Selected dataset part: \"default\"\n",
      "INFO - 2025-10-17T15:17:42Z - Starting download. Please wait...\n"
     ]
    },
    {
     "data": {
      "application/vnd.jupyter.widget-view+json": {
       "model_id": "f1e583dd836d4c96b8885145fd62002b",
       "version_major": 2,
       "version_minor": 0
      },
      "text/plain": [
       "  0%|          | 0/70 [00:00<?, ?it/s]"
      ]
     },
     "metadata": {},
     "output_type": "display_data"
    },
    {
     "name": "stderr",
     "output_type": "stream",
     "text": [
      "INFO - 2025-10-17T15:19:55Z - Successfully downloaded to glory_data/glory_1993-11-07.nc\n",
      "INFO - 2025-10-17T15:19:58Z - Selected dataset version: \"202311\"\n",
      "INFO - 2025-10-17T15:19:58Z - Selected dataset part: \"default\"\n",
      "INFO - 2025-10-17T15:20:05Z - Starting download. Please wait...\n"
     ]
    },
    {
     "data": {
      "application/vnd.jupyter.widget-view+json": {
       "model_id": "2e66bd70ae2f47b69c2155f45dc43100",
       "version_major": 2,
       "version_minor": 0
      },
      "text/plain": [
       "  0%|          | 0/70 [00:00<?, ?it/s]"
      ]
     },
     "metadata": {},
     "output_type": "display_data"
    },
    {
     "name": "stderr",
     "output_type": "stream",
     "text": [
      "INFO - 2025-10-17T15:22:29Z - Successfully downloaded to glory_data/glory_1993-11-08.nc\n",
      "INFO - 2025-10-17T15:22:32Z - Selected dataset version: \"202311\"\n",
      "INFO - 2025-10-17T15:22:32Z - Selected dataset part: \"default\"\n",
      "INFO - 2025-10-17T15:22:39Z - Starting download. Please wait...\n"
     ]
    },
    {
     "data": {
      "application/vnd.jupyter.widget-view+json": {
       "model_id": "15d64f2a2a8f4fc681a39c746c744ff9",
       "version_major": 2,
       "version_minor": 0
      },
      "text/plain": [
       "  0%|          | 0/70 [00:00<?, ?it/s]"
      ]
     },
     "metadata": {},
     "output_type": "display_data"
    },
    {
     "name": "stderr",
     "output_type": "stream",
     "text": [
      "INFO - 2025-10-17T15:25:02Z - Successfully downloaded to glory_data/glory_1993-11-09.nc\n",
      "INFO - 2025-10-17T15:25:05Z - Selected dataset version: \"202311\"\n",
      "INFO - 2025-10-17T15:25:05Z - Selected dataset part: \"default\"\n",
      "INFO - 2025-10-17T15:25:12Z - Starting download. Please wait...\n"
     ]
    },
    {
     "data": {
      "application/vnd.jupyter.widget-view+json": {
       "model_id": "1920d265416942afa072cd0bb0c8260d",
       "version_major": 2,
       "version_minor": 0
      },
      "text/plain": [
       "  0%|          | 0/70 [00:00<?, ?it/s]"
      ]
     },
     "metadata": {},
     "output_type": "display_data"
    },
    {
     "name": "stderr",
     "output_type": "stream",
     "text": [
      "INFO - 2025-10-17T15:27:38Z - Successfully downloaded to glory_data/glory_1993-11-10.nc\n",
      "INFO - 2025-10-17T15:27:40Z - Selected dataset version: \"202311\"\n",
      "INFO - 2025-10-17T15:27:40Z - Selected dataset part: \"default\"\n",
      "INFO - 2025-10-17T15:27:47Z - Starting download. Please wait...\n"
     ]
    },
    {
     "data": {
      "application/vnd.jupyter.widget-view+json": {
       "model_id": "d684655189604a56bdeb96d61db88850",
       "version_major": 2,
       "version_minor": 0
      },
      "text/plain": [
       "  0%|          | 0/70 [00:00<?, ?it/s]"
      ]
     },
     "metadata": {},
     "output_type": "display_data"
    },
    {
     "name": "stderr",
     "output_type": "stream",
     "text": [
      "INFO - 2025-10-17T15:30:34Z - Successfully downloaded to glory_data/glory_1993-11-11.nc\n",
      "INFO - 2025-10-17T15:30:37Z - Selected dataset version: \"202311\"\n",
      "INFO - 2025-10-17T15:30:37Z - Selected dataset part: \"default\"\n",
      "INFO - 2025-10-17T15:30:44Z - Starting download. Please wait...\n"
     ]
    },
    {
     "data": {
      "application/vnd.jupyter.widget-view+json": {
       "model_id": "a7ac5916315242a3922cba445a71622d",
       "version_major": 2,
       "version_minor": 0
      },
      "text/plain": [
       "  0%|          | 0/70 [00:00<?, ?it/s]"
      ]
     },
     "metadata": {},
     "output_type": "display_data"
    },
    {
     "name": "stderr",
     "output_type": "stream",
     "text": [
      "INFO - 2025-10-17T15:33:01Z - Successfully downloaded to glory_data/glory_1993-11-12.nc\n",
      "INFO - 2025-10-17T15:33:04Z - Selected dataset version: \"202311\"\n",
      "INFO - 2025-10-17T15:33:04Z - Selected dataset part: \"default\"\n",
      "INFO - 2025-10-17T15:33:11Z - Starting download. Please wait...\n"
     ]
    },
    {
     "data": {
      "application/vnd.jupyter.widget-view+json": {
       "model_id": "1c638c75a3ed49168692eb2659dc0472",
       "version_major": 2,
       "version_minor": 0
      },
      "text/plain": [
       "  0%|          | 0/70 [00:00<?, ?it/s]"
      ]
     },
     "metadata": {},
     "output_type": "display_data"
    },
    {
     "name": "stderr",
     "output_type": "stream",
     "text": [
      "INFO - 2025-10-17T15:35:35Z - Successfully downloaded to glory_data/glory_1993-11-13.nc\n",
      "INFO - 2025-10-17T15:35:38Z - Selected dataset version: \"202311\"\n",
      "INFO - 2025-10-17T15:35:38Z - Selected dataset part: \"default\"\n",
      "INFO - 2025-10-17T15:35:44Z - Starting download. Please wait...\n"
     ]
    },
    {
     "data": {
      "application/vnd.jupyter.widget-view+json": {
       "model_id": "494bcfb1e4314f71b41ba2e75f976b3f",
       "version_major": 2,
       "version_minor": 0
      },
      "text/plain": [
       "  0%|          | 0/70 [00:00<?, ?it/s]"
      ]
     },
     "metadata": {},
     "output_type": "display_data"
    },
    {
     "name": "stderr",
     "output_type": "stream",
     "text": [
      "INFO - 2025-10-17T15:38:11Z - Successfully downloaded to glory_data/glory_1993-11-14.nc\n",
      "INFO - 2025-10-17T15:38:13Z - Selected dataset version: \"202311\"\n",
      "INFO - 2025-10-17T15:38:13Z - Selected dataset part: \"default\"\n",
      "INFO - 2025-10-17T15:38:21Z - Starting download. Please wait...\n"
     ]
    },
    {
     "data": {
      "application/vnd.jupyter.widget-view+json": {
       "model_id": "5107104f0bf94e55b99b00c02b03268f",
       "version_major": 2,
       "version_minor": 0
      },
      "text/plain": [
       "  0%|          | 0/70 [00:00<?, ?it/s]"
      ]
     },
     "metadata": {},
     "output_type": "display_data"
    },
    {
     "name": "stderr",
     "output_type": "stream",
     "text": [
      "INFO - 2025-10-17T15:40:41Z - Successfully downloaded to glory_data/glory_1993-11-15.nc\n",
      "INFO - 2025-10-17T15:40:43Z - Selected dataset version: \"202311\"\n",
      "INFO - 2025-10-17T15:40:43Z - Selected dataset part: \"default\"\n",
      "INFO - 2025-10-17T15:40:50Z - Starting download. Please wait...\n"
     ]
    },
    {
     "data": {
      "application/vnd.jupyter.widget-view+json": {
       "model_id": "5a8cd06dfdce4d9793848eb2ea0b6847",
       "version_major": 2,
       "version_minor": 0
      },
      "text/plain": [
       "  0%|          | 0/70 [00:00<?, ?it/s]"
      ]
     },
     "metadata": {},
     "output_type": "display_data"
    },
    {
     "name": "stderr",
     "output_type": "stream",
     "text": [
      "INFO - 2025-10-17T15:43:10Z - Successfully downloaded to glory_data/glory_1993-11-16.nc\n",
      "INFO - 2025-10-17T15:43:13Z - Selected dataset version: \"202311\"\n",
      "INFO - 2025-10-17T15:43:13Z - Selected dataset part: \"default\"\n",
      "INFO - 2025-10-17T15:43:20Z - Starting download. Please wait...\n"
     ]
    },
    {
     "data": {
      "application/vnd.jupyter.widget-view+json": {
       "model_id": "82c87bf1dfe04962a5f60fa67670b876",
       "version_major": 2,
       "version_minor": 0
      },
      "text/plain": [
       "  0%|          | 0/70 [00:00<?, ?it/s]"
      ]
     },
     "metadata": {},
     "output_type": "display_data"
    },
    {
     "name": "stderr",
     "output_type": "stream",
     "text": [
      "INFO - 2025-10-17T15:45:32Z - Successfully downloaded to glory_data/glory_1993-11-17.nc\n",
      "INFO - 2025-10-17T15:45:35Z - Selected dataset version: \"202311\"\n",
      "INFO - 2025-10-17T15:45:35Z - Selected dataset part: \"default\"\n",
      "INFO - 2025-10-17T15:45:42Z - Starting download. Please wait...\n"
     ]
    },
    {
     "data": {
      "application/vnd.jupyter.widget-view+json": {
       "model_id": "6612d14614f34f61ba32e0d66dc5a258",
       "version_major": 2,
       "version_minor": 0
      },
      "text/plain": [
       "  0%|          | 0/70 [00:00<?, ?it/s]"
      ]
     },
     "metadata": {},
     "output_type": "display_data"
    },
    {
     "name": "stderr",
     "output_type": "stream",
     "text": [
      "INFO - 2025-10-17T15:48:11Z - Successfully downloaded to glory_data/glory_1993-11-18.nc\n",
      "INFO - 2025-10-17T15:48:14Z - Selected dataset version: \"202311\"\n",
      "INFO - 2025-10-17T15:48:14Z - Selected dataset part: \"default\"\n",
      "INFO - 2025-10-17T15:48:22Z - Starting download. Please wait...\n"
     ]
    },
    {
     "data": {
      "application/vnd.jupyter.widget-view+json": {
       "model_id": "e59fcba127184f6b8492586b2a037530",
       "version_major": 2,
       "version_minor": 0
      },
      "text/plain": [
       "  0%|          | 0/70 [00:00<?, ?it/s]"
      ]
     },
     "metadata": {},
     "output_type": "display_data"
    },
    {
     "name": "stderr",
     "output_type": "stream",
     "text": [
      "INFO - 2025-10-17T15:50:48Z - Successfully downloaded to glory_data/glory_1993-11-19.nc\n",
      "INFO - 2025-10-17T15:50:51Z - Selected dataset version: \"202311\"\n",
      "INFO - 2025-10-17T15:50:51Z - Selected dataset part: \"default\"\n",
      "INFO - 2025-10-17T15:50:57Z - Starting download. Please wait...\n"
     ]
    },
    {
     "data": {
      "application/vnd.jupyter.widget-view+json": {
       "model_id": "a6b2c345b18b40ca862ee37f32a258b5",
       "version_major": 2,
       "version_minor": 0
      },
      "text/plain": [
       "  0%|          | 0/70 [00:00<?, ?it/s]"
      ]
     },
     "metadata": {},
     "output_type": "display_data"
    },
    {
     "name": "stderr",
     "output_type": "stream",
     "text": [
      "INFO - 2025-10-17T15:53:15Z - Successfully downloaded to glory_data/glory_1993-11-20.nc\n",
      "INFO - 2025-10-17T15:53:17Z - Selected dataset version: \"202311\"\n",
      "INFO - 2025-10-17T15:53:17Z - Selected dataset part: \"default\"\n",
      "INFO - 2025-10-17T15:53:25Z - Starting download. Please wait...\n"
     ]
    },
    {
     "data": {
      "application/vnd.jupyter.widget-view+json": {
       "model_id": "ffbe6baabe4c41249de4ca9f91de1ed2",
       "version_major": 2,
       "version_minor": 0
      },
      "text/plain": [
       "  0%|          | 0/70 [00:00<?, ?it/s]"
      ]
     },
     "metadata": {},
     "output_type": "display_data"
    },
    {
     "name": "stderr",
     "output_type": "stream",
     "text": [
      "INFO - 2025-10-17T15:55:51Z - Successfully downloaded to glory_data/glory_1993-11-21.nc\n",
      "INFO - 2025-10-17T15:55:54Z - Selected dataset version: \"202311\"\n",
      "INFO - 2025-10-17T15:55:54Z - Selected dataset part: \"default\"\n",
      "INFO - 2025-10-17T15:56:01Z - Starting download. Please wait...\n"
     ]
    },
    {
     "data": {
      "application/vnd.jupyter.widget-view+json": {
       "model_id": "079f0fa1ad6c4ac3980d19ba99d2b6e5",
       "version_major": 2,
       "version_minor": 0
      },
      "text/plain": [
       "  0%|          | 0/70 [00:00<?, ?it/s]"
      ]
     },
     "metadata": {},
     "output_type": "display_data"
    },
    {
     "name": "stderr",
     "output_type": "stream",
     "text": [
      "INFO - 2025-10-17T15:58:31Z - Successfully downloaded to glory_data/glory_1993-11-22.nc\n",
      "INFO - 2025-10-17T15:58:34Z - Selected dataset version: \"202311\"\n",
      "INFO - 2025-10-17T15:58:34Z - Selected dataset part: \"default\"\n",
      "INFO - 2025-10-17T15:58:40Z - Starting download. Please wait...\n"
     ]
    },
    {
     "data": {
      "application/vnd.jupyter.widget-view+json": {
       "model_id": "ede8ca05e4964bcebb400c42db6fbf04",
       "version_major": 2,
       "version_minor": 0
      },
      "text/plain": [
       "  0%|          | 0/70 [00:00<?, ?it/s]"
      ]
     },
     "metadata": {},
     "output_type": "display_data"
    },
    {
     "name": "stderr",
     "output_type": "stream",
     "text": [
      "INFO - 2025-10-17T16:00:52Z - Successfully downloaded to glory_data/glory_1993-11-23.nc\n",
      "INFO - 2025-10-17T16:00:55Z - Selected dataset version: \"202311\"\n",
      "INFO - 2025-10-17T16:00:55Z - Selected dataset part: \"default\"\n",
      "INFO - 2025-10-17T16:01:03Z - Starting download. Please wait...\n"
     ]
    },
    {
     "data": {
      "application/vnd.jupyter.widget-view+json": {
       "model_id": "42a66a44de6c4b529f9fd635d0c848b6",
       "version_major": 2,
       "version_minor": 0
      },
      "text/plain": [
       "  0%|          | 0/70 [00:00<?, ?it/s]"
      ]
     },
     "metadata": {},
     "output_type": "display_data"
    },
    {
     "name": "stderr",
     "output_type": "stream",
     "text": [
      "INFO - 2025-10-17T16:03:28Z - Successfully downloaded to glory_data/glory_1993-11-24.nc\n",
      "INFO - 2025-10-17T16:03:31Z - Selected dataset version: \"202311\"\n",
      "INFO - 2025-10-17T16:03:31Z - Selected dataset part: \"default\"\n",
      "INFO - 2025-10-17T16:03:37Z - Starting download. Please wait...\n"
     ]
    },
    {
     "data": {
      "application/vnd.jupyter.widget-view+json": {
       "model_id": "b586fb5b379e40d880acfeb95471a7ae",
       "version_major": 2,
       "version_minor": 0
      },
      "text/plain": [
       "  0%|          | 0/70 [00:00<?, ?it/s]"
      ]
     },
     "metadata": {},
     "output_type": "display_data"
    },
    {
     "name": "stderr",
     "output_type": "stream",
     "text": [
      "INFO - 2025-10-17T16:06:03Z - Successfully downloaded to glory_data/glory_1993-11-25.nc\n",
      "INFO - 2025-10-17T16:06:06Z - Selected dataset version: \"202311\"\n",
      "INFO - 2025-10-17T16:06:06Z - Selected dataset part: \"default\"\n",
      "INFO - 2025-10-17T16:06:13Z - Starting download. Please wait...\n"
     ]
    },
    {
     "data": {
      "application/vnd.jupyter.widget-view+json": {
       "model_id": "86c287cb4668426587cca0a6ea0170ee",
       "version_major": 2,
       "version_minor": 0
      },
      "text/plain": [
       "  0%|          | 0/70 [00:00<?, ?it/s]"
      ]
     },
     "metadata": {},
     "output_type": "display_data"
    },
    {
     "name": "stderr",
     "output_type": "stream",
     "text": [
      "INFO - 2025-10-17T16:08:31Z - Successfully downloaded to glory_data/glory_1993-11-26.nc\n",
      "INFO - 2025-10-17T16:08:34Z - Selected dataset version: \"202311\"\n",
      "INFO - 2025-10-17T16:08:34Z - Selected dataset part: \"default\"\n",
      "INFO - 2025-10-17T16:08:41Z - Starting download. Please wait...\n"
     ]
    },
    {
     "data": {
      "application/vnd.jupyter.widget-view+json": {
       "model_id": "ff4a729c91f5486ea8067bd77c16d9bc",
       "version_major": 2,
       "version_minor": 0
      },
      "text/plain": [
       "  0%|          | 0/70 [00:00<?, ?it/s]"
      ]
     },
     "metadata": {},
     "output_type": "display_data"
    },
    {
     "name": "stderr",
     "output_type": "stream",
     "text": [
      "INFO - 2025-10-17T16:11:05Z - Successfully downloaded to glory_data/glory_1993-11-27.nc\n",
      "INFO - 2025-10-17T16:11:08Z - Selected dataset version: \"202311\"\n",
      "INFO - 2025-10-17T16:11:08Z - Selected dataset part: \"default\"\n",
      "INFO - 2025-10-17T16:11:14Z - Starting download. Please wait...\n"
     ]
    },
    {
     "data": {
      "application/vnd.jupyter.widget-view+json": {
       "model_id": "5e326ec290224a6bb6f6f6f28050c81c",
       "version_major": 2,
       "version_minor": 0
      },
      "text/plain": [
       "  0%|          | 0/70 [00:00<?, ?it/s]"
      ]
     },
     "metadata": {},
     "output_type": "display_data"
    },
    {
     "name": "stderr",
     "output_type": "stream",
     "text": [
      "INFO - 2025-10-17T16:13:26Z - Successfully downloaded to glory_data/glory_1993-11-28.nc\n",
      "INFO - 2025-10-17T16:13:29Z - Selected dataset version: \"202311\"\n",
      "INFO - 2025-10-17T16:13:29Z - Selected dataset part: \"default\"\n",
      "INFO - 2025-10-17T16:13:36Z - Starting download. Please wait...\n"
     ]
    },
    {
     "data": {
      "application/vnd.jupyter.widget-view+json": {
       "model_id": "cef7d39834fe446f99efd8622fd59b34",
       "version_major": 2,
       "version_minor": 0
      },
      "text/plain": [
       "  0%|          | 0/70 [00:00<?, ?it/s]"
      ]
     },
     "metadata": {},
     "output_type": "display_data"
    },
    {
     "name": "stderr",
     "output_type": "stream",
     "text": [
      "INFO - 2025-10-17T16:16:00Z - Successfully downloaded to glory_data/glory_1993-11-29.nc\n",
      "INFO - 2025-10-17T16:16:02Z - Selected dataset version: \"202311\"\n",
      "INFO - 2025-10-17T16:16:02Z - Selected dataset part: \"default\"\n",
      "INFO - 2025-10-17T16:16:10Z - Starting download. Please wait...\n"
     ]
    },
    {
     "data": {
      "application/vnd.jupyter.widget-view+json": {
       "model_id": "aa9374bceef94922a0552e64e1be0358",
       "version_major": 2,
       "version_minor": 0
      },
      "text/plain": [
       "  0%|          | 0/70 [00:00<?, ?it/s]"
      ]
     },
     "metadata": {},
     "output_type": "display_data"
    },
    {
     "name": "stderr",
     "output_type": "stream",
     "text": [
      "INFO - 2025-10-17T16:19:29Z - Successfully downloaded to glory_data/glory_1993-11-30.nc\n",
      "INFO - 2025-10-17T16:19:33Z - Selected dataset version: \"202311\"\n",
      "INFO - 2025-10-17T16:19:33Z - Selected dataset part: \"default\"\n",
      "INFO - 2025-10-17T16:19:39Z - Starting download. Please wait...\n"
     ]
    },
    {
     "data": {
      "application/vnd.jupyter.widget-view+json": {
       "model_id": "3dc86eff379548efa61922a31b5e1acf",
       "version_major": 2,
       "version_minor": 0
      },
      "text/plain": [
       "  0%|          | 0/70 [00:00<?, ?it/s]"
      ]
     },
     "metadata": {},
     "output_type": "display_data"
    },
    {
     "name": "stderr",
     "output_type": "stream",
     "text": [
      "INFO - 2025-10-17T16:22:22Z - Successfully downloaded to glory_data/glory_1993-12-01.nc\n",
      "INFO - 2025-10-17T16:22:25Z - Selected dataset version: \"202311\"\n",
      "INFO - 2025-10-17T16:22:25Z - Selected dataset part: \"default\"\n",
      "INFO - 2025-10-17T16:22:32Z - Starting download. Please wait...\n"
     ]
    },
    {
     "data": {
      "application/vnd.jupyter.widget-view+json": {
       "model_id": "ff55c4123dcb40458e713994aaedb072",
       "version_major": 2,
       "version_minor": 0
      },
      "text/plain": [
       "  0%|          | 0/70 [00:00<?, ?it/s]"
      ]
     },
     "metadata": {},
     "output_type": "display_data"
    },
    {
     "name": "stderr",
     "output_type": "stream",
     "text": [
      "INFO - 2025-10-17T16:25:40Z - Successfully downloaded to glory_data/glory_1993-12-02.nc\n",
      "INFO - 2025-10-17T16:25:43Z - Selected dataset version: \"202311\"\n",
      "INFO - 2025-10-17T16:25:43Z - Selected dataset part: \"default\"\n",
      "INFO - 2025-10-17T16:25:50Z - Starting download. Please wait...\n"
     ]
    },
    {
     "data": {
      "application/vnd.jupyter.widget-view+json": {
       "model_id": "668c9bc32c8545edb1628d15622e9189",
       "version_major": 2,
       "version_minor": 0
      },
      "text/plain": [
       "  0%|          | 0/70 [00:00<?, ?it/s]"
      ]
     },
     "metadata": {},
     "output_type": "display_data"
    },
    {
     "name": "stderr",
     "output_type": "stream",
     "text": [
      "INFO - 2025-10-17T16:28:40Z - Successfully downloaded to glory_data/glory_1993-12-03.nc\n",
      "INFO - 2025-10-17T16:28:43Z - Selected dataset version: \"202311\"\n",
      "INFO - 2025-10-17T16:28:43Z - Selected dataset part: \"default\"\n",
      "INFO - 2025-10-17T16:28:50Z - Starting download. Please wait...\n"
     ]
    },
    {
     "data": {
      "application/vnd.jupyter.widget-view+json": {
       "model_id": "89c3a72e71534df8bedd9cf5378af92a",
       "version_major": 2,
       "version_minor": 0
      },
      "text/plain": [
       "  0%|          | 0/70 [00:00<?, ?it/s]"
      ]
     },
     "metadata": {},
     "output_type": "display_data"
    },
    {
     "name": "stderr",
     "output_type": "stream",
     "text": [
      "INFO - 2025-10-17T16:31:49Z - Successfully downloaded to glory_data/glory_1993-12-04.nc\n",
      "INFO - 2025-10-17T16:31:51Z - Selected dataset version: \"202311\"\n",
      "INFO - 2025-10-17T16:31:51Z - Selected dataset part: \"default\"\n",
      "INFO - 2025-10-17T16:31:59Z - Starting download. Please wait...\n"
     ]
    },
    {
     "data": {
      "application/vnd.jupyter.widget-view+json": {
       "model_id": "6262742edc4a45178f16d90e08e836e1",
       "version_major": 2,
       "version_minor": 0
      },
      "text/plain": [
       "  0%|          | 0/70 [00:00<?, ?it/s]"
      ]
     },
     "metadata": {},
     "output_type": "display_data"
    },
    {
     "name": "stderr",
     "output_type": "stream",
     "text": [
      "INFO - 2025-10-17T16:34:57Z - Successfully downloaded to glory_data/glory_1993-12-05.nc\n",
      "INFO - 2025-10-17T16:35:00Z - Selected dataset version: \"202311\"\n",
      "INFO - 2025-10-17T16:35:00Z - Selected dataset part: \"default\"\n",
      "INFO - 2025-10-17T16:35:06Z - Starting download. Please wait...\n"
     ]
    },
    {
     "data": {
      "application/vnd.jupyter.widget-view+json": {
       "model_id": "07102401a52a4e9d91ece15cdaa9337c",
       "version_major": 2,
       "version_minor": 0
      },
      "text/plain": [
       "  0%|          | 0/70 [00:00<?, ?it/s]"
      ]
     },
     "metadata": {},
     "output_type": "display_data"
    },
    {
     "name": "stderr",
     "output_type": "stream",
     "text": [
      "INFO - 2025-10-17T16:38:01Z - Successfully downloaded to glory_data/glory_1993-12-06.nc\n",
      "INFO - 2025-10-17T16:38:04Z - Selected dataset version: \"202311\"\n",
      "INFO - 2025-10-17T16:38:04Z - Selected dataset part: \"default\"\n",
      "INFO - 2025-10-17T16:38:11Z - Starting download. Please wait...\n"
     ]
    },
    {
     "data": {
      "application/vnd.jupyter.widget-view+json": {
       "model_id": "ada0e221ec8342d287faffb60f64f24d",
       "version_major": 2,
       "version_minor": 0
      },
      "text/plain": [
       "  0%|          | 0/70 [00:00<?, ?it/s]"
      ]
     },
     "metadata": {},
     "output_type": "display_data"
    },
    {
     "name": "stderr",
     "output_type": "stream",
     "text": [
      "INFO - 2025-10-17T16:41:06Z - Successfully downloaded to glory_data/glory_1993-12-07.nc\n",
      "INFO - 2025-10-17T16:41:08Z - Selected dataset version: \"202311\"\n",
      "INFO - 2025-10-17T16:41:08Z - Selected dataset part: \"default\"\n",
      "INFO - 2025-10-17T16:41:16Z - Starting download. Please wait...\n"
     ]
    },
    {
     "data": {
      "application/vnd.jupyter.widget-view+json": {
       "model_id": "1c384556c26d4ed790d7e829a711244c",
       "version_major": 2,
       "version_minor": 0
      },
      "text/plain": [
       "  0%|          | 0/70 [00:00<?, ?it/s]"
      ]
     },
     "metadata": {},
     "output_type": "display_data"
    },
    {
     "name": "stderr",
     "output_type": "stream",
     "text": [
      "INFO - 2025-10-17T16:43:40Z - Successfully downloaded to glory_data/glory_1993-12-08.nc\n",
      "INFO - 2025-10-17T16:43:43Z - Selected dataset version: \"202311\"\n",
      "INFO - 2025-10-17T16:43:43Z - Selected dataset part: \"default\"\n",
      "INFO - 2025-10-17T16:43:50Z - Starting download. Please wait...\n"
     ]
    },
    {
     "data": {
      "application/vnd.jupyter.widget-view+json": {
       "model_id": "36b40ef26b764a34bfa47b83842ee506",
       "version_major": 2,
       "version_minor": 0
      },
      "text/plain": [
       "  0%|          | 0/70 [00:00<?, ?it/s]"
      ]
     },
     "metadata": {},
     "output_type": "display_data"
    },
    {
     "name": "stderr",
     "output_type": "stream",
     "text": [
      "INFO - 2025-10-17T16:46:34Z - Successfully downloaded to glory_data/glory_1993-12-09.nc\n",
      "INFO - 2025-10-17T16:46:37Z - Selected dataset version: \"202311\"\n",
      "INFO - 2025-10-17T16:46:37Z - Selected dataset part: \"default\"\n",
      "INFO - 2025-10-17T16:46:44Z - Starting download. Please wait...\n"
     ]
    },
    {
     "data": {
      "application/vnd.jupyter.widget-view+json": {
       "model_id": "a71f0947eb9f4f00a459a614bdde5932",
       "version_major": 2,
       "version_minor": 0
      },
      "text/plain": [
       "  0%|          | 0/70 [00:00<?, ?it/s]"
      ]
     },
     "metadata": {},
     "output_type": "display_data"
    },
    {
     "name": "stderr",
     "output_type": "stream",
     "text": [
      "INFO - 2025-10-17T16:49:53Z - Successfully downloaded to glory_data/glory_1993-12-10.nc\n",
      "INFO - 2025-10-17T16:49:56Z - Selected dataset version: \"202311\"\n",
      "INFO - 2025-10-17T16:49:56Z - Selected dataset part: \"default\"\n",
      "INFO - 2025-10-17T16:50:04Z - Starting download. Please wait...\n"
     ]
    },
    {
     "data": {
      "application/vnd.jupyter.widget-view+json": {
       "model_id": "72169edf9b524ed2a8846fae730b659e",
       "version_major": 2,
       "version_minor": 0
      },
      "text/plain": [
       "  0%|          | 0/70 [00:00<?, ?it/s]"
      ]
     },
     "metadata": {},
     "output_type": "display_data"
    },
    {
     "name": "stderr",
     "output_type": "stream",
     "text": [
      "INFO - 2025-10-17T16:53:09Z - Successfully downloaded to glory_data/glory_1993-12-11.nc\n",
      "INFO - 2025-10-17T16:53:12Z - Selected dataset version: \"202311\"\n",
      "INFO - 2025-10-17T16:53:12Z - Selected dataset part: \"default\"\n",
      "INFO - 2025-10-17T16:53:19Z - Starting download. Please wait...\n"
     ]
    },
    {
     "data": {
      "application/vnd.jupyter.widget-view+json": {
       "model_id": "7b4217f14c1a4d83bb04d7f7709a3e4f",
       "version_major": 2,
       "version_minor": 0
      },
      "text/plain": [
       "  0%|          | 0/70 [00:00<?, ?it/s]"
      ]
     },
     "metadata": {},
     "output_type": "display_data"
    },
    {
     "name": "stderr",
     "output_type": "stream",
     "text": [
      "INFO - 2025-10-17T16:56:28Z - Successfully downloaded to glory_data/glory_1993-12-12.nc\n",
      "INFO - 2025-10-17T16:56:31Z - Selected dataset version: \"202311\"\n",
      "INFO - 2025-10-17T16:56:31Z - Selected dataset part: \"default\"\n",
      "INFO - 2025-10-17T16:56:38Z - Starting download. Please wait...\n"
     ]
    },
    {
     "data": {
      "application/vnd.jupyter.widget-view+json": {
       "model_id": "651aca7b97ef4d3c98ff7712037a1410",
       "version_major": 2,
       "version_minor": 0
      },
      "text/plain": [
       "  0%|          | 0/70 [00:00<?, ?it/s]"
      ]
     },
     "metadata": {},
     "output_type": "display_data"
    },
    {
     "name": "stderr",
     "output_type": "stream",
     "text": [
      "INFO - 2025-10-17T16:59:41Z - Successfully downloaded to glory_data/glory_1993-12-13.nc\n",
      "INFO - 2025-10-17T16:59:44Z - Selected dataset version: \"202311\"\n",
      "INFO - 2025-10-17T16:59:44Z - Selected dataset part: \"default\"\n",
      "INFO - 2025-10-17T16:59:52Z - Starting download. Please wait...\n"
     ]
    },
    {
     "data": {
      "application/vnd.jupyter.widget-view+json": {
       "model_id": "0f41b1bbbbbe485f932d0ede8dd59b7d",
       "version_major": 2,
       "version_minor": 0
      },
      "text/plain": [
       "  0%|          | 0/70 [00:00<?, ?it/s]"
      ]
     },
     "metadata": {},
     "output_type": "display_data"
    },
    {
     "name": "stderr",
     "output_type": "stream",
     "text": [
      "INFO - 2025-10-17T17:02:13Z - Successfully downloaded to glory_data/glory_1993-12-14.nc\n",
      "INFO - 2025-10-17T17:02:17Z - Selected dataset version: \"202311\"\n",
      "INFO - 2025-10-17T17:02:17Z - Selected dataset part: \"default\"\n",
      "INFO - 2025-10-17T17:02:24Z - Starting download. Please wait...\n"
     ]
    },
    {
     "data": {
      "application/vnd.jupyter.widget-view+json": {
       "model_id": "0d3fb6a891c04d93a7605821998a3b72",
       "version_major": 2,
       "version_minor": 0
      },
      "text/plain": [
       "  0%|          | 0/70 [00:00<?, ?it/s]"
      ]
     },
     "metadata": {},
     "output_type": "display_data"
    },
    {
     "name": "stderr",
     "output_type": "stream",
     "text": [
      "INFO - 2025-10-17T17:05:00Z - Successfully downloaded to glory_data/glory_1993-12-15.nc\n",
      "INFO - 2025-10-17T17:05:03Z - Selected dataset version: \"202311\"\n",
      "INFO - 2025-10-17T17:05:03Z - Selected dataset part: \"default\"\n",
      "INFO - 2025-10-17T17:05:10Z - Starting download. Please wait...\n"
     ]
    },
    {
     "data": {
      "application/vnd.jupyter.widget-view+json": {
       "model_id": "446ec9cafdff4f668429091b9cf84fc2",
       "version_major": 2,
       "version_minor": 0
      },
      "text/plain": [
       "  0%|          | 0/70 [00:00<?, ?it/s]"
      ]
     },
     "metadata": {},
     "output_type": "display_data"
    },
    {
     "name": "stderr",
     "output_type": "stream",
     "text": [
      "INFO - 2025-10-17T17:07:35Z - Successfully downloaded to glory_data/glory_1993-12-16.nc\n",
      "INFO - 2025-10-17T17:07:38Z - Selected dataset version: \"202311\"\n",
      "INFO - 2025-10-17T17:07:38Z - Selected dataset part: \"default\"\n",
      "INFO - 2025-10-17T17:07:45Z - Starting download. Please wait...\n"
     ]
    },
    {
     "data": {
      "application/vnd.jupyter.widget-view+json": {
       "model_id": "217e7e7b250a478fb81f1c0808c8cfa2",
       "version_major": 2,
       "version_minor": 0
      },
      "text/plain": [
       "  0%|          | 0/70 [00:00<?, ?it/s]"
      ]
     },
     "metadata": {},
     "output_type": "display_data"
    },
    {
     "name": "stderr",
     "output_type": "stream",
     "text": [
      "INFO - 2025-10-17T17:10:26Z - Successfully downloaded to glory_data/glory_1993-12-17.nc\n",
      "INFO - 2025-10-17T17:10:29Z - Selected dataset version: \"202311\"\n",
      "INFO - 2025-10-17T17:10:29Z - Selected dataset part: \"default\"\n",
      "INFO - 2025-10-17T17:10:36Z - Starting download. Please wait...\n"
     ]
    },
    {
     "data": {
      "application/vnd.jupyter.widget-view+json": {
       "model_id": "e480d8f1acf2434cb664577fae27350b",
       "version_major": 2,
       "version_minor": 0
      },
      "text/plain": [
       "  0%|          | 0/70 [00:00<?, ?it/s]"
      ]
     },
     "metadata": {},
     "output_type": "display_data"
    },
    {
     "name": "stderr",
     "output_type": "stream",
     "text": [
      "INFO - 2025-10-17T17:13:12Z - Successfully downloaded to glory_data/glory_1993-12-18.nc\n",
      "INFO - 2025-10-17T17:13:15Z - Selected dataset version: \"202311\"\n",
      "INFO - 2025-10-17T17:13:15Z - Selected dataset part: \"default\"\n",
      "INFO - 2025-10-17T17:13:23Z - Starting download. Please wait...\n"
     ]
    },
    {
     "data": {
      "application/vnd.jupyter.widget-view+json": {
       "model_id": "1018165c63dc418ab969eec62b23609d",
       "version_major": 2,
       "version_minor": 0
      },
      "text/plain": [
       "  0%|          | 0/70 [00:00<?, ?it/s]"
      ]
     },
     "metadata": {},
     "output_type": "display_data"
    },
    {
     "name": "stderr",
     "output_type": "stream",
     "text": [
      "INFO - 2025-10-17T17:15:59Z - Successfully downloaded to glory_data/glory_1993-12-19.nc\n",
      "INFO - 2025-10-17T17:16:02Z - Selected dataset version: \"202311\"\n",
      "INFO - 2025-10-17T17:16:02Z - Selected dataset part: \"default\"\n",
      "INFO - 2025-10-17T17:16:09Z - Starting download. Please wait...\n"
     ]
    },
    {
     "data": {
      "application/vnd.jupyter.widget-view+json": {
       "model_id": "6b0d8b099e354d0d830b4fc8aeffe95e",
       "version_major": 2,
       "version_minor": 0
      },
      "text/plain": [
       "  0%|          | 0/70 [00:00<?, ?it/s]"
      ]
     },
     "metadata": {},
     "output_type": "display_data"
    },
    {
     "name": "stderr",
     "output_type": "stream",
     "text": [
      "INFO - 2025-10-17T17:18:33Z - Successfully downloaded to glory_data/glory_1993-12-20.nc\n",
      "INFO - 2025-10-17T17:18:36Z - Selected dataset version: \"202311\"\n",
      "INFO - 2025-10-17T17:18:36Z - Selected dataset part: \"default\"\n",
      "INFO - 2025-10-17T17:18:43Z - Starting download. Please wait...\n"
     ]
    },
    {
     "data": {
      "application/vnd.jupyter.widget-view+json": {
       "model_id": "087d6697c1044df19fc69da4350aa3ff",
       "version_major": 2,
       "version_minor": 0
      },
      "text/plain": [
       "  0%|          | 0/70 [00:00<?, ?it/s]"
      ]
     },
     "metadata": {},
     "output_type": "display_data"
    },
    {
     "name": "stderr",
     "output_type": "stream",
     "text": [
      "INFO - 2025-10-17T17:21:07Z - Successfully downloaded to glory_data/glory_1993-12-21.nc\n",
      "INFO - 2025-10-17T17:21:10Z - Selected dataset version: \"202311\"\n",
      "INFO - 2025-10-17T17:21:10Z - Selected dataset part: \"default\"\n",
      "INFO - 2025-10-17T17:21:17Z - Starting download. Please wait...\n"
     ]
    },
    {
     "data": {
      "application/vnd.jupyter.widget-view+json": {
       "model_id": "04e9f4ac2c52408886f91f01c0385697",
       "version_major": 2,
       "version_minor": 0
      },
      "text/plain": [
       "  0%|          | 0/70 [00:00<?, ?it/s]"
      ]
     },
     "metadata": {},
     "output_type": "display_data"
    },
    {
     "name": "stderr",
     "output_type": "stream",
     "text": [
      "INFO - 2025-10-17T17:23:44Z - Successfully downloaded to glory_data/glory_1993-12-22.nc\n",
      "INFO - 2025-10-17T17:23:47Z - Selected dataset version: \"202311\"\n",
      "INFO - 2025-10-17T17:23:47Z - Selected dataset part: \"default\"\n",
      "INFO - 2025-10-17T17:23:54Z - Starting download. Please wait...\n"
     ]
    },
    {
     "data": {
      "application/vnd.jupyter.widget-view+json": {
       "model_id": "66a67e74bfd1479daf904eccd2f20f01",
       "version_major": 2,
       "version_minor": 0
      },
      "text/plain": [
       "  0%|          | 0/70 [00:00<?, ?it/s]"
      ]
     },
     "metadata": {},
     "output_type": "display_data"
    },
    {
     "name": "stderr",
     "output_type": "stream",
     "text": [
      "INFO - 2025-10-17T17:26:33Z - Successfully downloaded to glory_data/glory_1993-12-23.nc\n",
      "INFO - 2025-10-17T17:26:36Z - Selected dataset version: \"202311\"\n",
      "INFO - 2025-10-17T17:26:36Z - Selected dataset part: \"default\"\n",
      "INFO - 2025-10-17T17:26:44Z - Starting download. Please wait...\n"
     ]
    },
    {
     "data": {
      "application/vnd.jupyter.widget-view+json": {
       "model_id": "04da6d3909d4460d93fe86b71e95b2fc",
       "version_major": 2,
       "version_minor": 0
      },
      "text/plain": [
       "  0%|          | 0/70 [00:00<?, ?it/s]"
      ]
     },
     "metadata": {},
     "output_type": "display_data"
    },
    {
     "name": "stderr",
     "output_type": "stream",
     "text": [
      "INFO - 2025-10-17T17:29:52Z - Successfully downloaded to glory_data/glory_1993-12-24.nc\n",
      "INFO - 2025-10-17T17:29:55Z - Selected dataset version: \"202311\"\n",
      "INFO - 2025-10-17T17:29:55Z - Selected dataset part: \"default\"\n",
      "INFO - 2025-10-17T17:30:02Z - Starting download. Please wait...\n"
     ]
    },
    {
     "data": {
      "application/vnd.jupyter.widget-view+json": {
       "model_id": "ea0dbcc608f84b79ad7bd11cdee1262b",
       "version_major": 2,
       "version_minor": 0
      },
      "text/plain": [
       "  0%|          | 0/70 [00:00<?, ?it/s]"
      ]
     },
     "metadata": {},
     "output_type": "display_data"
    },
    {
     "name": "stderr",
     "output_type": "stream",
     "text": [
      "INFO - 2025-10-17T17:33:21Z - Successfully downloaded to glory_data/glory_1993-12-25.nc\n",
      "INFO - 2025-10-17T17:33:24Z - Selected dataset version: \"202311\"\n",
      "INFO - 2025-10-17T17:33:24Z - Selected dataset part: \"default\"\n",
      "INFO - 2025-10-17T17:33:30Z - Starting download. Please wait...\n"
     ]
    },
    {
     "data": {
      "application/vnd.jupyter.widget-view+json": {
       "model_id": "da96dbc73ff74d259fb92c9ec6697b6c",
       "version_major": 2,
       "version_minor": 0
      },
      "text/plain": [
       "  0%|          | 0/70 [00:00<?, ?it/s]"
      ]
     },
     "metadata": {},
     "output_type": "display_data"
    },
    {
     "name": "stderr",
     "output_type": "stream",
     "text": [
      "INFO - 2025-10-17T17:36:40Z - Successfully downloaded to glory_data/glory_1993-12-26.nc\n",
      "INFO - 2025-10-17T17:36:43Z - Selected dataset version: \"202311\"\n",
      "INFO - 2025-10-17T17:36:43Z - Selected dataset part: \"default\"\n",
      "INFO - 2025-10-17T17:36:51Z - Starting download. Please wait...\n"
     ]
    },
    {
     "data": {
      "application/vnd.jupyter.widget-view+json": {
       "model_id": "9789c49c094b4e25873b6bea4fbf0615",
       "version_major": 2,
       "version_minor": 0
      },
      "text/plain": [
       "  0%|          | 0/70 [00:00<?, ?it/s]"
      ]
     },
     "metadata": {},
     "output_type": "display_data"
    },
    {
     "name": "stderr",
     "output_type": "stream",
     "text": [
      "INFO - 2025-10-17T17:40:01Z - Successfully downloaded to glory_data/glory_1993-12-27.nc\n",
      "INFO - 2025-10-17T17:40:04Z - Selected dataset version: \"202311\"\n",
      "INFO - 2025-10-17T17:40:04Z - Selected dataset part: \"default\"\n",
      "INFO - 2025-10-17T17:40:10Z - Starting download. Please wait...\n"
     ]
    },
    {
     "data": {
      "application/vnd.jupyter.widget-view+json": {
       "model_id": "019073c67b1745a0b72d8dd530857850",
       "version_major": 2,
       "version_minor": 0
      },
      "text/plain": [
       "  0%|          | 0/70 [00:00<?, ?it/s]"
      ]
     },
     "metadata": {},
     "output_type": "display_data"
    },
    {
     "name": "stderr",
     "output_type": "stream",
     "text": [
      "INFO - 2025-10-17T17:43:01Z - Successfully downloaded to glory_data/glory_1993-12-28.nc\n",
      "INFO - 2025-10-17T17:43:04Z - Selected dataset version: \"202311\"\n",
      "INFO - 2025-10-17T17:43:04Z - Selected dataset part: \"default\"\n",
      "INFO - 2025-10-17T17:43:11Z - Starting download. Please wait...\n"
     ]
    },
    {
     "data": {
      "application/vnd.jupyter.widget-view+json": {
       "model_id": "e664867e9066420ab12823574f0ea476",
       "version_major": 2,
       "version_minor": 0
      },
      "text/plain": [
       "  0%|          | 0/70 [00:00<?, ?it/s]"
      ]
     },
     "metadata": {},
     "output_type": "display_data"
    },
    {
     "name": "stderr",
     "output_type": "stream",
     "text": [
      "INFO - 2025-10-17T17:45:32Z - Successfully downloaded to glory_data/glory_1993-12-29.nc\n",
      "INFO - 2025-10-17T17:45:35Z - Selected dataset version: \"202311\"\n",
      "INFO - 2025-10-17T17:45:35Z - Selected dataset part: \"default\"\n",
      "INFO - 2025-10-17T17:45:42Z - Starting download. Please wait...\n"
     ]
    },
    {
     "data": {
      "application/vnd.jupyter.widget-view+json": {
       "model_id": "85289d8709dd41369bae9633fe13e15f",
       "version_major": 2,
       "version_minor": 0
      },
      "text/plain": [
       "  0%|          | 0/70 [00:00<?, ?it/s]"
      ]
     },
     "metadata": {},
     "output_type": "display_data"
    },
    {
     "name": "stderr",
     "output_type": "stream",
     "text": [
      "INFO - 2025-10-17T17:48:35Z - Successfully downloaded to glory_data/glory_1993-12-30.nc\n",
      "INFO - 2025-10-17T17:48:37Z - Selected dataset version: \"202311\"\n",
      "INFO - 2025-10-17T17:48:37Z - Selected dataset part: \"default\"\n",
      "INFO - 2025-10-17T17:48:45Z - Starting download. Please wait...\n"
     ]
    },
    {
     "data": {
      "application/vnd.jupyter.widget-view+json": {
       "model_id": "4052ce774da4487fa7b58535e2af06a2",
       "version_major": 2,
       "version_minor": 0
      },
      "text/plain": [
       "  0%|          | 0/70 [00:00<?, ?it/s]"
      ]
     },
     "metadata": {},
     "output_type": "display_data"
    },
    {
     "name": "stderr",
     "output_type": "stream",
     "text": [
      "INFO - 2025-10-17T17:51:40Z - Successfully downloaded to glory_data/glory_1993-12-31.nc\n",
      "INFO - 2025-10-17T17:51:43Z - Selected dataset version: \"202311\"\n",
      "INFO - 2025-10-17T17:51:43Z - Selected dataset part: \"default\"\n",
      "INFO - 2025-10-17T17:51:50Z - Starting download. Please wait...\n"
     ]
    },
    {
     "data": {
      "application/vnd.jupyter.widget-view+json": {
       "model_id": "3994a6f0f33447f2894621c0ca4b32c0",
       "version_major": 2,
       "version_minor": 0
      },
      "text/plain": [
       "  0%|          | 0/70 [00:00<?, ?it/s]"
      ]
     },
     "metadata": {},
     "output_type": "display_data"
    },
    {
     "name": "stderr",
     "output_type": "stream",
     "text": [
      "INFO - 2025-10-17T17:54:22Z - Successfully downloaded to glory_data/glory_1994-01-01.nc\n",
      "INFO - 2025-10-17T17:54:25Z - Selected dataset version: \"202311\"\n",
      "INFO - 2025-10-17T17:54:25Z - Selected dataset part: \"default\"\n",
      "INFO - 2025-10-17T17:54:33Z - Starting download. Please wait...\n"
     ]
    },
    {
     "data": {
      "application/vnd.jupyter.widget-view+json": {
       "model_id": "a496a2b0a3914399a15ce99e5ecb215e",
       "version_major": 2,
       "version_minor": 0
      },
      "text/plain": [
       "  0%|          | 0/70 [00:00<?, ?it/s]"
      ]
     },
     "metadata": {},
     "output_type": "display_data"
    },
    {
     "name": "stderr",
     "output_type": "stream",
     "text": [
      "INFO - 2025-10-17T17:57:18Z - Successfully downloaded to glory_data/glory_1994-01-02.nc\n",
      "INFO - 2025-10-17T17:57:21Z - Selected dataset version: \"202311\"\n",
      "INFO - 2025-10-17T17:57:21Z - Selected dataset part: \"default\"\n",
      "INFO - 2025-10-17T17:57:28Z - Starting download. Please wait...\n"
     ]
    },
    {
     "data": {
      "application/vnd.jupyter.widget-view+json": {
       "model_id": "7a13c3c5b11c41ea8474645dbc99c9c2",
       "version_major": 2,
       "version_minor": 0
      },
      "text/plain": [
       "  0%|          | 0/70 [00:00<?, ?it/s]"
      ]
     },
     "metadata": {},
     "output_type": "display_data"
    },
    {
     "name": "stderr",
     "output_type": "stream",
     "text": [
      "INFO - 2025-10-17T18:00:01Z - Successfully downloaded to glory_data/glory_1994-01-03.nc\n",
      "INFO - 2025-10-17T18:00:04Z - Selected dataset version: \"202311\"\n",
      "INFO - 2025-10-17T18:00:04Z - Selected dataset part: \"default\"\n",
      "INFO - 2025-10-17T18:00:12Z - Starting download. Please wait...\n"
     ]
    },
    {
     "data": {
      "application/vnd.jupyter.widget-view+json": {
       "model_id": "290301ba72db434a90f53fbaf835407d",
       "version_major": 2,
       "version_minor": 0
      },
      "text/plain": [
       "  0%|          | 0/70 [00:00<?, ?it/s]"
      ]
     },
     "metadata": {},
     "output_type": "display_data"
    },
    {
     "name": "stderr",
     "output_type": "stream",
     "text": [
      "INFO - 2025-10-17T18:02:49Z - Successfully downloaded to glory_data/glory_1994-01-04.nc\n",
      "INFO - 2025-10-17T18:02:52Z - Selected dataset version: \"202311\"\n",
      "INFO - 2025-10-17T18:02:52Z - Selected dataset part: \"default\"\n",
      "INFO - 2025-10-17T18:02:59Z - Starting download. Please wait...\n"
     ]
    },
    {
     "data": {
      "application/vnd.jupyter.widget-view+json": {
       "model_id": "059d2bdaf7b34bb79921498b92ca65ea",
       "version_major": 2,
       "version_minor": 0
      },
      "text/plain": [
       "  0%|          | 0/70 [00:00<?, ?it/s]"
      ]
     },
     "metadata": {},
     "output_type": "display_data"
    },
    {
     "name": "stderr",
     "output_type": "stream",
     "text": [
      "INFO - 2025-10-17T18:05:26Z - Successfully downloaded to glory_data/glory_1994-01-05.nc\n",
      "INFO - 2025-10-17T18:05:29Z - Selected dataset version: \"202311\"\n",
      "INFO - 2025-10-17T18:05:29Z - Selected dataset part: \"default\"\n",
      "INFO - 2025-10-17T18:05:36Z - Starting download. Please wait...\n"
     ]
    },
    {
     "data": {
      "application/vnd.jupyter.widget-view+json": {
       "model_id": "fb2939e0c89944a4856890b21b073e17",
       "version_major": 2,
       "version_minor": 0
      },
      "text/plain": [
       "  0%|          | 0/70 [00:00<?, ?it/s]"
      ]
     },
     "metadata": {},
     "output_type": "display_data"
    },
    {
     "name": "stderr",
     "output_type": "stream",
     "text": [
      "INFO - 2025-10-17T18:08:13Z - Successfully downloaded to glory_data/glory_1994-01-06.nc\n",
      "INFO - 2025-10-17T18:08:16Z - Selected dataset version: \"202311\"\n",
      "INFO - 2025-10-17T18:08:16Z - Selected dataset part: \"default\"\n",
      "INFO - 2025-10-17T18:08:23Z - Starting download. Please wait...\n"
     ]
    },
    {
     "data": {
      "application/vnd.jupyter.widget-view+json": {
       "model_id": "dd2130f4470a4b05b91dd5e2f774c8e3",
       "version_major": 2,
       "version_minor": 0
      },
      "text/plain": [
       "  0%|          | 0/70 [00:00<?, ?it/s]"
      ]
     },
     "metadata": {},
     "output_type": "display_data"
    },
    {
     "name": "stderr",
     "output_type": "stream",
     "text": [
      "INFO - 2025-10-17T18:10:45Z - Successfully downloaded to glory_data/glory_1994-01-07.nc\n",
      "INFO - 2025-10-17T18:10:48Z - Selected dataset version: \"202311\"\n",
      "INFO - 2025-10-17T18:10:48Z - Selected dataset part: \"default\"\n",
      "INFO - 2025-10-17T18:10:56Z - Starting download. Please wait...\n"
     ]
    },
    {
     "data": {
      "application/vnd.jupyter.widget-view+json": {
       "model_id": "dc41a8446ee447d886e6f1c2b37e3a9e",
       "version_major": 2,
       "version_minor": 0
      },
      "text/plain": [
       "  0%|          | 0/70 [00:00<?, ?it/s]"
      ]
     },
     "metadata": {},
     "output_type": "display_data"
    },
    {
     "name": "stderr",
     "output_type": "stream",
     "text": [
      "INFO - 2025-10-17T18:13:56Z - Successfully downloaded to glory_data/glory_1994-01-08.nc\n",
      "INFO - 2025-10-17T18:13:59Z - Selected dataset version: \"202311\"\n",
      "INFO - 2025-10-17T18:13:59Z - Selected dataset part: \"default\"\n",
      "INFO - 2025-10-17T18:14:06Z - Starting download. Please wait...\n"
     ]
    },
    {
     "data": {
      "application/vnd.jupyter.widget-view+json": {
       "model_id": "1fdf2baf999f4146841992bbcc81e6b4",
       "version_major": 2,
       "version_minor": 0
      },
      "text/plain": [
       "  0%|          | 0/70 [00:00<?, ?it/s]"
      ]
     },
     "metadata": {},
     "output_type": "display_data"
    },
    {
     "name": "stderr",
     "output_type": "stream",
     "text": [
      "INFO - 2025-10-17T18:17:10Z - Successfully downloaded to glory_data/glory_1994-01-09.nc\n",
      "INFO - 2025-10-17T18:17:13Z - Selected dataset version: \"202311\"\n",
      "INFO - 2025-10-17T18:17:13Z - Selected dataset part: \"default\"\n",
      "INFO - 2025-10-17T18:17:20Z - Starting download. Please wait...\n"
     ]
    },
    {
     "data": {
      "application/vnd.jupyter.widget-view+json": {
       "model_id": "c49a78a822ea42cfa1b241509352d27a",
       "version_major": 2,
       "version_minor": 0
      },
      "text/plain": [
       "  0%|          | 0/70 [00:00<?, ?it/s]"
      ]
     },
     "metadata": {},
     "output_type": "display_data"
    },
    {
     "name": "stderr",
     "output_type": "stream",
     "text": [
      "INFO - 2025-10-17T18:20:25Z - Successfully downloaded to glory_data/glory_1994-01-10.nc\n",
      "INFO - 2025-10-17T18:20:28Z - Selected dataset version: \"202311\"\n",
      "INFO - 2025-10-17T18:20:28Z - Selected dataset part: \"default\"\n",
      "INFO - 2025-10-17T18:20:36Z - Starting download. Please wait...\n"
     ]
    },
    {
     "data": {
      "application/vnd.jupyter.widget-view+json": {
       "model_id": "5dd43741daf44441b364a97d5ebd5afe",
       "version_major": 2,
       "version_minor": 0
      },
      "text/plain": [
       "  0%|          | 0/70 [00:00<?, ?it/s]"
      ]
     },
     "metadata": {},
     "output_type": "display_data"
    },
    {
     "name": "stderr",
     "output_type": "stream",
     "text": [
      "INFO - 2025-10-17T18:23:35Z - Successfully downloaded to glory_data/glory_1994-01-11.nc\n",
      "INFO - 2025-10-17T18:23:38Z - Selected dataset version: \"202311\"\n",
      "INFO - 2025-10-17T18:23:38Z - Selected dataset part: \"default\"\n",
      "INFO - 2025-10-17T18:23:45Z - Starting download. Please wait...\n"
     ]
    },
    {
     "data": {
      "application/vnd.jupyter.widget-view+json": {
       "model_id": "b3204dbd8eb345768fc10e0911cf6810",
       "version_major": 2,
       "version_minor": 0
      },
      "text/plain": [
       "  0%|          | 0/70 [00:00<?, ?it/s]"
      ]
     },
     "metadata": {},
     "output_type": "display_data"
    },
    {
     "name": "stderr",
     "output_type": "stream",
     "text": [
      "INFO - 2025-10-17T18:27:05Z - Successfully downloaded to glory_data/glory_1994-01-12.nc\n",
      "INFO - 2025-10-17T18:27:08Z - Selected dataset version: \"202311\"\n",
      "INFO - 2025-10-17T18:27:08Z - Selected dataset part: \"default\"\n",
      "INFO - 2025-10-17T18:27:15Z - Starting download. Please wait...\n"
     ]
    },
    {
     "data": {
      "application/vnd.jupyter.widget-view+json": {
       "model_id": "e330e33382b24b22886b2bfeea30ccd1",
       "version_major": 2,
       "version_minor": 0
      },
      "text/plain": [
       "  0%|          | 0/70 [00:00<?, ?it/s]"
      ]
     },
     "metadata": {},
     "output_type": "display_data"
    },
    {
     "name": "stderr",
     "output_type": "stream",
     "text": [
      "INFO - 2025-10-17T18:30:14Z - Successfully downloaded to glory_data/glory_1994-01-13.nc\n",
      "INFO - 2025-10-17T18:30:17Z - Selected dataset version: \"202311\"\n",
      "INFO - 2025-10-17T18:30:17Z - Selected dataset part: \"default\"\n",
      "INFO - 2025-10-17T18:30:24Z - Starting download. Please wait...\n"
     ]
    },
    {
     "data": {
      "application/vnd.jupyter.widget-view+json": {
       "model_id": "909bcc456dc6407a94f0602069935536",
       "version_major": 2,
       "version_minor": 0
      },
      "text/plain": [
       "  0%|          | 0/70 [00:00<?, ?it/s]"
      ]
     },
     "metadata": {},
     "output_type": "display_data"
    },
    {
     "name": "stderr",
     "output_type": "stream",
     "text": [
      "INFO - 2025-10-17T18:33:28Z - Successfully downloaded to glory_data/glory_1994-01-14.nc\n",
      "INFO - 2025-10-17T18:33:31Z - Selected dataset version: \"202311\"\n",
      "INFO - 2025-10-17T18:33:31Z - Selected dataset part: \"default\"\n",
      "INFO - 2025-10-17T18:33:38Z - Starting download. Please wait...\n"
     ]
    },
    {
     "data": {
      "application/vnd.jupyter.widget-view+json": {
       "model_id": "75e038976d0645509faa2c4559f5cf41",
       "version_major": 2,
       "version_minor": 0
      },
      "text/plain": [
       "  0%|          | 0/70 [00:00<?, ?it/s]"
      ]
     },
     "metadata": {},
     "output_type": "display_data"
    },
    {
     "name": "stderr",
     "output_type": "stream",
     "text": [
      "INFO - 2025-10-17T18:36:11Z - Successfully downloaded to glory_data/glory_1994-01-15.nc\n",
      "INFO - 2025-10-17T18:36:14Z - Selected dataset version: \"202311\"\n",
      "INFO - 2025-10-17T18:36:14Z - Selected dataset part: \"default\"\n",
      "INFO - 2025-10-17T18:36:21Z - Starting download. Please wait...\n"
     ]
    },
    {
     "data": {
      "application/vnd.jupyter.widget-view+json": {
       "model_id": "b51d8c434f0441bfa5f65bb0a9074f36",
       "version_major": 2,
       "version_minor": 0
      },
      "text/plain": [
       "  0%|          | 0/70 [00:00<?, ?it/s]"
      ]
     },
     "metadata": {},
     "output_type": "display_data"
    },
    {
     "name": "stderr",
     "output_type": "stream",
     "text": [
      "INFO - 2025-10-17T18:39:21Z - Successfully downloaded to glory_data/glory_1994-01-16.nc\n",
      "INFO - 2025-10-17T18:39:24Z - Selected dataset version: \"202311\"\n",
      "INFO - 2025-10-17T18:39:24Z - Selected dataset part: \"default\"\n",
      "INFO - 2025-10-17T18:39:31Z - Starting download. Please wait...\n"
     ]
    },
    {
     "data": {
      "application/vnd.jupyter.widget-view+json": {
       "model_id": "9c316425f6aa49578266b9c5ca76cd72",
       "version_major": 2,
       "version_minor": 0
      },
      "text/plain": [
       "  0%|          | 0/70 [00:00<?, ?it/s]"
      ]
     },
     "metadata": {},
     "output_type": "display_data"
    },
    {
     "name": "stderr",
     "output_type": "stream",
     "text": [
      "INFO - 2025-10-17T18:42:24Z - Successfully downloaded to glory_data/glory_1994-01-17.nc\n",
      "INFO - 2025-10-17T18:42:27Z - Selected dataset version: \"202311\"\n",
      "INFO - 2025-10-17T18:42:27Z - Selected dataset part: \"default\"\n",
      "INFO - 2025-10-17T18:42:35Z - Starting download. Please wait...\n"
     ]
    },
    {
     "data": {
      "application/vnd.jupyter.widget-view+json": {
       "model_id": "4ee50b6b23d549c2bf93e7ef42f09bdc",
       "version_major": 2,
       "version_minor": 0
      },
      "text/plain": [
       "  0%|          | 0/70 [00:00<?, ?it/s]"
      ]
     },
     "metadata": {},
     "output_type": "display_data"
    },
    {
     "name": "stderr",
     "output_type": "stream",
     "text": [
      "INFO - 2025-10-17T18:45:51Z - Successfully downloaded to glory_data/glory_1994-01-18.nc\n",
      "INFO - 2025-10-17T18:45:54Z - Selected dataset version: \"202311\"\n",
      "INFO - 2025-10-17T18:45:54Z - Selected dataset part: \"default\"\n",
      "INFO - 2025-10-17T18:46:02Z - Starting download. Please wait...\n"
     ]
    },
    {
     "data": {
      "application/vnd.jupyter.widget-view+json": {
       "model_id": "d426331593684b358f60e4501c2e90a7",
       "version_major": 2,
       "version_minor": 0
      },
      "text/plain": [
       "  0%|          | 0/70 [00:00<?, ?it/s]"
      ]
     },
     "metadata": {},
     "output_type": "display_data"
    },
    {
     "name": "stderr",
     "output_type": "stream",
     "text": [
      "INFO - 2025-10-17T18:49:11Z - Successfully downloaded to glory_data/glory_1994-01-19.nc\n",
      "INFO - 2025-10-17T18:49:13Z - Selected dataset version: \"202311\"\n",
      "INFO - 2025-10-17T18:49:13Z - Selected dataset part: \"default\"\n",
      "INFO - 2025-10-17T18:49:21Z - Starting download. Please wait...\n"
     ]
    },
    {
     "data": {
      "application/vnd.jupyter.widget-view+json": {
       "model_id": "51edb6e88c3547bca6fb1d3eeaf320d2",
       "version_major": 2,
       "version_minor": 0
      },
      "text/plain": [
       "  0%|          | 0/70 [00:00<?, ?it/s]"
      ]
     },
     "metadata": {},
     "output_type": "display_data"
    },
    {
     "name": "stderr",
     "output_type": "stream",
     "text": [
      "INFO - 2025-10-17T18:52:13Z - Successfully downloaded to glory_data/glory_1994-01-20.nc\n",
      "INFO - 2025-10-17T18:52:16Z - Selected dataset version: \"202311\"\n",
      "INFO - 2025-10-17T18:52:16Z - Selected dataset part: \"default\"\n",
      "INFO - 2025-10-17T18:52:23Z - Starting download. Please wait...\n"
     ]
    },
    {
     "data": {
      "application/vnd.jupyter.widget-view+json": {
       "model_id": "51921931f06243bd9faa8a95d16fc642",
       "version_major": 2,
       "version_minor": 0
      },
      "text/plain": [
       "  0%|          | 0/70 [00:00<?, ?it/s]"
      ]
     },
     "metadata": {},
     "output_type": "display_data"
    },
    {
     "name": "stderr",
     "output_type": "stream",
     "text": [
      "INFO - 2025-10-17T18:54:51Z - Successfully downloaded to glory_data/glory_1994-01-21.nc\n",
      "INFO - 2025-10-17T18:54:54Z - Selected dataset version: \"202311\"\n",
      "INFO - 2025-10-17T18:54:54Z - Selected dataset part: \"default\"\n",
      "INFO - 2025-10-17T18:55:01Z - Starting download. Please wait...\n"
     ]
    },
    {
     "data": {
      "application/vnd.jupyter.widget-view+json": {
       "model_id": "c9cc905f85f5476283163380189cff65",
       "version_major": 2,
       "version_minor": 0
      },
      "text/plain": [
       "  0%|          | 0/70 [00:00<?, ?it/s]"
      ]
     },
     "metadata": {},
     "output_type": "display_data"
    },
    {
     "name": "stderr",
     "output_type": "stream",
     "text": [
      "INFO - 2025-10-17T18:58:18Z - Successfully downloaded to glory_data/glory_1994-01-22.nc\n",
      "INFO - 2025-10-17T18:58:21Z - Selected dataset version: \"202311\"\n",
      "INFO - 2025-10-17T18:58:21Z - Selected dataset part: \"default\"\n",
      "INFO - 2025-10-17T18:58:28Z - Starting download. Please wait...\n"
     ]
    },
    {
     "data": {
      "application/vnd.jupyter.widget-view+json": {
       "model_id": "235b22ea686a46959629d3c818a3cb4e",
       "version_major": 2,
       "version_minor": 0
      },
      "text/plain": [
       "  0%|          | 0/70 [00:00<?, ?it/s]"
      ]
     },
     "metadata": {},
     "output_type": "display_data"
    },
    {
     "name": "stderr",
     "output_type": "stream",
     "text": [
      "INFO - 2025-10-17T19:01:14Z - Successfully downloaded to glory_data/glory_1994-01-23.nc\n",
      "INFO - 2025-10-17T19:01:17Z - Selected dataset version: \"202311\"\n",
      "INFO - 2025-10-17T19:01:17Z - Selected dataset part: \"default\"\n",
      "INFO - 2025-10-17T19:01:24Z - Starting download. Please wait...\n"
     ]
    },
    {
     "data": {
      "application/vnd.jupyter.widget-view+json": {
       "model_id": "2043f5d4abe648e4a8181c707f3cdd1b",
       "version_major": 2,
       "version_minor": 0
      },
      "text/plain": [
       "  0%|          | 0/70 [00:00<?, ?it/s]"
      ]
     },
     "metadata": {},
     "output_type": "display_data"
    },
    {
     "name": "stderr",
     "output_type": "stream",
     "text": [
      "INFO - 2025-10-17T19:04:12Z - Successfully downloaded to glory_data/glory_1994-01-24.nc\n",
      "INFO - 2025-10-17T19:04:15Z - Selected dataset version: \"202311\"\n",
      "INFO - 2025-10-17T19:04:15Z - Selected dataset part: \"default\"\n",
      "INFO - 2025-10-17T19:04:23Z - Starting download. Please wait...\n"
     ]
    },
    {
     "data": {
      "application/vnd.jupyter.widget-view+json": {
       "model_id": "d04de437d77c4cdd9db48934cb2ef568",
       "version_major": 2,
       "version_minor": 0
      },
      "text/plain": [
       "  0%|          | 0/70 [00:00<?, ?it/s]"
      ]
     },
     "metadata": {},
     "output_type": "display_data"
    },
    {
     "name": "stderr",
     "output_type": "stream",
     "text": [
      "INFO - 2025-10-17T19:07:03Z - Successfully downloaded to glory_data/glory_1994-01-25.nc\n",
      "INFO - 2025-10-17T19:07:06Z - Selected dataset version: \"202311\"\n",
      "INFO - 2025-10-17T19:07:06Z - Selected dataset part: \"default\"\n",
      "INFO - 2025-10-17T19:07:13Z - Starting download. Please wait...\n"
     ]
    },
    {
     "data": {
      "application/vnd.jupyter.widget-view+json": {
       "model_id": "7d2e16b07b494dc4872e4d0d98177069",
       "version_major": 2,
       "version_minor": 0
      },
      "text/plain": [
       "  0%|          | 0/70 [00:00<?, ?it/s]"
      ]
     },
     "metadata": {},
     "output_type": "display_data"
    },
    {
     "name": "stderr",
     "output_type": "stream",
     "text": [
      "INFO - 2025-10-17T19:10:01Z - Successfully downloaded to glory_data/glory_1994-01-26.nc\n",
      "INFO - 2025-10-17T19:10:04Z - Selected dataset version: \"202311\"\n",
      "INFO - 2025-10-17T19:10:04Z - Selected dataset part: \"default\"\n",
      "INFO - 2025-10-17T19:10:11Z - Starting download. Please wait...\n"
     ]
    },
    {
     "data": {
      "application/vnd.jupyter.widget-view+json": {
       "model_id": "724d520724254e14a7962fd49a0c9d85",
       "version_major": 2,
       "version_minor": 0
      },
      "text/plain": [
       "  0%|          | 0/70 [00:00<?, ?it/s]"
      ]
     },
     "metadata": {},
     "output_type": "display_data"
    },
    {
     "name": "stderr",
     "output_type": "stream",
     "text": [
      "INFO - 2025-10-17T19:13:04Z - Successfully downloaded to glory_data/glory_1994-01-27.nc\n",
      "INFO - 2025-10-17T19:13:07Z - Selected dataset version: \"202311\"\n",
      "INFO - 2025-10-17T19:13:07Z - Selected dataset part: \"default\"\n",
      "INFO - 2025-10-17T19:13:14Z - Starting download. Please wait...\n"
     ]
    },
    {
     "data": {
      "application/vnd.jupyter.widget-view+json": {
       "model_id": "5e4f194ebc25497cba8a641ee40d600b",
       "version_major": 2,
       "version_minor": 0
      },
      "text/plain": [
       "  0%|          | 0/70 [00:00<?, ?it/s]"
      ]
     },
     "metadata": {},
     "output_type": "display_data"
    },
    {
     "name": "stderr",
     "output_type": "stream",
     "text": [
      "INFO - 2025-10-17T19:16:18Z - Successfully downloaded to glory_data/glory_1994-01-28.nc\n",
      "INFO - 2025-10-17T19:16:20Z - Selected dataset version: \"202311\"\n",
      "INFO - 2025-10-17T19:16:20Z - Selected dataset part: \"default\"\n",
      "INFO - 2025-10-17T19:16:28Z - Starting download. Please wait...\n"
     ]
    },
    {
     "data": {
      "application/vnd.jupyter.widget-view+json": {
       "model_id": "2b57d6e829414f869b56fde399909d26",
       "version_major": 2,
       "version_minor": 0
      },
      "text/plain": [
       "  0%|          | 0/70 [00:00<?, ?it/s]"
      ]
     },
     "metadata": {},
     "output_type": "display_data"
    },
    {
     "name": "stderr",
     "output_type": "stream",
     "text": [
      "INFO - 2025-10-17T19:18:55Z - Successfully downloaded to glory_data/glory_1994-01-29.nc\n",
      "INFO - 2025-10-17T19:18:59Z - Selected dataset version: \"202311\"\n",
      "INFO - 2025-10-17T19:18:59Z - Selected dataset part: \"default\"\n",
      "INFO - 2025-10-17T19:19:06Z - Starting download. Please wait...\n"
     ]
    },
    {
     "data": {
      "application/vnd.jupyter.widget-view+json": {
       "model_id": "b3ae657988b449218e5dd1023cb1ffab",
       "version_major": 2,
       "version_minor": 0
      },
      "text/plain": [
       "  0%|          | 0/70 [00:00<?, ?it/s]"
      ]
     },
     "metadata": {},
     "output_type": "display_data"
    },
    {
     "name": "stderr",
     "output_type": "stream",
     "text": [
      "INFO - 2025-10-17T19:21:33Z - Successfully downloaded to glory_data/glory_1994-01-30.nc\n",
      "INFO - 2025-10-17T19:21:36Z - Selected dataset version: \"202311\"\n",
      "INFO - 2025-10-17T19:21:36Z - Selected dataset part: \"default\"\n",
      "INFO - 2025-10-17T19:21:44Z - Starting download. Please wait...\n"
     ]
    },
    {
     "data": {
      "application/vnd.jupyter.widget-view+json": {
       "model_id": "7a67986e414148368b08230c09f79e35",
       "version_major": 2,
       "version_minor": 0
      },
      "text/plain": [
       "  0%|          | 0/70 [00:00<?, ?it/s]"
      ]
     },
     "metadata": {},
     "output_type": "display_data"
    },
    {
     "name": "stderr",
     "output_type": "stream",
     "text": [
      "INFO - 2025-10-17T19:24:46Z - Successfully downloaded to glory_data/glory_1994-01-31.nc\n",
      "INFO - 2025-10-17T19:24:49Z - Selected dataset version: \"202311\"\n",
      "INFO - 2025-10-17T19:24:49Z - Selected dataset part: \"default\"\n",
      "INFO - 2025-10-17T19:24:56Z - Starting download. Please wait...\n"
     ]
    },
    {
     "data": {
      "application/vnd.jupyter.widget-view+json": {
       "model_id": "a0676a41af664ae9886a1a51c69c74d0",
       "version_major": 2,
       "version_minor": 0
      },
      "text/plain": [
       "  0%|          | 0/70 [00:00<?, ?it/s]"
      ]
     },
     "metadata": {},
     "output_type": "display_data"
    },
    {
     "name": "stderr",
     "output_type": "stream",
     "text": [
      "INFO - 2025-10-17T19:27:37Z - Successfully downloaded to glory_data/glory_1994-02-01.nc\n",
      "INFO - 2025-10-17T19:27:40Z - Selected dataset version: \"202311\"\n",
      "INFO - 2025-10-17T19:27:40Z - Selected dataset part: \"default\"\n",
      "INFO - 2025-10-17T19:27:47Z - Starting download. Please wait...\n"
     ]
    },
    {
     "data": {
      "application/vnd.jupyter.widget-view+json": {
       "model_id": "94250da004de4fdd9162d4adaabb8560",
       "version_major": 2,
       "version_minor": 0
      },
      "text/plain": [
       "  0%|          | 0/70 [00:00<?, ?it/s]"
      ]
     },
     "metadata": {},
     "output_type": "display_data"
    },
    {
     "name": "stderr",
     "output_type": "stream",
     "text": [
      "INFO - 2025-10-17T19:30:27Z - Successfully downloaded to glory_data/glory_1994-02-02.nc\n",
      "INFO - 2025-10-17T19:30:30Z - Selected dataset version: \"202311\"\n",
      "INFO - 2025-10-17T19:30:30Z - Selected dataset part: \"default\"\n",
      "INFO - 2025-10-17T19:30:37Z - Starting download. Please wait...\n"
     ]
    },
    {
     "data": {
      "application/vnd.jupyter.widget-view+json": {
       "model_id": "e8734d227b014297b15763c32283fc1a",
       "version_major": 2,
       "version_minor": 0
      },
      "text/plain": [
       "  0%|          | 0/70 [00:00<?, ?it/s]"
      ]
     },
     "metadata": {},
     "output_type": "display_data"
    },
    {
     "name": "stderr",
     "output_type": "stream",
     "text": [
      "INFO - 2025-10-17T19:33:04Z - Successfully downloaded to glory_data/glory_1994-02-03.nc\n",
      "INFO - 2025-10-17T19:33:06Z - Selected dataset version: \"202311\"\n",
      "INFO - 2025-10-17T19:33:06Z - Selected dataset part: \"default\"\n",
      "INFO - 2025-10-17T19:33:13Z - Starting download. Please wait...\n"
     ]
    },
    {
     "data": {
      "application/vnd.jupyter.widget-view+json": {
       "model_id": "3443388b049e4e2187753a46cc004ad8",
       "version_major": 2,
       "version_minor": 0
      },
      "text/plain": [
       "  0%|          | 0/70 [00:00<?, ?it/s]"
      ]
     },
     "metadata": {},
     "output_type": "display_data"
    },
    {
     "name": "stderr",
     "output_type": "stream",
     "text": [
      "INFO - 2025-10-17T19:35:41Z - Successfully downloaded to glory_data/glory_1994-02-04.nc\n",
      "INFO - 2025-10-17T19:35:44Z - Selected dataset version: \"202311\"\n",
      "INFO - 2025-10-17T19:35:44Z - Selected dataset part: \"default\"\n",
      "INFO - 2025-10-17T19:35:52Z - Starting download. Please wait...\n"
     ]
    },
    {
     "data": {
      "application/vnd.jupyter.widget-view+json": {
       "model_id": "2e668924364f4e608375cba502c0afb4",
       "version_major": 2,
       "version_minor": 0
      },
      "text/plain": [
       "  0%|          | 0/70 [00:00<?, ?it/s]"
      ]
     },
     "metadata": {},
     "output_type": "display_data"
    },
    {
     "name": "stderr",
     "output_type": "stream",
     "text": [
      "INFO - 2025-10-17T19:38:36Z - Successfully downloaded to glory_data/glory_1994-02-05.nc\n",
      "INFO - 2025-10-17T19:38:39Z - Selected dataset version: \"202311\"\n",
      "INFO - 2025-10-17T19:38:39Z - Selected dataset part: \"default\"\n",
      "INFO - 2025-10-17T19:38:46Z - Starting download. Please wait...\n"
     ]
    },
    {
     "data": {
      "application/vnd.jupyter.widget-view+json": {
       "model_id": "77fe91c6053743cf83b3c63e7d998f17",
       "version_major": 2,
       "version_minor": 0
      },
      "text/plain": [
       "  0%|          | 0/70 [00:00<?, ?it/s]"
      ]
     },
     "metadata": {},
     "output_type": "display_data"
    },
    {
     "name": "stderr",
     "output_type": "stream",
     "text": [
      "INFO - 2025-10-17T19:41:55Z - Successfully downloaded to glory_data/glory_1994-02-06.nc\n",
      "INFO - 2025-10-17T19:41:58Z - Selected dataset version: \"202311\"\n",
      "INFO - 2025-10-17T19:41:58Z - Selected dataset part: \"default\"\n",
      "INFO - 2025-10-17T19:42:05Z - Starting download. Please wait...\n"
     ]
    },
    {
     "data": {
      "application/vnd.jupyter.widget-view+json": {
       "model_id": "eeb9d746f94d491da5be562a11ea7782",
       "version_major": 2,
       "version_minor": 0
      },
      "text/plain": [
       "  0%|          | 0/70 [00:00<?, ?it/s]"
      ]
     },
     "metadata": {},
     "output_type": "display_data"
    },
    {
     "name": "stderr",
     "output_type": "stream",
     "text": [
      "INFO - 2025-10-17T19:44:33Z - Successfully downloaded to glory_data/glory_1994-02-07.nc\n",
      "INFO - 2025-10-17T19:44:36Z - Selected dataset version: \"202311\"\n",
      "INFO - 2025-10-17T19:44:36Z - Selected dataset part: \"default\"\n",
      "INFO - 2025-10-17T19:44:43Z - Starting download. Please wait...\n"
     ]
    },
    {
     "data": {
      "application/vnd.jupyter.widget-view+json": {
       "model_id": "cc5daa562817475abf6cc3fca5c64eb9",
       "version_major": 2,
       "version_minor": 0
      },
      "text/plain": [
       "  0%|          | 0/70 [00:00<?, ?it/s]"
      ]
     },
     "metadata": {},
     "output_type": "display_data"
    },
    {
     "name": "stderr",
     "output_type": "stream",
     "text": [
      "INFO - 2025-10-17T19:47:17Z - Successfully downloaded to glory_data/glory_1994-02-08.nc\n",
      "INFO - 2025-10-17T19:47:20Z - Selected dataset version: \"202311\"\n",
      "INFO - 2025-10-17T19:47:20Z - Selected dataset part: \"default\"\n",
      "INFO - 2025-10-17T19:47:27Z - Starting download. Please wait...\n"
     ]
    },
    {
     "data": {
      "application/vnd.jupyter.widget-view+json": {
       "model_id": "00d8ee1f1f944ed999f38dc3e5dcd729",
       "version_major": 2,
       "version_minor": 0
      },
      "text/plain": [
       "  0%|          | 0/70 [00:00<?, ?it/s]"
      ]
     },
     "metadata": {},
     "output_type": "display_data"
    },
    {
     "name": "stderr",
     "output_type": "stream",
     "text": [
      "INFO - 2025-10-17T19:50:00Z - Successfully downloaded to glory_data/glory_1994-02-09.nc\n",
      "INFO - 2025-10-17T19:50:03Z - Selected dataset version: \"202311\"\n",
      "INFO - 2025-10-17T19:50:03Z - Selected dataset part: \"default\"\n",
      "INFO - 2025-10-17T19:50:11Z - Starting download. Please wait...\n"
     ]
    },
    {
     "data": {
      "application/vnd.jupyter.widget-view+json": {
       "model_id": "48b611c902f94565960c66343a8089b1",
       "version_major": 2,
       "version_minor": 0
      },
      "text/plain": [
       "  0%|          | 0/70 [00:00<?, ?it/s]"
      ]
     },
     "metadata": {},
     "output_type": "display_data"
    },
    {
     "name": "stderr",
     "output_type": "stream",
     "text": [
      "INFO - 2025-10-17T19:52:56Z - Successfully downloaded to glory_data/glory_1994-02-10.nc\n",
      "INFO - 2025-10-17T19:53:00Z - Selected dataset version: \"202311\"\n",
      "INFO - 2025-10-17T19:53:00Z - Selected dataset part: \"default\"\n",
      "INFO - 2025-10-17T19:53:07Z - Starting download. Please wait...\n"
     ]
    },
    {
     "data": {
      "application/vnd.jupyter.widget-view+json": {
       "model_id": "a00e3ed65a0e436d9db62d7211185d6e",
       "version_major": 2,
       "version_minor": 0
      },
      "text/plain": [
       "  0%|          | 0/70 [00:00<?, ?it/s]"
      ]
     },
     "metadata": {},
     "output_type": "display_data"
    },
    {
     "name": "stderr",
     "output_type": "stream",
     "text": [
      "INFO - 2025-10-17T19:55:58Z - Successfully downloaded to glory_data/glory_1994-02-11.nc\n",
      "INFO - 2025-10-17T19:56:01Z - Selected dataset version: \"202311\"\n",
      "INFO - 2025-10-17T19:56:01Z - Selected dataset part: \"default\"\n",
      "INFO - 2025-10-17T19:56:08Z - Starting download. Please wait...\n"
     ]
    },
    {
     "data": {
      "application/vnd.jupyter.widget-view+json": {
       "model_id": "50166fcc1fc543e09f9851bfb79b7a90",
       "version_major": 2,
       "version_minor": 0
      },
      "text/plain": [
       "  0%|          | 0/70 [00:00<?, ?it/s]"
      ]
     },
     "metadata": {},
     "output_type": "display_data"
    },
    {
     "name": "stderr",
     "output_type": "stream",
     "text": [
      "INFO - 2025-10-17T19:59:05Z - Successfully downloaded to glory_data/glory_1994-02-12.nc\n",
      "INFO - 2025-10-17T19:59:07Z - Selected dataset version: \"202311\"\n",
      "INFO - 2025-10-17T19:59:07Z - Selected dataset part: \"default\"\n",
      "INFO - 2025-10-17T19:59:15Z - Starting download. Please wait...\n"
     ]
    },
    {
     "data": {
      "application/vnd.jupyter.widget-view+json": {
       "model_id": "9702328fb7b54918b9408743690337b6",
       "version_major": 2,
       "version_minor": 0
      },
      "text/plain": [
       "  0%|          | 0/70 [00:00<?, ?it/s]"
      ]
     },
     "metadata": {},
     "output_type": "display_data"
    },
    {
     "name": "stderr",
     "output_type": "stream",
     "text": [
      "INFO - 2025-10-17T20:01:41Z - Successfully downloaded to glory_data/glory_1994-02-13.nc\n",
      "INFO - 2025-10-17T20:01:43Z - Selected dataset version: \"202311\"\n",
      "INFO - 2025-10-17T20:01:43Z - Selected dataset part: \"default\"\n",
      "INFO - 2025-10-17T20:01:50Z - Starting download. Please wait...\n"
     ]
    },
    {
     "data": {
      "application/vnd.jupyter.widget-view+json": {
       "model_id": "1b7984fdff404a1691dfcde4d465995b",
       "version_major": 2,
       "version_minor": 0
      },
      "text/plain": [
       "  0%|          | 0/70 [00:00<?, ?it/s]"
      ]
     },
     "metadata": {},
     "output_type": "display_data"
    },
    {
     "name": "stderr",
     "output_type": "stream",
     "text": [
      "INFO - 2025-10-17T20:04:15Z - Successfully downloaded to glory_data/glory_1994-02-14.nc\n",
      "INFO - 2025-10-17T20:04:18Z - Selected dataset version: \"202311\"\n",
      "INFO - 2025-10-17T20:04:18Z - Selected dataset part: \"default\"\n",
      "INFO - 2025-10-17T20:04:26Z - Starting download. Please wait...\n"
     ]
    },
    {
     "data": {
      "application/vnd.jupyter.widget-view+json": {
       "model_id": "07b78092e7d5401aa32cbdf94bbace5c",
       "version_major": 2,
       "version_minor": 0
      },
      "text/plain": [
       "  0%|          | 0/70 [00:00<?, ?it/s]"
      ]
     },
     "metadata": {},
     "output_type": "display_data"
    },
    {
     "name": "stderr",
     "output_type": "stream",
     "text": [
      "INFO - 2025-10-17T20:06:50Z - Successfully downloaded to glory_data/glory_1994-02-15.nc\n",
      "INFO - 2025-10-17T20:06:53Z - Selected dataset version: \"202311\"\n",
      "INFO - 2025-10-17T20:06:53Z - Selected dataset part: \"default\"\n",
      "INFO - 2025-10-17T20:07:00Z - Starting download. Please wait...\n"
     ]
    },
    {
     "data": {
      "application/vnd.jupyter.widget-view+json": {
       "model_id": "bf7ede19d893428289c86e97c2fa33c7",
       "version_major": 2,
       "version_minor": 0
      },
      "text/plain": [
       "  0%|          | 0/70 [00:00<?, ?it/s]"
      ]
     },
     "metadata": {},
     "output_type": "display_data"
    },
    {
     "name": "stderr",
     "output_type": "stream",
     "text": [
      "INFO - 2025-10-17T20:09:56Z - Successfully downloaded to glory_data/glory_1994-02-16.nc\n",
      "INFO - 2025-10-17T20:09:59Z - Selected dataset version: \"202311\"\n",
      "INFO - 2025-10-17T20:09:59Z - Selected dataset part: \"default\"\n",
      "INFO - 2025-10-17T20:10:06Z - Starting download. Please wait...\n"
     ]
    },
    {
     "data": {
      "application/vnd.jupyter.widget-view+json": {
       "model_id": "b752ba3c6184416fbe9312ae72415049",
       "version_major": 2,
       "version_minor": 0
      },
      "text/plain": [
       "  0%|          | 0/70 [00:00<?, ?it/s]"
      ]
     },
     "metadata": {},
     "output_type": "display_data"
    },
    {
     "name": "stderr",
     "output_type": "stream",
     "text": [
      "INFO - 2025-10-17T20:12:47Z - Successfully downloaded to glory_data/glory_1994-02-17.nc\n",
      "INFO - 2025-10-17T20:12:50Z - Selected dataset version: \"202311\"\n",
      "INFO - 2025-10-17T20:12:50Z - Selected dataset part: \"default\"\n",
      "INFO - 2025-10-17T20:12:57Z - Starting download. Please wait...\n"
     ]
    },
    {
     "data": {
      "application/vnd.jupyter.widget-view+json": {
       "model_id": "a091f53c18bb49d7ab657418fb6d783c",
       "version_major": 2,
       "version_minor": 0
      },
      "text/plain": [
       "  0%|          | 0/70 [00:00<?, ?it/s]"
      ]
     },
     "metadata": {},
     "output_type": "display_data"
    },
    {
     "name": "stderr",
     "output_type": "stream",
     "text": [
      "INFO - 2025-10-17T20:15:23Z - Successfully downloaded to glory_data/glory_1994-02-18.nc\n",
      "INFO - 2025-10-17T20:15:26Z - Selected dataset version: \"202311\"\n",
      "INFO - 2025-10-17T20:15:26Z - Selected dataset part: \"default\"\n",
      "INFO - 2025-10-17T20:15:34Z - Starting download. Please wait...\n"
     ]
    },
    {
     "data": {
      "application/vnd.jupyter.widget-view+json": {
       "model_id": "d777e06729fe4cc0bf765b2e002d0127",
       "version_major": 2,
       "version_minor": 0
      },
      "text/plain": [
       "  0%|          | 0/70 [00:00<?, ?it/s]"
      ]
     },
     "metadata": {},
     "output_type": "display_data"
    },
    {
     "name": "stderr",
     "output_type": "stream",
     "text": [
      "INFO - 2025-10-17T20:18:44Z - Successfully downloaded to glory_data/glory_1994-02-19.nc\n",
      "INFO - 2025-10-17T20:18:47Z - Selected dataset version: \"202311\"\n",
      "INFO - 2025-10-17T20:18:47Z - Selected dataset part: \"default\"\n",
      "INFO - 2025-10-17T20:18:55Z - Starting download. Please wait...\n"
     ]
    },
    {
     "data": {
      "application/vnd.jupyter.widget-view+json": {
       "model_id": "1b31c1c762bb419c9764f15679dd3ac5",
       "version_major": 2,
       "version_minor": 0
      },
      "text/plain": [
       "  0%|          | 0/70 [00:00<?, ?it/s]"
      ]
     },
     "metadata": {},
     "output_type": "display_data"
    },
    {
     "name": "stderr",
     "output_type": "stream",
     "text": [
      "INFO - 2025-10-17T20:22:16Z - Successfully downloaded to glory_data/glory_1994-02-20.nc\n",
      "INFO - 2025-10-17T20:22:18Z - Selected dataset version: \"202311\"\n",
      "INFO - 2025-10-17T20:22:18Z - Selected dataset part: \"default\"\n",
      "INFO - 2025-10-17T20:22:26Z - Starting download. Please wait...\n"
     ]
    },
    {
     "data": {
      "application/vnd.jupyter.widget-view+json": {
       "model_id": "58a4e5d3017c4231bec0f1dd31551f64",
       "version_major": 2,
       "version_minor": 0
      },
      "text/plain": [
       "  0%|          | 0/70 [00:00<?, ?it/s]"
      ]
     },
     "metadata": {},
     "output_type": "display_data"
    },
    {
     "name": "stderr",
     "output_type": "stream",
     "text": [
      "INFO - 2025-10-17T20:25:16Z - Successfully downloaded to glory_data/glory_1994-02-21.nc\n",
      "INFO - 2025-10-17T20:25:19Z - Selected dataset version: \"202311\"\n",
      "INFO - 2025-10-17T20:25:19Z - Selected dataset part: \"default\"\n",
      "INFO - 2025-10-17T20:25:26Z - Starting download. Please wait...\n"
     ]
    },
    {
     "data": {
      "application/vnd.jupyter.widget-view+json": {
       "model_id": "bb4094a5426245e0a72439a7462c9654",
       "version_major": 2,
       "version_minor": 0
      },
      "text/plain": [
       "  0%|          | 0/70 [00:00<?, ?it/s]"
      ]
     },
     "metadata": {},
     "output_type": "display_data"
    },
    {
     "name": "stderr",
     "output_type": "stream",
     "text": [
      "INFO - 2025-10-17T20:27:55Z - Successfully downloaded to glory_data/glory_1994-02-22.nc\n",
      "INFO - 2025-10-17T20:27:58Z - Selected dataset version: \"202311\"\n",
      "INFO - 2025-10-17T20:27:58Z - Selected dataset part: \"default\"\n",
      "INFO - 2025-10-17T20:28:05Z - Starting download. Please wait...\n"
     ]
    },
    {
     "data": {
      "application/vnd.jupyter.widget-view+json": {
       "model_id": "a7a88cdeb23c49e6b0c636db15cda99a",
       "version_major": 2,
       "version_minor": 0
      },
      "text/plain": [
       "  0%|          | 0/70 [00:00<?, ?it/s]"
      ]
     },
     "metadata": {},
     "output_type": "display_data"
    },
    {
     "name": "stderr",
     "output_type": "stream",
     "text": [
      "INFO - 2025-10-17T20:30:34Z - Successfully downloaded to glory_data/glory_1994-02-23.nc\n",
      "INFO - 2025-10-17T20:30:36Z - Selected dataset version: \"202311\"\n",
      "INFO - 2025-10-17T20:30:36Z - Selected dataset part: \"default\"\n",
      "INFO - 2025-10-17T20:30:43Z - Starting download. Please wait...\n"
     ]
    },
    {
     "data": {
      "application/vnd.jupyter.widget-view+json": {
       "model_id": "fda9176a8b3f49ddb4f73b87603e0310",
       "version_major": 2,
       "version_minor": 0
      },
      "text/plain": [
       "  0%|          | 0/70 [00:00<?, ?it/s]"
      ]
     },
     "metadata": {},
     "output_type": "display_data"
    },
    {
     "name": "stderr",
     "output_type": "stream",
     "text": [
      "INFO - 2025-10-17T20:33:32Z - Successfully downloaded to glory_data/glory_1994-02-24.nc\n",
      "INFO - 2025-10-17T20:33:34Z - Selected dataset version: \"202311\"\n",
      "INFO - 2025-10-17T20:33:34Z - Selected dataset part: \"default\"\n",
      "INFO - 2025-10-17T20:33:42Z - Starting download. Please wait...\n"
     ]
    },
    {
     "data": {
      "application/vnd.jupyter.widget-view+json": {
       "model_id": "73782d2afed840a1bcf1a0e33788e602",
       "version_major": 2,
       "version_minor": 0
      },
      "text/plain": [
       "  0%|          | 0/70 [00:00<?, ?it/s]"
      ]
     },
     "metadata": {},
     "output_type": "display_data"
    },
    {
     "name": "stderr",
     "output_type": "stream",
     "text": [
      "INFO - 2025-10-17T20:36:25Z - Successfully downloaded to glory_data/glory_1994-02-25.nc\n",
      "INFO - 2025-10-17T20:36:28Z - Selected dataset version: \"202311\"\n",
      "INFO - 2025-10-17T20:36:28Z - Selected dataset part: \"default\"\n",
      "INFO - 2025-10-17T20:36:35Z - Starting download. Please wait...\n"
     ]
    },
    {
     "data": {
      "application/vnd.jupyter.widget-view+json": {
       "model_id": "6a31e89a2ee249ff8044e57e9a2c76ea",
       "version_major": 2,
       "version_minor": 0
      },
      "text/plain": [
       "  0%|          | 0/70 [00:00<?, ?it/s]"
      ]
     },
     "metadata": {},
     "output_type": "display_data"
    },
    {
     "name": "stderr",
     "output_type": "stream",
     "text": [
      "INFO - 2025-10-17T20:39:06Z - Successfully downloaded to glory_data/glory_1994-02-26.nc\n",
      "INFO - 2025-10-17T20:39:09Z - Selected dataset version: \"202311\"\n",
      "INFO - 2025-10-17T20:39:09Z - Selected dataset part: \"default\"\n",
      "INFO - 2025-10-17T20:39:16Z - Starting download. Please wait...\n"
     ]
    },
    {
     "data": {
      "application/vnd.jupyter.widget-view+json": {
       "model_id": "913ee99031bc4a3caac23c3dbe1c7c52",
       "version_major": 2,
       "version_minor": 0
      },
      "text/plain": [
       "  0%|          | 0/70 [00:00<?, ?it/s]"
      ]
     },
     "metadata": {},
     "output_type": "display_data"
    },
    {
     "name": "stderr",
     "output_type": "stream",
     "text": [
      "INFO - 2025-10-17T20:41:43Z - Successfully downloaded to glory_data/glory_1994-02-27.nc\n",
      "INFO - 2025-10-17T20:41:46Z - Selected dataset version: \"202311\"\n",
      "INFO - 2025-10-17T20:41:46Z - Selected dataset part: \"default\"\n",
      "INFO - 2025-10-17T20:41:53Z - Starting download. Please wait...\n"
     ]
    },
    {
     "data": {
      "application/vnd.jupyter.widget-view+json": {
       "model_id": "cf8afad167f549d8b80fd26b88e876e6",
       "version_major": 2,
       "version_minor": 0
      },
      "text/plain": [
       "  0%|          | 0/70 [00:00<?, ?it/s]"
      ]
     },
     "metadata": {},
     "output_type": "display_data"
    },
    {
     "name": "stderr",
     "output_type": "stream",
     "text": [
      "INFO - 2025-10-17T20:44:40Z - Successfully downloaded to glory_data/glory_1994-02-28.nc\n",
      "INFO - 2025-10-17T20:44:43Z - Selected dataset version: \"202311\"\n",
      "INFO - 2025-10-17T20:44:43Z - Selected dataset part: \"default\"\n",
      "INFO - 2025-10-17T20:44:51Z - Starting download. Please wait...\n"
     ]
    },
    {
     "data": {
      "application/vnd.jupyter.widget-view+json": {
       "model_id": "1846d73bf0f541b28adddbf3df0afa87",
       "version_major": 2,
       "version_minor": 0
      },
      "text/plain": [
       "  0%|          | 0/70 [00:00<?, ?it/s]"
      ]
     },
     "metadata": {},
     "output_type": "display_data"
    },
    {
     "name": "stderr",
     "output_type": "stream",
     "text": [
      "INFO - 2025-10-17T20:47:30Z - Successfully downloaded to glory_data/glory_1994-03-01.nc\n",
      "INFO - 2025-10-17T20:47:33Z - Selected dataset version: \"202311\"\n",
      "INFO - 2025-10-17T20:47:33Z - Selected dataset part: \"default\"\n",
      "INFO - 2025-10-17T20:47:40Z - Starting download. Please wait...\n"
     ]
    },
    {
     "data": {
      "application/vnd.jupyter.widget-view+json": {
       "model_id": "7c64489b912b4a4088dc55ab371eae4d",
       "version_major": 2,
       "version_minor": 0
      },
      "text/plain": [
       "  0%|          | 0/70 [00:00<?, ?it/s]"
      ]
     },
     "metadata": {},
     "output_type": "display_data"
    },
    {
     "name": "stderr",
     "output_type": "stream",
     "text": [
      "INFO - 2025-10-17T20:50:12Z - Successfully downloaded to glory_data/glory_1994-03-02.nc\n",
      "INFO - 2025-10-17T20:50:15Z - Selected dataset version: \"202311\"\n",
      "INFO - 2025-10-17T20:50:15Z - Selected dataset part: \"default\"\n",
      "INFO - 2025-10-17T20:50:23Z - Starting download. Please wait...\n"
     ]
    },
    {
     "data": {
      "application/vnd.jupyter.widget-view+json": {
       "model_id": "ae6fdb6906314e7f9672c46e95ad7fba",
       "version_major": 2,
       "version_minor": 0
      },
      "text/plain": [
       "  0%|          | 0/70 [00:00<?, ?it/s]"
      ]
     },
     "metadata": {},
     "output_type": "display_data"
    },
    {
     "name": "stderr",
     "output_type": "stream",
     "text": [
      "INFO - 2025-10-17T20:52:50Z - Successfully downloaded to glory_data/glory_1994-03-03.nc\n",
      "INFO - 2025-10-17T20:52:54Z - Selected dataset version: \"202311\"\n",
      "INFO - 2025-10-17T20:52:54Z - Selected dataset part: \"default\"\n",
      "INFO - 2025-10-17T20:53:00Z - Starting download. Please wait...\n"
     ]
    },
    {
     "data": {
      "application/vnd.jupyter.widget-view+json": {
       "model_id": "42800eb446844160bc748580e1402b83",
       "version_major": 2,
       "version_minor": 0
      },
      "text/plain": [
       "  0%|          | 0/70 [00:00<?, ?it/s]"
      ]
     },
     "metadata": {},
     "output_type": "display_data"
    },
    {
     "name": "stderr",
     "output_type": "stream",
     "text": [
      "INFO - 2025-10-17T20:56:01Z - Successfully downloaded to glory_data/glory_1994-03-04.nc\n",
      "INFO - 2025-10-17T20:56:04Z - Selected dataset version: \"202311\"\n",
      "INFO - 2025-10-17T20:56:04Z - Selected dataset part: \"default\"\n",
      "INFO - 2025-10-17T20:56:11Z - Starting download. Please wait...\n"
     ]
    },
    {
     "data": {
      "application/vnd.jupyter.widget-view+json": {
       "model_id": "8b6b0411d0204faa8321b4e1d070e92c",
       "version_major": 2,
       "version_minor": 0
      },
      "text/plain": [
       "  0%|          | 0/70 [00:00<?, ?it/s]"
      ]
     },
     "metadata": {},
     "output_type": "display_data"
    },
    {
     "name": "stderr",
     "output_type": "stream",
     "text": [
      "INFO - 2025-10-17T20:58:43Z - Successfully downloaded to glory_data/glory_1994-03-05.nc\n",
      "INFO - 2025-10-17T20:58:46Z - Selected dataset version: \"202311\"\n",
      "INFO - 2025-10-17T20:58:46Z - Selected dataset part: \"default\"\n",
      "INFO - 2025-10-17T20:58:53Z - Starting download. Please wait...\n"
     ]
    },
    {
     "data": {
      "application/vnd.jupyter.widget-view+json": {
       "model_id": "8bfeaa6b0c9c49fdb968793ed175a845",
       "version_major": 2,
       "version_minor": 0
      },
      "text/plain": [
       "  0%|          | 0/70 [00:00<?, ?it/s]"
      ]
     },
     "metadata": {},
     "output_type": "display_data"
    },
    {
     "name": "stderr",
     "output_type": "stream",
     "text": [
      "INFO - 2025-10-17T21:01:15Z - Successfully downloaded to glory_data/glory_1994-03-06.nc\n",
      "INFO - 2025-10-17T21:01:18Z - Selected dataset version: \"202311\"\n",
      "INFO - 2025-10-17T21:01:18Z - Selected dataset part: \"default\"\n",
      "INFO - 2025-10-17T21:01:27Z - Starting download. Please wait...\n"
     ]
    },
    {
     "data": {
      "application/vnd.jupyter.widget-view+json": {
       "model_id": "70df985334424d04bb4d108493671cea",
       "version_major": 2,
       "version_minor": 0
      },
      "text/plain": [
       "  0%|          | 0/70 [00:00<?, ?it/s]"
      ]
     },
     "metadata": {},
     "output_type": "display_data"
    },
    {
     "name": "stderr",
     "output_type": "stream",
     "text": [
      "INFO - 2025-10-17T21:04:17Z - Successfully downloaded to glory_data/glory_1994-03-07.nc\n",
      "INFO - 2025-10-17T21:04:20Z - Selected dataset version: \"202311\"\n",
      "INFO - 2025-10-17T21:04:20Z - Selected dataset part: \"default\"\n",
      "INFO - 2025-10-17T21:04:27Z - Starting download. Please wait...\n"
     ]
    },
    {
     "data": {
      "application/vnd.jupyter.widget-view+json": {
       "model_id": "342b25bdb51d4db78f44ff9987c8e736",
       "version_major": 2,
       "version_minor": 0
      },
      "text/plain": [
       "  0%|          | 0/70 [00:00<?, ?it/s]"
      ]
     },
     "metadata": {},
     "output_type": "display_data"
    },
    {
     "name": "stderr",
     "output_type": "stream",
     "text": [
      "INFO - 2025-10-17T21:06:48Z - Successfully downloaded to glory_data/glory_1994-03-08.nc\n",
      "INFO - 2025-10-17T21:06:51Z - Selected dataset version: \"202311\"\n",
      "INFO - 2025-10-17T21:06:51Z - Selected dataset part: \"default\"\n",
      "INFO - 2025-10-17T21:06:58Z - Starting download. Please wait...\n"
     ]
    },
    {
     "data": {
      "application/vnd.jupyter.widget-view+json": {
       "model_id": "16de758e7c6341a9902826483ad04c2b",
       "version_major": 2,
       "version_minor": 0
      },
      "text/plain": [
       "  0%|          | 0/70 [00:00<?, ?it/s]"
      ]
     },
     "metadata": {},
     "output_type": "display_data"
    },
    {
     "name": "stderr",
     "output_type": "stream",
     "text": [
      "INFO - 2025-10-17T21:09:51Z - Successfully downloaded to glory_data/glory_1994-03-09.nc\n",
      "INFO - 2025-10-17T21:09:54Z - Selected dataset version: \"202311\"\n",
      "INFO - 2025-10-17T21:09:54Z - Selected dataset part: \"default\"\n",
      "INFO - 2025-10-17T21:10:01Z - Starting download. Please wait...\n"
     ]
    },
    {
     "data": {
      "application/vnd.jupyter.widget-view+json": {
       "model_id": "9e11129e8fc0453abb23378eb009cb96",
       "version_major": 2,
       "version_minor": 0
      },
      "text/plain": [
       "  0%|          | 0/70 [00:00<?, ?it/s]"
      ]
     },
     "metadata": {},
     "output_type": "display_data"
    },
    {
     "name": "stderr",
     "output_type": "stream",
     "text": [
      "INFO - 2025-10-17T21:12:31Z - Successfully downloaded to glory_data/glory_1994-03-10.nc\n",
      "INFO - 2025-10-17T21:12:34Z - Selected dataset version: \"202311\"\n",
      "INFO - 2025-10-17T21:12:34Z - Selected dataset part: \"default\"\n",
      "INFO - 2025-10-17T21:12:43Z - Starting download. Please wait...\n"
     ]
    },
    {
     "data": {
      "application/vnd.jupyter.widget-view+json": {
       "model_id": "e3e53aeea5154c3a83473b8ecafe6f8b",
       "version_major": 2,
       "version_minor": 0
      },
      "text/plain": [
       "  0%|          | 0/70 [00:00<?, ?it/s]"
      ]
     },
     "metadata": {},
     "output_type": "display_data"
    },
    {
     "name": "stderr",
     "output_type": "stream",
     "text": [
      "INFO - 2025-10-17T21:15:13Z - Successfully downloaded to glory_data/glory_1994-03-11.nc\n",
      "INFO - 2025-10-17T21:15:16Z - Selected dataset version: \"202311\"\n",
      "INFO - 2025-10-17T21:15:16Z - Selected dataset part: \"default\"\n",
      "INFO - 2025-10-17T21:15:23Z - Starting download. Please wait...\n"
     ]
    },
    {
     "data": {
      "application/vnd.jupyter.widget-view+json": {
       "model_id": "3ff7114cf48d4131bb28e869e935d70b",
       "version_major": 2,
       "version_minor": 0
      },
      "text/plain": [
       "  0%|          | 0/70 [00:00<?, ?it/s]"
      ]
     },
     "metadata": {},
     "output_type": "display_data"
    },
    {
     "name": "stderr",
     "output_type": "stream",
     "text": [
      "INFO - 2025-10-17T21:18:19Z - Successfully downloaded to glory_data/glory_1994-03-12.nc\n",
      "INFO - 2025-10-17T21:18:22Z - Selected dataset version: \"202311\"\n",
      "INFO - 2025-10-17T21:18:22Z - Selected dataset part: \"default\"\n",
      "INFO - 2025-10-17T21:18:29Z - Starting download. Please wait...\n"
     ]
    },
    {
     "data": {
      "application/vnd.jupyter.widget-view+json": {
       "model_id": "1a76fa7456ac46ac80034c1d6706de80",
       "version_major": 2,
       "version_minor": 0
      },
      "text/plain": [
       "  0%|          | 0/70 [00:00<?, ?it/s]"
      ]
     },
     "metadata": {},
     "output_type": "display_data"
    },
    {
     "name": "stderr",
     "output_type": "stream",
     "text": [
      "INFO - 2025-10-17T21:21:13Z - Successfully downloaded to glory_data/glory_1994-03-13.nc\n",
      "INFO - 2025-10-17T21:21:16Z - Selected dataset version: \"202311\"\n",
      "INFO - 2025-10-17T21:21:16Z - Selected dataset part: \"default\"\n",
      "INFO - 2025-10-17T21:21:24Z - Starting download. Please wait...\n"
     ]
    },
    {
     "data": {
      "application/vnd.jupyter.widget-view+json": {
       "model_id": "11b2c0b3326a43fc880240b65ac72b6f",
       "version_major": 2,
       "version_minor": 0
      },
      "text/plain": [
       "  0%|          | 0/70 [00:00<?, ?it/s]"
      ]
     },
     "metadata": {},
     "output_type": "display_data"
    },
    {
     "name": "stderr",
     "output_type": "stream",
     "text": [
      "INFO - 2025-10-17T21:24:34Z - Successfully downloaded to glory_data/glory_1994-03-14.nc\n",
      "INFO - 2025-10-17T21:24:37Z - Selected dataset version: \"202311\"\n",
      "INFO - 2025-10-17T21:24:37Z - Selected dataset part: \"default\"\n",
      "INFO - 2025-10-17T21:24:45Z - Starting download. Please wait...\n"
     ]
    },
    {
     "data": {
      "application/vnd.jupyter.widget-view+json": {
       "model_id": "11b0891c1ce14ceda1b45094c17467b0",
       "version_major": 2,
       "version_minor": 0
      },
      "text/plain": [
       "  0%|          | 0/70 [00:00<?, ?it/s]"
      ]
     },
     "metadata": {},
     "output_type": "display_data"
    },
    {
     "name": "stderr",
     "output_type": "stream",
     "text": [
      "INFO - 2025-10-17T21:27:14Z - Successfully downloaded to glory_data/glory_1994-03-15.nc\n",
      "INFO - 2025-10-17T21:27:16Z - Selected dataset version: \"202311\"\n",
      "INFO - 2025-10-17T21:27:16Z - Selected dataset part: \"default\"\n",
      "INFO - 2025-10-17T21:27:23Z - Starting download. Please wait...\n"
     ]
    },
    {
     "data": {
      "application/vnd.jupyter.widget-view+json": {
       "model_id": "098c638a5fe34854b3d100e0688a04eb",
       "version_major": 2,
       "version_minor": 0
      },
      "text/plain": [
       "  0%|          | 0/70 [00:00<?, ?it/s]"
      ]
     },
     "metadata": {},
     "output_type": "display_data"
    },
    {
     "name": "stderr",
     "output_type": "stream",
     "text": [
      "INFO - 2025-10-17T21:30:13Z - Successfully downloaded to glory_data/glory_1994-03-16.nc\n",
      "INFO - 2025-10-17T21:30:16Z - Selected dataset version: \"202311\"\n",
      "INFO - 2025-10-17T21:30:16Z - Selected dataset part: \"default\"\n",
      "INFO - 2025-10-17T21:30:24Z - Starting download. Please wait...\n"
     ]
    },
    {
     "data": {
      "application/vnd.jupyter.widget-view+json": {
       "model_id": "7b0bc330f9b945e1976d86075f19cdb9",
       "version_major": 2,
       "version_minor": 0
      },
      "text/plain": [
       "  0%|          | 0/70 [00:00<?, ?it/s]"
      ]
     },
     "metadata": {},
     "output_type": "display_data"
    },
    {
     "name": "stderr",
     "output_type": "stream",
     "text": [
      "INFO - 2025-10-17T21:32:49Z - Successfully downloaded to glory_data/glory_1994-03-17.nc\n",
      "INFO - 2025-10-17T21:32:52Z - Selected dataset version: \"202311\"\n",
      "INFO - 2025-10-17T21:32:52Z - Selected dataset part: \"default\"\n",
      "INFO - 2025-10-17T21:32:59Z - Starting download. Please wait...\n"
     ]
    },
    {
     "data": {
      "application/vnd.jupyter.widget-view+json": {
       "model_id": "28d52e60b3b54853a62574fb9d78e82d",
       "version_major": 2,
       "version_minor": 0
      },
      "text/plain": [
       "  0%|          | 0/70 [00:00<?, ?it/s]"
      ]
     },
     "metadata": {},
     "output_type": "display_data"
    },
    {
     "name": "stderr",
     "output_type": "stream",
     "text": [
      "INFO - 2025-10-17T21:35:24Z - Successfully downloaded to glory_data/glory_1994-03-18.nc\n",
      "INFO - 2025-10-17T21:35:27Z - Selected dataset version: \"202311\"\n",
      "INFO - 2025-10-17T21:35:27Z - Selected dataset part: \"default\"\n",
      "INFO - 2025-10-17T21:35:34Z - Starting download. Please wait...\n"
     ]
    },
    {
     "data": {
      "application/vnd.jupyter.widget-view+json": {
       "model_id": "f93d6f9ddcea4e1bad963988ab589703",
       "version_major": 2,
       "version_minor": 0
      },
      "text/plain": [
       "  0%|          | 0/70 [00:00<?, ?it/s]"
      ]
     },
     "metadata": {},
     "output_type": "display_data"
    },
    {
     "name": "stderr",
     "output_type": "stream",
     "text": [
      "INFO - 2025-10-17T21:38:29Z - Successfully downloaded to glory_data/glory_1994-03-19.nc\n",
      "INFO - 2025-10-17T21:38:32Z - Selected dataset version: \"202311\"\n",
      "INFO - 2025-10-17T21:38:32Z - Selected dataset part: \"default\"\n",
      "INFO - 2025-10-17T21:38:40Z - Starting download. Please wait...\n"
     ]
    },
    {
     "data": {
      "application/vnd.jupyter.widget-view+json": {
       "model_id": "52f0df7c8e934f2f8bcc099cb2e90786",
       "version_major": 2,
       "version_minor": 0
      },
      "text/plain": [
       "  0%|          | 0/70 [00:00<?, ?it/s]"
      ]
     },
     "metadata": {},
     "output_type": "display_data"
    },
    {
     "name": "stderr",
     "output_type": "stream",
     "text": [
      "INFO - 2025-10-17T21:41:30Z - Successfully downloaded to glory_data/glory_1994-03-20.nc\n",
      "INFO - 2025-10-17T21:41:33Z - Selected dataset version: \"202311\"\n",
      "INFO - 2025-10-17T21:41:33Z - Selected dataset part: \"default\"\n",
      "INFO - 2025-10-17T21:41:40Z - Starting download. Please wait...\n"
     ]
    },
    {
     "data": {
      "application/vnd.jupyter.widget-view+json": {
       "model_id": "670247b6446c4203942cb9f071f5bd46",
       "version_major": 2,
       "version_minor": 0
      },
      "text/plain": [
       "  0%|          | 0/70 [00:00<?, ?it/s]"
      ]
     },
     "metadata": {},
     "output_type": "display_data"
    }
   ],
   "source": [
    "output_directory = \"glory_data\"\n",
    "for idt,dt in enumerate(dt_list_cutoff):\n",
    "    year=dt.year\n",
    "    month=dt.month\n",
    "    day=dt.day\n",
    "    output_file_name = f\"glory_{year:04}-{month:02}-{day:02}.nc\"\n",
    "    if os.path.exists(f'{output_directory}/{output_file_name}'):\n",
    "        print(f' {output_file_name} exist!')\n",
    "        continue\n",
    "\n",
    "    try:\n",
    "        copernicusmarine.subset(\n",
    "        dataset_id=dataset_id,\n",
    "        variables=[\"so\", \"thetao\", \"uo\", \"vo\", \"zos\"],\n",
    "        output_directory=output_directory,\n",
    "        output_filename=output_file_name,\n",
    "        minimum_longitude=-100-1,\n",
    "        maximum_longitude=-35+1,\n",
    "        minimum_latitude=0-1,\n",
    "        maximum_latitude=60+1,\n",
    "        start_datetime=f\"{year:04}-{month:02}-{day:02}T00:00:00\",\n",
    "        end_datetime=f\"{year:04}-{month:02}-{day:02}T00:00:00\",\n",
    "        minimum_depth=0.49402499198913574,\n",
    "        maximum_depth=5727.9169921875,\n",
    "        )\n",
    "    except:\n",
    "        print(f'glory has no data on {year}-{month}-{day}')"
   ]
  },
  {
   "cell_type": "code",
   "execution_count": 4,
   "id": "1d53a987",
   "metadata": {},
   "outputs": [
    {
     "data": {
      "text/plain": [
       "'glory_1993-01-01.nc'"
      ]
     },
     "execution_count": 4,
     "metadata": {},
     "output_type": "execute_result"
    }
   ],
   "source": [
    "output_file_name"
   ]
  },
  {
   "cell_type": "code",
   "execution_count": null,
   "id": "7488b87d",
   "metadata": {},
   "outputs": [
    {
     "name": "stderr",
     "output_type": "stream",
     "text": [
      "INFO - 2025-10-16T17:40:05Z - Selected dataset version: \"202311\"\n",
      "INFO - 2025-10-16T17:40:05Z - Selected dataset part: \"default\"\n"
     ]
    },
    {
     "name": "stdout",
     "output_type": "stream",
     "text": [
      "glory has no data on 1992-1-1\n"
     ]
    },
    {
     "name": "stderr",
     "output_type": "stream",
     "text": [
      "INFO - 2025-10-16T17:40:07Z - Selected dataset version: \"202311\"\n",
      "INFO - 2025-10-16T17:40:07Z - Selected dataset part: \"default\"\n"
     ]
    },
    {
     "name": "stdout",
     "output_type": "stream",
     "text": [
      "glory has no data on 1992-1-2\n"
     ]
    },
    {
     "name": "stderr",
     "output_type": "stream",
     "text": [
      "INFO - 2025-10-16T17:40:10Z - Selected dataset version: \"202311\"\n",
      "INFO - 2025-10-16T17:40:10Z - Selected dataset part: \"default\"\n"
     ]
    },
    {
     "name": "stdout",
     "output_type": "stream",
     "text": [
      "glory has no data on 1992-1-3\n"
     ]
    },
    {
     "name": "stderr",
     "output_type": "stream",
     "text": [
      "INFO - 2025-10-16T17:40:13Z - Selected dataset version: \"202311\"\n",
      "INFO - 2025-10-16T17:40:13Z - Selected dataset part: \"default\"\n"
     ]
    },
    {
     "name": "stdout",
     "output_type": "stream",
     "text": [
      "glory has no data on 1992-1-4\n"
     ]
    },
    {
     "name": "stderr",
     "output_type": "stream",
     "text": [
      "INFO - 2025-10-16T17:40:15Z - Selected dataset version: \"202311\"\n",
      "INFO - 2025-10-16T17:40:15Z - Selected dataset part: \"default\"\n"
     ]
    },
    {
     "name": "stdout",
     "output_type": "stream",
     "text": [
      "glory has no data on 1992-1-5\n"
     ]
    },
    {
     "name": "stderr",
     "output_type": "stream",
     "text": [
      "INFO - 2025-10-16T17:40:18Z - Selected dataset version: \"202311\"\n",
      "INFO - 2025-10-16T17:40:18Z - Selected dataset part: \"default\"\n"
     ]
    },
    {
     "name": "stdout",
     "output_type": "stream",
     "text": [
      "glory has no data on 1992-1-6\n"
     ]
    },
    {
     "name": "stderr",
     "output_type": "stream",
     "text": [
      "INFO - 2025-10-16T17:40:22Z - Selected dataset version: \"202311\"\n",
      "INFO - 2025-10-16T17:40:22Z - Selected dataset part: \"default\"\n"
     ]
    },
    {
     "name": "stdout",
     "output_type": "stream",
     "text": [
      "glory has no data on 1992-1-7\n"
     ]
    },
    {
     "name": "stderr",
     "output_type": "stream",
     "text": [
      "INFO - 2025-10-16T17:40:25Z - Selected dataset version: \"202311\"\n",
      "INFO - 2025-10-16T17:40:25Z - Selected dataset part: \"default\"\n"
     ]
    },
    {
     "name": "stdout",
     "output_type": "stream",
     "text": [
      "glory has no data on 1992-1-8\n"
     ]
    },
    {
     "name": "stderr",
     "output_type": "stream",
     "text": [
      "INFO - 2025-10-16T17:40:27Z - Selected dataset version: \"202311\"\n",
      "INFO - 2025-10-16T17:40:27Z - Selected dataset part: \"default\"\n"
     ]
    },
    {
     "name": "stdout",
     "output_type": "stream",
     "text": [
      "glory has no data on 1992-1-9\n"
     ]
    },
    {
     "name": "stderr",
     "output_type": "stream",
     "text": [
      "INFO - 2025-10-16T17:40:30Z - Selected dataset version: \"202311\"\n",
      "INFO - 2025-10-16T17:40:30Z - Selected dataset part: \"default\"\n"
     ]
    },
    {
     "name": "stdout",
     "output_type": "stream",
     "text": [
      "glory has no data on 1992-1-10\n"
     ]
    },
    {
     "name": "stderr",
     "output_type": "stream",
     "text": [
      "INFO - 2025-10-16T17:40:33Z - Selected dataset version: \"202311\"\n",
      "INFO - 2025-10-16T17:40:33Z - Selected dataset part: \"default\"\n"
     ]
    },
    {
     "name": "stdout",
     "output_type": "stream",
     "text": [
      "glory has no data on 1992-1-11\n"
     ]
    },
    {
     "name": "stderr",
     "output_type": "stream",
     "text": [
      "INFO - 2025-10-16T17:40:35Z - Selected dataset version: \"202311\"\n",
      "INFO - 2025-10-16T17:40:35Z - Selected dataset part: \"default\"\n"
     ]
    },
    {
     "name": "stdout",
     "output_type": "stream",
     "text": [
      "glory has no data on 1992-1-12\n"
     ]
    },
    {
     "name": "stderr",
     "output_type": "stream",
     "text": [
      "INFO - 2025-10-16T17:40:38Z - Selected dataset version: \"202311\"\n",
      "INFO - 2025-10-16T17:40:38Z - Selected dataset part: \"default\"\n"
     ]
    },
    {
     "name": "stdout",
     "output_type": "stream",
     "text": [
      "glory has no data on 1992-1-13\n"
     ]
    },
    {
     "name": "stderr",
     "output_type": "stream",
     "text": [
      "INFO - 2025-10-16T17:40:40Z - Selected dataset version: \"202311\"\n",
      "INFO - 2025-10-16T17:40:40Z - Selected dataset part: \"default\"\n"
     ]
    },
    {
     "name": "stdout",
     "output_type": "stream",
     "text": [
      "glory has no data on 1992-1-14\n"
     ]
    },
    {
     "name": "stderr",
     "output_type": "stream",
     "text": [
      "INFO - 2025-10-16T17:40:43Z - Selected dataset version: \"202311\"\n",
      "INFO - 2025-10-16T17:40:43Z - Selected dataset part: \"default\"\n"
     ]
    },
    {
     "name": "stdout",
     "output_type": "stream",
     "text": [
      "glory has no data on 1992-1-15\n"
     ]
    },
    {
     "name": "stderr",
     "output_type": "stream",
     "text": [
      "INFO - 2025-10-16T17:40:46Z - Selected dataset version: \"202311\"\n",
      "INFO - 2025-10-16T17:40:46Z - Selected dataset part: \"default\"\n"
     ]
    },
    {
     "name": "stdout",
     "output_type": "stream",
     "text": [
      "glory has no data on 1992-1-16\n"
     ]
    },
    {
     "name": "stderr",
     "output_type": "stream",
     "text": [
      "INFO - 2025-10-16T17:40:48Z - Selected dataset version: \"202311\"\n",
      "INFO - 2025-10-16T17:40:48Z - Selected dataset part: \"default\"\n"
     ]
    },
    {
     "name": "stdout",
     "output_type": "stream",
     "text": [
      "glory has no data on 1992-1-17\n"
     ]
    },
    {
     "name": "stderr",
     "output_type": "stream",
     "text": [
      "INFO - 2025-10-16T17:40:51Z - Selected dataset version: \"202311\"\n",
      "INFO - 2025-10-16T17:40:51Z - Selected dataset part: \"default\"\n"
     ]
    },
    {
     "name": "stdout",
     "output_type": "stream",
     "text": [
      "glory has no data on 1992-1-18\n"
     ]
    },
    {
     "name": "stderr",
     "output_type": "stream",
     "text": [
      "INFO - 2025-10-16T17:40:53Z - Selected dataset version: \"202311\"\n",
      "INFO - 2025-10-16T17:40:53Z - Selected dataset part: \"default\"\n"
     ]
    },
    {
     "name": "stdout",
     "output_type": "stream",
     "text": [
      "glory has no data on 1992-1-19\n"
     ]
    },
    {
     "name": "stderr",
     "output_type": "stream",
     "text": [
      "INFO - 2025-10-16T17:40:56Z - Selected dataset version: \"202311\"\n",
      "INFO - 2025-10-16T17:40:56Z - Selected dataset part: \"default\"\n"
     ]
    },
    {
     "name": "stdout",
     "output_type": "stream",
     "text": [
      "glory has no data on 1992-1-20\n"
     ]
    },
    {
     "name": "stderr",
     "output_type": "stream",
     "text": [
      "INFO - 2025-10-16T17:40:58Z - Selected dataset version: \"202311\"\n",
      "INFO - 2025-10-16T17:40:58Z - Selected dataset part: \"default\"\n"
     ]
    },
    {
     "name": "stdout",
     "output_type": "stream",
     "text": [
      "glory has no data on 1992-1-21\n"
     ]
    },
    {
     "name": "stderr",
     "output_type": "stream",
     "text": [
      "INFO - 2025-10-16T17:41:01Z - Selected dataset version: \"202311\"\n",
      "INFO - 2025-10-16T17:41:01Z - Selected dataset part: \"default\"\n"
     ]
    },
    {
     "name": "stdout",
     "output_type": "stream",
     "text": [
      "glory has no data on 1992-1-22\n"
     ]
    },
    {
     "name": "stderr",
     "output_type": "stream",
     "text": [
      "INFO - 2025-10-16T17:41:04Z - Selected dataset version: \"202311\"\n",
      "INFO - 2025-10-16T17:41:04Z - Selected dataset part: \"default\"\n"
     ]
    },
    {
     "name": "stdout",
     "output_type": "stream",
     "text": [
      "glory has no data on 1992-1-23\n"
     ]
    },
    {
     "name": "stderr",
     "output_type": "stream",
     "text": [
      "INFO - 2025-10-16T17:41:06Z - Selected dataset version: \"202311\"\n",
      "INFO - 2025-10-16T17:41:06Z - Selected dataset part: \"default\"\n"
     ]
    },
    {
     "name": "stdout",
     "output_type": "stream",
     "text": [
      "glory has no data on 1992-1-24\n"
     ]
    },
    {
     "name": "stderr",
     "output_type": "stream",
     "text": [
      "INFO - 2025-10-16T17:41:09Z - Selected dataset version: \"202311\"\n",
      "INFO - 2025-10-16T17:41:09Z - Selected dataset part: \"default\"\n"
     ]
    },
    {
     "name": "stdout",
     "output_type": "stream",
     "text": [
      "glory has no data on 1992-1-25\n"
     ]
    },
    {
     "name": "stderr",
     "output_type": "stream",
     "text": [
      "INFO - 2025-10-16T17:41:12Z - Selected dataset version: \"202311\"\n",
      "INFO - 2025-10-16T17:41:12Z - Selected dataset part: \"default\"\n"
     ]
    },
    {
     "name": "stdout",
     "output_type": "stream",
     "text": [
      "glory has no data on 1992-1-26\n"
     ]
    },
    {
     "name": "stderr",
     "output_type": "stream",
     "text": [
      "INFO - 2025-10-16T17:41:14Z - Selected dataset version: \"202311\"\n",
      "INFO - 2025-10-16T17:41:14Z - Selected dataset part: \"default\"\n"
     ]
    },
    {
     "name": "stdout",
     "output_type": "stream",
     "text": [
      "glory has no data on 1992-1-27\n"
     ]
    },
    {
     "name": "stderr",
     "output_type": "stream",
     "text": [
      "INFO - 2025-10-16T17:41:17Z - Selected dataset version: \"202311\"\n",
      "INFO - 2025-10-16T17:41:17Z - Selected dataset part: \"default\"\n"
     ]
    },
    {
     "name": "stdout",
     "output_type": "stream",
     "text": [
      "glory has no data on 1992-1-28\n"
     ]
    },
    {
     "name": "stderr",
     "output_type": "stream",
     "text": [
      "INFO - 2025-10-16T17:41:19Z - Selected dataset version: \"202311\"\n",
      "INFO - 2025-10-16T17:41:19Z - Selected dataset part: \"default\"\n"
     ]
    },
    {
     "name": "stdout",
     "output_type": "stream",
     "text": [
      "glory has no data on 1992-1-29\n"
     ]
    },
    {
     "name": "stderr",
     "output_type": "stream",
     "text": [
      "INFO - 2025-10-16T17:41:22Z - Selected dataset version: \"202311\"\n",
      "INFO - 2025-10-16T17:41:22Z - Selected dataset part: \"default\"\n"
     ]
    },
    {
     "name": "stdout",
     "output_type": "stream",
     "text": [
      "glory has no data on 1992-1-30\n"
     ]
    },
    {
     "name": "stderr",
     "output_type": "stream",
     "text": [
      "INFO - 2025-10-16T17:41:24Z - Selected dataset version: \"202311\"\n",
      "INFO - 2025-10-16T17:41:24Z - Selected dataset part: \"default\"\n"
     ]
    },
    {
     "name": "stdout",
     "output_type": "stream",
     "text": [
      "glory has no data on 1992-1-31\n"
     ]
    },
    {
     "name": "stderr",
     "output_type": "stream",
     "text": [
      "INFO - 2025-10-16T17:41:27Z - Selected dataset version: \"202311\"\n",
      "INFO - 2025-10-16T17:41:27Z - Selected dataset part: \"default\"\n"
     ]
    },
    {
     "name": "stdout",
     "output_type": "stream",
     "text": [
      "glory has no data on 1992-2-1\n"
     ]
    },
    {
     "name": "stderr",
     "output_type": "stream",
     "text": [
      "INFO - 2025-10-16T17:41:29Z - Selected dataset version: \"202311\"\n",
      "INFO - 2025-10-16T17:41:29Z - Selected dataset part: \"default\"\n"
     ]
    },
    {
     "name": "stdout",
     "output_type": "stream",
     "text": [
      "glory has no data on 1992-2-2\n"
     ]
    },
    {
     "name": "stderr",
     "output_type": "stream",
     "text": [
      "INFO - 2025-10-16T17:41:32Z - Selected dataset version: \"202311\"\n",
      "INFO - 2025-10-16T17:41:32Z - Selected dataset part: \"default\"\n"
     ]
    },
    {
     "name": "stdout",
     "output_type": "stream",
     "text": [
      "glory has no data on 1992-2-3\n"
     ]
    },
    {
     "name": "stderr",
     "output_type": "stream",
     "text": [
      "INFO - 2025-10-16T17:41:35Z - Selected dataset version: \"202311\"\n",
      "INFO - 2025-10-16T17:41:35Z - Selected dataset part: \"default\"\n"
     ]
    },
    {
     "name": "stdout",
     "output_type": "stream",
     "text": [
      "glory has no data on 1992-2-4\n"
     ]
    },
    {
     "name": "stderr",
     "output_type": "stream",
     "text": [
      "INFO - 2025-10-16T17:41:37Z - Selected dataset version: \"202311\"\n",
      "INFO - 2025-10-16T17:41:37Z - Selected dataset part: \"default\"\n"
     ]
    },
    {
     "name": "stdout",
     "output_type": "stream",
     "text": [
      "glory has no data on 1992-2-5\n"
     ]
    },
    {
     "name": "stderr",
     "output_type": "stream",
     "text": [
      "INFO - 2025-10-16T17:41:40Z - Selected dataset version: \"202311\"\n",
      "INFO - 2025-10-16T17:41:40Z - Selected dataset part: \"default\"\n"
     ]
    },
    {
     "name": "stdout",
     "output_type": "stream",
     "text": [
      "glory has no data on 1992-2-6\n"
     ]
    },
    {
     "name": "stderr",
     "output_type": "stream",
     "text": [
      "INFO - 2025-10-16T17:41:42Z - Selected dataset version: \"202311\"\n",
      "INFO - 2025-10-16T17:41:42Z - Selected dataset part: \"default\"\n"
     ]
    },
    {
     "name": "stdout",
     "output_type": "stream",
     "text": [
      "glory has no data on 1992-2-7\n"
     ]
    },
    {
     "name": "stderr",
     "output_type": "stream",
     "text": [
      "INFO - 2025-10-16T17:41:45Z - Selected dataset version: \"202311\"\n",
      "INFO - 2025-10-16T17:41:45Z - Selected dataset part: \"default\"\n"
     ]
    },
    {
     "name": "stdout",
     "output_type": "stream",
     "text": [
      "glory has no data on 1992-2-8\n"
     ]
    },
    {
     "name": "stderr",
     "output_type": "stream",
     "text": [
      "INFO - 2025-10-16T17:41:47Z - Selected dataset version: \"202311\"\n",
      "INFO - 2025-10-16T17:41:47Z - Selected dataset part: \"default\"\n"
     ]
    },
    {
     "name": "stdout",
     "output_type": "stream",
     "text": [
      "glory has no data on 1992-2-9\n"
     ]
    },
    {
     "name": "stderr",
     "output_type": "stream",
     "text": [
      "INFO - 2025-10-16T17:41:50Z - Selected dataset version: \"202311\"\n",
      "INFO - 2025-10-16T17:41:50Z - Selected dataset part: \"default\"\n"
     ]
    },
    {
     "name": "stdout",
     "output_type": "stream",
     "text": [
      "glory has no data on 1992-2-10\n"
     ]
    },
    {
     "name": "stderr",
     "output_type": "stream",
     "text": [
      "INFO - 2025-10-16T17:41:52Z - Selected dataset version: \"202311\"\n",
      "INFO - 2025-10-16T17:41:52Z - Selected dataset part: \"default\"\n"
     ]
    },
    {
     "name": "stdout",
     "output_type": "stream",
     "text": [
      "glory has no data on 1992-2-11\n"
     ]
    },
    {
     "name": "stderr",
     "output_type": "stream",
     "text": [
      "INFO - 2025-10-16T17:41:55Z - Selected dataset version: \"202311\"\n",
      "INFO - 2025-10-16T17:41:55Z - Selected dataset part: \"default\"\n"
     ]
    },
    {
     "name": "stdout",
     "output_type": "stream",
     "text": [
      "glory has no data on 1992-2-12\n"
     ]
    },
    {
     "name": "stderr",
     "output_type": "stream",
     "text": [
      "INFO - 2025-10-16T17:41:58Z - Selected dataset version: \"202311\"\n",
      "INFO - 2025-10-16T17:41:58Z - Selected dataset part: \"default\"\n"
     ]
    },
    {
     "name": "stdout",
     "output_type": "stream",
     "text": [
      "glory has no data on 1992-2-13\n"
     ]
    },
    {
     "name": "stderr",
     "output_type": "stream",
     "text": [
      "INFO - 2025-10-16T17:42:00Z - Selected dataset version: \"202311\"\n",
      "INFO - 2025-10-16T17:42:00Z - Selected dataset part: \"default\"\n"
     ]
    },
    {
     "name": "stdout",
     "output_type": "stream",
     "text": [
      "glory has no data on 1992-2-14\n"
     ]
    },
    {
     "name": "stderr",
     "output_type": "stream",
     "text": [
      "INFO - 2025-10-16T17:42:03Z - Selected dataset version: \"202311\"\n",
      "INFO - 2025-10-16T17:42:03Z - Selected dataset part: \"default\"\n"
     ]
    },
    {
     "name": "stdout",
     "output_type": "stream",
     "text": [
      "glory has no data on 1992-2-15\n"
     ]
    },
    {
     "name": "stderr",
     "output_type": "stream",
     "text": [
      "INFO - 2025-10-16T17:42:05Z - Selected dataset version: \"202311\"\n",
      "INFO - 2025-10-16T17:42:05Z - Selected dataset part: \"default\"\n"
     ]
    },
    {
     "name": "stdout",
     "output_type": "stream",
     "text": [
      "glory has no data on 1992-2-16\n"
     ]
    },
    {
     "name": "stderr",
     "output_type": "stream",
     "text": [
      "INFO - 2025-10-16T17:42:08Z - Selected dataset version: \"202311\"\n",
      "INFO - 2025-10-16T17:42:08Z - Selected dataset part: \"default\"\n"
     ]
    },
    {
     "name": "stdout",
     "output_type": "stream",
     "text": [
      "glory has no data on 1992-2-17\n"
     ]
    },
    {
     "name": "stderr",
     "output_type": "stream",
     "text": [
      "INFO - 2025-10-16T17:42:11Z - Selected dataset version: \"202311\"\n",
      "INFO - 2025-10-16T17:42:11Z - Selected dataset part: \"default\"\n"
     ]
    },
    {
     "name": "stdout",
     "output_type": "stream",
     "text": [
      "glory has no data on 1992-2-18\n"
     ]
    },
    {
     "name": "stderr",
     "output_type": "stream",
     "text": [
      "INFO - 2025-10-16T17:42:13Z - Selected dataset version: \"202311\"\n",
      "INFO - 2025-10-16T17:42:13Z - Selected dataset part: \"default\"\n"
     ]
    },
    {
     "name": "stdout",
     "output_type": "stream",
     "text": [
      "glory has no data on 1992-2-19\n"
     ]
    },
    {
     "name": "stderr",
     "output_type": "stream",
     "text": [
      "INFO - 2025-10-16T17:42:16Z - Selected dataset version: \"202311\"\n",
      "INFO - 2025-10-16T17:42:16Z - Selected dataset part: \"default\"\n"
     ]
    },
    {
     "name": "stdout",
     "output_type": "stream",
     "text": [
      "glory has no data on 1992-2-20\n"
     ]
    },
    {
     "name": "stderr",
     "output_type": "stream",
     "text": [
      "INFO - 2025-10-16T17:42:18Z - Selected dataset version: \"202311\"\n",
      "INFO - 2025-10-16T17:42:18Z - Selected dataset part: \"default\"\n"
     ]
    },
    {
     "name": "stdout",
     "output_type": "stream",
     "text": [
      "glory has no data on 1992-2-21\n"
     ]
    },
    {
     "name": "stderr",
     "output_type": "stream",
     "text": [
      "INFO - 2025-10-16T17:42:21Z - Selected dataset version: \"202311\"\n",
      "INFO - 2025-10-16T17:42:21Z - Selected dataset part: \"default\"\n"
     ]
    },
    {
     "name": "stdout",
     "output_type": "stream",
     "text": [
      "glory has no data on 1992-2-22\n"
     ]
    },
    {
     "name": "stderr",
     "output_type": "stream",
     "text": [
      "INFO - 2025-10-16T17:42:23Z - Selected dataset version: \"202311\"\n",
      "INFO - 2025-10-16T17:42:23Z - Selected dataset part: \"default\"\n"
     ]
    },
    {
     "name": "stdout",
     "output_type": "stream",
     "text": [
      "glory has no data on 1992-2-23\n"
     ]
    },
    {
     "name": "stderr",
     "output_type": "stream",
     "text": [
      "INFO - 2025-10-16T17:42:26Z - Selected dataset version: \"202311\"\n",
      "INFO - 2025-10-16T17:42:26Z - Selected dataset part: \"default\"\n"
     ]
    },
    {
     "name": "stdout",
     "output_type": "stream",
     "text": [
      "glory has no data on 1992-2-24\n"
     ]
    },
    {
     "name": "stderr",
     "output_type": "stream",
     "text": [
      "INFO - 2025-10-16T17:42:28Z - Selected dataset version: \"202311\"\n",
      "INFO - 2025-10-16T17:42:28Z - Selected dataset part: \"default\"\n"
     ]
    },
    {
     "name": "stdout",
     "output_type": "stream",
     "text": [
      "glory has no data on 1992-2-25\n"
     ]
    },
    {
     "name": "stderr",
     "output_type": "stream",
     "text": [
      "INFO - 2025-10-16T17:42:31Z - Selected dataset version: \"202311\"\n",
      "INFO - 2025-10-16T17:42:31Z - Selected dataset part: \"default\"\n"
     ]
    },
    {
     "name": "stdout",
     "output_type": "stream",
     "text": [
      "glory has no data on 1992-2-26\n"
     ]
    },
    {
     "name": "stderr",
     "output_type": "stream",
     "text": [
      "INFO - 2025-10-16T17:42:33Z - Selected dataset version: \"202311\"\n",
      "INFO - 2025-10-16T17:42:33Z - Selected dataset part: \"default\"\n"
     ]
    },
    {
     "name": "stdout",
     "output_type": "stream",
     "text": [
      "glory has no data on 1992-2-27\n"
     ]
    },
    {
     "name": "stderr",
     "output_type": "stream",
     "text": [
      "INFO - 2025-10-16T17:42:36Z - Selected dataset version: \"202311\"\n",
      "INFO - 2025-10-16T17:42:36Z - Selected dataset part: \"default\"\n"
     ]
    },
    {
     "name": "stdout",
     "output_type": "stream",
     "text": [
      "glory has no data on 1992-2-28\n"
     ]
    },
    {
     "name": "stderr",
     "output_type": "stream",
     "text": [
      "INFO - 2025-10-16T17:42:39Z - Selected dataset version: \"202311\"\n",
      "INFO - 2025-10-16T17:42:39Z - Selected dataset part: \"default\"\n"
     ]
    },
    {
     "name": "stdout",
     "output_type": "stream",
     "text": [
      "glory has no data on 1992-2-29\n"
     ]
    },
    {
     "name": "stderr",
     "output_type": "stream",
     "text": [
      "INFO - 2025-10-16T17:42:41Z - Selected dataset version: \"202311\"\n",
      "INFO - 2025-10-16T17:42:41Z - Selected dataset part: \"default\"\n"
     ]
    },
    {
     "name": "stdout",
     "output_type": "stream",
     "text": [
      "glory has no data on 1992-3-1\n"
     ]
    },
    {
     "name": "stderr",
     "output_type": "stream",
     "text": [
      "INFO - 2025-10-16T17:42:44Z - Selected dataset version: \"202311\"\n",
      "INFO - 2025-10-16T17:42:44Z - Selected dataset part: \"default\"\n"
     ]
    },
    {
     "name": "stdout",
     "output_type": "stream",
     "text": [
      "glory has no data on 1992-3-2\n"
     ]
    },
    {
     "name": "stderr",
     "output_type": "stream",
     "text": [
      "INFO - 2025-10-16T17:42:46Z - Selected dataset version: \"202311\"\n",
      "INFO - 2025-10-16T17:42:46Z - Selected dataset part: \"default\"\n"
     ]
    },
    {
     "name": "stdout",
     "output_type": "stream",
     "text": [
      "glory has no data on 1992-3-3\n"
     ]
    },
    {
     "name": "stderr",
     "output_type": "stream",
     "text": [
      "INFO - 2025-10-16T17:42:49Z - Selected dataset version: \"202311\"\n",
      "INFO - 2025-10-16T17:42:49Z - Selected dataset part: \"default\"\n"
     ]
    },
    {
     "name": "stdout",
     "output_type": "stream",
     "text": [
      "glory has no data on 1992-3-4\n"
     ]
    },
    {
     "name": "stderr",
     "output_type": "stream",
     "text": [
      "INFO - 2025-10-16T17:42:52Z - Selected dataset version: \"202311\"\n",
      "INFO - 2025-10-16T17:42:52Z - Selected dataset part: \"default\"\n"
     ]
    },
    {
     "name": "stdout",
     "output_type": "stream",
     "text": [
      "glory has no data on 1992-3-5\n"
     ]
    },
    {
     "name": "stderr",
     "output_type": "stream",
     "text": [
      "INFO - 2025-10-16T17:42:54Z - Selected dataset version: \"202311\"\n",
      "INFO - 2025-10-16T17:42:54Z - Selected dataset part: \"default\"\n"
     ]
    },
    {
     "name": "stdout",
     "output_type": "stream",
     "text": [
      "glory has no data on 1992-3-6\n"
     ]
    },
    {
     "name": "stderr",
     "output_type": "stream",
     "text": [
      "INFO - 2025-10-16T17:42:57Z - Selected dataset version: \"202311\"\n",
      "INFO - 2025-10-16T17:42:57Z - Selected dataset part: \"default\"\n"
     ]
    },
    {
     "name": "stdout",
     "output_type": "stream",
     "text": [
      "glory has no data on 1992-3-7\n"
     ]
    },
    {
     "name": "stderr",
     "output_type": "stream",
     "text": [
      "INFO - 2025-10-16T17:42:59Z - Selected dataset version: \"202311\"\n",
      "INFO - 2025-10-16T17:42:59Z - Selected dataset part: \"default\"\n"
     ]
    },
    {
     "name": "stdout",
     "output_type": "stream",
     "text": [
      "glory has no data on 1992-3-8\n"
     ]
    },
    {
     "name": "stderr",
     "output_type": "stream",
     "text": [
      "INFO - 2025-10-16T17:43:02Z - Selected dataset version: \"202311\"\n",
      "INFO - 2025-10-16T17:43:02Z - Selected dataset part: \"default\"\n"
     ]
    },
    {
     "name": "stdout",
     "output_type": "stream",
     "text": [
      "glory has no data on 1992-3-9\n"
     ]
    },
    {
     "name": "stderr",
     "output_type": "stream",
     "text": [
      "INFO - 2025-10-16T17:43:04Z - Selected dataset version: \"202311\"\n",
      "INFO - 2025-10-16T17:43:04Z - Selected dataset part: \"default\"\n"
     ]
    },
    {
     "name": "stdout",
     "output_type": "stream",
     "text": [
      "glory has no data on 1992-3-10\n"
     ]
    },
    {
     "name": "stderr",
     "output_type": "stream",
     "text": [
      "INFO - 2025-10-16T17:43:07Z - Selected dataset version: \"202311\"\n",
      "INFO - 2025-10-16T17:43:07Z - Selected dataset part: \"default\"\n"
     ]
    },
    {
     "name": "stdout",
     "output_type": "stream",
     "text": [
      "glory has no data on 1992-3-11\n"
     ]
    },
    {
     "name": "stderr",
     "output_type": "stream",
     "text": [
      "INFO - 2025-10-16T17:43:09Z - Selected dataset version: \"202311\"\n",
      "INFO - 2025-10-16T17:43:09Z - Selected dataset part: \"default\"\n"
     ]
    },
    {
     "name": "stdout",
     "output_type": "stream",
     "text": [
      "glory has no data on 1992-3-12\n"
     ]
    },
    {
     "name": "stderr",
     "output_type": "stream",
     "text": [
      "INFO - 2025-10-16T17:43:12Z - Selected dataset version: \"202311\"\n",
      "INFO - 2025-10-16T17:43:12Z - Selected dataset part: \"default\"\n"
     ]
    },
    {
     "name": "stdout",
     "output_type": "stream",
     "text": [
      "glory has no data on 1992-3-13\n"
     ]
    },
    {
     "name": "stderr",
     "output_type": "stream",
     "text": [
      "INFO - 2025-10-16T17:43:15Z - Selected dataset version: \"202311\"\n",
      "INFO - 2025-10-16T17:43:15Z - Selected dataset part: \"default\"\n"
     ]
    },
    {
     "name": "stdout",
     "output_type": "stream",
     "text": [
      "glory has no data on 1992-3-14\n"
     ]
    },
    {
     "name": "stderr",
     "output_type": "stream",
     "text": [
      "INFO - 2025-10-16T17:43:17Z - Selected dataset version: \"202311\"\n",
      "INFO - 2025-10-16T17:43:17Z - Selected dataset part: \"default\"\n"
     ]
    },
    {
     "name": "stdout",
     "output_type": "stream",
     "text": [
      "glory has no data on 1992-3-15\n"
     ]
    },
    {
     "name": "stderr",
     "output_type": "stream",
     "text": [
      "INFO - 2025-10-16T17:43:20Z - Selected dataset version: \"202311\"\n",
      "INFO - 2025-10-16T17:43:20Z - Selected dataset part: \"default\"\n"
     ]
    },
    {
     "name": "stdout",
     "output_type": "stream",
     "text": [
      "glory has no data on 1992-3-16\n"
     ]
    },
    {
     "name": "stderr",
     "output_type": "stream",
     "text": [
      "INFO - 2025-10-16T17:43:22Z - Selected dataset version: \"202311\"\n",
      "INFO - 2025-10-16T17:43:22Z - Selected dataset part: \"default\"\n"
     ]
    },
    {
     "name": "stdout",
     "output_type": "stream",
     "text": [
      "glory has no data on 1992-3-17\n"
     ]
    },
    {
     "name": "stderr",
     "output_type": "stream",
     "text": [
      "INFO - 2025-10-16T17:43:25Z - Selected dataset version: \"202311\"\n",
      "INFO - 2025-10-16T17:43:25Z - Selected dataset part: \"default\"\n"
     ]
    },
    {
     "name": "stdout",
     "output_type": "stream",
     "text": [
      "glory has no data on 1992-3-18\n"
     ]
    },
    {
     "name": "stderr",
     "output_type": "stream",
     "text": [
      "INFO - 2025-10-16T17:43:27Z - Selected dataset version: \"202311\"\n",
      "INFO - 2025-10-16T17:43:27Z - Selected dataset part: \"default\"\n"
     ]
    },
    {
     "name": "stdout",
     "output_type": "stream",
     "text": [
      "glory has no data on 1992-3-19\n"
     ]
    },
    {
     "name": "stderr",
     "output_type": "stream",
     "text": [
      "INFO - 2025-10-16T17:43:30Z - Selected dataset version: \"202311\"\n",
      "INFO - 2025-10-16T17:43:30Z - Selected dataset part: \"default\"\n"
     ]
    },
    {
     "name": "stdout",
     "output_type": "stream",
     "text": [
      "glory has no data on 1992-3-20\n"
     ]
    },
    {
     "name": "stderr",
     "output_type": "stream",
     "text": [
      "INFO - 2025-10-16T17:43:32Z - Selected dataset version: \"202311\"\n",
      "INFO - 2025-10-16T17:43:32Z - Selected dataset part: \"default\"\n"
     ]
    },
    {
     "name": "stdout",
     "output_type": "stream",
     "text": [
      "glory has no data on 1992-3-21\n"
     ]
    },
    {
     "name": "stderr",
     "output_type": "stream",
     "text": [
      "INFO - 2025-10-16T17:43:35Z - Selected dataset version: \"202311\"\n",
      "INFO - 2025-10-16T17:43:35Z - Selected dataset part: \"default\"\n"
     ]
    },
    {
     "name": "stdout",
     "output_type": "stream",
     "text": [
      "glory has no data on 1992-3-22\n"
     ]
    },
    {
     "name": "stderr",
     "output_type": "stream",
     "text": [
      "INFO - 2025-10-16T17:43:37Z - Selected dataset version: \"202311\"\n",
      "INFO - 2025-10-16T17:43:37Z - Selected dataset part: \"default\"\n"
     ]
    },
    {
     "name": "stdout",
     "output_type": "stream",
     "text": [
      "glory has no data on 1992-3-23\n"
     ]
    },
    {
     "name": "stderr",
     "output_type": "stream",
     "text": [
      "INFO - 2025-10-16T17:43:40Z - Selected dataset version: \"202311\"\n",
      "INFO - 2025-10-16T17:43:40Z - Selected dataset part: \"default\"\n"
     ]
    },
    {
     "name": "stdout",
     "output_type": "stream",
     "text": [
      "glory has no data on 1992-3-24\n"
     ]
    },
    {
     "name": "stderr",
     "output_type": "stream",
     "text": [
      "INFO - 2025-10-16T17:43:43Z - Selected dataset version: \"202311\"\n",
      "INFO - 2025-10-16T17:43:43Z - Selected dataset part: \"default\"\n"
     ]
    },
    {
     "name": "stdout",
     "output_type": "stream",
     "text": [
      "glory has no data on 1992-3-25\n"
     ]
    },
    {
     "name": "stderr",
     "output_type": "stream",
     "text": [
      "INFO - 2025-10-16T17:43:45Z - Selected dataset version: \"202311\"\n",
      "INFO - 2025-10-16T17:43:45Z - Selected dataset part: \"default\"\n"
     ]
    },
    {
     "name": "stdout",
     "output_type": "stream",
     "text": [
      "glory has no data on 1992-3-26\n"
     ]
    },
    {
     "name": "stderr",
     "output_type": "stream",
     "text": [
      "INFO - 2025-10-16T17:43:48Z - Selected dataset version: \"202311\"\n",
      "INFO - 2025-10-16T17:43:48Z - Selected dataset part: \"default\"\n"
     ]
    },
    {
     "name": "stdout",
     "output_type": "stream",
     "text": [
      "glory has no data on 1992-3-27\n"
     ]
    },
    {
     "name": "stderr",
     "output_type": "stream",
     "text": [
      "INFO - 2025-10-16T17:43:50Z - Selected dataset version: \"202311\"\n",
      "INFO - 2025-10-16T17:43:50Z - Selected dataset part: \"default\"\n"
     ]
    },
    {
     "name": "stdout",
     "output_type": "stream",
     "text": [
      "glory has no data on 1992-3-28\n"
     ]
    },
    {
     "name": "stderr",
     "output_type": "stream",
     "text": [
      "INFO - 2025-10-16T17:43:53Z - Selected dataset version: \"202311\"\n",
      "INFO - 2025-10-16T17:43:53Z - Selected dataset part: \"default\"\n"
     ]
    },
    {
     "name": "stdout",
     "output_type": "stream",
     "text": [
      "glory has no data on 1992-3-29\n"
     ]
    },
    {
     "name": "stderr",
     "output_type": "stream",
     "text": [
      "INFO - 2025-10-16T17:43:56Z - Selected dataset version: \"202311\"\n",
      "INFO - 2025-10-16T17:43:56Z - Selected dataset part: \"default\"\n"
     ]
    },
    {
     "name": "stdout",
     "output_type": "stream",
     "text": [
      "glory has no data on 1992-3-30\n"
     ]
    },
    {
     "name": "stderr",
     "output_type": "stream",
     "text": [
      "INFO - 2025-10-16T17:43:58Z - Selected dataset version: \"202311\"\n",
      "INFO - 2025-10-16T17:43:58Z - Selected dataset part: \"default\"\n"
     ]
    },
    {
     "name": "stdout",
     "output_type": "stream",
     "text": [
      "glory has no data on 1992-3-31\n"
     ]
    },
    {
     "name": "stderr",
     "output_type": "stream",
     "text": [
      "INFO - 2025-10-16T17:44:01Z - Selected dataset version: \"202311\"\n",
      "INFO - 2025-10-16T17:44:01Z - Selected dataset part: \"default\"\n"
     ]
    },
    {
     "name": "stdout",
     "output_type": "stream",
     "text": [
      "glory has no data on 1992-4-1\n"
     ]
    },
    {
     "name": "stderr",
     "output_type": "stream",
     "text": [
      "INFO - 2025-10-16T17:44:03Z - Selected dataset version: \"202311\"\n",
      "INFO - 2025-10-16T17:44:03Z - Selected dataset part: \"default\"\n"
     ]
    },
    {
     "name": "stdout",
     "output_type": "stream",
     "text": [
      "glory has no data on 1992-4-2\n"
     ]
    },
    {
     "name": "stderr",
     "output_type": "stream",
     "text": [
      "INFO - 2025-10-16T17:44:06Z - Selected dataset version: \"202311\"\n",
      "INFO - 2025-10-16T17:44:06Z - Selected dataset part: \"default\"\n"
     ]
    },
    {
     "name": "stdout",
     "output_type": "stream",
     "text": [
      "glory has no data on 1992-4-3\n"
     ]
    },
    {
     "name": "stderr",
     "output_type": "stream",
     "text": [
      "INFO - 2025-10-16T17:44:08Z - Selected dataset version: \"202311\"\n",
      "INFO - 2025-10-16T17:44:08Z - Selected dataset part: \"default\"\n"
     ]
    },
    {
     "name": "stdout",
     "output_type": "stream",
     "text": [
      "glory has no data on 1992-4-4\n"
     ]
    },
    {
     "name": "stderr",
     "output_type": "stream",
     "text": [
      "INFO - 2025-10-16T17:44:11Z - Selected dataset version: \"202311\"\n",
      "INFO - 2025-10-16T17:44:11Z - Selected dataset part: \"default\"\n"
     ]
    },
    {
     "name": "stdout",
     "output_type": "stream",
     "text": [
      "glory has no data on 1992-4-5\n"
     ]
    },
    {
     "name": "stderr",
     "output_type": "stream",
     "text": [
      "INFO - 2025-10-16T17:44:14Z - Selected dataset version: \"202311\"\n",
      "INFO - 2025-10-16T17:44:14Z - Selected dataset part: \"default\"\n"
     ]
    },
    {
     "name": "stdout",
     "output_type": "stream",
     "text": [
      "glory has no data on 1992-4-6\n"
     ]
    },
    {
     "name": "stderr",
     "output_type": "stream",
     "text": [
      "INFO - 2025-10-16T17:44:16Z - Selected dataset version: \"202311\"\n",
      "INFO - 2025-10-16T17:44:16Z - Selected dataset part: \"default\"\n"
     ]
    },
    {
     "name": "stdout",
     "output_type": "stream",
     "text": [
      "glory has no data on 1992-4-7\n"
     ]
    },
    {
     "name": "stderr",
     "output_type": "stream",
     "text": [
      "INFO - 2025-10-16T17:44:19Z - Selected dataset version: \"202311\"\n",
      "INFO - 2025-10-16T17:44:19Z - Selected dataset part: \"default\"\n"
     ]
    },
    {
     "name": "stdout",
     "output_type": "stream",
     "text": [
      "glory has no data on 1992-4-8\n"
     ]
    },
    {
     "name": "stderr",
     "output_type": "stream",
     "text": [
      "INFO - 2025-10-16T17:44:21Z - Selected dataset version: \"202311\"\n",
      "INFO - 2025-10-16T17:44:21Z - Selected dataset part: \"default\"\n"
     ]
    },
    {
     "name": "stdout",
     "output_type": "stream",
     "text": [
      "glory has no data on 1992-4-9\n"
     ]
    },
    {
     "name": "stderr",
     "output_type": "stream",
     "text": [
      "INFO - 2025-10-16T17:44:24Z - Selected dataset version: \"202311\"\n",
      "INFO - 2025-10-16T17:44:24Z - Selected dataset part: \"default\"\n"
     ]
    },
    {
     "name": "stdout",
     "output_type": "stream",
     "text": [
      "glory has no data on 1992-4-10\n"
     ]
    },
    {
     "name": "stderr",
     "output_type": "stream",
     "text": [
      "INFO - 2025-10-16T17:44:26Z - Selected dataset version: \"202311\"\n",
      "INFO - 2025-10-16T17:44:26Z - Selected dataset part: \"default\"\n"
     ]
    },
    {
     "name": "stdout",
     "output_type": "stream",
     "text": [
      "glory has no data on 1992-4-11\n"
     ]
    },
    {
     "name": "stderr",
     "output_type": "stream",
     "text": [
      "INFO - 2025-10-16T17:44:29Z - Selected dataset version: \"202311\"\n",
      "INFO - 2025-10-16T17:44:29Z - Selected dataset part: \"default\"\n"
     ]
    },
    {
     "name": "stdout",
     "output_type": "stream",
     "text": [
      "glory has no data on 1992-4-12\n"
     ]
    },
    {
     "name": "stderr",
     "output_type": "stream",
     "text": [
      "INFO - 2025-10-16T17:44:31Z - Selected dataset version: \"202311\"\n",
      "INFO - 2025-10-16T17:44:31Z - Selected dataset part: \"default\"\n"
     ]
    },
    {
     "name": "stdout",
     "output_type": "stream",
     "text": [
      "glory has no data on 1992-4-13\n"
     ]
    },
    {
     "name": "stderr",
     "output_type": "stream",
     "text": [
      "INFO - 2025-10-16T17:44:34Z - Selected dataset version: \"202311\"\n",
      "INFO - 2025-10-16T17:44:34Z - Selected dataset part: \"default\"\n"
     ]
    },
    {
     "name": "stdout",
     "output_type": "stream",
     "text": [
      "glory has no data on 1992-4-14\n"
     ]
    },
    {
     "name": "stderr",
     "output_type": "stream",
     "text": [
      "INFO - 2025-10-16T17:44:37Z - Selected dataset version: \"202311\"\n",
      "INFO - 2025-10-16T17:44:37Z - Selected dataset part: \"default\"\n"
     ]
    },
    {
     "name": "stdout",
     "output_type": "stream",
     "text": [
      "glory has no data on 1992-4-15\n"
     ]
    },
    {
     "name": "stderr",
     "output_type": "stream",
     "text": [
      "INFO - 2025-10-16T17:44:39Z - Selected dataset version: \"202311\"\n",
      "INFO - 2025-10-16T17:44:39Z - Selected dataset part: \"default\"\n"
     ]
    },
    {
     "name": "stdout",
     "output_type": "stream",
     "text": [
      "glory has no data on 1992-4-16\n"
     ]
    },
    {
     "name": "stderr",
     "output_type": "stream",
     "text": [
      "INFO - 2025-10-16T17:44:42Z - Selected dataset version: \"202311\"\n",
      "INFO - 2025-10-16T17:44:42Z - Selected dataset part: \"default\"\n"
     ]
    },
    {
     "name": "stdout",
     "output_type": "stream",
     "text": [
      "glory has no data on 1992-4-17\n"
     ]
    },
    {
     "name": "stderr",
     "output_type": "stream",
     "text": [
      "INFO - 2025-10-16T17:44:44Z - Selected dataset version: \"202311\"\n",
      "INFO - 2025-10-16T17:44:44Z - Selected dataset part: \"default\"\n"
     ]
    },
    {
     "name": "stdout",
     "output_type": "stream",
     "text": [
      "glory has no data on 1992-4-18\n"
     ]
    },
    {
     "name": "stderr",
     "output_type": "stream",
     "text": [
      "INFO - 2025-10-16T17:44:47Z - Selected dataset version: \"202311\"\n",
      "INFO - 2025-10-16T17:44:47Z - Selected dataset part: \"default\"\n"
     ]
    },
    {
     "name": "stdout",
     "output_type": "stream",
     "text": [
      "glory has no data on 1992-4-19\n"
     ]
    },
    {
     "name": "stderr",
     "output_type": "stream",
     "text": [
      "INFO - 2025-10-16T17:44:50Z - Selected dataset version: \"202311\"\n",
      "INFO - 2025-10-16T17:44:50Z - Selected dataset part: \"default\"\n"
     ]
    },
    {
     "name": "stdout",
     "output_type": "stream",
     "text": [
      "glory has no data on 1992-4-20\n"
     ]
    },
    {
     "name": "stderr",
     "output_type": "stream",
     "text": [
      "INFO - 2025-10-16T17:44:52Z - Selected dataset version: \"202311\"\n",
      "INFO - 2025-10-16T17:44:52Z - Selected dataset part: \"default\"\n"
     ]
    },
    {
     "name": "stdout",
     "output_type": "stream",
     "text": [
      "glory has no data on 1992-4-21\n"
     ]
    },
    {
     "name": "stderr",
     "output_type": "stream",
     "text": [
      "INFO - 2025-10-16T17:44:55Z - Selected dataset version: \"202311\"\n",
      "INFO - 2025-10-16T17:44:55Z - Selected dataset part: \"default\"\n"
     ]
    },
    {
     "name": "stdout",
     "output_type": "stream",
     "text": [
      "glory has no data on 1992-4-22\n"
     ]
    },
    {
     "name": "stderr",
     "output_type": "stream",
     "text": [
      "INFO - 2025-10-16T17:44:58Z - Selected dataset version: \"202311\"\n",
      "INFO - 2025-10-16T17:44:58Z - Selected dataset part: \"default\"\n"
     ]
    },
    {
     "name": "stdout",
     "output_type": "stream",
     "text": [
      "glory has no data on 1992-4-23\n"
     ]
    },
    {
     "name": "stderr",
     "output_type": "stream",
     "text": [
      "INFO - 2025-10-16T17:45:01Z - Selected dataset version: \"202311\"\n",
      "INFO - 2025-10-16T17:45:01Z - Selected dataset part: \"default\"\n"
     ]
    },
    {
     "name": "stdout",
     "output_type": "stream",
     "text": [
      "glory has no data on 1992-4-24\n"
     ]
    },
    {
     "name": "stderr",
     "output_type": "stream",
     "text": [
      "INFO - 2025-10-16T17:45:03Z - Selected dataset version: \"202311\"\n",
      "INFO - 2025-10-16T17:45:03Z - Selected dataset part: \"default\"\n"
     ]
    },
    {
     "name": "stdout",
     "output_type": "stream",
     "text": [
      "glory has no data on 1992-4-25\n"
     ]
    },
    {
     "name": "stderr",
     "output_type": "stream",
     "text": [
      "INFO - 2025-10-16T17:45:06Z - Selected dataset version: \"202311\"\n",
      "INFO - 2025-10-16T17:45:06Z - Selected dataset part: \"default\"\n"
     ]
    },
    {
     "name": "stdout",
     "output_type": "stream",
     "text": [
      "glory has no data on 1992-4-26\n"
     ]
    },
    {
     "name": "stderr",
     "output_type": "stream",
     "text": [
      "INFO - 2025-10-16T17:45:08Z - Selected dataset version: \"202311\"\n",
      "INFO - 2025-10-16T17:45:08Z - Selected dataset part: \"default\"\n"
     ]
    },
    {
     "name": "stdout",
     "output_type": "stream",
     "text": [
      "glory has no data on 1992-4-27\n"
     ]
    },
    {
     "name": "stderr",
     "output_type": "stream",
     "text": [
      "INFO - 2025-10-16T17:45:11Z - Selected dataset version: \"202311\"\n",
      "INFO - 2025-10-16T17:45:11Z - Selected dataset part: \"default\"\n"
     ]
    },
    {
     "name": "stdout",
     "output_type": "stream",
     "text": [
      "glory has no data on 1992-4-28\n"
     ]
    },
    {
     "name": "stderr",
     "output_type": "stream",
     "text": [
      "INFO - 2025-10-16T17:45:13Z - Selected dataset version: \"202311\"\n",
      "INFO - 2025-10-16T17:45:13Z - Selected dataset part: \"default\"\n"
     ]
    },
    {
     "name": "stdout",
     "output_type": "stream",
     "text": [
      "glory has no data on 1992-4-29\n"
     ]
    },
    {
     "name": "stderr",
     "output_type": "stream",
     "text": [
      "INFO - 2025-10-16T17:45:16Z - Selected dataset version: \"202311\"\n",
      "INFO - 2025-10-16T17:45:16Z - Selected dataset part: \"default\"\n"
     ]
    },
    {
     "name": "stdout",
     "output_type": "stream",
     "text": [
      "glory has no data on 1992-4-30\n"
     ]
    },
    {
     "name": "stderr",
     "output_type": "stream",
     "text": [
      "INFO - 2025-10-16T17:45:18Z - Selected dataset version: \"202311\"\n",
      "INFO - 2025-10-16T17:45:18Z - Selected dataset part: \"default\"\n"
     ]
    },
    {
     "name": "stdout",
     "output_type": "stream",
     "text": [
      "glory has no data on 1992-5-1\n"
     ]
    },
    {
     "name": "stderr",
     "output_type": "stream",
     "text": [
      "INFO - 2025-10-16T17:45:21Z - Selected dataset version: \"202311\"\n",
      "INFO - 2025-10-16T17:45:21Z - Selected dataset part: \"default\"\n"
     ]
    },
    {
     "name": "stdout",
     "output_type": "stream",
     "text": [
      "glory has no data on 1992-5-2\n"
     ]
    },
    {
     "name": "stderr",
     "output_type": "stream",
     "text": [
      "INFO - 2025-10-16T17:45:24Z - Selected dataset version: \"202311\"\n",
      "INFO - 2025-10-16T17:45:24Z - Selected dataset part: \"default\"\n"
     ]
    },
    {
     "name": "stdout",
     "output_type": "stream",
     "text": [
      "glory has no data on 1992-5-3\n"
     ]
    },
    {
     "name": "stderr",
     "output_type": "stream",
     "text": [
      "INFO - 2025-10-16T17:45:27Z - Selected dataset version: \"202311\"\n",
      "INFO - 2025-10-16T17:45:27Z - Selected dataset part: \"default\"\n"
     ]
    },
    {
     "name": "stdout",
     "output_type": "stream",
     "text": [
      "glory has no data on 1992-5-4\n"
     ]
    },
    {
     "name": "stderr",
     "output_type": "stream",
     "text": [
      "INFO - 2025-10-16T17:45:29Z - Selected dataset version: \"202311\"\n",
      "INFO - 2025-10-16T17:45:29Z - Selected dataset part: \"default\"\n"
     ]
    },
    {
     "name": "stdout",
     "output_type": "stream",
     "text": [
      "glory has no data on 1992-5-5\n"
     ]
    },
    {
     "name": "stderr",
     "output_type": "stream",
     "text": [
      "INFO - 2025-10-16T17:45:32Z - Selected dataset version: \"202311\"\n",
      "INFO - 2025-10-16T17:45:32Z - Selected dataset part: \"default\"\n"
     ]
    },
    {
     "name": "stdout",
     "output_type": "stream",
     "text": [
      "glory has no data on 1992-5-6\n"
     ]
    },
    {
     "name": "stderr",
     "output_type": "stream",
     "text": [
      "INFO - 2025-10-16T17:45:34Z - Selected dataset version: \"202311\"\n",
      "INFO - 2025-10-16T17:45:34Z - Selected dataset part: \"default\"\n"
     ]
    },
    {
     "name": "stdout",
     "output_type": "stream",
     "text": [
      "glory has no data on 1992-5-7\n"
     ]
    },
    {
     "name": "stderr",
     "output_type": "stream",
     "text": [
      "INFO - 2025-10-16T17:45:37Z - Selected dataset version: \"202311\"\n",
      "INFO - 2025-10-16T17:45:37Z - Selected dataset part: \"default\"\n"
     ]
    },
    {
     "name": "stdout",
     "output_type": "stream",
     "text": [
      "glory has no data on 1992-5-8\n"
     ]
    },
    {
     "name": "stderr",
     "output_type": "stream",
     "text": [
      "INFO - 2025-10-16T17:45:39Z - Selected dataset version: \"202311\"\n",
      "INFO - 2025-10-16T17:45:39Z - Selected dataset part: \"default\"\n"
     ]
    },
    {
     "name": "stdout",
     "output_type": "stream",
     "text": [
      "glory has no data on 1992-5-9\n"
     ]
    },
    {
     "name": "stderr",
     "output_type": "stream",
     "text": [
      "INFO - 2025-10-16T17:45:42Z - Selected dataset version: \"202311\"\n",
      "INFO - 2025-10-16T17:45:42Z - Selected dataset part: \"default\"\n"
     ]
    },
    {
     "name": "stdout",
     "output_type": "stream",
     "text": [
      "glory has no data on 1992-5-10\n"
     ]
    },
    {
     "name": "stderr",
     "output_type": "stream",
     "text": [
      "INFO - 2025-10-16T17:45:44Z - Selected dataset version: \"202311\"\n",
      "INFO - 2025-10-16T17:45:44Z - Selected dataset part: \"default\"\n"
     ]
    },
    {
     "name": "stdout",
     "output_type": "stream",
     "text": [
      "glory has no data on 1992-5-11\n"
     ]
    },
    {
     "name": "stderr",
     "output_type": "stream",
     "text": [
      "INFO - 2025-10-16T17:45:47Z - Selected dataset version: \"202311\"\n",
      "INFO - 2025-10-16T17:45:47Z - Selected dataset part: \"default\"\n"
     ]
    },
    {
     "name": "stdout",
     "output_type": "stream",
     "text": [
      "glory has no data on 1992-5-12\n"
     ]
    },
    {
     "name": "stderr",
     "output_type": "stream",
     "text": [
      "INFO - 2025-10-16T17:45:50Z - Selected dataset version: \"202311\"\n",
      "INFO - 2025-10-16T17:45:50Z - Selected dataset part: \"default\"\n"
     ]
    },
    {
     "name": "stdout",
     "output_type": "stream",
     "text": [
      "glory has no data on 1992-5-13\n"
     ]
    },
    {
     "name": "stderr",
     "output_type": "stream",
     "text": [
      "INFO - 2025-10-16T17:45:52Z - Selected dataset version: \"202311\"\n",
      "INFO - 2025-10-16T17:45:52Z - Selected dataset part: \"default\"\n"
     ]
    },
    {
     "name": "stdout",
     "output_type": "stream",
     "text": [
      "glory has no data on 1992-5-14\n"
     ]
    },
    {
     "name": "stderr",
     "output_type": "stream",
     "text": [
      "INFO - 2025-10-16T17:45:55Z - Selected dataset version: \"202311\"\n",
      "INFO - 2025-10-16T17:45:55Z - Selected dataset part: \"default\"\n"
     ]
    },
    {
     "name": "stdout",
     "output_type": "stream",
     "text": [
      "glory has no data on 1992-5-15\n"
     ]
    },
    {
     "name": "stderr",
     "output_type": "stream",
     "text": [
      "INFO - 2025-10-16T17:45:57Z - Selected dataset version: \"202311\"\n",
      "INFO - 2025-10-16T17:45:57Z - Selected dataset part: \"default\"\n"
     ]
    },
    {
     "name": "stdout",
     "output_type": "stream",
     "text": [
      "glory has no data on 1992-5-16\n"
     ]
    },
    {
     "name": "stderr",
     "output_type": "stream",
     "text": [
      "INFO - 2025-10-16T17:46:00Z - Selected dataset version: \"202311\"\n",
      "INFO - 2025-10-16T17:46:00Z - Selected dataset part: \"default\"\n"
     ]
    },
    {
     "name": "stdout",
     "output_type": "stream",
     "text": [
      "glory has no data on 1992-5-17\n"
     ]
    },
    {
     "name": "stderr",
     "output_type": "stream",
     "text": [
      "INFO - 2025-10-16T17:46:03Z - Selected dataset version: \"202311\"\n",
      "INFO - 2025-10-16T17:46:03Z - Selected dataset part: \"default\"\n"
     ]
    },
    {
     "name": "stdout",
     "output_type": "stream",
     "text": [
      "glory has no data on 1992-5-18\n"
     ]
    },
    {
     "name": "stderr",
     "output_type": "stream",
     "text": [
      "INFO - 2025-10-16T17:46:05Z - Selected dataset version: \"202311\"\n",
      "INFO - 2025-10-16T17:46:05Z - Selected dataset part: \"default\"\n"
     ]
    },
    {
     "name": "stdout",
     "output_type": "stream",
     "text": [
      "glory has no data on 1992-5-19\n"
     ]
    },
    {
     "name": "stderr",
     "output_type": "stream",
     "text": [
      "INFO - 2025-10-16T17:46:08Z - Selected dataset version: \"202311\"\n",
      "INFO - 2025-10-16T17:46:08Z - Selected dataset part: \"default\"\n"
     ]
    },
    {
     "name": "stdout",
     "output_type": "stream",
     "text": [
      "glory has no data on 1992-5-20\n"
     ]
    },
    {
     "name": "stderr",
     "output_type": "stream",
     "text": [
      "INFO - 2025-10-16T17:46:10Z - Selected dataset version: \"202311\"\n",
      "INFO - 2025-10-16T17:46:10Z - Selected dataset part: \"default\"\n"
     ]
    },
    {
     "name": "stdout",
     "output_type": "stream",
     "text": [
      "glory has no data on 1992-5-21\n"
     ]
    },
    {
     "name": "stderr",
     "output_type": "stream",
     "text": [
      "INFO - 2025-10-16T17:46:13Z - Selected dataset version: \"202311\"\n",
      "INFO - 2025-10-16T17:46:13Z - Selected dataset part: \"default\"\n"
     ]
    },
    {
     "name": "stdout",
     "output_type": "stream",
     "text": [
      "glory has no data on 1992-5-22\n"
     ]
    },
    {
     "name": "stderr",
     "output_type": "stream",
     "text": [
      "INFO - 2025-10-16T17:46:15Z - Selected dataset version: \"202311\"\n",
      "INFO - 2025-10-16T17:46:15Z - Selected dataset part: \"default\"\n"
     ]
    },
    {
     "name": "stdout",
     "output_type": "stream",
     "text": [
      "glory has no data on 1992-5-23\n"
     ]
    },
    {
     "name": "stderr",
     "output_type": "stream",
     "text": [
      "INFO - 2025-10-16T17:46:18Z - Selected dataset version: \"202311\"\n",
      "INFO - 2025-10-16T17:46:18Z - Selected dataset part: \"default\"\n"
     ]
    },
    {
     "name": "stdout",
     "output_type": "stream",
     "text": [
      "glory has no data on 1992-5-24\n"
     ]
    },
    {
     "name": "stderr",
     "output_type": "stream",
     "text": [
      "INFO - 2025-10-16T17:46:20Z - Selected dataset version: \"202311\"\n",
      "INFO - 2025-10-16T17:46:20Z - Selected dataset part: \"default\"\n"
     ]
    },
    {
     "name": "stdout",
     "output_type": "stream",
     "text": [
      "glory has no data on 1992-5-25\n"
     ]
    },
    {
     "name": "stderr",
     "output_type": "stream",
     "text": [
      "INFO - 2025-10-16T17:46:23Z - Selected dataset version: \"202311\"\n",
      "INFO - 2025-10-16T17:46:23Z - Selected dataset part: \"default\"\n"
     ]
    },
    {
     "name": "stdout",
     "output_type": "stream",
     "text": [
      "glory has no data on 1992-5-26\n"
     ]
    },
    {
     "name": "stderr",
     "output_type": "stream",
     "text": [
      "INFO - 2025-10-16T17:46:26Z - Selected dataset version: \"202311\"\n",
      "INFO - 2025-10-16T17:46:26Z - Selected dataset part: \"default\"\n"
     ]
    },
    {
     "name": "stdout",
     "output_type": "stream",
     "text": [
      "glory has no data on 1992-5-27\n"
     ]
    },
    {
     "name": "stderr",
     "output_type": "stream",
     "text": [
      "INFO - 2025-10-16T17:46:28Z - Selected dataset version: \"202311\"\n",
      "INFO - 2025-10-16T17:46:28Z - Selected dataset part: \"default\"\n"
     ]
    },
    {
     "name": "stdout",
     "output_type": "stream",
     "text": [
      "glory has no data on 1992-5-28\n"
     ]
    },
    {
     "name": "stderr",
     "output_type": "stream",
     "text": [
      "INFO - 2025-10-16T17:46:31Z - Selected dataset version: \"202311\"\n",
      "INFO - 2025-10-16T17:46:31Z - Selected dataset part: \"default\"\n"
     ]
    },
    {
     "name": "stdout",
     "output_type": "stream",
     "text": [
      "glory has no data on 1992-5-29\n"
     ]
    },
    {
     "name": "stderr",
     "output_type": "stream",
     "text": [
      "INFO - 2025-10-16T17:46:33Z - Selected dataset version: \"202311\"\n",
      "INFO - 2025-10-16T17:46:33Z - Selected dataset part: \"default\"\n"
     ]
    },
    {
     "name": "stdout",
     "output_type": "stream",
     "text": [
      "glory has no data on 1992-5-30\n"
     ]
    },
    {
     "name": "stderr",
     "output_type": "stream",
     "text": [
      "INFO - 2025-10-16T17:46:36Z - Selected dataset version: \"202311\"\n",
      "INFO - 2025-10-16T17:46:36Z - Selected dataset part: \"default\"\n"
     ]
    },
    {
     "name": "stdout",
     "output_type": "stream",
     "text": [
      "glory has no data on 1992-5-31\n"
     ]
    },
    {
     "name": "stderr",
     "output_type": "stream",
     "text": [
      "INFO - 2025-10-16T17:46:38Z - Selected dataset version: \"202311\"\n",
      "INFO - 2025-10-16T17:46:38Z - Selected dataset part: \"default\"\n"
     ]
    },
    {
     "name": "stdout",
     "output_type": "stream",
     "text": [
      "glory has no data on 1992-6-1\n"
     ]
    },
    {
     "name": "stderr",
     "output_type": "stream",
     "text": [
      "INFO - 2025-10-16T17:46:41Z - Selected dataset version: \"202311\"\n",
      "INFO - 2025-10-16T17:46:41Z - Selected dataset part: \"default\"\n"
     ]
    },
    {
     "name": "stdout",
     "output_type": "stream",
     "text": [
      "glory has no data on 1992-6-2\n"
     ]
    },
    {
     "name": "stderr",
     "output_type": "stream",
     "text": [
      "INFO - 2025-10-16T17:46:44Z - Selected dataset version: \"202311\"\n",
      "INFO - 2025-10-16T17:46:44Z - Selected dataset part: \"default\"\n"
     ]
    },
    {
     "name": "stdout",
     "output_type": "stream",
     "text": [
      "glory has no data on 1992-6-3\n"
     ]
    },
    {
     "name": "stderr",
     "output_type": "stream",
     "text": [
      "INFO - 2025-10-16T17:46:46Z - Selected dataset version: \"202311\"\n",
      "INFO - 2025-10-16T17:46:46Z - Selected dataset part: \"default\"\n"
     ]
    },
    {
     "name": "stdout",
     "output_type": "stream",
     "text": [
      "glory has no data on 1992-6-4\n"
     ]
    },
    {
     "name": "stderr",
     "output_type": "stream",
     "text": [
      "INFO - 2025-10-16T17:46:49Z - Selected dataset version: \"202311\"\n",
      "INFO - 2025-10-16T17:46:49Z - Selected dataset part: \"default\"\n"
     ]
    },
    {
     "name": "stdout",
     "output_type": "stream",
     "text": [
      "glory has no data on 1992-6-5\n"
     ]
    },
    {
     "name": "stderr",
     "output_type": "stream",
     "text": [
      "INFO - 2025-10-16T17:46:51Z - Selected dataset version: \"202311\"\n",
      "INFO - 2025-10-16T17:46:51Z - Selected dataset part: \"default\"\n"
     ]
    },
    {
     "name": "stdout",
     "output_type": "stream",
     "text": [
      "glory has no data on 1992-6-6\n"
     ]
    },
    {
     "name": "stderr",
     "output_type": "stream",
     "text": [
      "INFO - 2025-10-16T17:46:54Z - Selected dataset version: \"202311\"\n",
      "INFO - 2025-10-16T17:46:54Z - Selected dataset part: \"default\"\n"
     ]
    },
    {
     "name": "stdout",
     "output_type": "stream",
     "text": [
      "glory has no data on 1992-6-7\n"
     ]
    },
    {
     "name": "stderr",
     "output_type": "stream",
     "text": [
      "INFO - 2025-10-16T17:46:56Z - Selected dataset version: \"202311\"\n",
      "INFO - 2025-10-16T17:46:56Z - Selected dataset part: \"default\"\n"
     ]
    },
    {
     "name": "stdout",
     "output_type": "stream",
     "text": [
      "glory has no data on 1992-6-8\n"
     ]
    },
    {
     "name": "stderr",
     "output_type": "stream",
     "text": [
      "INFO - 2025-10-16T17:46:59Z - Selected dataset version: \"202311\"\n",
      "INFO - 2025-10-16T17:46:59Z - Selected dataset part: \"default\"\n"
     ]
    },
    {
     "name": "stdout",
     "output_type": "stream",
     "text": [
      "glory has no data on 1992-6-9\n"
     ]
    },
    {
     "name": "stderr",
     "output_type": "stream",
     "text": [
      "INFO - 2025-10-16T17:47:01Z - Selected dataset version: \"202311\"\n",
      "INFO - 2025-10-16T17:47:01Z - Selected dataset part: \"default\"\n"
     ]
    },
    {
     "name": "stdout",
     "output_type": "stream",
     "text": [
      "glory has no data on 1992-6-10\n"
     ]
    },
    {
     "name": "stderr",
     "output_type": "stream",
     "text": [
      "INFO - 2025-10-16T17:47:04Z - Selected dataset version: \"202311\"\n",
      "INFO - 2025-10-16T17:47:04Z - Selected dataset part: \"default\"\n"
     ]
    },
    {
     "name": "stdout",
     "output_type": "stream",
     "text": [
      "glory has no data on 1992-6-11\n"
     ]
    },
    {
     "name": "stderr",
     "output_type": "stream",
     "text": [
      "INFO - 2025-10-16T17:47:07Z - Selected dataset version: \"202311\"\n",
      "INFO - 2025-10-16T17:47:07Z - Selected dataset part: \"default\"\n"
     ]
    },
    {
     "name": "stdout",
     "output_type": "stream",
     "text": [
      "glory has no data on 1992-6-12\n"
     ]
    },
    {
     "name": "stderr",
     "output_type": "stream",
     "text": [
      "INFO - 2025-10-16T17:47:09Z - Selected dataset version: \"202311\"\n",
      "INFO - 2025-10-16T17:47:09Z - Selected dataset part: \"default\"\n"
     ]
    },
    {
     "name": "stdout",
     "output_type": "stream",
     "text": [
      "glory has no data on 1992-6-13\n"
     ]
    },
    {
     "name": "stderr",
     "output_type": "stream",
     "text": [
      "INFO - 2025-10-16T17:47:12Z - Selected dataset version: \"202311\"\n",
      "INFO - 2025-10-16T17:47:12Z - Selected dataset part: \"default\"\n"
     ]
    },
    {
     "name": "stdout",
     "output_type": "stream",
     "text": [
      "glory has no data on 1992-6-14\n"
     ]
    },
    {
     "name": "stderr",
     "output_type": "stream",
     "text": [
      "INFO - 2025-10-16T17:47:14Z - Selected dataset version: \"202311\"\n",
      "INFO - 2025-10-16T17:47:14Z - Selected dataset part: \"default\"\n"
     ]
    },
    {
     "name": "stdout",
     "output_type": "stream",
     "text": [
      "glory has no data on 1992-6-15\n"
     ]
    },
    {
     "name": "stderr",
     "output_type": "stream",
     "text": [
      "INFO - 2025-10-16T17:47:17Z - Selected dataset version: \"202311\"\n",
      "INFO - 2025-10-16T17:47:17Z - Selected dataset part: \"default\"\n"
     ]
    },
    {
     "name": "stdout",
     "output_type": "stream",
     "text": [
      "glory has no data on 1992-6-16\n"
     ]
    },
    {
     "name": "stderr",
     "output_type": "stream",
     "text": [
      "INFO - 2025-10-16T17:47:19Z - Selected dataset version: \"202311\"\n",
      "INFO - 2025-10-16T17:47:19Z - Selected dataset part: \"default\"\n"
     ]
    },
    {
     "name": "stdout",
     "output_type": "stream",
     "text": [
      "glory has no data on 1992-6-17\n"
     ]
    },
    {
     "name": "stderr",
     "output_type": "stream",
     "text": [
      "INFO - 2025-10-16T17:47:22Z - Selected dataset version: \"202311\"\n",
      "INFO - 2025-10-16T17:47:22Z - Selected dataset part: \"default\"\n"
     ]
    },
    {
     "name": "stdout",
     "output_type": "stream",
     "text": [
      "glory has no data on 1992-6-18\n"
     ]
    },
    {
     "name": "stderr",
     "output_type": "stream",
     "text": [
      "INFO - 2025-10-16T17:47:24Z - Selected dataset version: \"202311\"\n",
      "INFO - 2025-10-16T17:47:24Z - Selected dataset part: \"default\"\n"
     ]
    },
    {
     "name": "stdout",
     "output_type": "stream",
     "text": [
      "glory has no data on 1992-6-19\n"
     ]
    },
    {
     "name": "stderr",
     "output_type": "stream",
     "text": [
      "INFO - 2025-10-16T17:47:27Z - Selected dataset version: \"202311\"\n",
      "INFO - 2025-10-16T17:47:27Z - Selected dataset part: \"default\"\n"
     ]
    },
    {
     "name": "stdout",
     "output_type": "stream",
     "text": [
      "glory has no data on 1992-6-20\n"
     ]
    },
    {
     "name": "stderr",
     "output_type": "stream",
     "text": [
      "INFO - 2025-10-16T17:47:30Z - Selected dataset version: \"202311\"\n",
      "INFO - 2025-10-16T17:47:30Z - Selected dataset part: \"default\"\n"
     ]
    },
    {
     "name": "stdout",
     "output_type": "stream",
     "text": [
      "glory has no data on 1992-6-21\n"
     ]
    },
    {
     "name": "stderr",
     "output_type": "stream",
     "text": [
      "INFO - 2025-10-16T17:47:32Z - Selected dataset version: \"202311\"\n",
      "INFO - 2025-10-16T17:47:32Z - Selected dataset part: \"default\"\n"
     ]
    },
    {
     "name": "stdout",
     "output_type": "stream",
     "text": [
      "glory has no data on 1992-6-22\n"
     ]
    },
    {
     "name": "stderr",
     "output_type": "stream",
     "text": [
      "INFO - 2025-10-16T17:47:35Z - Selected dataset version: \"202311\"\n",
      "INFO - 2025-10-16T17:47:35Z - Selected dataset part: \"default\"\n"
     ]
    },
    {
     "name": "stdout",
     "output_type": "stream",
     "text": [
      "glory has no data on 1992-6-23\n"
     ]
    },
    {
     "name": "stderr",
     "output_type": "stream",
     "text": [
      "INFO - 2025-10-16T17:47:37Z - Selected dataset version: \"202311\"\n",
      "INFO - 2025-10-16T17:47:37Z - Selected dataset part: \"default\"\n"
     ]
    },
    {
     "name": "stdout",
     "output_type": "stream",
     "text": [
      "glory has no data on 1992-6-24\n"
     ]
    },
    {
     "name": "stderr",
     "output_type": "stream",
     "text": [
      "INFO - 2025-10-16T17:47:41Z - Selected dataset version: \"202311\"\n",
      "INFO - 2025-10-16T17:47:41Z - Selected dataset part: \"default\"\n"
     ]
    },
    {
     "name": "stdout",
     "output_type": "stream",
     "text": [
      "glory has no data on 1992-6-25\n"
     ]
    },
    {
     "name": "stderr",
     "output_type": "stream",
     "text": [
      "INFO - 2025-10-16T17:47:43Z - Selected dataset version: \"202311\"\n",
      "INFO - 2025-10-16T17:47:43Z - Selected dataset part: \"default\"\n"
     ]
    },
    {
     "name": "stdout",
     "output_type": "stream",
     "text": [
      "glory has no data on 1992-6-26\n"
     ]
    },
    {
     "name": "stderr",
     "output_type": "stream",
     "text": [
      "INFO - 2025-10-16T17:47:46Z - Selected dataset version: \"202311\"\n",
      "INFO - 2025-10-16T17:47:46Z - Selected dataset part: \"default\"\n"
     ]
    },
    {
     "name": "stdout",
     "output_type": "stream",
     "text": [
      "glory has no data on 1992-6-27\n"
     ]
    },
    {
     "name": "stderr",
     "output_type": "stream",
     "text": [
      "INFO - 2025-10-16T17:47:49Z - Selected dataset version: \"202311\"\n",
      "INFO - 2025-10-16T17:47:49Z - Selected dataset part: \"default\"\n"
     ]
    },
    {
     "name": "stdout",
     "output_type": "stream",
     "text": [
      "glory has no data on 1992-6-28\n"
     ]
    },
    {
     "name": "stderr",
     "output_type": "stream",
     "text": [
      "INFO - 2025-10-16T17:47:51Z - Selected dataset version: \"202311\"\n",
      "INFO - 2025-10-16T17:47:51Z - Selected dataset part: \"default\"\n"
     ]
    },
    {
     "name": "stdout",
     "output_type": "stream",
     "text": [
      "glory has no data on 1992-6-29\n"
     ]
    },
    {
     "name": "stderr",
     "output_type": "stream",
     "text": [
      "INFO - 2025-10-16T17:47:54Z - Selected dataset version: \"202311\"\n",
      "INFO - 2025-10-16T17:47:54Z - Selected dataset part: \"default\"\n"
     ]
    },
    {
     "name": "stdout",
     "output_type": "stream",
     "text": [
      "glory has no data on 1992-6-30\n"
     ]
    },
    {
     "name": "stderr",
     "output_type": "stream",
     "text": [
      "INFO - 2025-10-16T17:47:56Z - Selected dataset version: \"202311\"\n",
      "INFO - 2025-10-16T17:47:56Z - Selected dataset part: \"default\"\n"
     ]
    },
    {
     "name": "stdout",
     "output_type": "stream",
     "text": [
      "glory has no data on 1992-7-1\n"
     ]
    },
    {
     "name": "stderr",
     "output_type": "stream",
     "text": [
      "INFO - 2025-10-16T17:47:59Z - Selected dataset version: \"202311\"\n",
      "INFO - 2025-10-16T17:47:59Z - Selected dataset part: \"default\"\n"
     ]
    },
    {
     "name": "stdout",
     "output_type": "stream",
     "text": [
      "glory has no data on 1992-7-2\n"
     ]
    },
    {
     "name": "stderr",
     "output_type": "stream",
     "text": [
      "INFO - 2025-10-16T17:48:02Z - Selected dataset version: \"202311\"\n",
      "INFO - 2025-10-16T17:48:02Z - Selected dataset part: \"default\"\n"
     ]
    },
    {
     "name": "stdout",
     "output_type": "stream",
     "text": [
      "glory has no data on 1992-7-3\n"
     ]
    },
    {
     "name": "stderr",
     "output_type": "stream",
     "text": [
      "INFO - 2025-10-16T17:48:04Z - Selected dataset version: \"202311\"\n",
      "INFO - 2025-10-16T17:48:04Z - Selected dataset part: \"default\"\n"
     ]
    },
    {
     "name": "stdout",
     "output_type": "stream",
     "text": [
      "glory has no data on 1992-7-4\n"
     ]
    },
    {
     "name": "stderr",
     "output_type": "stream",
     "text": [
      "INFO - 2025-10-16T17:48:07Z - Selected dataset version: \"202311\"\n",
      "INFO - 2025-10-16T17:48:07Z - Selected dataset part: \"default\"\n"
     ]
    },
    {
     "name": "stdout",
     "output_type": "stream",
     "text": [
      "glory has no data on 1992-7-5\n"
     ]
    },
    {
     "name": "stderr",
     "output_type": "stream",
     "text": [
      "INFO - 2025-10-16T17:48:09Z - Selected dataset version: \"202311\"\n",
      "INFO - 2025-10-16T17:48:09Z - Selected dataset part: \"default\"\n"
     ]
    },
    {
     "name": "stdout",
     "output_type": "stream",
     "text": [
      "glory has no data on 1992-7-6\n"
     ]
    },
    {
     "name": "stderr",
     "output_type": "stream",
     "text": [
      "INFO - 2025-10-16T17:48:12Z - Selected dataset version: \"202311\"\n",
      "INFO - 2025-10-16T17:48:12Z - Selected dataset part: \"default\"\n"
     ]
    },
    {
     "name": "stdout",
     "output_type": "stream",
     "text": [
      "glory has no data on 1992-7-7\n"
     ]
    },
    {
     "name": "stderr",
     "output_type": "stream",
     "text": [
      "INFO - 2025-10-16T17:48:15Z - Selected dataset version: \"202311\"\n",
      "INFO - 2025-10-16T17:48:15Z - Selected dataset part: \"default\"\n"
     ]
    },
    {
     "name": "stdout",
     "output_type": "stream",
     "text": [
      "glory has no data on 1992-7-8\n"
     ]
    },
    {
     "name": "stderr",
     "output_type": "stream",
     "text": [
      "INFO - 2025-10-16T17:48:17Z - Selected dataset version: \"202311\"\n",
      "INFO - 2025-10-16T17:48:17Z - Selected dataset part: \"default\"\n"
     ]
    },
    {
     "name": "stdout",
     "output_type": "stream",
     "text": [
      "glory has no data on 1992-7-9\n"
     ]
    },
    {
     "name": "stderr",
     "output_type": "stream",
     "text": [
      "INFO - 2025-10-16T17:48:20Z - Selected dataset version: \"202311\"\n",
      "INFO - 2025-10-16T17:48:20Z - Selected dataset part: \"default\"\n"
     ]
    },
    {
     "name": "stdout",
     "output_type": "stream",
     "text": [
      "glory has no data on 1992-7-10\n"
     ]
    },
    {
     "name": "stderr",
     "output_type": "stream",
     "text": [
      "INFO - 2025-10-16T17:48:22Z - Selected dataset version: \"202311\"\n",
      "INFO - 2025-10-16T17:48:22Z - Selected dataset part: \"default\"\n"
     ]
    },
    {
     "name": "stdout",
     "output_type": "stream",
     "text": [
      "glory has no data on 1992-7-11\n"
     ]
    },
    {
     "name": "stderr",
     "output_type": "stream",
     "text": [
      "INFO - 2025-10-16T17:48:25Z - Selected dataset version: \"202311\"\n",
      "INFO - 2025-10-16T17:48:25Z - Selected dataset part: \"default\"\n"
     ]
    },
    {
     "name": "stdout",
     "output_type": "stream",
     "text": [
      "glory has no data on 1992-7-12\n"
     ]
    },
    {
     "name": "stderr",
     "output_type": "stream",
     "text": [
      "INFO - 2025-10-16T17:48:28Z - Selected dataset version: \"202311\"\n",
      "INFO - 2025-10-16T17:48:28Z - Selected dataset part: \"default\"\n"
     ]
    },
    {
     "name": "stdout",
     "output_type": "stream",
     "text": [
      "glory has no data on 1992-7-13\n"
     ]
    },
    {
     "name": "stderr",
     "output_type": "stream",
     "text": [
      "INFO - 2025-10-16T17:48:31Z - Selected dataset version: \"202311\"\n",
      "INFO - 2025-10-16T17:48:31Z - Selected dataset part: \"default\"\n"
     ]
    },
    {
     "name": "stdout",
     "output_type": "stream",
     "text": [
      "glory has no data on 1992-7-14\n"
     ]
    },
    {
     "name": "stderr",
     "output_type": "stream",
     "text": [
      "INFO - 2025-10-16T17:48:33Z - Selected dataset version: \"202311\"\n",
      "INFO - 2025-10-16T17:48:33Z - Selected dataset part: \"default\"\n"
     ]
    },
    {
     "name": "stdout",
     "output_type": "stream",
     "text": [
      "glory has no data on 1992-7-15\n"
     ]
    },
    {
     "name": "stderr",
     "output_type": "stream",
     "text": [
      "INFO - 2025-10-16T17:48:37Z - Selected dataset version: \"202311\"\n",
      "INFO - 2025-10-16T17:48:37Z - Selected dataset part: \"default\"\n"
     ]
    },
    {
     "name": "stdout",
     "output_type": "stream",
     "text": [
      "glory has no data on 1992-7-16\n"
     ]
    },
    {
     "name": "stderr",
     "output_type": "stream",
     "text": [
      "INFO - 2025-10-16T17:48:39Z - Selected dataset version: \"202311\"\n",
      "INFO - 2025-10-16T17:48:39Z - Selected dataset part: \"default\"\n"
     ]
    },
    {
     "name": "stdout",
     "output_type": "stream",
     "text": [
      "glory has no data on 1992-7-17\n"
     ]
    },
    {
     "name": "stderr",
     "output_type": "stream",
     "text": [
      "INFO - 2025-10-16T17:48:42Z - Selected dataset version: \"202311\"\n",
      "INFO - 2025-10-16T17:48:42Z - Selected dataset part: \"default\"\n"
     ]
    },
    {
     "name": "stdout",
     "output_type": "stream",
     "text": [
      "glory has no data on 1992-7-18\n"
     ]
    },
    {
     "name": "stderr",
     "output_type": "stream",
     "text": [
      "INFO - 2025-10-16T17:48:45Z - Selected dataset version: \"202311\"\n",
      "INFO - 2025-10-16T17:48:45Z - Selected dataset part: \"default\"\n"
     ]
    },
    {
     "name": "stdout",
     "output_type": "stream",
     "text": [
      "glory has no data on 1992-7-19\n"
     ]
    },
    {
     "name": "stderr",
     "output_type": "stream",
     "text": [
      "INFO - 2025-10-16T17:48:48Z - Selected dataset version: \"202311\"\n",
      "INFO - 2025-10-16T17:48:48Z - Selected dataset part: \"default\"\n"
     ]
    },
    {
     "name": "stdout",
     "output_type": "stream",
     "text": [
      "glory has no data on 1992-7-20\n"
     ]
    },
    {
     "name": "stderr",
     "output_type": "stream",
     "text": [
      "INFO - 2025-10-16T17:48:50Z - Selected dataset version: \"202311\"\n",
      "INFO - 2025-10-16T17:48:50Z - Selected dataset part: \"default\"\n"
     ]
    },
    {
     "name": "stdout",
     "output_type": "stream",
     "text": [
      "glory has no data on 1992-7-21\n"
     ]
    },
    {
     "name": "stderr",
     "output_type": "stream",
     "text": [
      "INFO - 2025-10-16T17:48:53Z - Selected dataset version: \"202311\"\n",
      "INFO - 2025-10-16T17:48:53Z - Selected dataset part: \"default\"\n"
     ]
    },
    {
     "name": "stdout",
     "output_type": "stream",
     "text": [
      "glory has no data on 1992-7-22\n"
     ]
    },
    {
     "name": "stderr",
     "output_type": "stream",
     "text": [
      "INFO - 2025-10-16T17:48:56Z - Selected dataset version: \"202311\"\n",
      "INFO - 2025-10-16T17:48:56Z - Selected dataset part: \"default\"\n"
     ]
    },
    {
     "name": "stdout",
     "output_type": "stream",
     "text": [
      "glory has no data on 1992-7-23\n"
     ]
    },
    {
     "name": "stderr",
     "output_type": "stream",
     "text": [
      "INFO - 2025-10-16T17:48:59Z - Selected dataset version: \"202311\"\n",
      "INFO - 2025-10-16T17:48:59Z - Selected dataset part: \"default\"\n"
     ]
    },
    {
     "name": "stdout",
     "output_type": "stream",
     "text": [
      "glory has no data on 1992-7-24\n"
     ]
    },
    {
     "name": "stderr",
     "output_type": "stream",
     "text": [
      "INFO - 2025-10-16T17:49:01Z - Selected dataset version: \"202311\"\n",
      "INFO - 2025-10-16T17:49:01Z - Selected dataset part: \"default\"\n"
     ]
    },
    {
     "name": "stdout",
     "output_type": "stream",
     "text": [
      "glory has no data on 1992-7-25\n"
     ]
    },
    {
     "name": "stderr",
     "output_type": "stream",
     "text": [
      "INFO - 2025-10-16T17:49:04Z - Selected dataset version: \"202311\"\n",
      "INFO - 2025-10-16T17:49:04Z - Selected dataset part: \"default\"\n"
     ]
    },
    {
     "name": "stdout",
     "output_type": "stream",
     "text": [
      "glory has no data on 1992-7-26\n"
     ]
    },
    {
     "name": "stderr",
     "output_type": "stream",
     "text": [
      "INFO - 2025-10-16T17:49:07Z - Selected dataset version: \"202311\"\n",
      "INFO - 2025-10-16T17:49:07Z - Selected dataset part: \"default\"\n"
     ]
    },
    {
     "name": "stdout",
     "output_type": "stream",
     "text": [
      "glory has no data on 1992-7-27\n"
     ]
    },
    {
     "name": "stderr",
     "output_type": "stream",
     "text": [
      "INFO - 2025-10-16T17:49:09Z - Selected dataset version: \"202311\"\n",
      "INFO - 2025-10-16T17:49:09Z - Selected dataset part: \"default\"\n"
     ]
    },
    {
     "name": "stdout",
     "output_type": "stream",
     "text": [
      "glory has no data on 1992-7-28\n"
     ]
    },
    {
     "name": "stderr",
     "output_type": "stream",
     "text": [
      "INFO - 2025-10-16T17:49:12Z - Selected dataset version: \"202311\"\n",
      "INFO - 2025-10-16T17:49:12Z - Selected dataset part: \"default\"\n"
     ]
    },
    {
     "name": "stdout",
     "output_type": "stream",
     "text": [
      "glory has no data on 1992-7-29\n"
     ]
    },
    {
     "name": "stderr",
     "output_type": "stream",
     "text": [
      "INFO - 2025-10-16T17:49:15Z - Selected dataset version: \"202311\"\n",
      "INFO - 2025-10-16T17:49:15Z - Selected dataset part: \"default\"\n"
     ]
    },
    {
     "name": "stdout",
     "output_type": "stream",
     "text": [
      "glory has no data on 1992-7-30\n"
     ]
    },
    {
     "name": "stderr",
     "output_type": "stream",
     "text": [
      "INFO - 2025-10-16T17:49:18Z - Selected dataset version: \"202311\"\n",
      "INFO - 2025-10-16T17:49:18Z - Selected dataset part: \"default\"\n"
     ]
    },
    {
     "name": "stdout",
     "output_type": "stream",
     "text": [
      "glory has no data on 1992-7-31\n"
     ]
    },
    {
     "name": "stderr",
     "output_type": "stream",
     "text": [
      "INFO - 2025-10-16T17:49:20Z - Selected dataset version: \"202311\"\n",
      "INFO - 2025-10-16T17:49:20Z - Selected dataset part: \"default\"\n"
     ]
    },
    {
     "name": "stdout",
     "output_type": "stream",
     "text": [
      "glory has no data on 1992-8-1\n"
     ]
    },
    {
     "name": "stderr",
     "output_type": "stream",
     "text": [
      "INFO - 2025-10-16T17:49:23Z - Selected dataset version: \"202311\"\n",
      "INFO - 2025-10-16T17:49:23Z - Selected dataset part: \"default\"\n"
     ]
    },
    {
     "name": "stdout",
     "output_type": "stream",
     "text": [
      "glory has no data on 1992-8-2\n"
     ]
    },
    {
     "name": "stderr",
     "output_type": "stream",
     "text": [
      "INFO - 2025-10-16T17:49:26Z - Selected dataset version: \"202311\"\n",
      "INFO - 2025-10-16T17:49:26Z - Selected dataset part: \"default\"\n"
     ]
    },
    {
     "name": "stdout",
     "output_type": "stream",
     "text": [
      "glory has no data on 1992-8-3\n"
     ]
    },
    {
     "name": "stderr",
     "output_type": "stream",
     "text": [
      "INFO - 2025-10-16T17:49:28Z - Selected dataset version: \"202311\"\n",
      "INFO - 2025-10-16T17:49:28Z - Selected dataset part: \"default\"\n"
     ]
    },
    {
     "name": "stdout",
     "output_type": "stream",
     "text": [
      "glory has no data on 1992-8-4\n"
     ]
    },
    {
     "name": "stderr",
     "output_type": "stream",
     "text": [
      "INFO - 2025-10-16T17:49:31Z - Selected dataset version: \"202311\"\n",
      "INFO - 2025-10-16T17:49:31Z - Selected dataset part: \"default\"\n"
     ]
    },
    {
     "name": "stdout",
     "output_type": "stream",
     "text": [
      "glory has no data on 1992-8-5\n"
     ]
    },
    {
     "name": "stderr",
     "output_type": "stream",
     "text": [
      "INFO - 2025-10-16T17:49:33Z - Selected dataset version: \"202311\"\n",
      "INFO - 2025-10-16T17:49:33Z - Selected dataset part: \"default\"\n"
     ]
    },
    {
     "name": "stdout",
     "output_type": "stream",
     "text": [
      "glory has no data on 1992-8-6\n"
     ]
    },
    {
     "name": "stderr",
     "output_type": "stream",
     "text": [
      "INFO - 2025-10-16T17:49:36Z - Selected dataset version: \"202311\"\n",
      "INFO - 2025-10-16T17:49:36Z - Selected dataset part: \"default\"\n"
     ]
    },
    {
     "name": "stdout",
     "output_type": "stream",
     "text": [
      "glory has no data on 1992-8-7\n"
     ]
    },
    {
     "name": "stderr",
     "output_type": "stream",
     "text": [
      "INFO - 2025-10-16T17:49:39Z - Selected dataset version: \"202311\"\n",
      "INFO - 2025-10-16T17:49:39Z - Selected dataset part: \"default\"\n"
     ]
    },
    {
     "name": "stdout",
     "output_type": "stream",
     "text": [
      "glory has no data on 1992-8-8\n"
     ]
    },
    {
     "name": "stderr",
     "output_type": "stream",
     "text": [
      "INFO - 2025-10-16T17:49:41Z - Selected dataset version: \"202311\"\n",
      "INFO - 2025-10-16T17:49:41Z - Selected dataset part: \"default\"\n"
     ]
    },
    {
     "name": "stdout",
     "output_type": "stream",
     "text": [
      "glory has no data on 1992-8-9\n"
     ]
    },
    {
     "name": "stderr",
     "output_type": "stream",
     "text": [
      "INFO - 2025-10-16T17:49:44Z - Selected dataset version: \"202311\"\n",
      "INFO - 2025-10-16T17:49:44Z - Selected dataset part: \"default\"\n"
     ]
    },
    {
     "name": "stdout",
     "output_type": "stream",
     "text": [
      "glory has no data on 1992-8-10\n"
     ]
    },
    {
     "name": "stderr",
     "output_type": "stream",
     "text": [
      "INFO - 2025-10-16T17:49:47Z - Selected dataset version: \"202311\"\n",
      "INFO - 2025-10-16T17:49:47Z - Selected dataset part: \"default\"\n"
     ]
    },
    {
     "name": "stdout",
     "output_type": "stream",
     "text": [
      "glory has no data on 1992-8-11\n"
     ]
    },
    {
     "name": "stderr",
     "output_type": "stream",
     "text": [
      "INFO - 2025-10-16T17:49:49Z - Selected dataset version: \"202311\"\n",
      "INFO - 2025-10-16T17:49:49Z - Selected dataset part: \"default\"\n"
     ]
    },
    {
     "name": "stdout",
     "output_type": "stream",
     "text": [
      "glory has no data on 1992-8-12\n"
     ]
    },
    {
     "name": "stderr",
     "output_type": "stream",
     "text": [
      "INFO - 2025-10-16T17:49:52Z - Selected dataset version: \"202311\"\n",
      "INFO - 2025-10-16T17:49:52Z - Selected dataset part: \"default\"\n"
     ]
    },
    {
     "name": "stdout",
     "output_type": "stream",
     "text": [
      "glory has no data on 1992-8-13\n"
     ]
    },
    {
     "name": "stderr",
     "output_type": "stream",
     "text": [
      "INFO - 2025-10-16T17:49:55Z - Selected dataset version: \"202311\"\n",
      "INFO - 2025-10-16T17:49:55Z - Selected dataset part: \"default\"\n"
     ]
    },
    {
     "name": "stdout",
     "output_type": "stream",
     "text": [
      "glory has no data on 1992-8-14\n"
     ]
    },
    {
     "name": "stderr",
     "output_type": "stream",
     "text": [
      "INFO - 2025-10-16T17:49:57Z - Selected dataset version: \"202311\"\n",
      "INFO - 2025-10-16T17:49:57Z - Selected dataset part: \"default\"\n"
     ]
    },
    {
     "name": "stdout",
     "output_type": "stream",
     "text": [
      "glory has no data on 1992-8-15\n"
     ]
    },
    {
     "name": "stderr",
     "output_type": "stream",
     "text": [
      "INFO - 2025-10-16T17:50:00Z - Selected dataset version: \"202311\"\n",
      "INFO - 2025-10-16T17:50:00Z - Selected dataset part: \"default\"\n"
     ]
    },
    {
     "name": "stdout",
     "output_type": "stream",
     "text": [
      "glory has no data on 1992-8-16\n"
     ]
    },
    {
     "name": "stderr",
     "output_type": "stream",
     "text": [
      "INFO - 2025-10-16T17:50:03Z - Selected dataset version: \"202311\"\n",
      "INFO - 2025-10-16T17:50:03Z - Selected dataset part: \"default\"\n"
     ]
    },
    {
     "name": "stdout",
     "output_type": "stream",
     "text": [
      "glory has no data on 1992-8-17\n"
     ]
    },
    {
     "name": "stderr",
     "output_type": "stream",
     "text": [
      "INFO - 2025-10-16T17:50:05Z - Selected dataset version: \"202311\"\n",
      "INFO - 2025-10-16T17:50:05Z - Selected dataset part: \"default\"\n"
     ]
    },
    {
     "name": "stdout",
     "output_type": "stream",
     "text": [
      "glory has no data on 1992-8-18\n"
     ]
    },
    {
     "name": "stderr",
     "output_type": "stream",
     "text": [
      "INFO - 2025-10-16T17:50:08Z - Selected dataset version: \"202311\"\n",
      "INFO - 2025-10-16T17:50:08Z - Selected dataset part: \"default\"\n"
     ]
    },
    {
     "name": "stdout",
     "output_type": "stream",
     "text": [
      "glory has no data on 1992-8-19\n"
     ]
    },
    {
     "name": "stderr",
     "output_type": "stream",
     "text": [
      "INFO - 2025-10-16T17:50:11Z - Selected dataset version: \"202311\"\n",
      "INFO - 2025-10-16T17:50:11Z - Selected dataset part: \"default\"\n"
     ]
    },
    {
     "name": "stdout",
     "output_type": "stream",
     "text": [
      "glory has no data on 1992-8-20\n"
     ]
    },
    {
     "name": "stderr",
     "output_type": "stream",
     "text": [
      "INFO - 2025-10-16T17:50:13Z - Selected dataset version: \"202311\"\n",
      "INFO - 2025-10-16T17:50:13Z - Selected dataset part: \"default\"\n"
     ]
    },
    {
     "name": "stdout",
     "output_type": "stream",
     "text": [
      "glory has no data on 1992-8-21\n"
     ]
    },
    {
     "name": "stderr",
     "output_type": "stream",
     "text": [
      "INFO - 2025-10-16T17:50:16Z - Selected dataset version: \"202311\"\n",
      "INFO - 2025-10-16T17:50:16Z - Selected dataset part: \"default\"\n"
     ]
    },
    {
     "name": "stdout",
     "output_type": "stream",
     "text": [
      "glory has no data on 1992-8-22\n"
     ]
    },
    {
     "name": "stderr",
     "output_type": "stream",
     "text": [
      "INFO - 2025-10-16T17:50:19Z - Selected dataset version: \"202311\"\n",
      "INFO - 2025-10-16T17:50:19Z - Selected dataset part: \"default\"\n"
     ]
    },
    {
     "name": "stdout",
     "output_type": "stream",
     "text": [
      "glory has no data on 1992-8-23\n"
     ]
    },
    {
     "name": "stderr",
     "output_type": "stream",
     "text": [
      "INFO - 2025-10-16T17:50:21Z - Selected dataset version: \"202311\"\n",
      "INFO - 2025-10-16T17:50:21Z - Selected dataset part: \"default\"\n"
     ]
    },
    {
     "name": "stdout",
     "output_type": "stream",
     "text": [
      "glory has no data on 1992-8-24\n"
     ]
    },
    {
     "name": "stderr",
     "output_type": "stream",
     "text": [
      "INFO - 2025-10-16T17:50:24Z - Selected dataset version: \"202311\"\n",
      "INFO - 2025-10-16T17:50:24Z - Selected dataset part: \"default\"\n"
     ]
    },
    {
     "name": "stdout",
     "output_type": "stream",
     "text": [
      "glory has no data on 1992-8-25\n"
     ]
    },
    {
     "name": "stderr",
     "output_type": "stream",
     "text": [
      "INFO - 2025-10-16T17:50:26Z - Selected dataset version: \"202311\"\n",
      "INFO - 2025-10-16T17:50:26Z - Selected dataset part: \"default\"\n"
     ]
    },
    {
     "name": "stdout",
     "output_type": "stream",
     "text": [
      "glory has no data on 1992-8-26\n"
     ]
    },
    {
     "name": "stderr",
     "output_type": "stream",
     "text": [
      "INFO - 2025-10-16T17:50:29Z - Selected dataset version: \"202311\"\n",
      "INFO - 2025-10-16T17:50:29Z - Selected dataset part: \"default\"\n"
     ]
    },
    {
     "name": "stdout",
     "output_type": "stream",
     "text": [
      "glory has no data on 1992-8-27\n"
     ]
    },
    {
     "name": "stderr",
     "output_type": "stream",
     "text": [
      "INFO - 2025-10-16T17:50:32Z - Selected dataset version: \"202311\"\n",
      "INFO - 2025-10-16T17:50:32Z - Selected dataset part: \"default\"\n"
     ]
    },
    {
     "name": "stdout",
     "output_type": "stream",
     "text": [
      "glory has no data on 1992-8-28\n"
     ]
    },
    {
     "name": "stderr",
     "output_type": "stream",
     "text": [
      "INFO - 2025-10-16T17:50:34Z - Selected dataset version: \"202311\"\n",
      "INFO - 2025-10-16T17:50:34Z - Selected dataset part: \"default\"\n"
     ]
    },
    {
     "name": "stdout",
     "output_type": "stream",
     "text": [
      "glory has no data on 1992-8-29\n"
     ]
    },
    {
     "name": "stderr",
     "output_type": "stream",
     "text": [
      "INFO - 2025-10-16T17:50:37Z - Selected dataset version: \"202311\"\n",
      "INFO - 2025-10-16T17:50:37Z - Selected dataset part: \"default\"\n"
     ]
    },
    {
     "name": "stdout",
     "output_type": "stream",
     "text": [
      "glory has no data on 1992-8-30\n"
     ]
    },
    {
     "name": "stderr",
     "output_type": "stream",
     "text": [
      "INFO - 2025-10-16T17:50:39Z - Selected dataset version: \"202311\"\n",
      "INFO - 2025-10-16T17:50:39Z - Selected dataset part: \"default\"\n"
     ]
    },
    {
     "name": "stdout",
     "output_type": "stream",
     "text": [
      "glory has no data on 1992-8-31\n"
     ]
    },
    {
     "name": "stderr",
     "output_type": "stream",
     "text": [
      "INFO - 2025-10-16T17:50:42Z - Selected dataset version: \"202311\"\n",
      "INFO - 2025-10-16T17:50:42Z - Selected dataset part: \"default\"\n"
     ]
    },
    {
     "name": "stdout",
     "output_type": "stream",
     "text": [
      "glory has no data on 1992-9-1\n"
     ]
    },
    {
     "name": "stderr",
     "output_type": "stream",
     "text": [
      "INFO - 2025-10-16T17:50:44Z - Selected dataset version: \"202311\"\n",
      "INFO - 2025-10-16T17:50:44Z - Selected dataset part: \"default\"\n"
     ]
    },
    {
     "name": "stdout",
     "output_type": "stream",
     "text": [
      "glory has no data on 1992-9-2\n"
     ]
    },
    {
     "name": "stderr",
     "output_type": "stream",
     "text": [
      "INFO - 2025-10-16T17:50:47Z - Selected dataset version: \"202311\"\n",
      "INFO - 2025-10-16T17:50:47Z - Selected dataset part: \"default\"\n"
     ]
    },
    {
     "name": "stdout",
     "output_type": "stream",
     "text": [
      "glory has no data on 1992-9-3\n"
     ]
    },
    {
     "name": "stderr",
     "output_type": "stream",
     "text": [
      "INFO - 2025-10-16T17:50:49Z - Selected dataset version: \"202311\"\n",
      "INFO - 2025-10-16T17:50:49Z - Selected dataset part: \"default\"\n"
     ]
    },
    {
     "name": "stdout",
     "output_type": "stream",
     "text": [
      "glory has no data on 1992-9-4\n"
     ]
    },
    {
     "name": "stderr",
     "output_type": "stream",
     "text": [
      "INFO - 2025-10-16T17:50:52Z - Selected dataset version: \"202311\"\n",
      "INFO - 2025-10-16T17:50:52Z - Selected dataset part: \"default\"\n"
     ]
    },
    {
     "name": "stdout",
     "output_type": "stream",
     "text": [
      "glory has no data on 1992-9-5\n"
     ]
    },
    {
     "name": "stderr",
     "output_type": "stream",
     "text": [
      "INFO - 2025-10-16T17:50:55Z - Selected dataset version: \"202311\"\n",
      "INFO - 2025-10-16T17:50:55Z - Selected dataset part: \"default\"\n"
     ]
    },
    {
     "name": "stdout",
     "output_type": "stream",
     "text": [
      "glory has no data on 1992-9-6\n"
     ]
    },
    {
     "name": "stderr",
     "output_type": "stream",
     "text": [
      "INFO - 2025-10-16T17:50:57Z - Selected dataset version: \"202311\"\n",
      "INFO - 2025-10-16T17:50:57Z - Selected dataset part: \"default\"\n"
     ]
    },
    {
     "name": "stdout",
     "output_type": "stream",
     "text": [
      "glory has no data on 1992-9-7\n"
     ]
    },
    {
     "name": "stderr",
     "output_type": "stream",
     "text": [
      "INFO - 2025-10-16T17:51:00Z - Selected dataset version: \"202311\"\n",
      "INFO - 2025-10-16T17:51:00Z - Selected dataset part: \"default\"\n"
     ]
    },
    {
     "name": "stdout",
     "output_type": "stream",
     "text": [
      "glory has no data on 1992-9-8\n"
     ]
    },
    {
     "name": "stderr",
     "output_type": "stream",
     "text": [
      "INFO - 2025-10-16T17:51:02Z - Selected dataset version: \"202311\"\n",
      "INFO - 2025-10-16T17:51:02Z - Selected dataset part: \"default\"\n"
     ]
    },
    {
     "name": "stdout",
     "output_type": "stream",
     "text": [
      "glory has no data on 1992-9-9\n"
     ]
    },
    {
     "name": "stderr",
     "output_type": "stream",
     "text": [
      "INFO - 2025-10-16T17:51:05Z - Selected dataset version: \"202311\"\n",
      "INFO - 2025-10-16T17:51:05Z - Selected dataset part: \"default\"\n"
     ]
    },
    {
     "name": "stdout",
     "output_type": "stream",
     "text": [
      "glory has no data on 1992-9-10\n"
     ]
    },
    {
     "name": "stderr",
     "output_type": "stream",
     "text": [
      "INFO - 2025-10-16T17:51:07Z - Selected dataset version: \"202311\"\n",
      "INFO - 2025-10-16T17:51:07Z - Selected dataset part: \"default\"\n"
     ]
    },
    {
     "name": "stdout",
     "output_type": "stream",
     "text": [
      "glory has no data on 1992-9-11\n"
     ]
    },
    {
     "name": "stderr",
     "output_type": "stream",
     "text": [
      "INFO - 2025-10-16T17:51:10Z - Selected dataset version: \"202311\"\n",
      "INFO - 2025-10-16T17:51:10Z - Selected dataset part: \"default\"\n"
     ]
    },
    {
     "name": "stdout",
     "output_type": "stream",
     "text": [
      "glory has no data on 1992-9-12\n"
     ]
    },
    {
     "name": "stderr",
     "output_type": "stream",
     "text": [
      "INFO - 2025-10-16T17:51:13Z - Selected dataset version: \"202311\"\n",
      "INFO - 2025-10-16T17:51:13Z - Selected dataset part: \"default\"\n"
     ]
    },
    {
     "name": "stdout",
     "output_type": "stream",
     "text": [
      "glory has no data on 1992-9-13\n"
     ]
    },
    {
     "name": "stderr",
     "output_type": "stream",
     "text": [
      "INFO - 2025-10-16T17:51:15Z - Selected dataset version: \"202311\"\n",
      "INFO - 2025-10-16T17:51:15Z - Selected dataset part: \"default\"\n"
     ]
    },
    {
     "name": "stdout",
     "output_type": "stream",
     "text": [
      "glory has no data on 1992-9-14\n"
     ]
    },
    {
     "name": "stderr",
     "output_type": "stream",
     "text": [
      "INFO - 2025-10-16T17:51:18Z - Selected dataset version: \"202311\"\n",
      "INFO - 2025-10-16T17:51:18Z - Selected dataset part: \"default\"\n"
     ]
    },
    {
     "name": "stdout",
     "output_type": "stream",
     "text": [
      "glory has no data on 1992-9-15\n"
     ]
    },
    {
     "name": "stderr",
     "output_type": "stream",
     "text": [
      "INFO - 2025-10-16T17:51:21Z - Selected dataset version: \"202311\"\n",
      "INFO - 2025-10-16T17:51:21Z - Selected dataset part: \"default\"\n"
     ]
    },
    {
     "name": "stdout",
     "output_type": "stream",
     "text": [
      "glory has no data on 1992-9-16\n"
     ]
    },
    {
     "name": "stderr",
     "output_type": "stream",
     "text": [
      "INFO - 2025-10-16T17:51:23Z - Selected dataset version: \"202311\"\n",
      "INFO - 2025-10-16T17:51:23Z - Selected dataset part: \"default\"\n"
     ]
    },
    {
     "name": "stdout",
     "output_type": "stream",
     "text": [
      "glory has no data on 1992-9-17\n"
     ]
    },
    {
     "name": "stderr",
     "output_type": "stream",
     "text": [
      "INFO - 2025-10-16T17:51:26Z - Selected dataset version: \"202311\"\n",
      "INFO - 2025-10-16T17:51:26Z - Selected dataset part: \"default\"\n"
     ]
    },
    {
     "name": "stdout",
     "output_type": "stream",
     "text": [
      "glory has no data on 1992-9-18\n"
     ]
    },
    {
     "name": "stderr",
     "output_type": "stream",
     "text": [
      "INFO - 2025-10-16T17:51:28Z - Selected dataset version: \"202311\"\n",
      "INFO - 2025-10-16T17:51:28Z - Selected dataset part: \"default\"\n"
     ]
    },
    {
     "name": "stdout",
     "output_type": "stream",
     "text": [
      "glory has no data on 1992-9-19\n"
     ]
    },
    {
     "name": "stderr",
     "output_type": "stream",
     "text": [
      "INFO - 2025-10-16T17:51:31Z - Selected dataset version: \"202311\"\n",
      "INFO - 2025-10-16T17:51:31Z - Selected dataset part: \"default\"\n"
     ]
    },
    {
     "name": "stdout",
     "output_type": "stream",
     "text": [
      "glory has no data on 1992-9-20\n"
     ]
    },
    {
     "name": "stderr",
     "output_type": "stream",
     "text": [
      "INFO - 2025-10-16T17:51:34Z - Selected dataset version: \"202311\"\n",
      "INFO - 2025-10-16T17:51:34Z - Selected dataset part: \"default\"\n"
     ]
    },
    {
     "name": "stdout",
     "output_type": "stream",
     "text": [
      "glory has no data on 1992-9-21\n"
     ]
    },
    {
     "name": "stderr",
     "output_type": "stream",
     "text": [
      "INFO - 2025-10-16T17:51:36Z - Selected dataset version: \"202311\"\n",
      "INFO - 2025-10-16T17:51:36Z - Selected dataset part: \"default\"\n"
     ]
    },
    {
     "name": "stdout",
     "output_type": "stream",
     "text": [
      "glory has no data on 1992-9-22\n"
     ]
    },
    {
     "name": "stderr",
     "output_type": "stream",
     "text": [
      "INFO - 2025-10-16T17:51:39Z - Selected dataset version: \"202311\"\n",
      "INFO - 2025-10-16T17:51:39Z - Selected dataset part: \"default\"\n"
     ]
    },
    {
     "name": "stdout",
     "output_type": "stream",
     "text": [
      "glory has no data on 1992-9-23\n"
     ]
    },
    {
     "name": "stderr",
     "output_type": "stream",
     "text": [
      "INFO - 2025-10-16T17:51:41Z - Selected dataset version: \"202311\"\n",
      "INFO - 2025-10-16T17:51:41Z - Selected dataset part: \"default\"\n"
     ]
    },
    {
     "name": "stdout",
     "output_type": "stream",
     "text": [
      "glory has no data on 1992-9-24\n"
     ]
    },
    {
     "name": "stderr",
     "output_type": "stream",
     "text": [
      "INFO - 2025-10-16T17:51:44Z - Selected dataset version: \"202311\"\n",
      "INFO - 2025-10-16T17:51:44Z - Selected dataset part: \"default\"\n"
     ]
    },
    {
     "name": "stdout",
     "output_type": "stream",
     "text": [
      "glory has no data on 1992-9-25\n"
     ]
    },
    {
     "name": "stderr",
     "output_type": "stream",
     "text": [
      "INFO - 2025-10-16T17:51:46Z - Selected dataset version: \"202311\"\n",
      "INFO - 2025-10-16T17:51:46Z - Selected dataset part: \"default\"\n"
     ]
    },
    {
     "name": "stdout",
     "output_type": "stream",
     "text": [
      "glory has no data on 1992-9-26\n"
     ]
    },
    {
     "name": "stderr",
     "output_type": "stream",
     "text": [
      "INFO - 2025-10-16T17:51:49Z - Selected dataset version: \"202311\"\n",
      "INFO - 2025-10-16T17:51:49Z - Selected dataset part: \"default\"\n"
     ]
    },
    {
     "name": "stdout",
     "output_type": "stream",
     "text": [
      "glory has no data on 1992-9-27\n"
     ]
    },
    {
     "name": "stderr",
     "output_type": "stream",
     "text": [
      "INFO - 2025-10-16T17:51:52Z - Selected dataset version: \"202311\"\n",
      "INFO - 2025-10-16T17:51:52Z - Selected dataset part: \"default\"\n"
     ]
    },
    {
     "name": "stdout",
     "output_type": "stream",
     "text": [
      "glory has no data on 1992-9-28\n"
     ]
    },
    {
     "name": "stderr",
     "output_type": "stream",
     "text": [
      "INFO - 2025-10-16T17:51:54Z - Selected dataset version: \"202311\"\n",
      "INFO - 2025-10-16T17:51:54Z - Selected dataset part: \"default\"\n"
     ]
    },
    {
     "name": "stdout",
     "output_type": "stream",
     "text": [
      "glory has no data on 1992-9-29\n"
     ]
    },
    {
     "name": "stderr",
     "output_type": "stream",
     "text": [
      "INFO - 2025-10-16T17:51:57Z - Selected dataset version: \"202311\"\n",
      "INFO - 2025-10-16T17:51:57Z - Selected dataset part: \"default\"\n"
     ]
    },
    {
     "name": "stdout",
     "output_type": "stream",
     "text": [
      "glory has no data on 1992-9-30\n"
     ]
    },
    {
     "name": "stderr",
     "output_type": "stream",
     "text": [
      "INFO - 2025-10-16T17:51:59Z - Selected dataset version: \"202311\"\n",
      "INFO - 2025-10-16T17:51:59Z - Selected dataset part: \"default\"\n"
     ]
    },
    {
     "name": "stdout",
     "output_type": "stream",
     "text": [
      "glory has no data on 1992-10-1\n"
     ]
    },
    {
     "name": "stderr",
     "output_type": "stream",
     "text": [
      "INFO - 2025-10-16T17:52:02Z - Selected dataset version: \"202311\"\n",
      "INFO - 2025-10-16T17:52:02Z - Selected dataset part: \"default\"\n"
     ]
    },
    {
     "name": "stdout",
     "output_type": "stream",
     "text": [
      "glory has no data on 1992-10-2\n"
     ]
    },
    {
     "name": "stderr",
     "output_type": "stream",
     "text": [
      "INFO - 2025-10-16T17:52:04Z - Selected dataset version: \"202311\"\n",
      "INFO - 2025-10-16T17:52:04Z - Selected dataset part: \"default\"\n"
     ]
    },
    {
     "name": "stdout",
     "output_type": "stream",
     "text": [
      "glory has no data on 1992-10-3\n"
     ]
    },
    {
     "name": "stderr",
     "output_type": "stream",
     "text": [
      "INFO - 2025-10-16T17:52:07Z - Selected dataset version: \"202311\"\n",
      "INFO - 2025-10-16T17:52:07Z - Selected dataset part: \"default\"\n"
     ]
    },
    {
     "name": "stdout",
     "output_type": "stream",
     "text": [
      "glory has no data on 1992-10-4\n"
     ]
    },
    {
     "name": "stderr",
     "output_type": "stream",
     "text": [
      "INFO - 2025-10-16T17:52:09Z - Selected dataset version: \"202311\"\n",
      "INFO - 2025-10-16T17:52:09Z - Selected dataset part: \"default\"\n"
     ]
    },
    {
     "name": "stdout",
     "output_type": "stream",
     "text": [
      "glory has no data on 1992-10-5\n"
     ]
    },
    {
     "name": "stderr",
     "output_type": "stream",
     "text": [
      "INFO - 2025-10-16T17:52:12Z - Selected dataset version: \"202311\"\n",
      "INFO - 2025-10-16T17:52:12Z - Selected dataset part: \"default\"\n"
     ]
    },
    {
     "name": "stdout",
     "output_type": "stream",
     "text": [
      "glory has no data on 1992-10-6\n"
     ]
    },
    {
     "name": "stderr",
     "output_type": "stream",
     "text": [
      "INFO - 2025-10-16T17:52:15Z - Selected dataset version: \"202311\"\n",
      "INFO - 2025-10-16T17:52:15Z - Selected dataset part: \"default\"\n"
     ]
    },
    {
     "name": "stdout",
     "output_type": "stream",
     "text": [
      "glory has no data on 1992-10-7\n"
     ]
    },
    {
     "name": "stderr",
     "output_type": "stream",
     "text": [
      "INFO - 2025-10-16T17:52:17Z - Selected dataset version: \"202311\"\n",
      "INFO - 2025-10-16T17:52:17Z - Selected dataset part: \"default\"\n"
     ]
    },
    {
     "name": "stdout",
     "output_type": "stream",
     "text": [
      "glory has no data on 1992-10-8\n"
     ]
    },
    {
     "name": "stderr",
     "output_type": "stream",
     "text": [
      "INFO - 2025-10-16T17:52:20Z - Selected dataset version: \"202311\"\n",
      "INFO - 2025-10-16T17:52:20Z - Selected dataset part: \"default\"\n"
     ]
    },
    {
     "name": "stdout",
     "output_type": "stream",
     "text": [
      "glory has no data on 1992-10-9\n"
     ]
    },
    {
     "name": "stderr",
     "output_type": "stream",
     "text": [
      "INFO - 2025-10-16T17:52:22Z - Selected dataset version: \"202311\"\n",
      "INFO - 2025-10-16T17:52:22Z - Selected dataset part: \"default\"\n"
     ]
    },
    {
     "name": "stdout",
     "output_type": "stream",
     "text": [
      "glory has no data on 1992-10-10\n"
     ]
    },
    {
     "name": "stderr",
     "output_type": "stream",
     "text": [
      "INFO - 2025-10-16T17:52:25Z - Selected dataset version: \"202311\"\n",
      "INFO - 2025-10-16T17:52:25Z - Selected dataset part: \"default\"\n"
     ]
    },
    {
     "name": "stdout",
     "output_type": "stream",
     "text": [
      "glory has no data on 1992-10-11\n"
     ]
    },
    {
     "name": "stderr",
     "output_type": "stream",
     "text": [
      "INFO - 2025-10-16T17:52:27Z - Selected dataset version: \"202311\"\n",
      "INFO - 2025-10-16T17:52:27Z - Selected dataset part: \"default\"\n"
     ]
    },
    {
     "name": "stdout",
     "output_type": "stream",
     "text": [
      "glory has no data on 1992-10-12\n"
     ]
    },
    {
     "name": "stderr",
     "output_type": "stream",
     "text": [
      "INFO - 2025-10-16T17:52:30Z - Selected dataset version: \"202311\"\n",
      "INFO - 2025-10-16T17:52:30Z - Selected dataset part: \"default\"\n"
     ]
    },
    {
     "name": "stdout",
     "output_type": "stream",
     "text": [
      "glory has no data on 1992-10-13\n"
     ]
    },
    {
     "name": "stderr",
     "output_type": "stream",
     "text": [
      "INFO - 2025-10-16T17:52:33Z - Selected dataset version: \"202311\"\n",
      "INFO - 2025-10-16T17:52:33Z - Selected dataset part: \"default\"\n"
     ]
    },
    {
     "name": "stdout",
     "output_type": "stream",
     "text": [
      "glory has no data on 1992-10-14\n"
     ]
    },
    {
     "name": "stderr",
     "output_type": "stream",
     "text": [
      "INFO - 2025-10-16T17:52:35Z - Selected dataset version: \"202311\"\n",
      "INFO - 2025-10-16T17:52:35Z - Selected dataset part: \"default\"\n"
     ]
    },
    {
     "name": "stdout",
     "output_type": "stream",
     "text": [
      "glory has no data on 1992-10-15\n"
     ]
    },
    {
     "name": "stderr",
     "output_type": "stream",
     "text": [
      "INFO - 2025-10-16T17:52:38Z - Selected dataset version: \"202311\"\n",
      "INFO - 2025-10-16T17:52:38Z - Selected dataset part: \"default\"\n"
     ]
    },
    {
     "name": "stdout",
     "output_type": "stream",
     "text": [
      "glory has no data on 1992-10-16\n"
     ]
    },
    {
     "name": "stderr",
     "output_type": "stream",
     "text": [
      "INFO - 2025-10-16T17:52:41Z - Selected dataset version: \"202311\"\n",
      "INFO - 2025-10-16T17:52:41Z - Selected dataset part: \"default\"\n"
     ]
    },
    {
     "name": "stdout",
     "output_type": "stream",
     "text": [
      "glory has no data on 1992-10-17\n"
     ]
    },
    {
     "name": "stderr",
     "output_type": "stream",
     "text": [
      "INFO - 2025-10-16T17:52:43Z - Selected dataset version: \"202311\"\n",
      "INFO - 2025-10-16T17:52:43Z - Selected dataset part: \"default\"\n"
     ]
    },
    {
     "name": "stdout",
     "output_type": "stream",
     "text": [
      "glory has no data on 1992-10-18\n"
     ]
    },
    {
     "name": "stderr",
     "output_type": "stream",
     "text": [
      "INFO - 2025-10-16T17:52:46Z - Selected dataset version: \"202311\"\n",
      "INFO - 2025-10-16T17:52:46Z - Selected dataset part: \"default\"\n"
     ]
    },
    {
     "name": "stdout",
     "output_type": "stream",
     "text": [
      "glory has no data on 1992-10-19\n"
     ]
    },
    {
     "name": "stderr",
     "output_type": "stream",
     "text": [
      "INFO - 2025-10-16T17:52:48Z - Selected dataset version: \"202311\"\n",
      "INFO - 2025-10-16T17:52:48Z - Selected dataset part: \"default\"\n"
     ]
    },
    {
     "name": "stdout",
     "output_type": "stream",
     "text": [
      "glory has no data on 1992-10-20\n"
     ]
    },
    {
     "name": "stderr",
     "output_type": "stream",
     "text": [
      "INFO - 2025-10-16T17:52:51Z - Selected dataset version: \"202311\"\n",
      "INFO - 2025-10-16T17:52:51Z - Selected dataset part: \"default\"\n"
     ]
    },
    {
     "name": "stdout",
     "output_type": "stream",
     "text": [
      "glory has no data on 1992-10-21\n"
     ]
    },
    {
     "name": "stderr",
     "output_type": "stream",
     "text": [
      "INFO - 2025-10-16T17:52:53Z - Selected dataset version: \"202311\"\n",
      "INFO - 2025-10-16T17:52:53Z - Selected dataset part: \"default\"\n"
     ]
    },
    {
     "name": "stdout",
     "output_type": "stream",
     "text": [
      "glory has no data on 1992-10-22\n"
     ]
    },
    {
     "name": "stderr",
     "output_type": "stream",
     "text": [
      "INFO - 2025-10-16T17:52:56Z - Selected dataset version: \"202311\"\n",
      "INFO - 2025-10-16T17:52:56Z - Selected dataset part: \"default\"\n"
     ]
    },
    {
     "name": "stdout",
     "output_type": "stream",
     "text": [
      "glory has no data on 1992-10-23\n"
     ]
    },
    {
     "name": "stderr",
     "output_type": "stream",
     "text": [
      "INFO - 2025-10-16T17:52:59Z - Selected dataset version: \"202311\"\n",
      "INFO - 2025-10-16T17:52:59Z - Selected dataset part: \"default\"\n"
     ]
    },
    {
     "name": "stdout",
     "output_type": "stream",
     "text": [
      "glory has no data on 1992-10-24\n"
     ]
    },
    {
     "name": "stderr",
     "output_type": "stream",
     "text": [
      "INFO - 2025-10-16T17:53:01Z - Selected dataset version: \"202311\"\n",
      "INFO - 2025-10-16T17:53:01Z - Selected dataset part: \"default\"\n"
     ]
    },
    {
     "name": "stdout",
     "output_type": "stream",
     "text": [
      "glory has no data on 1992-10-25\n"
     ]
    },
    {
     "name": "stderr",
     "output_type": "stream",
     "text": [
      "INFO - 2025-10-16T17:53:04Z - Selected dataset version: \"202311\"\n",
      "INFO - 2025-10-16T17:53:04Z - Selected dataset part: \"default\"\n"
     ]
    },
    {
     "name": "stdout",
     "output_type": "stream",
     "text": [
      "glory has no data on 1992-10-26\n"
     ]
    },
    {
     "name": "stderr",
     "output_type": "stream",
     "text": [
      "INFO - 2025-10-16T17:53:06Z - Selected dataset version: \"202311\"\n",
      "INFO - 2025-10-16T17:53:06Z - Selected dataset part: \"default\"\n"
     ]
    },
    {
     "name": "stdout",
     "output_type": "stream",
     "text": [
      "glory has no data on 1992-10-27\n"
     ]
    },
    {
     "name": "stderr",
     "output_type": "stream",
     "text": [
      "INFO - 2025-10-16T17:53:09Z - Selected dataset version: \"202311\"\n",
      "INFO - 2025-10-16T17:53:09Z - Selected dataset part: \"default\"\n"
     ]
    },
    {
     "name": "stdout",
     "output_type": "stream",
     "text": [
      "glory has no data on 1992-10-28\n"
     ]
    },
    {
     "name": "stderr",
     "output_type": "stream",
     "text": [
      "INFO - 2025-10-16T17:53:12Z - Selected dataset version: \"202311\"\n",
      "INFO - 2025-10-16T17:53:12Z - Selected dataset part: \"default\"\n"
     ]
    },
    {
     "name": "stdout",
     "output_type": "stream",
     "text": [
      "glory has no data on 1992-10-29\n"
     ]
    },
    {
     "name": "stderr",
     "output_type": "stream",
     "text": [
      "INFO - 2025-10-16T17:53:14Z - Selected dataset version: \"202311\"\n",
      "INFO - 2025-10-16T17:53:14Z - Selected dataset part: \"default\"\n"
     ]
    },
    {
     "name": "stdout",
     "output_type": "stream",
     "text": [
      "glory has no data on 1992-10-30\n"
     ]
    },
    {
     "name": "stderr",
     "output_type": "stream",
     "text": [
      "INFO - 2025-10-16T17:53:17Z - Selected dataset version: \"202311\"\n",
      "INFO - 2025-10-16T17:53:17Z - Selected dataset part: \"default\"\n"
     ]
    },
    {
     "name": "stdout",
     "output_type": "stream",
     "text": [
      "glory has no data on 1992-10-31\n"
     ]
    },
    {
     "name": "stderr",
     "output_type": "stream",
     "text": [
      "INFO - 2025-10-16T17:53:19Z - Selected dataset version: \"202311\"\n",
      "INFO - 2025-10-16T17:53:19Z - Selected dataset part: \"default\"\n"
     ]
    },
    {
     "name": "stdout",
     "output_type": "stream",
     "text": [
      "glory has no data on 1992-11-1\n"
     ]
    },
    {
     "name": "stderr",
     "output_type": "stream",
     "text": [
      "INFO - 2025-10-16T17:53:22Z - Selected dataset version: \"202311\"\n",
      "INFO - 2025-10-16T17:53:22Z - Selected dataset part: \"default\"\n"
     ]
    },
    {
     "name": "stdout",
     "output_type": "stream",
     "text": [
      "glory has no data on 1992-11-2\n"
     ]
    },
    {
     "name": "stderr",
     "output_type": "stream",
     "text": [
      "INFO - 2025-10-16T17:53:24Z - Selected dataset version: \"202311\"\n",
      "INFO - 2025-10-16T17:53:24Z - Selected dataset part: \"default\"\n"
     ]
    },
    {
     "name": "stdout",
     "output_type": "stream",
     "text": [
      "glory has no data on 1992-11-3\n"
     ]
    },
    {
     "name": "stderr",
     "output_type": "stream",
     "text": [
      "INFO - 2025-10-16T17:53:27Z - Selected dataset version: \"202311\"\n",
      "INFO - 2025-10-16T17:53:27Z - Selected dataset part: \"default\"\n"
     ]
    },
    {
     "name": "stdout",
     "output_type": "stream",
     "text": [
      "glory has no data on 1992-11-4\n"
     ]
    },
    {
     "name": "stderr",
     "output_type": "stream",
     "text": [
      "INFO - 2025-10-16T17:53:30Z - Selected dataset version: \"202311\"\n",
      "INFO - 2025-10-16T17:53:30Z - Selected dataset part: \"default\"\n"
     ]
    },
    {
     "name": "stdout",
     "output_type": "stream",
     "text": [
      "glory has no data on 1992-11-5\n"
     ]
    },
    {
     "name": "stderr",
     "output_type": "stream",
     "text": [
      "INFO - 2025-10-16T17:53:32Z - Selected dataset version: \"202311\"\n",
      "INFO - 2025-10-16T17:53:32Z - Selected dataset part: \"default\"\n"
     ]
    },
    {
     "name": "stdout",
     "output_type": "stream",
     "text": [
      "glory has no data on 1992-11-6\n"
     ]
    },
    {
     "name": "stderr",
     "output_type": "stream",
     "text": [
      "INFO - 2025-10-16T17:53:35Z - Selected dataset version: \"202311\"\n",
      "INFO - 2025-10-16T17:53:35Z - Selected dataset part: \"default\"\n"
     ]
    },
    {
     "name": "stdout",
     "output_type": "stream",
     "text": [
      "glory has no data on 1992-11-7\n"
     ]
    },
    {
     "name": "stderr",
     "output_type": "stream",
     "text": [
      "INFO - 2025-10-16T17:53:38Z - Selected dataset version: \"202311\"\n",
      "INFO - 2025-10-16T17:53:38Z - Selected dataset part: \"default\"\n"
     ]
    },
    {
     "name": "stdout",
     "output_type": "stream",
     "text": [
      "glory has no data on 1992-11-8\n"
     ]
    },
    {
     "name": "stderr",
     "output_type": "stream",
     "text": [
      "INFO - 2025-10-16T17:53:40Z - Selected dataset version: \"202311\"\n",
      "INFO - 2025-10-16T17:53:40Z - Selected dataset part: \"default\"\n"
     ]
    },
    {
     "name": "stdout",
     "output_type": "stream",
     "text": [
      "glory has no data on 1992-11-9\n"
     ]
    },
    {
     "name": "stderr",
     "output_type": "stream",
     "text": [
      "INFO - 2025-10-16T17:53:43Z - Selected dataset version: \"202311\"\n",
      "INFO - 2025-10-16T17:53:43Z - Selected dataset part: \"default\"\n"
     ]
    },
    {
     "name": "stdout",
     "output_type": "stream",
     "text": [
      "glory has no data on 1992-11-10\n"
     ]
    },
    {
     "name": "stderr",
     "output_type": "stream",
     "text": [
      "INFO - 2025-10-16T17:53:45Z - Selected dataset version: \"202311\"\n",
      "INFO - 2025-10-16T17:53:45Z - Selected dataset part: \"default\"\n"
     ]
    },
    {
     "name": "stdout",
     "output_type": "stream",
     "text": [
      "glory has no data on 1992-11-11\n"
     ]
    },
    {
     "name": "stderr",
     "output_type": "stream",
     "text": [
      "INFO - 2025-10-16T17:53:48Z - Selected dataset version: \"202311\"\n",
      "INFO - 2025-10-16T17:53:48Z - Selected dataset part: \"default\"\n"
     ]
    },
    {
     "name": "stdout",
     "output_type": "stream",
     "text": [
      "glory has no data on 1992-11-12\n"
     ]
    },
    {
     "name": "stderr",
     "output_type": "stream",
     "text": [
      "INFO - 2025-10-16T17:53:51Z - Selected dataset version: \"202311\"\n",
      "INFO - 2025-10-16T17:53:51Z - Selected dataset part: \"default\"\n"
     ]
    },
    {
     "name": "stdout",
     "output_type": "stream",
     "text": [
      "glory has no data on 1992-11-13\n"
     ]
    },
    {
     "name": "stderr",
     "output_type": "stream",
     "text": [
      "INFO - 2025-10-16T17:53:53Z - Selected dataset version: \"202311\"\n",
      "INFO - 2025-10-16T17:53:53Z - Selected dataset part: \"default\"\n"
     ]
    },
    {
     "name": "stdout",
     "output_type": "stream",
     "text": [
      "glory has no data on 1992-11-14\n"
     ]
    },
    {
     "name": "stderr",
     "output_type": "stream",
     "text": [
      "INFO - 2025-10-16T17:53:56Z - Selected dataset version: \"202311\"\n",
      "INFO - 2025-10-16T17:53:56Z - Selected dataset part: \"default\"\n"
     ]
    },
    {
     "name": "stdout",
     "output_type": "stream",
     "text": [
      "glory has no data on 1992-11-15\n"
     ]
    },
    {
     "name": "stderr",
     "output_type": "stream",
     "text": [
      "INFO - 2025-10-16T17:53:58Z - Selected dataset version: \"202311\"\n",
      "INFO - 2025-10-16T17:53:58Z - Selected dataset part: \"default\"\n"
     ]
    },
    {
     "name": "stdout",
     "output_type": "stream",
     "text": [
      "glory has no data on 1992-11-16\n"
     ]
    },
    {
     "name": "stderr",
     "output_type": "stream",
     "text": [
      "INFO - 2025-10-16T17:54:01Z - Selected dataset version: \"202311\"\n",
      "INFO - 2025-10-16T17:54:01Z - Selected dataset part: \"default\"\n"
     ]
    },
    {
     "name": "stdout",
     "output_type": "stream",
     "text": [
      "glory has no data on 1992-11-17\n"
     ]
    },
    {
     "name": "stderr",
     "output_type": "stream",
     "text": [
      "INFO - 2025-10-16T17:54:03Z - Selected dataset version: \"202311\"\n",
      "INFO - 2025-10-16T17:54:03Z - Selected dataset part: \"default\"\n"
     ]
    },
    {
     "name": "stdout",
     "output_type": "stream",
     "text": [
      "glory has no data on 1992-11-18\n"
     ]
    },
    {
     "name": "stderr",
     "output_type": "stream",
     "text": [
      "INFO - 2025-10-16T17:54:06Z - Selected dataset version: \"202311\"\n",
      "INFO - 2025-10-16T17:54:06Z - Selected dataset part: \"default\"\n"
     ]
    },
    {
     "name": "stdout",
     "output_type": "stream",
     "text": [
      "glory has no data on 1992-11-19\n"
     ]
    },
    {
     "name": "stderr",
     "output_type": "stream",
     "text": [
      "INFO - 2025-10-16T17:54:08Z - Selected dataset version: \"202311\"\n",
      "INFO - 2025-10-16T17:54:08Z - Selected dataset part: \"default\"\n"
     ]
    },
    {
     "name": "stdout",
     "output_type": "stream",
     "text": [
      "glory has no data on 1992-11-20\n"
     ]
    },
    {
     "name": "stderr",
     "output_type": "stream",
     "text": [
      "INFO - 2025-10-16T17:54:11Z - Selected dataset version: \"202311\"\n",
      "INFO - 2025-10-16T17:54:11Z - Selected dataset part: \"default\"\n"
     ]
    },
    {
     "name": "stdout",
     "output_type": "stream",
     "text": [
      "glory has no data on 1992-11-21\n"
     ]
    },
    {
     "name": "stderr",
     "output_type": "stream",
     "text": [
      "INFO - 2025-10-16T17:54:14Z - Selected dataset version: \"202311\"\n",
      "INFO - 2025-10-16T17:54:14Z - Selected dataset part: \"default\"\n"
     ]
    },
    {
     "name": "stdout",
     "output_type": "stream",
     "text": [
      "glory has no data on 1992-11-22\n"
     ]
    },
    {
     "name": "stderr",
     "output_type": "stream",
     "text": [
      "INFO - 2025-10-16T17:54:16Z - Selected dataset version: \"202311\"\n",
      "INFO - 2025-10-16T17:54:16Z - Selected dataset part: \"default\"\n"
     ]
    },
    {
     "name": "stdout",
     "output_type": "stream",
     "text": [
      "glory has no data on 1992-11-23\n"
     ]
    },
    {
     "name": "stderr",
     "output_type": "stream",
     "text": [
      "INFO - 2025-10-16T17:54:19Z - Selected dataset version: \"202311\"\n",
      "INFO - 2025-10-16T17:54:19Z - Selected dataset part: \"default\"\n"
     ]
    },
    {
     "name": "stdout",
     "output_type": "stream",
     "text": [
      "glory has no data on 1992-11-24\n"
     ]
    },
    {
     "name": "stderr",
     "output_type": "stream",
     "text": [
      "INFO - 2025-10-16T17:54:21Z - Selected dataset version: \"202311\"\n",
      "INFO - 2025-10-16T17:54:21Z - Selected dataset part: \"default\"\n"
     ]
    },
    {
     "name": "stdout",
     "output_type": "stream",
     "text": [
      "glory has no data on 1992-11-25\n"
     ]
    },
    {
     "name": "stderr",
     "output_type": "stream",
     "text": [
      "INFO - 2025-10-16T17:54:24Z - Selected dataset version: \"202311\"\n",
      "INFO - 2025-10-16T17:54:24Z - Selected dataset part: \"default\"\n"
     ]
    },
    {
     "name": "stdout",
     "output_type": "stream",
     "text": [
      "glory has no data on 1992-11-26\n"
     ]
    },
    {
     "name": "stderr",
     "output_type": "stream",
     "text": [
      "INFO - 2025-10-16T17:54:26Z - Selected dataset version: \"202311\"\n",
      "INFO - 2025-10-16T17:54:26Z - Selected dataset part: \"default\"\n"
     ]
    },
    {
     "name": "stdout",
     "output_type": "stream",
     "text": [
      "glory has no data on 1992-11-27\n"
     ]
    },
    {
     "name": "stderr",
     "output_type": "stream",
     "text": [
      "INFO - 2025-10-16T17:54:29Z - Selected dataset version: \"202311\"\n",
      "INFO - 2025-10-16T17:54:29Z - Selected dataset part: \"default\"\n"
     ]
    },
    {
     "name": "stdout",
     "output_type": "stream",
     "text": [
      "glory has no data on 1992-11-28\n"
     ]
    },
    {
     "name": "stderr",
     "output_type": "stream",
     "text": [
      "INFO - 2025-10-16T17:54:31Z - Selected dataset version: \"202311\"\n",
      "INFO - 2025-10-16T17:54:31Z - Selected dataset part: \"default\"\n"
     ]
    },
    {
     "name": "stdout",
     "output_type": "stream",
     "text": [
      "glory has no data on 1992-11-29\n"
     ]
    },
    {
     "name": "stderr",
     "output_type": "stream",
     "text": [
      "INFO - 2025-10-16T17:54:34Z - Selected dataset version: \"202311\"\n",
      "INFO - 2025-10-16T17:54:34Z - Selected dataset part: \"default\"\n"
     ]
    },
    {
     "name": "stdout",
     "output_type": "stream",
     "text": [
      "glory has no data on 1992-11-30\n"
     ]
    },
    {
     "name": "stderr",
     "output_type": "stream",
     "text": [
      "INFO - 2025-10-16T17:54:37Z - Selected dataset version: \"202311\"\n",
      "INFO - 2025-10-16T17:54:37Z - Selected dataset part: \"default\"\n"
     ]
    },
    {
     "name": "stdout",
     "output_type": "stream",
     "text": [
      "glory has no data on 1992-12-1\n"
     ]
    },
    {
     "name": "stderr",
     "output_type": "stream",
     "text": [
      "INFO - 2025-10-16T17:54:39Z - Selected dataset version: \"202311\"\n",
      "INFO - 2025-10-16T17:54:39Z - Selected dataset part: \"default\"\n"
     ]
    },
    {
     "name": "stdout",
     "output_type": "stream",
     "text": [
      "glory has no data on 1992-12-2\n"
     ]
    },
    {
     "name": "stderr",
     "output_type": "stream",
     "text": [
      "INFO - 2025-10-16T17:54:42Z - Selected dataset version: \"202311\"\n",
      "INFO - 2025-10-16T17:54:42Z - Selected dataset part: \"default\"\n"
     ]
    },
    {
     "name": "stdout",
     "output_type": "stream",
     "text": [
      "glory has no data on 1992-12-3\n"
     ]
    },
    {
     "name": "stderr",
     "output_type": "stream",
     "text": [
      "INFO - 2025-10-16T17:54:44Z - Selected dataset version: \"202311\"\n",
      "INFO - 2025-10-16T17:54:44Z - Selected dataset part: \"default\"\n"
     ]
    },
    {
     "name": "stdout",
     "output_type": "stream",
     "text": [
      "glory has no data on 1992-12-4\n"
     ]
    },
    {
     "name": "stderr",
     "output_type": "stream",
     "text": [
      "INFO - 2025-10-16T17:54:47Z - Selected dataset version: \"202311\"\n",
      "INFO - 2025-10-16T17:54:47Z - Selected dataset part: \"default\"\n"
     ]
    },
    {
     "name": "stdout",
     "output_type": "stream",
     "text": [
      "glory has no data on 1992-12-5\n"
     ]
    },
    {
     "name": "stderr",
     "output_type": "stream",
     "text": [
      "INFO - 2025-10-16T17:54:50Z - Selected dataset version: \"202311\"\n",
      "INFO - 2025-10-16T17:54:50Z - Selected dataset part: \"default\"\n"
     ]
    },
    {
     "name": "stdout",
     "output_type": "stream",
     "text": [
      "glory has no data on 1992-12-6\n"
     ]
    },
    {
     "name": "stderr",
     "output_type": "stream",
     "text": [
      "INFO - 2025-10-16T17:54:52Z - Selected dataset version: \"202311\"\n",
      "INFO - 2025-10-16T17:54:52Z - Selected dataset part: \"default\"\n"
     ]
    },
    {
     "name": "stdout",
     "output_type": "stream",
     "text": [
      "glory has no data on 1992-12-7\n"
     ]
    },
    {
     "name": "stderr",
     "output_type": "stream",
     "text": [
      "INFO - 2025-10-16T17:54:55Z - Selected dataset version: \"202311\"\n",
      "INFO - 2025-10-16T17:54:55Z - Selected dataset part: \"default\"\n"
     ]
    },
    {
     "name": "stdout",
     "output_type": "stream",
     "text": [
      "glory has no data on 1992-12-8\n"
     ]
    },
    {
     "name": "stderr",
     "output_type": "stream",
     "text": [
      "INFO - 2025-10-16T17:54:57Z - Selected dataset version: \"202311\"\n",
      "INFO - 2025-10-16T17:54:57Z - Selected dataset part: \"default\"\n"
     ]
    },
    {
     "name": "stdout",
     "output_type": "stream",
     "text": [
      "glory has no data on 1992-12-9\n"
     ]
    },
    {
     "name": "stderr",
     "output_type": "stream",
     "text": [
      "INFO - 2025-10-16T17:55:00Z - Selected dataset version: \"202311\"\n",
      "INFO - 2025-10-16T17:55:00Z - Selected dataset part: \"default\"\n"
     ]
    },
    {
     "name": "stdout",
     "output_type": "stream",
     "text": [
      "glory has no data on 1992-12-10\n"
     ]
    },
    {
     "name": "stderr",
     "output_type": "stream",
     "text": [
      "INFO - 2025-10-16T17:55:02Z - Selected dataset version: \"202311\"\n",
      "INFO - 2025-10-16T17:55:02Z - Selected dataset part: \"default\"\n"
     ]
    },
    {
     "name": "stdout",
     "output_type": "stream",
     "text": [
      "glory has no data on 1992-12-11\n"
     ]
    },
    {
     "name": "stderr",
     "output_type": "stream",
     "text": [
      "INFO - 2025-10-16T17:55:05Z - Selected dataset version: \"202311\"\n",
      "INFO - 2025-10-16T17:55:05Z - Selected dataset part: \"default\"\n"
     ]
    },
    {
     "name": "stdout",
     "output_type": "stream",
     "text": [
      "glory has no data on 1992-12-12\n"
     ]
    },
    {
     "name": "stderr",
     "output_type": "stream",
     "text": [
      "INFO - 2025-10-16T17:55:07Z - Selected dataset version: \"202311\"\n",
      "INFO - 2025-10-16T17:55:07Z - Selected dataset part: \"default\"\n"
     ]
    },
    {
     "name": "stdout",
     "output_type": "stream",
     "text": [
      "glory has no data on 1992-12-13\n"
     ]
    },
    {
     "name": "stderr",
     "output_type": "stream",
     "text": [
      "INFO - 2025-10-16T17:55:10Z - Selected dataset version: \"202311\"\n",
      "INFO - 2025-10-16T17:55:10Z - Selected dataset part: \"default\"\n"
     ]
    },
    {
     "name": "stdout",
     "output_type": "stream",
     "text": [
      "glory has no data on 1992-12-14\n"
     ]
    },
    {
     "name": "stderr",
     "output_type": "stream",
     "text": [
      "INFO - 2025-10-16T17:55:13Z - Selected dataset version: \"202311\"\n",
      "INFO - 2025-10-16T17:55:13Z - Selected dataset part: \"default\"\n"
     ]
    },
    {
     "name": "stdout",
     "output_type": "stream",
     "text": [
      "glory has no data on 1992-12-15\n"
     ]
    },
    {
     "name": "stderr",
     "output_type": "stream",
     "text": [
      "INFO - 2025-10-16T17:55:15Z - Selected dataset version: \"202311\"\n",
      "INFO - 2025-10-16T17:55:15Z - Selected dataset part: \"default\"\n"
     ]
    },
    {
     "name": "stdout",
     "output_type": "stream",
     "text": [
      "glory has no data on 1992-12-16\n"
     ]
    },
    {
     "name": "stderr",
     "output_type": "stream",
     "text": [
      "INFO - 2025-10-16T17:55:18Z - Selected dataset version: \"202311\"\n",
      "INFO - 2025-10-16T17:55:18Z - Selected dataset part: \"default\"\n"
     ]
    },
    {
     "name": "stdout",
     "output_type": "stream",
     "text": [
      "glory has no data on 1992-12-17\n"
     ]
    },
    {
     "name": "stderr",
     "output_type": "stream",
     "text": [
      "INFO - 2025-10-16T17:55:20Z - Selected dataset version: \"202311\"\n",
      "INFO - 2025-10-16T17:55:20Z - Selected dataset part: \"default\"\n"
     ]
    },
    {
     "name": "stdout",
     "output_type": "stream",
     "text": [
      "glory has no data on 1992-12-18\n"
     ]
    },
    {
     "name": "stderr",
     "output_type": "stream",
     "text": [
      "INFO - 2025-10-16T17:55:23Z - Selected dataset version: \"202311\"\n",
      "INFO - 2025-10-16T17:55:23Z - Selected dataset part: \"default\"\n"
     ]
    },
    {
     "name": "stdout",
     "output_type": "stream",
     "text": [
      "glory has no data on 1992-12-19\n"
     ]
    },
    {
     "name": "stderr",
     "output_type": "stream",
     "text": [
      "INFO - 2025-10-16T17:55:26Z - Selected dataset version: \"202311\"\n",
      "INFO - 2025-10-16T17:55:26Z - Selected dataset part: \"default\"\n"
     ]
    },
    {
     "name": "stdout",
     "output_type": "stream",
     "text": [
      "glory has no data on 1992-12-20\n"
     ]
    },
    {
     "name": "stderr",
     "output_type": "stream",
     "text": [
      "INFO - 2025-10-16T17:55:28Z - Selected dataset version: \"202311\"\n",
      "INFO - 2025-10-16T17:55:28Z - Selected dataset part: \"default\"\n"
     ]
    },
    {
     "name": "stdout",
     "output_type": "stream",
     "text": [
      "glory has no data on 1992-12-21\n"
     ]
    },
    {
     "name": "stderr",
     "output_type": "stream",
     "text": [
      "INFO - 2025-10-16T17:55:31Z - Selected dataset version: \"202311\"\n",
      "INFO - 2025-10-16T17:55:31Z - Selected dataset part: \"default\"\n"
     ]
    },
    {
     "name": "stdout",
     "output_type": "stream",
     "text": [
      "glory has no data on 1992-12-22\n"
     ]
    },
    {
     "name": "stderr",
     "output_type": "stream",
     "text": [
      "INFO - 2025-10-16T17:55:33Z - Selected dataset version: \"202311\"\n",
      "INFO - 2025-10-16T17:55:33Z - Selected dataset part: \"default\"\n"
     ]
    },
    {
     "name": "stdout",
     "output_type": "stream",
     "text": [
      "glory has no data on 1992-12-23\n"
     ]
    },
    {
     "name": "stderr",
     "output_type": "stream",
     "text": [
      "INFO - 2025-10-16T17:55:36Z - Selected dataset version: \"202311\"\n",
      "INFO - 2025-10-16T17:55:36Z - Selected dataset part: \"default\"\n"
     ]
    },
    {
     "name": "stdout",
     "output_type": "stream",
     "text": [
      "glory has no data on 1992-12-24\n"
     ]
    },
    {
     "name": "stderr",
     "output_type": "stream",
     "text": [
      "INFO - 2025-10-16T17:55:39Z - Selected dataset version: \"202311\"\n",
      "INFO - 2025-10-16T17:55:39Z - Selected dataset part: \"default\"\n"
     ]
    },
    {
     "name": "stdout",
     "output_type": "stream",
     "text": [
      "glory has no data on 1992-12-25\n"
     ]
    },
    {
     "name": "stderr",
     "output_type": "stream",
     "text": [
      "INFO - 2025-10-16T17:55:41Z - Selected dataset version: \"202311\"\n",
      "INFO - 2025-10-16T17:55:41Z - Selected dataset part: \"default\"\n"
     ]
    },
    {
     "name": "stdout",
     "output_type": "stream",
     "text": [
      "glory has no data on 1992-12-26\n"
     ]
    },
    {
     "name": "stderr",
     "output_type": "stream",
     "text": [
      "INFO - 2025-10-16T17:55:44Z - Selected dataset version: \"202311\"\n",
      "INFO - 2025-10-16T17:55:44Z - Selected dataset part: \"default\"\n"
     ]
    },
    {
     "name": "stdout",
     "output_type": "stream",
     "text": [
      "glory has no data on 1992-12-27\n"
     ]
    },
    {
     "name": "stderr",
     "output_type": "stream",
     "text": [
      "INFO - 2025-10-16T17:55:46Z - Selected dataset version: \"202311\"\n",
      "INFO - 2025-10-16T17:55:46Z - Selected dataset part: \"default\"\n"
     ]
    },
    {
     "name": "stdout",
     "output_type": "stream",
     "text": [
      "glory has no data on 1992-12-28\n"
     ]
    },
    {
     "name": "stderr",
     "output_type": "stream",
     "text": [
      "INFO - 2025-10-16T17:55:49Z - Selected dataset version: \"202311\"\n",
      "INFO - 2025-10-16T17:55:49Z - Selected dataset part: \"default\"\n"
     ]
    },
    {
     "name": "stdout",
     "output_type": "stream",
     "text": [
      "glory has no data on 1992-12-29\n"
     ]
    },
    {
     "name": "stderr",
     "output_type": "stream",
     "text": [
      "INFO - 2025-10-16T17:55:51Z - Selected dataset version: \"202311\"\n",
      "INFO - 2025-10-16T17:55:51Z - Selected dataset part: \"default\"\n"
     ]
    },
    {
     "name": "stdout",
     "output_type": "stream",
     "text": [
      "glory has no data on 1992-12-30\n"
     ]
    },
    {
     "name": "stderr",
     "output_type": "stream",
     "text": [
      "INFO - 2025-10-16T17:55:54Z - Selected dataset version: \"202311\"\n",
      "INFO - 2025-10-16T17:55:54Z - Selected dataset part: \"default\"\n"
     ]
    },
    {
     "name": "stdout",
     "output_type": "stream",
     "text": [
      "glory has no data on 1992-12-31\n"
     ]
    },
    {
     "name": "stderr",
     "output_type": "stream",
     "text": [
      "INFO - 2025-10-16T17:55:57Z - Selected dataset version: \"202311\"\n",
      "INFO - 2025-10-16T17:55:57Z - Selected dataset part: \"default\"\n",
      "INFO - 2025-10-16T17:56:03Z - Starting download. Please wait...\n"
     ]
    },
    {
     "data": {
      "application/vnd.jupyter.widget-view+json": {
       "model_id": "d7a58e2d2604472d928e480ed3ee8590",
       "version_major": 2,
       "version_minor": 0
      },
      "text/plain": [
       "  0%|          | 0/70 [00:00<?, ?it/s]"
      ]
     },
     "metadata": {},
     "output_type": "display_data"
    },
    {
     "name": "stderr",
     "output_type": "stream",
     "text": [
      "INFO - 2025-10-16T17:58:41Z - Successfully downloaded to glory_data/glory_1993-01-01_(1).nc\n",
      "INFO - 2025-10-16T17:58:43Z - Selected dataset version: \"202311\"\n",
      "INFO - 2025-10-16T17:58:43Z - Selected dataset part: \"default\"\n",
      "INFO - 2025-10-16T17:58:50Z - Starting download. Please wait...\n"
     ]
    },
    {
     "data": {
      "application/vnd.jupyter.widget-view+json": {
       "model_id": "144770255e9d4320a55d7e0b2816cd34",
       "version_major": 2,
       "version_minor": 0
      },
      "text/plain": [
       "  0%|          | 0/70 [00:00<?, ?it/s]"
      ]
     },
     "metadata": {},
     "output_type": "display_data"
    },
    {
     "name": "stderr",
     "output_type": "stream",
     "text": [
      "INFO - 2025-10-16T18:01:32Z - Successfully downloaded to glory_data/glory_1993-01-02.nc\n",
      "INFO - 2025-10-16T18:01:35Z - Selected dataset version: \"202311\"\n",
      "INFO - 2025-10-16T18:01:35Z - Selected dataset part: \"default\"\n",
      "INFO - 2025-10-16T18:01:42Z - Starting download. Please wait...\n"
     ]
    },
    {
     "data": {
      "application/vnd.jupyter.widget-view+json": {
       "model_id": "d15f7c934e664ca3bfba7b3d07c132d1",
       "version_major": 2,
       "version_minor": 0
      },
      "text/plain": [
       "  0%|          | 0/70 [00:00<?, ?it/s]"
      ]
     },
     "metadata": {},
     "output_type": "display_data"
    },
    {
     "name": "stderr",
     "output_type": "stream",
     "text": [
      "INFO - 2025-10-16T18:05:02Z - Successfully downloaded to glory_data/glory_1993-01-03.nc\n",
      "INFO - 2025-10-16T18:05:06Z - Selected dataset version: \"202311\"\n",
      "INFO - 2025-10-16T18:05:06Z - Selected dataset part: \"default\"\n",
      "INFO - 2025-10-16T18:05:13Z - Starting download. Please wait...\n"
     ]
    },
    {
     "data": {
      "application/vnd.jupyter.widget-view+json": {
       "model_id": "6773da2d389d47ebbed53756b8221a50",
       "version_major": 2,
       "version_minor": 0
      },
      "text/plain": [
       "  0%|          | 0/70 [00:00<?, ?it/s]"
      ]
     },
     "metadata": {},
     "output_type": "display_data"
    },
    {
     "name": "stderr",
     "output_type": "stream",
     "text": [
      "INFO - 2025-10-16T18:08:30Z - Successfully downloaded to glory_data/glory_1993-01-04.nc\n",
      "INFO - 2025-10-16T18:08:33Z - Selected dataset version: \"202311\"\n",
      "INFO - 2025-10-16T18:08:33Z - Selected dataset part: \"default\"\n",
      "INFO - 2025-10-16T18:08:40Z - Starting download. Please wait...\n"
     ]
    },
    {
     "data": {
      "application/vnd.jupyter.widget-view+json": {
       "model_id": "73ff5e1647fc47618bc9b1460ac0ecf4",
       "version_major": 2,
       "version_minor": 0
      },
      "text/plain": [
       "  0%|          | 0/70 [00:00<?, ?it/s]"
      ]
     },
     "metadata": {},
     "output_type": "display_data"
    },
    {
     "name": "stderr",
     "output_type": "stream",
     "text": [
      "INFO - 2025-10-16T18:12:10Z - Successfully downloaded to glory_data/glory_1993-01-05.nc\n",
      "INFO - 2025-10-16T18:12:13Z - Selected dataset version: \"202311\"\n",
      "INFO - 2025-10-16T18:12:13Z - Selected dataset part: \"default\"\n",
      "INFO - 2025-10-16T18:12:21Z - Starting download. Please wait...\n"
     ]
    },
    {
     "data": {
      "application/vnd.jupyter.widget-view+json": {
       "model_id": "63db91f1973348ed916e8241372aac5b",
       "version_major": 2,
       "version_minor": 0
      },
      "text/plain": [
       "  0%|          | 0/70 [00:00<?, ?it/s]"
      ]
     },
     "metadata": {},
     "output_type": "display_data"
    },
    {
     "name": "stderr",
     "output_type": "stream",
     "text": [
      "INFO - 2025-10-16T18:15:25Z - Successfully downloaded to glory_data/glory_1993-01-06.nc\n",
      "INFO - 2025-10-16T18:15:29Z - Selected dataset version: \"202311\"\n",
      "INFO - 2025-10-16T18:15:29Z - Selected dataset part: \"default\"\n",
      "INFO - 2025-10-16T18:15:36Z - Starting download. Please wait...\n"
     ]
    },
    {
     "data": {
      "application/vnd.jupyter.widget-view+json": {
       "model_id": "1ba164711d0344b4848154b3b220c445",
       "version_major": 2,
       "version_minor": 0
      },
      "text/plain": [
       "  0%|          | 0/70 [00:00<?, ?it/s]"
      ]
     },
     "metadata": {},
     "output_type": "display_data"
    },
    {
     "name": "stderr",
     "output_type": "stream",
     "text": [
      "INFO - 2025-10-16T18:18:40Z - Successfully downloaded to glory_data/glory_1993-01-07.nc\n",
      "INFO - 2025-10-16T18:18:44Z - Selected dataset version: \"202311\"\n",
      "INFO - 2025-10-16T18:18:44Z - Selected dataset part: \"default\"\n",
      "INFO - 2025-10-16T18:18:50Z - Starting download. Please wait...\n"
     ]
    },
    {
     "data": {
      "application/vnd.jupyter.widget-view+json": {
       "model_id": "bdfd1909858e4769a43ef675c8429780",
       "version_major": 2,
       "version_minor": 0
      },
      "text/plain": [
       "  0%|          | 0/70 [00:00<?, ?it/s]"
      ]
     },
     "metadata": {},
     "output_type": "display_data"
    },
    {
     "name": "stderr",
     "output_type": "stream",
     "text": [
      "INFO - 2025-10-16T18:22:31Z - Successfully downloaded to glory_data/glory_1993-01-08.nc\n",
      "INFO - 2025-10-16T18:22:35Z - Selected dataset version: \"202311\"\n",
      "INFO - 2025-10-16T18:22:35Z - Selected dataset part: \"default\"\n",
      "INFO - 2025-10-16T18:22:41Z - Starting download. Please wait...\n"
     ]
    },
    {
     "data": {
      "application/vnd.jupyter.widget-view+json": {
       "model_id": "cbcbfe9d11314586a327a470d5ceb1d0",
       "version_major": 2,
       "version_minor": 0
      },
      "text/plain": [
       "  0%|          | 0/70 [00:00<?, ?it/s]"
      ]
     },
     "metadata": {},
     "output_type": "display_data"
    },
    {
     "name": "stderr",
     "output_type": "stream",
     "text": [
      "INFO - 2025-10-16T18:25:38Z - Successfully downloaded to glory_data/glory_1993-01-09.nc\n",
      "INFO - 2025-10-16T18:25:41Z - Selected dataset version: \"202311\"\n",
      "INFO - 2025-10-16T18:25:41Z - Selected dataset part: \"default\"\n",
      "INFO - 2025-10-16T18:25:48Z - Starting download. Please wait...\n"
     ]
    },
    {
     "data": {
      "application/vnd.jupyter.widget-view+json": {
       "model_id": "b58b96fbfa5b471ebdddad6f9b2b0cf8",
       "version_major": 2,
       "version_minor": 0
      },
      "text/plain": [
       "  0%|          | 0/70 [00:00<?, ?it/s]"
      ]
     },
     "metadata": {},
     "output_type": "display_data"
    },
    {
     "name": "stderr",
     "output_type": "stream",
     "text": [
      "INFO - 2025-10-16T18:29:05Z - Successfully downloaded to glory_data/glory_1993-01-10.nc\n",
      "INFO - 2025-10-16T18:29:08Z - Selected dataset version: \"202311\"\n",
      "INFO - 2025-10-16T18:29:08Z - Selected dataset part: \"default\"\n",
      "INFO - 2025-10-16T18:29:16Z - Starting download. Please wait...\n"
     ]
    },
    {
     "data": {
      "application/vnd.jupyter.widget-view+json": {
       "model_id": "3f75f493b0024e01a420c1656a2d482e",
       "version_major": 2,
       "version_minor": 0
      },
      "text/plain": [
       "  0%|          | 0/70 [00:00<?, ?it/s]"
      ]
     },
     "metadata": {},
     "output_type": "display_data"
    },
    {
     "name": "stderr",
     "output_type": "stream",
     "text": [
      "INFO - 2025-10-16T18:32:21Z - Successfully downloaded to glory_data/glory_1993-01-11.nc\n",
      "INFO - 2025-10-16T18:32:24Z - Selected dataset version: \"202311\"\n",
      "INFO - 2025-10-16T18:32:24Z - Selected dataset part: \"default\"\n",
      "INFO - 2025-10-16T18:32:31Z - Starting download. Please wait...\n"
     ]
    },
    {
     "data": {
      "application/vnd.jupyter.widget-view+json": {
       "model_id": "dac69f6c818a48ac9fcbed69a41c4d94",
       "version_major": 2,
       "version_minor": 0
      },
      "text/plain": [
       "  0%|          | 0/70 [00:00<?, ?it/s]"
      ]
     },
     "metadata": {},
     "output_type": "display_data"
    },
    {
     "name": "stderr",
     "output_type": "stream",
     "text": [
      "INFO - 2025-10-16T18:36:29Z - Successfully downloaded to glory_data/glory_1993-01-12.nc\n",
      "INFO - 2025-10-16T18:36:32Z - Selected dataset version: \"202311\"\n",
      "INFO - 2025-10-16T18:36:32Z - Selected dataset part: \"default\"\n",
      "INFO - 2025-10-16T18:36:40Z - Starting download. Please wait...\n"
     ]
    },
    {
     "data": {
      "application/vnd.jupyter.widget-view+json": {
       "model_id": "379fbbc4bbd346dcab5a680ae016a153",
       "version_major": 2,
       "version_minor": 0
      },
      "text/plain": [
       "  0%|          | 0/70 [00:00<?, ?it/s]"
      ]
     },
     "metadata": {},
     "output_type": "display_data"
    },
    {
     "name": "stderr",
     "output_type": "stream",
     "text": [
      "INFO - 2025-10-16T18:39:18Z - Successfully downloaded to glory_data/glory_1993-01-13.nc\n",
      "INFO - 2025-10-16T18:39:21Z - Selected dataset version: \"202311\"\n",
      "INFO - 2025-10-16T18:39:21Z - Selected dataset part: \"default\"\n",
      "INFO - 2025-10-16T18:39:29Z - Starting download. Please wait...\n"
     ]
    },
    {
     "data": {
      "application/vnd.jupyter.widget-view+json": {
       "model_id": "4d2c3a5689b04bb58f86fc4cfb968e10",
       "version_major": 2,
       "version_minor": 0
      },
      "text/plain": [
       "  0%|          | 0/70 [00:00<?, ?it/s]"
      ]
     },
     "metadata": {},
     "output_type": "display_data"
    },
    {
     "name": "stderr",
     "output_type": "stream",
     "text": [
      "INFO - 2025-10-16T18:42:41Z - Successfully downloaded to glory_data/glory_1993-01-14.nc\n",
      "INFO - 2025-10-16T18:42:45Z - Selected dataset version: \"202311\"\n",
      "INFO - 2025-10-16T18:42:45Z - Selected dataset part: \"default\"\n",
      "INFO - 2025-10-16T18:42:51Z - Starting download. Please wait...\n"
     ]
    },
    {
     "data": {
      "application/vnd.jupyter.widget-view+json": {
       "model_id": "e244f11312174ec7b6bdcb262255838d",
       "version_major": 2,
       "version_minor": 0
      },
      "text/plain": [
       "  0%|          | 0/70 [00:00<?, ?it/s]"
      ]
     },
     "metadata": {},
     "output_type": "display_data"
    },
    {
     "name": "stderr",
     "output_type": "stream",
     "text": [
      "INFO - 2025-10-16T18:46:26Z - Successfully downloaded to glory_data/glory_1993-01-15.nc\n",
      "INFO - 2025-10-16T18:46:30Z - Selected dataset version: \"202311\"\n",
      "INFO - 2025-10-16T18:46:30Z - Selected dataset part: \"default\"\n",
      "INFO - 2025-10-16T18:46:38Z - Starting download. Please wait...\n"
     ]
    },
    {
     "data": {
      "application/vnd.jupyter.widget-view+json": {
       "model_id": "ce8e9375dd8749269b7b6e5c9fd00297",
       "version_major": 2,
       "version_minor": 0
      },
      "text/plain": [
       "  0%|          | 0/70 [00:00<?, ?it/s]"
      ]
     },
     "metadata": {},
     "output_type": "display_data"
    },
    {
     "name": "stderr",
     "output_type": "stream",
     "text": [
      "INFO - 2025-10-16T18:50:06Z - Successfully downloaded to glory_data/glory_1993-01-16.nc\n",
      "INFO - 2025-10-16T18:50:09Z - Selected dataset version: \"202311\"\n",
      "INFO - 2025-10-16T18:50:09Z - Selected dataset part: \"default\"\n",
      "INFO - 2025-10-16T18:50:17Z - Starting download. Please wait...\n"
     ]
    },
    {
     "data": {
      "application/vnd.jupyter.widget-view+json": {
       "model_id": "125b6bda57be4229adfb1ba787478df0",
       "version_major": 2,
       "version_minor": 0
      },
      "text/plain": [
       "  0%|          | 0/70 [00:00<?, ?it/s]"
      ]
     },
     "metadata": {},
     "output_type": "display_data"
    },
    {
     "name": "stderr",
     "output_type": "stream",
     "text": [
      "INFO - 2025-10-16T18:53:04Z - Successfully downloaded to glory_data/glory_1993-01-17.nc\n",
      "INFO - 2025-10-16T18:53:07Z - Selected dataset version: \"202311\"\n",
      "INFO - 2025-10-16T18:53:07Z - Selected dataset part: \"default\"\n",
      "INFO - 2025-10-16T18:53:13Z - Starting download. Please wait...\n"
     ]
    },
    {
     "data": {
      "application/vnd.jupyter.widget-view+json": {
       "model_id": "618d9863cd2945c095506e314751dd25",
       "version_major": 2,
       "version_minor": 0
      },
      "text/plain": [
       "  0%|          | 0/70 [00:00<?, ?it/s]"
      ]
     },
     "metadata": {},
     "output_type": "display_data"
    },
    {
     "name": "stderr",
     "output_type": "stream",
     "text": [
      "INFO - 2025-10-16T18:56:58Z - Successfully downloaded to glory_data/glory_1993-01-18.nc\n",
      "INFO - 2025-10-16T18:57:02Z - Selected dataset version: \"202311\"\n",
      "INFO - 2025-10-16T18:57:02Z - Selected dataset part: \"default\"\n",
      "INFO - 2025-10-16T18:57:09Z - Starting download. Please wait...\n"
     ]
    },
    {
     "data": {
      "application/vnd.jupyter.widget-view+json": {
       "model_id": "7e914a8508ed44e6bd342aa08e721a4f",
       "version_major": 2,
       "version_minor": 0
      },
      "text/plain": [
       "  0%|          | 0/70 [00:00<?, ?it/s]"
      ]
     },
     "metadata": {},
     "output_type": "display_data"
    },
    {
     "name": "stderr",
     "output_type": "stream",
     "text": [
      "INFO - 2025-10-16T19:00:45Z - Successfully downloaded to glory_data/glory_1993-01-19.nc\n",
      "INFO - 2025-10-16T19:00:48Z - Selected dataset version: \"202311\"\n",
      "INFO - 2025-10-16T19:00:48Z - Selected dataset part: \"default\"\n",
      "INFO - 2025-10-16T19:00:56Z - Starting download. Please wait...\n"
     ]
    },
    {
     "data": {
      "application/vnd.jupyter.widget-view+json": {
       "model_id": "30dc6b01b6ae464cbd475dda1d337ea8",
       "version_major": 2,
       "version_minor": 0
      },
      "text/plain": [
       "  0%|          | 0/70 [00:00<?, ?it/s]"
      ]
     },
     "metadata": {},
     "output_type": "display_data"
    },
    {
     "name": "stderr",
     "output_type": "stream",
     "text": [
      "INFO - 2025-10-16T19:04:21Z - Successfully downloaded to glory_data/glory_1993-01-20.nc\n",
      "INFO - 2025-10-16T19:04:25Z - Selected dataset version: \"202311\"\n",
      "INFO - 2025-10-16T19:04:25Z - Selected dataset part: \"default\"\n",
      "INFO - 2025-10-16T19:04:32Z - Starting download. Please wait...\n"
     ]
    },
    {
     "data": {
      "application/vnd.jupyter.widget-view+json": {
       "model_id": "67b8d8a7aa3b453db219b059095cf6ed",
       "version_major": 2,
       "version_minor": 0
      },
      "text/plain": [
       "  0%|          | 0/70 [00:00<?, ?it/s]"
      ]
     },
     "metadata": {},
     "output_type": "display_data"
    },
    {
     "name": "stderr",
     "output_type": "stream",
     "text": [
      "INFO - 2025-10-16T19:08:09Z - Successfully downloaded to glory_data/glory_1993-01-21.nc\n",
      "INFO - 2025-10-16T19:08:12Z - Selected dataset version: \"202311\"\n",
      "INFO - 2025-10-16T19:08:12Z - Selected dataset part: \"default\"\n",
      "INFO - 2025-10-16T19:08:18Z - Starting download. Please wait...\n"
     ]
    },
    {
     "data": {
      "application/vnd.jupyter.widget-view+json": {
       "model_id": "ac40cd856a9547c3b84f738bd9cc3b4f",
       "version_major": 2,
       "version_minor": 0
      },
      "text/plain": [
       "  0%|          | 0/70 [00:00<?, ?it/s]"
      ]
     },
     "metadata": {},
     "output_type": "display_data"
    },
    {
     "name": "stderr",
     "output_type": "stream",
     "text": [
      "INFO - 2025-10-16T19:12:18Z - Successfully downloaded to glory_data/glory_1993-01-22.nc\n",
      "INFO - 2025-10-16T19:12:21Z - Selected dataset version: \"202311\"\n",
      "INFO - 2025-10-16T19:12:21Z - Selected dataset part: \"default\"\n",
      "INFO - 2025-10-16T19:12:28Z - Starting download. Please wait...\n"
     ]
    },
    {
     "data": {
      "application/vnd.jupyter.widget-view+json": {
       "model_id": "776faf673cb74e888853532318e41d28",
       "version_major": 2,
       "version_minor": 0
      },
      "text/plain": [
       "  0%|          | 0/70 [00:00<?, ?it/s]"
      ]
     },
     "metadata": {},
     "output_type": "display_data"
    },
    {
     "name": "stderr",
     "output_type": "stream",
     "text": [
      "INFO - 2025-10-16T19:16:01Z - Successfully downloaded to glory_data/glory_1993-01-23.nc\n",
      "INFO - 2025-10-16T19:16:04Z - Selected dataset version: \"202311\"\n",
      "INFO - 2025-10-16T19:16:04Z - Selected dataset part: \"default\"\n",
      "INFO - 2025-10-16T19:16:11Z - Starting download. Please wait...\n"
     ]
    },
    {
     "data": {
      "application/vnd.jupyter.widget-view+json": {
       "model_id": "f5ba28a375e842b9bc2659764c39d4c9",
       "version_major": 2,
       "version_minor": 0
      },
      "text/plain": [
       "  0%|          | 0/70 [00:00<?, ?it/s]"
      ]
     },
     "metadata": {},
     "output_type": "display_data"
    },
    {
     "name": "stderr",
     "output_type": "stream",
     "text": [
      "INFO - 2025-10-16T19:19:23Z - Successfully downloaded to glory_data/glory_1993-01-24.nc\n",
      "INFO - 2025-10-16T19:19:26Z - Selected dataset version: \"202311\"\n",
      "INFO - 2025-10-16T19:19:26Z - Selected dataset part: \"default\"\n",
      "INFO - 2025-10-16T19:19:33Z - Starting download. Please wait...\n"
     ]
    },
    {
     "data": {
      "application/vnd.jupyter.widget-view+json": {
       "model_id": "ec9a42d4e42a40df92f064bd6598533f",
       "version_major": 2,
       "version_minor": 0
      },
      "text/plain": [
       "  0%|          | 0/70 [00:00<?, ?it/s]"
      ]
     },
     "metadata": {},
     "output_type": "display_data"
    },
    {
     "name": "stderr",
     "output_type": "stream",
     "text": [
      "INFO - 2025-10-16T19:22:54Z - Successfully downloaded to glory_data/glory_1993-01-25.nc\n",
      "INFO - 2025-10-16T19:22:57Z - Selected dataset version: \"202311\"\n",
      "INFO - 2025-10-16T19:22:57Z - Selected dataset part: \"default\"\n",
      "INFO - 2025-10-16T19:23:04Z - Starting download. Please wait...\n"
     ]
    },
    {
     "data": {
      "application/vnd.jupyter.widget-view+json": {
       "model_id": "2aa4621cca0742618ff56864c0146db9",
       "version_major": 2,
       "version_minor": 0
      },
      "text/plain": [
       "  0%|          | 0/70 [00:00<?, ?it/s]"
      ]
     },
     "metadata": {},
     "output_type": "display_data"
    },
    {
     "name": "stderr",
     "output_type": "stream",
     "text": [
      "INFO - 2025-10-16T19:26:02Z - Successfully downloaded to glory_data/glory_1993-01-26.nc\n",
      "INFO - 2025-10-16T19:26:06Z - Selected dataset version: \"202311\"\n",
      "INFO - 2025-10-16T19:26:06Z - Selected dataset part: \"default\"\n",
      "INFO - 2025-10-16T19:26:13Z - Starting download. Please wait...\n"
     ]
    },
    {
     "data": {
      "application/vnd.jupyter.widget-view+json": {
       "model_id": "f58b3ea3d0894a7cab33e4312c1d1f59",
       "version_major": 2,
       "version_minor": 0
      },
      "text/plain": [
       "  0%|          | 0/70 [00:00<?, ?it/s]"
      ]
     },
     "metadata": {},
     "output_type": "display_data"
    },
    {
     "name": "stderr",
     "output_type": "stream",
     "text": [
      "INFO - 2025-10-16T19:29:13Z - Successfully downloaded to glory_data/glory_1993-01-27.nc\n",
      "INFO - 2025-10-16T19:29:16Z - Selected dataset version: \"202311\"\n",
      "INFO - 2025-10-16T19:29:16Z - Selected dataset part: \"default\"\n",
      "INFO - 2025-10-16T19:29:22Z - Starting download. Please wait...\n"
     ]
    },
    {
     "data": {
      "application/vnd.jupyter.widget-view+json": {
       "model_id": "7134def42afd41578a93ab137e276a02",
       "version_major": 2,
       "version_minor": 0
      },
      "text/plain": [
       "  0%|          | 0/70 [00:00<?, ?it/s]"
      ]
     },
     "metadata": {},
     "output_type": "display_data"
    },
    {
     "name": "stderr",
     "output_type": "stream",
     "text": [
      "INFO - 2025-10-16T19:32:35Z - Successfully downloaded to glory_data/glory_1993-01-28.nc\n",
      "INFO - 2025-10-16T19:32:38Z - Selected dataset version: \"202311\"\n",
      "INFO - 2025-10-16T19:32:38Z - Selected dataset part: \"default\"\n"
     ]
    },
    {
     "name": "stdout",
     "output_type": "stream",
     "text": [
      "glory has no data on 1993-1-29\n"
     ]
    }
   ],
   "source": [
    "output_directory = \"glory_data\"\n",
    "for idt,dt in enumerate(dt_list):\n",
    "    year=dt.year\n",
    "    month=dt.month\n",
    "    day=dt.day\n",
    "    output_file_name = f\"glory_{year:04}-{month:02}-{day:02}.nc\"\n",
    "    if os.path.exists(output_file_name):\n",
    "        print(f' {output_file_name} exist!')\n",
    "        continue\n",
    "    try:\n",
    "        copernicusmarine.subset(\n",
    "        dataset_id=\"cmems_mod_glo_phy_my_0.083deg_P1D-m\",\n",
    "        variables=[\"so\", \"thetao\", \"uo\", \"vo\", \"zos\"],\n",
    "        output_directory=output_directory,\n",
    "        output_filename=output_file_name,\n",
    "        minimum_longitude=-100-1,\n",
    "        maximum_longitude=-35+1,\n",
    "        minimum_latitude=0-1,\n",
    "        maximum_latitude=60+1,\n",
    "        start_datetime=f\"{year:04}-{month:02}-{day:02}T00:00:00\",\n",
    "        end_datetime=f\"{year:04}-{month:02}-{day:02}T00:00:00\",\n",
    "        minimum_depth=0.49402499198913574,\n",
    "        maximum_depth=5727.9169921875,\n",
    "        )\n",
    "    except:\n",
    "        print(f'glory has no data on {year}-{month}-{day}')"
   ]
  },
  {
   "cell_type": "code",
   "execution_count": 22,
   "id": "1185e0a1",
   "metadata": {},
   "outputs": [
    {
     "name": "stderr",
     "output_type": "stream",
     "text": [
      "INFO - 2025-10-16T16:40:27Z - Selected dataset version: \"202311\"\n",
      "INFO - 2025-10-16T16:40:27Z - Selected dataset part: \"default\"\n",
      "INFO - 2025-10-16T16:40:34Z - Starting download. Please wait...\n"
     ]
    },
    {
     "data": {
      "application/vnd.jupyter.widget-view+json": {
       "model_id": "e337f9bf834d4fbbacbc60a758a8a24b",
       "version_major": 2,
       "version_minor": 0
      },
      "text/plain": [
       "  0%|          | 0/70 [00:00<?, ?it/s]"
      ]
     },
     "metadata": {},
     "output_type": "display_data"
    },
    {
     "name": "stderr",
     "output_type": "stream",
     "text": [
      "INFO - 2025-10-16T16:43:01Z - Successfully downloaded to glory_data/glory_1993-01-01.nc\n"
     ]
    },
    {
     "data": {
      "text/plain": [
       "ResponseSubset(file_path=PosixPath('glory_data/glory_1993-01-01.nc'), output_directory=PosixPath('glory_data'), filename='glory_1993-01-01.nc', file_size=286.14133969465644, data_transfer_size=4922.704122137404, variables=['so', 'thetao', 'uo', 'vo', 'zos'], coordinates_extent=[GeographicalExtent(minimum=-101.0, maximum=-34.0, unit='degrees_east', coordinate_id='longitude'), GeographicalExtent(minimum=-1.0, maximum=61.0, unit='degrees_north', coordinate_id='latitude'), TimeExtent(minimum='1993-01-01T00:00:00+00:00', maximum='1993-01-01T00:00:00+00:00', unit='iso8601', coordinate_id='time'), GeographicalExtent(minimum=0.49402499198913574, maximum=5727.9169921875, unit='m', coordinate_id='depth')], status='000', message='The request was successful.', file_status='DOWNLOADED')"
      ]
     },
     "execution_count": 22,
     "metadata": {},
     "output_type": "execute_result"
    }
   ],
   "source": [
    "\n",
    "output_file_name = f\"glory_{year:04}-{month:02}-{day:02}.nc\"\n",
    "copernicusmarine.subset(\n",
    "  dataset_id=\"cmems_mod_glo_phy_my_0.083deg_P1D-m\",\n",
    "  variables=[\"so\", \"thetao\", \"uo\", \"vo\", \"zos\"],\n",
    "  output_directory=output_directory,\n",
    "  output_filename=output_file_name,\n",
    "  minimum_longitude=-100-1,\n",
    "  maximum_longitude=-35+1,\n",
    "  minimum_latitude=0-1,\n",
    "  maximum_latitude=60+1,\n",
    "  start_datetime=f\"{year:04}-{month:02}-{day:02}T00:00:00\",\n",
    "  end_datetime=f\"{year:04}-{month:02}-{day:02}T00:00:00\",\n",
    "  minimum_depth=0.49402499198913574,\n",
    "  maximum_depth=5727.9169921875,\n",
    ")"
   ]
  },
  {
   "cell_type": "code",
   "execution_count": 15,
   "id": "fd683e48",
   "metadata": {},
   "outputs": [
    {
     "name": "stderr",
     "output_type": "stream",
     "text": [
      "INFO - 2025-10-16T16:16:01Z - Selected dataset version: \"202311\"\n",
      "INFO - 2025-10-16T16:16:01Z - Selected dataset part: \"default\"\n",
      "WARNING - 2025-10-16T16:16:01Z - Some of your subset selection [1992-12-31 00:00:00+00:00, 1994-06-30 00:00:00+00:00] for the time dimension exceed the dataset coordinates [1993-01-01 00:00:00+00:00, 2021-06-30 00:00:00+00:00]\n",
      "INFO - 2025-10-16T16:17:37Z - Starting download. Please wait...\n"
     ]
    },
    {
     "data": {
      "application/vnd.jupyter.widget-view+json": {
       "model_id": "fb87e1687e614fc7bf1e3725940ec812",
       "version_major": 2,
       "version_minor": 0
      },
      "text/plain": [
       "  0%|          | 0/16643 [00:00<?, ?it/s]"
      ]
     },
     "metadata": {},
     "output_type": "display_data"
    },
    {
     "ename": "KeyboardInterrupt",
     "evalue": "",
     "output_type": "error",
     "traceback": [
      "\u001b[31m---------------------------------------------------------------------------\u001b[39m",
      "\u001b[31mKeyboardInterrupt\u001b[39m                         Traceback (most recent call last)",
      "\u001b[36mCell\u001b[39m\u001b[36m \u001b[39m\u001b[32mIn[15]\u001b[39m\u001b[32m, line 3\u001b[39m\n\u001b[32m      1\u001b[39m \u001b[38;5;28;01mimport\u001b[39;00m\u001b[38;5;250m \u001b[39m\u001b[34;01mcopernicusmarine\u001b[39;00m\n\u001b[32m----> \u001b[39m\u001b[32m3\u001b[39m \u001b[43mcopernicusmarine\u001b[49m\u001b[43m.\u001b[49m\u001b[43msubset\u001b[49m\u001b[43m(\u001b[49m\n\u001b[32m      4\u001b[39m \u001b[43m  \u001b[49m\u001b[43mdataset_id\u001b[49m\u001b[43m=\u001b[49m\u001b[33;43m\"\u001b[39;49m\u001b[33;43mcmems_mod_glo_phy_my_0.083deg_P1D-m\u001b[39;49m\u001b[33;43m\"\u001b[39;49m\u001b[43m,\u001b[49m\n\u001b[32m      5\u001b[39m \u001b[43m  \u001b[49m\u001b[43moutput_directory\u001b[49m\u001b[43m=\u001b[49m\u001b[43moutput_directory\u001b[49m\u001b[43m,\u001b[49m\n\u001b[32m      6\u001b[39m \u001b[43m  \u001b[49m\u001b[43mvariables\u001b[49m\u001b[43m=\u001b[49m\u001b[43m[\u001b[49m\u001b[33;43m\"\u001b[39;49m\u001b[33;43mso\u001b[39;49m\u001b[33;43m\"\u001b[39;49m\u001b[43m,\u001b[49m\u001b[43m \u001b[49m\u001b[33;43m\"\u001b[39;49m\u001b[33;43mthetao\u001b[39;49m\u001b[33;43m\"\u001b[39;49m\u001b[43m,\u001b[49m\u001b[43m \u001b[49m\u001b[33;43m\"\u001b[39;49m\u001b[33;43muo\u001b[39;49m\u001b[33;43m\"\u001b[39;49m\u001b[43m,\u001b[49m\u001b[43m \u001b[49m\u001b[33;43m\"\u001b[39;49m\u001b[33;43mvo\u001b[39;49m\u001b[33;43m\"\u001b[39;49m\u001b[43m,\u001b[49m\u001b[43m \u001b[49m\u001b[33;43m\"\u001b[39;49m\u001b[33;43mzos\u001b[39;49m\u001b[33;43m\"\u001b[39;49m\u001b[43m]\u001b[49m\u001b[43m,\u001b[49m\n\u001b[32m      7\u001b[39m \u001b[43m  \u001b[49m\u001b[43mminimum_longitude\u001b[49m\u001b[43m=\u001b[49m\u001b[43m-\u001b[49m\u001b[32;43m100\u001b[39;49m\u001b[43m-\u001b[49m\u001b[32;43m1\u001b[39;49m\u001b[43m,\u001b[49m\n\u001b[32m      8\u001b[39m \u001b[43m  \u001b[49m\u001b[43mmaximum_longitude\u001b[49m\u001b[43m=\u001b[49m\u001b[43m-\u001b[49m\u001b[32;43m35\u001b[39;49m\u001b[43m+\u001b[49m\u001b[32;43m1\u001b[39;49m\u001b[43m,\u001b[49m\n\u001b[32m      9\u001b[39m \u001b[43m  \u001b[49m\u001b[43mminimum_latitude\u001b[49m\u001b[43m=\u001b[49m\u001b[32;43m0\u001b[39;49m\u001b[43m-\u001b[49m\u001b[32;43m1\u001b[39;49m\u001b[43m,\u001b[49m\n\u001b[32m     10\u001b[39m \u001b[43m  \u001b[49m\u001b[43mmaximum_latitude\u001b[49m\u001b[43m=\u001b[49m\u001b[32;43m60\u001b[39;49m\u001b[43m+\u001b[49m\u001b[32;43m1\u001b[39;49m\u001b[43m,\u001b[49m\n\u001b[32m     11\u001b[39m \u001b[43m  \u001b[49m\u001b[43mstart_datetime\u001b[49m\u001b[43m=\u001b[49m\u001b[33;43m\"\u001b[39;49m\u001b[33;43m1992-12-31T00:00:00\u001b[39;49m\u001b[33;43m\"\u001b[39;49m\u001b[43m,\u001b[49m\n\u001b[32m     12\u001b[39m \u001b[43m  \u001b[49m\u001b[43mend_datetime\u001b[49m\u001b[43m=\u001b[49m\u001b[33;43m\"\u001b[39;49m\u001b[33;43m1994-06-30T00:00:00\u001b[39;49m\u001b[33;43m\"\u001b[39;49m\u001b[43m,\u001b[49m\n\u001b[32m     13\u001b[39m \u001b[43m  \u001b[49m\u001b[43mminimum_depth\u001b[49m\u001b[43m=\u001b[49m\u001b[32;43m0.49402499198913574\u001b[39;49m\u001b[43m,\u001b[49m\n\u001b[32m     14\u001b[39m \u001b[43m  \u001b[49m\u001b[43mmaximum_depth\u001b[49m\u001b[43m=\u001b[49m\u001b[32;43m5727.9169921875\u001b[39;49m\u001b[43m,\u001b[49m\n\u001b[32m     15\u001b[39m \u001b[43m)\u001b[49m\n",
      "\u001b[36mFile \u001b[39m\u001b[32m/opt/anaconda3/envs/mommy/lib/python3.13/site-packages/copernicusmarine/core_functions/deprecated_options.py:78\u001b[39m, in \u001b[36mdeprecated_python_option.<locals>.deco.<locals>.wrapper\u001b[39m\u001b[34m(*args, **kwargs)\u001b[39m\n\u001b[32m     75\u001b[39m \u001b[38;5;129m@functools\u001b[39m.wraps(f)\n\u001b[32m     76\u001b[39m \u001b[38;5;28;01mdef\u001b[39;00m\u001b[38;5;250m \u001b[39m\u001b[34mwrapper\u001b[39m(*args, **kwargs):\n\u001b[32m     77\u001b[39m     rename_kwargs(f.\u001b[34m__name__\u001b[39m, kwargs, aliases)\n\u001b[32m---> \u001b[39m\u001b[32m78\u001b[39m     \u001b[38;5;28;01mreturn\u001b[39;00m \u001b[43mf\u001b[49m\u001b[43m(\u001b[49m\u001b[43m*\u001b[49m\u001b[43margs\u001b[49m\u001b[43m,\u001b[49m\u001b[43m \u001b[49m\u001b[43m*\u001b[49m\u001b[43m*\u001b[49m\u001b[43mkwargs\u001b[49m\u001b[43m)\u001b[49m\n",
      "\u001b[36mFile \u001b[39m\u001b[32m/opt/anaconda3/envs/mommy/lib/python3.13/site-packages/copernicusmarine/python_interface/exception_handler.py:13\u001b[39m, in \u001b[36mlog_exception_and_exit.<locals>.wrapper\u001b[39m\u001b[34m(*args, **kwargs)\u001b[39m\n\u001b[32m     10\u001b[39m \u001b[38;5;129m@wraps\u001b[39m(function)\n\u001b[32m     11\u001b[39m \u001b[38;5;28;01mdef\u001b[39;00m\u001b[38;5;250m \u001b[39m\u001b[34mwrapper\u001b[39m(*args, **kwargs):\n\u001b[32m     12\u001b[39m     \u001b[38;5;28;01mtry\u001b[39;00m:\n\u001b[32m---> \u001b[39m\u001b[32m13\u001b[39m         \u001b[38;5;28;01mreturn\u001b[39;00m \u001b[43mfunction\u001b[49m\u001b[43m(\u001b[49m\u001b[43m*\u001b[49m\u001b[43margs\u001b[49m\u001b[43m,\u001b[49m\u001b[43m \u001b[49m\u001b[43m*\u001b[49m\u001b[43m*\u001b[49m\u001b[43mkwargs\u001b[49m\u001b[43m)\u001b[49m\n\u001b[32m     14\u001b[39m     \u001b[38;5;28;01mexcept\u001b[39;00m click.Abort:\n\u001b[32m     15\u001b[39m         \u001b[38;5;28mprint\u001b[39m(\u001b[33m\"\u001b[39m\u001b[33mAbort\u001b[39m\u001b[33m\"\u001b[39m)\n",
      "\u001b[36mFile \u001b[39m\u001b[32m/opt/anaconda3/envs/mommy/lib/python3.13/site-packages/copernicusmarine/python_interface/subset.py:195\u001b[39m, in \u001b[36msubset\u001b[39m\u001b[34m(dataset_id, dataset_version, dataset_part, username, password, variables, minimum_longitude, maximum_longitude, minimum_latitude, maximum_latitude, minimum_depth, maximum_depth, vertical_axis, start_datetime, end_datetime, minimum_x, maximum_x, minimum_y, maximum_y, coordinates_selection_method, output_filename, file_format, service, request_file, output_directory, credentials_file, motu_api_request, overwrite, skip_existing, dry_run, disable_progress_bar, staging, netcdf_compression_level, netcdf3_compatible, chunk_size_limit, raise_if_updating, platform_ids)\u001b[39m\n\u001b[32m    176\u001b[39m end_datetime = homogenize_datetime(end_datetime)\n\u001b[32m    178\u001b[39m (\n\u001b[32m    179\u001b[39m     minimum_x_axis,\n\u001b[32m    180\u001b[39m     maximum_x_axis,\n\u001b[32m   (...)\u001b[39m\u001b[32m    192\u001b[39m     dataset_part,\n\u001b[32m    193\u001b[39m )\n\u001b[32m--> \u001b[39m\u001b[32m195\u001b[39m \u001b[38;5;28;01mreturn\u001b[39;00m \u001b[43msubset_function\u001b[49m\u001b[43m(\u001b[49m\n\u001b[32m    196\u001b[39m \u001b[43m    \u001b[49m\u001b[43mdataset_id\u001b[49m\u001b[43m,\u001b[49m\n\u001b[32m    197\u001b[39m \u001b[43m    \u001b[49m\u001b[43mdataset_version\u001b[49m\u001b[43m,\u001b[49m\n\u001b[32m    198\u001b[39m \u001b[43m    \u001b[49m\u001b[43mdataset_part\u001b[49m\u001b[43m,\u001b[49m\n\u001b[32m    199\u001b[39m \u001b[43m    \u001b[49m\u001b[43musername\u001b[49m\u001b[43m,\u001b[49m\n\u001b[32m    200\u001b[39m \u001b[43m    \u001b[49m\u001b[43mpassword\u001b[49m\u001b[43m,\u001b[49m\n\u001b[32m    201\u001b[39m \u001b[43m    \u001b[49m\u001b[43mvariables\u001b[49m\u001b[43m,\u001b[49m\n\u001b[32m    202\u001b[39m \u001b[43m    \u001b[49m\u001b[43mminimum_x_axis\u001b[49m\u001b[43m,\u001b[49m\n\u001b[32m    203\u001b[39m \u001b[43m    \u001b[49m\u001b[43mmaximum_x_axis\u001b[49m\u001b[43m,\u001b[49m\n\u001b[32m    204\u001b[39m \u001b[43m    \u001b[49m\u001b[43mminimum_y_axis\u001b[49m\u001b[43m,\u001b[49m\n\u001b[32m    205\u001b[39m \u001b[43m    \u001b[49m\u001b[43mmaximum_y_axis\u001b[49m\u001b[43m,\u001b[49m\n\u001b[32m    206\u001b[39m \u001b[43m    \u001b[49m\u001b[43mminimum_depth\u001b[49m\u001b[43m,\u001b[49m\n\u001b[32m    207\u001b[39m \u001b[43m    \u001b[49m\u001b[43mmaximum_depth\u001b[49m\u001b[43m,\u001b[49m\n\u001b[32m    208\u001b[39m \u001b[43m    \u001b[49m\u001b[43mvertical_axis\u001b[49m\u001b[43m,\u001b[49m\n\u001b[32m    209\u001b[39m \u001b[43m    \u001b[49m\u001b[43mstart_datetime\u001b[49m\u001b[43m,\u001b[49m\n\u001b[32m    210\u001b[39m \u001b[43m    \u001b[49m\u001b[43mend_datetime\u001b[49m\u001b[43m,\u001b[49m\n\u001b[32m    211\u001b[39m \u001b[43m    \u001b[49m\u001b[43mplatform_ids\u001b[49m\u001b[43m,\u001b[49m\n\u001b[32m    212\u001b[39m \u001b[43m    \u001b[49m\u001b[43mcoordinates_selection_method\u001b[49m\u001b[43m,\u001b[49m\n\u001b[32m    213\u001b[39m \u001b[43m    \u001b[49m\u001b[43moutput_filename\u001b[49m\u001b[43m,\u001b[49m\n\u001b[32m    214\u001b[39m \u001b[43m    \u001b[49m\u001b[43mfile_format\u001b[49m\u001b[43m,\u001b[49m\n\u001b[32m    215\u001b[39m \u001b[43m    \u001b[49m\u001b[43mservice\u001b[49m\u001b[43m,\u001b[49m\n\u001b[32m    216\u001b[39m \u001b[43m    \u001b[49m\u001b[43mrequest_file\u001b[49m\u001b[43m,\u001b[49m\n\u001b[32m    217\u001b[39m \u001b[43m    \u001b[49m\u001b[43moutput_directory\u001b[49m\u001b[43m,\u001b[49m\n\u001b[32m    218\u001b[39m \u001b[43m    \u001b[49m\u001b[43mcredentials_file\u001b[49m\u001b[43m,\u001b[49m\n\u001b[32m    219\u001b[39m \u001b[43m    \u001b[49m\u001b[43mmotu_api_request\u001b[49m\u001b[43m,\u001b[49m\n\u001b[32m    220\u001b[39m \u001b[43m    \u001b[49m\u001b[43moverwrite\u001b[49m\u001b[43m,\u001b[49m\n\u001b[32m    221\u001b[39m \u001b[43m    \u001b[49m\u001b[43mskip_existing\u001b[49m\u001b[43m,\u001b[49m\n\u001b[32m    222\u001b[39m \u001b[43m    \u001b[49m\u001b[43mdry_run\u001b[49m\u001b[43m,\u001b[49m\n\u001b[32m    223\u001b[39m \u001b[43m    \u001b[49m\u001b[43mdisable_progress_bar\u001b[49m\u001b[43m,\u001b[49m\n\u001b[32m    224\u001b[39m \u001b[43m    \u001b[49m\u001b[43mstaging\u001b[49m\u001b[43m,\u001b[49m\n\u001b[32m    225\u001b[39m \u001b[43m    \u001b[49m\u001b[43mnetcdf_compression_level\u001b[49m\u001b[43m,\u001b[49m\n\u001b[32m    226\u001b[39m \u001b[43m    \u001b[49m\u001b[43mnetcdf3_compatible\u001b[49m\u001b[43m,\u001b[49m\n\u001b[32m    227\u001b[39m \u001b[43m    \u001b[49m\u001b[43mchunk_size_limit\u001b[49m\u001b[43m,\u001b[49m\n\u001b[32m    228\u001b[39m \u001b[43m    \u001b[49m\u001b[43mraise_if_updating\u001b[49m\u001b[43m,\u001b[49m\n\u001b[32m    229\u001b[39m \u001b[43m\u001b[49m\u001b[43m)\u001b[49m\n",
      "\u001b[36mFile \u001b[39m\u001b[32m/opt/anaconda3/envs/mommy/lib/python3.13/site-packages/copernicusmarine/core_functions/subset.py:181\u001b[39m, in \u001b[36msubset_function\u001b[39m\u001b[34m(dataset_id, force_dataset_version, force_dataset_part, username, password, variables, minimum_x, maximum_x, minimum_y, maximum_y, minimum_depth, maximum_depth, vertical_axis, start_datetime, end_datetime, platform_ids, coordinates_selection_method, output_filename, file_format, force_service, request_file, output_directory, credentials_file, motu_api_request, overwrite, skip_existing, dry_run, disable_progress_bar, staging, netcdf_compression_level, netcdf3_compatible, chunk_size_limit, raise_if_updating)\u001b[39m\n\u001b[32m    175\u001b[39m     \u001b[38;5;28;01mif\u001b[39;00m subset_request.file_format \u001b[38;5;129;01mnot\u001b[39;00m \u001b[38;5;129;01min\u001b[39;00m [\u001b[33m\"\u001b[39m\u001b[33mnetcdf\u001b[39m\u001b[33m\"\u001b[39m, \u001b[33m\"\u001b[39m\u001b[33mzarr\u001b[39m\u001b[33m\"\u001b[39m]:\n\u001b[32m    176\u001b[39m         \u001b[38;5;28;01mraise\u001b[39;00m \u001b[38;5;167;01mValueError\u001b[39;00m(\n\u001b[32m    177\u001b[39m             \u001b[33mf\u001b[39m\u001b[33m\"\u001b[39m\u001b[38;5;132;01m{\u001b[39;00msubset_request.file_format\u001b[38;5;132;01m}\u001b[39;00m\u001b[33m is not a valid format \u001b[39m\u001b[33m\"\u001b[39m\n\u001b[32m    178\u001b[39m             \u001b[33m\"\u001b[39m\u001b[33mfor this dataset. \u001b[39m\u001b[33m\"\u001b[39m\n\u001b[32m    179\u001b[39m             \u001b[33m\"\u001b[39m\u001b[33mAvailable format for this dataset is \u001b[39m\u001b[33m'\u001b[39m\u001b[33mnetcdf\u001b[39m\u001b[33m'\u001b[39m\u001b[33m or \u001b[39m\u001b[33m'\u001b[39m\u001b[33mzarr\u001b[39m\u001b[33m'\u001b[39m\u001b[33m.\u001b[39m\u001b[33m\"\u001b[39m\n\u001b[32m    180\u001b[39m         )\n\u001b[32m--> \u001b[39m\u001b[32m181\u001b[39m     response = \u001b[43mdownload_zarr\u001b[49m\u001b[43m(\u001b[49m\n\u001b[32m    182\u001b[39m \u001b[43m        \u001b[49m\u001b[43musername\u001b[49m\u001b[43m,\u001b[49m\n\u001b[32m    183\u001b[39m \u001b[43m        \u001b[49m\u001b[43mpassword\u001b[49m\u001b[43m,\u001b[49m\n\u001b[32m    184\u001b[39m \u001b[43m        \u001b[49m\u001b[43msubset_request\u001b[49m\u001b[43m,\u001b[49m\n\u001b[32m    185\u001b[39m \u001b[43m        \u001b[49m\u001b[43mretrieval_service\u001b[49m\u001b[43m.\u001b[49m\u001b[43mdataset_id\u001b[49m\u001b[43m,\u001b[49m\n\u001b[32m    186\u001b[39m \u001b[43m        \u001b[49m\u001b[43mdisable_progress_bar\u001b[49m\u001b[43m,\u001b[49m\n\u001b[32m    187\u001b[39m \u001b[43m        \u001b[49m\u001b[43mretrieval_service\u001b[49m\u001b[43m.\u001b[49m\u001b[43mdataset_valid_start_date\u001b[49m\u001b[43m,\u001b[49m\n\u001b[32m    188\u001b[39m \u001b[43m        \u001b[49m\u001b[43mretrieval_service\u001b[49m\u001b[43m.\u001b[49m\u001b[43mservice\u001b[49m\u001b[43m,\u001b[49m\n\u001b[32m    189\u001b[39m \u001b[43m        \u001b[49m\u001b[43mretrieval_service\u001b[49m\u001b[43m.\u001b[49m\u001b[43mis_original_grid\u001b[49m\u001b[43m,\u001b[49m\n\u001b[32m    190\u001b[39m \u001b[43m        \u001b[49m\u001b[43mretrieval_service\u001b[49m\u001b[43m.\u001b[49m\u001b[43maxis_coordinate_id_mapping\u001b[49m\u001b[43m,\u001b[49m\n\u001b[32m    191\u001b[39m \u001b[43m        \u001b[49m\u001b[43mchunk_size_limit\u001b[49m\u001b[43m,\u001b[49m\n\u001b[32m    192\u001b[39m \u001b[43m        \u001b[49m\u001b[43mretrieval_service\u001b[49m\u001b[43m.\u001b[49m\u001b[43mdataset_chunking\u001b[49m\u001b[43m,\u001b[49m\n\u001b[32m    193\u001b[39m \u001b[43m    \u001b[49m\u001b[43m)\u001b[49m\n\u001b[32m    194\u001b[39m \u001b[38;5;28;01mif\u001b[39;00m (\n\u001b[32m    195\u001b[39m     retrieval_service.service_format\n\u001b[32m    196\u001b[39m     == CopernicusMarineServiceFormat.SQLITE\n\u001b[32m    197\u001b[39m ):\n\u001b[32m    198\u001b[39m     raise_when_all_dataset_requested(subset_request, \u001b[38;5;28;01mTrue\u001b[39;00m)\n",
      "\u001b[36mFile \u001b[39m\u001b[32m/opt/anaconda3/envs/mommy/lib/python3.13/site-packages/copernicusmarine/download_functions/download_zarr.py:234\u001b[39m, in \u001b[36mdownload_zarr\u001b[39m\u001b[34m(username, password, subset_request, dataset_id, disable_progress_bar, dataset_valid_start_date, service, is_original_grid, axis_coordinate_id_mapping, chunk_size_limit, dataset_chunking)\u001b[39m\n\u001b[32m    227\u001b[39m output_directory = (\n\u001b[32m    228\u001b[39m     subset_request.output_directory\n\u001b[32m    229\u001b[39m     \u001b[38;5;28;01mif\u001b[39;00m subset_request.output_directory\n\u001b[32m    230\u001b[39m     \u001b[38;5;28;01melse\u001b[39;00m pathlib.Path(\u001b[33m\"\u001b[39m\u001b[33m.\u001b[39m\u001b[33m\"\u001b[39m)\n\u001b[32m    231\u001b[39m )\n\u001b[32m    232\u001b[39m variables = subset_request.variables\n\u001b[32m--> \u001b[39m\u001b[32m234\u001b[39m response = \u001b[43mdownload_dataset\u001b[49m\u001b[43m(\u001b[49m\n\u001b[32m    235\u001b[39m \u001b[43m    \u001b[49m\u001b[43musername\u001b[49m\u001b[43m=\u001b[49m\u001b[43musername\u001b[49m\u001b[43m,\u001b[49m\n\u001b[32m    236\u001b[39m \u001b[43m    \u001b[49m\u001b[43mpassword\u001b[49m\u001b[43m=\u001b[49m\u001b[43mpassword\u001b[49m\u001b[43m,\u001b[49m\n\u001b[32m    237\u001b[39m \u001b[43m    \u001b[49m\u001b[43mdataset_id\u001b[49m\u001b[43m=\u001b[49m\u001b[43mdataset_id\u001b[49m\u001b[43m,\u001b[49m\n\u001b[32m    238\u001b[39m \u001b[43m    \u001b[49m\u001b[43mgeographical_parameters\u001b[49m\u001b[43m=\u001b[49m\u001b[43mgeographical_parameters\u001b[49m\u001b[43m,\u001b[49m\n\u001b[32m    239\u001b[39m \u001b[43m    \u001b[49m\u001b[43mtemporal_parameters\u001b[49m\u001b[43m=\u001b[49m\u001b[43mtemporal_parameters\u001b[49m\u001b[43m,\u001b[49m\n\u001b[32m    240\u001b[39m \u001b[43m    \u001b[49m\u001b[43mdepth_parameters\u001b[49m\u001b[43m=\u001b[49m\u001b[43mdepth_parameters\u001b[49m\u001b[43m,\u001b[49m\n\u001b[32m    241\u001b[39m \u001b[43m    \u001b[49m\u001b[43mcoordinates_selection_method\u001b[49m\u001b[43m=\u001b[49m\u001b[43msubset_request\u001b[49m\u001b[43m.\u001b[49m\u001b[43mcoordinates_selection_method\u001b[49m\u001b[43m,\u001b[49m\n\u001b[32m    242\u001b[39m \u001b[43m    \u001b[49m\u001b[43maxis_coordinate_id_mapping\u001b[49m\u001b[43m=\u001b[49m\u001b[43maxis_coordinate_id_mapping\u001b[49m\u001b[43m,\u001b[49m\n\u001b[32m    243\u001b[39m \u001b[43m    \u001b[49m\u001b[43mdataset_url\u001b[49m\u001b[43m=\u001b[49m\u001b[43mdataset_url\u001b[49m\u001b[43m,\u001b[49m\n\u001b[32m    244\u001b[39m \u001b[43m    \u001b[49m\u001b[43moutput_directory\u001b[49m\u001b[43m=\u001b[49m\u001b[43moutput_directory\u001b[49m\u001b[43m,\u001b[49m\n\u001b[32m    245\u001b[39m \u001b[43m    \u001b[49m\u001b[43moutput_filename\u001b[49m\u001b[43m=\u001b[49m\u001b[43msubset_request\u001b[49m\u001b[43m.\u001b[49m\u001b[43moutput_filename\u001b[49m\u001b[43m,\u001b[49m\n\u001b[32m    246\u001b[39m \u001b[43m    \u001b[49m\u001b[43mfile_format\u001b[49m\u001b[43m=\u001b[49m\u001b[43msubset_request\u001b[49m\u001b[43m.\u001b[49m\u001b[43mfile_format\u001b[49m\u001b[43m,\u001b[49m\n\u001b[32m    247\u001b[39m \u001b[43m    \u001b[49m\u001b[43mvariables\u001b[49m\u001b[43m=\u001b[49m\u001b[43mvariables\u001b[49m\u001b[43m,\u001b[49m\n\u001b[32m    248\u001b[39m \u001b[43m    \u001b[49m\u001b[43mdisable_progress_bar\u001b[49m\u001b[43m=\u001b[49m\u001b[43mdisable_progress_bar\u001b[49m\u001b[43m,\u001b[49m\n\u001b[32m    249\u001b[39m \u001b[43m    \u001b[49m\u001b[43moverwrite\u001b[49m\u001b[43m=\u001b[49m\u001b[43msubset_request\u001b[49m\u001b[43m.\u001b[49m\u001b[43moverwrite\u001b[49m\u001b[43m,\u001b[49m\n\u001b[32m    250\u001b[39m \u001b[43m    \u001b[49m\u001b[43mnetcdf_compression_level\u001b[49m\u001b[43m=\u001b[49m\u001b[43msubset_request\u001b[49m\u001b[43m.\u001b[49m\u001b[43mnetcdf_compression_level\u001b[49m\u001b[43m,\u001b[49m\n\u001b[32m    251\u001b[39m \u001b[43m    \u001b[49m\u001b[43mnetcdf3_compatible\u001b[49m\u001b[43m=\u001b[49m\u001b[43msubset_request\u001b[49m\u001b[43m.\u001b[49m\u001b[43mnetcdf3_compatible\u001b[49m\u001b[43m,\u001b[49m\n\u001b[32m    252\u001b[39m \u001b[43m    \u001b[49m\u001b[43mdry_run\u001b[49m\u001b[43m=\u001b[49m\u001b[43msubset_request\u001b[49m\u001b[43m.\u001b[49m\u001b[43mdry_run\u001b[49m\u001b[43m,\u001b[49m\n\u001b[32m    253\u001b[39m \u001b[43m    \u001b[49m\u001b[43mservice\u001b[49m\u001b[43m=\u001b[49m\u001b[43mservice\u001b[49m\u001b[43m,\u001b[49m\n\u001b[32m    254\u001b[39m \u001b[43m    \u001b[49m\u001b[43mchunk_size_limit\u001b[49m\u001b[43m=\u001b[49m\u001b[43mchunk_size_limit\u001b[49m\u001b[43m,\u001b[49m\n\u001b[32m    255\u001b[39m \u001b[43m    \u001b[49m\u001b[43mskip_existing\u001b[49m\u001b[43m=\u001b[49m\u001b[43msubset_request\u001b[49m\u001b[43m.\u001b[49m\u001b[43mskip_existing\u001b[49m\u001b[43m,\u001b[49m\n\u001b[32m    256\u001b[39m \u001b[43m    \u001b[49m\u001b[43mdataset_chunking\u001b[49m\u001b[43m=\u001b[49m\u001b[43mdataset_chunking\u001b[49m\u001b[43m,\u001b[49m\n\u001b[32m    257\u001b[39m \u001b[43m\u001b[49m\u001b[43m)\u001b[49m\n\u001b[32m    258\u001b[39m \u001b[38;5;28;01mreturn\u001b[39;00m response\n",
      "\u001b[36mFile \u001b[39m\u001b[32m/opt/anaconda3/envs/mommy/lib/python3.13/site-packages/copernicusmarine/download_functions/download_zarr.py:179\u001b[39m, in \u001b[36mdownload_dataset\u001b[39m\u001b[34m(username, password, dataset_id, geographical_parameters, temporal_parameters, depth_parameters, coordinates_selection_method, axis_coordinate_id_mapping, dataset_url, output_directory, output_filename, file_format, variables, disable_progress_bar, netcdf_compression_level, netcdf3_compatible, service, dry_run, overwrite, chunk_size_limit, skip_existing, dataset_chunking)\u001b[39m\n\u001b[32m    177\u001b[39m \u001b[38;5;28;01melse\u001b[39;00m:\n\u001b[32m    178\u001b[39m     \u001b[38;5;28;01mwith\u001b[39;00m TqdmCallback():\n\u001b[32m--> \u001b[39m\u001b[32m179\u001b[39m         \u001b[43m_save_dataset_locally\u001b[49m\u001b[43m(\u001b[49m\n\u001b[32m    180\u001b[39m \u001b[43m            \u001b[49m\u001b[43mdataset\u001b[49m\u001b[43m,\u001b[49m\n\u001b[32m    181\u001b[39m \u001b[43m            \u001b[49m\u001b[43moutput_path\u001b[49m\u001b[43m,\u001b[49m\n\u001b[32m    182\u001b[39m \u001b[43m            \u001b[49m\u001b[43mnetcdf_compression_level\u001b[49m\u001b[43m,\u001b[49m\n\u001b[32m    183\u001b[39m \u001b[43m            \u001b[49m\u001b[43mnetcdf3_compatible\u001b[49m\u001b[43m,\u001b[49m\n\u001b[32m    184\u001b[39m \u001b[43m        \u001b[49m\u001b[43m)\u001b[49m\n\u001b[32m    185\u001b[39m logger.info(\u001b[33mf\u001b[39m\u001b[33m\"\u001b[39m\u001b[33mSuccessfully downloaded to \u001b[39m\u001b[38;5;132;01m{\u001b[39;00moutput_path\u001b[38;5;132;01m}\u001b[39;00m\u001b[33m\"\u001b[39m)\n\u001b[32m    186\u001b[39m \u001b[38;5;28;01mif\u001b[39;00m overwrite:\n",
      "\u001b[36mFile \u001b[39m\u001b[32m/opt/anaconda3/envs/mommy/lib/python3.13/site-packages/copernicusmarine/download_functions/download_zarr.py:520\u001b[39m, in \u001b[36m_save_dataset_locally\u001b[39m\u001b[34m(dataset, output_path, netcdf_compression_level, netcdf3_compatible)\u001b[39m\n\u001b[32m    518\u001b[39m     _download_dataset_as_zarr(dataset, output_path)\n\u001b[32m    519\u001b[39m \u001b[38;5;28;01melse\u001b[39;00m:\n\u001b[32m--> \u001b[39m\u001b[32m520\u001b[39m     \u001b[43m_download_dataset_as_netcdf\u001b[49m\u001b[43m(\u001b[49m\n\u001b[32m    521\u001b[39m \u001b[43m        \u001b[49m\u001b[43mdataset\u001b[49m\u001b[43m,\u001b[49m\n\u001b[32m    522\u001b[39m \u001b[43m        \u001b[49m\u001b[43moutput_path\u001b[49m\u001b[43m,\u001b[49m\n\u001b[32m    523\u001b[39m \u001b[43m        \u001b[49m\u001b[43mnetcdf_compression_level\u001b[49m\u001b[43m,\u001b[49m\n\u001b[32m    524\u001b[39m \u001b[43m        \u001b[49m\u001b[43mnetcdf3_compatible\u001b[49m\u001b[43m,\u001b[49m\n\u001b[32m    525\u001b[39m \u001b[43m    \u001b[49m\u001b[43m)\u001b[49m\n",
      "\u001b[36mFile \u001b[39m\u001b[32m/opt/anaconda3/envs/mommy/lib/python3.13/site-packages/copernicusmarine/download_functions/download_zarr.py:581\u001b[39m, in \u001b[36m_download_dataset_as_netcdf\u001b[39m\u001b[34m(dataset, output_path, netcdf_compression_level, netcdf3_compatible)\u001b[39m\n\u001b[32m    579\u001b[39m xarray_download_format = \u001b[33m\"\u001b[39m\u001b[33mNETCDF3_CLASSIC\u001b[39m\u001b[33m\"\u001b[39m \u001b[38;5;28;01mif\u001b[39;00m netcdf3_compatible \u001b[38;5;28;01melse\u001b[39;00m \u001b[38;5;28;01mNone\u001b[39;00m\n\u001b[32m    580\u001b[39m engine = \u001b[33m\"\u001b[39m\u001b[33mh5netcdf\u001b[39m\u001b[33m\"\u001b[39m \u001b[38;5;28;01mif\u001b[39;00m \u001b[38;5;129;01mnot\u001b[39;00m netcdf3_compatible \u001b[38;5;28;01melse\u001b[39;00m \u001b[33m\"\u001b[39m\u001b[33mnetcdf4\u001b[39m\u001b[33m\"\u001b[39m\n\u001b[32m--> \u001b[39m\u001b[32m581\u001b[39m \u001b[38;5;28;01mreturn\u001b[39;00m \u001b[43mdataset\u001b[49m\u001b[43m.\u001b[49m\u001b[43mto_netcdf\u001b[49m\u001b[43m(\u001b[49m\n\u001b[32m    582\u001b[39m \u001b[43m    \u001b[49m\u001b[43moutput_path\u001b[49m\u001b[43m,\u001b[49m\n\u001b[32m    583\u001b[39m \u001b[43m    \u001b[49m\u001b[43mmode\u001b[49m\u001b[43m=\u001b[49m\u001b[33;43m\"\u001b[39;49m\u001b[33;43mw\u001b[39;49m\u001b[33;43m\"\u001b[39;49m\u001b[43m,\u001b[49m\n\u001b[32m    584\u001b[39m \u001b[43m    \u001b[49m\u001b[43mencoding\u001b[49m\u001b[43m=\u001b[49m\u001b[43mencoding\u001b[49m\u001b[43m,\u001b[49m\n\u001b[32m    585\u001b[39m \u001b[43m    \u001b[49m\u001b[38;5;28;43mformat\u001b[39;49m\u001b[43m=\u001b[49m\u001b[43mxarray_download_format\u001b[49m\u001b[43m,\u001b[49m\n\u001b[32m    586\u001b[39m \u001b[43m    \u001b[49m\u001b[43mengine\u001b[49m\u001b[43m=\u001b[49m\u001b[43mengine\u001b[49m\u001b[43m,\u001b[49m\n\u001b[32m    587\u001b[39m \u001b[43m\u001b[49m\u001b[43m)\u001b[49m\n",
      "\u001b[36mFile \u001b[39m\u001b[32m/opt/anaconda3/envs/mommy/lib/python3.13/site-packages/xarray/core/dataset.py:2021\u001b[39m, in \u001b[36mDataset.to_netcdf\u001b[39m\u001b[34m(self, path, mode, format, group, engine, encoding, unlimited_dims, compute, invalid_netcdf, auto_complex)\u001b[39m\n\u001b[32m   2018\u001b[39m     encoding = {}\n\u001b[32m   2019\u001b[39m \u001b[38;5;28;01mfrom\u001b[39;00m\u001b[38;5;250m \u001b[39m\u001b[34;01mxarray\u001b[39;00m\u001b[34;01m.\u001b[39;00m\u001b[34;01mbackends\u001b[39;00m\u001b[34;01m.\u001b[39;00m\u001b[34;01mapi\u001b[39;00m\u001b[38;5;250m \u001b[39m\u001b[38;5;28;01mimport\u001b[39;00m to_netcdf\n\u001b[32m-> \u001b[39m\u001b[32m2021\u001b[39m \u001b[38;5;28;01mreturn\u001b[39;00m \u001b[43mto_netcdf\u001b[49m\u001b[43m(\u001b[49m\u001b[43m  \u001b[49m\u001b[38;5;66;43;03m# type: ignore[return-value]  # mypy cannot resolve the overloads:(\u001b[39;49;00m\n\u001b[32m   2022\u001b[39m \u001b[43m    \u001b[49m\u001b[38;5;28;43mself\u001b[39;49m\u001b[43m,\u001b[49m\n\u001b[32m   2023\u001b[39m \u001b[43m    \u001b[49m\u001b[43mpath\u001b[49m\u001b[43m,\u001b[49m\n\u001b[32m   2024\u001b[39m \u001b[43m    \u001b[49m\u001b[43mmode\u001b[49m\u001b[43m=\u001b[49m\u001b[43mmode\u001b[49m\u001b[43m,\u001b[49m\n\u001b[32m   2025\u001b[39m \u001b[43m    \u001b[49m\u001b[38;5;28;43mformat\u001b[39;49m\u001b[43m=\u001b[49m\u001b[38;5;28;43mformat\u001b[39;49m\u001b[43m,\u001b[49m\n\u001b[32m   2026\u001b[39m \u001b[43m    \u001b[49m\u001b[43mgroup\u001b[49m\u001b[43m=\u001b[49m\u001b[43mgroup\u001b[49m\u001b[43m,\u001b[49m\n\u001b[32m   2027\u001b[39m \u001b[43m    \u001b[49m\u001b[43mengine\u001b[49m\u001b[43m=\u001b[49m\u001b[43mengine\u001b[49m\u001b[43m,\u001b[49m\n\u001b[32m   2028\u001b[39m \u001b[43m    \u001b[49m\u001b[43mencoding\u001b[49m\u001b[43m=\u001b[49m\u001b[43mencoding\u001b[49m\u001b[43m,\u001b[49m\n\u001b[32m   2029\u001b[39m \u001b[43m    \u001b[49m\u001b[43munlimited_dims\u001b[49m\u001b[43m=\u001b[49m\u001b[43munlimited_dims\u001b[49m\u001b[43m,\u001b[49m\n\u001b[32m   2030\u001b[39m \u001b[43m    \u001b[49m\u001b[43mcompute\u001b[49m\u001b[43m=\u001b[49m\u001b[43mcompute\u001b[49m\u001b[43m,\u001b[49m\n\u001b[32m   2031\u001b[39m \u001b[43m    \u001b[49m\u001b[43mmultifile\u001b[49m\u001b[43m=\u001b[49m\u001b[38;5;28;43;01mFalse\u001b[39;49;00m\u001b[43m,\u001b[49m\n\u001b[32m   2032\u001b[39m \u001b[43m    \u001b[49m\u001b[43minvalid_netcdf\u001b[49m\u001b[43m=\u001b[49m\u001b[43minvalid_netcdf\u001b[49m\u001b[43m,\u001b[49m\n\u001b[32m   2033\u001b[39m \u001b[43m    \u001b[49m\u001b[43mauto_complex\u001b[49m\u001b[43m=\u001b[49m\u001b[43mauto_complex\u001b[49m\u001b[43m,\u001b[49m\n\u001b[32m   2034\u001b[39m \u001b[43m\u001b[49m\u001b[43m)\u001b[49m\n",
      "\u001b[36mFile \u001b[39m\u001b[32m/opt/anaconda3/envs/mommy/lib/python3.13/site-packages/xarray/backends/api.py:1937\u001b[39m, in \u001b[36mto_netcdf\u001b[39m\u001b[34m(dataset, path_or_file, mode, format, group, engine, encoding, unlimited_dims, compute, multifile, invalid_netcdf, auto_complex)\u001b[39m\n\u001b[32m   1934\u001b[39m \u001b[38;5;28;01mif\u001b[39;00m multifile:\n\u001b[32m   1935\u001b[39m     \u001b[38;5;28;01mreturn\u001b[39;00m writer, store\n\u001b[32m-> \u001b[39m\u001b[32m1937\u001b[39m writes = \u001b[43mwriter\u001b[49m\u001b[43m.\u001b[49m\u001b[43msync\u001b[49m\u001b[43m(\u001b[49m\u001b[43mcompute\u001b[49m\u001b[43m=\u001b[49m\u001b[43mcompute\u001b[49m\u001b[43m)\u001b[49m\n\u001b[32m   1939\u001b[39m \u001b[38;5;28;01mif\u001b[39;00m \u001b[38;5;28misinstance\u001b[39m(target, BytesIO):\n\u001b[32m   1940\u001b[39m     store.sync()\n",
      "\u001b[36mFile \u001b[39m\u001b[32m/opt/anaconda3/envs/mommy/lib/python3.13/site-packages/xarray/backends/common.py:358\u001b[39m, in \u001b[36mArrayWriter.sync\u001b[39m\u001b[34m(self, compute, chunkmanager_store_kwargs)\u001b[39m\n\u001b[32m    355\u001b[39m \u001b[38;5;28;01mif\u001b[39;00m chunkmanager_store_kwargs \u001b[38;5;129;01mis\u001b[39;00m \u001b[38;5;28;01mNone\u001b[39;00m:\n\u001b[32m    356\u001b[39m     chunkmanager_store_kwargs = {}\n\u001b[32m--> \u001b[39m\u001b[32m358\u001b[39m delayed_store = \u001b[43mchunkmanager\u001b[49m\u001b[43m.\u001b[49m\u001b[43mstore\u001b[49m\u001b[43m(\u001b[49m\n\u001b[32m    359\u001b[39m \u001b[43m    \u001b[49m\u001b[38;5;28;43mself\u001b[39;49m\u001b[43m.\u001b[49m\u001b[43msources\u001b[49m\u001b[43m,\u001b[49m\n\u001b[32m    360\u001b[39m \u001b[43m    \u001b[49m\u001b[38;5;28;43mself\u001b[39;49m\u001b[43m.\u001b[49m\u001b[43mtargets\u001b[49m\u001b[43m,\u001b[49m\n\u001b[32m    361\u001b[39m \u001b[43m    \u001b[49m\u001b[43mlock\u001b[49m\u001b[43m=\u001b[49m\u001b[38;5;28;43mself\u001b[39;49m\u001b[43m.\u001b[49m\u001b[43mlock\u001b[49m\u001b[43m,\u001b[49m\n\u001b[32m    362\u001b[39m \u001b[43m    \u001b[49m\u001b[43mcompute\u001b[49m\u001b[43m=\u001b[49m\u001b[43mcompute\u001b[49m\u001b[43m,\u001b[49m\n\u001b[32m    363\u001b[39m \u001b[43m    \u001b[49m\u001b[43mflush\u001b[49m\u001b[43m=\u001b[49m\u001b[38;5;28;43;01mTrue\u001b[39;49;00m\u001b[43m,\u001b[49m\n\u001b[32m    364\u001b[39m \u001b[43m    \u001b[49m\u001b[43mregions\u001b[49m\u001b[43m=\u001b[49m\u001b[38;5;28;43mself\u001b[39;49m\u001b[43m.\u001b[49m\u001b[43mregions\u001b[49m\u001b[43m,\u001b[49m\n\u001b[32m    365\u001b[39m \u001b[43m    \u001b[49m\u001b[43m*\u001b[49m\u001b[43m*\u001b[49m\u001b[43mchunkmanager_store_kwargs\u001b[49m\u001b[43m,\u001b[49m\n\u001b[32m    366\u001b[39m \u001b[43m\u001b[49m\u001b[43m)\u001b[49m\n\u001b[32m    367\u001b[39m \u001b[38;5;28mself\u001b[39m.sources = []\n\u001b[32m    368\u001b[39m \u001b[38;5;28mself\u001b[39m.targets = []\n",
      "\u001b[36mFile \u001b[39m\u001b[32m/opt/anaconda3/envs/mommy/lib/python3.13/site-packages/xarray/namedarray/daskmanager.py:247\u001b[39m, in \u001b[36mDaskManager.store\u001b[39m\u001b[34m(self, sources, targets, **kwargs)\u001b[39m\n\u001b[32m    239\u001b[39m \u001b[38;5;28;01mdef\u001b[39;00m\u001b[38;5;250m \u001b[39m\u001b[34mstore\u001b[39m(\n\u001b[32m    240\u001b[39m     \u001b[38;5;28mself\u001b[39m,\n\u001b[32m    241\u001b[39m     sources: Any | Sequence[Any],\n\u001b[32m    242\u001b[39m     targets: Any,\n\u001b[32m    243\u001b[39m     **kwargs: Any,\n\u001b[32m    244\u001b[39m ) -> Any:\n\u001b[32m    245\u001b[39m     \u001b[38;5;28;01mfrom\u001b[39;00m\u001b[38;5;250m \u001b[39m\u001b[34;01mdask\u001b[39;00m\u001b[34;01m.\u001b[39;00m\u001b[34;01marray\u001b[39;00m\u001b[38;5;250m \u001b[39m\u001b[38;5;28;01mimport\u001b[39;00m store\n\u001b[32m--> \u001b[39m\u001b[32m247\u001b[39m     \u001b[38;5;28;01mreturn\u001b[39;00m \u001b[43mstore\u001b[49m\u001b[43m(\u001b[49m\n\u001b[32m    248\u001b[39m \u001b[43m        \u001b[49m\u001b[43msources\u001b[49m\u001b[43m=\u001b[49m\u001b[43msources\u001b[49m\u001b[43m,\u001b[49m\n\u001b[32m    249\u001b[39m \u001b[43m        \u001b[49m\u001b[43mtargets\u001b[49m\u001b[43m=\u001b[49m\u001b[43mtargets\u001b[49m\u001b[43m,\u001b[49m\n\u001b[32m    250\u001b[39m \u001b[43m        \u001b[49m\u001b[43m*\u001b[49m\u001b[43m*\u001b[49m\u001b[43mkwargs\u001b[49m\u001b[43m,\u001b[49m\n\u001b[32m    251\u001b[39m \u001b[43m    \u001b[49m\u001b[43m)\u001b[49m\n",
      "\u001b[36mFile \u001b[39m\u001b[32m/opt/anaconda3/envs/mommy/lib/python3.13/site-packages/dask/array/core.py:1257\u001b[39m, in \u001b[36mstore\u001b[39m\u001b[34m(***failed resolving arguments***)\u001b[39m\n\u001b[32m   1255\u001b[39m \u001b[38;5;28;01melif\u001b[39;00m compute:\n\u001b[32m   1256\u001b[39m     store_dsk = HighLevelGraph(layers, dependencies)\n\u001b[32m-> \u001b[39m\u001b[32m1257\u001b[39m     \u001b[43mcompute_as_if_collection\u001b[49m\u001b[43m(\u001b[49m\u001b[43mArray\u001b[49m\u001b[43m,\u001b[49m\u001b[43m \u001b[49m\u001b[43mstore_dsk\u001b[49m\u001b[43m,\u001b[49m\u001b[43m \u001b[49m\u001b[43mmap_keys\u001b[49m\u001b[43m,\u001b[49m\u001b[43m \u001b[49m\u001b[43m*\u001b[49m\u001b[43m*\u001b[49m\u001b[43mkwargs\u001b[49m\u001b[43m)\u001b[49m\n\u001b[32m   1258\u001b[39m     \u001b[38;5;28;01mreturn\u001b[39;00m \u001b[38;5;28;01mNone\u001b[39;00m\n\u001b[32m   1260\u001b[39m \u001b[38;5;28;01melse\u001b[39;00m:\n",
      "\u001b[36mFile \u001b[39m\u001b[32m/opt/anaconda3/envs/mommy/lib/python3.13/site-packages/dask/base.py:399\u001b[39m, in \u001b[36mcompute_as_if_collection\u001b[39m\u001b[34m(cls, dsk, keys, scheduler, get, **kwargs)\u001b[39m\n\u001b[32m    397\u001b[39m schedule = get_scheduler(scheduler=scheduler, \u001b[38;5;28mcls\u001b[39m=\u001b[38;5;28mcls\u001b[39m, get=get)\n\u001b[32m    398\u001b[39m dsk2 = optimization_function(\u001b[38;5;28mcls\u001b[39m)(dsk, keys, **kwargs)\n\u001b[32m--> \u001b[39m\u001b[32m399\u001b[39m \u001b[38;5;28;01mreturn\u001b[39;00m \u001b[43mschedule\u001b[49m\u001b[43m(\u001b[49m\u001b[43mdsk2\u001b[49m\u001b[43m,\u001b[49m\u001b[43m \u001b[49m\u001b[43mkeys\u001b[49m\u001b[43m,\u001b[49m\u001b[43m \u001b[49m\u001b[43m*\u001b[49m\u001b[43m*\u001b[49m\u001b[43mkwargs\u001b[49m\u001b[43m)\u001b[49m\n",
      "\u001b[36mFile \u001b[39m\u001b[32m/opt/anaconda3/envs/mommy/lib/python3.13/site-packages/dask/threaded.py:91\u001b[39m, in \u001b[36mget\u001b[39m\u001b[34m(dsk, keys, cache, num_workers, pool, **kwargs)\u001b[39m\n\u001b[32m     88\u001b[39m     \u001b[38;5;28;01melif\u001b[39;00m \u001b[38;5;28misinstance\u001b[39m(pool, multiprocessing.pool.Pool):\n\u001b[32m     89\u001b[39m         pool = MultiprocessingPoolExecutor(pool)\n\u001b[32m---> \u001b[39m\u001b[32m91\u001b[39m results = \u001b[43mget_async\u001b[49m\u001b[43m(\u001b[49m\n\u001b[32m     92\u001b[39m \u001b[43m    \u001b[49m\u001b[43mpool\u001b[49m\u001b[43m.\u001b[49m\u001b[43msubmit\u001b[49m\u001b[43m,\u001b[49m\n\u001b[32m     93\u001b[39m \u001b[43m    \u001b[49m\u001b[43mpool\u001b[49m\u001b[43m.\u001b[49m\u001b[43m_max_workers\u001b[49m\u001b[43m,\u001b[49m\n\u001b[32m     94\u001b[39m \u001b[43m    \u001b[49m\u001b[43mdsk\u001b[49m\u001b[43m,\u001b[49m\n\u001b[32m     95\u001b[39m \u001b[43m    \u001b[49m\u001b[43mkeys\u001b[49m\u001b[43m,\u001b[49m\n\u001b[32m     96\u001b[39m \u001b[43m    \u001b[49m\u001b[43mcache\u001b[49m\u001b[43m=\u001b[49m\u001b[43mcache\u001b[49m\u001b[43m,\u001b[49m\n\u001b[32m     97\u001b[39m \u001b[43m    \u001b[49m\u001b[43mget_id\u001b[49m\u001b[43m=\u001b[49m\u001b[43m_thread_get_id\u001b[49m\u001b[43m,\u001b[49m\n\u001b[32m     98\u001b[39m \u001b[43m    \u001b[49m\u001b[43mpack_exception\u001b[49m\u001b[43m=\u001b[49m\u001b[43mpack_exception\u001b[49m\u001b[43m,\u001b[49m\n\u001b[32m     99\u001b[39m \u001b[43m    \u001b[49m\u001b[43m*\u001b[49m\u001b[43m*\u001b[49m\u001b[43mkwargs\u001b[49m\u001b[43m,\u001b[49m\n\u001b[32m    100\u001b[39m \u001b[43m\u001b[49m\u001b[43m)\u001b[49m\n\u001b[32m    102\u001b[39m \u001b[38;5;66;03m# Cleanup pools associated to dead threads\u001b[39;00m\n\u001b[32m    103\u001b[39m \u001b[38;5;28;01mwith\u001b[39;00m pools_lock:\n",
      "\u001b[36mFile \u001b[39m\u001b[32m/opt/anaconda3/envs/mommy/lib/python3.13/site-packages/dask/local.py:505\u001b[39m, in \u001b[36mget_async\u001b[39m\u001b[34m(submit, num_workers, dsk, result, cache, get_id, rerun_exceptions_locally, pack_exception, raise_exception, callbacks, dumps, loads, chunksize, **kwargs)\u001b[39m\n\u001b[32m    503\u001b[39m \u001b[38;5;28;01mwhile\u001b[39;00m state[\u001b[33m\"\u001b[39m\u001b[33mwaiting\u001b[39m\u001b[33m\"\u001b[39m] \u001b[38;5;129;01mor\u001b[39;00m state[\u001b[33m\"\u001b[39m\u001b[33mready\u001b[39m\u001b[33m\"\u001b[39m] \u001b[38;5;129;01mor\u001b[39;00m state[\u001b[33m\"\u001b[39m\u001b[33mrunning\u001b[39m\u001b[33m\"\u001b[39m]:\n\u001b[32m    504\u001b[39m     fire_tasks(chunksize)\n\u001b[32m--> \u001b[39m\u001b[32m505\u001b[39m     \u001b[38;5;28;01mfor\u001b[39;00m key, res_info, failed \u001b[38;5;129;01min\u001b[39;00m \u001b[43mqueue_get\u001b[49m\u001b[43m(\u001b[49m\u001b[43mqueue\u001b[49m\u001b[43m)\u001b[49m.result():\n\u001b[32m    506\u001b[39m         \u001b[38;5;28;01mif\u001b[39;00m failed:\n\u001b[32m    507\u001b[39m             exc, tb = loads(res_info)\n",
      "\u001b[36mFile \u001b[39m\u001b[32m/opt/anaconda3/envs/mommy/lib/python3.13/site-packages/dask/local.py:140\u001b[39m, in \u001b[36mqueue_get\u001b[39m\u001b[34m(q)\u001b[39m\n\u001b[32m    139\u001b[39m \u001b[38;5;28;01mdef\u001b[39;00m\u001b[38;5;250m \u001b[39m\u001b[34mqueue_get\u001b[39m(q):\n\u001b[32m--> \u001b[39m\u001b[32m140\u001b[39m     \u001b[38;5;28;01mreturn\u001b[39;00m \u001b[43mq\u001b[49m\u001b[43m.\u001b[49m\u001b[43mget\u001b[49m\u001b[43m(\u001b[49m\u001b[43m)\u001b[49m\n",
      "\u001b[36mFile \u001b[39m\u001b[32m/opt/anaconda3/envs/mommy/lib/python3.13/queue.py:202\u001b[39m, in \u001b[36mQueue.get\u001b[39m\u001b[34m(self, block, timeout)\u001b[39m\n\u001b[32m    200\u001b[39m \u001b[38;5;28;01melif\u001b[39;00m timeout \u001b[38;5;129;01mis\u001b[39;00m \u001b[38;5;28;01mNone\u001b[39;00m:\n\u001b[32m    201\u001b[39m     \u001b[38;5;28;01mwhile\u001b[39;00m \u001b[38;5;129;01mnot\u001b[39;00m \u001b[38;5;28mself\u001b[39m._qsize():\n\u001b[32m--> \u001b[39m\u001b[32m202\u001b[39m         \u001b[38;5;28;43mself\u001b[39;49m\u001b[43m.\u001b[49m\u001b[43mnot_empty\u001b[49m\u001b[43m.\u001b[49m\u001b[43mwait\u001b[49m\u001b[43m(\u001b[49m\u001b[43m)\u001b[49m\n\u001b[32m    203\u001b[39m         \u001b[38;5;28;01mif\u001b[39;00m \u001b[38;5;28mself\u001b[39m.is_shutdown \u001b[38;5;129;01mand\u001b[39;00m \u001b[38;5;129;01mnot\u001b[39;00m \u001b[38;5;28mself\u001b[39m._qsize():\n\u001b[32m    204\u001b[39m             \u001b[38;5;28;01mraise\u001b[39;00m ShutDown\n",
      "\u001b[36mFile \u001b[39m\u001b[32m/opt/anaconda3/envs/mommy/lib/python3.13/threading.py:359\u001b[39m, in \u001b[36mCondition.wait\u001b[39m\u001b[34m(self, timeout)\u001b[39m\n\u001b[32m    357\u001b[39m \u001b[38;5;28;01mtry\u001b[39;00m:    \u001b[38;5;66;03m# restore state no matter what (e.g., KeyboardInterrupt)\u001b[39;00m\n\u001b[32m    358\u001b[39m     \u001b[38;5;28;01mif\u001b[39;00m timeout \u001b[38;5;129;01mis\u001b[39;00m \u001b[38;5;28;01mNone\u001b[39;00m:\n\u001b[32m--> \u001b[39m\u001b[32m359\u001b[39m         \u001b[43mwaiter\u001b[49m\u001b[43m.\u001b[49m\u001b[43macquire\u001b[49m\u001b[43m(\u001b[49m\u001b[43m)\u001b[49m\n\u001b[32m    360\u001b[39m         gotit = \u001b[38;5;28;01mTrue\u001b[39;00m\n\u001b[32m    361\u001b[39m     \u001b[38;5;28;01melse\u001b[39;00m:\n",
      "\u001b[31mKeyboardInterrupt\u001b[39m: "
     ]
    }
   ],
   "source": [
    "import copernicusmarine\n",
    "\n",
    "copernicusmarine.subset(\n",
    "  dataset_id=\"cmems_mod_glo_phy_my_0.083deg_P1D-m\",\n",
    "  output_directory=output_directory,\n",
    "  variables=[\"so\", \"thetao\", \"uo\", \"vo\", \"zos\"],\n",
    "  minimum_longitude=-100-1,\n",
    "  maximum_longitude=-35+1,\n",
    "  minimum_latitude=0-1,\n",
    "  maximum_latitude=60+1,\n",
    "  start_datetime=\"1992-12-31T00:00:00\",\n",
    "  end_datetime=\"1994-06-30T00:00:00\",\n",
    "  minimum_depth=0.49402499198913574,\n",
    "  maximum_depth=5727.9169921875,\n",
    ")"
   ]
  },
  {
   "cell_type": "code",
   "execution_count": null,
   "id": "7e6fcd14",
   "metadata": {},
   "outputs": [
    {
     "ename": "KeyError",
     "evalue": "0",
     "output_type": "error",
     "traceback": [
      "\u001b[31m---------------------------------------------------------------------------\u001b[39m",
      "\u001b[31mKeyError\u001b[39m                                  Traceback (most recent call last)",
      "\u001b[36mCell\u001b[39m\u001b[36m \u001b[39m\u001b[32mIn[8]\u001b[39m\u001b[32m, line 1\u001b[39m\n\u001b[32m----> \u001b[39m\u001b[32m1\u001b[39m \u001b[43mcopernicusmarine\u001b[49m\u001b[43m.\u001b[49m\u001b[43mget\u001b[49m\u001b[43m(\u001b[49m\n\u001b[32m      2\u001b[39m \u001b[43m    \u001b[49m\u001b[43mdataset_id\u001b[49m\u001b[43m=\u001b[49m\u001b[33;43m'\u001b[39;49m\u001b[33;43mcmems_mod_glo_phy_my_0.083deg_P1D-m\u001b[39;49m\u001b[33;43m'\u001b[39;49m\u001b[43m,\u001b[49m\n\u001b[32m      3\u001b[39m \u001b[43m    \u001b[49m\u001b[38;5;28;43mfilter\u001b[39;49m\u001b[43m=\u001b[49m\u001b[43m{\u001b[49m\n\u001b[32m      4\u001b[39m \u001b[43m        \u001b[49m\u001b[33;43m'\u001b[39;49m\u001b[33;43mdate_filter\u001b[39;49m\u001b[33;43m'\u001b[39;49m\u001b[43m:\u001b[49m\u001b[43m \u001b[49m\u001b[43m{\u001b[49m\n\u001b[32m      5\u001b[39m \u001b[43m            \u001b[49m\u001b[33;43m'\u001b[39;49m\u001b[33;43mstart_date\u001b[39;49m\u001b[33;43m'\u001b[39;49m\u001b[43m:\u001b[49m\u001b[43m \u001b[49m\u001b[33;43m'\u001b[39;49m\u001b[33;43m1992-01-01\u001b[39;49m\u001b[33;43m'\u001b[39;49m\u001b[43m,\u001b[49m\u001b[43m \u001b[49m\n\u001b[32m      6\u001b[39m \u001b[43m            \u001b[49m\u001b[33;43m'\u001b[39;49m\u001b[33;43mend_date\u001b[39;49m\u001b[33;43m'\u001b[39;49m\u001b[43m:\u001b[49m\u001b[43m \u001b[49m\u001b[33;43m'\u001b[39;49m\u001b[33;43m1994-01-31\u001b[39;49m\u001b[33;43m'\u001b[39;49m\n\u001b[32m      7\u001b[39m \u001b[43m        \u001b[49m\u001b[43m}\u001b[49m\u001b[43m,\u001b[49m\n\u001b[32m      8\u001b[39m \u001b[43m        \u001b[49m\u001b[33;43m'\u001b[39;49m\u001b[33;43marea_filter\u001b[39;49m\u001b[33;43m'\u001b[39;49m\u001b[43m:\u001b[49m\u001b[43m \u001b[49m\u001b[43m{\u001b[49m\n\u001b[32m      9\u001b[39m \u001b[43m            \u001b[49m\u001b[33;43m'\u001b[39;49m\u001b[33;43mlongitude_min\u001b[39;49m\u001b[33;43m'\u001b[39;49m\u001b[43m:\u001b[49m\u001b[43m \u001b[49m\u001b[43m-\u001b[49m\u001b[32;43m100\u001b[39;49m\u001b[43m,\u001b[49m\n\u001b[32m     10\u001b[39m \u001b[43m            \u001b[49m\u001b[33;43m'\u001b[39;49m\u001b[33;43mlongitude_max\u001b[39;49m\u001b[33;43m'\u001b[39;49m\u001b[43m:\u001b[49m\u001b[43m \u001b[49m\u001b[43m-\u001b[49m\u001b[32;43m35\u001b[39;49m\u001b[43m,\u001b[49m\n\u001b[32m     11\u001b[39m \u001b[43m            \u001b[49m\u001b[33;43m'\u001b[39;49m\u001b[33;43mlatitude_min\u001b[39;49m\u001b[33;43m'\u001b[39;49m\u001b[43m:\u001b[49m\u001b[43m \u001b[49m\u001b[32;43m0\u001b[39;49m\u001b[43m,\u001b[49m\n\u001b[32m     12\u001b[39m \u001b[43m            \u001b[49m\u001b[33;43m'\u001b[39;49m\u001b[33;43mlatitude_max\u001b[39;49m\u001b[33;43m'\u001b[39;49m\u001b[43m:\u001b[49m\u001b[43m \u001b[49m\u001b[32;43m60\u001b[39;49m\n\u001b[32m     13\u001b[39m \u001b[43m        \u001b[49m\u001b[43m}\u001b[49m\u001b[43m,\u001b[49m\n\u001b[32m     14\u001b[39m \u001b[43m    \u001b[49m\u001b[33;43m'\u001b[39;49m\u001b[33;43mvariables\u001b[39;49m\u001b[33;43m'\u001b[39;49m\u001b[43m:\u001b[49m\u001b[43m{\u001b[49m\n\u001b[32m     15\u001b[39m \u001b[43m        \u001b[49m\u001b[33;43m'\u001b[39;49m\u001b[33;43mthetao\u001b[39;49m\u001b[33;43m'\u001b[39;49m\u001b[43m,\u001b[49m\u001b[43m   \u001b[49m\u001b[38;5;66;43;03m# 3D Potential Temperature\u001b[39;49;00m\n\u001b[32m     16\u001b[39m \u001b[43m        \u001b[49m\u001b[33;43m'\u001b[39;49m\u001b[33;43mso\u001b[39;49m\u001b[33;43m'\u001b[39;49m\u001b[43m,\u001b[49m\u001b[43m       \u001b[49m\u001b[38;5;66;43;03m# 3D Salinity\u001b[39;49;00m\n\u001b[32m     17\u001b[39m \u001b[43m        \u001b[49m\u001b[33;43m'\u001b[39;49m\u001b[33;43muo\u001b[39;49m\u001b[33;43m'\u001b[39;49m\u001b[43m,\u001b[49m\u001b[43m       \u001b[49m\u001b[38;5;66;43;03m# 3D Zonal Current\u001b[39;49;00m\n\u001b[32m     18\u001b[39m \u001b[43m        \u001b[49m\u001b[33;43m'\u001b[39;49m\u001b[33;43mvo\u001b[39;49m\u001b[33;43m'\u001b[39;49m\u001b[43m,\u001b[49m\u001b[43m       \u001b[49m\u001b[38;5;66;43;03m# 3D Meridional Current\u001b[39;49;00m\n\u001b[32m     19\u001b[39m \u001b[43m        \u001b[49m\u001b[33;43m'\u001b[39;49m\u001b[33;43mzos\u001b[39;49m\u001b[33;43m'\u001b[39;49m\u001b[43m,\u001b[49m\u001b[43m      \u001b[49m\u001b[38;5;66;43;03m# 2D Sea Surface Height\u001b[39;49;00m\n\u001b[32m     20\u001b[39m \u001b[43m        \u001b[49m\u001b[33;43m'\u001b[39;49m\u001b[33;43mmlotst\u001b[39;49m\u001b[33;43m'\u001b[39;49m\u001b[43m,\u001b[49m\u001b[43m   \u001b[49m\u001b[38;5;66;43;03m# 2D Mixed Layer Thickness\u001b[39;49;00m\n\u001b[32m     21\u001b[39m \u001b[43m        \u001b[49m\u001b[33;43m'\u001b[39;49m\u001b[33;43mbottomT\u001b[39;49m\u001b[33;43m'\u001b[39;49m\u001b[43m   \u001b[49m\u001b[38;5;66;43;03m# 2D Bottom Temperature\u001b[39;49;00m\n\u001b[32m     22\u001b[39m \u001b[43m    \u001b[49m\u001b[43m}\u001b[49m\n\u001b[32m     23\u001b[39m \u001b[43m    \u001b[49m\u001b[43m}\u001b[49m\n\u001b[32m     24\u001b[39m \u001b[43m)\u001b[49m\n",
      "\u001b[36mFile \u001b[39m\u001b[32m/opt/anaconda3/envs/mommy/lib/python3.13/site-packages/copernicusmarine/core_functions/deprecated_options.py:78\u001b[39m, in \u001b[36mdeprecated_python_option.<locals>.deco.<locals>.wrapper\u001b[39m\u001b[34m(*args, **kwargs)\u001b[39m\n\u001b[32m     75\u001b[39m \u001b[38;5;129m@functools\u001b[39m.wraps(f)\n\u001b[32m     76\u001b[39m \u001b[38;5;28;01mdef\u001b[39;00m\u001b[38;5;250m \u001b[39m\u001b[34mwrapper\u001b[39m(*args, **kwargs):\n\u001b[32m     77\u001b[39m     rename_kwargs(f.\u001b[34m__name__\u001b[39m, kwargs, aliases)\n\u001b[32m---> \u001b[39m\u001b[32m78\u001b[39m     \u001b[38;5;28;01mreturn\u001b[39;00m \u001b[43mf\u001b[49m\u001b[43m(\u001b[49m\u001b[43m*\u001b[49m\u001b[43margs\u001b[49m\u001b[43m,\u001b[49m\u001b[43m \u001b[49m\u001b[43m*\u001b[49m\u001b[43m*\u001b[49m\u001b[43mkwargs\u001b[49m\u001b[43m)\u001b[49m\n",
      "\u001b[36mFile \u001b[39m\u001b[32m/opt/anaconda3/envs/mommy/lib/python3.13/site-packages/copernicusmarine/python_interface/exception_handler.py:17\u001b[39m, in \u001b[36mlog_exception_and_exit.<locals>.wrapper\u001b[39m\u001b[34m(*args, **kwargs)\u001b[39m\n\u001b[32m     15\u001b[39m     \u001b[38;5;28mprint\u001b[39m(\u001b[33m\"\u001b[39m\u001b[33mAbort\u001b[39m\u001b[33m\"\u001b[39m)\n\u001b[32m     16\u001b[39m \u001b[38;5;28;01mexcept\u001b[39;00m \u001b[38;5;167;01mException\u001b[39;00m \u001b[38;5;28;01mas\u001b[39;00m exception:\n\u001b[32m---> \u001b[39m\u001b[32m17\u001b[39m     \u001b[38;5;28;01mraise\u001b[39;00m exception\n",
      "\u001b[36mFile \u001b[39m\u001b[32m/opt/anaconda3/envs/mommy/lib/python3.13/site-packages/copernicusmarine/python_interface/exception_handler.py:13\u001b[39m, in \u001b[36mlog_exception_and_exit.<locals>.wrapper\u001b[39m\u001b[34m(*args, **kwargs)\u001b[39m\n\u001b[32m     10\u001b[39m \u001b[38;5;129m@wraps\u001b[39m(function)\n\u001b[32m     11\u001b[39m \u001b[38;5;28;01mdef\u001b[39;00m\u001b[38;5;250m \u001b[39m\u001b[34mwrapper\u001b[39m(*args, **kwargs):\n\u001b[32m     12\u001b[39m     \u001b[38;5;28;01mtry\u001b[39;00m:\n\u001b[32m---> \u001b[39m\u001b[32m13\u001b[39m         \u001b[38;5;28;01mreturn\u001b[39;00m \u001b[43mfunction\u001b[49m\u001b[43m(\u001b[49m\u001b[43m*\u001b[49m\u001b[43margs\u001b[49m\u001b[43m,\u001b[49m\u001b[43m \u001b[49m\u001b[43m*\u001b[49m\u001b[43m*\u001b[49m\u001b[43mkwargs\u001b[49m\u001b[43m)\u001b[49m\n\u001b[32m     14\u001b[39m     \u001b[38;5;28;01mexcept\u001b[39;00m click.Abort:\n\u001b[32m     15\u001b[39m         \u001b[38;5;28mprint\u001b[39m(\u001b[33m\"\u001b[39m\u001b[33mAbort\u001b[39m\u001b[33m\"\u001b[39m)\n",
      "\u001b[36mFile \u001b[39m\u001b[32m/opt/anaconda3/envs/mommy/lib/python3.13/site-packages/copernicusmarine/python_interface/get.py:129\u001b[39m, in \u001b[36mget\u001b[39m\u001b[34m(dataset_id, dataset_version, dataset_part, username, password, no_directories, output_directory, credentials_file, overwrite, request_file, filter, regex, file_list, create_file_list, index_parts, sync, sync_delete, skip_existing, dry_run, max_concurrent_requests, disable_progress_bar, staging)\u001b[39m\n\u001b[32m    127\u001b[39m file_list = pathlib.Path(file_list) \u001b[38;5;28;01mif\u001b[39;00m file_list \u001b[38;5;28;01melse\u001b[39;00m \u001b[38;5;28;01mNone\u001b[39;00m\n\u001b[32m    128\u001b[39m request_file = pathlib.Path(request_file) \u001b[38;5;28;01mif\u001b[39;00m request_file \u001b[38;5;28;01melse\u001b[39;00m \u001b[38;5;28;01mNone\u001b[39;00m\n\u001b[32m--> \u001b[39m\u001b[32m129\u001b[39m \u001b[38;5;28;01mreturn\u001b[39;00m \u001b[43mget_function\u001b[49m\u001b[43m(\u001b[49m\n\u001b[32m    130\u001b[39m \u001b[43m    \u001b[49m\u001b[43mdataset_id\u001b[49m\u001b[43m=\u001b[49m\u001b[43mdataset_id\u001b[49m\u001b[43m,\u001b[49m\n\u001b[32m    131\u001b[39m \u001b[43m    \u001b[49m\u001b[43mforce_dataset_version\u001b[49m\u001b[43m=\u001b[49m\u001b[43mdataset_version\u001b[49m\u001b[43m,\u001b[49m\n\u001b[32m    132\u001b[39m \u001b[43m    \u001b[49m\u001b[43mforce_dataset_part\u001b[49m\u001b[43m=\u001b[49m\u001b[43mdataset_part\u001b[49m\u001b[43m,\u001b[49m\n\u001b[32m    133\u001b[39m \u001b[43m    \u001b[49m\u001b[43musername\u001b[49m\u001b[43m=\u001b[49m\u001b[43musername\u001b[49m\u001b[43m,\u001b[49m\n\u001b[32m    134\u001b[39m \u001b[43m    \u001b[49m\u001b[43mpassword\u001b[49m\u001b[43m=\u001b[49m\u001b[43mpassword\u001b[49m\u001b[43m,\u001b[49m\n\u001b[32m    135\u001b[39m \u001b[43m    \u001b[49m\u001b[43mno_directories\u001b[49m\u001b[43m=\u001b[49m\u001b[43mno_directories\u001b[49m\u001b[43m,\u001b[49m\n\u001b[32m    136\u001b[39m \u001b[43m    \u001b[49m\u001b[43moutput_directory\u001b[49m\u001b[43m=\u001b[49m\u001b[43moutput_directory\u001b[49m\u001b[43m,\u001b[49m\n\u001b[32m    137\u001b[39m \u001b[43m    \u001b[49m\u001b[43mcredentials_file\u001b[49m\u001b[43m=\u001b[49m\u001b[43mcredentials_file\u001b[49m\u001b[43m,\u001b[49m\n\u001b[32m    138\u001b[39m \u001b[43m    \u001b[49m\u001b[43moverwrite\u001b[49m\u001b[43m=\u001b[49m\u001b[43moverwrite\u001b[49m\u001b[43m,\u001b[49m\n\u001b[32m    139\u001b[39m \u001b[43m    \u001b[49m\u001b[43mrequest_file\u001b[49m\u001b[43m=\u001b[49m\u001b[43mrequest_file\u001b[49m\u001b[43m,\u001b[49m\n\u001b[32m    140\u001b[39m \u001b[43m    \u001b[49m\u001b[43mfilter_option\u001b[49m\u001b[43m=\u001b[49m\u001b[38;5;28;43mfilter\u001b[39;49m\u001b[43m,\u001b[49m\n\u001b[32m    141\u001b[39m \u001b[43m    \u001b[49m\u001b[43mregex\u001b[49m\u001b[43m=\u001b[49m\u001b[43mregex\u001b[49m\u001b[43m,\u001b[49m\n\u001b[32m    142\u001b[39m \u001b[43m    \u001b[49m\u001b[43mfile_list_path\u001b[49m\u001b[43m=\u001b[49m\u001b[43mfile_list\u001b[49m\u001b[43m,\u001b[49m\n\u001b[32m    143\u001b[39m \u001b[43m    \u001b[49m\u001b[43mcreate_file_list\u001b[49m\u001b[43m=\u001b[49m\u001b[43mcreate_file_list\u001b[49m\u001b[43m,\u001b[49m\n\u001b[32m    144\u001b[39m \u001b[43m    \u001b[49m\u001b[43mindex_parts\u001b[49m\u001b[43m=\u001b[49m\u001b[43mindex_parts\u001b[49m\u001b[43m,\u001b[49m\n\u001b[32m    145\u001b[39m \u001b[43m    \u001b[49m\u001b[43msync\u001b[49m\u001b[43m=\u001b[49m\u001b[43msync\u001b[49m\u001b[43m,\u001b[49m\n\u001b[32m    146\u001b[39m \u001b[43m    \u001b[49m\u001b[43msync_delete\u001b[49m\u001b[43m=\u001b[49m\u001b[43msync_delete\u001b[49m\u001b[43m,\u001b[49m\n\u001b[32m    147\u001b[39m \u001b[43m    \u001b[49m\u001b[43mskip_existing\u001b[49m\u001b[43m=\u001b[49m\u001b[43mskip_existing\u001b[49m\u001b[43m,\u001b[49m\n\u001b[32m    148\u001b[39m \u001b[43m    \u001b[49m\u001b[43mdry_run\u001b[49m\u001b[43m=\u001b[49m\u001b[43mdry_run\u001b[49m\u001b[43m,\u001b[49m\n\u001b[32m    149\u001b[39m \u001b[43m    \u001b[49m\u001b[43mmax_concurrent_requests\u001b[49m\u001b[43m=\u001b[49m\u001b[43mmax_concurrent_requests\u001b[49m\u001b[43m,\u001b[49m\n\u001b[32m    150\u001b[39m \u001b[43m    \u001b[49m\u001b[43mdisable_progress_bar\u001b[49m\u001b[43m=\u001b[49m\u001b[43mdisable_progress_bar\u001b[49m\u001b[43m,\u001b[49m\n\u001b[32m    151\u001b[39m \u001b[43m    \u001b[49m\u001b[43mstaging\u001b[49m\u001b[43m=\u001b[49m\u001b[43mstaging\u001b[49m\u001b[43m,\u001b[49m\n\u001b[32m    152\u001b[39m \u001b[43m\u001b[49m\u001b[43m)\u001b[49m\n",
      "\u001b[36mFile \u001b[39m\u001b[32m/opt/anaconda3/envs/mommy/lib/python3.13/site-packages/copernicusmarine/core_functions/get.py:92\u001b[39m, in \u001b[36mget_function\u001b[39m\u001b[34m(dataset_id, force_dataset_version, force_dataset_part, username, password, no_directories, output_directory, credentials_file, overwrite, request_file, filter_option, regex, file_list_path, create_file_list, sync, sync_delete, index_parts, skip_existing, dry_run, max_concurrent_requests, disable_progress_bar, staging)\u001b[39m\n\u001b[32m     89\u001b[39m     get_request.no_directories = no_directories\n\u001b[32m     91\u001b[39m \u001b[38;5;28;01mif\u001b[39;00m filter_option:\n\u001b[32m---> \u001b[39m\u001b[32m92\u001b[39m     get_request.regex = \u001b[43mfilter_to_regex\u001b[49m\u001b[43m(\u001b[49m\u001b[43mfilter_option\u001b[49m\u001b[43m)\u001b[49m\n\u001b[32m     93\u001b[39m \u001b[38;5;28;01mif\u001b[39;00m regex:\n\u001b[32m     94\u001b[39m     get_request.regex = overload_regex_with_additionnal_filter(\n\u001b[32m     95\u001b[39m         regex, get_request.regex\n\u001b[32m     96\u001b[39m     )\n",
      "\u001b[36mFile \u001b[39m\u001b[32m/opt/anaconda3/envs/mommy/lib/python3.13/site-packages/copernicusmarine/core_functions/request_structure.py:354\u001b[39m, in \u001b[36mfilter_to_regex\u001b[39m\u001b[34m(filter)\u001b[39m\n\u001b[32m    353\u001b[39m \u001b[38;5;28;01mdef\u001b[39;00m\u001b[38;5;250m \u001b[39m\u001b[34mfilter_to_regex\u001b[39m(\u001b[38;5;28mfilter\u001b[39m: \u001b[38;5;28mstr\u001b[39m) -> \u001b[38;5;28mstr\u001b[39m:\n\u001b[32m--> \u001b[39m\u001b[32m354\u001b[39m     \u001b[38;5;28;01mreturn\u001b[39;00m \u001b[43mfnmatch\u001b[49m\u001b[43m.\u001b[49m\u001b[43mtranslate\u001b[49m\u001b[43m(\u001b[49m\u001b[38;5;28;43mfilter\u001b[39;49m\u001b[43m)\u001b[49m\n",
      "\u001b[36mFile \u001b[39m\u001b[32m/opt/anaconda3/envs/mommy/lib/python3.13/fnmatch.py:81\u001b[39m, in \u001b[36mtranslate\u001b[39m\u001b[34m(pat)\u001b[39m\n\u001b[32m     75\u001b[39m \u001b[38;5;250m\u001b[39m\u001b[33;03m\"\"\"Translate a shell PATTERN to a regular expression.\u001b[39;00m\n\u001b[32m     76\u001b[39m \n\u001b[32m     77\u001b[39m \u001b[33;03mThere is no way to quote meta-characters.\u001b[39;00m\n\u001b[32m     78\u001b[39m \u001b[33;03m\"\"\"\u001b[39;00m\n\u001b[32m     80\u001b[39m STAR = \u001b[38;5;28mobject\u001b[39m()\n\u001b[32m---> \u001b[39m\u001b[32m81\u001b[39m parts = \u001b[43m_translate\u001b[49m\u001b[43m(\u001b[49m\u001b[43mpat\u001b[49m\u001b[43m,\u001b[49m\u001b[43m \u001b[49m\u001b[43mSTAR\u001b[49m\u001b[43m,\u001b[49m\u001b[43m \u001b[49m\u001b[33;43m'\u001b[39;49m\u001b[33;43m.\u001b[39;49m\u001b[33;43m'\u001b[39;49m\u001b[43m)\u001b[49m\n\u001b[32m     82\u001b[39m \u001b[38;5;28;01mreturn\u001b[39;00m _join_translated_parts(parts, STAR)\n",
      "\u001b[36mFile \u001b[39m\u001b[32m/opt/anaconda3/envs/mommy/lib/python3.13/fnmatch.py:90\u001b[39m, in \u001b[36m_translate\u001b[39m\u001b[34m(pat, STAR, QUESTION_MARK)\u001b[39m\n\u001b[32m     88\u001b[39m i, n = \u001b[32m0\u001b[39m, \u001b[38;5;28mlen\u001b[39m(pat)\n\u001b[32m     89\u001b[39m \u001b[38;5;28;01mwhile\u001b[39;00m i < n:\n\u001b[32m---> \u001b[39m\u001b[32m90\u001b[39m     c = \u001b[43mpat\u001b[49m\u001b[43m[\u001b[49m\u001b[43mi\u001b[49m\u001b[43m]\u001b[49m\n\u001b[32m     91\u001b[39m     i = i+\u001b[32m1\u001b[39m\n\u001b[32m     92\u001b[39m     \u001b[38;5;28;01mif\u001b[39;00m c == \u001b[33m'\u001b[39m\u001b[33m*\u001b[39m\u001b[33m'\u001b[39m:\n\u001b[32m     93\u001b[39m         \u001b[38;5;66;03m# compress consecutive `*` into one\u001b[39;00m\n",
      "\u001b[31mKeyError\u001b[39m: 0"
     ]
    }
   ],
   "source": [
    "copernicusmarine.get(\n",
    "    dataset_id='cmems_mod_glo_phy_my_0.083deg_P1D-m',\n",
    "    output_directory=output_directory,\n",
    "    variables=[\"so\", \"thetao\", \"uo\", \"vo\", \"zos\"],\n",
    "    filter={\n",
    "        'date_filter': {\n",
    "            'start_date': '1992-01-01', \n",
    "            'end_date': '1994-01-31'\n",
    "        },\n",
    "        'area_filter': {\n",
    "            'longitude_min': -100,\n",
    "            'longitude_max': -35,\n",
    "            'latitude_min': 0,\n",
    "            'latitude_max': 60\n",
    "        },\n",
    "\n",
    "    }\n",
    ")"
   ]
  },
  {
   "cell_type": "code",
   "execution_count": null,
   "id": "686dec74",
   "metadata": {},
   "outputs": [
    {
     "name": "stderr",
     "output_type": "stream",
     "text": [
      "INFO - 2025-10-16T16:01:38Z - Selected dataset version: \"202311\"\n",
      "INFO - 2025-10-16T16:01:38Z - Selected dataset part: \"default\"\n",
      "INFO - 2025-10-16T16:01:38Z - Listing files on remote server...\n",
      "12it [00:04,  2.76it/s]\n"
     ]
    },
    {
     "ename": "KeyboardInterrupt",
     "evalue": "",
     "output_type": "error",
     "traceback": [
      "\u001b[31m---------------------------------------------------------------------------\u001b[39m",
      "\u001b[31mFileNotFoundError\u001b[39m                         Traceback (most recent call last)",
      "\u001b[36mFile \u001b[39m\u001b[32m/opt/anaconda3/envs/mommy/lib/python3.13/pathlib/_local.py:722\u001b[39m, in \u001b[36mPath.mkdir\u001b[39m\u001b[34m(self, mode, parents, exist_ok)\u001b[39m\n\u001b[32m    721\u001b[39m \u001b[38;5;28;01mtry\u001b[39;00m:\n\u001b[32m--> \u001b[39m\u001b[32m722\u001b[39m     \u001b[43mos\u001b[49m\u001b[43m.\u001b[49m\u001b[43mmkdir\u001b[49m\u001b[43m(\u001b[49m\u001b[38;5;28;43mself\u001b[39;49m\u001b[43m,\u001b[49m\u001b[43m \u001b[49m\u001b[43mmode\u001b[49m\u001b[43m)\u001b[49m\n\u001b[32m    723\u001b[39m \u001b[38;5;28;01mexcept\u001b[39;00m \u001b[38;5;167;01mFileNotFoundError\u001b[39;00m:\n",
      "\u001b[31mFileNotFoundError\u001b[39m: [Errno 2] No such file or directory: 'GLOBAL_MULTIYEAR_PHY_001_030/cmems_mod_glo_phy_my_0.083deg_P1D-m_202311/1993/01'",
      "\nDuring handling of the above exception, another exception occurred:\n",
      "\u001b[31mFileNotFoundError\u001b[39m                         Traceback (most recent call last)",
      "\u001b[36mFile \u001b[39m\u001b[32m/opt/anaconda3/envs/mommy/lib/python3.13/pathlib/_local.py:722\u001b[39m, in \u001b[36mPath.mkdir\u001b[39m\u001b[34m(self, mode, parents, exist_ok)\u001b[39m\n\u001b[32m    721\u001b[39m \u001b[38;5;28;01mtry\u001b[39;00m:\n\u001b[32m--> \u001b[39m\u001b[32m722\u001b[39m     \u001b[43mos\u001b[49m\u001b[43m.\u001b[49m\u001b[43mmkdir\u001b[49m\u001b[43m(\u001b[49m\u001b[38;5;28;43mself\u001b[39;49m\u001b[43m,\u001b[49m\u001b[43m \u001b[49m\u001b[43mmode\u001b[49m\u001b[43m)\u001b[49m\n\u001b[32m    723\u001b[39m \u001b[38;5;28;01mexcept\u001b[39;00m \u001b[38;5;167;01mFileNotFoundError\u001b[39;00m:\n",
      "\u001b[31mFileNotFoundError\u001b[39m: [Errno 2] No such file or directory: 'GLOBAL_MULTIYEAR_PHY_001_030/cmems_mod_glo_phy_my_0.083deg_P1D-m_202311/1993'",
      "\nDuring handling of the above exception, another exception occurred:\n",
      "\u001b[31mFileNotFoundError\u001b[39m                         Traceback (most recent call last)",
      "\u001b[36mFile \u001b[39m\u001b[32m/opt/anaconda3/envs/mommy/lib/python3.13/pathlib/_local.py:722\u001b[39m, in \u001b[36mPath.mkdir\u001b[39m\u001b[34m(self, mode, parents, exist_ok)\u001b[39m\n\u001b[32m    721\u001b[39m \u001b[38;5;28;01mtry\u001b[39;00m:\n\u001b[32m--> \u001b[39m\u001b[32m722\u001b[39m     \u001b[43mos\u001b[49m\u001b[43m.\u001b[49m\u001b[43mmkdir\u001b[49m\u001b[43m(\u001b[49m\u001b[38;5;28;43mself\u001b[39;49m\u001b[43m,\u001b[49m\u001b[43m \u001b[49m\u001b[43mmode\u001b[49m\u001b[43m)\u001b[49m\n\u001b[32m    723\u001b[39m \u001b[38;5;28;01mexcept\u001b[39;00m \u001b[38;5;167;01mFileNotFoundError\u001b[39;00m:\n",
      "\u001b[31mFileNotFoundError\u001b[39m: [Errno 2] No such file or directory: 'GLOBAL_MULTIYEAR_PHY_001_030/cmems_mod_glo_phy_my_0.083deg_P1D-m_202311'",
      "\nDuring handling of the above exception, another exception occurred:\n",
      "\u001b[31mKeyboardInterrupt\u001b[39m                         Traceback (most recent call last)",
      "\u001b[36mCell\u001b[39m\u001b[36m \u001b[39m\u001b[32mIn[4]\u001b[39m\u001b[32m, line 1\u001b[39m\n\u001b[32m----> \u001b[39m\u001b[32m1\u001b[39m \u001b[43mcopernicusmarine\u001b[49m\u001b[43m.\u001b[49m\u001b[43mget\u001b[49m\u001b[43m(\u001b[49m\n\u001b[32m      2\u001b[39m \u001b[43m    \u001b[49m\u001b[43mdataset_id\u001b[49m\u001b[43m=\u001b[49m\u001b[33;43m'\u001b[39;49m\u001b[33;43mcmems_mod_glo_phy_my_0.083deg_P1D-m\u001b[39;49m\u001b[33;43m'\u001b[39;49m\n\u001b[32m      3\u001b[39m \u001b[43m    \u001b[49m\u001b[38;5;66;43;03m#force_download=True,\u001b[39;49;00m\n\u001b[32m      4\u001b[39m \u001b[43m    \u001b[49m\u001b[38;5;66;43;03m#filter=\u001b[39;49;00m\n\u001b[32m      5\u001b[39m \n\u001b[32m      6\u001b[39m \u001b[43m)\u001b[49m\n",
      "\u001b[36mFile \u001b[39m\u001b[32m/opt/anaconda3/envs/mommy/lib/python3.13/site-packages/copernicusmarine/core_functions/deprecated_options.py:78\u001b[39m, in \u001b[36mdeprecated_python_option.<locals>.deco.<locals>.wrapper\u001b[39m\u001b[34m(*args, **kwargs)\u001b[39m\n\u001b[32m     75\u001b[39m \u001b[38;5;129m@functools\u001b[39m.wraps(f)\n\u001b[32m     76\u001b[39m \u001b[38;5;28;01mdef\u001b[39;00m\u001b[38;5;250m \u001b[39m\u001b[34mwrapper\u001b[39m(*args, **kwargs):\n\u001b[32m     77\u001b[39m     rename_kwargs(f.\u001b[34m__name__\u001b[39m, kwargs, aliases)\n\u001b[32m---> \u001b[39m\u001b[32m78\u001b[39m     \u001b[38;5;28;01mreturn\u001b[39;00m \u001b[43mf\u001b[49m\u001b[43m(\u001b[49m\u001b[43m*\u001b[49m\u001b[43margs\u001b[49m\u001b[43m,\u001b[49m\u001b[43m \u001b[49m\u001b[43m*\u001b[49m\u001b[43m*\u001b[49m\u001b[43mkwargs\u001b[49m\u001b[43m)\u001b[49m\n",
      "\u001b[36mFile \u001b[39m\u001b[32m/opt/anaconda3/envs/mommy/lib/python3.13/site-packages/copernicusmarine/python_interface/exception_handler.py:13\u001b[39m, in \u001b[36mlog_exception_and_exit.<locals>.wrapper\u001b[39m\u001b[34m(*args, **kwargs)\u001b[39m\n\u001b[32m     10\u001b[39m \u001b[38;5;129m@wraps\u001b[39m(function)\n\u001b[32m     11\u001b[39m \u001b[38;5;28;01mdef\u001b[39;00m\u001b[38;5;250m \u001b[39m\u001b[34mwrapper\u001b[39m(*args, **kwargs):\n\u001b[32m     12\u001b[39m     \u001b[38;5;28;01mtry\u001b[39;00m:\n\u001b[32m---> \u001b[39m\u001b[32m13\u001b[39m         \u001b[38;5;28;01mreturn\u001b[39;00m \u001b[43mfunction\u001b[49m\u001b[43m(\u001b[49m\u001b[43m*\u001b[49m\u001b[43margs\u001b[49m\u001b[43m,\u001b[49m\u001b[43m \u001b[49m\u001b[43m*\u001b[49m\u001b[43m*\u001b[49m\u001b[43mkwargs\u001b[49m\u001b[43m)\u001b[49m\n\u001b[32m     14\u001b[39m     \u001b[38;5;28;01mexcept\u001b[39;00m click.Abort:\n\u001b[32m     15\u001b[39m         \u001b[38;5;28mprint\u001b[39m(\u001b[33m\"\u001b[39m\u001b[33mAbort\u001b[39m\u001b[33m\"\u001b[39m)\n",
      "\u001b[36mFile \u001b[39m\u001b[32m/opt/anaconda3/envs/mommy/lib/python3.13/site-packages/copernicusmarine/python_interface/get.py:129\u001b[39m, in \u001b[36mget\u001b[39m\u001b[34m(dataset_id, dataset_version, dataset_part, username, password, no_directories, output_directory, credentials_file, overwrite, request_file, filter, regex, file_list, create_file_list, index_parts, sync, sync_delete, skip_existing, dry_run, max_concurrent_requests, disable_progress_bar, staging)\u001b[39m\n\u001b[32m    127\u001b[39m file_list = pathlib.Path(file_list) \u001b[38;5;28;01mif\u001b[39;00m file_list \u001b[38;5;28;01melse\u001b[39;00m \u001b[38;5;28;01mNone\u001b[39;00m\n\u001b[32m    128\u001b[39m request_file = pathlib.Path(request_file) \u001b[38;5;28;01mif\u001b[39;00m request_file \u001b[38;5;28;01melse\u001b[39;00m \u001b[38;5;28;01mNone\u001b[39;00m\n\u001b[32m--> \u001b[39m\u001b[32m129\u001b[39m \u001b[38;5;28;01mreturn\u001b[39;00m \u001b[43mget_function\u001b[49m\u001b[43m(\u001b[49m\n\u001b[32m    130\u001b[39m \u001b[43m    \u001b[49m\u001b[43mdataset_id\u001b[49m\u001b[43m=\u001b[49m\u001b[43mdataset_id\u001b[49m\u001b[43m,\u001b[49m\n\u001b[32m    131\u001b[39m \u001b[43m    \u001b[49m\u001b[43mforce_dataset_version\u001b[49m\u001b[43m=\u001b[49m\u001b[43mdataset_version\u001b[49m\u001b[43m,\u001b[49m\n\u001b[32m    132\u001b[39m \u001b[43m    \u001b[49m\u001b[43mforce_dataset_part\u001b[49m\u001b[43m=\u001b[49m\u001b[43mdataset_part\u001b[49m\u001b[43m,\u001b[49m\n\u001b[32m    133\u001b[39m \u001b[43m    \u001b[49m\u001b[43musername\u001b[49m\u001b[43m=\u001b[49m\u001b[43musername\u001b[49m\u001b[43m,\u001b[49m\n\u001b[32m    134\u001b[39m \u001b[43m    \u001b[49m\u001b[43mpassword\u001b[49m\u001b[43m=\u001b[49m\u001b[43mpassword\u001b[49m\u001b[43m,\u001b[49m\n\u001b[32m    135\u001b[39m \u001b[43m    \u001b[49m\u001b[43mno_directories\u001b[49m\u001b[43m=\u001b[49m\u001b[43mno_directories\u001b[49m\u001b[43m,\u001b[49m\n\u001b[32m    136\u001b[39m \u001b[43m    \u001b[49m\u001b[43moutput_directory\u001b[49m\u001b[43m=\u001b[49m\u001b[43moutput_directory\u001b[49m\u001b[43m,\u001b[49m\n\u001b[32m    137\u001b[39m \u001b[43m    \u001b[49m\u001b[43mcredentials_file\u001b[49m\u001b[43m=\u001b[49m\u001b[43mcredentials_file\u001b[49m\u001b[43m,\u001b[49m\n\u001b[32m    138\u001b[39m \u001b[43m    \u001b[49m\u001b[43moverwrite\u001b[49m\u001b[43m=\u001b[49m\u001b[43moverwrite\u001b[49m\u001b[43m,\u001b[49m\n\u001b[32m    139\u001b[39m \u001b[43m    \u001b[49m\u001b[43mrequest_file\u001b[49m\u001b[43m=\u001b[49m\u001b[43mrequest_file\u001b[49m\u001b[43m,\u001b[49m\n\u001b[32m    140\u001b[39m \u001b[43m    \u001b[49m\u001b[43mfilter_option\u001b[49m\u001b[43m=\u001b[49m\u001b[38;5;28;43mfilter\u001b[39;49m\u001b[43m,\u001b[49m\n\u001b[32m    141\u001b[39m \u001b[43m    \u001b[49m\u001b[43mregex\u001b[49m\u001b[43m=\u001b[49m\u001b[43mregex\u001b[49m\u001b[43m,\u001b[49m\n\u001b[32m    142\u001b[39m \u001b[43m    \u001b[49m\u001b[43mfile_list_path\u001b[49m\u001b[43m=\u001b[49m\u001b[43mfile_list\u001b[49m\u001b[43m,\u001b[49m\n\u001b[32m    143\u001b[39m \u001b[43m    \u001b[49m\u001b[43mcreate_file_list\u001b[49m\u001b[43m=\u001b[49m\u001b[43mcreate_file_list\u001b[49m\u001b[43m,\u001b[49m\n\u001b[32m    144\u001b[39m \u001b[43m    \u001b[49m\u001b[43mindex_parts\u001b[49m\u001b[43m=\u001b[49m\u001b[43mindex_parts\u001b[49m\u001b[43m,\u001b[49m\n\u001b[32m    145\u001b[39m \u001b[43m    \u001b[49m\u001b[43msync\u001b[49m\u001b[43m=\u001b[49m\u001b[43msync\u001b[49m\u001b[43m,\u001b[49m\n\u001b[32m    146\u001b[39m \u001b[43m    \u001b[49m\u001b[43msync_delete\u001b[49m\u001b[43m=\u001b[49m\u001b[43msync_delete\u001b[49m\u001b[43m,\u001b[49m\n\u001b[32m    147\u001b[39m \u001b[43m    \u001b[49m\u001b[43mskip_existing\u001b[49m\u001b[43m=\u001b[49m\u001b[43mskip_existing\u001b[49m\u001b[43m,\u001b[49m\n\u001b[32m    148\u001b[39m \u001b[43m    \u001b[49m\u001b[43mdry_run\u001b[49m\u001b[43m=\u001b[49m\u001b[43mdry_run\u001b[49m\u001b[43m,\u001b[49m\n\u001b[32m    149\u001b[39m \u001b[43m    \u001b[49m\u001b[43mmax_concurrent_requests\u001b[49m\u001b[43m=\u001b[49m\u001b[43mmax_concurrent_requests\u001b[49m\u001b[43m,\u001b[49m\n\u001b[32m    150\u001b[39m \u001b[43m    \u001b[49m\u001b[43mdisable_progress_bar\u001b[49m\u001b[43m=\u001b[49m\u001b[43mdisable_progress_bar\u001b[49m\u001b[43m,\u001b[49m\n\u001b[32m    151\u001b[39m \u001b[43m    \u001b[49m\u001b[43mstaging\u001b[49m\u001b[43m=\u001b[49m\u001b[43mstaging\u001b[49m\u001b[43m,\u001b[49m\n\u001b[32m    152\u001b[39m \u001b[43m\u001b[49m\u001b[43m)\u001b[49m\n",
      "\u001b[36mFile \u001b[39m\u001b[32m/opt/anaconda3/envs/mommy/lib/python3.13/site-packages/copernicusmarine/core_functions/get.py:123\u001b[39m, in \u001b[36mget_function\u001b[39m\u001b[34m(dataset_id, force_dataset_version, force_dataset_part, username, password, no_directories, output_directory, credentials_file, overwrite, request_file, filter_option, regex, file_list_path, create_file_list, sync, sync_delete, index_parts, skip_existing, dry_run, max_concurrent_requests, disable_progress_bar, staging)\u001b[39m\n\u001b[32m    120\u001b[39m \u001b[38;5;28;01mif\u001b[39;00m create_file_list \u001b[38;5;129;01mor\u001b[39;00m dry_run:\n\u001b[32m    121\u001b[39m     get_request.dry_run = \u001b[38;5;28;01mTrue\u001b[39;00m\n\u001b[32m--> \u001b[39m\u001b[32m123\u001b[39m \u001b[38;5;28;01mreturn\u001b[39;00m \u001b[43m_run_get_request\u001b[49m\u001b[43m(\u001b[49m\n\u001b[32m    124\u001b[39m \u001b[43m    \u001b[49m\u001b[43musername\u001b[49m\u001b[43m=\u001b[49m\u001b[43musername\u001b[49m\u001b[43m,\u001b[49m\n\u001b[32m    125\u001b[39m \u001b[43m    \u001b[49m\u001b[43mpassword\u001b[49m\u001b[43m=\u001b[49m\u001b[43mpassword\u001b[49m\u001b[43m,\u001b[49m\n\u001b[32m    126\u001b[39m \u001b[43m    \u001b[49m\u001b[43mget_request\u001b[49m\u001b[43m=\u001b[49m\u001b[43mget_request\u001b[49m\u001b[43m,\u001b[49m\n\u001b[32m    127\u001b[39m \u001b[43m    \u001b[49m\u001b[43mcreate_file_list\u001b[49m\u001b[43m=\u001b[49m\u001b[43mcreate_file_list\u001b[49m\u001b[43m,\u001b[49m\n\u001b[32m    128\u001b[39m \u001b[43m    \u001b[49m\u001b[43mcredentials_file\u001b[49m\u001b[43m=\u001b[49m\u001b[43mcredentials_file\u001b[49m\u001b[43m,\u001b[49m\n\u001b[32m    129\u001b[39m \u001b[43m    \u001b[49m\u001b[43mmarine_datastore_config\u001b[49m\u001b[43m=\u001b[49m\u001b[43mmarine_datastore_config\u001b[49m\u001b[43m,\u001b[49m\n\u001b[32m    130\u001b[39m \u001b[43m    \u001b[49m\u001b[43mmax_concurrent_requests\u001b[49m\u001b[43m=\u001b[49m\u001b[43mmax_concurrent_requests\u001b[49m\u001b[43m,\u001b[49m\n\u001b[32m    131\u001b[39m \u001b[43m    \u001b[49m\u001b[43mdisable_progress_bar\u001b[49m\u001b[43m=\u001b[49m\u001b[43mdisable_progress_bar\u001b[49m\u001b[43m,\u001b[49m\n\u001b[32m    132\u001b[39m \u001b[43m    \u001b[49m\u001b[43mstaging\u001b[49m\u001b[43m=\u001b[49m\u001b[43mstaging\u001b[49m\u001b[43m,\u001b[49m\n\u001b[32m    133\u001b[39m \u001b[43m\u001b[49m\u001b[43m)\u001b[49m\n",
      "\u001b[36mFile \u001b[39m\u001b[32m/opt/anaconda3/envs/mommy/lib/python3.13/site-packages/copernicusmarine/core_functions/get.py:163\u001b[39m, in \u001b[36m_run_get_request\u001b[39m\u001b[34m(username, password, get_request, create_file_list, credentials_file, marine_datastore_config, max_concurrent_requests, disable_progress_bar, staging)\u001b[39m\n\u001b[32m    153\u001b[39m retrieval_service: RetrievalService = get_retrieval_service(\n\u001b[32m    154\u001b[39m     dataset_id=get_request.dataset_id,\n\u001b[32m    155\u001b[39m     force_dataset_version_label=get_request.force_dataset_version,\n\u001b[32m   (...)\u001b[39m\u001b[32m    160\u001b[39m     marine_datastore_config=marine_datastore_config,\n\u001b[32m    161\u001b[39m )\n\u001b[32m    162\u001b[39m get_request.dataset_url = retrieval_service.uri\n\u001b[32m--> \u001b[39m\u001b[32m163\u001b[39m downloaded_files = \u001b[43mdownload_original_files\u001b[49m\u001b[43m(\u001b[49m\n\u001b[32m    164\u001b[39m \u001b[43m    \u001b[49m\u001b[43musername\u001b[49m\u001b[43m,\u001b[49m\n\u001b[32m    165\u001b[39m \u001b[43m    \u001b[49m\u001b[43mpassword\u001b[49m\u001b[43m,\u001b[49m\n\u001b[32m    166\u001b[39m \u001b[43m    \u001b[49m\u001b[43mget_request\u001b[49m\u001b[43m,\u001b[49m\n\u001b[32m    167\u001b[39m \u001b[43m    \u001b[49m\u001b[43mmax_concurrent_requests\u001b[49m\u001b[43m,\u001b[49m\n\u001b[32m    168\u001b[39m \u001b[43m    \u001b[49m\u001b[43mdisable_progress_bar\u001b[49m\u001b[43m,\u001b[49m\n\u001b[32m    169\u001b[39m \u001b[43m    \u001b[49m\u001b[43mcreate_file_list\u001b[49m\u001b[43m,\u001b[49m\n\u001b[32m    170\u001b[39m \u001b[43m\u001b[49m\u001b[43m)\u001b[49m\n\u001b[32m    171\u001b[39m \u001b[38;5;28;01mreturn\u001b[39;00m downloaded_files\n",
      "\u001b[36mFile \u001b[39m\u001b[32m/opt/anaconda3/envs/mommy/lib/python3.13/site-packages/copernicusmarine/download_functions/download_original_files.py:155\u001b[39m, in \u001b[36mdownload_original_files\u001b[39m\u001b[34m(username, password, get_request, max_concurrent_requests, disable_progress_bar, create_file_list)\u001b[39m\n\u001b[32m    153\u001b[39m         filenames_in.append(s3_file.filename_in)\n\u001b[32m    154\u001b[39m         filenames_out.append(s3_file.filename_out)\n\u001b[32m--> \u001b[39m\u001b[32m155\u001b[39m \u001b[43mdownload_files\u001b[49m\u001b[43m(\u001b[49m\n\u001b[32m    156\u001b[39m \u001b[43m    \u001b[49m\u001b[43musername\u001b[49m\u001b[43m,\u001b[49m\n\u001b[32m    157\u001b[39m \u001b[43m    \u001b[49m\u001b[43mendpoint\u001b[49m\u001b[43m,\u001b[49m\n\u001b[32m    158\u001b[39m \u001b[43m    \u001b[49m\u001b[43mbucket\u001b[49m\u001b[43m,\u001b[49m\n\u001b[32m    159\u001b[39m \u001b[43m    \u001b[49m\u001b[43mfilenames_in\u001b[49m\u001b[43m,\u001b[49m\n\u001b[32m    160\u001b[39m \u001b[43m    \u001b[49m\u001b[43mfilenames_out\u001b[49m\u001b[43m,\u001b[49m\n\u001b[32m    161\u001b[39m \u001b[43m    \u001b[49m\u001b[43mmax_concurrent_requests\u001b[49m\u001b[43m,\u001b[49m\n\u001b[32m    162\u001b[39m \u001b[43m    \u001b[49m\u001b[43mdisable_progress_bar\u001b[49m\u001b[43m,\u001b[49m\n\u001b[32m    163\u001b[39m \u001b[43m\u001b[49m\u001b[43m)\u001b[49m\n\u001b[32m    164\u001b[39m \u001b[38;5;28;01mreturn\u001b[39;00m response\n",
      "\u001b[36mFile \u001b[39m\u001b[32m/opt/anaconda3/envs/mommy/lib/python3.13/site-packages/copernicusmarine/download_functions/download_original_files.py:266\u001b[39m, in \u001b[36mdownload_files\u001b[39m\u001b[34m(username, endpoint_url, bucket, filenames_in, filenames_out, max_concurrent_requests, disable_progress_bar)\u001b[39m\n\u001b[32m    264\u001b[39m     parent_dir = pathlib.Path(filename_out).parent\n\u001b[32m    265\u001b[39m     \u001b[38;5;28;01mif\u001b[39;00m \u001b[38;5;129;01mnot\u001b[39;00m parent_dir.is_dir():\n\u001b[32m--> \u001b[39m\u001b[32m266\u001b[39m         \u001b[43mpathlib\u001b[49m\u001b[43m.\u001b[49m\u001b[43mPath\u001b[49m\u001b[43m.\u001b[49m\u001b[43mmkdir\u001b[49m\u001b[43m(\u001b[49m\u001b[43mparent_dir\u001b[49m\u001b[43m,\u001b[49m\u001b[43m \u001b[49m\u001b[43mparents\u001b[49m\u001b[43m=\u001b[49m\u001b[38;5;28;43;01mTrue\u001b[39;49;00m\u001b[43m)\u001b[49m\n\u001b[32m    267\u001b[39m \u001b[38;5;28;01mif\u001b[39;00m max_concurrent_requests:\n\u001b[32m    268\u001b[39m     run_concurrently(\n\u001b[32m    269\u001b[39m         _download_one_file,\n\u001b[32m    270\u001b[39m         [\n\u001b[32m   (...)\u001b[39m\u001b[32m    281\u001b[39m         },\n\u001b[32m    282\u001b[39m     )\n",
      "\u001b[36mFile \u001b[39m\u001b[32m/opt/anaconda3/envs/mommy/lib/python3.13/pathlib/_local.py:726\u001b[39m, in \u001b[36mPath.mkdir\u001b[39m\u001b[34m(self, mode, parents, exist_ok)\u001b[39m\n\u001b[32m    724\u001b[39m     \u001b[38;5;28;01mif\u001b[39;00m \u001b[38;5;129;01mnot\u001b[39;00m parents \u001b[38;5;129;01mor\u001b[39;00m \u001b[38;5;28mself\u001b[39m.parent == \u001b[38;5;28mself\u001b[39m:\n\u001b[32m    725\u001b[39m         \u001b[38;5;28;01mraise\u001b[39;00m\n\u001b[32m--> \u001b[39m\u001b[32m726\u001b[39m     \u001b[38;5;28;43mself\u001b[39;49m\u001b[43m.\u001b[49m\u001b[43mparent\u001b[49m\u001b[43m.\u001b[49m\u001b[43mmkdir\u001b[49m\u001b[43m(\u001b[49m\u001b[43mparents\u001b[49m\u001b[43m=\u001b[49m\u001b[38;5;28;43;01mTrue\u001b[39;49;00m\u001b[43m,\u001b[49m\u001b[43m \u001b[49m\u001b[43mexist_ok\u001b[49m\u001b[43m=\u001b[49m\u001b[38;5;28;43;01mTrue\u001b[39;49;00m\u001b[43m)\u001b[49m\n\u001b[32m    727\u001b[39m     \u001b[38;5;28mself\u001b[39m.mkdir(mode, parents=\u001b[38;5;28;01mFalse\u001b[39;00m, exist_ok=exist_ok)\n\u001b[32m    728\u001b[39m \u001b[38;5;28;01mexcept\u001b[39;00m \u001b[38;5;167;01mOSError\u001b[39;00m:\n\u001b[32m    729\u001b[39m     \u001b[38;5;66;03m# Cannot rely on checking for EEXIST, since the operating system\u001b[39;00m\n\u001b[32m    730\u001b[39m     \u001b[38;5;66;03m# could give priority to other errors like EACCES or EROFS\u001b[39;00m\n",
      "\u001b[36mFile \u001b[39m\u001b[32m/opt/anaconda3/envs/mommy/lib/python3.13/pathlib/_local.py:726\u001b[39m, in \u001b[36mPath.mkdir\u001b[39m\u001b[34m(self, mode, parents, exist_ok)\u001b[39m\n\u001b[32m    724\u001b[39m     \u001b[38;5;28;01mif\u001b[39;00m \u001b[38;5;129;01mnot\u001b[39;00m parents \u001b[38;5;129;01mor\u001b[39;00m \u001b[38;5;28mself\u001b[39m.parent == \u001b[38;5;28mself\u001b[39m:\n\u001b[32m    725\u001b[39m         \u001b[38;5;28;01mraise\u001b[39;00m\n\u001b[32m--> \u001b[39m\u001b[32m726\u001b[39m     \u001b[38;5;28;43mself\u001b[39;49m\u001b[43m.\u001b[49m\u001b[43mparent\u001b[49m\u001b[43m.\u001b[49m\u001b[43mmkdir\u001b[49m\u001b[43m(\u001b[49m\u001b[43mparents\u001b[49m\u001b[43m=\u001b[49m\u001b[38;5;28;43;01mTrue\u001b[39;49;00m\u001b[43m,\u001b[49m\u001b[43m \u001b[49m\u001b[43mexist_ok\u001b[49m\u001b[43m=\u001b[49m\u001b[38;5;28;43;01mTrue\u001b[39;49;00m\u001b[43m)\u001b[49m\n\u001b[32m    727\u001b[39m     \u001b[38;5;28mself\u001b[39m.mkdir(mode, parents=\u001b[38;5;28;01mFalse\u001b[39;00m, exist_ok=exist_ok)\n\u001b[32m    728\u001b[39m \u001b[38;5;28;01mexcept\u001b[39;00m \u001b[38;5;167;01mOSError\u001b[39;00m:\n\u001b[32m    729\u001b[39m     \u001b[38;5;66;03m# Cannot rely on checking for EEXIST, since the operating system\u001b[39;00m\n\u001b[32m    730\u001b[39m     \u001b[38;5;66;03m# could give priority to other errors like EACCES or EROFS\u001b[39;00m\n",
      "\u001b[36mFile \u001b[39m\u001b[32m/opt/anaconda3/envs/mommy/lib/python3.13/pathlib/_local.py:726\u001b[39m, in \u001b[36mPath.mkdir\u001b[39m\u001b[34m(self, mode, parents, exist_ok)\u001b[39m\n\u001b[32m    724\u001b[39m     \u001b[38;5;28;01mif\u001b[39;00m \u001b[38;5;129;01mnot\u001b[39;00m parents \u001b[38;5;129;01mor\u001b[39;00m \u001b[38;5;28mself\u001b[39m.parent == \u001b[38;5;28mself\u001b[39m:\n\u001b[32m    725\u001b[39m         \u001b[38;5;28;01mraise\u001b[39;00m\n\u001b[32m--> \u001b[39m\u001b[32m726\u001b[39m     \u001b[38;5;28;43mself\u001b[39;49m\u001b[43m.\u001b[49m\u001b[43mparent\u001b[49m\u001b[43m.\u001b[49m\u001b[43mmkdir\u001b[49m\u001b[43m(\u001b[49m\u001b[43mparents\u001b[49m\u001b[43m=\u001b[49m\u001b[38;5;28;43;01mTrue\u001b[39;49;00m\u001b[43m,\u001b[49m\u001b[43m \u001b[49m\u001b[43mexist_ok\u001b[49m\u001b[43m=\u001b[49m\u001b[38;5;28;43;01mTrue\u001b[39;49;00m\u001b[43m)\u001b[49m\n\u001b[32m    727\u001b[39m     \u001b[38;5;28mself\u001b[39m.mkdir(mode, parents=\u001b[38;5;28;01mFalse\u001b[39;00m, exist_ok=exist_ok)\n\u001b[32m    728\u001b[39m \u001b[38;5;28;01mexcept\u001b[39;00m \u001b[38;5;167;01mOSError\u001b[39;00m:\n\u001b[32m    729\u001b[39m     \u001b[38;5;66;03m# Cannot rely on checking for EEXIST, since the operating system\u001b[39;00m\n\u001b[32m    730\u001b[39m     \u001b[38;5;66;03m# could give priority to other errors like EACCES or EROFS\u001b[39;00m\n",
      "\u001b[36mFile \u001b[39m\u001b[32m/opt/anaconda3/envs/mommy/lib/python3.13/pathlib/_local.py:722\u001b[39m, in \u001b[36mPath.mkdir\u001b[39m\u001b[34m(self, mode, parents, exist_ok)\u001b[39m\n\u001b[32m    718\u001b[39m \u001b[38;5;250m\u001b[39m\u001b[33;03m\"\"\"\u001b[39;00m\n\u001b[32m    719\u001b[39m \u001b[33;03mCreate a new directory at this given path.\u001b[39;00m\n\u001b[32m    720\u001b[39m \u001b[33;03m\"\"\"\u001b[39;00m\n\u001b[32m    721\u001b[39m \u001b[38;5;28;01mtry\u001b[39;00m:\n\u001b[32m--> \u001b[39m\u001b[32m722\u001b[39m     \u001b[43mos\u001b[49m\u001b[43m.\u001b[49m\u001b[43mmkdir\u001b[49m\u001b[43m(\u001b[49m\u001b[38;5;28;43mself\u001b[39;49m\u001b[43m,\u001b[49m\u001b[43m \u001b[49m\u001b[43mmode\u001b[49m\u001b[43m)\u001b[49m\n\u001b[32m    723\u001b[39m \u001b[38;5;28;01mexcept\u001b[39;00m \u001b[38;5;167;01mFileNotFoundError\u001b[39;00m:\n\u001b[32m    724\u001b[39m     \u001b[38;5;28;01mif\u001b[39;00m \u001b[38;5;129;01mnot\u001b[39;00m parents \u001b[38;5;129;01mor\u001b[39;00m \u001b[38;5;28mself\u001b[39m.parent == \u001b[38;5;28mself\u001b[39m:\n",
      "\u001b[31mKeyboardInterrupt\u001b[39m: "
     ]
    }
   ],
   "source": [
    "copernicusmarine.get(\n",
    "    dataset_id='cmems_mod_glo_phy_my_0.083deg_P1D-m',\n",
    "    force_download=True,\n",
    "    filter={\n",
    "        'date_filter': {\n",
    "            # Start date in ISO 8601 format (YYYY-MM-DD)\n",
    "            'start_date': '1992-01-01', \n",
    "            # End date in ISO 8601 format (YYYY-MM-DD)\n",
    "            'end_date': '2020-12-31'\n",
    "        },\n",
    "        'area_filter': {\n",
    "            # Longitude range: lon_min to lon_max (West to East)\n",
    "            'longitude_min': -100,\n",
    "            'longitude_max': -35,\n",
    "            # Latitude range: lat_min to lat_max (South to North)\n",
    "            'latitude_min': 0,\n",
    "            'latitude_max': 60\n",
    "        }\n",
    "    }\n",
    ")"
   ]
  },
  {
   "cell_type": "code",
   "execution_count": 23,
   "id": "e02b94dd",
   "metadata": {},
   "outputs": [],
   "source": [
    "import xarray as xr"
   ]
  },
  {
   "cell_type": "code",
   "execution_count": null,
   "id": "8b4fb3c0",
   "metadata": {},
   "outputs": [],
   "source": [
    "ds0=xr.open_dataset('../MOM6SIS2COBALT/datasets/nwa12_input/')"
   ]
  }
 ],
 "metadata": {
  "kernelspec": {
   "display_name": "mommy",
   "language": "python",
   "name": "python3"
  },
  "language_info": {
   "codemirror_mode": {
    "name": "ipython",
    "version": 3
   },
   "file_extension": ".py",
   "mimetype": "text/x-python",
   "name": "python",
   "nbconvert_exporter": "python",
   "pygments_lexer": "ipython3",
   "version": "3.13.2"
  }
 },
 "nbformat": 4,
 "nbformat_minor": 5
}
